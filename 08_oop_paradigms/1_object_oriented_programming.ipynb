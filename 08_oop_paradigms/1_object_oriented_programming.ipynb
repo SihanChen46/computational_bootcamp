{
 "cells": [
  {
   "cell_type": "markdown",
   "metadata": {
    "toc": true
   },
   "source": [
    "<h1>Table of Contents<span class=\"tocSkip\"></span></h1>\n",
    "<div class=\"toc\"><ul class=\"toc-item\"><li><span><a href=\"#Object-Oriented-Programming-(OOP)\" data-toc-modified-id=\"Object-Oriented-Programming-(OOP)-1\">Object-Oriented Programming (OOP)</a></span></li><li><span><a href=\"#OOP-Blueprint\" data-toc-modified-id=\"OOP-Blueprint-2\">OOP Blueprint</a></span></li><li><span><a href=\"#Learning-Outcomes\" data-toc-modified-id=\"Learning-Outcomes-3\">Learning Outcomes</a></span><ul class=\"toc-item\"><li><ul class=\"toc-item\"><li><span><a href=\"#By-the-end-of-this-session,-you-should-be-able-to:\" data-toc-modified-id=\"By-the-end-of-this-session,-you-should-be-able-to:-3.0.1\">By the end of this session, you should be able to:</a></span></li></ul></li></ul></li><li><span><a href=\"#Why-do-we-need-OOP?\" data-toc-modified-id=\"Why-do-we-need-OOP?-4\">Why do we need OOP?</a></span></li><li><span><a href=\"#You-have-already-been-doing-OOP\" data-toc-modified-id=\"You-have-already-been-doing-OOP-5\">You have already been doing OOP</a></span></li><li><span><a href=\"#Python-Class-Naming-Convention\" data-toc-modified-id=\"Python-Class-Naming-Convention-6\">Python Class Naming Convention</a></span></li><li><span><a href=\"#Using-existing-classes\" data-toc-modified-id=\"Using-existing-classes-7\">Using existing classes</a></span></li><li><span><a href=\"#A-class-is-“data-with-operations-attached&quot;\" data-toc-modified-id=\"A-class-is-“data-with-operations-attached&quot;-8\">A class is “data with operations attached\"</a></span></li><li><span><a href=\"#&quot;Everything*-in-Python-is-an-object&quot;\" data-toc-modified-id=\"&quot;Everything*-in-Python-is-an-object&quot;-9\">\"Everything<sup>*</sup> in Python is an object\"</a></span></li><li><span><a href=\"#Sources\" data-toc-modified-id=\"Sources-10\">Sources</a></span></li><li><span><a href=\"#Defining-a-custom-class\" data-toc-modified-id=\"Defining-a-custom-class-11\">Defining a custom class</a></span></li><li><span><a href=\"#Let's-make-a-Dog-class\" data-toc-modified-id=\"Let's-make-a-Dog-class-12\">Let's make a Dog class</a></span></li><li><span><a href=\"#Brian's-Approach-to-Programming\" data-toc-modified-id=\"Brian's-Approach-to-Programming-13\">Brian's Approach to Programming</a></span></li><li><span><a href=\"#Brian's-Approach-to-Programming\" data-toc-modified-id=\"Brian's-Approach-to-Programming-14\">Brian's Approach to Programming</a></span></li><li><span><a href=\"#Let's-model-a-Dog\" data-toc-modified-id=\"Let's-model-a-Dog-15\">Let's model a Dog</a></span></li><li><span><a href=\"#Ask\" data-toc-modified-id=\"Ask-16\">Ask</a></span></li><li><span><a href=\"#Understand\" data-toc-modified-id=\"Understand-17\">Understand</a></span></li><li><span><a href=\"#Plan\" data-toc-modified-id=\"Plan-18\">Plan</a></span></li><li><span><a href=\"#Instantiation\" data-toc-modified-id=\"Instantiation-19\">Instantiation</a></span></li><li><span><a href=\"#self\" data-toc-modified-id=\"self-20\"><code>self</code></a></span></li><li><span><a href=\"#Methods\" data-toc-modified-id=\"Methods-21\">Methods</a></span></li><li><span><a href=\"#Summary-thus-far\" data-toc-modified-id=\"Summary-thus-far-22\">Summary thus far</a></span></li><li><span><a href=\"#Why-do-we-need-dataclass?\" data-toc-modified-id=\"Why-do-we-need-dataclass?-23\">Why do we need <code>dataclass</code>?</a></span></li><li><span><a href=\"#What-the-heck-is-@dataclass?\" data-toc-modified-id=\"What-the-heck-is-@dataclass?-24\">What the heck is <code>@dataclass</code>?</a></span></li><li><span><a href=\"#Dataclassess-make-class-easier-to-write\" data-toc-modified-id=\"Dataclassess-make-class-easier-to-write-25\">Dataclassess make class easier to write</a></span></li><li><span><a href=\"#Data-classes-allow-for-more-human-readable-code\" data-toc-modified-id=\"Data-classes-allow-for-more-human-readable-code-26\">Data classes allow for more human-readable code</a></span></li><li><span><a href=\"#Dataclasses-aren't-restricted\" data-toc-modified-id=\"Dataclasses-aren't-restricted-27\">Dataclasses aren't restricted</a></span></li><li><span><a href=\"#Sources\" data-toc-modified-id=\"Sources-28\">Sources</a></span></li><li><span><a href=\"#How-many-responsibilities-should-a-class-have?\" data-toc-modified-id=\"How-many-responsibilities-should-a-class-have?-29\">How many responsibilities should a class have?</a></span></li><li><span><a href=\"#What-is-object-oriented-programming-(OOP)-best-for?\" data-toc-modified-id=\"What-is-object-oriented-programming-(OOP)-best-for?-30\">What is object-oriented programming (OOP) best for?</a></span></li><li><span><a href=\"#Limitations-of-OOP\" data-toc-modified-id=\"Limitations-of-OOP-31\">Limitations of OOP</a></span></li><li><span><a href=\"#Summary\" data-toc-modified-id=\"Summary-32\">Summary</a></span></li><li><span><a href=\"#Bonus-Material\" data-toc-modified-id=\"Bonus-Material-33\">Bonus Material</a></span></li><li><span><a href=\"#Further-Study\" data-toc-modified-id=\"Further-Study-34\">Further Study</a></span></li></ul></div>"
   ]
  },
  {
   "cell_type": "markdown",
   "metadata": {},
   "source": [
    "Object-Oriented Programming (OOP)\n",
    "-----\n",
    "\n"
   ]
  },
  {
   "cell_type": "markdown",
   "metadata": {},
   "source": [
    "<center><img src=\"images/cabin.png\" width=\"75%\"/></center>\n",
    "\n",
    "My family owns a cabin the mountains.\n",
    "\n",
    "It was built my father and grandfather from a kit. \n",
    "\n",
    "They got a template for a \"Cabin\" and makes specific example \"Truckee Cabin\"."
   ]
  },
  {
   "cell_type": "markdown",
   "metadata": {},
   "source": [
    "OOP Blueprint\n",
    "-----\n",
    "\n",
    "First, define a general category with nouns and verbs.\n",
    "\n",
    "Then, define many specific examples.\n"
   ]
  },
  {
   "cell_type": "markdown",
   "metadata": {},
   "source": [
    "<center><h2>Learning Outcomes</h2></center>\n",
    "\n",
    "#### By the end of this session, you should be able to:\n",
    "\n",
    "- Use classes already created for you.\n",
    "- Design and write simple classes, including data classes.\n",
    "- Define fundamental OOP concepts and terms.\n"
   ]
  },
  {
   "cell_type": "markdown",
   "metadata": {},
   "source": [
    "Why do we need OOP?\n",
    "----\n",
    "\n",
    "It is a common framework and language to build medium-scale software.\n",
    "\n",
    "It helps people reuse code. One person can create a class, many others can use that class.\n",
    "\n",
    "In particular, Data Scientists need to know the basics of OOP to use scikit-learn, the most common machine learning library in Python.\n"
   ]
  },
  {
   "cell_type": "markdown",
   "metadata": {},
   "source": [
    "You have already been doing OOP\n",
    "-----"
   ]
  },
  {
   "cell_type": "code",
   "execution_count": 39,
   "metadata": {},
   "outputs": [],
   "source": [
    "reset -fs"
   ]
  },
  {
   "cell_type": "code",
   "execution_count": 40,
   "metadata": {},
   "outputs": [],
   "source": [
    "from collections import Counter"
   ]
  },
  {
   "cell_type": "code",
   "execution_count": 41,
   "metadata": {},
   "outputs": [],
   "source": [
    "from pathlib import Path"
   ]
  },
  {
   "cell_type": "markdown",
   "metadata": {},
   "source": [
    "Python Class Naming Convention\n",
    "------\n",
    "\n",
    "Typically, Python class names will be in camel case 🐫.\n",
    "\n",
    "Camel case is where there are no spaces between words and the first letter of each word is upper case.\n",
    "\n",
    "```python\n",
    "from collections import Counter\n",
    "\n",
    "from sklearn.linear_model import LinearRegression\n",
    "\n",
    "from sklearn.linear_model import MultiTaskLasso\n",
    "```"
   ]
  },
  {
   "cell_type": "markdown",
   "metadata": {},
   "source": [
    "Using existing classes\n",
    "-----\n",
    "\n",
    "Most of the time when you'll be using existing classes, either Standard Library, 3rd party, or ones at an organization.\n",
    "\n",
    "You must create an instance, an instance is specific example of a general class."
   ]
  },
  {
   "cell_type": "code",
   "execution_count": 42,
   "metadata": {},
   "outputs": [
    {
     "data": {
      "text/plain": [
       "Counter()"
      ]
     },
     "execution_count": 42,
     "metadata": {},
     "output_type": "execute_result"
    }
   ],
   "source": [
    "c = Counter() # Counter is the class\n",
    "c             # c is the instance"
   ]
  },
  {
   "cell_type": "markdown",
   "metadata": {},
   "source": [
    "Often you'll pass in an arugment to the class"
   ]
  },
  {
   "cell_type": "code",
   "execution_count": 43,
   "metadata": {},
   "outputs": [
    {
     "data": {
      "text/plain": [
       "Counter({'L': 1, 'a': 2, 'm': 1, 'b': 1, 'd': 1})"
      ]
     },
     "execution_count": 43,
     "metadata": {},
     "output_type": "execute_result"
    }
   ],
   "source": [
    "counter_lambda = Counter('Lambda')\n",
    "counter_lambda"
   ]
  },
  {
   "cell_type": "code",
   "execution_count": 44,
   "metadata": {},
   "outputs": [
    {
     "data": {
      "text/plain": [
       "Counter({0: 1, 1: 1, 2: 1, 3: 1, 4: 1})"
      ]
     },
     "execution_count": 44,
     "metadata": {},
     "output_type": "execute_result"
    }
   ],
   "source": [
    "# In Python you can pass anything to anything (most of the time)\n",
    "counter_nums = Counter(range(5))\n",
    "counter_nums"
   ]
  },
  {
   "cell_type": "code",
   "execution_count": 45,
   "metadata": {},
   "outputs": [
    {
     "name": "stdout",
     "output_type": "stream",
     "text": [
      "Variable         Type       Data/Info\n",
      "-------------------------------------\n",
      "Counter          type       <class 'collections.Counter'>\n",
      "Path             type       <class 'pathlib.Path'>\n",
      "c                Counter    Counter()\n",
      "counter_lambda   Counter    Counter({'a': 2, 'L': 1, 'm': 1, 'b': 1, 'd': 1})\n",
      "counter_nums     Counter    Counter({0: 1, 1: 1, 2: 1, 3: 1, 4: 1})\n"
     ]
    }
   ],
   "source": [
    "whos"
   ]
  },
  {
   "cell_type": "markdown",
   "metadata": {},
   "source": [
    "A class is “data with operations attached\"\n",
    "-----\n",
    "\n",
    "In the abstract, a data structure is just data.  \n",
    "In the abstract, a function is just an operation. \n",
    "\n",
    "Try to just use data structures when there is only data.   \n",
    "Try to just use functions when there is only operations.\n",
    "\n",
    "Sometimes the problem (or someone) will force to have both data and operations then use a class."
   ]
  },
  {
   "cell_type": "markdown",
   "metadata": {},
   "source": [
    "\"Everything<sup>*</sup> in Python is an object\"\n",
    "-----\n",
    "\n",
    "Python is a little different there is no such thing as pure data structure. Everything is object so everything can have attributes and methods.\n",
    "\n",
    "> Different programming languages define “object” in different ways. \n",
    "\n",
    "> In some, it means that all objects must have attributes and methods; in others, it means that all objects are subclassable. \n",
    "\n",
    "> In Python, the definition is looser; some objects have neither attributes nor methods (more on this in Chapter 3), and not all objects are subclassable (more on this in Chapter 5). But everything is an object in the sense that it can be assigned to a variable or passed as an argument to a function (more in this in Chapter 4).\n",
    "\n",
    "\\* For example, `if` is not an object in Python"
   ]
  },
  {
   "cell_type": "markdown",
   "metadata": {},
   "source": [
    "Sources\n",
    "-----\n",
    "\n",
    "- http://www.ruby-lang.org/en/documentation/ruby-from-other-languages/to-ruby-from-python/\n",
    "- https://stackoverflow.com/questions/865911/is-everything-an-object-in-python-like-ruby\n"
   ]
  },
  {
   "cell_type": "markdown",
   "metadata": {},
   "source": [
    "Defining a custom class\n",
    "----\n",
    "\n",
    "Sometimes you'll want to make your own custom class.\n",
    "\n",
    "We could spend a week or two on the subject. I'm just giving you a jump start."
   ]
  },
  {
   "cell_type": "markdown",
   "metadata": {},
   "source": [
    "Let's make a Dog class\n",
    "----\n",
    "\n",
    "1. Apply problem solving method.\n",
    "1. Create a class.\n",
    "1. Define instances."
   ]
  },
  {
   "cell_type": "markdown",
   "metadata": {},
   "source": [
    "<center><h2>Brian's Approach to Programming</h2></center>\n",
    "\n",
    "\n",
    "1. Solve \n",
    "1. Understand\n",
    "1. Confirm\n",
    "1. Improve\n",
    "1. Ask\n",
    "1. Plan\n",
    "\n"
   ]
  },
  {
   "cell_type": "markdown",
   "metadata": {},
   "source": [
    "Oops! My steps got mixed-up. Take a moment to correctly re-order them."
   ]
  },
  {
   "cell_type": "markdown",
   "metadata": {},
   "source": [
    "<center><h2>Brian's Approach to Programming</h2></center>\n",
    "\n",
    "A-UPS-CI:\n",
    "\n",
    "1. Ask\n",
    "1. Understand\n",
    "1. Plan\n",
    "1. Solve \n",
    "1. Confirm\n",
    "1. Improve"
   ]
  },
  {
   "cell_type": "markdown",
   "metadata": {},
   "source": [
    "Let's model a Dog\n",
    "-----"
   ]
  },
  {
   "cell_type": "markdown",
   "metadata": {},
   "source": [
    "Ask\n",
    "-----\n",
    "\n",
    "What are the nouns?\n",
    "\n",
    "What are the verbs?"
   ]
  },
  {
   "cell_type": "markdown",
   "metadata": {},
   "source": [
    "Understand\n",
    "-----\n",
    "\n",
    "How much of a dog do we want to simulation?"
   ]
  },
  {
   "cell_type": "markdown",
   "metadata": {},
   "source": [
    "Plan\n",
    "-----\n",
    "\n",
    "\"Wishful\" programming - What would be nice to have (without worrying about implementation)?\n",
    "\n",
    "What kind of porcelain do we want?\n",
    "\n",
    "\n",
    "The nouns of the category become the attributes of the class.  \n",
    "The verbs of the category becomes the methods of the class. \n",
    "\n",
    "Give that Python is dynamic we don't need a complete plan."
   ]
  },
  {
   "cell_type": "code",
   "execution_count": 46,
   "metadata": {},
   "outputs": [],
   "source": [
    "class Dog:\n",
    "    \"Simulate a the best parts of a real canine.\"\n",
    "    \n",
    "    def __init__(self, name, breed, birth_year):\n",
    "        self.name = name # Most dogs have names\n",
    "        self.breed = breed # Most dogs are indentified by breed\n",
    "        self.birth_year = birth_year # Birth year is absolute; Age is relative; It is best practice to plan for your code to be around for little while. "
   ]
  },
  {
   "cell_type": "markdown",
   "metadata": {},
   "source": [
    "Instantiation\n",
    "----\n",
    "\n",
    "Instantiation is the process of creating instances from classes.\n",
    "\n",
    "`def __init__` is how that happens in Python.\n",
    "\n",
    "__init__ is short for initialize.\n",
    "\n",
    "`def __init__` is the __constructor__ that makes guarantees during initialization. Every instance of this class will have these attributes by default."
   ]
  },
  {
   "cell_type": "markdown",
   "metadata": {},
   "source": [
    "`self`\n",
    "------\n",
    "\n",
    "`self` refers to the specific instance (think of it as \"this particular one\")\n",
    "\n",
    "Use self.data to access class’s data member.\n",
    "\n",
    "`self` is kinda silly but I'll show you a trick later."
   ]
  },
  {
   "cell_type": "code",
   "execution_count": 47,
   "metadata": {},
   "outputs": [],
   "source": [
    "my_dog = Dog(name=\"Lambda\",\n",
    "            breed=\"Big Mutt\",\n",
    "            birth_year=2016)"
   ]
  },
  {
   "cell_type": "code",
   "execution_count": 48,
   "metadata": {},
   "outputs": [],
   "source": [
    "# my_dog.<tab>"
   ]
  },
  {
   "cell_type": "markdown",
   "metadata": {},
   "source": [
    "Let's teach the dog its first trick - speak"
   ]
  },
  {
   "cell_type": "code",
   "execution_count": 49,
   "metadata": {},
   "outputs": [],
   "source": [
    "class Dog:\n",
    "    \"Simulate a the best parts of a real canine.\"\n",
    "    \n",
    "    def __init__(self, name, breed, birth_year):\n",
    "        self.name = name\n",
    "        self.breed = breed\n",
    "        self.birth_year = birth_year\n",
    "        self.tricks = set()\n",
    "\n",
    "    def speak(self, n_times=1): \n",
    "        \"What does a dog say?\"\n",
    "        for _ in range(n_times):       \n",
    "            print(\"Whoof!\")"
   ]
  },
  {
   "cell_type": "markdown",
   "metadata": {},
   "source": [
    "Methods\n",
    "-----\n",
    "\n",
    "Methods look like a regular function with an extra argument `self`.\n",
    "\n",
    "`self` refers to the instance that the method is operating on.\n",
    "\n",
    "Otherwise, write like a regular function\n"
   ]
  },
  {
   "cell_type": "markdown",
   "metadata": {},
   "source": [
    "Let's teach the dog how to do a bunch of tricks."
   ]
  },
  {
   "cell_type": "code",
   "execution_count": 50,
   "metadata": {},
   "outputs": [],
   "source": [
    "from random import choice\n",
    "\n",
    "class Dog:\n",
    "    \"Simulate a the best parts of a real canine.\"\n",
    "    \n",
    "    def __init__(self, name, breed, birth_year):\n",
    "        self.name = name\n",
    "        self.breed = breed\n",
    "        self.birth_year = birth_year\n",
    "        self.tricks = set()\n",
    "\n",
    "    def speak(self, n_times=1): \n",
    "        \"What does a dog say?\"\n",
    "        for _ in range(n_times):       \n",
    "            print(\"Whoof!\")\n",
    "\n",
    "    def learn_trick(self, trick):\n",
    "        \"Easy to teach a digital dog new tricks.\"\n",
    "        self.tricks.add(trick)\n",
    "\n",
    "    def do_a_trick(self):\n",
    "        \"Pick something from repertoire.\"\n",
    "        return choice(tuple(self.tricks))"
   ]
  },
  {
   "cell_type": "code",
   "execution_count": 51,
   "metadata": {},
   "outputs": [],
   "source": [
    "my_dog = Dog(name='Lambda',\n",
    "            breed='big mutt',\n",
    "            birth_year='2016')"
   ]
  },
  {
   "cell_type": "code",
   "execution_count": 52,
   "metadata": {},
   "outputs": [
    {
     "name": "stdout",
     "output_type": "stream",
     "text": [
      "Help on Dog in module __main__ object:\n",
      "\n",
      "class Dog(builtins.object)\n",
      " |  Dog(name, breed, birth_year)\n",
      " |  \n",
      " |  Simulate a the best parts of a real canine.\n",
      " |  \n",
      " |  Methods defined here:\n",
      " |  \n",
      " |  __init__(self, name, breed, birth_year)\n",
      " |      Initialize self.  See help(type(self)) for accurate signature.\n",
      " |  \n",
      " |  do_a_trick(self)\n",
      " |      Pick something from repertoire.\n",
      " |  \n",
      " |  learn_trick(self, trick)\n",
      " |      Easy to teach a digital dog new tricks.\n",
      " |  \n",
      " |  speak(self, n_times=1)\n",
      " |      What does a dog say?\n",
      " |  \n",
      " |  ----------------------------------------------------------------------\n",
      " |  Data descriptors defined here:\n",
      " |  \n",
      " |  __dict__\n",
      " |      dictionary for instance variables (if defined)\n",
      " |  \n",
      " |  __weakref__\n",
      " |      list of weak references to the object (if defined)\n",
      "\n"
     ]
    }
   ],
   "source": [
    "help(my_dog)"
   ]
  },
  {
   "cell_type": "code",
   "execution_count": 53,
   "metadata": {},
   "outputs": [
    {
     "name": "stdout",
     "output_type": "stream",
     "text": [
      "Whoof!\n",
      "Whoof!\n",
      "Whoof!\n",
      "Whoof!\n",
      "Whoof!\n"
     ]
    }
   ],
   "source": [
    "# Speak for me\n",
    "my_dog.speak()\n",
    "my_dog.speak(n_times=4)"
   ]
  },
  {
   "cell_type": "code",
   "execution_count": 54,
   "metadata": {},
   "outputs": [],
   "source": [
    "# Learn tricks\n",
    "my_dog.learn_trick('sit')\n",
    "my_dog.learn_trick('down')\n",
    "my_dog.learn_trick('come')\n",
    "my_dog.learn_trick('roll over')\n",
    "my_dog.learn_trick('play dead')"
   ]
  },
  {
   "cell_type": "code",
   "execution_count": 55,
   "metadata": {},
   "outputs": [
    {
     "data": {
      "text/plain": [
       "{'come', 'down', 'play dead', 'roll over', 'sit'}"
      ]
     },
     "execution_count": 55,
     "metadata": {},
     "output_type": "execute_result"
    }
   ],
   "source": [
    "# What tricks are available?\n",
    "my_dog.tricks"
   ]
  },
  {
   "cell_type": "code",
   "execution_count": 56,
   "metadata": {},
   "outputs": [
    {
     "data": {
      "text/plain": [
       "'play dead'"
      ]
     },
     "execution_count": 56,
     "metadata": {},
     "output_type": "execute_result"
    }
   ],
   "source": [
    "# Do a trick\n",
    "my_dog.do_a_trick()"
   ]
  },
  {
   "cell_type": "markdown",
   "metadata": {},
   "source": [
    "Summary thus far\n",
    "-----\n",
    "\n",
    "- Classes are collections of related nouns (attributes) and verbs (methods).\n",
    "- Class names should be categories.\n",
    "- Specific examples of the categories are instances.\n"
   ]
  },
  {
   "cell_type": "markdown",
   "metadata": {},
   "source": [
    "Why do we need `dataclass`?\n",
    "-----\n",
    "\n",
    "Modeling data with a dictionary is limiting:"
   ]
  },
  {
   "cell_type": "code",
   "execution_count": 57,
   "metadata": {},
   "outputs": [
    {
     "data": {
      "text/plain": [
       "'slinky'"
      ]
     },
     "execution_count": 57,
     "metadata": {},
     "output_type": "execute_result"
    }
   ],
   "source": [
    "item_dict = dict(name='slinky',\n",
    "                 price=8.99,\n",
    "                 quantity=10)\n",
    "item_dict['name']"
   ]
  },
  {
   "cell_type": "code",
   "execution_count": 58,
   "metadata": {},
   "outputs": [],
   "source": [
    "# dicts do not allow for . (dot) access\n",
    "# item_dict.name"
   ]
  },
  {
   "cell_type": "markdown",
   "metadata": {},
   "source": [
    "Dataclasses allows us to model data more elegantly"
   ]
  },
  {
   "cell_type": "code",
   "execution_count": 59,
   "metadata": {},
   "outputs": [],
   "source": [
    "from dataclasses import dataclass"
   ]
  },
  {
   "cell_type": "code",
   "execution_count": 60,
   "metadata": {},
   "outputs": [],
   "source": [
    "@dataclass\n",
    "class InventoryItem:\n",
    "    \"Class for keeping track of an item in inventory.\"\n",
    "    name: str\n",
    "    price: float\n",
    "    quantity: int = 0"
   ]
  },
  {
   "cell_type": "markdown",
   "metadata": {},
   "source": [
    "What the heck is `@dataclass`?\n",
    "----\n",
    "\n",
    "`@` symbol on a function or class is a called decorator.\n",
    "\n",
    "You can think of decorator like a hat that gives the function or class super powers.\n",
    "\n",
    "We might discuss decorators in more detail later."
   ]
  },
  {
   "cell_type": "markdown",
   "metadata": {},
   "source": [
    "Dataclassess make class easier to write\n",
    "--------\n",
    "\n",
    "Dataclasses reduces boilerplate code, boilerplate code is code that you have to write but does add unique value.\n",
    "\n",
    "You don't need to write out explicit `self` on every line and you don't need `__int__…`."
   ]
  },
  {
   "cell_type": "code",
   "execution_count": 61,
   "metadata": {},
   "outputs": [],
   "source": [
    "# Create an instance\n",
    "item = InventoryItem(name='slinky',\n",
    "                     price=8.99,\n",
    "                     quantity=10)"
   ]
  },
  {
   "cell_type": "markdown",
   "metadata": {},
   "source": [
    "Data classes allow for more human-readable code\n",
    "-----"
   ]
  },
  {
   "cell_type": "code",
   "execution_count": 62,
   "metadata": {},
   "outputs": [
    {
     "data": {
      "text/plain": [
       "'slinky'"
      ]
     },
     "execution_count": 62,
     "metadata": {},
     "output_type": "execute_result"
    }
   ],
   "source": [
    "# Data classes allow for . (dot) access\n",
    "item.name"
   ]
  },
  {
   "cell_type": "code",
   "execution_count": 63,
   "metadata": {},
   "outputs": [
    {
     "data": {
      "text/plain": [
       "'SLINKY'"
      ]
     },
     "execution_count": 63,
     "metadata": {},
     "output_type": "execute_result"
    }
   ],
   "source": [
    "# Thus fluent interface with custom classes\n",
    "item.name.upper()"
   ]
  },
  {
   "cell_type": "markdown",
   "metadata": {},
   "source": [
    "Dataclasses aren't restricted\n",
    "-------\n",
    "\n",
    "You can add methods."
   ]
  },
  {
   "cell_type": "code",
   "execution_count": 70,
   "metadata": {},
   "outputs": [],
   "source": [
    "@dataclass\n",
    "class InventoryItem:\n",
    "    \"Class for keeping track of an item in inventory.\"\n",
    "    name: str\n",
    "    price: float\n",
    "    quantity: int = 0\n",
    "\n",
    "    def total_cost(self) -> float:\n",
    "        return self.price * self.quantity"
   ]
  },
  {
   "cell_type": "code",
   "execution_count": 71,
   "metadata": {},
   "outputs": [
    {
     "data": {
      "text/plain": [
       "89.9"
      ]
     },
     "execution_count": 71,
     "metadata": {},
     "output_type": "execute_result"
    }
   ],
   "source": [
    "item = InventoryItem(name='slinky',\n",
    "                    price=8.99,\n",
    "                    quantity=10)\n",
    "item.total_cost()"
   ]
  },
  {
   "cell_type": "markdown",
   "metadata": {},
   "source": [
    "I love data classes (like I love f strings) and use them everywhere."
   ]
  },
  {
   "cell_type": "markdown",
   "metadata": {},
   "source": [
    "Sources\n",
    "----\n",
    "\n",
    "- [Python docs](https://docs.python.org/3/library/dataclasses.html)\n",
    "- [Real Python](https://realpython.com/python-data-classes/)"
   ]
  },
  {
   "cell_type": "markdown",
   "metadata": {},
   "source": [
    "How many responsibilities should a class have?\n",
    "-----\n",
    "\n",
    "Only a single one.\n",
    "\n",
    "Don't make a `OpenFetchWriteData` class. That might seem simple now. But your future-self will hate you.\n",
    "\n",
    "```python\n",
    "class ConnectDatabase …\n",
    "\n",
    "class FetchData …\n",
    "\n",
    "class WriteData …\n",
    "````\n",
    "\n",
    "It is called \"ball of mud\" programming when classes do too much."
   ]
  },
  {
   "cell_type": "markdown",
   "metadata": {},
   "source": [
    "What is object-oriented programming (OOP) best for?\n",
    "------\n",
    "\n",
    "A large number of related data abstractions organized in a hierarchy.\n",
    "\n",
    "For example, types of animals in a zoo or employees in company.\n",
    "\n",
    "Then you define a base case and inherit from it.\n",
    "\n",
    "For example, scikit-learn defines common attributes of all algorithms then each type of algorithm is a variation on that."
   ]
  },
  {
   "cell_type": "markdown",
   "metadata": {},
   "source": [
    "Limitations of OOP\n",
    "-----\n",
    "\n",
    "1. Too soon - Simple code should be simple, just data structures and functions.\n",
    "1. Too much - don't use OOP to build a skyscraper (there is a thing called microservices)"
   ]
  },
  {
   "cell_type": "markdown",
   "metadata": {},
   "source": [
    "Summary\n",
    "----\n",
    "\n",
    "- OO programming paradigm works well when we want to model and simulate the to the real world with a computer. \n",
    "- Create specific instances of general classes.\n",
    "- Define classes with `__init___`.\n",
    "- Don't forgot to add `self` to everything in a class.\n",
    "- Dataclasses remove some of the boilerplate of Python classes."
   ]
  },
  {
   "cell_type": "markdown",
   "metadata": {},
   "source": [
    " "
   ]
  },
  {
   "cell_type": "markdown",
   "metadata": {},
   "source": [
    "Bonus Material\n",
    "----"
   ]
  },
  {
   "cell_type": "markdown",
   "metadata": {},
   "source": [
    "We can bundle functions into methods to switch from functional sandwich to fluent interface."
   ]
  },
  {
   "cell_type": "code",
   "execution_count": 64,
   "metadata": {},
   "outputs": [
    {
     "data": {
      "text/plain": [
       "3"
      ]
     },
     "execution_count": 64,
     "metadata": {},
     "output_type": "execute_result"
    }
   ],
   "source": [
    "class CustomList(list): # Inherit from list. Do everything that a regular list does.\n",
    "\n",
    "    def len(self): # Note: I should name this len because it is always inside of the instance, not in global namespace\n",
    "        \"Wrapper for `len` built-in.\"\n",
    "        return len(self)\n",
    "    \n",
    "nums = CustomList([1, 2, 3])\n",
    "nums.len()"
   ]
  },
  {
   "cell_type": "code",
   "execution_count": 65,
   "metadata": {},
   "outputs": [
    {
     "name": "stdout",
     "output_type": "stream",
     "text": [
      "Help on built-in function len in module builtins:\n",
      "\n",
      "len(obj, /)\n",
      "    Return the number of items in a container.\n",
      "\n"
     ]
    }
   ],
   "source": [
    "help(len)"
   ]
  },
  {
   "cell_type": "code",
   "execution_count": 66,
   "metadata": {},
   "outputs": [
    {
     "name": "stdout",
     "output_type": "stream",
     "text": [
      "Help on method len in module __main__:\n",
      "\n",
      "len() method of __main__.CustomList instance\n",
      "    Wrapper for `len` built-in.\n",
      "\n"
     ]
    }
   ],
   "source": [
    "help(nums.len)"
   ]
  },
  {
   "cell_type": "markdown",
   "metadata": {},
   "source": [
    "Further Study\n",
    "------\n",
    "\n",
    "- [OOP from PyCon](https://www.youtube.com/watch?v=mUu_4k6a5-I)                                              \n",
    "- https://stackabuse.com/object-oriented-programming-in-python/\n",
    "- https://towardsdatascience.com/a-data-scientist-should-know-at-least-this-much-python-oop-d63f37eaac4d\n"
   ]
  },
  {
   "cell_type": "markdown",
   "metadata": {},
   "source": [
    " "
   ]
  }
 ],
 "metadata": {
  "kernelspec": {
   "display_name": "Python 3",
   "language": "python",
   "name": "python3"
  },
  "language_info": {
   "codemirror_mode": {
    "name": "ipython",
    "version": 3
   },
   "file_extension": ".py",
   "mimetype": "text/x-python",
   "name": "python",
   "nbconvert_exporter": "python",
   "pygments_lexer": "ipython3",
   "version": "3.7.3"
  },
  "toc": {
   "base_numbering": 1,
   "nav_menu": {},
   "number_sections": false,
   "sideBar": false,
   "skip_h1_title": false,
   "title_cell": "Table of Contents",
   "title_sidebar": "Contents",
   "toc_cell": true,
   "toc_position": {},
   "toc_section_display": true,
   "toc_window_display": false
  }
 },
 "nbformat": 4,
 "nbformat_minor": 2
}
