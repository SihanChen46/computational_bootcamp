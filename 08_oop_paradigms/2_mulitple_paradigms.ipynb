{
 "cells": [
  {
   "cell_type": "markdown",
   "metadata": {
    "toc": true
   },
   "source": [
    "<h1>Table of Contents<span class=\"tocSkip\"></span></h1>\n",
    "<div class=\"toc\"><ul class=\"toc-item\"><li><span><a href=\"#Learning-Outcomes\" data-toc-modified-id=\"Learning-Outcomes-1\">Learning Outcomes</a></span><ul class=\"toc-item\"><li><ul class=\"toc-item\"><li><span><a href=\"#By-the-end-of-this-session,-you-should-be-able-to:\" data-toc-modified-id=\"By-the-end-of-this-session,-you-should-be-able-to:-1.0.1\">By the end of this session, you should be able to:</a></span></li></ul></li></ul></li><li><span><a href=\"#Python’s-flexibility-FTW\" data-toc-modified-id=\"Python’s-flexibility-FTW-2\">Python’s flexibility FTW</a></span></li><li><span><a href=\"#What-are-different-programming-ways-to-a-calculate-factorial?\" data-toc-modified-id=\"What-are-different-programming-ways-to-a-calculate-factorial?-3\">What are different programming ways to a calculate factorial?</a></span></li><li><span><a href=\"#Student-Activity:-Factorial-Function-Many-Ways\" data-toc-modified-id=\"Student-Activity:-Factorial-Function-Many-Ways-4\">Student Activity: Factorial Function Many Ways</a></span></li><li><span><a href=\"#Functional\" data-toc-modified-id=\"Functional-5\">Functional</a></span></li><li><span><a href=\"#Sidebar---Brian-really-likes-functional-programming\" data-toc-modified-id=\"Sidebar---Brian-really-likes-functional-programming-6\">Sidebar - Brian really likes functional programming</a></span></li><li><span><a href=\"#What-is-map-and-reduce?\" data-toc-modified-id=\"What-is-map-and-reduce?-7\">What is map and reduce?</a></span></li><li><span><a href=\"#What-are-the-different-programming-ways-to-a-sum-list?\" data-toc-modified-id=\"What-are-the-different-programming-ways-to-a-sum-list?-8\">What are the different programming ways to a sum list?</a></span></li><li><span><a href=\"#Imperative-/-Procedural-Programming\" data-toc-modified-id=\"Imperative-/-Procedural-Programming-9\">Imperative / Procedural Programming</a></span></li><li><span><a href=\"#What's-The-Difference-Between-Imperative-and-Procedural-Programming?\" data-toc-modified-id=\"What's-The-Difference-Between-Imperative-and-Procedural-Programming?-10\">What's The Difference Between Imperative and Procedural Programming?</a></span></li><li><span><a href=\"#Check-for-understanding\" data-toc-modified-id=\"Check-for-understanding-11\">Check for understanding</a></span></li><li><span><a href=\"#Student-Activity:-Sum-a-list-Function-Many-Ways\" data-toc-modified-id=\"Student-Activity:-Sum-a-list-Function-Many-Ways-12\">Student Activity: Sum-a-list Function Many Ways</a></span></li><li><span><a href=\"#Benchmarking-different-paradigms\" data-toc-modified-id=\"Benchmarking-different-paradigms-13\">Benchmarking different paradigms</a></span></li><li><span><a href=\"#Benchmarking-vs-Big-O\" data-toc-modified-id=\"Benchmarking-vs-Big-O-14\">Benchmarking vs Big O</a></span></li><li><span><a href=\"#Try-not-to-mix-match-styles\" data-toc-modified-id=\"Try-not-to-mix-match-styles-15\">Try not to mix-match styles</a></span></li><li><span><a href=\"#Object-oriented-can-be-considered-to-be-paradigm\" data-toc-modified-id=\"Object-oriented-can-be-considered-to-be-paradigm-16\">Object oriented can be considered to be paradigm</a></span></li><li><span><a href=\"#Summary---Overall\" data-toc-modified-id=\"Summary---Overall-17\">Summary - Overall</a></span></li><li><span><a href=\"#Summary---For-each-paradigm\" data-toc-modified-id=\"Summary---For-each-paradigm-18\">Summary - For each paradigm</a></span></li><li><span><a href=\"#Bonus-Material\" data-toc-modified-id=\"Bonus-Material-19\">Bonus Material</a></span></li><li><span><a href=\"#Pure-vs-inpure-functions\" data-toc-modified-id=\"Pure-vs-inpure-functions-20\">Pure vs inpure functions</a></span></li><li><span><a href=\"#Repetition-Is-the-Mother-of-Skill\" data-toc-modified-id=\"Repetition-Is-the-Mother-of-Skill-21\">Repetition Is the Mother of Skill</a></span></li><li><span><a href=\"#Scientific-Notion-of-Paradigms\" data-toc-modified-id=\"Scientific-Notion-of-Paradigms-22\">Scientific Notion of Paradigms</a></span></li><li><span><a href=\"#IMHO---It-is-better-to-be-a-generalist,-than-a-specialist\" data-toc-modified-id=\"IMHO---It-is-better-to-be-a-generalist,-than-a-specialist-23\">IMHO - It is better to be a generalist, than a specialist</a></span></li><li><span><a href=\"#filter-for-functional-programming\" data-toc-modified-id=\"filter-for-functional-programming-24\"><code>filter</code> for functional programming</a></span></li><li><span><a href=\"#Other-paradigms\" data-toc-modified-id=\"Other-paradigms-25\">Other paradigms</a></span></li></ul></div>"
   ]
  },
  {
   "cell_type": "markdown",
   "metadata": {},
   "source": [
    "<center><img src=\"https://www.azquotes.com/picture-quotes/quote-it-is-better-to-solve-one-problem-five-different-ways-than-to-solve-five-problems-one-george-polya-73-99-49.jpg\" width=\"75%\"/></center>"
   ]
  },
  {
   "cell_type": "markdown",
   "metadata": {},
   "source": [
    "> It is better to solve one problem five different ways, than to solve five problems one way.\n",
    "> — George Polya"
   ]
  },
  {
   "cell_type": "markdown",
   "metadata": {},
   "source": [
    "<center><h2>Learning Outcomes</h2></center>\n",
    "\n",
    "#### By the end of this session, you should be able to:\n",
    "\n",
    "- Explain your own words the most common programming paradigms.\n",
    "- Implement the follow code in each of the paradigms:\n",
    "    - Factorial\n",
    "    - Sum list"
   ]
  },
  {
   "cell_type": "markdown",
   "metadata": {},
   "source": [
    "Python’s flexibility FTW\n",
    "-----\n",
    "\n",
    "Flexibility is one of Python's many advantages. Many different programming paradigms can be used within Python."
   ]
  },
  {
   "cell_type": "markdown",
   "metadata": {},
   "source": [
    "What are different programming ways to a calculate factorial?\n",
    "-----\n",
    "\n",
    "- Built-in\n",
    "- Procedural\n",
    "    - for\n",
    "    - while\n",
    "- Recursive\n",
    "- Functional"
   ]
  },
  {
   "cell_type": "markdown",
   "metadata": {},
   "source": [
    "Student Activity: Factorial Function Many Ways\n",
    "------\n",
    "\n",
    "Write a factorial function the following ways:\n",
    "\n",
    "1. Built-in\n",
    "2. Procedural\n",
    "    1. for\n",
    "    1. while\n",
    "1. Recursive\n",
    "\n",
    "Do not look at any notes or the Internet.\n",
    "\n",
    "We'll program in the functional style together."
   ]
  },
  {
   "cell_type": "code",
   "execution_count": 3,
   "metadata": {},
   "outputs": [],
   "source": [
    "reset -fs"
   ]
  },
  {
   "cell_type": "code",
   "execution_count": 4,
   "metadata": {},
   "outputs": [],
   "source": [
    "# Built-in\n",
    "from math import factorial"
   ]
  },
  {
   "cell_type": "code",
   "execution_count": 5,
   "metadata": {},
   "outputs": [],
   "source": [
    "# Procedural with for loop\n",
    "def factorial_for(n):\n",
    "    answer = 1\n",
    "    for n_iter in range(1, n+1):\n",
    "        answer *= n_iter\n",
    "    return answer"
   ]
  },
  {
   "cell_type": "code",
   "execution_count": 6,
   "metadata": {},
   "outputs": [],
   "source": [
    "# Procedural with while loop\n",
    "def factorial_while(n):\n",
    "    answer = 1\n",
    "    while n > 0:\n",
    "        answer *= n   \n",
    "        n -= 1                         \n",
    "    return answer "
   ]
  },
  {
   "cell_type": "code",
   "execution_count": 7,
   "metadata": {},
   "outputs": [],
   "source": [
    "# Recursive\n",
    "def factorial_recurse(n):\n",
    "    if n == 0:\n",
    "        return 1\n",
    "    else:\n",
    "        return  n * factorial_recurse(n - 1)"
   ]
  },
  {
   "cell_type": "code",
   "execution_count": 8,
   "metadata": {},
   "outputs": [
    {
     "data": {
      "text/plain": [
       "120"
      ]
     },
     "execution_count": 8,
     "metadata": {},
     "output_type": "execute_result"
    }
   ],
   "source": [
    "# Functional\n",
    "from functools import reduce\n",
    "from operator import mul\n",
    "\n",
    "def factorial_functional(n):\n",
    "    return reduce(mul, range(1, n+1))\n",
    "\n",
    "factorial_functional(5)"
   ]
  },
  {
   "cell_type": "code",
   "execution_count": 9,
   "metadata": {},
   "outputs": [],
   "source": [
    "# They are all semantically correct\n",
    "n = 5\n",
    "\n",
    "assert (120 == \n",
    "        factorial(n) == \n",
    "        factorial_for(n) == \n",
    "        factorial_while(n) == \n",
    "        factorial_recurse(n) ==\n",
    "        factorial_functional(n)\n",
    "        )\n",
    "        "
   ]
  },
  {
   "cell_type": "markdown",
   "metadata": {},
   "source": [
    "Functional\n",
    "-------\n",
    "\n",
    "Everything is function with inputs and outputs.\n",
    "\n",
    "Any forms of state or mutable data are avoided.\n",
    "\n",
    "Functional programming lends itself well to parallel processing because there is no state to consider. \n",
    "\n",
    "Python supports only parts of functional programming\n",
    "\n",
    "Haskell is a programming language that is a __pure__ functional programming implementation."
   ]
  },
  {
   "cell_type": "markdown",
   "metadata": {},
   "source": [
    "[Source](https://blog.newrelic.com/engineering/python-programming-styles/)"
   ]
  },
  {
   "cell_type": "markdown",
   "metadata": {},
   "source": [
    "Sidebar - Brian really likes functional programming\n",
    "-----\n",
    "\n",
    "If you want to learn functional programming, below is a map to help guide you learning it.\n",
    "\n",
    "http://lambdaconf.us/downloads/documents/lambdaconf_slfp.pdf"
   ]
  },
  {
   "cell_type": "markdown",
   "metadata": {},
   "source": [
    "What is map and reduce?\n",
    "----\n",
    "\n",
    "Map and reduce are core concepts in functional programming. \n",
    "\n",
    "Hadoop is a map-reduce paradigm, that tricked a bunch of Java programmers into become functional programmers. \n",
    "\n",
    "- `map` - Applies function to each element in a sequence\n",
    "- `reduce` - Reduces a sequence to a single value by creating a accumulator that is applied left-to-right."
   ]
  },
  {
   "cell_type": "code",
   "execution_count": 10,
   "metadata": {},
   "outputs": [
    {
     "data": {
      "text/plain": [
       "<map at 0x107209320>"
      ]
     },
     "execution_count": 10,
     "metadata": {},
     "output_type": "execute_result"
    }
   ],
   "source": [
    "# A plan to to do compute\n",
    "map(int, ['1', '2', '3'])"
   ]
  },
  {
   "cell_type": "code",
   "execution_count": 11,
   "metadata": {},
   "outputs": [
    {
     "data": {
      "text/plain": [
       "[1, 2, 3]"
      ]
     },
     "execution_count": 11,
     "metadata": {},
     "output_type": "execute_result"
    }
   ],
   "source": [
    "# Running the plan to create a result\n",
    "list(map(int, ['1', '2', '3']))"
   ]
  },
  {
   "cell_type": "code",
   "execution_count": 12,
   "metadata": {},
   "outputs": [
    {
     "data": {
      "text/plain": [
       "['a', 'b', 'c']"
      ]
     },
     "execution_count": 12,
     "metadata": {},
     "output_type": "execute_result"
    }
   ],
   "source": [
    "# Apply a method to a sequence\n",
    "list(map(str.lower, [\"A\",\"B\",\"C\"]))"
   ]
  },
  {
   "cell_type": "markdown",
   "metadata": {
    "slideshow": {
     "slide_type": "slide"
    }
   },
   "source": [
    "What are the different programming ways to a sum list?\n",
    "------\n",
    "\n",
    "- Built-in\n",
    "- 3rd party\n",
    "- Procedural / Imperative\n",
    "    - for\n",
    "    - while\n",
    "- Recursive\n",
    "- Functional"
   ]
  },
  {
   "cell_type": "markdown",
   "metadata": {},
   "source": [
    "Imperative / Procedural Programming\n",
    "-----\n",
    "\n",
    "Imperative programming paradigm that describes computation in terms of statements that change a program state.\n",
    "\n",
    "The focus is on what explicit steps the computer should take. \n",
    "\n",
    "Imperative programming is the workhorse of programming, it gets the job done.\n",
    "\n",
    "Common in: C, C++, Java, COBOL"
   ]
  },
  {
   "cell_type": "markdown",
   "metadata": {},
   "source": [
    "What's The Difference Between Imperative and Procedural Programming?\n",
    "-----\n",
    "\n",
    "For us, there is no meaning difference.\n",
    "\n",
    "If you want to geek out about programming language design, then start [here](https://softwareengineering.stackexchange.com/questions/117092/whats-the-difference-between-imperative-procedural-and-structured-programming)."
   ]
  },
  {
   "cell_type": "markdown",
   "metadata": {},
   "source": [
    "Check for understanding\n",
    "-----\n",
    "\n",
    "What is the difference between Imperative / Procedural is vs Functional?\n",
    "\n",
    "Imperative / Procedural is lower-level code that lists each explicit step in order. The focus is how it is done.\n",
    "\n",
    "Functional is higher-level code that declares what should be true and delegates the implementation to functions. The focus is what is to be done."
   ]
  },
  {
   "cell_type": "markdown",
   "metadata": {},
   "source": [
    "Student Activity: Sum-a-list Function Many Ways\n",
    "-----\n",
    "\n",
    "Write a sum a list function the following ways:\n",
    "\n",
    "- Built-in\n",
    "- 3rd party\n",
    "- Procedural\n",
    "    - for\n",
    "    - while\n",
    "- Recursive\n",
    "- Functional\n",
    "\n",
    "Do not look at any notes or the Internet."
   ]
  },
  {
   "cell_type": "code",
   "execution_count": 13,
   "metadata": {},
   "outputs": [],
   "source": [
    "nums = [1, 2, 3, 4]"
   ]
  },
  {
   "cell_type": "code",
   "execution_count": 14,
   "metadata": {},
   "outputs": [
    {
     "data": {
      "text/plain": [
       "10"
      ]
     },
     "execution_count": 14,
     "metadata": {},
     "output_type": "execute_result"
    }
   ],
   "source": [
    "# Built-in\n",
    "sum(nums)"
   ]
  },
  {
   "cell_type": "code",
   "execution_count": 15,
   "metadata": {},
   "outputs": [
    {
     "data": {
      "text/plain": [
       "10"
      ]
     },
     "execution_count": 15,
     "metadata": {},
     "output_type": "execute_result"
    }
   ],
   "source": [
    "# 3rd party\n",
    "import numpy as np\n",
    "\n",
    "np.sum(nums)"
   ]
  },
  {
   "cell_type": "code",
   "execution_count": 16,
   "metadata": {
    "slideshow": {
     "slide_type": "fragment"
    }
   },
   "outputs": [
    {
     "data": {
      "text/plain": [
       "10"
      ]
     },
     "execution_count": 16,
     "metadata": {},
     "output_type": "execute_result"
    }
   ],
   "source": [
    "# Procedural with for loop\n",
    "def sum_for(nums):\n",
    "    total = 0\n",
    "    for n in nums:\n",
    "        total += n\n",
    "    return total\n",
    "\n",
    "sum_for(nums)"
   ]
  },
  {
   "cell_type": "code",
   "execution_count": 17,
   "metadata": {},
   "outputs": [
    {
     "data": {
      "text/plain": [
       "10"
      ]
     },
     "execution_count": 17,
     "metadata": {},
     "output_type": "execute_result"
    }
   ],
   "source": [
    "# Procedural with while loop\n",
    "def sum_while(nums):\n",
    "    nums_copy = nums[:]\n",
    "    total = 0\n",
    "    while len(nums_copy):\n",
    "        total += nums_copy.pop()\n",
    "    return total\n",
    "\n",
    "sum_while(nums)"
   ]
  },
  {
   "cell_type": "code",
   "execution_count": 18,
   "metadata": {
    "slideshow": {
     "slide_type": "slide"
    }
   },
   "outputs": [
    {
     "data": {
      "text/plain": [
       "10"
      ]
     },
     "execution_count": 18,
     "metadata": {},
     "output_type": "execute_result"
    }
   ],
   "source": [
    "# Recursive\n",
    "def sum_recursive(nums):\n",
    "    if len(nums) == 1:\n",
    "        return nums[0]\n",
    "    else:\n",
    "        return nums[0] + sum_recursive(nums[1:]) \n",
    "\n",
    "sum_recursive(nums)"
   ]
  },
  {
   "cell_type": "code",
   "execution_count": 19,
   "metadata": {},
   "outputs": [
    {
     "data": {
      "text/plain": [
       "10"
      ]
     },
     "execution_count": 19,
     "metadata": {},
     "output_type": "execute_result"
    }
   ],
   "source": [
    "# Functional\n",
    "from functools import reduce\n",
    "from operator import add\n",
    "\n",
    "def sum_functional(nums):\n",
    "    return reduce(add, nums)\n",
    "\n",
    "sum_functional([1, 2, 3, 4])"
   ]
  },
  {
   "cell_type": "code",
   "execution_count": 20,
   "metadata": {
    "slideshow": {
     "slide_type": "slide"
    }
   },
   "outputs": [],
   "source": [
    "# They are all semantically correct for integers\n",
    "nums = [1, 2, 3, 4]\n",
    "assert (10 == \n",
    "        sum(nums) == \n",
    "        np.sum(nums) == \n",
    "        sum_for(nums) ==\n",
    "        sum_while(nums) ==  \n",
    "        sum_recursive(nums) ==\n",
    "        sum_functional(nums)\n",
    "        )"
   ]
  },
  {
   "cell_type": "markdown",
   "metadata": {
    "slideshow": {
     "slide_type": "slide"
    }
   },
   "source": [
    "Benchmarking different paradigms\n",
    "-------\n",
    "\n",
    "How do they stack up for speed?\n",
    "\n",
    "Take a moment to rank them. Write down your predictions."
   ]
  },
  {
   "cell_type": "code",
   "execution_count": 21,
   "metadata": {
    "slideshow": {
     "slide_type": "fragment"
    }
   },
   "outputs": [],
   "source": [
    "from random import random\n",
    "nums = [random() for _ in range(1_000_000)]"
   ]
  },
  {
   "cell_type": "code",
   "execution_count": 22,
   "metadata": {
    "slideshow": {
     "slide_type": "fragment"
    }
   },
   "outputs": [
    {
     "name": "stdout",
     "output_type": "stream",
     "text": [
      "7.23 ms ± 1.07 ms per loop (mean ± std. dev. of 7 runs, 10 loops each)\n"
     ]
    }
   ],
   "source": [
    "%timeit -n 10 sum(nums)"
   ]
  },
  {
   "cell_type": "code",
   "execution_count": 23,
   "metadata": {
    "slideshow": {
     "slide_type": "fragment"
    }
   },
   "outputs": [
    {
     "name": "stdout",
     "output_type": "stream",
     "text": [
      "41.8 ms ± 1.55 ms per loop (mean ± std. dev. of 7 runs, 10 loops each)\n"
     ]
    }
   ],
   "source": [
    "%timeit -n 10 np.sum(nums)"
   ]
  },
  {
   "cell_type": "code",
   "execution_count": 24,
   "metadata": {},
   "outputs": [],
   "source": [
    "# When using numpy use numpy types\n",
    "nums_array = np.array(nums)"
   ]
  },
  {
   "cell_type": "code",
   "execution_count": 25,
   "metadata": {},
   "outputs": [
    {
     "name": "stdout",
     "output_type": "stream",
     "text": [
      "971 µs ± 248 µs per loop (mean ± std. dev. of 7 runs, 10 loops each)\n"
     ]
    }
   ],
   "source": [
    "%timeit -n 10 np.sum(nums_array)\n"
   ]
  },
  {
   "cell_type": "code",
   "execution_count": 26,
   "metadata": {
    "slideshow": {
     "slide_type": "fragment"
    }
   },
   "outputs": [
    {
     "name": "stdout",
     "output_type": "stream",
     "text": [
      "34.1 ms ± 1.8 ms per loop (mean ± std. dev. of 7 runs, 10 loops each)\n"
     ]
    }
   ],
   "source": [
    "%timeit -n 10 sum_for(nums)"
   ]
  },
  {
   "cell_type": "code",
   "execution_count": 27,
   "metadata": {},
   "outputs": [
    {
     "name": "stdout",
     "output_type": "stream",
     "text": [
      "170 ms ± 3.49 ms per loop (mean ± std. dev. of 7 runs, 10 loops each)\n"
     ]
    }
   ],
   "source": [
    "%timeit -n 10 sum_while(nums)"
   ]
  },
  {
   "cell_type": "code",
   "execution_count": 28,
   "metadata": {
    "slideshow": {
     "slide_type": "fragment"
    }
   },
   "outputs": [
    {
     "name": "stdout",
     "output_type": "stream",
     "text": [
      "38.6 ms ± 2.37 ms per loop (mean ± std. dev. of 7 runs, 10 loops each)\n"
     ]
    }
   ],
   "source": [
    "%timeit -n 10 sum_functional(nums) "
   ]
  },
  {
   "cell_type": "code",
   "execution_count": 29,
   "metadata": {
    "slideshow": {
     "slide_type": "fragment"
    }
   },
   "outputs": [
    {
     "ename": "RecursionError",
     "evalue": "maximum recursion depth exceeded while calling a Python object",
     "output_type": "error",
     "traceback": [
      "\u001b[0;31m---------------------------------------------------------------------------\u001b[0m",
      "\u001b[0;31mRecursionError\u001b[0m                            Traceback (most recent call last)",
      "\u001b[0;32m<ipython-input-29-2d00301f8be0>\u001b[0m in \u001b[0;36m<module>\u001b[0;34m\u001b[0m\n\u001b[0;32m----> 1\u001b[0;31m \u001b[0mget_ipython\u001b[0m\u001b[0;34m(\u001b[0m\u001b[0;34m)\u001b[0m\u001b[0;34m.\u001b[0m\u001b[0mrun_line_magic\u001b[0m\u001b[0;34m(\u001b[0m\u001b[0;34m'timeit'\u001b[0m\u001b[0;34m,\u001b[0m \u001b[0;34m'-n 10 sum_recursive(nums[:10_000])'\u001b[0m\u001b[0;34m)\u001b[0m\u001b[0;34m\u001b[0m\u001b[0;34m\u001b[0m\u001b[0m\n\u001b[0m",
      "\u001b[0;32m~/anaconda3/envs/bootcamp/lib/python3.7/site-packages/IPython/core/interactiveshell.py\u001b[0m in \u001b[0;36mrun_line_magic\u001b[0;34m(self, magic_name, line, _stack_depth)\u001b[0m\n\u001b[1;32m   2311\u001b[0m                 \u001b[0mkwargs\u001b[0m\u001b[0;34m[\u001b[0m\u001b[0;34m'local_ns'\u001b[0m\u001b[0;34m]\u001b[0m \u001b[0;34m=\u001b[0m \u001b[0msys\u001b[0m\u001b[0;34m.\u001b[0m\u001b[0m_getframe\u001b[0m\u001b[0;34m(\u001b[0m\u001b[0mstack_depth\u001b[0m\u001b[0;34m)\u001b[0m\u001b[0;34m.\u001b[0m\u001b[0mf_locals\u001b[0m\u001b[0;34m\u001b[0m\u001b[0;34m\u001b[0m\u001b[0m\n\u001b[1;32m   2312\u001b[0m             \u001b[0;32mwith\u001b[0m \u001b[0mself\u001b[0m\u001b[0;34m.\u001b[0m\u001b[0mbuiltin_trap\u001b[0m\u001b[0;34m:\u001b[0m\u001b[0;34m\u001b[0m\u001b[0;34m\u001b[0m\u001b[0m\n\u001b[0;32m-> 2313\u001b[0;31m                 \u001b[0mresult\u001b[0m \u001b[0;34m=\u001b[0m \u001b[0mfn\u001b[0m\u001b[0;34m(\u001b[0m\u001b[0;34m*\u001b[0m\u001b[0margs\u001b[0m\u001b[0;34m,\u001b[0m \u001b[0;34m**\u001b[0m\u001b[0mkwargs\u001b[0m\u001b[0;34m)\u001b[0m\u001b[0;34m\u001b[0m\u001b[0;34m\u001b[0m\u001b[0m\n\u001b[0m\u001b[1;32m   2314\u001b[0m             \u001b[0;32mreturn\u001b[0m \u001b[0mresult\u001b[0m\u001b[0;34m\u001b[0m\u001b[0;34m\u001b[0m\u001b[0m\n\u001b[1;32m   2315\u001b[0m \u001b[0;34m\u001b[0m\u001b[0m\n",
      "\u001b[0;32m</Users/brian/anaconda3/envs/bootcamp/lib/python3.7/site-packages/decorator.py:decorator-gen-60>\u001b[0m in \u001b[0;36mtimeit\u001b[0;34m(self, line, cell, local_ns)\u001b[0m\n",
      "\u001b[0;32m~/anaconda3/envs/bootcamp/lib/python3.7/site-packages/IPython/core/magic.py\u001b[0m in \u001b[0;36m<lambda>\u001b[0;34m(f, *a, **k)\u001b[0m\n\u001b[1;32m    185\u001b[0m     \u001b[0;31m# but it's overkill for just that one bit of state.\u001b[0m\u001b[0;34m\u001b[0m\u001b[0;34m\u001b[0m\u001b[0;34m\u001b[0m\u001b[0m\n\u001b[1;32m    186\u001b[0m     \u001b[0;32mdef\u001b[0m \u001b[0mmagic_deco\u001b[0m\u001b[0;34m(\u001b[0m\u001b[0marg\u001b[0m\u001b[0;34m)\u001b[0m\u001b[0;34m:\u001b[0m\u001b[0;34m\u001b[0m\u001b[0;34m\u001b[0m\u001b[0m\n\u001b[0;32m--> 187\u001b[0;31m         \u001b[0mcall\u001b[0m \u001b[0;34m=\u001b[0m \u001b[0;32mlambda\u001b[0m \u001b[0mf\u001b[0m\u001b[0;34m,\u001b[0m \u001b[0;34m*\u001b[0m\u001b[0ma\u001b[0m\u001b[0;34m,\u001b[0m \u001b[0;34m**\u001b[0m\u001b[0mk\u001b[0m\u001b[0;34m:\u001b[0m \u001b[0mf\u001b[0m\u001b[0;34m(\u001b[0m\u001b[0;34m*\u001b[0m\u001b[0ma\u001b[0m\u001b[0;34m,\u001b[0m \u001b[0;34m**\u001b[0m\u001b[0mk\u001b[0m\u001b[0;34m)\u001b[0m\u001b[0;34m\u001b[0m\u001b[0;34m\u001b[0m\u001b[0m\n\u001b[0m\u001b[1;32m    188\u001b[0m \u001b[0;34m\u001b[0m\u001b[0m\n\u001b[1;32m    189\u001b[0m         \u001b[0;32mif\u001b[0m \u001b[0mcallable\u001b[0m\u001b[0;34m(\u001b[0m\u001b[0marg\u001b[0m\u001b[0;34m)\u001b[0m\u001b[0;34m:\u001b[0m\u001b[0;34m\u001b[0m\u001b[0;34m\u001b[0m\u001b[0m\n",
      "\u001b[0;32m~/anaconda3/envs/bootcamp/lib/python3.7/site-packages/IPython/core/magics/execution.py\u001b[0m in \u001b[0;36mtimeit\u001b[0;34m(self, line, cell, local_ns)\u001b[0m\n\u001b[1;32m   1160\u001b[0m                     \u001b[0;32mbreak\u001b[0m\u001b[0;34m\u001b[0m\u001b[0;34m\u001b[0m\u001b[0m\n\u001b[1;32m   1161\u001b[0m \u001b[0;34m\u001b[0m\u001b[0m\n\u001b[0;32m-> 1162\u001b[0;31m         \u001b[0mall_runs\u001b[0m \u001b[0;34m=\u001b[0m \u001b[0mtimer\u001b[0m\u001b[0;34m.\u001b[0m\u001b[0mrepeat\u001b[0m\u001b[0;34m(\u001b[0m\u001b[0mrepeat\u001b[0m\u001b[0;34m,\u001b[0m \u001b[0mnumber\u001b[0m\u001b[0;34m)\u001b[0m\u001b[0;34m\u001b[0m\u001b[0;34m\u001b[0m\u001b[0m\n\u001b[0m\u001b[1;32m   1163\u001b[0m         \u001b[0mbest\u001b[0m \u001b[0;34m=\u001b[0m \u001b[0mmin\u001b[0m\u001b[0;34m(\u001b[0m\u001b[0mall_runs\u001b[0m\u001b[0;34m)\u001b[0m \u001b[0;34m/\u001b[0m \u001b[0mnumber\u001b[0m\u001b[0;34m\u001b[0m\u001b[0;34m\u001b[0m\u001b[0m\n\u001b[1;32m   1164\u001b[0m         \u001b[0mworst\u001b[0m \u001b[0;34m=\u001b[0m \u001b[0mmax\u001b[0m\u001b[0;34m(\u001b[0m\u001b[0mall_runs\u001b[0m\u001b[0;34m)\u001b[0m \u001b[0;34m/\u001b[0m \u001b[0mnumber\u001b[0m\u001b[0;34m\u001b[0m\u001b[0;34m\u001b[0m\u001b[0m\n",
      "\u001b[0;32m~/anaconda3/envs/bootcamp/lib/python3.7/timeit.py\u001b[0m in \u001b[0;36mrepeat\u001b[0;34m(self, repeat, number)\u001b[0m\n\u001b[1;32m    202\u001b[0m         \u001b[0mr\u001b[0m \u001b[0;34m=\u001b[0m \u001b[0;34m[\u001b[0m\u001b[0;34m]\u001b[0m\u001b[0;34m\u001b[0m\u001b[0;34m\u001b[0m\u001b[0m\n\u001b[1;32m    203\u001b[0m         \u001b[0;32mfor\u001b[0m \u001b[0mi\u001b[0m \u001b[0;32min\u001b[0m \u001b[0mrange\u001b[0m\u001b[0;34m(\u001b[0m\u001b[0mrepeat\u001b[0m\u001b[0;34m)\u001b[0m\u001b[0;34m:\u001b[0m\u001b[0;34m\u001b[0m\u001b[0;34m\u001b[0m\u001b[0m\n\u001b[0;32m--> 204\u001b[0;31m             \u001b[0mt\u001b[0m \u001b[0;34m=\u001b[0m \u001b[0mself\u001b[0m\u001b[0;34m.\u001b[0m\u001b[0mtimeit\u001b[0m\u001b[0;34m(\u001b[0m\u001b[0mnumber\u001b[0m\u001b[0;34m)\u001b[0m\u001b[0;34m\u001b[0m\u001b[0;34m\u001b[0m\u001b[0m\n\u001b[0m\u001b[1;32m    205\u001b[0m             \u001b[0mr\u001b[0m\u001b[0;34m.\u001b[0m\u001b[0mappend\u001b[0m\u001b[0;34m(\u001b[0m\u001b[0mt\u001b[0m\u001b[0;34m)\u001b[0m\u001b[0;34m\u001b[0m\u001b[0;34m\u001b[0m\u001b[0m\n\u001b[1;32m    206\u001b[0m         \u001b[0;32mreturn\u001b[0m \u001b[0mr\u001b[0m\u001b[0;34m\u001b[0m\u001b[0;34m\u001b[0m\u001b[0m\n",
      "\u001b[0;32m~/anaconda3/envs/bootcamp/lib/python3.7/site-packages/IPython/core/magics/execution.py\u001b[0m in \u001b[0;36mtimeit\u001b[0;34m(self, number)\u001b[0m\n\u001b[1;32m    167\u001b[0m         \u001b[0mgc\u001b[0m\u001b[0;34m.\u001b[0m\u001b[0mdisable\u001b[0m\u001b[0;34m(\u001b[0m\u001b[0;34m)\u001b[0m\u001b[0;34m\u001b[0m\u001b[0;34m\u001b[0m\u001b[0m\n\u001b[1;32m    168\u001b[0m         \u001b[0;32mtry\u001b[0m\u001b[0;34m:\u001b[0m\u001b[0;34m\u001b[0m\u001b[0;34m\u001b[0m\u001b[0m\n\u001b[0;32m--> 169\u001b[0;31m             \u001b[0mtiming\u001b[0m \u001b[0;34m=\u001b[0m \u001b[0mself\u001b[0m\u001b[0;34m.\u001b[0m\u001b[0minner\u001b[0m\u001b[0;34m(\u001b[0m\u001b[0mit\u001b[0m\u001b[0;34m,\u001b[0m \u001b[0mself\u001b[0m\u001b[0;34m.\u001b[0m\u001b[0mtimer\u001b[0m\u001b[0;34m)\u001b[0m\u001b[0;34m\u001b[0m\u001b[0;34m\u001b[0m\u001b[0m\n\u001b[0m\u001b[1;32m    170\u001b[0m         \u001b[0;32mfinally\u001b[0m\u001b[0;34m:\u001b[0m\u001b[0;34m\u001b[0m\u001b[0;34m\u001b[0m\u001b[0m\n\u001b[1;32m    171\u001b[0m             \u001b[0;32mif\u001b[0m \u001b[0mgcold\u001b[0m\u001b[0;34m:\u001b[0m\u001b[0;34m\u001b[0m\u001b[0;34m\u001b[0m\u001b[0m\n",
      "\u001b[0;32m<magic-timeit>\u001b[0m in \u001b[0;36minner\u001b[0;34m(_it, _timer)\u001b[0m\n",
      "\u001b[0;32m<ipython-input-18-4b187e0d9efb>\u001b[0m in \u001b[0;36msum_recursive\u001b[0;34m(nums)\u001b[0m\n\u001b[1;32m      4\u001b[0m         \u001b[0;32mreturn\u001b[0m \u001b[0mnums\u001b[0m\u001b[0;34m[\u001b[0m\u001b[0;36m0\u001b[0m\u001b[0;34m]\u001b[0m\u001b[0;34m\u001b[0m\u001b[0;34m\u001b[0m\u001b[0m\n\u001b[1;32m      5\u001b[0m     \u001b[0;32melse\u001b[0m\u001b[0;34m:\u001b[0m\u001b[0;34m\u001b[0m\u001b[0;34m\u001b[0m\u001b[0m\n\u001b[0;32m----> 6\u001b[0;31m         \u001b[0;32mreturn\u001b[0m \u001b[0mnums\u001b[0m\u001b[0;34m[\u001b[0m\u001b[0;36m0\u001b[0m\u001b[0;34m]\u001b[0m \u001b[0;34m+\u001b[0m \u001b[0msum_recursive\u001b[0m\u001b[0;34m(\u001b[0m\u001b[0mnums\u001b[0m\u001b[0;34m[\u001b[0m\u001b[0;36m1\u001b[0m\u001b[0;34m:\u001b[0m\u001b[0;34m]\u001b[0m\u001b[0;34m)\u001b[0m\u001b[0;34m\u001b[0m\u001b[0;34m\u001b[0m\u001b[0m\n\u001b[0m\u001b[1;32m      7\u001b[0m \u001b[0;34m\u001b[0m\u001b[0m\n\u001b[1;32m      8\u001b[0m \u001b[0msum_recursive\u001b[0m\u001b[0;34m(\u001b[0m\u001b[0mnums\u001b[0m\u001b[0;34m)\u001b[0m\u001b[0;34m\u001b[0m\u001b[0;34m\u001b[0m\u001b[0m\n",
      "... last 1 frames repeated, from the frame below ...\n",
      "\u001b[0;32m<ipython-input-18-4b187e0d9efb>\u001b[0m in \u001b[0;36msum_recursive\u001b[0;34m(nums)\u001b[0m\n\u001b[1;32m      4\u001b[0m         \u001b[0;32mreturn\u001b[0m \u001b[0mnums\u001b[0m\u001b[0;34m[\u001b[0m\u001b[0;36m0\u001b[0m\u001b[0;34m]\u001b[0m\u001b[0;34m\u001b[0m\u001b[0;34m\u001b[0m\u001b[0m\n\u001b[1;32m      5\u001b[0m     \u001b[0;32melse\u001b[0m\u001b[0;34m:\u001b[0m\u001b[0;34m\u001b[0m\u001b[0;34m\u001b[0m\u001b[0m\n\u001b[0;32m----> 6\u001b[0;31m         \u001b[0;32mreturn\u001b[0m \u001b[0mnums\u001b[0m\u001b[0;34m[\u001b[0m\u001b[0;36m0\u001b[0m\u001b[0;34m]\u001b[0m \u001b[0;34m+\u001b[0m \u001b[0msum_recursive\u001b[0m\u001b[0;34m(\u001b[0m\u001b[0mnums\u001b[0m\u001b[0;34m[\u001b[0m\u001b[0;36m1\u001b[0m\u001b[0;34m:\u001b[0m\u001b[0;34m]\u001b[0m\u001b[0;34m)\u001b[0m\u001b[0;34m\u001b[0m\u001b[0;34m\u001b[0m\u001b[0m\n\u001b[0m\u001b[1;32m      7\u001b[0m \u001b[0;34m\u001b[0m\u001b[0m\n\u001b[1;32m      8\u001b[0m \u001b[0msum_recursive\u001b[0m\u001b[0;34m(\u001b[0m\u001b[0mnums\u001b[0m\u001b[0;34m)\u001b[0m\u001b[0;34m\u001b[0m\u001b[0;34m\u001b[0m\u001b[0m\n",
      "\u001b[0;31mRecursionError\u001b[0m: maximum recursion depth exceeded while calling a Python object"
     ]
    }
   ],
   "source": [
    "%timeit -n 10 sum_recursive(nums[:10_000])"
   ]
  },
  {
   "cell_type": "markdown",
   "metadata": {},
   "source": [
    "Benchmarking vs Big O\n",
    "-----\n",
    "\n",
    "Big 0 is short-hand for complexity, typically runtime complexity. \n",
    "\n",
    "Big 0 is about the theoretic performance of algorithms.\n",
    "\n",
    "This class is about the  craft of writing code, thus we are benchmarking.\n",
    "\n",
    "Benchmarking will give empirical results based on running code with actual data.\n",
    "\n",
    "Computer Scientist prefer Big O. Software engineers prefer benchmarking."
   ]
  },
  {
   "cell_type": "markdown",
   "metadata": {},
   "source": [
    "Try not to mix-match styles\n",
    "------\n",
    "\n",
    "You should balance the need to use the best tool / technique for a job with the need to be consistent.\n",
    "\n",
    "It is better to optimize code for readability if it does not dramatically impact performance.\n",
    "\n",
    "So since to the same style within a function, class, or library."
   ]
  },
  {
   "cell_type": "markdown",
   "metadata": {
    "slideshow": {
     "slide_type": "slide"
    }
   },
   "source": [
    "Object oriented can be considered to be paradigm\n",
    "------\n",
    "\n",
    "I think it more of a style - Classes are categories with nouns and verbs that you'll need many specific examples.\n",
    "\n",
    "But you can apply it a paradigm to solve problems.\n",
    "\n",
    "The dangers are:\n",
    "\n",
    "- Often it is over-applied\n",
    "- Often encourages adding extra unneeded features"
   ]
  },
  {
   "cell_type": "markdown",
   "metadata": {
    "slideshow": {
     "slide_type": "slide"
    }
   },
   "source": [
    "Summary - Overall\n",
    "-----\n",
    "\n",
    "- You should be comfortable solving problems in every programming paradigm.\n",
    "- Pick the best paradigm for the problem and your team.\n",
    "\n",
    "\n",
    "Summary - For each paradigm\n",
    "-----\n",
    "\n",
    "- Built-ins & established 3rd party packages are the best default.\n",
    "- Procedural / Imperative is straightforward to reason about.\n",
    "- Recursive can be elegant but slow.\n",
    "- Functional can be fast but might not be hard to write and understand."
   ]
  },
  {
   "cell_type": "markdown",
   "metadata": {
    "slideshow": {
     "slide_type": "slide"
    }
   },
   "source": [
    " "
   ]
  },
  {
   "cell_type": "markdown",
   "metadata": {
    "slideshow": {
     "slide_type": "slide"
    }
   },
   "source": [
    "Bonus Material\n",
    "------"
   ]
  },
  {
   "cell_type": "markdown",
   "metadata": {},
   "source": [
    "Pure vs inpure functions\n",
    "----\n",
    "\n",
    "Pure means no side-effects. A side-effect is a change in state outside of the input-output pair."
   ]
  },
  {
   "cell_type": "code",
   "execution_count": null,
   "metadata": {},
   "outputs": [],
   "source": [
    "# Side effect 🤢\n",
    "def get_last_item(nums):\n",
    "    return nums.pop(-1)  \n",
    "    \n",
    "nums = [6.8, 42]\n",
    "print(get_last_item(nums))\n",
    "print(nums)"
   ]
  },
  {
   "cell_type": "code",
   "execution_count": null,
   "metadata": {},
   "outputs": [],
   "source": [
    "# No side effect 🙂\n",
    "def get_last_item(nums):\n",
    "    return nums[-1]\n",
    "\n",
    "nums = [6.8, 42]\n",
    "print(get_last_item(nums))\n",
    "print(nums)"
   ]
  },
  {
   "cell_type": "markdown",
   "metadata": {},
   "source": [
    "Technically, print is a side-effect because it changes the state of Standard Output / Display.\n",
    "\n",
    "It is best practice to not automatically print in a function. But return a value, that will be printed else."
   ]
  },
  {
   "cell_type": "code",
   "execution_count": null,
   "metadata": {},
   "outputs": [],
   "source": [
    "# Does 2 things:\n",
    "#  1. Get item\n",
    "#  2. Print item\n",
    "def last_item(nums):\n",
    "    print(nums[-1])\n",
    "    \n",
    "nums = [6.8, 42]\n",
    "last_item(nums)"
   ]
  },
  {
   "cell_type": "code",
   "execution_count": null,
   "metadata": {},
   "outputs": [],
   "source": [
    "def last_item(nums):\n",
    "    return nums[-1]\n",
    "\n",
    "def pprint_num(num):\n",
    "    print(f\"{num:,}\")\n",
    "    \n",
    "nums = [6.8, 42]\n",
    "pprint_num(last_item(nums))"
   ]
  },
  {
   "cell_type": "markdown",
   "metadata": {
    "slideshow": {
     "slide_type": "slide"
    }
   },
   "source": [
    "Repetition Is the Mother of Skill\n",
    "-----\n",
    "<center><img src=\"http://vigorgroundfitness.com/wp-content/uploads/2014/09/Bruce-Lee.png\" width=\"55%\"/></center>\n",
    "\n",
    "You should practice the fundamentals over-and-over then advanced concepts will be easier to learn in the future."
   ]
  },
  {
   "cell_type": "markdown",
   "metadata": {},
   "source": [
    "Scientific Notion of Paradigms\n",
    "-------\n",
    "\n",
    "[The Structure of Scientific Revolutions](https://www.amazon.com/Structure-Scientific-Revolutions-Thomas-Kuhn/dp/0226458083)"
   ]
  },
  {
   "cell_type": "markdown",
   "metadata": {},
   "source": [
    "IMHO - It is better to be a generalist, than a specialist\n",
    "-----\n",
    "\n",
    "It is better to intermediate at many things, than a specialist in a few.\n",
    "\n",
    "It is called the [\"t\" model](https://en.wikipedia.org/wiki/T-shaped_skills) of skills (Personally, I strive for \"tree\" model with depth in many areas)."
   ]
  },
  {
   "cell_type": "markdown",
   "metadata": {},
   "source": [
    "`filter` for functional programming\n",
    "------"
   ]
  },
  {
   "cell_type": "code",
   "execution_count": null,
   "metadata": {},
   "outputs": [],
   "source": [
    "numbers = [1, 2, 3, 4, 5]\n",
    "evens = filter(lambda num: num % 2 == 0, numbers)\n",
    "list(evens)"
   ]
  },
  {
   "cell_type": "markdown",
   "metadata": {
    "slideshow": {
     "slide_type": "slide"
    }
   },
   "source": [
    "Other paradigms\n",
    "-----\n",
    "\n",
    "- Declarative - like SQL\n",
    "- Data flow - like TensorFlow"
   ]
  },
  {
   "cell_type": "markdown",
   "metadata": {
    "slideshow": {
     "slide_type": "slide"
    }
   },
   "source": [
    " "
   ]
  }
 ],
 "metadata": {
  "celltoolbar": "Slideshow",
  "kernelspec": {
   "display_name": "Python 3",
   "language": "python",
   "name": "python3"
  },
  "language_info": {
   "codemirror_mode": {
    "name": "ipython",
    "version": 3
   },
   "file_extension": ".py",
   "mimetype": "text/x-python",
   "name": "python",
   "nbconvert_exporter": "python",
   "pygments_lexer": "ipython3",
   "version": "3.7.3"
  },
  "toc": {
   "base_numbering": 1,
   "nav_menu": {},
   "number_sections": false,
   "sideBar": false,
   "skip_h1_title": false,
   "title_cell": "Table of Contents",
   "title_sidebar": "Contents",
   "toc_cell": true,
   "toc_position": {},
   "toc_section_display": true,
   "toc_window_display": false
  }
 },
 "nbformat": 4,
 "nbformat_minor": 2
}
