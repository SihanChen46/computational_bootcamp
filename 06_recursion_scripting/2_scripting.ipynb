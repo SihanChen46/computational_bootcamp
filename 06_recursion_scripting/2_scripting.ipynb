{
 "cells": [
  {
   "cell_type": "markdown",
   "metadata": {
    "slideshow": {
     "slide_type": "skip"
    },
    "toc": true
   },
   "source": [
    "<h1>Table of Contents<span class=\"tocSkip\"></span></h1>\n",
    "<div class=\"toc\"><ul class=\"toc-item\"><li><span><a href=\"#Scripting:-Beyond-Notebooks\" data-toc-modified-id=\"Scripting:-Beyond-Notebooks-1\">Scripting: Beyond Notebooks</a></span></li><li><span><a href=\"#Learning-Outcomes\" data-toc-modified-id=\"Learning-Outcomes-2\">Learning Outcomes</a></span><ul class=\"toc-item\"><li><ul class=\"toc-item\"><li><span><a href=\"#By-the-end-of-this-session,-you-should-be-able-to:\" data-toc-modified-id=\"By-the-end-of-this-session,-you-should-be-able-to:-2.0.1\">By the end of this session, you should be able to:</a></span></li></ul></li></ul></li><li><span><a href=\"#Why-Notebooks-Are-Limiting?\" data-toc-modified-id=\"Why-Notebooks-Are-Limiting?-3\">Why Notebooks Are Limiting?</a></span></li><li><span><a href=\"#2-styles-of-running-Python\" data-toc-modified-id=\"2-styles-of-running-Python-4\">2 styles of running Python</a></span></li><li><span><a href=\"#Read-Eval-Print-loop-(REPL)\" data-toc-modified-id=\"Read-Eval-Print-loop-(REPL)-5\">Read Eval Print loop (REPL)</a></span></li><li><span><a href=\"#Pros-of-Interactive-Style\" data-toc-modified-id=\"Pros-of-Interactive-Style-6\">Pros of Interactive Style</a></span></li><li><span><a href=\"#Cons-of-Interactive-Style\" data-toc-modified-id=\"Cons-of-Interactive-Style-7\">Cons of Interactive Style</a></span></li><li><span><a href=\"#Script-Style\" data-toc-modified-id=\"Script-Style-8\">Script Style</a></span></li><li><span><a href=\"#2-Types-of-Text-Editors:-CLI-&amp;-GUI\" data-toc-modified-id=\"2-Types-of-Text-Editors:-CLI-&amp;-GUI-9\">2 Types of Text Editors: CLI &amp; GUI</a></span></li><li><span><a href=\"#GUI-style-Text-Editors\" data-toc-modified-id=\"GUI-style-Text-Editors-10\">GUI-style Text Editors</a></span></li><li><span><a href=\"#Sublime-Text-3\" data-toc-modified-id=\"Sublime-Text-3-11\">Sublime Text 3</a></span></li><li><span><a href=\"#What-about-IDE?\" data-toc-modified-id=\"What-about-IDE?-12\">What about IDE?</a></span></li><li><span><a href=\"#Do-I-need-to-use-an-IDE?\" data-toc-modified-id=\"Do-I-need-to-use-an-IDE?-13\">Do I need to use an IDE?</a></span></li><li><span><a href=\"#-Let's-make-a-script\" data-toc-modified-id=\"-Let's-make-a-script-14\"> Let's make a script</a></span></li><li><span><a href=\"#Let's-checkout-a-more-complex-script\" data-toc-modified-id=\"Let's-checkout-a-more-complex-script-15\">Let's checkout a more complex script</a></span></li><li><span><a href=\"#What-is-__name__?\" data-toc-modified-id=\"What-is-__name__?-16\">What is <code>__name__</code>?</a></span></li><li><span><a href=\"#Let's-make-a-little-script\" data-toc-modified-id=\"Let's-make-a-little-script-17\">Let's make a little script</a></span></li><li><span><a href=\"#Pros-of-Script-Style\" data-toc-modified-id=\"Pros-of-Script-Style-18\">Pros of Script Style</a></span></li><li><span><a href=\"#Cons-of-Script-Style\" data-toc-modified-id=\"Cons-of-Script-Style-19\">Cons of Script Style</a></span></li><li><span><a href=\"#Summary\" data-toc-modified-id=\"Summary-20\">Summary</a></span></li><li><span><a href=\"#Bonus-Material\" data-toc-modified-id=\"Bonus-Material-21\">Bonus Material</a></span></li><li><span><a href=\"#Conversion-from-Jupyter-Notebook-to-.py\" data-toc-modified-id=\"Conversion-from-Jupyter-Notebook-to-.py-22\">Conversion from Jupyter Notebook to <code>.py</code></a></span></li><li><span><a href=\"#Demo-nano-(if-time)\" data-toc-modified-id=\"Demo-nano-(if-time)-23\">Demo <code>nano</code> (if time)</a></span></li><li><span><a href=\"#Further-Study\" data-toc-modified-id=\"Further-Study-24\">Further Study</a></span></li></ul></div>"
   ]
  },
  {
   "cell_type": "markdown",
   "metadata": {
    "slideshow": {
     "slide_type": "slide"
    }
   },
   "source": [
    "<center><h2>Scripting: Beyond Notebooks</h2></center>\n"
   ]
  },
  {
   "cell_type": "markdown",
   "metadata": {
    "slideshow": {
     "slide_type": "slide"
    }
   },
   "source": [
    "<center><h2>Learning Outcomes</h2></center>\n",
    "\n",
    "#### By the end of this session, you should be able to:\n",
    "\n",
    "- Write and run Python scripts outside and inside of Jupyter Notebooks.\n",
    "- Explain your own words the pros and cons of scripting compared to interactive coding."
   ]
  },
  {
   "cell_type": "markdown",
   "metadata": {
    "slideshow": {
     "slide_type": "slide"
    }
   },
   "source": [
    "Why Notebooks Are Limiting?\n",
    "-----"
   ]
  },
  {
   "cell_type": "markdown",
   "metadata": {
    "slideshow": {
     "slide_type": "fragment"
    }
   },
   "source": [
    "1. State\n",
    "1. Hard to run at the command line\n",
    "1. Not straightforward to manage complex code / systems"
   ]
  },
  {
   "cell_type": "markdown",
   "metadata": {
    "slideshow": {
     "slide_type": "slide"
    }
   },
   "source": [
    "2 styles of running Python\n",
    "----\n",
    "\n",
    "1. Interactive style\n",
    "1. Script style"
   ]
  },
  {
   "cell_type": "markdown",
   "metadata": {
    "slideshow": {
     "slide_type": "slide"
    }
   },
   "source": [
    "Read Eval Print loop (REPL)\n",
    "-----\n",
    "\n",
    "REPL using the language shell.\n",
    "\n",
    "`$ python `  \n",
    "or much better:  \n",
    "`$ ipython `  \n",
    "\n",
    "Jupyter Notebook is a GUI wrapper for the IPython shell.\n",
    "\n",
    "(Jupyter Notebook does much more, including supporting other languages.)"
   ]
  },
  {
   "cell_type": "markdown",
   "metadata": {
    "slideshow": {
     "slide_type": "slide"
    }
   },
   "source": [
    "Pros of Interactive Style\n",
    "----\n",
    "\n",
    "1. Get immediate results:\n",
    "    - Ideal for beginners to get feedback\n",
    "    - Good for everyone to try out code\n"
   ]
  },
  {
   "cell_type": "markdown",
   "metadata": {
    "slideshow": {
     "slide_type": "slide"
    }
   },
   "source": [
    "Cons of Interactive Style\n",
    "---- \n",
    "\n",
    "1. Hard to edit code\n",
    "1. Hard to manage complexity\n",
    "1. Hard to automate / reuse code"
   ]
  },
  {
   "cell_type": "markdown",
   "metadata": {
    "slideshow": {
     "slide_type": "slide"
    }
   },
   "source": [
    "Script Style\n",
    "----\n",
    "\n",
    "For writing more complex software. For example, supports very long .py files or modular programs that are spread across multiple files.\n",
    "\n",
    "As code (and coders) matures it moves from interactive style to script style.\n",
    "\n",
    "Script style means writing Python code into a plain text file with `.py` suffix. \n",
    "\n",
    "Then run the code. For example,\n",
    "\n",
    "`$ python script.py`"
   ]
  },
  {
   "cell_type": "markdown",
   "metadata": {
    "slideshow": {
     "slide_type": "skip"
    }
   },
   "source": [
    "[Source](https://stackabuse.com/python-programming-in-interactive-vs-script-mode/)"
   ]
  },
  {
   "cell_type": "markdown",
   "metadata": {
    "slideshow": {
     "slide_type": "slide"
    }
   },
   "source": [
    "2 Types of Text Editors: CLI & GUI\n",
    "------\n",
    "\n",
    "In order to write a `.py` file, we need a plain text editor.\n",
    "\n",
    "There are two many choices:\n",
    "\n",
    "1. CLI - Non-graphical command line interface.\n",
    "2. GUI - Graphic \"apps\"."
   ]
  },
  {
   "cell_type": "markdown",
   "metadata": {
    "slideshow": {
     "slide_type": "slide"
    }
   },
   "source": [
    "There are many CLI editors. The most popular are:\n",
    "\n",
    "1. `nano` - The simplest and available everywhere. I strongly suggest learning it. It should take ~5 minutes.\n",
    "1. `vim` - More complex and fully featured. I suggest learning `vim` if you feel that would be useful. Most data scientist do __not__ need to learn. The best way to learn is https://vim-adventures.com/. It will take hours to become fluent.\n",
    "1. `emacs` - Also fully featured. It is kinda odd. Learn it if you want. But `vim` tends to be  better and is more common."
   ]
  },
  {
   "cell_type": "markdown",
   "metadata": {
    "slideshow": {
     "slide_type": "slide"
    }
   },
   "source": [
    "GUI-style Text Editors\n",
    "-----\n",
    "\n",
    "You need to use a GUI text editor.\n",
    "\n",
    "There are many, many GUI text editors.\n",
    "\n",
    "[Atom](https://atom.io/) is a popular choice.\n",
    "\n",
    "TextEdit.app works, but will not be helpful.\n",
    "\n",
    "Microsoft Word or Pages.app will __not__ work.\n",
    "\n"
   ]
  },
  {
   "cell_type": "markdown",
   "metadata": {
    "slideshow": {
     "slide_type": "slide"
    }
   },
   "source": [
    "Sublime Text 3\n",
    "-----\n",
    "\n",
    "Solid core and can be extended through community plug-ins (The same model as Python).\n",
    "\n",
    "Sublime Text 3 has many bells and whistles. I'm only to use it as plain text editor. \n",
    "\n",
    "Yes, I bought a license. As my grandfather said, \"Only buy the tools you need to do a specific task, then buy the nicest tools you can afford.\""
   ]
  },
  {
   "cell_type": "code",
   "execution_count": 11,
   "metadata": {
    "slideshow": {
     "slide_type": "skip"
    }
   },
   "outputs": [
    {
     "name": "stdout",
     "output_type": "stream",
     "text": [
      "Updating Homebrew...\n",
      "\u001b[34m==>\u001b[0m \u001b[1mAuto-updated Homebrew!\u001b[0m\n",
      "Updated 1 tap (homebrew/cask).\n",
      "No changes to formulae.\n",
      "\n",
      "\u001b[33mWarning:\u001b[0m Cask 'sublime-text' is already installed.\n",
      "\n",
      "To re-install sublime-text, run:\n",
      "  \u001b[32mbrew cask reinstall sublime-text\u001b[39m\n"
     ]
    }
   ],
   "source": [
    "! brew cask install sublime-text"
   ]
  },
  {
   "cell_type": "markdown",
   "metadata": {
    "slideshow": {
     "slide_type": "slide"
    }
   },
   "source": [
    "What about IDE?\n",
    "-----\n",
    "\n",
    "Integrated development environment (IDE) are how professional coders work.\n",
    "\n",
    "There are many, many IDEs. They all have pros and cons."
   ]
  },
  {
   "cell_type": "markdown",
   "metadata": {
    "slideshow": {
     "slide_type": "fragment"
    }
   },
   "source": [
    "The most common for Python are:\n",
    "\n",
    "1. Visual Studio Code - Shockingly good for Python and Machine Learning. (Brian's top choice)\n",
    "1. PyCharm - A common IDE for working Pythonistas.\n",
    "1. Sublime Text 3 can be tricked out to be an IDE.\n",
    "1. vim can be consider an IDE."
   ]
  },
  {
   "cell_type": "markdown",
   "metadata": {
    "slideshow": {
     "slide_type": "slide"
    }
   },
   "source": [
    "Do I need to use an IDE?\n",
    "------\n",
    "\n",
    "Most data scientists just use Jupyter Notebook that is all we are going to teach. It is better to be very good with a single tool that mediocre with several tools.\n",
    "\n",
    "You might have to use an IDE for practicum or if you want a Machine Learning Engineer (MLE) or Data Engineering (DE) role.\n",
    "\n",
    "I pick up tools quickly so I just pick the tool that other team members use. I value community over features."
   ]
  },
  {
   "cell_type": "markdown",
   "metadata": {
    "slideshow": {
     "slide_type": "slide"
    }
   },
   "source": [
    " Let's make a script\n",
    " ------\n",
    " \n",
    " 1. Open Sublime Text (or any other text editor).\n",
    " 1. Write `print(\"Hello, World!\")` in a file named `hello_world.py`\n",
    " 1. Save it where you know the location. (remember choose a path with no spaces)\n",
    " 1. Open iterm.app.\n",
    " 1. Navigate to the folder where `hello_world.py` is saved.\n",
    " 1. Run `$ python hello_world.py`\n",
    " 1. \"Hello, World!\" should appear in the terminal.\n",
    " \n",
    " Raise a stickie note 🔷 if you are done."
   ]
  },
  {
   "cell_type": "markdown",
   "metadata": {
    "slideshow": {
     "slide_type": "slide"
    }
   },
   "source": [
    "Let's checkout a more complex script\n",
    "-----"
   ]
  },
  {
   "cell_type": "code",
   "execution_count": 12,
   "metadata": {
    "slideshow": {
     "slide_type": "fragment"
    }
   },
   "outputs": [],
   "source": [
    "! python draw_koch_snowflake.py"
   ]
  },
  {
   "cell_type": "code",
   "execution_count": 13,
   "metadata": {
    "slideshow": {
     "slide_type": "slide"
    }
   },
   "outputs": [],
   "source": [
    "# # %load draw_koch_snowflake.py\n",
    "# \"Example Python script to draw Koch snowflake\" \n",
    "\n",
    "# from turtle import *\n",
    "\n",
    "# def koch(size=300, order=3):\n",
    "#     \"Draw a Koch section\"\n",
    "#     if order > 0:\n",
    "#         for t in [60, -120, 60, 0]:\n",
    "#             koch(size/3, order-1)\n",
    "#             left(t)\n",
    "#     else:\n",
    "#         forward(size)\n",
    "\n",
    "# def n_koch_curves(n):\n",
    "#     \"Draw n Koch curves\"\n",
    "#     for _ in range(n):\n",
    "#         koch()\n",
    "#         right(120)\n",
    "\n",
    "# def main():\n",
    "#     \"Primary logic\"\n",
    "#     pensize(3)\n",
    "#     n_koch_curves(n=3)\n",
    "#     exitonclick()\n",
    "\n",
    "# if __name__ == '__main__':  # Code to execute if called from command-line. If imported, don't run\n",
    "#     main()    "
   ]
  },
  {
   "cell_type": "markdown",
   "metadata": {
    "slideshow": {
     "slide_type": "slide"
    }
   },
   "source": [
    "What is `__name__`?\n",
    "------\n",
    "\n",
    "A conditional (or if) statement that checks the value of __name__ and compares it to the string \"__main__\". When the if statement evaluates to True, the Python interpreter executes main().  \n",
    "\n",
    "Otherwise the Python interpreter does nothing.\n",
    "\n",
    "Thus, the script will be run at the command if called by name.\n",
    "\n",
    "However if the file is imported into another script, it will not be run.\n",
    "\n",
    "This is logic used to create any module or library."
   ]
  },
  {
   "cell_type": "markdown",
   "metadata": {
    "slideshow": {
     "slide_type": "skip"
    }
   },
   "source": [
    "[Source](https://realpython.com/python-main-function/)"
   ]
  },
  {
   "cell_type": "code",
   "execution_count": 14,
   "metadata": {},
   "outputs": [
    {
     "data": {
      "text/plain": [
       "<function turtle.reset()>"
      ]
     },
     "execution_count": 14,
     "metadata": {},
     "output_type": "execute_result"
    }
   ],
   "source": [
    "reset"
   ]
  },
  {
   "cell_type": "code",
   "execution_count": 15,
   "metadata": {
    "slideshow": {
     "slide_type": "slide"
    }
   },
   "outputs": [],
   "source": [
    "import draw_koch_snowflake"
   ]
  },
  {
   "cell_type": "code",
   "execution_count": 16,
   "metadata": {
    "slideshow": {
     "slide_type": "fragment"
    }
   },
   "outputs": [
    {
     "name": "stdout",
     "output_type": "stream",
     "text": [
      "Variable              Type        Data/Info\n",
      "-------------------------------------------\n",
      "Pen                   type        <class 'turtle.Turtle'>\n",
      "RawPen                type        <class 'turtle.RawTurtle'>\n",
      "RawTurtle             type        <class 'turtle.RawTurtle'>\n",
      "Screen                function    <function Screen at 0x10598c6a8>\n",
      "ScrolledCanvas        type        <class 'turtle.ScrolledCanvas'>\n",
      "Shape                 type        <class 'turtle.Shape'>\n",
      "Terminator            type        <class 'turtle.Terminator'>\n",
      "Turtle                type        <class 'turtle.Turtle'>\n",
      "TurtleScreen          type        <class 'turtle.TurtleScreen'>\n",
      "Vec2D                 type        <class 'turtle.Vec2D'>\n",
      "addshape              function    <function addshape at 0x105997d08>\n",
      "back                  function    <function back at 0x1059a1158>\n",
      "backward              function    <function backward at 0x1059a11e0>\n",
      "begin_fill            function    <function begin_fill at 0x1059a1268>\n",
      "begin_poly            function    <function begin_poly at 0x1059a12f0>\n",
      "bgcolor               function    <function bgcolor at 0x105997d90>\n",
      "bgpic                 function    <function bgpic at 0x105997e18>\n",
      "bk                    function    <function bk at 0x1059a1378>\n",
      "bye                   function    <function bye at 0x105997ea0>\n",
      "circle                function    <function circle at 0x1059a1488>\n",
      "clear                 function    <function clear at 0x1059a1510>\n",
      "clearscreen           function    <function clearscreen at 0x105997f28>\n",
      "clearstamp            function    <function clearstamp at 0x1059a1598>\n",
      "clearstamps           function    <function clearstamps at 0x1059a1620>\n",
      "clone                 function    <function clone at 0x1059a16a8>\n",
      "color                 function    <function color at 0x1059a1730>\n",
      "colormode             function    <function colormode at 0x10599c048>\n",
      "degrees               function    <function degrees at 0x1059a17b8>\n",
      "delay                 function    <function delay at 0x10599c0d0>\n",
      "distance              function    <function distance at 0x1059a1840>\n",
      "done                  function    <function mainloop at 0x10599c378>\n",
      "dot                   function    <function dot at 0x1059a1950>\n",
      "down                  function    <function down at 0x1059a19d8>\n",
      "draw_koch_snowflake   module      <module 'draw_koch_snowfl<...>/draw_koch_snowflake.py'>\n",
      "end_fill              function    <function end_fill at 0x1059a1a60>\n",
      "end_poly              function    <function end_poly at 0x1059a1ae8>\n",
      "exitonclick           function    <function exitonclick at 0x10599c158>\n",
      "fd                    function    <function fd at 0x1059a1b70>\n",
      "fillcolor             function    <function fillcolor at 0x1059a1bf8>\n",
      "filling               function    <function filling at 0x1059a1c80>\n",
      "forward               function    <function forward at 0x1059a1d08>\n",
      "get_poly              function    <function get_poly at 0x1059a1d90>\n",
      "get_shapepoly         function    <function get_shapepoly at 0x1059a1f28>\n",
      "getcanvas             function    <function getcanvas at 0x10599c1e0>\n",
      "getpen                function    <function getpen at 0x1059a1e18>\n",
      "getscreen             function    <function getscreen at 0x1059a1ea0>\n",
      "getshapes             function    <function getshapes at 0x10599c268>\n",
      "getturtle             function    <function getturtle at 0x1059a7048>\n",
      "goto                  function    <function goto at 0x1059a70d0>\n",
      "heading               function    <function heading at 0x1059a7158>\n",
      "hideturtle            function    <function hideturtle at 0x1059a71e0>\n",
      "home                  function    <function home at 0x1059a7268>\n",
      "ht                    function    <function ht at 0x1059a72f0>\n",
      "isdown                function    <function isdown at 0x1059a7378>\n",
      "isvisible             function    <function isvisible at 0x1059a7400>\n",
      "koch                  function    <function koch at 0x10550b488>\n",
      "left                  function    <function left at 0x1059a7488>\n",
      "listen                function    <function listen at 0x10599c2f0>\n",
      "lt                    function    <function lt at 0x1059a7510>\n",
      "main                  function    <function main at 0x10550bae8>\n",
      "mainloop              function    <function mainloop at 0x10599c378>\n",
      "mode                  function    <function mode at 0x10599c400>\n",
      "n_koch_curves         function    <function n_koch_curves at 0x10550b730>\n",
      "numinput              function    <function numinput at 0x10599c510>\n",
      "onclick               function    <function onclick at 0x1059a7620>\n",
      "ondrag                function    <function ondrag at 0x1059a7730>\n",
      "onkey                 function    <function onkey at 0x10599c598>\n",
      "onkeypress            function    <function onkeypress at 0x10599c620>\n",
      "onkeyrelease          function    <function onkeyrelease at 0x10599c6a8>\n",
      "onrelease             function    <function onrelease at 0x1059a7840>\n",
      "onscreenclick         function    <function onscreenclick at 0x10599c7b8>\n",
      "ontimer               function    <function ontimer at 0x10599c840>\n",
      "pd                    function    <function pd at 0x1059a78c8>\n",
      "pen                   function    <function pen at 0x1059a79d8>\n",
      "pencolor              function    <function pencolor at 0x1059a7a60>\n",
      "pendown               function    <function pendown at 0x1059a7ae8>\n",
      "pensize               function    <function pensize at 0x1059a7b70>\n",
      "penup                 function    <function penup at 0x1059a7bf8>\n",
      "pos                   function    <function pos at 0x1059a7c80>\n",
      "position              function    <function position at 0x1059a7d08>\n",
      "pu                    function    <function pu at 0x1059a7d90>\n",
      "radians               function    <function radians at 0x1059a7e18>\n",
      "register_shape        function    <function register_shape at 0x10599c8c8>\n",
      "reset                 function    <function reset at 0x1059a7f28>\n",
      "resetscreen           function    <function resetscreen at 0x10599c950>\n",
      "resizemode            function    <function resizemode at 0x1059aa048>\n",
      "right                 function    <function right at 0x1059a7ea0>\n",
      "rt                    function    <function rt at 0x1059aa0d0>\n",
      "screensize            function    <function screensize at 0x10599ca60>\n",
      "seth                  function    <function seth at 0x1059aa158>\n",
      "setheading            function    <function setheading at 0x1059aa1e0>\n",
      "setpos                function    <function setpos at 0x1059aa268>\n",
      "setposition           function    <function setposition at 0x1059aa2f0>\n",
      "settiltangle          function    <function settiltangle at 0x1059aa378>\n",
      "setundobuffer         function    <function setundobuffer at 0x1059aa400>\n",
      "setup                 function    <function setup at 0x10599cb70>\n",
      "setworldcoordinates   function    <function setworldcoordinates at 0x10599cc80>\n",
      "setx                  function    <function setx at 0x1059aa488>\n",
      "sety                  function    <function sety at 0x1059aa510>\n",
      "shape                 function    <function shape at 0x1059aa598>\n",
      "shapesize             function    <function shapesize at 0x1059aa6a8>\n",
      "shapetransform        function    <function shapetransform at 0x1059aa7b8>\n",
      "shearfactor           function    <function shearfactor at 0x1059aa840>\n",
      "showturtle            function    <function showturtle at 0x1059aa8c8>\n",
      "speed                 function    <function speed at 0x1059aa950>\n",
      "st                    function    <function st at 0x1059aa9d8>\n",
      "stamp                 function    <function stamp at 0x1059aaa60>\n",
      "textinput             function    <function textinput at 0x10599cd08>\n",
      "tilt                  function    <function tilt at 0x1059aaae8>\n",
      "tiltangle             function    <function tiltangle at 0x1059aab70>\n",
      "title                 function    <function title at 0x10599cd90>\n",
      "towards               function    <function towards at 0x1059aabf8>\n",
      "tracer                function    <function tracer at 0x10599ce18>\n",
      "turtles               function    <function turtles at 0x10599cea0>\n",
      "turtlesize            function    <function turtlesize at 0x1059aad08>\n",
      "undo                  function    <function undo at 0x1059aad90>\n",
      "undobufferentries     function    <function undobufferentries at 0x1059aae18>\n",
      "up                    function    <function up at 0x1059aaea0>\n",
      "update                function    <function update at 0x10599cf28>\n",
      "width                 function    <function width at 0x1059aaf28>\n",
      "window_height         function    <function window_height at 0x1059a1048>\n",
      "window_width          function    <function window_width at 0x1059a10d0>\n",
      "write                 function    <function write at 0x1059b30d0>\n",
      "write_docstringdict   function    <function write_docstringdict at 0x105997620>\n",
      "xcor                  function    <function xcor at 0x1059b3158>\n",
      "ycor                  function    <function ycor at 0x1059b31e0>\n"
     ]
    }
   ],
   "source": [
    "whos"
   ]
  },
  {
   "cell_type": "code",
   "execution_count": 17,
   "metadata": {
    "slideshow": {
     "slide_type": "fragment"
    }
   },
   "outputs": [],
   "source": [
    "draw_koch_snowflake?"
   ]
  },
  {
   "cell_type": "code",
   "execution_count": 18,
   "metadata": {
    "slideshow": {
     "slide_type": "fragment"
    }
   },
   "outputs": [],
   "source": [
    "draw_koch_snowflake.main?"
   ]
  },
  {
   "cell_type": "markdown",
   "metadata": {
    "slideshow": {
     "slide_type": "slide"
    }
   },
   "source": [
    "Let's make a little script\n",
    "-----\n",
    "\n",
    "Print today's day of the week"
   ]
  },
  {
   "cell_type": "code",
   "execution_count": 25,
   "metadata": {
    "slideshow": {
     "slide_type": "slide"
    }
   },
   "outputs": [
    {
     "data": {
      "text/plain": [
       "'Monday'"
      ]
     },
     "execution_count": 25,
     "metadata": {},
     "output_type": "execute_result"
    }
   ],
   "source": [
    "# It is best practice to start work in REPL\n",
    "# Use documentation and fluent interface\n",
    "# https://docs.python.org/3/library/datetime.html#date-objects\n",
    "\n",
    "from datetime import date\n",
    "\n",
    "date.today().strftime('%A')"
   ]
  },
  {
   "cell_type": "markdown",
   "metadata": {
    "slideshow": {
     "slide_type": "fragment"
    }
   },
   "source": [
    "Then move working code to file"
   ]
  },
  {
   "cell_type": "code",
   "execution_count": 27,
   "metadata": {
    "slideshow": {
     "slide_type": "slide"
    }
   },
   "outputs": [
    {
     "name": "stdout",
     "output_type": "stream",
     "text": [
      "Overwriting display_todays_day_of_week.py\n"
     ]
    }
   ],
   "source": [
    "%%writefile display_todays_day_of_week.py\n",
    "\"Print today's day of the week\"\n",
    "\n",
    "from datetime import date\n",
    "\n",
    "def main():\n",
    "    day_of_week = date.today().strftime('%a')\n",
    "    print(day_of_week)\n",
    "\n",
    "if __name__ == '__main__':  # Code to execute if called from command-line. If imported, don't run\n",
    "    main()    "
   ]
  },
  {
   "cell_type": "markdown",
   "metadata": {
    "slideshow": {
     "slide_type": "fragment"
    }
   },
   "source": [
    "Now we can run it"
   ]
  },
  {
   "cell_type": "code",
   "execution_count": 21,
   "metadata": {
    "slideshow": {
     "slide_type": "slide"
    }
   },
   "outputs": [
    {
     "name": "stdout",
     "output_type": "stream",
     "text": [
      "Monday\r\n"
     ]
    }
   ],
   "source": [
    "! python display_todays_day_of_week.py"
   ]
  },
  {
   "cell_type": "markdown",
   "metadata": {
    "slideshow": {
     "slide_type": "slide"
    }
   },
   "source": [
    "[Source](https://stackoverflow.com/questions/21034373/how-to-load-edit-run-save-text-files-py-into-an-ipython-notebook-cell) "
   ]
  },
  {
   "cell_type": "markdown",
   "metadata": {
    "slideshow": {
     "slide_type": "slide"
    }
   },
   "source": [
    "Pros of Script Style\n",
    "-----\n",
    "\n",
    "1. Easier to run large pieces of code.\n",
    "1. Easier to run code that might take a long time.\n",
    "1. Easier to editing more complex code.\n",
    "1. Easier to share your code with other people.\n",
    "1. Starts you on the path to be a software engineer or machine learning engineer."
   ]
  },
  {
   "cell_type": "markdown",
   "metadata": {
    "slideshow": {
     "slide_type": "slide"
    }
   },
   "source": [
    "Cons of Script Style\n",
    "-----\n",
    "\n",
    "1. Always a muli-step process.\n",
    "1. Harder and slower to get feedback."
   ]
  },
  {
   "cell_type": "markdown",
   "metadata": {
    "slideshow": {
     "slide_type": "slide"
    }
   },
   "source": [
    "Summary\n",
    "----\n",
    "\n",
    "- Start __all__ code at the REPL in interactive style.\n",
    "- As code becomes more complex, move to scripting style.\n",
    "- Write scripts in a plain text editor like Sublime Text 3.\n",
    "- Run scripts at the command line with \"$ python script.py\".\n",
    "- A little bit of scripting goes a long ways to make your job easier."
   ]
  },
  {
   "cell_type": "markdown",
   "metadata": {
    "slideshow": {
     "slide_type": "slide"
    }
   },
   "source": [
    " "
   ]
  },
  {
   "cell_type": "markdown",
   "metadata": {
    "slideshow": {
     "slide_type": "slide"
    }
   },
   "source": [
    "Bonus Material\n",
    "-----"
   ]
  },
  {
   "cell_type": "markdown",
   "metadata": {},
   "source": [
    "Conversion from Jupyter Notebook to `.py`\n",
    "-----\n",
    "\n",
    "Do __not__ copy and past and entire script\n",
    "\n",
    "- GUI \n",
    "\n",
    "    Menu: File -> Download as -> Python (.py)\n",
    "    \n",
    "- CLI \n",
    "    `$ nbconvert`\n",
    "\n",
    "    `$ jupyter nbconvert --to script notebook.ipynb`"
   ]
  },
  {
   "cell_type": "markdown",
   "metadata": {},
   "source": [
    "Learn more [here](https://nbconvert.readthedocs.io/en/latest/usage.html#convert-script)"
   ]
  },
  {
   "cell_type": "markdown",
   "metadata": {
    "slideshow": {
     "slide_type": "slide"
    }
   },
   "source": [
    "Demo `nano` (if time)\n",
    "-----\n",
    "\n",
    "`$ nano`"
   ]
  },
  {
   "cell_type": "markdown",
   "metadata": {
    "slideshow": {
     "slide_type": "slide"
    }
   },
   "source": [
    "Further Study\n",
    "------\n",
    "\n",
    "Add flags/arguments/parameters to your script\n",
    "\n",
    "- https://realpython.com/command-line-interfaces-python-argparse/\n",
    "\n",
    "- https://docs.python.org/3/library/argparse.html#the-add-argument-method\n"
   ]
  },
  {
   "cell_type": "markdown",
   "metadata": {
    "slideshow": {
     "slide_type": "slide"
    }
   },
   "source": [
    " "
   ]
  }
 ],
 "metadata": {
  "celltoolbar": "Slideshow",
  "kernelspec": {
   "display_name": "Python 3",
   "language": "python",
   "name": "python3"
  },
  "language_info": {
   "codemirror_mode": {
    "name": "ipython",
    "version": 3
   },
   "file_extension": ".py",
   "mimetype": "text/x-python",
   "name": "python",
   "nbconvert_exporter": "python",
   "pygments_lexer": "ipython3",
   "version": "3.7.3"
  },
  "toc": {
   "base_numbering": 1,
   "nav_menu": {},
   "number_sections": false,
   "sideBar": false,
   "skip_h1_title": false,
   "title_cell": "Table of Contents",
   "title_sidebar": "Contents",
   "toc_cell": true,
   "toc_position": {},
   "toc_section_display": true,
   "toc_window_display": false
  }
 },
 "nbformat": 4,
 "nbformat_minor": 2
}
