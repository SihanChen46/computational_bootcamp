{
 "cells": [
  {
   "cell_type": "markdown",
   "metadata": {
    "slideshow": {
     "slide_type": "skip"
    },
    "toc": true
   },
   "source": [
    "<h1>Table of Contents<span class=\"tocSkip\"></span></h1>\n",
    "<div class=\"toc\"><ul class=\"toc-item\"><li><span><a href=\"#Recursion:-The-One-Weird-Trick-That-Programmers-Know\" data-toc-modified-id=\"Recursion:-The-One-Weird-Trick-That-Programmers-Know-1\">Recursion: The One Weird Trick That Programmers Know</a></span></li><li><span><a href=\"#Learning-Outcomes\" data-toc-modified-id=\"Learning-Outcomes-2\">Learning Outcomes</a></span><ul class=\"toc-item\"><li><ul class=\"toc-item\"><li><span><a href=\"#By-the-end-of-this-session,-you-should-be-able-to:\" data-toc-modified-id=\"By-the-end-of-this-session,-you-should-be-able-to:-2.0.1\">By the end of this session, you should be able to:</a></span></li></ul></li></ul></li><li><span><a href=\"#Why-learn-recursion?\" data-toc-modified-id=\"Why-learn-recursion?-3\">Why learn recursion?</a></span></li><li><span><a href=\"#Tree-like-structure-&amp;-Backtracking\" data-toc-modified-id=\"Tree-like-structure-&amp;-Backtracking-4\">Tree-like structure &amp; Backtracking</a></span></li><li><span><a href=\"#What-is-recursion?\" data-toc-modified-id=\"What-is-recursion?-5\">What is recursion?</a></span></li><li><span><a href=\"#A-Metaphor-for-Recursion\" data-toc-modified-id=\"A-Metaphor-for-Recursion-6\">A Metaphor for Recursion</a></span></li><li><span><a href=\"#Recursion-is-all-around\" data-toc-modified-id=\"Recursion-is-all-around-7\">Recursion is all around</a></span></li><li><span><a href=\"#Recursion-in-Nature:-Trees\" data-toc-modified-id=\"Recursion-in-Nature:-Trees-8\">Recursion in Nature: Trees</a></span></li><li><span><a href=\"#Recursion-in-Computer-Science:-Binary-Trees\" data-toc-modified-id=\"Recursion-in-Computer-Science:-Binary-Trees-9\">Recursion in Computer Science: Binary Trees</a></span></li><li><span><a href=\"#Recursion-in-Data-Science:-Decision-Trees\" data-toc-modified-id=\"Recursion-in-Data-Science:-Decision-Trees-10\">Recursion in Data Science: Decision Trees</a></span></li><li><span><a href=\"#The-2-Requirements-of-Recursion\" data-toc-modified-id=\"The-2-Requirements-of-Recursion-11\">The 2 Requirements of Recursion</a></span></li><li><span><a href=\"#What-is-a-base-case?\" data-toc-modified-id=\"What-is-a-base-case?-12\">What is a base case?</a></span></li><li><span><a href=\"#How-to-move-towards-a-base-case?\" data-toc-modified-id=\"How-to-move-towards-a-base-case?-13\">How to move towards a base case?</a></span></li><li><span><a href=\"#Recursive-Example:-Countdown-\" data-toc-modified-id=\"Recursive-Example:-Countdown--14\">Recursive Example: Countdown </a></span></li><li><span><a href=\"#Questions?\" data-toc-modified-id=\"Questions?-15\">Questions?</a></span></li><li><span><a href=\"#How-do-you-learn-recursion?\" data-toc-modified-id=\"How-do-you-learn-recursion?-16\">How do you learn recursion?</a></span></li><li><span><a href=\"#Student-Activity\" data-toc-modified-id=\"Student-Activity-17\">Student Activity</a></span></li><li><span><a href=\"#Student-Activity\" data-toc-modified-id=\"Student-Activity-18\">Student Activity</a></span></li><li><span><a href=\"#Generating-Factorial-Recursively\" data-toc-modified-id=\"Generating-Factorial-Recursively-19\">Generating Factorial Recursively</a></span></li><li><span><a href=\"#Summing-a-list-recursively\" data-toc-modified-id=\"Summing-a-list-recursively-20\">Summing a list recursively</a></span></li><li><span><a href=\"#Recursive-Example:-Summing-a-list-\" data-toc-modified-id=\"Recursive-Example:-Summing-a-list--21\">Recursive Example: Summing a list </a></span></li><li><span><a href=\"#Student-Activity\" data-toc-modified-id=\"Student-Activity-22\">Student Activity</a></span></li><li><span><a href=\"#Python-uses-a-stack-of-frames-for-recursion\" data-toc-modified-id=\"Python-uses-a-stack-of-frames-for-recursion-23\">Python uses a stack of frames for recursion</a></span></li><li><span><a href=\"#What-is-the-relationship-between-looping-and-recursion?\" data-toc-modified-id=\"What-is-the-relationship-between-looping-and-recursion?-24\">What is the relationship between looping and recursion?</a></span></li><li><span><a href=\"#-How-can-you-refactor-recursion-to-be-procedural?-\" data-toc-modified-id=\"-How-can-you-refactor-recursion-to-be-procedural?--25\"> How can you refactor recursion to be procedural? </a></span></li><li><span><a href=\"#Check-for-understanding\" data-toc-modified-id=\"Check-for-understanding-26\">Check for understanding</a></span></li><li><span><a href=\"#What-are-limitations-of-recursion?\" data-toc-modified-id=\"What-are-limitations-of-recursion?-27\">What are limitations of recursion?</a></span></li><li><span><a href=\"#How-much-recursion-does-Python-support?--\" data-toc-modified-id=\"How-much-recursion-does-Python-support?---28\">How much recursion does Python support?  </a></span></li><li><span><a href=\"#Closing-Thoughts\" data-toc-modified-id=\"Closing-Thoughts-29\">Closing Thoughts</a></span></li><li><span><a href=\"#Summary\" data-toc-modified-id=\"Summary-30\">Summary</a></span></li><li><span><a href=\"#Bonus-Material\" data-toc-modified-id=\"Bonus-Material-31\">Bonus Material</a></span></li><li><span><a href=\"#Recursion-is-best-paired-with-caching\" data-toc-modified-id=\"Recursion-is-best-paired-with-caching-32\">Recursion is best paired with caching</a></span></li><li><span><a href=\"#Why-does-Python-not-support-Tail-Optimization?\" data-toc-modified-id=\"Why-does-Python-not-support-Tail-Optimization?-33\">Why does Python not support Tail Optimization?</a></span></li><li><span><a href=\"#Further-Study\" data-toc-modified-id=\"Further-Study-34\">Further Study</a></span></li></ul></div>"
   ]
  },
  {
   "cell_type": "markdown",
   "metadata": {
    "slideshow": {
     "slide_type": "slide"
    }
   },
   "source": [
    "<center><h2>Recursion: The One Weird Trick That Programmers Know</h2></center>\n",
    "\n",
    "<center><img src=\"images/go_again.jpeg\" width=\"65%\"/></center>"
   ]
  },
  {
   "cell_type": "markdown",
   "metadata": {
    "slideshow": {
     "slide_type": "slide"
    }
   },
   "source": [
    "<center><h2>Learning Outcomes</h2></center>\n",
    "\n",
    "#### By the end of this session, you should be able to:\n",
    "\n",
    "- Explain recursion in your own words.\n",
    "- List the 2 requirements of recursion.\n",
    "- Write a recursion function in Python.\n",
    "- Explain the pros and cons of recursion in Python.\n"
   ]
  },
  {
   "cell_type": "markdown",
   "metadata": {
    "slideshow": {
     "slide_type": "slide"
    }
   },
   "source": [
    "<center><h2>Why learn recursion?</h2></center>\n",
    "\n"
   ]
  },
  {
   "cell_type": "markdown",
   "metadata": {
    "slideshow": {
     "slide_type": "fragment"
    }
   },
   "source": [
    "- Programming rite of passage"
   ]
  },
  {
   "cell_type": "markdown",
   "metadata": {
    "slideshow": {
     "slide_type": "fragment"
    }
   },
   "source": [
    "- A handful of problems are well-solved with recursion: Tree-like structure and backtracking problems.\n",
    "\n"
   ]
  },
  {
   "cell_type": "markdown",
   "metadata": {
    "slideshow": {
     "slide_type": "slide"
    }
   },
   "source": [
    "Tree-like structure & Backtracking\n",
    "------\n",
    "\n",
    "Tree-like structure - repeated substructures that exactly the same and simple\n",
    "\n",
    "Backtracking - removing attempted solutions that don't work"
   ]
  },
  {
   "cell_type": "markdown",
   "metadata": {
    "slideshow": {
     "slide_type": "slide"
    }
   },
   "source": [
    "<center><h2>What is recursion?</h2></center>\n",
    "\n",
    "Recursion solves a big problem by building up a final solution from solving increasingly smaller examples of the same problem."
   ]
  },
  {
   "cell_type": "markdown",
   "metadata": {
    "slideshow": {
     "slide_type": "fragment"
    }
   },
   "source": [
    "Recursion is an example of a Divide-and-Conquer algorithm."
   ]
  },
  {
   "cell_type": "markdown",
   "metadata": {
    "slideshow": {
     "slide_type": "slide"
    }
   },
   "source": [
    "<center><h2>A Metaphor for Recursion</h2></center> \n",
    "\n",
    "<center><img src=\"images/dolls.jpg\" width=\"52%\"/></center>"
   ]
  },
  {
   "cell_type": "markdown",
   "metadata": {
    "slideshow": {
     "slide_type": "slide"
    }
   },
   "source": [
    "<center><img src=\"https://pics.me.me/i-dated-one-of-those-russian-nesting-dolls-for-a-3219869.png\" width=\"75%\"/></center>"
   ]
  },
  {
   "cell_type": "markdown",
   "metadata": {
    "slideshow": {
     "slide_type": "slide"
    }
   },
   "source": [
    "<center><h2>Recursion is all around</h2></center>\n"
   ]
  },
  {
   "cell_type": "markdown",
   "metadata": {
    "slideshow": {
     "slide_type": "fragment"
    }
   },
   "source": [
    "- Nature: Trees, ferns, rivers, …\n"
   ]
  },
  {
   "cell_type": "markdown",
   "metadata": {
    "slideshow": {
     "slide_type": "fragment"
    }
   },
   "source": [
    "- Math: Fibonacci sequence, Golden Spiral, Peano & Von Koch curves, fractals, …\n"
   ]
  },
  {
   "cell_type": "markdown",
   "metadata": {
    "slideshow": {
     "slide_type": "fragment"
    }
   },
   "source": [
    " - Programming: Searching, sorting, … "
   ]
  },
  {
   "cell_type": "markdown",
   "metadata": {
    "slideshow": {
     "slide_type": "slide"
    }
   },
   "source": [
    "<center><h2>Recursion in Nature: Trees</h2></center>\n",
    "\n",
    "<center><img src=\"images/tree.jpg\" width=\"65%\"/></center>"
   ]
  },
  {
   "cell_type": "markdown",
   "metadata": {
    "slideshow": {
     "slide_type": "slide"
    }
   },
   "source": [
    "<center><h2>Recursion in Computer Science: Binary Trees</h2></center> \n",
    "\n",
    "<center><img src=\"images/binary_tree.png\" width=\"75%\"/></center>"
   ]
  },
  {
   "cell_type": "markdown",
   "metadata": {
    "slideshow": {
     "slide_type": "slide"
    }
   },
   "source": [
    "<center><h2>Recursion in Data Science: Decision Trees</h2></center>  \n",
    "\n",
    "<center><img src=\"images/decision_tree.png\" width=\"75%\"/></center>"
   ]
  },
  {
   "cell_type": "markdown",
   "metadata": {
    "slideshow": {
     "slide_type": "slide"
    }
   },
   "source": [
    "<center><h2>The 2 Requirements of Recursion</h2></center> "
   ]
  },
  {
   "cell_type": "markdown",
   "metadata": {
    "slideshow": {
     "slide_type": "fragment"
    }
   },
   "source": [
    "1) A recursive algorithm must have a base case. "
   ]
  },
  {
   "cell_type": "markdown",
   "metadata": {
    "slideshow": {
     "slide_type": "fragment"
    }
   },
   "source": [
    "2) A recursive algorithm must call itself to change state to move toward the base case."
   ]
  },
  {
   "cell_type": "markdown",
   "metadata": {
    "slideshow": {
     "slide_type": "slide"
    }
   },
   "source": [
    "<center><h2>What is a base case?</h2></center>\n",
    "\n",
    "A base case is the simplest version of the problem.\n",
    "\n",
    "A base case should be trivial to solve.\n",
    "\n",
    "A base case should require a single (hopefully simple) step to get a solution state."
   ]
  },
  {
   "cell_type": "markdown",
   "metadata": {
    "slideshow": {
     "slide_type": "slide"
    }
   },
   "source": [
    "<center><h2>How to move towards a base case?</h2></center>\n",
    "\n",
    " A recursive algorithm must call itself to change state to move toward the base case."
   ]
  },
  {
   "cell_type": "markdown",
   "metadata": {
    "slideshow": {
     "slide_type": "slide"
    }
   },
   "source": [
    "<center><h2>Recursive Example: Countdown </h2></center>\n",
    "\n",
    "You are working a space company and are asked by the CEO to build countdown to launch a rocket to Mars.\n",
    "\n",
    "Your CEO asks you to write a recursive function. How do you do it?"
   ]
  },
  {
   "cell_type": "markdown",
   "metadata": {
    "slideshow": {
     "slide_type": "fragment"
    }
   },
   "source": [
    "What is the base case?\n",
    "\n",
    "How do we move towards the base case?"
   ]
  },
  {
   "cell_type": "code",
   "execution_count": 21,
   "metadata": {
    "slideshow": {
     "slide_type": "skip"
    }
   },
   "outputs": [],
   "source": [
    "reset -fs"
   ]
  },
  {
   "cell_type": "code",
   "execution_count": 39,
   "metadata": {
    "slideshow": {
     "slide_type": "slide"
    }
   },
   "outputs": [],
   "source": [
    " def count_down(n:int) -> None:\n",
    "    \"Recursive countdown\"\n",
    "    if n == 0: # Base case\n",
    "        print(\"Blastoff! 🚀\")\n",
    "    else: \n",
    "        print(n)\n",
    "        count_down(n - 1) # Move towards base case by calling itself"
   ]
  },
  {
   "cell_type": "code",
   "execution_count": 41,
   "metadata": {
    "slideshow": {
     "slide_type": "fragment"
    }
   },
   "outputs": [
    {
     "name": "stdout",
     "output_type": "stream",
     "text": [
      "6\n",
      "5\n",
      "4\n",
      "3\n",
      "2\n",
      "1\n",
      "Blastoff! 🚀\n"
     ]
    }
   ],
   "source": [
    "count_down(6)"
   ]
  },
  {
   "cell_type": "code",
   "execution_count": 24,
   "metadata": {
    "slideshow": {
     "slide_type": "skip"
    }
   },
   "outputs": [],
   "source": [
    "from metakernel import register_ipython_magics\n",
    "register_ipython_magics()"
   ]
  },
  {
   "cell_type": "code",
   "execution_count": 25,
   "metadata": {
    "code_folding": [],
    "slideshow": {
     "slide_type": "slide"
    }
   },
   "outputs": [
    {
     "data": {
      "text/html": [
       "\n",
       "        <iframe\n",
       "            width=\"100%\"\n",
       "            height=\"500\"\n",
       "            src=\"https://pythontutor.com/iframe-embed.html#code=def%20count_down%28n%3Aint%29%20-%3E%20None%3A%0A%20%20%20%20%22Recursive%20countdown%22%0A%20%20%20%20if%20n%20%3D%3D%200%3A%20%23%20Base%20case%0A%20%20%20%20%20%20%20%20print%28%22Blastoff%21%20%F0%9F%9A%80%22%29%0A%20%20%20%20else%3A%20%0A%20%20%20%20%20%20%20%20print%28n%29%0A%20%20%20%20%20%20%20%20count_down%28n%20-%201%29%20%23%20Move%20towards%20base%20case%20by%20calling%20itself%0A%0Acount_down%285%29%0A&origin=opt-frontend.js&cumulative=false&heapPrimitives=false&textReferences=false&py=3&rawInputLstJSON=%5B%5D&curInstr=0&codeDivWidth=350&codeDivHeight=400\"\n",
       "            frameborder=\"0\"\n",
       "            allowfullscreen\n",
       "        ></iframe>\n",
       "        "
      ],
      "text/plain": [
       "<IPython.lib.display.IFrame at 0x10b6ee780>"
      ]
     },
     "metadata": {},
     "output_type": "display_data"
    }
   ],
   "source": [
    "%%tutor  \n",
    "def count_down(n:int) -> None:\n",
    "    \"Recursive countdown\"\n",
    "    if n == 0: # Base case\n",
    "        print(\"Blastoff! 🚀\")\n",
    "    else: \n",
    "        print(n)\n",
    "        count_down(n - 1) # Move towards base case by calling itself\n",
    "\n",
    "count_down(5)"
   ]
  },
  {
   "cell_type": "markdown",
   "metadata": {
    "slideshow": {
     "slide_type": "slide"
    }
   },
   "source": [
    "<center><h2>Questions?</h2></center> "
   ]
  },
  {
   "cell_type": "markdown",
   "metadata": {
    "slideshow": {
     "slide_type": "slide"
    }
   },
   "source": [
    "<center><h2>How do you learn recursion?</h2></center> \n",
    "\n",
    "1. Learn the concept and the requirements.\n",
    "1. Practice a lot by trying to write and understand recursive code.\n",
    "1. Honestly, just keep doing it. You will get/\"grok\" recursion at some point."
   ]
  },
  {
   "cell_type": "markdown",
   "metadata": {
    "slideshow": {
     "slide_type": "slide"
    }
   },
   "source": [
    "<center><h2>Student Activity</h2></center>\n",
    "\n",
    "Take `count_down` function and rewrite it be `count_up`.\n",
    "\n",
    "```python\n",
    "def count_down(n:int) -> None:\n",
    "    if n == 0: # Base case\n",
    "        print(\"Blastoff! 🚀\")\n",
    "    else: \n",
    "        print(n)\n",
    "        count_down(n - 1) # Move towards base case by calling itself\n",
    "```\n",
    "\n",
    "Everyone will either work in Jupyter Notebook or IPython at the command line."
   ]
  },
  {
   "cell_type": "code",
   "execution_count": 43,
   "metadata": {
    "slideshow": {
     "slide_type": "slide"
    }
   },
   "outputs": [
    {
     "name": "stdout",
     "output_type": "stream",
     "text": [
      "1\n",
      "2\n",
      "3\n",
      "4\n",
      "5\n",
      "done\n"
     ]
    }
   ],
   "source": [
    "def countup(stop: int, n: int=1) -> None:\n",
    "    print(n)\n",
    "    if n < stop:\n",
    "        countup(stop, n+1)\n",
    "    else:\n",
    "        print('done')\n",
    "\n",
    "countup(stop=5)"
   ]
  },
  {
   "cell_type": "markdown",
   "metadata": {
    "slideshow": {
     "slide_type": "slide"
    }
   },
   "source": [
    "<center><h2>Student Activity</h2></center>\n",
    "\n",
    "Write a recursive factorial function.\n",
    "\n",
    "$$ {\\displaystyle n!=n\\times (n-1)\\times (n-2)\\times (n-3)\\times ...\\times 3\\times 2\\times 1\\,}$$\n",
    "\n",
    "$${\\displaystyle 5!=5\\times 4\\times 3\\times 2\\times 1=120\\,}$$"
   ]
  },
  {
   "cell_type": "markdown",
   "metadata": {
    "slideshow": {
     "slide_type": "slide"
    }
   },
   "source": [
    "Generating Factorial Recursively\n",
    "-----\n",
    "1) What is the base case?\n",
    "\n",
    "$$1!=1$$"
   ]
  },
  {
   "cell_type": "markdown",
   "metadata": {
    "slideshow": {
     "slide_type": "fragment"
    }
   },
   "source": [
    "2) How do we move towards the base case?\n",
    "\n",
    "$$2! = 2\\times 1! = 2 \\times 1 = 2$$\n",
    "$$3! = 3\\times (2!)= 3 \\times 2 \\times ( 1!)  = 3 \\times 2 \\times 1 = 6$$"
   ]
  },
  {
   "cell_type": "markdown",
   "metadata": {
    "slideshow": {
     "slide_type": "slide"
    }
   },
   "source": [
    "<center><img src=\"images/fact.png\" width=\"100%\"/></center> "
   ]
  },
  {
   "cell_type": "code",
   "execution_count": 27,
   "metadata": {
    "slideshow": {
     "slide_type": "slide"
    }
   },
   "outputs": [
    {
     "data": {
      "text/plain": [
       "120"
      ]
     },
     "execution_count": 27,
     "metadata": {},
     "output_type": "execute_result"
    }
   ],
   "source": [
    "def factorial(n:int) -> int:\n",
    "    if n == 1:\n",
    "        return 1\n",
    "    else:\n",
    "        return  n * factorial(n - 1)\n",
    "\n",
    "factorial(5)"
   ]
  },
  {
   "cell_type": "code",
   "execution_count": 28,
   "metadata": {},
   "outputs": [],
   "source": [
    "assert factorial(1) == 1\n",
    "assert factorial(2) == 2\n",
    "assert factorial(3) == 6\n",
    "assert factorial(5) == 120"
   ]
  },
  {
   "cell_type": "code",
   "execution_count": 44,
   "metadata": {
    "slideshow": {
     "slide_type": "slide"
    }
   },
   "outputs": [
    {
     "data": {
      "text/html": [
       "\n",
       "        <iframe\n",
       "            width=\"100%\"\n",
       "            height=\"500\"\n",
       "            src=\"https://pythontutor.com/iframe-embed.html#code=%23%20How%20many%20steps%20will%20this%20code%20take%3F%0Adef%20factorial%28n%3Aint%29%20-%3E%20int%3A%0A%20%20%20%20if%20n%20%3D%3D%201%3A%0A%20%20%20%20%20%20%20%20return%201%0A%20%20%20%20else%3A%0A%20%20%20%20%20%20%20%20return%20%20n%20%2A%20factorial%28n%20-%201%29%0A%0Afactorial%285%29%0A&origin=opt-frontend.js&cumulative=false&heapPrimitives=false&textReferences=false&py=3&rawInputLstJSON=%5B%5D&curInstr=0&codeDivWidth=350&codeDivHeight=400\"\n",
       "            frameborder=\"0\"\n",
       "            allowfullscreen\n",
       "        ></iframe>\n",
       "        "
      ],
      "text/plain": [
       "<IPython.lib.display.IFrame at 0x117fe3a90>"
      ]
     },
     "metadata": {},
     "output_type": "display_data"
    }
   ],
   "source": [
    "%%tutor\n",
    "# How many steps will this code take?\n",
    "def factorial(n:int) -> int:\n",
    "    if n == 1:\n",
    "        return 1\n",
    "    else:\n",
    "        return  n * factorial(n - 1)\n",
    "\n",
    "factorial(5)"
   ]
  },
  {
   "cell_type": "code",
   "execution_count": 30,
   "metadata": {
    "slideshow": {
     "slide_type": "slide"
    }
   },
   "outputs": [
    {
     "data": {
      "text/plain": [
       "120"
      ]
     },
     "execution_count": 30,
     "metadata": {},
     "output_type": "execute_result"
    }
   ],
   "source": [
    "# Refactored to be compact\n",
    "\n",
    "def factorial(n):\n",
    "    \"Recursive factorial function\"\n",
    "    return 1 if n <= 1 else n * factorial(n-1)\n",
    "\n",
    "factorial(5)"
   ]
  },
  {
   "cell_type": "markdown",
   "metadata": {
    "slideshow": {
     "slide_type": "slide"
    }
   },
   "source": [
    "<center><h2>Summing a list recursively</h2></center> \n",
    "\n",
    "```python\n",
    "sum_recursively([1, 2, 3, 4]) == 10\n",
    "```\n",
    "Think for moment:\n",
    "\n",
    "1. What is the base case?\n",
    "1. How we move towards the base case?"
   ]
  },
  {
   "cell_type": "markdown",
   "metadata": {
    "slideshow": {
     "slide_type": "slide"
    }
   },
   "source": [
    "<center><h2>Recursive Example: Summing a list </h2></center> \n",
    "\n",
    "1) What is the base case?\n",
    "\n",
    "The list has 1 element (The sum of a list with a single element is that one element).\n",
    "\n"
   ]
  },
  {
   "cell_type": "markdown",
   "metadata": {
    "slideshow": {
     "slide_type": "fragment"
    }
   },
   "source": [
    "2) How do we move towards the base case?\n",
    "\n",
    "Take all the items but the first item.\n",
    "\n",
    "Sum items as we go. "
   ]
  },
  {
   "cell_type": "markdown",
   "metadata": {
    "slideshow": {
     "slide_type": "fragment"
    }
   },
   "source": [
    "<center><h2>Student Activity</h2></center>\n",
    "\n",
    "Try to write a `sum_recursively` function.\n",
    "    \n",
    "```python\n",
    "assert sum_recursively([1, 2, 3, 4]) == 10 == sum([1, 2, 3, 4])\n",
    "```"
   ]
  },
  {
   "cell_type": "markdown",
   "metadata": {
    "slideshow": {
     "slide_type": "fragment"
    }
   },
   "source": [
    "```python\n",
    "[1] + [2, 3, 4]\n",
    "[1] + [2] + [3, 4]\n",
    "[1] + [2] + [3] + [4]\n",
    "```"
   ]
  },
  {
   "cell_type": "code",
   "execution_count": 45,
   "metadata": {
    "slideshow": {
     "slide_type": "slide"
    }
   },
   "outputs": [],
   "source": [
    "from typing import List\n",
    "\n",
    "def sum_recursively(nums: List[float]) -> float:\n",
    "    \"Recursively sum a list of numbers\"\n",
    "    if len(nums) == 1:\n",
    "        return nums[0]\n",
    "    else:\n",
    "        return nums[0] + sum_recursively(nums[1:]) \n",
    "\n",
    "assert sum_recursively([1, 2, 3, 4]) == 10 == sum([1, 2, 3, 4])"
   ]
  },
  {
   "cell_type": "code",
   "execution_count": 46,
   "metadata": {
    "slideshow": {
     "slide_type": "slide"
    }
   },
   "outputs": [
    {
     "data": {
      "text/html": [
       "\n",
       "        <iframe\n",
       "            width=\"100%\"\n",
       "            height=\"500\"\n",
       "            src=\"https://pythontutor.com/iframe-embed.html#code=from%20typing%20import%20List%0A%0Adef%20sum_recursively%28nums%3A%20List%5Bfloat%5D%29%20-%3E%20float%3A%0A%20%20%20%20%22Recursively%20sum%20a%20list%20of%20numbers%22%0A%20%20%20%20if%20len%28nums%29%20%3D%3D%201%3A%0A%20%20%20%20%20%20%20%20return%20nums%5B0%5D%0A%20%20%20%20else%3A%0A%20%20%20%20%20%20%20%20return%20nums%5B0%5D%20%2B%20sum_recursively%28nums%5B1%3A%5D%29%20%0A%0Asum_recursively%28%5B1%2C%202%2C%203%2C%204%5D%29%0A&origin=opt-frontend.js&cumulative=false&heapPrimitives=false&textReferences=false&py=3&rawInputLstJSON=%5B%5D&curInstr=0&codeDivWidth=350&codeDivHeight=400\"\n",
       "            frameborder=\"0\"\n",
       "            allowfullscreen\n",
       "        ></iframe>\n",
       "        "
      ],
      "text/plain": [
       "<IPython.lib.display.IFrame at 0x117fe3eb8>"
      ]
     },
     "metadata": {},
     "output_type": "display_data"
    }
   ],
   "source": [
    "%%tutor\n",
    "from typing import List\n",
    "\n",
    "def sum_recursively(nums: List[float]) -> float:\n",
    "    \"Recursively sum a list of numbers\"\n",
    "    if len(nums) == 1:\n",
    "        return nums[0]\n",
    "    else:\n",
    "        return nums[0] + sum_recursively(nums[1:]) \n",
    "\n",
    "sum_recursively([1, 2, 3, 4])"
   ]
  },
  {
   "cell_type": "code",
   "execution_count": 33,
   "metadata": {
    "slideshow": {
     "slide_type": "slide"
    }
   },
   "outputs": [],
   "source": [
    "# Refactored to be compact by using pop methods (in contrast to manually indexing)\n",
    "\n",
    "def sum_recursively(nums: List[float]) -> float:\n",
    "    return nums.pop() + sum_recursively(nums) if nums else 0\n",
    "\n",
    "assert sum_recursively([1, 2, 3, 4]) == 10"
   ]
  },
  {
   "cell_type": "markdown",
   "metadata": {
    "slideshow": {
     "slide_type": "slide"
    }
   },
   "source": [
    "Python uses a stack of frames for recursion\n",
    "------\n",
    "\n",
    "What is a __frame__?\n",
    "\n",
    "For our purposes, it is a function called that has local scope. There could be local variables in that called function\n",
    "\n",
    "What is a __stack__?\n",
    "\n",
    "A stack is a data structure that can hold any type of object. A stack is a sequence of data that only lets you interact with the topmost item."
   ]
  },
  {
   "cell_type": "markdown",
   "metadata": {
    "slideshow": {
     "slide_type": "slide"
    }
   },
   "source": [
    "<center><h2>What is the relationship between looping and recursion?</h2></center> \n",
    "\n",
    "Looping only passes variables."
   ]
  },
  {
   "cell_type": "code",
   "execution_count": 34,
   "metadata": {
    "slideshow": {
     "slide_type": "fragment"
    }
   },
   "outputs": [],
   "source": [
    "# Sum a list with looping\n",
    "index = 0\n",
    "total = 0\n",
    "nums = [1, 2, 3, 4]\n",
    "\n",
    "while index < len(nums):\n",
    "    total += nums[index]\n",
    "    index += 1\n",
    "    \n",
    "assert total == 10"
   ]
  },
  {
   "cell_type": "markdown",
   "metadata": {
    "slideshow": {
     "slide_type": "slide"
    }
   },
   "source": [
    "Recursion passes variables and functions, thus generalized looping.  \n",
    "Recursion is a variation on a while loop\n",
    " "
   ]
  },
  {
   "cell_type": "code",
   "execution_count": 35,
   "metadata": {
    "slideshow": {
     "slide_type": "skip"
    }
   },
   "outputs": [],
   "source": [
    "from typing import List"
   ]
  },
  {
   "cell_type": "code",
   "execution_count": 36,
   "metadata": {
    "slideshow": {
     "slide_type": "fragment"
    }
   },
   "outputs": [
    {
     "data": {
      "text/plain": [
       "10"
      ]
     },
     "execution_count": 36,
     "metadata": {},
     "output_type": "execute_result"
    }
   ],
   "source": [
    "# Sum a list with recursion\n",
    "def sum_recursively(nums: List[float]) -> float:\n",
    "    \"Recursively sum a list of numbers\"\n",
    "    if len(nums) == 1:\n",
    "        return nums[0]\n",
    "    else:\n",
    "        return nums[0] + sum_recursively(nums[1:]) \n",
    "\n",
    "sum_recursively([1, 2, 3, 4]) "
   ]
  },
  {
   "cell_type": "markdown",
   "metadata": {
    "slideshow": {
     "slide_type": "slide"
    }
   },
   "source": [
    "<center><h2> How can you refactor recursion to be procedural? </h2></center>\n",
    "\n",
    "Create and manage the stack yourself.\n",
    "\n",
    "Recursion code __automatically__ creates, uses, and destroys the stack. In Python, that is a series of \"frames\"."
   ]
  },
  {
   "cell_type": "markdown",
   "metadata": {
    "slideshow": {
     "slide_type": "fragment"
    }
   },
   "source": [
    "Procedural code __manually__ creates, uses, and destroys the stack.\n",
    "\n",
    "Computer Scientist ❤️ recursion because it is another example of automation."
   ]
  },
  {
   "cell_type": "markdown",
   "metadata": {
    "slideshow": {
     "slide_type": "slide"
    }
   },
   "source": [
    "Remember that as you pick a more abstract technique, you have more power but you have more cognitive load."
   ]
  },
  {
   "cell_type": "markdown",
   "metadata": {
    "slideshow": {
     "slide_type": "slide"
    }
   },
   "source": [
    "<center><h2>Check for understanding</h2></center>\n",
    "\n",
    "What happens if recursion does __not__ move towards base case?"
   ]
  },
  {
   "cell_type": "markdown",
   "metadata": {
    "slideshow": {
     "slide_type": "fragment"
    }
   },
   "source": [
    "Infinite loop, like a while loop that is never `False`."
   ]
  },
  {
   "cell_type": "markdown",
   "metadata": {
    "slideshow": {
     "slide_type": "slide"
    }
   },
   "source": [
    "<center><h2>What are limitations of recursion?</h2></center> "
   ]
  },
  {
   "cell_type": "markdown",
   "metadata": {
    "slideshow": {
     "slide_type": "slide"
    }
   },
   "source": [
    "1. Hard to reason about.\n",
    "1. Hard to debug.\n",
    "1. Often solves the same subproblem many times (unnecessary repeated work 🤮).\n",
    "1. Takes a lot of stack space and time in Python.\n",
    "1. Python supports limited number of recursive calls, aka number of stacks created.\n",
    "1. In most cases, there is a simpler and faster imperative approach."
   ]
  },
  {
   "cell_type": "code",
   "execution_count": 48,
   "metadata": {
    "slideshow": {
     "slide_type": "slide"
    }
   },
   "outputs": [
    {
     "ename": "RecursionError",
     "evalue": "maximum recursion depth exceeded while calling a Python object",
     "output_type": "error",
     "traceback": [
      "\u001b[0;31m---------------------------------------------------------------------------\u001b[0m",
      "\u001b[0;31mRecursionError\u001b[0m                            Traceback (most recent call last)",
      "\u001b[0;32m<ipython-input-48-d578f720a111>\u001b[0m in \u001b[0;36m<module>\u001b[0;34m\u001b[0m\n\u001b[1;32m      8\u001b[0m         \u001b[0;32mreturn\u001b[0m \u001b[0mnums\u001b[0m\u001b[0;34m[\u001b[0m\u001b[0;36m0\u001b[0m\u001b[0;34m]\u001b[0m \u001b[0;34m+\u001b[0m \u001b[0msum_recursively\u001b[0m\u001b[0;34m(\u001b[0m\u001b[0mnums\u001b[0m\u001b[0;34m[\u001b[0m\u001b[0;36m1\u001b[0m\u001b[0;34m:\u001b[0m\u001b[0;34m]\u001b[0m\u001b[0;34m)\u001b[0m\u001b[0;34m\u001b[0m\u001b[0;34m\u001b[0m\u001b[0m\n\u001b[1;32m      9\u001b[0m \u001b[0;34m\u001b[0m\u001b[0m\n\u001b[0;32m---> 10\u001b[0;31m \u001b[0msum_recursively\u001b[0m\u001b[0;34m(\u001b[0m\u001b[0;34m[\u001b[0m\u001b[0;36m1\u001b[0m\u001b[0;34m]\u001b[0m\u001b[0;34m*\u001b[0m\u001b[0;36m10_001\u001b[0m\u001b[0;34m)\u001b[0m\u001b[0;34m\u001b[0m\u001b[0;34m\u001b[0m\u001b[0m\n\u001b[0m",
      "\u001b[0;32m<ipython-input-48-d578f720a111>\u001b[0m in \u001b[0;36msum_recursively\u001b[0;34m(nums)\u001b[0m\n\u001b[1;32m      6\u001b[0m         \u001b[0;32mreturn\u001b[0m \u001b[0mnums\u001b[0m\u001b[0;34m[\u001b[0m\u001b[0;36m0\u001b[0m\u001b[0;34m]\u001b[0m\u001b[0;34m\u001b[0m\u001b[0;34m\u001b[0m\u001b[0m\n\u001b[1;32m      7\u001b[0m     \u001b[0;32melse\u001b[0m\u001b[0;34m:\u001b[0m\u001b[0;34m\u001b[0m\u001b[0;34m\u001b[0m\u001b[0m\n\u001b[0;32m----> 8\u001b[0;31m         \u001b[0;32mreturn\u001b[0m \u001b[0mnums\u001b[0m\u001b[0;34m[\u001b[0m\u001b[0;36m0\u001b[0m\u001b[0;34m]\u001b[0m \u001b[0;34m+\u001b[0m \u001b[0msum_recursively\u001b[0m\u001b[0;34m(\u001b[0m\u001b[0mnums\u001b[0m\u001b[0;34m[\u001b[0m\u001b[0;36m1\u001b[0m\u001b[0;34m:\u001b[0m\u001b[0;34m]\u001b[0m\u001b[0;34m)\u001b[0m\u001b[0;34m\u001b[0m\u001b[0;34m\u001b[0m\u001b[0m\n\u001b[0m\u001b[1;32m      9\u001b[0m \u001b[0;34m\u001b[0m\u001b[0m\n\u001b[1;32m     10\u001b[0m \u001b[0msum_recursively\u001b[0m\u001b[0;34m(\u001b[0m\u001b[0;34m[\u001b[0m\u001b[0;36m1\u001b[0m\u001b[0;34m]\u001b[0m\u001b[0;34m*\u001b[0m\u001b[0;36m10_001\u001b[0m\u001b[0;34m)\u001b[0m\u001b[0;34m\u001b[0m\u001b[0;34m\u001b[0m\u001b[0m\n",
      "... last 1 frames repeated, from the frame below ...\n",
      "\u001b[0;32m<ipython-input-48-d578f720a111>\u001b[0m in \u001b[0;36msum_recursively\u001b[0;34m(nums)\u001b[0m\n\u001b[1;32m      6\u001b[0m         \u001b[0;32mreturn\u001b[0m \u001b[0mnums\u001b[0m\u001b[0;34m[\u001b[0m\u001b[0;36m0\u001b[0m\u001b[0;34m]\u001b[0m\u001b[0;34m\u001b[0m\u001b[0;34m\u001b[0m\u001b[0m\n\u001b[1;32m      7\u001b[0m     \u001b[0;32melse\u001b[0m\u001b[0;34m:\u001b[0m\u001b[0;34m\u001b[0m\u001b[0;34m\u001b[0m\u001b[0m\n\u001b[0;32m----> 8\u001b[0;31m         \u001b[0;32mreturn\u001b[0m \u001b[0mnums\u001b[0m\u001b[0;34m[\u001b[0m\u001b[0;36m0\u001b[0m\u001b[0;34m]\u001b[0m \u001b[0;34m+\u001b[0m \u001b[0msum_recursively\u001b[0m\u001b[0;34m(\u001b[0m\u001b[0mnums\u001b[0m\u001b[0;34m[\u001b[0m\u001b[0;36m1\u001b[0m\u001b[0;34m:\u001b[0m\u001b[0;34m]\u001b[0m\u001b[0;34m)\u001b[0m\u001b[0;34m\u001b[0m\u001b[0;34m\u001b[0m\u001b[0m\n\u001b[0m\u001b[1;32m      9\u001b[0m \u001b[0;34m\u001b[0m\u001b[0m\n\u001b[1;32m     10\u001b[0m \u001b[0msum_recursively\u001b[0m\u001b[0;34m(\u001b[0m\u001b[0;34m[\u001b[0m\u001b[0;36m1\u001b[0m\u001b[0;34m]\u001b[0m\u001b[0;34m*\u001b[0m\u001b[0;36m10_001\u001b[0m\u001b[0;34m)\u001b[0m\u001b[0;34m\u001b[0m\u001b[0;34m\u001b[0m\u001b[0m\n",
      "\u001b[0;31mRecursionError\u001b[0m: maximum recursion depth exceeded while calling a Python object"
     ]
    }
   ],
   "source": [
    "# Sum a list with recursion\n",
    "\n",
    "def sum_recursively(nums: List[float]) -> float:\n",
    "    \"Recursively sum a list of numbers\"\n",
    "    if len(nums) == 1:\n",
    "        return nums[0]\n",
    "    else:\n",
    "        return nums[0] + sum_recursively(nums[1:]) \n",
    "\n",
    "sum_recursively([1]*10_001) "
   ]
  },
  {
   "cell_type": "markdown",
   "metadata": {
    "slideshow": {
     "slide_type": "slide"
    }
   },
   "source": [
    "How much recursion does Python support?  \n",
    "-----\n",
    "\n",
    "You might get `\"RecursionError: maximum recursion depth exceeded`\n",
    "\n",
    "1,000 frames by default, called stack-depth"
   ]
  },
  {
   "cell_type": "markdown",
   "metadata": {
    "slideshow": {
     "slide_type": "slide"
    }
   },
   "source": [
    "<center><h2>Closing Thoughts</h2></center>\n",
    "\n",
    "Recursion should be avoided in Python for most cases.\n",
    "\n",
    "The same functionality is often better implemented using for/while loops.\n",
    "\n",
    "There are other programming languages that better support recursion."
   ]
  },
  {
   "cell_type": "markdown",
   "metadata": {
    "slideshow": {
     "slide_type": "slide"
    }
   },
   "source": [
    "<center><h2>Summary</h2></center>\n",
    "\n",
    "- Recursion is a divide-and-conquer algorithm that solves a large problem by:\n",
    "    - Dividing it into slightly smaller subproblems that are the small as the large problem\n",
    "    - Solving each subproblem\n",
    "    - Putting the solution back together\n",
    "- The 2 requirements of recursion:\n",
    "    1. Define a base case.\n",
    "    2. Step towards the base case by the calling the same function\n",
    "- Recursion is an important concept in programming.\n",
    "- Recursion has limited application in Python."
   ]
  },
  {
   "cell_type": "markdown",
   "metadata": {
    "slideshow": {
     "slide_type": "slide"
    }
   },
   "source": [
    " "
   ]
  },
  {
   "cell_type": "markdown",
   "metadata": {
    "slideshow": {
     "slide_type": "slide"
    }
   },
   "source": [
    "Bonus Material\n",
    "------"
   ]
  },
  {
   "cell_type": "code",
   "execution_count": 38,
   "metadata": {},
   "outputs": [],
   "source": [
    "# Change stack depth limit\n",
    "import sys\n",
    "\n",
    "sys.setrecursionlimit(1_001)"
   ]
  },
  {
   "cell_type": "markdown",
   "metadata": {
    "slideshow": {
     "slide_type": "slide"
    }
   },
   "source": [
    "Google \"recursion\" for fun "
   ]
  },
  {
   "cell_type": "markdown",
   "metadata": {},
   "source": [
    "Recursion is best paired with caching\n",
    "-----\n",
    "\n",
    "Caching means storing previous results instead of recomputing them.\n",
    "\n",
    "Caching is one the best ideas in Computer Science.\n",
    "\n",
    "One type of caching is called memoization, writing a memo to the future. \n",
    "\n",
    "Memoizatizing a recursive function is called dynamic programming.\n",
    "\n",
    "Dynamic programming tries to looks up the value "
   ]
  },
  {
   "cell_type": "markdown",
   "metadata": {
    "slideshow": {
     "slide_type": "slide"
    }
   },
   "source": [
    "Why does Python not support Tail Optimization?\n",
    "-------\n",
    "\n",
    "see Guido van Rossums blog posts \"[Tail Recursion Elimination](http://neopythonic.blogspot.com.au/2009/04/tail-recursion-elimination.html)\" and \"[Final Words on Tail Calls](http://neopythonic.blogspot.com.au/2009/04/final-words-on-tail-calls.html).\" "
   ]
  },
  {
   "cell_type": "markdown",
   "metadata": {},
   "source": [
    "Further Study\n",
    "------\n",
    "\n",
    "[Real Python take on recursion](https://realpython.com/python-thinking-recursively/)"
   ]
  },
  {
   "cell_type": "markdown",
   "metadata": {},
   "source": [
    " "
   ]
  }
 ],
 "metadata": {
  "celltoolbar": "Slideshow",
  "kernelspec": {
   "display_name": "Python 3",
   "language": "python",
   "name": "python3"
  },
  "language_info": {
   "codemirror_mode": {
    "name": "ipython",
    "version": 3
   },
   "file_extension": ".py",
   "mimetype": "text/x-python",
   "name": "python",
   "nbconvert_exporter": "python",
   "pygments_lexer": "ipython3",
   "version": "3.7.3"
  },
  "toc": {
   "base_numbering": 1,
   "nav_menu": {},
   "number_sections": false,
   "sideBar": false,
   "skip_h1_title": false,
   "title_cell": "Table of Contents",
   "title_sidebar": "Contents",
   "toc_cell": true,
   "toc_position": {},
   "toc_section_display": true,
   "toc_window_display": false
  }
 },
 "nbformat": 4,
 "nbformat_minor": 2
}
