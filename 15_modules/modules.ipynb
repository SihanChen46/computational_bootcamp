{
 "cells": [
  {
   "cell_type": "markdown",
   "metadata": {
    "toc": true
   },
   "source": [
    "<h1>Table of Contents<span class=\"tocSkip\"></span></h1>\n",
    "<div class=\"toc\"><ul class=\"toc-item\"><li><span><a href=\"#Modules\" data-toc-modified-id=\"Modules-1\">Modules</a></span></li><li><span><a href=\"#Learning-Outcomes\" data-toc-modified-id=\"Learning-Outcomes-2\">Learning Outcomes</a></span><ul class=\"toc-item\"><li><ul class=\"toc-item\"><li><span><a href=\"#By-the-end-of-this-session,-you-should-be-able-to:\" data-toc-modified-id=\"By-the-end-of-this-session,-you-should-be-able-to:-2.0.1\">By the end of this session, you should be able to:</a></span></li></ul></li></ul></li><li><span><a href=\"#Programmers-should-be-lazy\" data-toc-modified-id=\"Programmers-should-be-lazy-3\">Programmers should be lazy</a></span></li><li><span><a href=\"#Python-is-built-out-of-modules\" data-toc-modified-id=\"Python-is-built-out-of-modules-4\">Python is built out of modules</a></span></li><li><span><a href=\"#Problem:-How-can-we-model-locations-in-space?\" data-toc-modified-id=\"Problem:-How-can-we-model-locations-in-space?-5\">Problem: How can we model locations in space?</a></span></li><li><span><a href=\"#Remember-Our-Problem-Solving-Approach-\" data-toc-modified-id=\"Remember-Our-Problem-Solving-Approach--6\">Remember Our Problem Solving Approach </a></span></li><li><span><a href=\"#Ask\" data-toc-modified-id=\"Ask-7\">Ask</a></span></li><li><span><a href=\"#What-are-the-nouns-for-a-point?\" data-toc-modified-id=\"What-are-the-nouns-for-a-point?-8\">What are the nouns for a point?</a></span></li><li><span><a href=\"#What-are-the-verbs-for-points?\" data-toc-modified-id=\"What-are-the-verbs-for-points?-9\">What are the verbs for points?</a></span></li><li><span><a href=\"#City-Block-Distance\" data-toc-modified-id=\"City-Block-Distance-10\">City Block Distance</a></span></li><li><span><a href=\"#Euclidean-Distance\" data-toc-modified-id=\"Euclidean-Distance-11\">Euclidean Distance</a></span></li><li><span><a href=\"#Let's-move-all-the-item-into-a-point-module\" data-toc-modified-id=\"Let's-move-all-the-item-into-a-point-module-12\">Let's move all the item into a <code>point</code> module</a></span></li><li><span><a href=\"#Summary\" data-toc-modified-id=\"Summary-13\">Summary</a></span></li><li><span><a href=\"#Bonus-Material\" data-toc-modified-id=\"Bonus-Material-14\">Bonus Material</a></span></li><li><span><a href=\"#What-are-the-limitations-of-our-current-abstraction?\" data-toc-modified-id=\"What-are-the-limitations-of-our-current-abstraction?-15\">What are the limitations of our current abstraction?</a></span></li></ul></div>"
   ]
  },
  {
   "cell_type": "markdown",
   "metadata": {},
   "source": [
    "Modules\n",
    "-----"
   ]
  },
  {
   "cell_type": "markdown",
   "metadata": {},
   "source": [
    "Learning Outcomes\n",
    "-----\n",
    "\n",
    "#### By the end of this session, you should be able to:\n",
    "\n",
    "- Explain how modules enable code reuse.\n",
    "- Build your own module.\n",
    "- Model data with Object-oriented programming (OOP)."
   ]
  },
  {
   "cell_type": "markdown",
   "metadata": {},
   "source": [
    "Programmers should be lazy\n",
    "-----\n",
    "\n",
    "Reuse as much as possible:\n",
    "\n",
    "- Reuse data through variables.\n",
    "- Reuse functionality through functions.\n",
    "- Reuse both data and functionality through classes.\n",
    "- Reuse variables, functions, and classes through modules, aka packages or libraries."
   ]
  },
  {
   "cell_type": "markdown",
   "metadata": {},
   "source": [
    "Python is built out of modules\n",
    "------\n",
    "\n",
    "\n",
    "- The Standard Library is a collection of modules (e.g., `collections`, `math`)\n",
    "- `pip` and `conda` manage 3rd party modules (e.g., `numpy`, `pandas`)\n",
    "- It is easy to us to construct custom modules."
   ]
  },
  {
   "cell_type": "code",
   "execution_count": 28,
   "metadata": {},
   "outputs": [],
   "source": [
    "from math import *"
   ]
  },
  {
   "cell_type": "code",
   "execution_count": 29,
   "metadata": {},
   "outputs": [
    {
     "name": "stdout",
     "output_type": "stream",
     "text": [
      "Variable             Type                          Data/Info\n",
      "------------------------------------------------------------\n",
      "Point                type                          <class '__main__.Point'>\n",
      "acos                 builtin_function_or_method    <built-in function acos>\n",
      "acosh                builtin_function_or_method    <built-in function acosh>\n",
      "asin                 builtin_function_or_method    <built-in function asin>\n",
      "asinh                builtin_function_or_method    <built-in function asinh>\n",
      "atan                 builtin_function_or_method    <built-in function atan>\n",
      "atan2                builtin_function_or_method    <built-in function atan2>\n",
      "atanh                builtin_function_or_method    <built-in function atanh>\n",
      "ceil                 builtin_function_or_method    <built-in function ceil>\n",
      "cityblock_distance   function                      <function cityblock_distance at 0x10d70db70>\n",
      "copysign             builtin_function_or_method    <built-in function copysign>\n",
      "cos                  builtin_function_or_method    <built-in function cos>\n",
      "cosh                 builtin_function_or_method    <built-in function cosh>\n",
      "degrees              builtin_function_or_method    <built-in function degrees>\n",
      "dim                  int                           2\n",
      "e                    float                         2.718281828459045\n",
      "erf                  builtin_function_or_method    <built-in function erf>\n",
      "erfc                 builtin_function_or_method    <built-in function erfc>\n",
      "euclidean_distance   function                      <function euclidean_distance at 0x10d70dc80>\n",
      "exp                  builtin_function_or_method    <built-in function exp>\n",
      "expm1                builtin_function_or_method    <built-in function expm1>\n",
      "fabs                 builtin_function_or_method    <built-in function fabs>\n",
      "factorial            builtin_function_or_method    <built-in function factorial>\n",
      "floor                builtin_function_or_method    <built-in function floor>\n",
      "fmod                 builtin_function_or_method    <built-in function fmod>\n",
      "frexp                builtin_function_or_method    <built-in function frexp>\n",
      "fsum                 builtin_function_or_method    <built-in function fsum>\n",
      "gamma                builtin_function_or_method    <built-in function gamma>\n",
      "gcd                  builtin_function_or_method    <built-in function gcd>\n",
      "hypot                builtin_function_or_method    <built-in function hypot>\n",
      "inf                  float                         inf\n",
      "isclose              builtin_function_or_method    <built-in function isclose>\n",
      "isfinite             builtin_function_or_method    <built-in function isfinite>\n",
      "isinf                builtin_function_or_method    <built-in function isinf>\n",
      "isnan                builtin_function_or_method    <built-in function isnan>\n",
      "ldexp                builtin_function_or_method    <built-in function ldexp>\n",
      "lgamma               builtin_function_or_method    <built-in function lgamma>\n",
      "log                  builtin_function_or_method    <built-in function log>\n",
      "log10                builtin_function_or_method    <built-in function log10>\n",
      "log1p                builtin_function_or_method    <built-in function log1p>\n",
      "log2                 builtin_function_or_method    <built-in function log2>\n",
      "math                 module                        <module 'math' from '/Use<...>h.cpython-37m-darwin.so'>\n",
      "modf                 builtin_function_or_method    <built-in function modf>\n",
      "nan                  float                         nan\n",
      "origin               Point                         <point.Point object at 0x10d708b70>\n",
      "p                    Point                         Point(1, 2)\n",
      "pi                   float                         3.141592653589793\n",
      "pow                  builtin_function_or_method    <built-in function pow>\n",
      "radians              builtin_function_or_method    <built-in function radians>\n",
      "remainder            builtin_function_or_method    <built-in function remainder>\n",
      "sin                  builtin_function_or_method    <built-in function sin>\n",
      "sinh                 builtin_function_or_method    <built-in function sinh>\n",
      "sqrt                 builtin_function_or_method    <built-in function sqrt>\n",
      "tan                  builtin_function_or_method    <built-in function tan>\n",
      "tanh                 builtin_function_or_method    <built-in function tanh>\n",
      "tau                  float                         6.283185307179586\n",
      "trunc                builtin_function_or_method    <built-in function trunc>\n",
      "z                    Point                         <point.Point object at 0x10d719e80>\n"
     ]
    }
   ],
   "source": [
    "whos"
   ]
  },
  {
   "cell_type": "markdown",
   "metadata": {},
   "source": [
    "Problem: How can we model locations in space?\n",
    "------\n",
    "\n",
    "<center><img src=\"https://upload.wikimedia.org/wikipedia/commons/thumb/3/34/ACP_3.svg/300px-ACP_3.svg.png\" width=\"25%\"/></center>\n"
   ]
  },
  {
   "cell_type": "markdown",
   "metadata": {},
   "source": [
    "Remember Our Problem Solving Approach \n",
    "----\n",
    "\n",
    "1. Ask\n",
    "1. Understand\n",
    "1. Plan \n",
    "1. Solve\n",
    "1. Confirm\n",
    "1. Improve"
   ]
  },
  {
   "cell_type": "markdown",
   "metadata": {},
   "source": [
    "Ask\n",
    "-----\n",
    "\n",
    "What is the general category?\n",
    "\n",
    "What are specific instances (or entities)?\n",
    "\n",
    "What are the nouns for location in space?\n",
    "\n",
    "What are the verbs for location in space?"
   ]
  },
  {
   "cell_type": "code",
   "execution_count": 5,
   "metadata": {},
   "outputs": [],
   "source": [
    "reset -fs"
   ]
  },
  {
   "cell_type": "code",
   "execution_count": 6,
   "metadata": {},
   "outputs": [],
   "source": [
    "class Point:\n",
    "    \"Model a point in Euclidean space.\"\n",
    "\n",
    "    def __init__(self, x=0, y=0):\n",
    "        \"Create a new point at x, y\"\n",
    "        self.x = x\n",
    "        self.y = y"
   ]
  },
  {
   "cell_type": "code",
   "execution_count": 30,
   "metadata": {},
   "outputs": [],
   "source": [
    "origin = Point()"
   ]
  },
  {
   "cell_type": "code",
   "execution_count": 31,
   "metadata": {},
   "outputs": [],
   "source": [
    "a = Point(3, 0)\n",
    "b = Point(0, 4)\n",
    "c = Point(1, 1)"
   ]
  },
  {
   "cell_type": "markdown",
   "metadata": {},
   "source": [
    "What are the nouns for a point?\n",
    "-----\n",
    "\n",
    "[Length of the vector](https://en.wikipedia.org/wiki/Euclidean_vector#Length)\n",
    "\n",
    "$$\\|p\\| =  \\sqrt{x^2 + y^2}$$"
   ]
  },
  {
   "cell_type": "code",
   "execution_count": 9,
   "metadata": {},
   "outputs": [],
   "source": [
    "import math\n",
    "\n",
    "class Point:\n",
    "    \"Model a point in Euclidean space.\"\n",
    "\n",
    "    def __init__(self, x=0, y=0):\n",
    "        \"Create a new point at x, y\"\n",
    "        self.x = x\n",
    "        self.y = y\n",
    "#         self.len = math.sqrt(self.x ** 2 + self.y ** 2) # Mixing operators and methods can be hard to read\n",
    "#         self.len = (self.x ** 2 + self.y ** 2) ** 0.5 # Use only operators\n",
    "        self.len = math.hypot(self.x, self.y) # Let Python do the work"
   ]
  },
  {
   "cell_type": "code",
   "execution_count": 32,
   "metadata": {},
   "outputs": [
    {
     "data": {
      "text/plain": [
       "0.0"
      ]
     },
     "execution_count": 32,
     "metadata": {},
     "output_type": "execute_result"
    }
   ],
   "source": [
    "origin = Point(0, 0)\n",
    "origin.len"
   ]
  },
  {
   "cell_type": "code",
   "execution_count": 33,
   "metadata": {},
   "outputs": [],
   "source": [
    "assert Point().len == 0\n",
    "assert Point(2, 0).len == 2\n",
    "assert Point(0, 2).len == 2\n",
    "assert Point(2, 2).len == 2.8284271247461903"
   ]
  },
  {
   "cell_type": "markdown",
   "metadata": {},
   "source": [
    "What are the verbs for points?\n",
    "----\n",
    "\n",
    "Distance!\n",
    "\n",
    "What are the most common ways to measure distance?\n",
    "\n",
    "1. City block, aka $L^1$\n",
    "1. Euclidean, aka $L^2$"
   ]
  },
  {
   "cell_type": "markdown",
   "metadata": {},
   "source": [
    "City Block Distance\n",
    "-----\n",
    "\n",
    "<center><img src=\"images/c.png\" width=\"35%\"/></center>\n",
    "\n",
    "<center><img src=\"https://wikimedia.org/api/rest_v1/media/math/render/svg/02436c34fc9562eb170e2e2cfddbb3303075b28e\" width=\"75%\"/></center>"
   ]
  },
  {
   "cell_type": "code",
   "execution_count": 12,
   "metadata": {},
   "outputs": [],
   "source": [
    "def cityblock_distance(p, q): \n",
    "    \"City block distance between two points.\"\n",
    "    return abs(p.x - q.x) + abs(p.y - q.y) "
   ]
  },
  {
   "cell_type": "code",
   "execution_count": 13,
   "metadata": {},
   "outputs": [],
   "source": [
    "assert cityblock_distance(p=Point(0,0), q=Point(0,0)) == 0\n",
    "assert cityblock_distance(p=Point(1,0), q=Point(0,0)) == 1\n",
    "assert cityblock_distance(p=Point(1,1), q=Point(0,0)) == 2"
   ]
  },
  {
   "cell_type": "markdown",
   "metadata": {},
   "source": [
    "__Point to Ponder__\n",
    "\n",
    "How many test do we need to write make sure `cityblock_distance` is correct?\n"
   ]
  },
  {
   "cell_type": "markdown",
   "metadata": {},
   "source": [
    "Euclidean Distance\n",
    "----\n",
    "\n",
    "<center><img src=\"images/e.png\" width=\"35%\"/></center>\n"
   ]
  },
  {
   "cell_type": "markdown",
   "metadata": {},
   "source": [
    "$$ d_2(p, q) = \\|p-q\\|_2 =  \\sqrt{(q_1-p_1)^2 + (q_2-p_2)^2}$$"
   ]
  },
  {
   "cell_type": "code",
   "execution_count": 14,
   "metadata": {},
   "outputs": [
    {
     "data": {
      "text/plain": [
       "1.4142135623730951"
      ]
     },
     "execution_count": 14,
     "metadata": {},
     "output_type": "execute_result"
    }
   ],
   "source": [
    "def euclidean_distance(p, q): \n",
    "    \"Euclidean (hypotenuse) distance between two points\"\n",
    "    return math.hypot(p.x - q.x, p.y - q.y)\n",
    "\n",
    "    \n",
    "origin = Point(0, 0)\n",
    "a = Point(1, 1)\n",
    "\n",
    "euclidean_distance(origin, a)"
   ]
  },
  {
   "cell_type": "markdown",
   "metadata": {},
   "source": [
    "Let's move all the item into a `point` module\n",
    "-----"
   ]
  },
  {
   "cell_type": "code",
   "execution_count": 36,
   "metadata": {},
   "outputs": [],
   "source": [
    "reset -fs"
   ]
  },
  {
   "cell_type": "markdown",
   "metadata": {},
   "source": [
    "👇These magic commands are needed to reload a custom module that has been modified.\n",
    "\n",
    "Read the docs to learn more [here](https://ipython.readthedocs.io/en/stable/config/extensions/autoreload.html?highlight=%25autoreload%202)"
   ]
  },
  {
   "cell_type": "code",
   "execution_count": 37,
   "metadata": {},
   "outputs": [
    {
     "name": "stdout",
     "output_type": "stream",
     "text": [
      "The autoreload extension is already loaded. To reload it, use:\n",
      "  %reload_ext autoreload\n"
     ]
    }
   ],
   "source": [
    "%load_ext autoreload"
   ]
  },
  {
   "cell_type": "code",
   "execution_count": 38,
   "metadata": {},
   "outputs": [],
   "source": [
    "%autoreload 2"
   ]
  },
  {
   "cell_type": "code",
   "execution_count": 39,
   "metadata": {},
   "outputs": [],
   "source": [
    "from point import *"
   ]
  },
  {
   "cell_type": "code",
   "execution_count": 40,
   "metadata": {},
   "outputs": [
    {
     "name": "stdout",
     "output_type": "stream",
     "text": [
      "Variable             Type        Data/Info\n",
      "------------------------------------------\n",
      "Point                type        <class 'point.Point'>\n",
      "cityblock_distance   function    <function cityblock_distance at 0x10d741620>\n",
      "euclidean_distance   function    <function euclidean_distance at 0x10d7417b8>\n",
      "math                 module      <module 'math' from '/Use<...>h.cpython-37m-darwin.so'>\n",
      "origin               Point       <point.Point object at 0x10d747b70>\n"
     ]
    }
   ],
   "source": [
    "whos"
   ]
  },
  {
   "cell_type": "code",
   "execution_count": 41,
   "metadata": {},
   "outputs": [],
   "source": [
    "z = Point(42, 42)"
   ]
  },
  {
   "cell_type": "code",
   "execution_count": 42,
   "metadata": {},
   "outputs": [
    {
     "data": {
      "text/plain": [
       "59.39696961966999"
      ]
     },
     "execution_count": 42,
     "metadata": {},
     "output_type": "execute_result"
    }
   ],
   "source": [
    "euclidean_distance(origin, z)"
   ]
  },
  {
   "cell_type": "markdown",
   "metadata": {},
   "source": [
    "Summary\n",
    "-----\n",
    "\n",
    "1. Modules are just `.py` files with a collection of classes, functions, and variables.\n",
    "1. Classes are designed for reuse, thus are good candidates for modules."
   ]
  },
  {
   "cell_type": "markdown",
   "metadata": {},
   "source": [
    " "
   ]
  },
  {
   "cell_type": "markdown",
   "metadata": {},
   "source": [
    "Bonus Material\n",
    "-----"
   ]
  },
  {
   "cell_type": "markdown",
   "metadata": {},
   "source": [
    "What are the limitations of our current abstraction?\n",
    "------\n",
    "\n",
    "- Extensibility - What happens when we move into 3 dimensions? A million dimensions?\n",
    "- Efficiency - We are storing simple information in a complex data structure. Maybe we could use parts of `numpy` instead."
   ]
  },
  {
   "cell_type": "code",
   "execution_count": 22,
   "metadata": {},
   "outputs": [],
   "source": [
    "# Other useful properties to define"
   ]
  },
  {
   "cell_type": "code",
   "execution_count": 23,
   "metadata": {},
   "outputs": [
    {
     "name": "stdout",
     "output_type": "stream",
     "text": [
      "<point.Point object at 0x10d6d6710>\n"
     ]
    }
   ],
   "source": [
    "p = Point(0, 0)\n",
    "print(p) # Ugly printing"
   ]
  },
  {
   "cell_type": "code",
   "execution_count": 24,
   "metadata": {},
   "outputs": [],
   "source": [
    "class Point(Point): # Updated Point is inherits (or is a subclass) of the old Point\n",
    "    def __repr__(self): \n",
    "        \"Create a human-readable representation\"\n",
    "        return f\"Point({self.x}, {self.y})\""
   ]
  },
  {
   "cell_type": "code",
   "execution_count": 25,
   "metadata": {},
   "outputs": [
    {
     "name": "stdout",
     "output_type": "stream",
     "text": [
      "Point(0, 0)\n"
     ]
    }
   ],
   "source": [
    "p = Point(0, 0)\n",
    "\n",
    "print(p) # Pythonic printing"
   ]
  },
  {
   "cell_type": "code",
   "execution_count": 26,
   "metadata": {},
   "outputs": [],
   "source": [
    "class Point(Point): # Updated Point is inherits (or is a subclass) of the old Point\n",
    "    def __iter__(self): \n",
    "        \"Pythonic iterate through instance\"\n",
    "        yield self.x; yield self.y"
   ]
  },
  {
   "cell_type": "code",
   "execution_count": 27,
   "metadata": {},
   "outputs": [
    {
     "name": "stdout",
     "output_type": "stream",
     "text": [
      "1\n",
      "2\n"
     ]
    }
   ],
   "source": [
    "p = Point(1, 2)\n",
    "\n",
    "for dim in p:\n",
    "    print(dim)"
   ]
  },
  {
   "cell_type": "markdown",
   "metadata": {},
   "source": [
    "[Source](http://openbookproject.net/thinkcs/python/english3e/classes_and_objects_I.html)"
   ]
  },
  {
   "cell_type": "markdown",
   "metadata": {},
   "source": [
    " "
   ]
  }
 ],
 "metadata": {
  "kernelspec": {
   "display_name": "Python 3",
   "language": "python",
   "name": "python3"
  },
  "language_info": {
   "codemirror_mode": {
    "name": "ipython",
    "version": 3
   },
   "file_extension": ".py",
   "mimetype": "text/x-python",
   "name": "python",
   "nbconvert_exporter": "python",
   "pygments_lexer": "ipython3",
   "version": "3.7.3"
  },
  "toc": {
   "base_numbering": 1,
   "nav_menu": {},
   "number_sections": false,
   "sideBar": false,
   "skip_h1_title": false,
   "title_cell": "Table of Contents",
   "title_sidebar": "Contents",
   "toc_cell": true,
   "toc_position": {},
   "toc_section_display": true,
   "toc_window_display": false
  }
 },
 "nbformat": 4,
 "nbformat_minor": 2
}
