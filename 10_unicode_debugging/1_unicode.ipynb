{
 "cells": [
  {
   "cell_type": "markdown",
   "metadata": {
    "slideshow": {
     "slide_type": "skip"
    },
    "toc": true
   },
   "source": [
    "<h1>Table of Contents<span class=\"tocSkip\"></span></h1>\n",
    "<div class=\"toc\"><ul class=\"toc-item\"><li><span><a href=\"#Hacking-Unicode\" data-toc-modified-id=\"Hacking-Unicode-1\">Hacking Unicode</a></span></li><li><span><a href=\"#Learning-Outcomes\" data-toc-modified-id=\"Learning-Outcomes-2\">Learning Outcomes</a></span><ul class=\"toc-item\"><li><ul class=\"toc-item\"><li><span><a href=\"#By-the-end-of-this-session,-you-should-be-able-to:\" data-toc-modified-id=\"By-the-end-of-this-session,-you-should-be-able-to:-2.0.1\">By the end of this session, you should be able to:</a></span></li></ul></li></ul></li><li><span><a href=\"#What-is-going-on-with-`UnicodeDecodeError`?\" data-toc-modified-id=\"What-is-going-on-with-`UnicodeDecodeError`?-3\">What is going on with `UnicodeDecodeError`?</a></span></li><li><span><a href=\"#Unicode-Sandwich\" data-toc-modified-id=\"Unicode-Sandwich-4\">Unicode Sandwich</a></span></li><li><span><a href=\"#\" data-toc-modified-id=\"-5\"></a></span></li><li><span><a href=\"#Decode-vs-Encode\" data-toc-modified-id=\"Decode-vs-Encode-6\">Decode vs Encode</a></span></li><li><span><a href=\"#Encode\" data-toc-modified-id=\"Encode-7\">Encode</a></span></li><li><span><a href=\"#Decode-from-bytes-to-text\" data-toc-modified-id=\"Decode-from-bytes-to-text-8\">Decode from bytes to text</a></span></li><li><span><a href=\"#The-Golden-Rule-for-Encoding-\" data-toc-modified-id=\"The-Golden-Rule-for-Encoding--9\">The Golden Rule for Encoding </a></span></li><li><span><a href=\"#How-do-find-out-which-encoding-was-used?\" data-toc-modified-id=\"How-do-find-out-which-encoding-was-used?-10\">How do find out which encoding was used?</a></span></li><li><span><a href=\"#Tell-Others-the-Encoding-you-use-in-plain-text-files\" data-toc-modified-id=\"Tell-Others-the-Encoding-you-use-in-plain-text-files-11\">Tell Others the Encoding you use in plain text files</a></span></li><li><span><a href=\"#chardet-package\" data-toc-modified-id=\"chardet-package-12\">chardet package</a></span></li><li><span><a href=\"#What-is-Unicode?\" data-toc-modified-id=\"What-is-Unicode?-13\">What is Unicode?</a></span></li><li><span><a href=\"#Unicode-Table\" data-toc-modified-id=\"Unicode-Table-14\">Unicode Table</a></span></li><li><span><a href=\"#Unicode-12\" data-toc-modified-id=\"Unicode-12-15\">Unicode 12</a></span></li><li><span><a href=\"#Summary-Thus-Far\" data-toc-modified-id=\"Summary-Thus-Far-16\">Summary Thus Far</a></span></li><li><span><a href=\"#Unicode-is-the-best-we-have-but-text-can-still-broken\" data-toc-modified-id=\"Unicode-is-the-best-we-have-but-text-can-still-broken-17\">Unicode is the best we have but text can still broken</a></span></li><li><span><a href=\"#That-is-Mojibake\" data-toc-modified-id=\"That-is-Mojibake-18\">That is Mojibake</a></span></li><li><span><a href=\"#What-is-mojibake?\" data-toc-modified-id=\"What-is-mojibake?-19\">What is mojibake?</a></span></li><li><span><a href=\"#Why-mojibake?\" data-toc-modified-id=\"Why-mojibake?-20\">Why mojibake?</a></span></li><li><span><a href=\"#ftfy-FTW\" data-toc-modified-id=\"ftfy-FTW-21\">ftfy FTW</a></span></li><li><span><a href=\"#Point-to-Ponder\" data-toc-modified-id=\"Point-to-Ponder-22\">Point to Ponder</a></span></li><li><span><a href=\"#Python-variables\" data-toc-modified-id=\"Python-variables-23\">Python variables</a></span></li><li><span><a href=\"#Unicode-Python-Variables\" data-toc-modified-id=\"Unicode-Python-Variables-24\">Unicode Python Variables</a></span></li><li><span><a href=\"#Student-Activity\" data-toc-modified-id=\"Student-Activity-25\">Student Activity</a></span></li><li><span><a href=\"#Summary\" data-toc-modified-id=\"Summary-26\">Summary</a></span></li><li><span><a href=\"#Bonus-Material\" data-toc-modified-id=\"Bonus-Material-27\">Bonus Material</a></span></li><li><span><a href=\"#iPhone-Unicode-Message-of-Death\" data-toc-modified-id=\"iPhone-Unicode-Message-of-Death-28\">iPhone Unicode Message of Death</a></span></li><li><span><a href=\"#What-is-difference-between-ASCII-and-Unicode?\" data-toc-modified-id=\"What-is-difference-between-ASCII-and-Unicode?-29\">What is difference between ASCII and Unicode?</a></span></li><li><span><a href=\"#Unicode-basics-overview\" data-toc-modified-id=\"Unicode-basics-overview-30\"><a href=\"http://python-notes.curiousefficiency.org/en/latest/python3/text_file_processing.html#unicode-basics\" target=\"_blank\">Unicode basics overview</a></a></span></li></ul></div>"
   ]
  },
  {
   "cell_type": "markdown",
   "metadata": {
    "slideshow": {
     "slide_type": "slide"
    }
   },
   "source": [
    "<center><h2>Hacking Unicode</h2></center>\n",
    "\n",
    "<center><img src=\"images/chacter_encoding.png\" width=\"85%\"/></center>"
   ]
  },
  {
   "cell_type": "markdown",
   "metadata": {
    "slideshow": {
     "slide_type": "slide"
    }
   },
   "source": [
    "<center><h2>Learning Outcomes</h2></center>\n",
    "\n",
    "#### By the end of this session, you should be able to:\n",
    "\n",
    "- Describe what an Unicode sandwich is.\n",
    "- Find and fix Unicode encoding errors.\n",
    "- Make your way out of Unicode Hell (I'm your Virgil)."
   ]
  },
  {
   "cell_type": "code",
   "execution_count": 142,
   "metadata": {
    "slideshow": {
     "slide_type": "slide"
    }
   },
   "outputs": [
    {
     "ename": "UnicodeDecodeError",
     "evalue": "'utf-8' codec can't decode byte 0xc8 in position 95: invalid continuation byte",
     "output_type": "error",
     "traceback": [
      "\u001b[0;31m---------------------------------------------------------------------------\u001b[0m",
      "\u001b[0;31mUnicodeDecodeError\u001b[0m                        Traceback (most recent call last)",
      "\u001b[0;32m<ipython-input-142-86e32540684b>\u001b[0m in \u001b[0;36m<module>\u001b[0;34m\u001b[0m\n\u001b[1;32m      3\u001b[0m \u001b[0mpath\u001b[0m \u001b[0;34m=\u001b[0m \u001b[0mPath\u001b[0m\u001b[0;34m(\u001b[0m\u001b[0;34m'/Users/brian/github/bootcamp-assignments-instructor/source/project_1_text_processing/text/'\u001b[0m\u001b[0;34m)\u001b[0m\u001b[0;34m\u001b[0m\u001b[0;34m\u001b[0m\u001b[0m\n\u001b[1;32m      4\u001b[0m \u001b[0;32mfor\u001b[0m \u001b[0mfilename\u001b[0m \u001b[0;32min\u001b[0m \u001b[0mpath\u001b[0m\u001b[0;34m.\u001b[0m\u001b[0mglob\u001b[0m\u001b[0;34m(\u001b[0m\u001b[0;34m'**/*.*'\u001b[0m\u001b[0;34m)\u001b[0m\u001b[0;34m:\u001b[0m\u001b[0;34m\u001b[0m\u001b[0;34m\u001b[0m\u001b[0m\n\u001b[0;32m----> 5\u001b[0;31m     \u001b[0mcurrent_doc\u001b[0m \u001b[0;34m=\u001b[0m \u001b[0mPath\u001b[0m\u001b[0;34m(\u001b[0m\u001b[0mfilename\u001b[0m\u001b[0;34m)\u001b[0m\u001b[0;34m.\u001b[0m\u001b[0mread_text\u001b[0m\u001b[0;34m(\u001b[0m\u001b[0;34m)\u001b[0m\u001b[0;34m\u001b[0m\u001b[0;34m\u001b[0m\u001b[0m\n\u001b[0m",
      "\u001b[0;32m~/anaconda3/envs/bootcamp/lib/python3.7/pathlib.py\u001b[0m in \u001b[0;36mread_text\u001b[0;34m(self, encoding, errors)\u001b[0m\n\u001b[1;32m   1198\u001b[0m         \"\"\"\n\u001b[1;32m   1199\u001b[0m         \u001b[0;32mwith\u001b[0m \u001b[0mself\u001b[0m\u001b[0;34m.\u001b[0m\u001b[0mopen\u001b[0m\u001b[0;34m(\u001b[0m\u001b[0mmode\u001b[0m\u001b[0;34m=\u001b[0m\u001b[0;34m'r'\u001b[0m\u001b[0;34m,\u001b[0m \u001b[0mencoding\u001b[0m\u001b[0;34m=\u001b[0m\u001b[0mencoding\u001b[0m\u001b[0;34m,\u001b[0m \u001b[0merrors\u001b[0m\u001b[0;34m=\u001b[0m\u001b[0merrors\u001b[0m\u001b[0;34m)\u001b[0m \u001b[0;32mas\u001b[0m \u001b[0mf\u001b[0m\u001b[0;34m:\u001b[0m\u001b[0;34m\u001b[0m\u001b[0;34m\u001b[0m\u001b[0m\n\u001b[0;32m-> 1200\u001b[0;31m             \u001b[0;32mreturn\u001b[0m \u001b[0mf\u001b[0m\u001b[0;34m.\u001b[0m\u001b[0mread\u001b[0m\u001b[0;34m(\u001b[0m\u001b[0;34m)\u001b[0m\u001b[0;34m\u001b[0m\u001b[0;34m\u001b[0m\u001b[0m\n\u001b[0m\u001b[1;32m   1201\u001b[0m \u001b[0;34m\u001b[0m\u001b[0m\n\u001b[1;32m   1202\u001b[0m     \u001b[0;32mdef\u001b[0m \u001b[0mwrite_bytes\u001b[0m\u001b[0;34m(\u001b[0m\u001b[0mself\u001b[0m\u001b[0;34m,\u001b[0m \u001b[0mdata\u001b[0m\u001b[0;34m)\u001b[0m\u001b[0;34m:\u001b[0m\u001b[0;34m\u001b[0m\u001b[0;34m\u001b[0m\u001b[0m\n",
      "\u001b[0;32m~/anaconda3/envs/bootcamp/lib/python3.7/codecs.py\u001b[0m in \u001b[0;36mdecode\u001b[0;34m(self, input, final)\u001b[0m\n\u001b[1;32m    320\u001b[0m         \u001b[0;31m# decode input (taking the buffer into account)\u001b[0m\u001b[0;34m\u001b[0m\u001b[0;34m\u001b[0m\u001b[0;34m\u001b[0m\u001b[0m\n\u001b[1;32m    321\u001b[0m         \u001b[0mdata\u001b[0m \u001b[0;34m=\u001b[0m \u001b[0mself\u001b[0m\u001b[0;34m.\u001b[0m\u001b[0mbuffer\u001b[0m \u001b[0;34m+\u001b[0m \u001b[0minput\u001b[0m\u001b[0;34m\u001b[0m\u001b[0;34m\u001b[0m\u001b[0m\n\u001b[0;32m--> 322\u001b[0;31m         \u001b[0;34m(\u001b[0m\u001b[0mresult\u001b[0m\u001b[0;34m,\u001b[0m \u001b[0mconsumed\u001b[0m\u001b[0;34m)\u001b[0m \u001b[0;34m=\u001b[0m \u001b[0mself\u001b[0m\u001b[0;34m.\u001b[0m\u001b[0m_buffer_decode\u001b[0m\u001b[0;34m(\u001b[0m\u001b[0mdata\u001b[0m\u001b[0;34m,\u001b[0m \u001b[0mself\u001b[0m\u001b[0;34m.\u001b[0m\u001b[0merrors\u001b[0m\u001b[0;34m,\u001b[0m \u001b[0mfinal\u001b[0m\u001b[0;34m)\u001b[0m\u001b[0;34m\u001b[0m\u001b[0;34m\u001b[0m\u001b[0m\n\u001b[0m\u001b[1;32m    323\u001b[0m         \u001b[0;31m# keep undecoded input until the next call\u001b[0m\u001b[0;34m\u001b[0m\u001b[0;34m\u001b[0m\u001b[0;34m\u001b[0m\u001b[0m\n\u001b[1;32m    324\u001b[0m         \u001b[0mself\u001b[0m\u001b[0;34m.\u001b[0m\u001b[0mbuffer\u001b[0m \u001b[0;34m=\u001b[0m \u001b[0mdata\u001b[0m\u001b[0;34m[\u001b[0m\u001b[0mconsumed\u001b[0m\u001b[0;34m:\u001b[0m\u001b[0;34m]\u001b[0m\u001b[0;34m\u001b[0m\u001b[0;34m\u001b[0m\u001b[0m\n",
      "\u001b[0;31mUnicodeDecodeError\u001b[0m: 'utf-8' codec can't decode byte 0xc8 in position 95: invalid continuation byte"
     ]
    }
   ],
   "source": [
    "# Code from Project #1\n",
    "from pathlib import Path\n",
    "path = Path('/Users/brian/github/bootcamp-assignments-instructor/source/project_1_text_processing/text/')\n",
    "for filename in path.glob('**/*.*'):\n",
    "    current_doc = Path(filename).read_text()"
   ]
  },
  {
   "cell_type": "markdown",
   "metadata": {
    "slideshow": {
     "slide_type": "slide"
    }
   },
   "source": [
    "<center><h2>What is going on with `UnicodeDecodeError`?</h2></center>"
   ]
  },
  {
   "cell_type": "markdown",
   "metadata": {
    "slideshow": {
     "slide_type": "skip"
    }
   },
   "source": [
    "<center><h2>Unicode Sandwich</h2></center>"
   ]
  },
  {
   "cell_type": "markdown",
   "metadata": {
    "slideshow": {
     "slide_type": "slide"
    }
   },
   "source": [
    "<center><img src=\"images/unicode_sammy.jpg\" width=\"100%\"/></center>\n",
    "\n",
    "<center>(only popular in Silicon Valley)</center>"
   ]
  },
  {
   "cell_type": "markdown",
   "metadata": {
    "slideshow": {
     "slide_type": "skip"
    }
   },
   "source": [
    "[Source](https://www.safaribooksonline.com/library/view/fluent-python/9781491946237/images/flup_0402.png.jpg)"
   ]
  },
  {
   "cell_type": "markdown",
   "metadata": {
    "slideshow": {
     "slide_type": "slide"
    }
   },
   "source": [
    "> Humans prefer text.  \n",
    "> Computers prefer bytes.  "
   ]
  },
  {
   "cell_type": "markdown",
   "metadata": {
    "slideshow": {
     "slide_type": "slide"
    }
   },
   "source": [
    "<center><img src=\"images/python-io-boundary-issue.svg\" width=\"75%\"/></center>"
   ]
  },
  {
   "cell_type": "code",
   "execution_count": 143,
   "metadata": {
    "slideshow": {
     "slide_type": "slide"
    }
   },
   "outputs": [
    {
     "name": "stdout",
     "output_type": "stream",
     "text": [
      "0000000 ef bb bf 54 48 45 20 53 4f 4e 4e 45 54 53 0d 0a\r\n",
      "0000010 62 79 20 57 69 6c 6c 69 61 6d 20 53 68 61 6b 65\r\n",
      "0000020 73 70 65 61 72 65 0d 0a 0d 0a 0d 0a 0d 0a 20 20\r\n",
      "0000030 20 20 20 20 20 20 20 20 20 20 20 20 20 20 20 20\r\n",
      "0000040 20 20 20 31 0d 0a 20 20 46 72 6f 6d 20 66 61 69\r\n",
      "0000050 72 65 73 74 20 63 72 65 61 74 75 72 65 73 20 77\r\n",
      "0000060\r\n"
     ]
    }
   ],
   "source": [
    "# All data is just bytes. \n",
    "! hexdump -n 96 shakespeare_all.txt"
   ]
  },
  {
   "cell_type": "code",
   "execution_count": 144,
   "metadata": {},
   "outputs": [
    {
     "name": "stdout",
     "output_type": "stream",
     "text": [
      "0000000 ff d8 ff e0 00 10 4a 46 49 46 00 01 01 00 00 01\r\n",
      "0000010 00 01 00 00 ff db 00 43 00 06 04 05 06 05 04 06\r\n",
      "0000020 06 05 06 07 07 06 08 0a 10 0a 0a 09 09 0a 14 0e\r\n",
      "0000030 0f 0c 10 17 14 18 18 17 14 16 16 1a 1d 25 1f 1a\r\n",
      "0000040 1b 23 1c 16 16 20 2c 20 23 26 27 29 2a 29 19 1f\r\n",
      "0000050 2d 30 2d 28 30 25 28 29 28 ff db 00 43 01 07 07\r\n",
      "0000060\r\n"
     ]
    }
   ],
   "source": [
    "# All data is just bytes. \n",
    "! hexdump -n 96 i_am_not_text.jpg"
   ]
  },
  {
   "cell_type": "markdown",
   "metadata": {
    "slideshow": {
     "slide_type": "skip"
    }
   },
   "source": [
    "[Source](https://blog.emacsos.com/unicode-in-python.html)"
   ]
  },
  {
   "cell_type": "markdown",
   "metadata": {
    "slideshow": {
     "slide_type": "skip"
    }
   },
   "source": [
    "<center><h2></h2></center>\n",
    "\n",
    "<center><img src=\"images/dec2bin2hex.png\" width=\"75%\"/></center>"
   ]
  },
  {
   "cell_type": "code",
   "execution_count": 115,
   "metadata": {
    "slideshow": {
     "slide_type": "slide"
    }
   },
   "outputs": [
    {
     "name": "stdout",
     "output_type": "stream",
     "text": [
      "   Dec |    Bin |  Hex\n",
      "     0 |      0 |    0\n",
      "     1 |      1 |    1\n",
      "     2 |     10 |    2\n",
      "     3 |     11 |    3\n",
      "     9 |   1001 |    9\n",
      "    10 |   1010 |    a\n",
      "    11 |   1011 |    b\n",
      "    15 |   1111 |    f\n",
      "    16 |  10000 |   10\n",
      "    17 |  10001 |   11\n"
     ]
    }
   ],
   "source": [
    "# What is the relationship between Decimal, Binary, and Hexidecimal?\n",
    "nums = [0, 1, 2, 3, 9, 10, 11, 15, 16, 17]\n",
    "s = 6\n",
    "print(f\"{'Dec':>6} | {'Bin':>6} | {'Hex':>4}\")\n",
    "for n in nums:\n",
    "    print(f\"{n:>6} | {n:>6b} | {n:>4x}\")"
   ]
  },
  {
   "cell_type": "markdown",
   "metadata": {
    "slideshow": {
     "slide_type": "slide"
    }
   },
   "source": [
    "<center><img src=\"images/bin2hex.png\" width=\"75%\"/></center>"
   ]
  },
  {
   "cell_type": "markdown",
   "metadata": {
    "slideshow": {
     "slide_type": "slide"
    }
   },
   "source": [
    "<center><img src=\"http://1.bp.blogspot.com/-m4BldtOr4gw/UvzKDSP_YNI/AAAAAAAABGI/GgfyUAQuaQU/s1600/UnicodeSandwich.PNG\" width=\"75%\"/></center>"
   ]
  },
  {
   "cell_type": "markdown",
   "metadata": {
    "slideshow": {
     "slide_type": "slide"
    }
   },
   "source": [
    "<center><img src=\"images/unicode_sammy.jpg\" width=\"85%\"/></center>\n",
    "\n",
    "- The bread should be thin (decode ASAP; encode as late as possible).\n",
    "- The meat should be thick (business logic)."
   ]
  },
  {
   "cell_type": "markdown",
   "metadata": {
    "slideshow": {
     "slide_type": "slide"
    }
   },
   "source": [
    "<center><h2>Decode vs Encode</h2></center>\n",
    "\n",
    "\n",
    "<center><img src=\"images/py3_string_bytes.png\" width=\"75%\"/></center>"
   ]
  },
  {
   "cell_type": "markdown",
   "metadata": {
    "slideshow": {
     "slide_type": "slide"
    }
   },
   "source": [
    "Encode\n",
    "-----\n",
    "\n",
    "Encode = \"in code\""
   ]
  },
  {
   "cell_type": "code",
   "execution_count": 145,
   "metadata": {
    "slideshow": {
     "slide_type": "fragment"
    }
   },
   "outputs": [
    {
     "data": {
      "text/plain": [
       "b'caf\\xc3\\xa9'"
      ]
     },
     "execution_count": 145,
     "metadata": {},
     "output_type": "execute_result"
    }
   ],
   "source": [
    "s = 'café' # Human-readable\n",
    "s.encode('utf8') # Translate to computer readable"
   ]
  },
  {
   "cell_type": "code",
   "execution_count": 117,
   "metadata": {
    "slideshow": {
     "slide_type": "fragment"
    }
   },
   "outputs": [
    {
     "data": {
      "text/plain": [
       "b'\\xff\\xfec\\x00a\\x00f\\x00\\xe9\\x00'"
      ]
     },
     "execution_count": 117,
     "metadata": {},
     "output_type": "execute_result"
    }
   ],
   "source": [
    "s.encode('utf16') # Translate to different computer dialect"
   ]
  },
  {
   "cell_type": "markdown",
   "metadata": {
    "slideshow": {
     "slide_type": "slide"
    }
   },
   "source": [
    "Decode from bytes to text\n",
    "-----"
   ]
  },
  {
   "cell_type": "code",
   "execution_count": 146,
   "metadata": {
    "slideshow": {
     "slide_type": "fragment"
    }
   },
   "outputs": [],
   "source": [
    "b = b'caf\\xc3\\xa9'"
   ]
  },
  {
   "cell_type": "code",
   "execution_count": 147,
   "metadata": {
    "slideshow": {
     "slide_type": "fragment"
    }
   },
   "outputs": [
    {
     "data": {
      "text/plain": [
       "'café'"
      ]
     },
     "execution_count": 147,
     "metadata": {},
     "output_type": "execute_result"
    }
   ],
   "source": [
    "b.decode()"
   ]
  },
  {
   "cell_type": "code",
   "execution_count": 148,
   "metadata": {
    "slideshow": {
     "slide_type": "fragment"
    }
   },
   "outputs": [
    {
     "data": {
      "text/plain": [
       "'café'"
      ]
     },
     "execution_count": 148,
     "metadata": {},
     "output_type": "execute_result"
    }
   ],
   "source": [
    "b.decode('utf-8') # utf-8 is the default encoding and typically the best guess."
   ]
  },
  {
   "cell_type": "code",
   "execution_count": 121,
   "metadata": {
    "slideshow": {
     "slide_type": "fragment"
    }
   },
   "outputs": [
    {
     "data": {
      "text/plain": [
       "'cafÃ©'"
      ]
     },
     "execution_count": 121,
     "metadata": {},
     "output_type": "execute_result"
    }
   ],
   "source": [
    "b.decode('latin') # Pick an encoding; Encoding is a decoder ring setting."
   ]
  },
  {
   "cell_type": "markdown",
   "metadata": {
    "slideshow": {
     "slide_type": "slide"
    }
   },
   "source": [
    "<center><img src=\"images/cafe.png\" width=\"75%\"/></center>"
   ]
  },
  {
   "cell_type": "markdown",
   "metadata": {
    "slideshow": {
     "slide_type": "slide"
    }
   },
   "source": [
    "The Golden Rule for Encoding \n",
    "----\n",
    "\n",
    "Be very accepting of alternative text encodings (e.g., Latin-1, Shift JIS, and Big5)."
   ]
  },
  {
   "cell_type": "markdown",
   "metadata": {
    "slideshow": {
     "slide_type": "fragment"
    }
   },
   "source": [
    "Be nice to others by only encoding text with __UTF-8__."
   ]
  },
  {
   "cell_type": "markdown",
   "metadata": {
    "slideshow": {
     "slide_type": "slide"
    }
   },
   "source": [
    "How do find out which encoding was used?\n",
    "-----"
   ]
  },
  {
   "cell_type": "markdown",
   "metadata": {
    "slideshow": {
     "slide_type": "fragment"
    }
   },
   "source": [
    "__You don't!__\n",
    "\n",
    "You should be told."
   ]
  },
  {
   "cell_type": "code",
   "execution_count": 122,
   "metadata": {
    "slideshow": {
     "slide_type": "fragment"
    }
   },
   "outputs": [
    {
     "name": "stdout",
     "output_type": "stream",
     "text": [
      "0000000 ef bb bf 54 48 45 20 53 4f 4e 4e 45 54 53 0d 0a\r\n",
      "0000010 62 79 20 57 69 6c 6c 69 61 6d 20 53 68 61 6b 65\r\n",
      "0000020 73 70 65 61 72 65 0d 0a 0d 0a 0d 0a 0d 0a 20 20\r\n",
      "0000030 20 20 20 20 20 20 20 20 20 20 20 20 20 20 20 20\r\n",
      "0000040 20 20 20 31 0d 0a 20 20 46 72 6f 6d 20 66 61 69\r\n",
      "0000050 72 65 73 74 20 63 72 65 61 74 75 72 65 73 20 77\r\n",
      "0000060\r\n"
     ]
    }
   ],
   "source": [
    "# All data is just bytes. Different program interpert the bytes differently.\n",
    "! hexdump -n 96 shakespeare_all.txt"
   ]
  },
  {
   "cell_type": "markdown",
   "metadata": {
    "slideshow": {
     "slide_type": "slide"
    }
   },
   "source": [
    "<center><h2>Tell Others the Encoding you use in plain text files</h2></center>\n",
    "\n",
    "\n",
    "The proper way to start all .py files:\n",
    "\n",
    "```python\n",
    "#!/usr/bin/env python\n",
    "# coding: utf-8\n",
    "\"File/module level docstring\"\n",
    "```"
   ]
  },
  {
   "cell_type": "markdown",
   "metadata": {
    "slideshow": {
     "slide_type": "slide"
    }
   },
   "source": [
    "<center><h2>chardet package</h2></center>\n",
    "\n",
    "[chardet](https://pypi.python.org/pypi/chardet) is the universal encoding detector. Gives best guess to covert unknown encoding bytes to str."
   ]
  },
  {
   "cell_type": "code",
   "execution_count": 123,
   "metadata": {
    "slideshow": {
     "slide_type": "fragment"
    }
   },
   "outputs": [],
   "source": [
    "# Python package\n",
    "import chardet"
   ]
  },
  {
   "cell_type": "code",
   "execution_count": 124,
   "metadata": {
    "slideshow": {
     "slide_type": "fragment"
    }
   },
   "outputs": [
    {
     "name": "stdout",
     "output_type": "stream",
     "text": [
      "shakespeare_all.txt: UTF-8-SIG with confidence 1.0\r\n"
     ]
    }
   ],
   "source": [
    "# Also has a CLI\n",
    "! chardetect shakespeare_all.txt"
   ]
  },
  {
   "cell_type": "code",
   "execution_count": 149,
   "metadata": {
    "slideshow": {
     "slide_type": "slide"
    }
   },
   "outputs": [
    {
     "data": {
      "text/plain": [
       "['\\ufeffTHE SONNETS', 'by William Shakespeare']"
      ]
     },
     "execution_count": 149,
     "metadata": {},
     "output_type": "execute_result"
    }
   ],
   "source": [
    "# 'utf-8' is default in Python\n",
    "with open('./shakespeare_all.txt') as f:\n",
    "    shakespeare = f.read().splitlines()\n",
    "    \n",
    "shakespeare[:2]"
   ]
  },
  {
   "cell_type": "code",
   "execution_count": 126,
   "metadata": {
    "slideshow": {
     "slide_type": "fragment"
    }
   },
   "outputs": [
    {
     "data": {
      "text/plain": [
       "['THE SONNETS', 'by William Shakespeare']"
      ]
     },
     "execution_count": 126,
     "metadata": {},
     "output_type": "execute_result"
    }
   ],
   "source": [
    "# Pass in new keyword argument if you see error\n",
    "with open('./shakespeare_all.txt', encoding='utf-8-sig') as f:\n",
    "    shakespeare = f.read().splitlines()\n",
    "    \n",
    "shakespeare[:2]"
   ]
  },
  {
   "cell_type": "markdown",
   "metadata": {
    "slideshow": {
     "slide_type": "skip"
    }
   },
   "source": [
    "Learn more: https://stackoverflow.com/questions/17912307/u-ufeff-in-python-string"
   ]
  },
  {
   "cell_type": "markdown",
   "metadata": {
    "slideshow": {
     "slide_type": "slide"
    }
   },
   "source": [
    "<center><h2>What is Unicode?</h2></center>\n",
    "\n",
    "Unicode (1 code to rule them all) is a mapping between code points (numbers) and all human characters.\n",
    "\n",
    "Unicode provides a unique number for every character!"
   ]
  },
  {
   "cell_type": "markdown",
   "metadata": {
    "slideshow": {
     "slide_type": "fragment"
    }
   },
   "source": [
    "> No matter what the platform.  \n",
    "> No matter what the language.     \n",
    "> No matter what the program.   "
   ]
  },
  {
   "cell_type": "markdown",
   "metadata": {
    "slideshow": {
     "slide_type": "skip"
    }
   },
   "source": [
    "[Source](http://www.unicode.org/standard/WhatIsUnicode.html)"
   ]
  },
  {
   "cell_type": "markdown",
   "metadata": {
    "slideshow": {
     "slide_type": "skip"
    }
   },
   "source": [
    "<center><img src=\"images/unicode_support.png\" width=\"400\"/></center>"
   ]
  },
  {
   "cell_type": "markdown",
   "metadata": {
    "slideshow": {
     "slide_type": "slide"
    }
   },
   "source": [
    "<center><h2>Unicode Table</h2></center>\n",
    "\n",
    "All the great characters: [Unicode Table](http://unicode-table.com/en/#0014)"
   ]
  },
  {
   "cell_type": "markdown",
   "metadata": {
    "slideshow": {
     "slide_type": "slide"
    }
   },
   "source": [
    "Unicode 12\n",
    "-----\n",
    "\n",
    "[Unicode 12.0](https://unicode.org/versions/Unicode12.0.0/) is the latest version of the Unicode Standard.\n",
    "\n",
    "> Unicode 12.0 adds 554 characters, for a total of 137,928 characters. These additions include 4 new scripts, for a total of 150 scripts, as well as 61 new emoji characters.\n",
    "\n",
    "[New emojis for Unicode 12](https://emojipedia.org/unicode-12.0/)"
   ]
  },
  {
   "cell_type": "markdown",
   "metadata": {
    "slideshow": {
     "slide_type": "fragment"
    }
   },
   "source": [
    "[New emojis for Unicode 11](https://emojipedia.org/unicode-11.0/)\n",
    "\n"
   ]
  },
  {
   "cell_type": "markdown",
   "metadata": {
    "slideshow": {
     "slide_type": "slide"
    }
   },
   "source": [
    "Summary Thus Far\n",
    "------\n",
    "\n",
    "- All data has a numerical representation in a computer. That numerical representation is bytes on disk.\n",
    "- When we load data of disk, we read those bytes. Those bytes could be anything (e.g., text, images, video).\n",
    "- If we think they are text, we have to decode those bytes into Unicode strings for Python to use them as `str`.\n",
    "- We decode with an type of encoding (e.g., utf-8).\n",
    "- Once we have `str` in memory, we can use built-in functions or `str` methods."
   ]
  },
  {
   "cell_type": "code",
   "execution_count": 155,
   "metadata": {
    "slideshow": {
     "slide_type": "slide"
    }
   },
   "outputs": [
    {
     "data": {
      "text/plain": [
       "128054"
      ]
     },
     "execution_count": 155,
     "metadata": {},
     "output_type": "execute_result"
    }
   ],
   "source": [
    "# Let's check the representations of: l, L, λ, 🐶\n",
    "\n",
    "s = \"🐶\"\n",
    "ord(s)"
   ]
  },
  {
   "cell_type": "code",
   "execution_count": 128,
   "metadata": {
    "slideshow": {
     "slide_type": "skip"
    }
   },
   "outputs": [
    {
     "data": {
      "text/plain": [
       "[108, 76, 955, 128054]"
      ]
     },
     "execution_count": 128,
     "metadata": {},
     "output_type": "execute_result"
    }
   ],
   "source": [
    "# Use ord to get the int for a str\n",
    "[ord(\"l\"), ord(\"L\"), ord(\"λ\"), ord(\"🐶\")]\n"
   ]
  },
  {
   "cell_type": "code",
   "execution_count": 129,
   "metadata": {
    "slideshow": {
     "slide_type": "slide"
    }
   },
   "outputs": [
    {
     "name": "stdout",
     "output_type": "stream",
     "text": [
      "True\n",
      "True\n"
     ]
    }
   ],
   "source": [
    "# Those numerical representations allow us to compare strings\n",
    "\n",
    "print('b' > 'a')\n",
    "print(ord('b'), ord('a'))\n",
    "print('a' > 'A')\n",
    "print(ord('a'), ord('A'))"
   ]
  },
  {
   "cell_type": "code",
   "execution_count": 157,
   "metadata": {
    "slideshow": {
     "slide_type": "slide"
    }
   },
   "outputs": [
    {
     "data": {
      "text/plain": [
       "'🐶'"
      ]
     },
     "execution_count": 157,
     "metadata": {},
     "output_type": "execute_result"
    }
   ],
   "source": [
    "# Use chr to get the str for a int\n",
    "chr(128054)"
   ]
  },
  {
   "cell_type": "markdown",
   "metadata": {
    "slideshow": {
     "slide_type": "slide"
    }
   },
   "source": [
    "<center><h2>Unicode is the best we have but text can still broken</h2></center>\n",
    "\n",
    "<center><img src=\"http://imgs.xkcd.com/comics/unicode.png\" width=\"45%\"/></center>"
   ]
  },
  {
   "cell_type": "code",
   "execution_count": 158,
   "metadata": {
    "slideshow": {
     "slide_type": "slide"
    }
   },
   "outputs": [
    {
     "data": {
      "text/plain": [
       "'\\ufeffTHE SONNETS\\nby William Shakespeare'"
      ]
     },
     "execution_count": 158,
     "metadata": {},
     "output_type": "execute_result"
    }
   ],
   "source": [
    "# What happens if I load text data and there is random characters?\n",
    "\n",
    "with open('./shakespeare_all.txt') as f:\n",
    "    text = f.read()\n",
    "text[:35]"
   ]
  },
  {
   "cell_type": "markdown",
   "metadata": {
    "slideshow": {
     "slide_type": "slide"
    }
   },
   "source": [
    "<center><img src=\"http://replygif.net/thumbnail/100.gif\" width=\"80%\"/></center>"
   ]
  },
  {
   "cell_type": "markdown",
   "metadata": {
    "collapsed": true,
    "slideshow": {
     "slide_type": "slide"
    }
   },
   "source": [
    "<center><h2>That is Mojibake</h2></center>\n",
    "\n",
    "<center><img src=\"http://mihai-nita.net/wp-content/uploads/2006/08/Rez4.gif\" width=\"700\"/></center>"
   ]
  },
  {
   "cell_type": "markdown",
   "metadata": {
    "slideshow": {
     "slide_type": "slide"
    }
   },
   "source": [
    "<center><h2>What is mojibake?</h2></center>\n",
    "\n",
    "<center><img src=\"http://s3.media.squarespace.com/production/920827/11462743/_wGr8njEWjtI/S_4ELCN3k7I/AAAAAAAAI3g/0wqbEFX0yjw/s1600/julian%2Bn.ow.thai%2Bfont%2B%2528story%2529.jpg\" width=\"55%\"/></center>\n",
    "\n",
    "<center>Incorrect, unreadable characters shown when computer software fails to show text correctly. </center>"
   ]
  },
  {
   "cell_type": "markdown",
   "metadata": {
    "slideshow": {
     "slide_type": "slide"
    }
   },
   "source": [
    "<center><h2>Why mojibake?</h2></center>\n",
    "\n",
    "Mojibake is a result of text being decoded using an unintended character encoding.\n",
    "\n",
    "[Very common in Japanese characters](https://en.wikipedia.org/wiki/Mojibake), hence the name:  \n",
    "文字 (moji) \"character\" + 化け (bake) \"transform\""
   ]
  },
  {
   "cell_type": "markdown",
   "metadata": {
    "slideshow": {
     "slide_type": "fragment"
    }
   },
   "source": [
    "__Bad News__: Looks awful\n",
    "    \n",
    "__Good News__: It is systematic and easy to fix. Find the right encoding or fix in \"post\"."
   ]
  },
  {
   "cell_type": "code",
   "execution_count": 161,
   "metadata": {
    "slideshow": {
     "slide_type": "slide"
    }
   },
   "outputs": [
    {
     "data": {
      "text/plain": [
       "'\\ufeffTHE SONNETS\\nby William Shakespeare'"
      ]
     },
     "execution_count": 161,
     "metadata": {},
     "output_type": "execute_result"
    }
   ],
   "source": [
    "text[:35]"
   ]
  },
  {
   "cell_type": "code",
   "execution_count": 160,
   "metadata": {
    "slideshow": {
     "slide_type": "fragment"
    }
   },
   "outputs": [
    {
     "data": {
      "text/plain": [
       "'THE SONNETS\\nby William Shakespeare'"
      ]
     },
     "execution_count": 160,
     "metadata": {},
     "output_type": "execute_result"
    }
   ],
   "source": [
    "import ftfy\n",
    "\n",
    "ftfy.fix_text(text[:35])"
   ]
  },
  {
   "cell_type": "markdown",
   "metadata": {
    "slideshow": {
     "slide_type": "slide"
    }
   },
   "source": [
    "<center><h2>ftfy FTW</h2></center>\n",
    "\n",
    "<center><img src=\"http://s2.quickmeme.com/img/0a/0ac84ebf42410c7c7325f8f7120723bd4ccede374902ab5c18000ab323a85a6b.jpg\" width=\"55%\"/></center>\n",
    "\n",
    "[fifty package](https://github.com/LuminosoInsight/python-ftfy/blob/master/README.md) automagically fixes all encoding errors!!!  "
   ]
  },
  {
   "cell_type": "code",
   "execution_count": 163,
   "metadata": {
    "slideshow": {
     "slide_type": "slide"
    }
   },
   "outputs": [],
   "source": [
    "# help(ftfy)"
   ]
  },
  {
   "cell_type": "code",
   "execution_count": 165,
   "metadata": {
    "slideshow": {
     "slide_type": "slide"
    }
   },
   "outputs": [],
   "source": [
    "# ftfy. # <tab>"
   ]
  },
  {
   "cell_type": "markdown",
   "metadata": {
    "slideshow": {
     "slide_type": "skip"
    }
   },
   "source": [
    "<center><h2>Point to Ponder</h2></center>\n",
    "\n",
    "<img src=\"http://www.quickmeme.com/img/ce/ce0e82f74fe1c1585ebdbdc2365bd9a69d222e16dcea6e95390136b2f1093a1f.jpg\" style=\"width: 400px;\"/>"
   ]
  },
  {
   "cell_type": "markdown",
   "metadata": {
    "slideshow": {
     "slide_type": "slide"
    }
   },
   "source": [
    "<center><h2>Python variables</h2></center>"
   ]
  },
  {
   "cell_type": "code",
   "execution_count": 136,
   "metadata": {
    "slideshow": {
     "slide_type": "fragment"
    }
   },
   "outputs": [],
   "source": [
    "# Can be an Unicode letter character\n",
    "λ = \"🐶\""
   ]
  },
  {
   "cell_type": "code",
   "execution_count": 167,
   "metadata": {
    "slideshow": {
     "slide_type": "fragment"
    }
   },
   "outputs": [],
   "source": [
    "# Not all Unicode characters are letters\n",
    "# 🐶 = \"λ\""
   ]
  },
  {
   "cell_type": "markdown",
   "metadata": {
    "slideshow": {
     "slide_type": "fragment"
    }
   },
   "source": [
    "<center><h2>Unicode Python Variables</h2></center>\n",
    "\n",
    "Works for localization and expressiveness.\n",
    "\n",
    "Python wants to be a global, inclusive language."
   ]
  },
  {
   "cell_type": "markdown",
   "metadata": {
    "slideshow": {
     "slide_type": "slide"
    }
   },
   "source": [
    "<center><h2>Student Activity</h2></center>\n",
    "\n",
    "1. Replace each letter with its position in the English alphabet  \n",
    "(assume only valid inputs).\n",
    "    - `assert alphabet_position(\"a b c\") == '1 2 3'`\n",
    "    - `assert alphabet_position(\"x y z\") == '24 25 26'`\n",
    "2. Convert a list of Unicode code points into a string: \n",
    "    - `assert look_up([99, 97, 116]) == \"cat\"`\n",
    "    - Special message: [128525, 9749]\n",
    "    \n",
    "Try to get working procedurally, then try to redo it as functional."
   ]
  },
  {
   "cell_type": "code",
   "execution_count": 168,
   "metadata": {
    "slideshow": {
     "slide_type": "slide"
    }
   },
   "outputs": [
    {
     "name": "stdout",
     "output_type": "stream",
     "text": [
      "1 2 3\n",
      "24 25 26\n"
     ]
    }
   ],
   "source": [
    "def alphabet_position(text):\n",
    "    return ' '.join(str(ord(c) - 96) for c in text if c.isalpha())\n",
    "\n",
    "print(alphabet_position(\"a b c\"))\n",
    "print(alphabet_position(\"xyz\"))"
   ]
  },
  {
   "cell_type": "code",
   "execution_count": 139,
   "metadata": {
    "slideshow": {
     "slide_type": "fragment"
    }
   },
   "outputs": [
    {
     "data": {
      "text/plain": [
       "'😍☕'"
      ]
     },
     "execution_count": 139,
     "metadata": {},
     "output_type": "execute_result"
    }
   ],
   "source": [
    "def look_up(nums):\n",
    "    return \"\".join(map(chr, nums))\n",
    "\n",
    "assert look_up([99, 97, 116]) == \"cat\"\n",
    "look_up([128525, 9749])"
   ]
  },
  {
   "cell_type": "markdown",
   "metadata": {
    "slideshow": {
     "slide_type": "slide"
    }
   },
   "source": [
    "Summary\n",
    "----\n",
    "\n",
    "- Be explicit about encodings.\n",
    "- All data is stored as bytes on disk.\n",
    "- In Python (in memory), all strings are Unicode.\n",
    "- If you see mojibake, don't ╯°□°）╯︵ ┻━┻ - `ftfy`!\n",
    "- Unicode is better than all other options (but still not perfect)."
   ]
  },
  {
   "cell_type": "code",
   "execution_count": 169,
   "metadata": {},
   "outputs": [
    {
     "name": "stdout",
     "output_type": "stream",
     "text": [
      "Timer is done.\n",
      "\n"
     ]
    }
   ],
   "source": [
    "from threading import Thread\n",
    "import time \n",
    "\n",
    "def countdown(n_seconds: int=300):\n",
    "    \"Countdown timer\"\n",
    "    while n_seconds:\n",
    "        mins, secs = divmod(n_seconds, 60)\n",
    "        print(f'{mins:02d}:{secs:02d}', end='\\r')\n",
    "        time.sleep(1)\n",
    "        n_seconds -= 1\n",
    "    print(\"Timer is done.\\n\")\n",
    "    \n",
    "Thread(None, countdown).start()"
   ]
  },
  {
   "cell_type": "markdown",
   "metadata": {
    "slideshow": {
     "slide_type": "slide"
    }
   },
   "source": [
    " "
   ]
  },
  {
   "cell_type": "markdown",
   "metadata": {
    "slideshow": {
     "slide_type": "slide"
    }
   },
   "source": [
    "\n",
    "Bonus Material\n",
    "---"
   ]
  },
  {
   "cell_type": "markdown",
   "metadata": {},
   "source": [
    "iPhone Unicode Message of Death\n",
    "----\n",
    "\n",
    "![iPhone Message of Death](images/dodgy_unicode.png)\n",
    "\n",
    "If you text this message to someone with a iPhone, it will force the device to reboot. This is due to a vulnerability in the Unicode byte representation.\n",
    "\n",
    "[Source](http://www.theregister.co.uk/2015/05/27/text_message_unicode_ios_osx_vulnerability/) <br>"
   ]
  },
  {
   "cell_type": "markdown",
   "metadata": {},
   "source": [
    "https://www.joelonsoftware.com/2003/10/08/the-absolute-minimum-every-software-developer-absolutely-positively-must-know-about-unicode-and-character-sets-no-excuses/"
   ]
  },
  {
   "cell_type": "code",
   "execution_count": 141,
   "metadata": {},
   "outputs": [
    {
     "name": "stdout",
     "output_type": "stream",
     "text": [
      " 🐣 \n",
      " ⟶ \n",
      " ¼ \n",
      "Timer is done.\n",
      "\n"
     ]
    }
   ],
   "source": [
    "# Unicode names\n",
    "print(f' \\N{Hatching Chick} ') # 🐣\n",
    "print(f' \\N{long rightwards arrow} ')  # ⟶\n",
    "print(f' \\N{Vulgar Fraction One Quarter} ') # ¼ "
   ]
  },
  {
   "cell_type": "markdown",
   "metadata": {},
   "source": [
    "What is difference between ASCII and Unicode?\n",
    "-----\n",
    "\n",
    "\n",
    "Representing characters with a byte worked great for computers until about the 1990s,\n",
    "when the personal computer became widely adopted in non-Western countries where\n",
    "languages have more than 256 characters. Instead of a one-byte character set, Unicode\n",
    "can have up to a 4 bytes character set.\n",
    "\n",
    "The first 256 code points are identical to the ASCII\n",
    "character table. Unicode can have different character encodings.                                                                         "
   ]
  },
  {
   "cell_type": "markdown",
   "metadata": {
    "slideshow": {
     "slide_type": "slide"
    }
   },
   "source": [
    "![](http://imgs.xkcd.com/comics/rtl.png )\n",
    "\n",
    "[Explain xckd](http://www.explainxkcd.com/wiki/index.php/RTL)"
   ]
  },
  {
   "cell_type": "markdown",
   "metadata": {
    "slideshow": {
     "slide_type": "slide"
    }
   },
   "source": [
    "[Unicode basics overview](http://python-notes.curiousefficiency.org/en/latest/python3/text_file_processing.html#unicode-basics)\n",
    "-----"
   ]
  },
  {
   "cell_type": "markdown",
   "metadata": {
    "slideshow": {
     "slide_type": "slide"
    }
   },
   "source": [
    "<br>\n",
    "<br>"
   ]
  }
 ],
 "metadata": {
  "anaconda-cloud": {},
  "celltoolbar": "Slideshow",
  "kernelspec": {
   "display_name": "Python 3",
   "language": "python",
   "name": "python3"
  },
  "language_info": {
   "codemirror_mode": {
    "name": "ipython",
    "version": 3
   },
   "file_extension": ".py",
   "mimetype": "text/x-python",
   "name": "python",
   "nbconvert_exporter": "python",
   "pygments_lexer": "ipython3",
   "version": "3.7.3"
  },
  "toc": {
   "base_numbering": 1,
   "nav_menu": {},
   "number_sections": false,
   "sideBar": false,
   "skip_h1_title": false,
   "title_cell": "Table of Contents",
   "title_sidebar": "Contents",
   "toc_cell": true,
   "toc_position": {},
   "toc_section_display": true,
   "toc_window_display": false
  }
 },
 "nbformat": 4,
 "nbformat_minor": 1
}
