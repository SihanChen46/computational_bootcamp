{
 "cells": [
  {
   "cell_type": "markdown",
   "metadata": {
    "slideshow": {
     "slide_type": "skip"
    },
    "toc": true
   },
   "source": [
    "<h1>Table of Contents<span class=\"tocSkip\"></span></h1>\n",
    "<div class=\"toc\"><ul class=\"toc-item\"><li><span><a href=\"#Debugging\" data-toc-modified-id=\"Debugging-1\">Debugging</a></span></li><li><span><a href=\"#Learning-Outcomes\" data-toc-modified-id=\"Learning-Outcomes-2\">Learning Outcomes</a></span><ul class=\"toc-item\"><li><ul class=\"toc-item\"><li><span><a href=\"#By-the-end-of-this-session,-you-should-be-able-to:\" data-toc-modified-id=\"By-the-end-of-this-session,-you-should-be-able-to:-2.0.1\">By the end of this session, you should be able to:</a></span></li></ul></li></ul></li><li><span><a href=\"#3-Main-Types-of-Errors\" data-toc-modified-id=\"3-Main-Types-of-Errors-3\">3 Main Types of Errors</a></span></li><li><span><a href=\"#Syntax-Errors\" data-toc-modified-id=\"Syntax-Errors-4\">Syntax Errors</a></span></li><li><span><a href=\"#Python's-Error-Messages-are-Teachable-Moments\" data-toc-modified-id=\"Python's-Error-Messages-are-Teachable-Moments-5\">Python's Error Messages are Teachable Moments</a></span></li><li><span><a href=\"#Python's-Error-Handling-Model\" data-toc-modified-id=\"Python's-Error-Handling-Model-6\">Python's Error Handling Model</a></span></li><li><span><a href=\"#Python's-Exception-Hierarchy\" data-toc-modified-id=\"Python's-Exception-Hierarchy-7\">Python's Exception Hierarchy</a></span></li><li><span><a href=\"#Reading-Traceback\" data-toc-modified-id=\"Reading-Traceback-8\">Reading Traceback</a></span></li><li><span><a href=\"#Reading-Traceback\" data-toc-modified-id=\"Reading-Traceback-9\">Reading Traceback</a></span></li><li><span><a href=\"#Reading-Traceback\" data-toc-modified-id=\"Reading-Traceback-10\">Reading Traceback</a></span></li><li><span><a href=\"#Reading-Traceback\" data-toc-modified-id=\"Reading-Traceback-11\">Reading Traceback</a></span></li><li><span><a href=\"#Reading-Traceback\" data-toc-modified-id=\"Reading-Traceback-12\">Reading Traceback</a></span></li><li><span><a href=\"#Syntax-Errors\" data-toc-modified-id=\"Syntax-Errors-13\">Syntax Errors</a></span></li><li><span><a href=\"#Runtime-Errors\" data-toc-modified-id=\"Runtime-Errors-14\">Runtime Errors</a></span></li><li><span><a href=\"#Semantic-Errors\" data-toc-modified-id=\"Semantic-Errors-15\">Semantic Errors</a></span></li><li><span><a href=\"#Unit-testing-is-the-best-way-to-discover-semantic-errors\" data-toc-modified-id=\"Unit-testing-is-the-best-way-to-discover-semantic-errors-16\">Unit testing is the best way to discover semantic errors</a></span></li><li><span><a href=\"#Limits-of-Testing\" data-toc-modified-id=\"Limits-of-Testing-17\">Limits of Testing</a></span></li><li><span><a href=\"#Limits-of-Testing\" data-toc-modified-id=\"Limits-of-Testing-18\">Limits of Testing</a></span></li><li><span><a href=\"#Complete-testing-is-impossible\" data-toc-modified-id=\"Complete-testing-is-impossible-19\">Complete testing is impossible</a></span></li><li><span><a href=\"#Let's-think-about-testing-Linear-Regression\" data-toc-modified-id=\"Let's-think-about-testing-Linear-Regression-20\">Let's think about testing Linear Regression</a></span></li><li><span><a href=\"#Check-for-understanding\" data-toc-modified-id=\"Check-for-understanding-21\">Check for understanding</a></span></li><li><span><a href=\"#Debugging-Semantic-Error-Tips\" data-toc-modified-id=\"Debugging-Semantic-Error-Tips-22\">Debugging Semantic Error Tips</a></span></li><li><span><a href=\"#So-know-you-have-an-error,-time-to-debug\" data-toc-modified-id=\"So-know-you-have-an-error,-time-to-debug-23\">So know you have an error, time to debug</a></span></li><li><span><a href=\"#6-Stages-of-Debugging\" data-toc-modified-id=\"6-Stages-of-Debugging-24\">6 Stages of Debugging</a></span></li><li><span><a href=\"#Debugging-Methods\" data-toc-modified-id=\"Debugging-Methods-25\">Debugging Methods</a></span></li><li><span><a href=\"#Brian's-Hardest-Bug\" data-toc-modified-id=\"Brian's-Hardest-Bug-26\">Brian's Hardest Bug</a></span></li><li><span><a href=\"#Brian's-rank-ordered-tips-to-prevent-bugs:\" data-toc-modified-id=\"Brian's-rank-ordered-tips-to-prevent-bugs:-27\">Brian's rank-ordered tips to prevent bugs:</a></span></li><li><span><a href=\"#Student-Activity\" data-toc-modified-id=\"Student-Activity-28\">Student Activity</a></span></li><li><span><a href=\"#Summary\" data-toc-modified-id=\"Summary-29\">Summary</a></span></li><li><span><a href=\"#Bonus-Material\" data-toc-modified-id=\"Bonus-Material-30\">Bonus Material</a></span></li><li><span><a href=\"#Seriously---Learn-how-to-use-a-debugger\" data-toc-modified-id=\"Seriously---Learn-how-to-use-a-debugger-31\">Seriously - Learn how to use a debugger</a></span></li><li><span><a href=\"#Common-Syntax-Errors\" data-toc-modified-id=\"Common-Syntax-Errors-32\">Common Syntax Errors</a></span></li><li><span><a href=\"#try-/-except-to-handle-errors\" data-toc-modified-id=\"try-/-except-to-handle-errors-33\">try / except to handle errors</a></span></li><li><span><a href=\"#Further-Study\" data-toc-modified-id=\"Further-Study-34\">Further Study</a></span></li><li><span><a href=\"#In-the-future\" data-toc-modified-id=\"In-the-future-35\">In the future</a></span></li></ul></div>"
   ]
  },
  {
   "cell_type": "markdown",
   "metadata": {
    "slideshow": {
     "slide_type": "slide"
    }
   },
   "source": [
    "<center><h2>Debugging</h2></center>\n",
    "\n",
    "<center><img src=\"https://www.azquotes.com/picture-quotes/quote-if-debugging-is-the-process-of-removing-software-bugs-then-programming-must-be-the-process-edsger-dijkstra-56-19-97.jpg\" width=\"100%\"/></center>"
   ]
  },
  {
   "cell_type": "markdown",
   "metadata": {
    "slideshow": {
     "slide_type": "skip"
    }
   },
   "source": [
    "> If debugging is the process of removing software bugs, then programming must be the process of putting them in.  \n",
    "> — Edsger Dijkstra\n"
   ]
  },
  {
   "cell_type": "markdown",
   "metadata": {
    "slideshow": {
     "slide_type": "slide"
    }
   },
   "source": [
    "<center><h2>Learning Outcomes</h2></center>\n",
    "\n",
    "#### By the end of this session, you should be able to:\n",
    "\n",
    "- Explain the difference between syntax, runtime, and semantic errors.\n",
    "- Describe Python's error handling model.\n",
    "- List common ways of debugging.\n",
    "- Find and fix small bugs."
   ]
  },
  {
   "cell_type": "markdown",
   "metadata": {
    "slideshow": {
     "slide_type": "slide"
    }
   },
   "source": [
    "3 Main Types of Errors\n",
    "-----\n",
    "\n",
    "1. Syntax Errors\n",
    "1. Runtime Errors\n",
    "1. Semantic Errors"
   ]
  },
  {
   "cell_type": "markdown",
   "metadata": {
    "slideshow": {
     "slide_type": "slide"
    }
   },
   "source": [
    "<center><h2>Syntax Errors</h2></center>\n",
    "\n",
    "Python tries to run the code but cannot interpret it.\n",
    "\n",
    "Your source code has violated one of the rules of the Python language. \n",
    "\n",
    "Syntax is the rules of a language.\n",
    "\n",
    "The Python interpreter tries to translate your source code into byte code (cause computers only understand bytes). Python is unable to parse your source code. "
   ]
  },
  {
   "cell_type": "code",
   "execution_count": 41,
   "metadata": {
    "slideshow": {
     "slide_type": "skip"
    }
   },
   "outputs": [],
   "source": [
    "reset -fs"
   ]
  },
  {
   "cell_type": "code",
   "execution_count": 55,
   "metadata": {
    "slideshow": {
     "slide_type": "slide"
    }
   },
   "outputs": [],
   "source": [
    "# def total(nums)\n",
    "#     return sum(nums)"
   ]
  },
  {
   "cell_type": "code",
   "execution_count": 58,
   "metadata": {
    "slideshow": {
     "slide_type": "fragment"
    }
   },
   "outputs": [],
   "source": [
    "# x.1 = 42"
   ]
  },
  {
   "cell_type": "code",
   "execution_count": 60,
   "metadata": {
    "slideshow": {
     "slide_type": "fragment"
    }
   },
   "outputs": [],
   "source": [
    "# x = [2016, 04, 03]"
   ]
  },
  {
   "cell_type": "markdown",
   "metadata": {
    "slideshow": {
     "slide_type": "slide"
    }
   },
   "source": [
    "<center><h2>Python's Error Messages are Teachable Moments</h2></center>\n",
    "\n",
    "Python error messages should be treated as helpful friends (not adversaries).\n",
    "\n",
    "I rather see an error message tells me that the code is wrong and tries to help me fix it. That is much better than a mistake passing silently."
   ]
  },
  {
   "cell_type": "markdown",
   "metadata": {
    "slideshow": {
     "slide_type": "slide"
    }
   },
   "source": [
    "<center><h2>Python's Error Handling Model</h2></center>\n",
    "\n",
    "Python raises an exception when encountering an error.\n",
    "\n"
   ]
  },
  {
   "cell_type": "markdown",
   "metadata": {
    "slideshow": {
     "slide_type": "slide"
    }
   },
   "source": [
    "<center><h2>Python's Exception Hierarchy</h2></center>\n",
    "\n",
    "<center><img src=\"images/exceptions.png\" width=\"100%\"/></center>"
   ]
  },
  {
   "cell_type": "markdown",
   "metadata": {
    "slideshow": {
     "slide_type": "fragment"
    }
   },
   "source": [
    "Text version of Exception hierarchy is [here](https://docs.python.org/3/library/exceptions.html#exception-hierarchy).\n",
    "\n",
    "List of all error types is [here](https://docs.python.org/3/library/exceptions.html)."
   ]
  },
  {
   "cell_type": "markdown",
   "metadata": {
    "slideshow": {
     "slide_type": "skip"
    }
   },
   "source": [
    "[Source](https://julien.danjou.info/content/images/2018/03/python2-exceptions-graph.png)"
   ]
  },
  {
   "cell_type": "markdown",
   "metadata": {
    "slideshow": {
     "slide_type": "slide"
    }
   },
   "source": [
    "<center><h2>Reading Traceback</h2></center>\n",
    "\n",
    "<center><img src=\"https://files.realpython.com/media/python_traceback_2.b27a4eb060a8.png\" width=\"75%\"/></center>\n",
    "\n",
    "Read the traceback from the bottom up."
   ]
  },
  {
   "cell_type": "markdown",
   "metadata": {
    "slideshow": {
     "slide_type": "slide"
    }
   },
   "source": [
    "<center><h2>Reading Traceback</h2></center>\n",
    "\n",
    "<center><img src=\"https://files.realpython.com/media/python_traceback_2.b27a4eb060a8.png\" width=\"75%\"/></center>\n",
    "\n",
    "Blue box: The last line of the traceback is the error message line. It contains the exception name that was raised."
   ]
  },
  {
   "cell_type": "markdown",
   "metadata": {
    "slideshow": {
     "slide_type": "slide"
    }
   },
   "source": [
    "<center><h2>Reading Traceback</h2></center>\n",
    "\n",
    "<center><img src=\"https://files.realpython.com/media/python_traceback_2.b27a4eb060a8.png\" width=\"75%\"/></center>\n",
    "\n",
    "Green box: After the exception name is the error message. This message usually contains helpful information for understanding the reason for the exception being raised."
   ]
  },
  {
   "cell_type": "markdown",
   "metadata": {
    "slideshow": {
     "slide_type": "slide"
    }
   },
   "source": [
    "<center><h2>Reading Traceback</h2></center>\n",
    "\n",
    "<center><img src=\"https://files.realpython.com/media/python_traceback_2.b27a4eb060a8.png\" width=\"75%\"/></center>\n",
    "\n",
    "Yellow box: Further up the traceback are the various function calls moving from bottom to top, most recent to least recent. These calls are represented by two-line entries for each call. The first line of each call contains information like the file name, line number, and module name, all specifying where the code can be found."
   ]
  },
  {
   "cell_type": "markdown",
   "metadata": {
    "slideshow": {
     "slide_type": "slide"
    }
   },
   "source": [
    "<center><h2>Reading Traceback</h2></center>\n",
    "\n",
    "<center><img src=\"https://files.realpython.com/media/python_traceback_2.b27a4eb060a8.png\" width=\"75%\"/></center>\n",
    "\n",
    "Red underline: The second line for these calls contains the actual code that was executed."
   ]
  },
  {
   "cell_type": "markdown",
   "metadata": {
    "slideshow": {
     "slide_type": "skip"
    }
   },
   "source": [
    "[Source and a great place to learn more about Traceback](https://realpython.com/python-traceback/)"
   ]
  },
  {
   "cell_type": "markdown",
   "metadata": {
    "slideshow": {
     "slide_type": "slide"
    }
   },
   "source": [
    "<center><h2>Syntax Errors</h2></center>\n",
    "\n",
    "`SyntaxError` will tell you where the language mistake is. However, most of the time`SyntaxError` don't tell how you to fix them.\n",
    "\n",
    "SyntaxError are obvious to see (once get enough experience with the Python language).\n",
    "\n",
    "Google is your friend for Syntax Errors."
   ]
  },
  {
   "cell_type": "markdown",
   "metadata": {
    "slideshow": {
     "slide_type": "slide"
    }
   },
   "source": [
    "<center><h2>Runtime Errors</h2></center>\n",
    "\n",
    "Something goes wrong while a Python program is running. \n",
    "\n",
    "Most Runtime Errors are more specific about the type of error occurred. "
   ]
  },
  {
   "cell_type": "code",
   "execution_count": 62,
   "metadata": {
    "slideshow": {
     "slide_type": "slide"
    }
   },
   "outputs": [],
   "source": [
    "# x = 42\n",
    "\n",
    "# print(x, y)"
   ]
  },
  {
   "cell_type": "code",
   "execution_count": 64,
   "metadata": {
    "slideshow": {
     "slide_type": "slide"
    }
   },
   "outputs": [],
   "source": [
    "# def recurse():\n",
    "#     recurse()\n",
    "    \n",
    "# recurse()"
   ]
  },
  {
   "cell_type": "markdown",
   "metadata": {
    "slideshow": {
     "slide_type": "skip"
    }
   },
   "source": [
    "[Source](http://www.greenteapress.com/thinkpython/html/thinkpython021.html)"
   ]
  },
  {
   "cell_type": "markdown",
   "metadata": {
    "slideshow": {
     "slide_type": "slide"
    }
   },
   "source": [
    "<center><h2>Semantic Errors</h2></center>\n",
    "\n",
    "The worst type of errors.\n",
    "\n",
    "The code runs but is not __correct__.\n",
    "\n",
    "Semantic means \"meaning\". Semantic Errors means the running code does not do what you want it to."
   ]
  },
  {
   "cell_type": "code",
   "execution_count": 66,
   "metadata": {
    "slideshow": {
     "slide_type": "slide"
    }
   },
   "outputs": [
    {
     "data": {
      "text/plain": [
       "6"
      ]
     },
     "execution_count": 66,
     "metadata": {},
     "output_type": "execute_result"
    }
   ],
   "source": [
    "# What is the semantic error in this code?\n",
    "def product(nums):\n",
    "    total = 0\n",
    "    for n in nums:\n",
    "        total += n\n",
    "    return total\n",
    "\n",
    "product([1, 2, 3])"
   ]
  },
  {
   "cell_type": "markdown",
   "metadata": {
    "slideshow": {
     "slide_type": "slide"
    }
   },
   "source": [
    "<center><h2>Unit testing is the best way to discover semantic errors</h2></center>"
   ]
  },
  {
   "cell_type": "code",
   "execution_count": 71,
   "metadata": {
    "slideshow": {
     "slide_type": "fragment"
    }
   },
   "outputs": [],
   "source": [
    "# assert product([0]) == 0\n",
    "# assert product([1]) == 1\n",
    "# assert product([2]) == 2\n",
    "# assert product([1, 2]) == 2"
   ]
  },
  {
   "cell_type": "markdown",
   "metadata": {
    "slideshow": {
     "slide_type": "slide"
    }
   },
   "source": [
    "<center><h2>Limits of Testing</h2></center>\n",
    "\n",
    "<center><img src=\"https://www.azquotes.com/picture-quotes/quote-testing-shows-the-presence-not-the-absence-of-bugs-edsger-dijkstra-84-72-89.jpg\" width=\"100%\"/></center>"
   ]
  },
  {
   "cell_type": "markdown",
   "metadata": {
    "slideshow": {
     "slide_type": "slide"
    }
   },
   "source": [
    "<center><h2>Limits of Testing</h2></center>\n",
    "\n",
    "There is a common logical fallacy with testing code: \n",
    "\n",
    "- A failing test means there is guaranteed to be a problem. \n"
   ]
  },
  {
   "cell_type": "markdown",
   "metadata": {
    "slideshow": {
     "slide_type": "fragment"
    }
   },
   "source": [
    "- A passing test does __not__ guarantee there is __no__ problem."
   ]
  },
  {
   "cell_type": "markdown",
   "metadata": {
    "slideshow": {
     "slide_type": "slide"
    }
   },
   "source": [
    "<center><h2>Complete testing is impossible</h2></center>\n",
    "\n",
    "Complete testing is impossible for several reasons:\n",
    "\n",
    "- Can't test all the inputs to the program.\n",
    "- Can't test all the combinations of inputs to the program.\n",
    "- Can't test all the paths through the program.\n",
    "- Can't test for all of the other potential failures, such as those caused by user interface design\n",
    "errors or incomplete requirements."
   ]
  },
  {
   "cell_type": "markdown",
   "metadata": {
    "slideshow": {
     "slide_type": "slide"
    }
   },
   "source": [
    "<center><h2>Let's think about testing Linear Regression</h2></center>\n",
    "\n",
    "There always be novel input (especially true for data and machine learning systems).\n",
    "\n",
    "Interpolation - new specific values within the training range.\n",
    "\n",
    "Extrapolation - new values outside of the training range"
   ]
  },
  {
   "cell_type": "markdown",
   "metadata": {
    "slideshow": {
     "slide_type": "skip"
    }
   },
   "source": [
    "[Source](http://www.testingeducation.org/BBST/foundations/Kaner_impossibility.pdf) 👈 Worth the read"
   ]
  },
  {
   "cell_type": "markdown",
   "metadata": {
    "slideshow": {
     "slide_type": "slide"
    }
   },
   "source": [
    "<center><h2>Check for understanding</h2></center>\n",
    "\n",
    "Who or what typically finds Semantic Errors?\n",
    "\n",
    "- The computer\n",
    "- The interpreter\n",
    "- The programmer\n",
    "- The teacher"
   ]
  },
  {
   "cell_type": "markdown",
   "metadata": {
    "slideshow": {
     "slide_type": "slide"
    }
   },
   "source": [
    "<center><h2>Debugging Semantic Error Tips</h2></center>\n",
    "\n",
    "Break big expression into smaller ones.\n",
    "\n",
    "Write procedural code to make state mutations more explicit (e.g., list comps are hard to debug).\n",
    "\n",
    "Add parentheses to make the order of evaluation explicit, especially with complex boolean conditionals."
   ]
  },
  {
   "cell_type": "markdown",
   "metadata": {
    "slideshow": {
     "slide_type": "slide"
    }
   },
   "source": [
    "<center><h2>So know you have an error, time to debug</h2></center>\n",
    "\n",
    "Computers always do exactly what you told them to do."
   ]
  },
  {
   "cell_type": "markdown",
   "metadata": {
    "slideshow": {
     "slide_type": "fragment"
    }
   },
   "source": [
    "A bug is you telling the computer do to the wrong thing."
   ]
  },
  {
   "cell_type": "markdown",
   "metadata": {
    "slideshow": {
     "slide_type": "fragment"
    }
   },
   "source": [
    "You job is to find the discrepancy between the reality of the program and the idea in your head, you can solve the bug."
   ]
  },
  {
   "cell_type": "markdown",
   "metadata": {
    "slideshow": {
     "slide_type": "slide"
    }
   },
   "source": [
    "<center><img src=\"https://www.azquotes.com/picture-quotes/quote-computers-are-useless-they-can-only-give-you-answers-pablo-picasso-23-13-20.jpg\" width=\"100%\"/></center>"
   ]
  },
  {
   "cell_type": "markdown",
   "metadata": {
    "slideshow": {
     "slide_type": "slide"
    }
   },
   "source": [
    "<center><h2>6 Stages of Debugging</h2></center>\n",
    "\n",
    "1. That can't happen.\n",
    "1. That doesn't happen on my machine.\n",
    "1. That shouldn't happen.\n",
    "1. Why does that happen?\n",
    "1. Oh, I see.\n",
    "1. How did that ever work?"
   ]
  },
  {
   "cell_type": "markdown",
   "metadata": {
    "slideshow": {
     "slide_type": "slide"
    }
   },
   "source": [
    "<center><h2>Debugging Methods</h2></center>\n",
    "\n",
    "1. Read and understand the Exception and Traceback message.\n",
    "1. Print statements.\n",
    "1. Take a walk (or a nap).\n",
    "1. Debugger"
   ]
  },
  {
   "cell_type": "markdown",
   "metadata": {
    "slideshow": {
     "slide_type": "slide"
    }
   },
   "source": [
    "<center><h2>Brian's Hardest Bug</h2></center>"
   ]
  },
  {
   "cell_type": "markdown",
   "metadata": {
    "slideshow": {
     "slide_type": "skip"
    }
   },
   "source": [
    "Hidden character in MATLAB."
   ]
  },
  {
   "cell_type": "markdown",
   "metadata": {
    "slideshow": {
     "slide_type": "slide"
    }
   },
   "source": [
    "<center><h2>Brian's rank-ordered tips to prevent bugs:</h2></center>\n",
    "\n",
    "1. Write code that is as simple as possible.\n",
    "\n",
    "1. Let Python do the work for you. Fewer lines of code means less chance for typos.\n",
    "\n",
    "1. Write clear code. Start with good habits (e.g., clear names and modular responsibilities).\n",
    "\n",
    "1. Follow style guidelines (e.g., pep8)\n",
    "\n",
    "1. Start with working code. Then add features and complexity. Keep it working."
   ]
  },
  {
   "cell_type": "markdown",
   "metadata": {
    "slideshow": {
     "slide_type": "slide"
    }
   },
   "source": [
    "<center><img src=\"images/kevin.jpg\" width=\"100%\"/></center>"
   ]
  },
  {
   "cell_type": "markdown",
   "metadata": {
    "slideshow": {
     "slide_type": "skip"
    }
   },
   "source": [
    "That is why \"Agile\" methogology works.\n",
    "\n",
    "In Agile, code should be working on all the time:\n",
    "\n",
    "- During the day\n",
    "- If not during day, every night.\n",
    "- If not every night, at the end of every 2 weeks (sprint)\n",
    "\n",
    "You can't build complexity on top of dysfunction."
   ]
  },
  {
   "cell_type": "markdown",
   "metadata": {
    "slideshow": {
     "slide_type": "slide"
    }
   },
   "source": [
    "<center><h2>Student Activity</h2></center>\n",
    "\n",
    "1. Changing a single list in this list-of-lists changes all the other lists. Create a list-of-lists with each list having independent state:   \n",
    "```python\n",
    "lol = [[0] * 3] * 5\n",
    "lol[0][0] = 1\n",
    "```\n",
    "2. This code does not correctly update `d`. Change it so `d` is correctly updated:  \n",
    "```python\n",
    "d = {1 : \"a\"}\n",
    "d = d.update({2 : \"b\"})\n",
    "```\n",
    "3. This code tries to remove even numbers from a list. Make this code run and correctly remove even numbers:\n",
    "```python\n",
    "nums = list(range(10))\n",
    "for i in range(len(nums)):\n",
    "     if not nums[i] % 2: \n",
    "        del nums[i] \n",
    "```"
   ]
  },
  {
   "cell_type": "code",
   "execution_count": 3,
   "metadata": {},
   "outputs": [],
   "source": [
    "from metakernel import register_ipython_magics\n",
    "register_ipython_magics()"
   ]
  },
  {
   "cell_type": "code",
   "execution_count": 4,
   "metadata": {},
   "outputs": [
    {
     "data": {
      "text/html": [
       "\n",
       "        <iframe\n",
       "            width=\"100%\"\n",
       "            height=\"500\"\n",
       "            src=\"https://pythontutor.com/iframe-embed.html#code=%0A%23%20Buggy%20code%0Alol%20%3D%20%5B%5B0%5D%20%2A%203%5D%20%2A%205%0Alol%5B0%5D%5B0%5D%20%3D%201%0Aprint%28lol%29%0A&origin=opt-frontend.js&cumulative=false&heapPrimitives=false&textReferences=false&py=3&rawInputLstJSON=%5B%5D&curInstr=0&codeDivWidth=350&codeDivHeight=400\"\n",
       "            frameborder=\"0\"\n",
       "            allowfullscreen\n",
       "        ></iframe>\n",
       "        "
      ],
      "text/plain": [
       "<IPython.lib.display.IFrame at 0x1094acb70>"
      ]
     },
     "metadata": {},
     "output_type": "display_data"
    }
   ],
   "source": [
    "%%tutor\n",
    "\n",
    "# Buggy code\n",
    "lol = [[0] * 3] * 5\n",
    "lol[0][0] = 1\n",
    "print(lol)"
   ]
  },
  {
   "cell_type": "code",
   "execution_count": 5,
   "metadata": {
    "slideshow": {
     "slide_type": "slide"
    }
   },
   "outputs": [
    {
     "data": {
      "text/html": [
       "\n",
       "        <iframe\n",
       "            width=\"100%\"\n",
       "            height=\"500\"\n",
       "            src=\"https://pythontutor.com/iframe-embed.html#code=%0A%23%20Correct%20code%0A%23%20Each%20list%20is%20independent%0Alol%20%3D%20%5B%5B0%20for%20_%20in%20range%285%29%5D%20for%20_%20in%20range%285%29%5D%0A%0Alol%5B0%5D%5B3%5D%20%3D%201%0Alol%0A&origin=opt-frontend.js&cumulative=false&heapPrimitives=false&textReferences=false&py=3&rawInputLstJSON=%5B%5D&curInstr=0&codeDivWidth=350&codeDivHeight=400\"\n",
       "            frameborder=\"0\"\n",
       "            allowfullscreen\n",
       "        ></iframe>\n",
       "        "
      ],
      "text/plain": [
       "<IPython.lib.display.IFrame at 0x1094840b8>"
      ]
     },
     "metadata": {},
     "output_type": "display_data"
    }
   ],
   "source": [
    "%%tutor\n",
    "\n",
    "# Correct code\n",
    "# Each list is independent\n",
    "lol = [[0 for _ in range(5)] for _ in range(5)]\n",
    "\n",
    "lol[0][3] = 1\n",
    "lol"
   ]
  },
  {
   "cell_type": "code",
   "execution_count": 45,
   "metadata": {
    "slideshow": {
     "slide_type": "skip"
    }
   },
   "outputs": [],
   "source": [
    "# Buggy code\n",
    "d = {1 : \"a\"}\n",
    "d = d.update({2 : \"b\"})\n",
    "d"
   ]
  },
  {
   "cell_type": "code",
   "execution_count": 46,
   "metadata": {
    "slideshow": {
     "slide_type": "slide"
    }
   },
   "outputs": [
    {
     "data": {
      "text/plain": [
       "{1: 'a', 2: 'b'}"
      ]
     },
     "execution_count": 46,
     "metadata": {},
     "output_type": "execute_result"
    }
   ],
   "source": [
    "# Correct code\n",
    "d = {1 : \"a\"}\n",
    "d.update({2 : \"b\"}) # Don't reassign it; Change inplace\n",
    "d"
   ]
  },
  {
   "cell_type": "markdown",
   "metadata": {
    "slideshow": {
     "slide_type": "skip"
    }
   },
   "source": [
    "[Source](https://dev.to/thejessleigh/three-python-nuances-i-wish-id-known-earlier-547c)"
   ]
  },
  {
   "cell_type": "code",
   "execution_count": 47,
   "metadata": {
    "slideshow": {
     "slide_type": "skip"
    }
   },
   "outputs": [],
   "source": [
    "# # Buggy code\n",
    "# nums = list(range(10))\n",
    "# for i in range(len(nums)):\n",
    "#      if not nums[i] % 2: \n",
    "#         del nums[i] "
   ]
  },
  {
   "cell_type": "code",
   "execution_count": 48,
   "metadata": {},
   "outputs": [
    {
     "data": {
      "text/plain": [
       "[1, 3, 5, 7, 9]"
      ]
     },
     "execution_count": 48,
     "metadata": {},
     "output_type": "execute_result"
    }
   ],
   "source": [
    "# Remove even numbers - works but is dangerous\n",
    "nums = list(range(10))\n",
    "\n",
    "for i, n in enumerate(nums):\n",
    "    if not n % 2: \n",
    "        del nums[i] \n",
    "        \n",
    "nums"
   ]
  },
  {
   "cell_type": "code",
   "execution_count": 49,
   "metadata": {
    "slideshow": {
     "slide_type": "slide"
    }
   },
   "outputs": [
    {
     "data": {
      "text/plain": [
       "[1, 3, 5, 7, 9]"
      ]
     },
     "execution_count": 49,
     "metadata": {},
     "output_type": "execute_result"
    }
   ],
   "source": [
    "# Remove even numbers - safely\n",
    "[n for n in range(10) if n % 2]"
   ]
  },
  {
   "cell_type": "markdown",
   "metadata": {
    "slideshow": {
     "slide_type": "slide"
    }
   },
   "source": [
    "<center><h2>Summary</h2></center>\n",
    "\n",
    "- Syntax errors means the code won't start.\n",
    "- Runtime errors means the code won't finish.\n",
    "- Semantic errors means the code is wrong.\n",
    "- Python handles errors with Exceptions and provides Traceback message.\n",
    "- Print statements and methodically thinking are the best ways to debug.\n",
    "- Learn to love bugs, it is part of programming.\n"
   ]
  },
  {
   "cell_type": "markdown",
   "metadata": {
    "slideshow": {
     "slide_type": "slide"
    }
   },
   "source": [
    " "
   ]
  },
  {
   "cell_type": "markdown",
   "metadata": {
    "slideshow": {
     "slide_type": "slide"
    }
   },
   "source": [
    "Bonus Material\n",
    "-----"
   ]
  },
  {
   "cell_type": "markdown",
   "metadata": {},
   "source": [
    "Seriously - Learn how to use a debugger\n",
    "-----\n",
    "\n",
    "A quickstart guide is [here](https://davidhamann.de/2017/04/22/debugging-jupyter-notebooks/)\n"
   ]
  },
  {
   "cell_type": "markdown",
   "metadata": {},
   "source": [
    "\n",
    "Common Syntax Errors\n",
    "-----\n",
    "\n",
    "- Check names\n",
    "    - You are using a Python keyword for a variable name or function name.\n",
    "    - You give your module the same name as one of the standard Python modules.\n",
    "    - You forgot to save the file you just edited.\n",
    "    - You changed the name of the file, but still running the old name.\n",
    "\n",
    "- Check matching symbols\n",
    "    - Make sure that any strings have matching quotation marks.\n",
    "    -An unclosed opening operator (, {, or [, makes Python continue with the next line as part of the current statement. Generally, an error occurs almost immediately in the next line.\n",
    "\n",
    "- Check symbols\n",
    "    - Check that you have a colon at the end of the header of every compound statement, including for, while, if, def, and with statements.\n",
    "    - Did you use assignment = instead of equals == inside a conditional?\n",
    "    - How about indentations? Make sure it lines up the way it is supposed to. Don't mix with space and tabs. Be consistent. The recommended coding style is to use 4 spaces for indentation.\n",
    "\n",
    "[Source](https://www.cswonders.com/note?id=jtw7pdwc)"
   ]
  },
  {
   "cell_type": "markdown",
   "metadata": {},
   "source": [
    "![](http://i.imgur.com/WRuJV6rl.png)"
   ]
  },
  {
   "cell_type": "markdown",
   "metadata": {},
   "source": [
    "try / except to handle errors\n",
    "------"
   ]
  },
  {
   "cell_type": "code",
   "execution_count": 50,
   "metadata": {},
   "outputs": [],
   "source": [
    "# 1/0"
   ]
  },
  {
   "cell_type": "code",
   "execution_count": 51,
   "metadata": {},
   "outputs": [
    {
     "name": "stdout",
     "output_type": "stream",
     "text": [
      "Can't divide by zero. Try something else.\n"
     ]
    }
   ],
   "source": [
    "try:\n",
    "    1/0\n",
    "except ZeroDivisionError:\n",
    "    print(\"Can't divide by zero. Try something else.\")"
   ]
  },
  {
   "cell_type": "markdown",
   "metadata": {},
   "source": [
    "Further Study\n",
    "------\n",
    "\n",
    "- https://realpython.com/python-exceptions/\n",
    "- [Tricky edge cases in Python](https://github.com/satwikkansal/wtfpython)\n",
    "- \"How to Make Mistakes in Python\" by Mike Pirant\n"
   ]
  },
  {
   "cell_type": "markdown",
   "metadata": {},
   "source": [
    "In the future\n",
    "------\n",
    "\n",
    "We'll have AI/ML in the Interpreter.\n",
    "\n",
    "It help us write our code and automatically fix simple errors.\n",
    "\n",
    "Think about how helpful auto-correct is on your phone and Grammarly is on the web. Wouldn't it be nice if Python did the same thing!"
   ]
  },
  {
   "cell_type": "markdown",
   "metadata": {},
   "source": [
    " "
   ]
  }
 ],
 "metadata": {
  "celltoolbar": "Slideshow",
  "kernelspec": {
   "display_name": "Python 3",
   "language": "python",
   "name": "python3"
  },
  "language_info": {
   "codemirror_mode": {
    "name": "ipython",
    "version": 3
   },
   "file_extension": ".py",
   "mimetype": "text/x-python",
   "name": "python",
   "nbconvert_exporter": "python",
   "pygments_lexer": "ipython3",
   "version": "3.7.3"
  },
  "toc": {
   "base_numbering": 1,
   "nav_menu": {},
   "number_sections": false,
   "sideBar": false,
   "skip_h1_title": false,
   "title_cell": "Table of Contents",
   "title_sidebar": "Contents",
   "toc_cell": true,
   "toc_position": {},
   "toc_section_display": true,
   "toc_window_display": false
  }
 },
 "nbformat": 4,
 "nbformat_minor": 2
}
