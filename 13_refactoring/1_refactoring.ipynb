{
 "cells": [
  {
   "cell_type": "markdown",
   "metadata": {
    "toc": true
   },
   "source": [
    "<h1>Table of Contents<span class=\"tocSkip\"></span></h1>\n",
    "<div class=\"toc\"><ul class=\"toc-item\"><li><span><a href=\"#Refactoring\" data-toc-modified-id=\"Refactoring-1\">Refactoring</a></span></li><li><span><a href=\"#Learning-Outcomes\" data-toc-modified-id=\"Learning-Outcomes-2\">Learning Outcomes</a></span><ul class=\"toc-item\"><li><ul class=\"toc-item\"><li><span><a href=\"#By-the-end-of-this-session,-you-should-be-able-to:\" data-toc-modified-id=\"By-the-end-of-this-session,-you-should-be-able-to:-2.0.1\">By the end of this session, you should be able to:</a></span></li></ul></li></ul></li><li><span><a href=\"#What-is-refactoring?\" data-toc-modified-id=\"What-is-refactoring?-3\">What is refactoring?</a></span></li><li><span><a href=\"#Lines-of-Code-(loc)\" data-toc-modified-id=\"Lines-of-Code-(loc)-4\">Lines of Code (loc)</a></span></li><li><span><a href=\"#Unit-tests-are-a-safety-net-for-refactoring\" data-toc-modified-id=\"Unit-tests-are-a-safety-net-for-refactoring-5\">Unit tests are a safety net for refactoring</a></span></li><li><span><a href=\"#Testing-Bunny-Ears\" data-toc-modified-id=\"Testing-Bunny-Ears-6\">Testing Bunny Ears</a></span></li><li><span><a href=\"#Remember-our-recipe-for-writing-software\" data-toc-modified-id=\"Remember-our-recipe-for-writing-software-7\">Remember our recipe for writing software</a></span></li><li><span><a href=\"#Student-Activity\" data-toc-modified-id=\"Student-Activity-8\">Student Activity</a></span></li><li><span><a href=\"#Brian's-programming-principle\" data-toc-modified-id=\"Brian's-programming-principle-9\">Brian's programming principle</a></span></li><li><span><a href=\"#in-for-membership-tests-\" data-toc-modified-id=\"in-for-membership-tests--10\"><code>in</code> for membership tests </a></span></li><li><span><a href=\"#and-and-any-built-ins\" data-toc-modified-id=\"and-and-any-built-ins-11\"><code>and</code> and <code>any</code> built-ins</a></span></li><li><span><a href=\"#De-Morgan's-laws\" data-toc-modified-id=\"De-Morgan's-laws-12\">De Morgan's laws</a></span></li><li><span><a href=\"#Is-De-Morgan's-Law-Pythonic?\" data-toc-modified-id=\"Is-De-Morgan's-Law-Pythonic?-13\">Is De Morgan's Law Pythonic?</a></span></li><li><span><a href=\"#De-Morgan's-Law-Summary\" data-toc-modified-id=\"De-Morgan's-Law-Summary-14\">De Morgan's Law Summary</a></span></li><li><span><a href=\"#Student-Activity\" data-toc-modified-id=\"Student-Activity-15\">Student Activity</a></span></li><li><span><a href=\"#Summary\" data-toc-modified-id=\"Summary-16\">Summary</a></span></li><li><span><a href=\"#Bonus-Material\" data-toc-modified-id=\"Bonus-Material-17\">Bonus Material</a></span></li><li><span><a href=\"#Vectorization\" data-toc-modified-id=\"Vectorization-18\">Vectorization</a></span></li><li><span><a href=\"#IDEs-are-required-for-serious-refactoring\" data-toc-modified-id=\"IDEs-are-required-for-serious-refactoring-19\">IDEs are required for serious refactoring</a></span></li><li><span><a href=\"#Text-searching\" data-toc-modified-id=\"Text-searching-20\">Text searching</a></span></li><li><span><a href=\"#Student-Activity\" data-toc-modified-id=\"Student-Activity-21\">Student Activity</a></span></li><li><span><a href=\"#Solutions\" data-toc-modified-id=\"Solutions-22\">Solutions</a></span></li></ul></div>"
   ]
  },
  {
   "cell_type": "markdown",
   "metadata": {},
   "source": [
    "Refactoring\n",
    "----"
   ]
  },
  {
   "cell_type": "markdown",
   "metadata": {},
   "source": [
    "<center><img src=\"images/refactoring.jpg\" width=\"55%\"/></center>"
   ]
  },
  {
   "cell_type": "markdown",
   "metadata": {},
   "source": [
    "<center><h2>Learning Outcomes</h2></center>\n",
    "\n",
    "#### By the end of this session, you should be able to:\n",
    "\n",
    "- Define refactoring in your own words.\n",
    "- List best practices for refactoring.\n",
    "- Use additional Python built-ins: `in`, `all`, `any`\n",
    "- Refactor code to be more Pythonic."
   ]
  },
  {
   "cell_type": "markdown",
   "metadata": {},
   "source": [
    "What is refactoring?\n",
    "-----\n",
    "\n",
    "Restructure code without changing its observable behavior.\n",
    "\n",
    "For example, changing from procedural paradigm to functional paradigm."
   ]
  },
  {
   "cell_type": "code",
   "execution_count": 186,
   "metadata": {},
   "outputs": [],
   "source": [
    "def total_procedural(nums):\n",
    "    result = 0\n",
    "    for n in nums:\n",
    "        result += n\n",
    "    return result"
   ]
  },
  {
   "cell_type": "code",
   "execution_count": 187,
   "metadata": {},
   "outputs": [],
   "source": [
    "from functools import reduce\n",
    "\n",
    "def total_functional(nums):\n",
    "    return reduce(lambda x, y: x+y, nums)"
   ]
  },
  {
   "cell_type": "code",
   "execution_count": 188,
   "metadata": {},
   "outputs": [],
   "source": [
    "# Same result\n",
    "nums = [42, 42, 42]\n",
    "\n",
    "assert total_procedural(nums) == sum(nums)\n",
    "\n",
    "assert total_functional(nums) == sum(nums)"
   ]
  },
  {
   "cell_type": "markdown",
   "metadata": {},
   "source": [
    "Lines of Code (loc)\n",
    "------\n",
    "\n",
    "Generally, we want fewer lines of codes.\n",
    "\n",
    "Faster to read. Less information to hold in a human memory (human and computer memory are the limiting factors of programming).\n",
    "\n",
    "Even as we minize loc, we still have to be clear.\n",
    "\n",
    "> “Readability counts”  \n",
    "> — Tim Peters, Zen of Python"
   ]
  },
  {
   "cell_type": "markdown",
   "metadata": {},
   "source": [
    "Unit tests are a safety net for refactoring\n",
    "-----\n",
    "\n",
    "<center><img src=\"https://assets.atlasobscura.com/media/W1siZiIsInVwbG9hZHMvcGxhY2VfaW1hZ2VzLzM3NjAzNzAzNzVfNTk0ZjM0ZDdlYy5qcGciXSxbInAiLCJ0aHVtYiIsIngzOTA-Il0sWyJwIiwiY29udmVydCIsIi1xdWFsaXR5IDgxIC1hdXRvLW9yaWVudCJdXQ/3760370375_594f34d7ec.jpg\" width=\"75%\"/></center>\n",
    "\n",
    "<center>Circus Center in San Francisco</center>\n",
    "\n",
    "Software \"regression\" - code that worked before does not work now!\n",
    "\n",
    "If you have green test, keep it green."
   ]
  },
  {
   "cell_type": "markdown",
   "metadata": {},
   "source": [
    "Testing Bunny Ears\n",
    "-------\n",
    "\n",
    "<center><img src=\"http://www.peterprovost.org/images/blog/2012-05-02-the-only-way-to-learn-tdd-kata/Red-Green-Refactor-Bunny.png\" width=\"55%\"/></center>"
   ]
  },
  {
   "cell_type": "markdown",
   "metadata": {},
   "source": [
    "Remember our recipe for writing software\n",
    "-----\n",
    "\n",
    "1. Make it run.\n",
    "1. Make it right.\n",
    "1. Make it better."
   ]
  },
  {
   "cell_type": "markdown",
   "metadata": {},
   "source": [
    "<center><h2>Student Activity</h2></center>\n",
    "\n",
    "1. Write a function that checks if a word ends with any of the following: 'ly', 'ed', 'ing', 'ers'\n",
    "\n",
    "1. Write a function that checks if a number is within a range of numbers.\n",
    "\n",
    "1. Write a function that checks if a sequence contains a False. For example: `(True, True, True, False)`"
   ]
  },
  {
   "cell_type": "markdown",
   "metadata": {},
   "source": [
    "Hints:\n",
    "\n",
    "- First, write your own tests. Then, write the function.    \n",
    "- Use a combination of methods and built-ins.\n",
    "- Minimize iteration."
   ]
  },
  {
   "cell_type": "markdown",
   "metadata": {},
   "source": [
    "__1) Write a function that checks if a word ends with any of the following: 'ly', 'ed', 'ing', 'ers'__"
   ]
  },
  {
   "cell_type": "code",
   "execution_count": 189,
   "metadata": {},
   "outputs": [],
   "source": [
    "# Procedural\n",
    "# Gets the job done but lots of code.\n",
    "def ends_with_suffix(word, suffixes):\n",
    "    for suffix in suffixes:\n",
    "        if word.endswith(suffix):\n",
    "            return True\n",
    "    else:\n",
    "        return False\n",
    "\n",
    "suffixes = ('ly', 'ed', 'ing', 'ers')\n",
    "assert ends_with_suffix('swimming', suffixes)\n",
    "assert ends_with_suffix('swimmingly', suffixes)\n",
    "assert not ends_with_suffix('swim', suffixes)"
   ]
  },
  {
   "cell_type": "code",
   "execution_count": 190,
   "metadata": {},
   "outputs": [],
   "source": [
    "# Pythonic\n",
    "# Leverage methods to their full power\n",
    "def ends_with_suffix(word, suffixes):\n",
    "    return word.endswith(suffixes)\n",
    "\n",
    "suffixes = ('ly', 'ed', 'ing', 'ers')\n",
    "assert ends_with_suffix('swimming', suffixes)\n",
    "assert ends_with_suffix('swimmingly', suffixes)\n",
    "assert not ends_with_suffix('swim', suffixes)"
   ]
  },
  {
   "cell_type": "markdown",
   "metadata": {},
   "source": [
    "__2) Write a function that checks if a number is within a range of numbers.__"
   ]
  },
  {
   "cell_type": "code",
   "execution_count": 191,
   "metadata": {},
   "outputs": [],
   "source": [
    "# Procedural: Clear & Verbose\n",
    "\n",
    "def is_in_range(n, lb, ub):\n",
    "    if (n >= lb) and (n <= ub):\n",
    "        return True\n",
    "    else:\n",
    "        return False\n",
    "\n",
    "lb, ub = -3.13, 10.75    \n",
    "assert is_in_range(5.25, lb, ub)\n",
    "assert not is_in_range(lb-.001, lb, ub)\n",
    "assert not is_in_range(ub+.001, lb, ub)"
   ]
  },
  {
   "cell_type": "markdown",
   "metadata": {},
   "source": [
    "__Sidebar - Inclusive or exclusive range?__\n",
    "\n",
    "Programmers choice!\n",
    "\n",
    "That is a good type of thing to put in the docstring so people know what to except.\n",
    "\n",
    "Also a good thing to be clear in a unit test:"
   ]
  },
  {
   "cell_type": "code",
   "execution_count": 192,
   "metadata": {},
   "outputs": [],
   "source": [
    "assert is_in_range(lb, lb, ub) # Test for inclusive\n",
    "assert is_in_range(ub, lb, ub) # Test for inclusive"
   ]
  },
  {
   "cell_type": "markdown",
   "metadata": {},
   "source": [
    "Brian's programming principle\n",
    "-----\n",
    "\n",
    "Let Python do the work."
   ]
  },
  {
   "cell_type": "code",
   "execution_count": 193,
   "metadata": {},
   "outputs": [],
   "source": [
    "# Let Python do the work\n",
    "\n",
    "def is_in_range(n, lb, ub):\n",
    "    return lb <= n <= ub\n",
    "    \n",
    "lb, ub = -3.13, 10.75    \n",
    "assert is_in_range(5.25, lb, ub)\n",
    "assert not is_in_range(lb-.001, lb, ub)\n",
    "assert not is_in_range(ub+.001, lb, ub)\n",
    "assert is_in_range(lb, lb, ub) # Test for inclusive\n",
    "assert is_in_range(ub, lb, ub) # Test for inclusive"
   ]
  },
  {
   "cell_type": "markdown",
   "metadata": {},
   "source": [
    "[Source](https://www.techbeamers.com/python-check-integer-in-range/)"
   ]
  },
  {
   "cell_type": "markdown",
   "metadata": {},
   "source": [
    "__3) Write a function that checks if a sequence contains a False.__"
   ]
  },
  {
   "cell_type": "code",
   "execution_count": 194,
   "metadata": {},
   "outputs": [],
   "source": [
    "from typing import Sequence\n",
    "\n",
    "def contains_false(iterable: Sequence[float]) -> bool:\n",
    "    return bool(iterable.count(False))\n",
    "\n",
    "assert contains_false((True, True, True, False))\n",
    "assert not contains_false((True, True, True, True))"
   ]
  },
  {
   "cell_type": "code",
   "execution_count": 195,
   "metadata": {},
   "outputs": [],
   "source": [
    "def contains_false(iterable: Sequence[float]) -> bool:\n",
    "    return False in iterable\n",
    "\n",
    "assert contains_false((True, True, True, False))\n",
    "assert not contains_false((True, True, True, True))"
   ]
  },
  {
   "cell_type": "markdown",
   "metadata": {},
   "source": [
    "`in` for membership tests \n",
    "----\n",
    "\n",
    "`in` is not just for iteration.\n",
    "\n",
    "`in` can also test for for membership.\n",
    "\n",
    "`x in s` evaluates to True if x is a member of s, and False otherwise.\n",
    "\n",
    "`not in` is the negation, aka the boolean flip\n",
    "\n",
    "> x in y calls y.__contains__(x) if y has a __contains__ member function. Otherwise, x in y tries iterating through y.__iter__() to find x, or calls y.__getitem__(x) if __iter__ doesn't exist. "
   ]
  },
  {
   "cell_type": "markdown",
   "metadata": {},
   "source": [
    "[Python docs for in](https://docs.python.org/3/reference/expressions.html#membership-test-details)\n",
    "\n",
    "[Source](https://stackoverflow.com/questions/38204342/python-in-keyword-in-expression-vs-in-for-loop)\n",
    "                     \n",
    "                     "
   ]
  },
  {
   "cell_type": "markdown",
   "metadata": {},
   "source": [
    "`and` and `any` built-ins\n",
    "-----\n",
    "\n",
    "The `all()` function is a chain of `and`s.\n",
    "\n",
    "The `any()` function is a chain of `or`s."
   ]
  },
  {
   "cell_type": "code",
   "execution_count": 196,
   "metadata": {},
   "outputs": [
    {
     "name": "stdout",
     "output_type": "stream",
     "text": [
      "True\n",
      "False\n",
      "False\n",
      "False\n"
     ]
    }
   ],
   "source": [
    "# and\n",
    "print(True and True)\n",
    "print(True and False)\n",
    "print(False and True)\n",
    "print(False and False)"
   ]
  },
  {
   "cell_type": "code",
   "execution_count": 197,
   "metadata": {},
   "outputs": [
    {
     "name": "stdout",
     "output_type": "stream",
     "text": [
      "True\n",
      "False\n",
      "False\n"
     ]
    }
   ],
   "source": [
    "# all\n",
    "print(all([True, True, True]))\n",
    "print(all([True, True, False]))\n",
    "print(all([False, False, False]))"
   ]
  },
  {
   "cell_type": "code",
   "execution_count": 198,
   "metadata": {},
   "outputs": [
    {
     "name": "stdout",
     "output_type": "stream",
     "text": [
      "True\n",
      "True\n",
      "True\n",
      "False\n"
     ]
    }
   ],
   "source": [
    "# or\n",
    "print(True or True)\n",
    "print(True or False)\n",
    "print(False or True)\n",
    "print(False or False)"
   ]
  },
  {
   "cell_type": "code",
   "execution_count": 199,
   "metadata": {},
   "outputs": [
    {
     "name": "stdout",
     "output_type": "stream",
     "text": [
      "True\n",
      "True\n",
      "False\n"
     ]
    }
   ],
   "source": [
    "# any\n",
    "print(any([True, True, True]))\n",
    "print(any([True, True, False]))\n",
    "print(any([False, False, False]))"
   ]
  },
  {
   "cell_type": "code",
   "execution_count": 200,
   "metadata": {},
   "outputs": [
    {
     "data": {
      "text/plain": [
       "True"
      ]
     },
     "execution_count": 200,
     "metadata": {},
     "output_type": "execute_result"
    }
   ],
   "source": [
    "# Extends to truthiness\n",
    "all([1, 1, 1])"
   ]
  },
  {
   "cell_type": "code",
   "execution_count": 201,
   "metadata": {},
   "outputs": [
    {
     "data": {
      "text/plain": [
       "False"
      ]
     },
     "execution_count": 201,
     "metadata": {},
     "output_type": "execute_result"
    }
   ],
   "source": [
    "# Extends to truthiness\n",
    "all([\"stuff\", \n",
    "     \"\",\n",
    "     \"stuff\"])"
   ]
  },
  {
   "cell_type": "code",
   "execution_count": 202,
   "metadata": {},
   "outputs": [
    {
     "data": {
      "text/plain": [
       "True"
      ]
     },
     "execution_count": 202,
     "metadata": {},
     "output_type": "execute_result"
    }
   ],
   "source": [
    "# and / any can apply to iterables of conditionals\n",
    "any([True,\n",
    "     2 > 1,\n",
    "     \" \"])"
   ]
  },
  {
   "cell_type": "code",
   "execution_count": 203,
   "metadata": {},
   "outputs": [
    {
     "data": {
      "text/plain": [
       "True"
      ]
     },
     "execution_count": 203,
     "metadata": {},
     "output_type": "execute_result"
    }
   ],
   "source": [
    "# Extends to any iterable\n",
    "all((True, True, True)) # tuple"
   ]
  },
  {
   "cell_type": "code",
   "execution_count": 204,
   "metadata": {},
   "outputs": [
    {
     "data": {
      "text/plain": [
       "False"
      ]
     },
     "execution_count": 204,
     "metadata": {},
     "output_type": "execute_result"
    }
   ],
   "source": [
    "all({True, True, False}) # set"
   ]
  },
  {
   "cell_type": "markdown",
   "metadata": {},
   "source": [
    "De Morgan's laws\n",
    "-----\n",
    "\n",
    "If you are serious about performance and elegance, it is worth learning to apply [De Morgan's laws](https://en.wikipedia.org/wiki/De_Morgan%27s_laws) for boolean comparisons.\n",
    "\n",
    "Performance - `and` is faster than `all` because a single `False` in `and` makes it all `False`\n",
    "\n",
    "Elegance - It might be easier to read and reason about one version of a  complex boolean comparison than another.\n",
    "\n",
    "De Morgan's laws are an easy way to find the inverse of a boolean expression.\n",
    "\n",
    "<center><img src=\"https://wikimedia.org/api/rest_v1/media/math/render/svg/b55ab78fcd4c3b617df4e2195d487dda13c09e7d\" width=\"55%\"/></center>\n",
    "\n",
    "Each term is complemented - OR’s become AND’s;  AND’s become OR’s.\n"
   ]
  },
  {
   "cell_type": "code",
   "execution_count": 205,
   "metadata": {},
   "outputs": [
    {
     "data": {
      "text/plain": [
       "True"
      ]
     },
     "execution_count": 205,
     "metadata": {},
     "output_type": "execute_result"
    }
   ],
   "source": [
    "True # Boolean"
   ]
  },
  {
   "cell_type": "code",
   "execution_count": 206,
   "metadata": {},
   "outputs": [
    {
     "data": {
      "text/plain": [
       "False"
      ]
     },
     "execution_count": 206,
     "metadata": {},
     "output_type": "execute_result"
    }
   ],
   "source": [
    "not True # Complement"
   ]
  },
  {
   "cell_type": "code",
   "execution_count": 207,
   "metadata": {},
   "outputs": [
    {
     "data": {
      "text/plain": [
       "False"
      ]
     },
     "execution_count": 207,
     "metadata": {},
     "output_type": "execute_result"
    }
   ],
   "source": [
    "# Using and\n",
    "(not True) and (not True)"
   ]
  },
  {
   "cell_type": "code",
   "execution_count": 208,
   "metadata": {},
   "outputs": [
    {
     "data": {
      "text/plain": [
       "False"
      ]
     },
     "execution_count": 208,
     "metadata": {},
     "output_type": "execute_result"
    }
   ],
   "source": [
    "# Using or\n",
    "not (True or True)"
   ]
  },
  {
   "cell_type": "code",
   "execution_count": 209,
   "metadata": {},
   "outputs": [
    {
     "name": "stdout",
     "output_type": "stream",
     "text": [
      "False\n",
      "False\n"
     ]
    }
   ],
   "source": [
    "# Let's explore other options\n",
    "\n",
    "a, b = True, True\n",
    "# a, b = True, False\n",
    "# a, b = False, True\n",
    "# a, b = False, False\n",
    "\n",
    "print((not a) and (not b))\n",
    "print(not (a or b))"
   ]
  },
  {
   "cell_type": "code",
   "execution_count": 210,
   "metadata": {},
   "outputs": [
    {
     "name": "stdout",
     "output_type": "stream",
     "text": [
      "False\n",
      "False\n"
     ]
    }
   ],
   "source": [
    "# Let's explore other options\n",
    "\n",
    "a, b = True, True\n",
    "# a, b = True, False\n",
    "# a, b = False, True\n",
    "# a, b = False, False\n",
    "\n",
    "print((not a) or (not b))\n",
    "print(not (a and b))"
   ]
  },
  {
   "cell_type": "markdown",
   "metadata": {},
   "source": [
    "Is De Morgan's Law Pythonic?\n",
    "------\n",
    "\n",
    "> Use the version is easiest to read, depending on what a and b are.\n",
    "\n",
    "[Source](https://stackoverflow.com/questions/13012459/is-de-morgans-law-pythonic)"
   ]
  },
  {
   "cell_type": "markdown",
   "metadata": {},
   "source": [
    "__De Morgan's laws generalization__\n",
    "\n",
    "Any number of booleans comparisons\n",
    "\n",
    "(not A and not B and not C) == not (A or B or C)   \n",
    "(not A or not B or not C) == not (A and B and C)"
   ]
  },
  {
   "cell_type": "code",
   "execution_count": 211,
   "metadata": {},
   "outputs": [
    {
     "name": "stdout",
     "output_type": "stream",
     "text": [
      "True\n",
      "True\n"
     ]
    }
   ],
   "source": [
    "# Let's explore not `any`\n",
    "bools = [True, True, True]\n",
    "bools = [True, True, False]\n",
    "bools = [False, False, False]\n",
    "\n",
    "print(not any(bools))\n",
    "print(all( [not b for b in bools] ))\n"
   ]
  },
  {
   "cell_type": "code",
   "execution_count": 212,
   "metadata": {},
   "outputs": [
    {
     "name": "stdout",
     "output_type": "stream",
     "text": [
      "True\n",
      "True\n"
     ]
    }
   ],
   "source": [
    "# Let's explore not `all`\n",
    "bools = [True, True, True]\n",
    "bools = [True, True, False]\n",
    "bools = [False, False, False]\n",
    "\n",
    "print(not all(bools))\n",
    "print(any( [not b for b in bools] ))"
   ]
  },
  {
   "cell_type": "code",
   "execution_count": 213,
   "metadata": {},
   "outputs": [],
   "source": [
    "# 0 is \"False\"\n",
    "# Use extended boolean comparsions with `all`\n",
    "\n",
    "def contains_false(iterable):\n",
    "    return not all(iterable) \n",
    "\n",
    "assert contains_false([1, 1, 0])\n",
    "assert not contains_false([1, 1, 1])"
   ]
  },
  {
   "cell_type": "markdown",
   "metadata": {},
   "source": [
    "De Morgan's Law Summary\n",
    "-----\n",
    "- Since readiblity counts, refactor code with boolean logic.\n",
    "\n",
    "- Here is a hand guide:\n",
    "    - all() is True when every value is True. \n",
    "    - not any() is True when every value is False.\n",
    "    - any() is True when at least one value is True.\n",
    "    - not all() is True when at least one value is False."
   ]
  },
  {
   "cell_type": "markdown",
   "metadata": {},
   "source": [
    "[Source](http://thepythonreport.blogspot.com/2016/03/mini-lesson-de-morgans-laws.html)"
   ]
  },
  {
   "cell_type": "markdown",
   "metadata": {},
   "source": [
    "<center><h2>Student Activity</h2></center>\n",
    "\n",
    "- Refactor this code:\n",
    "\n",
    "```python\n",
    "results = []\n",
    "for item in iterable:\n",
    "    if item == match:\n",
    "        results.append(item)\n",
    "```\n",
    "\n",
    "- Refactor this code:\n",
    "\n",
    "```python\n",
    "def contains_error(data):\n",
    "    for item in data:\n",
    "        if isinstance(item, str):\n",
    "            if item == \"error\":\n",
    "                return True\n",
    "    else:\n",
    "        return False\n",
    "```"
   ]
  },
  {
   "cell_type": "markdown",
   "metadata": {},
   "source": [
    "__Hints__:\n",
    "\n",
    "- \"Understand\" what this code does. There is no documentation so you must guess.\n",
    "- Did you start with writing unit tests? \n",
    "\n",
    "Positive and negative unit tests?"
   ]
  },
  {
   "cell_type": "markdown",
   "metadata": {},
   "source": [
    "“Flat is better than nested”\n",
    "\n",
    "— Tim Peters, Zen of Python\n",
    "\n",
    "__Follow refactoring steps:__\n",
    "\n",
    "1. Wrap it in a function for testing.\n",
    "1. Write positive and negative tests.\n",
    "1. Refactor\n",
    "1. Keep tests passing\n"
   ]
  },
  {
   "cell_type": "code",
   "execution_count": 214,
   "metadata": {},
   "outputs": [],
   "source": [
    "# 1. Wrap it in a function for testing\n",
    "def return_found_target(iterable, target): # change variable name\n",
    "    results = []\n",
    "    for item in iterable:\n",
    "        if item == target:\n",
    "            results.append(item)\n",
    "    return results"
   ]
  },
  {
   "cell_type": "code",
   "execution_count": 215,
   "metadata": {},
   "outputs": [],
   "source": [
    "# 2. Then test it\n",
    "assert return_found_target((1, 2, 3), 1) == [1]\n",
    "assert return_found_target((1, 2, 3, 1), 1) == [1, 1]\n",
    "assert return_found_target((1, 2, 3, 1), 42) == []"
   ]
  },
  {
   "cell_type": "code",
   "execution_count": 216,
   "metadata": {},
   "outputs": [],
   "source": [
    "# 3. Refactor: Make Pythonic:\n",
    "#      - Let Python do the work of building up a list\n",
    "#      - Flatten\n",
    "def return_found_target(iterable, target):\n",
    "    return [item for item in iterable if item == target]"
   ]
  },
  {
   "cell_type": "code",
   "execution_count": 217,
   "metadata": {},
   "outputs": [],
   "source": [
    "# 4. Keep tests passing\n",
    "assert return_found_target((1, 2, 3), 1) == [1]\n",
    "assert return_found_target((1, 2, 3, 1), 1) == [1, 1]\n",
    "assert return_found_target((1, 2, 3, 1), 42) == []"
   ]
  },
  {
   "cell_type": "markdown",
   "metadata": {},
   "source": [
    "Sidebar - The code is silly.\n",
    "\n",
    "Most likely the functionality that is need:"
   ]
  },
  {
   "cell_type": "code",
   "execution_count": 218,
   "metadata": {},
   "outputs": [
    {
     "data": {
      "text/plain": [
       "2"
      ]
     },
     "execution_count": 218,
     "metadata": {},
     "output_type": "execute_result"
    }
   ],
   "source": [
    "# Just use counts (metadata)\n",
    "# Passing the actual data around is wasteful\n",
    "(1, 2, 3, 1).count(1)"
   ]
  },
  {
   "cell_type": "markdown",
   "metadata": {},
   "source": [
    "\n",
    "[Source](https://realpython.com/python-refactoring/)"
   ]
  },
  {
   "cell_type": "code",
   "execution_count": 219,
   "metadata": {},
   "outputs": [],
   "source": [
    "# Refactor contins error code\n",
    "\n",
    "def contains_error(data):\n",
    "    for item in data:\n",
    "        if isinstance(item, str):\n",
    "            if item == \"error\":\n",
    "                return True\n",
    "    else:\n",
    "        return False"
   ]
  },
  {
   "cell_type": "code",
   "execution_count": 220,
   "metadata": {},
   "outputs": [],
   "source": [
    "assert contains_error('bah bah error bah'.split())\n",
    "assert not contains_error('bah bah bah'.split())"
   ]
  },
  {
   "cell_type": "markdown",
   "metadata": {},
   "source": [
    "__Observations__:\n",
    "    \n",
    "- Too much code for too little functionality\n",
    "- Generally, Python does not need type checking"
   ]
  },
  {
   "cell_type": "code",
   "execution_count": 221,
   "metadata": {},
   "outputs": [],
   "source": [
    "def contains_error(data):\n",
    "    return \"error\" in data\n",
    "\n",
    "assert contains_error('bah bah error bah'.split())\n",
    "assert not contains_error('bah bah bah'.split())"
   ]
  },
  {
   "cell_type": "code",
   "execution_count": 222,
   "metadata": {},
   "outputs": [],
   "source": [
    "# Now that we have refactored, we can see an easy generalization\n",
    "\n",
    "def contains(container, element):\n",
    "    return element in container\n",
    "\n",
    "assert contains('bah bah error bah'.split(), \"error\")\n",
    "assert not contains('bah bah bah'.split(), \"error\")\n",
    "assert contains([1, 2, 3], 3)\n",
    "assert not contains([1, 2, 3], 0)\n",
    "\n",
    "# Note - This is useful. We might want the same functionality that is built-in statement in a funciton. \n",
    "# Functions can be passed to other functions and tested more easily."
   ]
  },
  {
   "cell_type": "markdown",
   "metadata": {},
   "source": [
    "Summary\n",
    "-----\n",
    "\n",
    "- Refactoring is improve code without changing its outward behavior.\n",
    "- Refactoring could be:\n",
    "    + Improving clarity\n",
    "    + Making faster\n",
    "    + Making it easy to extend in the future.\n",
    "- Unit test are the guides for refactoring.\n",
    "- `in` can test for membership.\n",
    "- `all` is a chain of `and` operations.\n",
    "- `any` is a chain of `or` operations.\n"
   ]
  },
  {
   "cell_type": "markdown",
   "metadata": {},
   "source": [
    " "
   ]
  },
  {
   "cell_type": "markdown",
   "metadata": {},
   "source": [
    "Bonus Material\n",
    "----"
   ]
  },
  {
   "cell_type": "markdown",
   "metadata": {},
   "source": [
    "Vectorization\n",
    "-----\n",
    "\n",
    "> Life is too short for for-loops\n",
    "\n",
    "Often times it is easy to speed-up code with vectorization"
   ]
  },
  {
   "cell_type": "code",
   "execution_count": 223,
   "metadata": {},
   "outputs": [],
   "source": [
    "import numpy as np"
   ]
  },
  {
   "cell_type": "code",
   "execution_count": 224,
   "metadata": {},
   "outputs": [],
   "source": [
    "m = np.array([[ 0.,  1.,  2.],\n",
    "              [ 3.,  4.,  5.],\n",
    "              [ 6.,  7.,  8.]])"
   ]
  },
  {
   "cell_type": "code",
   "execution_count": 225,
   "metadata": {},
   "outputs": [
    {
     "data": {
      "text/plain": [
       "array([[0.        , 1.        , 1.41421356],\n",
       "       [1.73205081, 2.        , 2.23606798],\n",
       "       [2.44948974, 2.64575131, 2.82842712]])"
      ]
     },
     "execution_count": 225,
     "metadata": {},
     "output_type": "execute_result"
    }
   ],
   "source": [
    "for i in range(m.shape[0]):\n",
    "    for j in range(m.shape[1]):\n",
    "        m[i, j] = m[i, j]**.5\n",
    "\n",
    "m"
   ]
  },
  {
   "cell_type": "markdown",
   "metadata": {},
   "source": [
    "What is a better way?\n"
   ]
  },
  {
   "cell_type": "code",
   "execution_count": 226,
   "metadata": {},
   "outputs": [
    {
     "data": {
      "text/plain": [
       "array([[0.        , 1.        , 1.41421356],\n",
       "       [1.73205081, 2.        , 2.23606798],\n",
       "       [2.44948974, 2.64575131, 2.82842712]])"
      ]
     },
     "execution_count": 226,
     "metadata": {},
     "output_type": "execute_result"
    }
   ],
   "source": [
    "# Let NumPy do the work for you with broadcasting\n",
    "m = np.array([[ 0.,  1.,  2.],\n",
    "              [ 3.,  4.,  5.],\n",
    "              [ 6.,  7.,  8.]])\n",
    "m**.5"
   ]
  },
  {
   "cell_type": "code",
   "execution_count": 227,
   "metadata": {},
   "outputs": [
    {
     "data": {
      "text/plain": [
       "array([[0.        , 1.        , 1.41421356],\n",
       "       [1.73205081, 2.        , 2.23606798],\n",
       "       [2.44948974, 2.64575131, 2.82842712]])"
      ]
     },
     "execution_count": 227,
     "metadata": {},
     "output_type": "execute_result"
    }
   ],
   "source": [
    "np.sqrt(m)"
   ]
  },
  {
   "cell_type": "markdown",
   "metadata": {},
   "source": [
    "[Source](https://www.pythonlikeyoumeanit.com/Module3_IntroducingNumpy/VectorizedOperations.html)"
   ]
  },
  {
   "cell_type": "markdown",
   "metadata": {},
   "source": [
    "IDEs are required for serious refactoring\n",
    "------\n",
    "\n",
    "IDEs have many tools to help you."
   ]
  },
  {
   "cell_type": "markdown",
   "metadata": {},
   "source": [
    "__De Morgan's laws generalizations___\n",
    "\n",
    "1. Any number of booleans comparisons\n",
    "1. Any notion of set\n",
    "\n",
    "<center><img src=\"https://upload.wikimedia.org/wikipedia/commons/0/06/Demorganlaws.svg\" width=\"55%\"/></center>"
   ]
  },
  {
   "cell_type": "markdown",
   "metadata": {},
   "source": [
    "Text searching\n",
    "-----\n",
    "\n",
    "De Morgan’s laws commonly apply to text searching using Boolean operators AND, OR, and NOT. \n",
    "\n",
    "Consider a set of documents containing the words “cars” and “trucks”. \n",
    "\n",
    "De Morgan’s laws hold that these two searches will return the same set of documents:\n",
    "\n",
    "Search 1: (NOT cars) AND (NOT trucks)  \n",
    "Search 2: NOT (cars OR trucks)  \n",
    " \n",
    "The corpus of documents containing “cars” or “trucks” can be represented by four documents:\n",
    "\n",
    "1. Contains only the word “cars”.\n",
    "2. Contains only “trucks”.\n",
    "3. Contains both “cars” and “trucks”.\n",
    "4. Contains neither “cars” nor “trucks”.\n",
    "\n",
    "To evaluate Search A, clearly the search “(cars OR trucks)” will hit on Documents 1, 2, and 3. So the negation of that search (which is Search A) will hit everything else, which is Document 4.\n",
    "\n",
    "Evaluating Search B, the search “(NOT cars)” will hit on documents that do not contain “cars”, which is Documents 2 and 4. Similarly the search “(NOT trucks)” will hit on Documents 1 and 4. Applying the AND operator to these two searches (which is Search B) will hit on the documents that are common to these two searches, which is Document 4.\n",
    "\n"
   ]
  },
  {
   "cell_type": "code",
   "execution_count": 228,
   "metadata": {},
   "outputs": [
    {
     "name": "stdout",
     "output_type": "stream",
     "text": [
      "4 ['moped', 'scooter']\n",
      "4 ['moped', 'scooter']\n"
     ]
    }
   ],
   "source": [
    "d1 = ['cars', 'cars']\n",
    "d2 = ['trucks', 'trucks']\n",
    "d3 = ['cars', 'trucks']\n",
    "d4 = ['moped', 'scooter']\n",
    "\n",
    "docs = (d1, d2, d3, d4)\n",
    "\n",
    "for doc_num, doc in enumerate(docs, 1):\n",
    "    if (not ('cars' in doc)) and (not ('trucks' in doc)):\n",
    "        print(doc_num, doc)\n",
    "        \n",
    "for doc_num, doc in enumerate(docs, 1):\n",
    "    if not (('cars' in doc) or ('trucks' in doc)):\n",
    "        print(doc_num, doc)"
   ]
  },
  {
   "cell_type": "markdown",
   "metadata": {},
   "source": [
    "<center><h2>Student Activity</h2></center>\n",
    "\n",
    "The corpus of documents containing “cars” or “trucks” can be represented by four documents:\n",
    "\n",
    "1. ['cars', 'cars']\n",
    "2. ['trucks', 'trucks']\n",
    "3. ['cars',  'trucks']\n",
    "4. ['moped', 'scooter']\n",
    "\n",
    "The search query is: `(not cars) or (not trucks)`.\n",
    "\n",
    "1. Which documents will it return?\n",
    "1. Rewrite it with De Morgan’s laws.\n",
    "\n",
    "Just pen & paper - No computers."
   ]
  },
  {
   "cell_type": "markdown",
   "metadata": {},
   "source": [
    "Solutions\n",
    "-----\n",
    "\n",
    "1. Documents 1, 2, 4\n",
    "1. `NOT (cars AND trucks)`."
   ]
  },
  {
   "cell_type": "code",
   "execution_count": 229,
   "metadata": {},
   "outputs": [
    {
     "name": "stdout",
     "output_type": "stream",
     "text": [
      "1 ['cars', 'cars']\n",
      "2 ['trucks', 'trucks']\n",
      "4 ['moped', 'scooter']\n"
     ]
    }
   ],
   "source": [
    "d1 = ['cars', 'cars']\n",
    "d2 = ['trucks', 'trucks']\n",
    "d3 = ['cars', 'trucks']\n",
    "d4 = ['moped', 'scooter']\n",
    "\n",
    "docs = (d1, d2, d3, d4)\n",
    "\n",
    "for doc_num, doc in enumerate(docs, 1):\n",
    "    if (not ('cars' in doc)) or (not ('trucks' in doc)):\n",
    "        print(doc_num, doc)"
   ]
  }
 ],
 "metadata": {
  "kernelspec": {
   "display_name": "Python 3",
   "language": "python",
   "name": "python3"
  },
  "language_info": {
   "codemirror_mode": {
    "name": "ipython",
    "version": 3
   },
   "file_extension": ".py",
   "mimetype": "text/x-python",
   "name": "python",
   "nbconvert_exporter": "python",
   "pygments_lexer": "ipython3",
   "version": "3.7.3"
  },
  "toc": {
   "base_numbering": 1,
   "nav_menu": {},
   "number_sections": false,
   "sideBar": false,
   "skip_h1_title": false,
   "title_cell": "Table of Contents",
   "title_sidebar": "Contents",
   "toc_cell": true,
   "toc_position": {},
   "toc_section_display": true,
   "toc_window_display": false
  }
 },
 "nbformat": 4,
 "nbformat_minor": 2
}
