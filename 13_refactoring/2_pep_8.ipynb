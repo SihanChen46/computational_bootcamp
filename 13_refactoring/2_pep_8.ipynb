{
 "cells": [
  {
   "cell_type": "markdown",
   "metadata": {
    "slideshow": {
     "slide_type": "skip"
    },
    "toc": true
   },
   "source": [
    "<h1>Table of Contents<span class=\"tocSkip\"></span></h1>\n",
    "<div class=\"toc\"><ul class=\"toc-item\"><li><span><a href=\"#Python-Style-Guidelines,-aka-What-the-heck-is-PEP-8?\" data-toc-modified-id=\"Python-Style-Guidelines,-aka-What-the-heck-is-PEP-8?-1\">Python Style Guidelines, aka What the heck is PEP 8?</a></span></li><li><span><a href=\"#Learning-Outcomes\" data-toc-modified-id=\"Learning-Outcomes-2\">Learning Outcomes</a></span><ul class=\"toc-item\"><li><ul class=\"toc-item\"><li><span><a href=\"#By-the-end-of-this-session,-you-should-be-able-to:\" data-toc-modified-id=\"By-the-end-of-this-session,-you-should-be-able-to:-2.0.1\">By the end of this session, you should be able to:</a></span></li></ul></li></ul></li><li><span><a href=\"#The-Python-language-is-very-flexible.-\" data-toc-modified-id=\"The-Python-language-is-very-flexible.--3\">The Python language is very flexible. </a></span></li><li><span><a href=\"#PEPs\" data-toc-modified-id=\"PEPs-4\">PEPs</a></span></li><li><span><a href=\"#PEP-8\" data-toc-modified-id=\"PEP-8-5\">PEP 8</a></span></li><li><span><a href=\"#Rules-vs-standards\" data-toc-modified-id=\"Rules-vs-standards-6\">Rules vs standards</a></span></li><li><span><a href=\"#What-should-you-do?\" data-toc-modified-id=\"What-should-you-do?-7\">What should you do?</a></span></li><li><span><a href=\"#Concrete-Example-of-PEP-8\" data-toc-modified-id=\"Concrete-Example-of-PEP-8-8\">Concrete Example of PEP 8</a></span></li><li><span><a href=\"#Student-Activity\" data-toc-modified-id=\"Student-Activity-9\">Student Activity</a></span></li><li><span><a href=\"#Summary\" data-toc-modified-id=\"Summary-10\">Summary</a></span></li><li><span><a href=\"#Bonus-Material\" data-toc-modified-id=\"Bonus-Material-11\">Bonus Material</a></span></li><li><span><a href=\"#Further-Study\" data-toc-modified-id=\"Further-Study-12\">Further Study</a></span></li><li><span><a href=\"#Style-tools\" data-toc-modified-id=\"Style-tools-13\">Style tools</a></span></li><li><span><a href=\"#Other-Style-Guidelines\" data-toc-modified-id=\"Other-Style-Guidelines-14\">Other Style Guidelines</a></span></li></ul></div>"
   ]
  },
  {
   "cell_type": "markdown",
   "metadata": {
    "slideshow": {
     "slide_type": "slide"
    }
   },
   "source": [
    "<center><h2>Python Style Guidelines, aka What the heck is PEP 8?</h2></center>\n",
    "\n",
    "<center><img src=\"images/quality.jpg\" width=\"75%\"/></center>"
   ]
  },
  {
   "cell_type": "markdown",
   "metadata": {
    "slideshow": {
     "slide_type": "slide"
    }
   },
   "source": [
    "<center><h2>Learning Outcomes</h2></center>\n",
    "\n",
    "#### By the end of this session, you should be able to:\n",
    "\n",
    "- Explain what PEP 8 is and how it is helpful.\n",
    "- Start formating your code with PEP 8.\n"
   ]
  },
  {
   "cell_type": "markdown",
   "metadata": {
    "slideshow": {
     "slide_type": "slide"
    }
   },
   "source": [
    "<center><h2>The Python language is very flexible. </h2></center>\n",
    "\n",
    "As programmers, we a need a common set of standards to help communicate with each other.\n",
    "\n",
    "That way people can easily read other people's code."
   ]
  },
  {
   "cell_type": "markdown",
   "metadata": {
    "slideshow": {
     "slide_type": "fragment"
    }
   },
   "source": [
    "I have been trying to read and understand your code all term 😉. Let's make my job easier!"
   ]
  },
  {
   "cell_type": "markdown",
   "metadata": {
    "slideshow": {
     "slide_type": "slide"
    }
   },
   "source": [
    "<center><h2>PEPs</h2></center>\n",
    "\n",
    "PEPs - Python Enhancement Proposals\n",
    "\n",
    "How the language improves. Someone has an idea. The community debates it. Then it is adopted (or not).\n",
    "\n",
    "That is the nature of Open Source Software.\n"
   ]
  },
  {
   "cell_type": "markdown",
   "metadata": {
    "slideshow": {
     "slide_type": "slide"
    }
   },
   "source": [
    "<center><h2>PEP 8</h2></center>\n",
    "\n",
    "PEP 8 is the style guide for Python code.\n",
    "\n",
    "Let's check it out [python.org version](https://www.python.org/dev/peps/pep-0008/)."
   ]
  },
  {
   "cell_type": "markdown",
   "metadata": {
    "slideshow": {
     "slide_type": "fragment"
    }
   },
   "source": [
    "A better version of PEP 8 documentation is [pep8.org](https://pep8.org/)."
   ]
  },
  {
   "cell_type": "markdown",
   "metadata": {
    "slideshow": {
     "slide_type": "slide"
    }
   },
   "source": [
    "<center><h2>Rules vs standards</h2></center>\n",
    "\n",
    "The Python interpreter is rules of the language (machine-oriented).\n",
    "\n",
    "PEP 8 are the standards of the language (human-oriented)."
   ]
  },
  {
   "cell_type": "code",
   "execution_count": 4,
   "metadata": {
    "slideshow": {
     "slide_type": "slide"
    }
   },
   "outputs": [],
   "source": [
    "import numpy as np\n",
    "\n",
    "# Software engineering naming style\n",
    "a = np.array([[1, 2], [3, 4]])\n",
    "\n",
    "# Mathematical naming style\n",
    "A = np.array([[1, 2], [3, 4]])"
   ]
  },
  {
   "cell_type": "markdown",
   "metadata": {
    "slideshow": {
     "slide_type": "slide"
    }
   },
   "source": [
    "<center><h2>What should you do?</h2></center>\n",
    "\n",
    "Start developing the habit of writing code that conforms to PEP 8."
   ]
  },
  {
   "cell_type": "markdown",
   "metadata": {
    "slideshow": {
     "slide_type": "fragment"
    }
   },
   "source": [
    "Programming is a lot about social signaling. (Do you look like a programmer?)\n",
    "\n",
    "PEP 8 is a simple way to look like Pythonista."
   ]
  },
  {
   "cell_type": "markdown",
   "metadata": {
    "slideshow": {
     "slide_type": "slide"
    }
   },
   "source": [
    "<center><h2>Concrete Example of PEP 8</h2></center>"
   ]
  },
  {
   "cell_type": "code",
   "execution_count": 1,
   "metadata": {
    "slideshow": {
     "slide_type": "fragment"
    }
   },
   "outputs": [
    {
     "ename": "ModuleNotFoundError",
     "evalue": "No module named 'some_third_party_lib'",
     "output_type": "error",
     "traceback": [
      "\u001b[0;31m---------------------------------------------------------------------------\u001b[0m",
      "\u001b[0;31mModuleNotFoundError\u001b[0m                       Traceback (most recent call last)",
      "\u001b[0;32m<ipython-input-1-8c9a85fe055b>\u001b[0m in \u001b[0;36m<module>\u001b[0;34m\u001b[0m\n\u001b[1;32m     21\u001b[0m \u001b[0;32mimport\u001b[0m \u001b[0msys\u001b[0m  \u001b[0;31m# alphabetical\u001b[0m\u001b[0;34m\u001b[0m\u001b[0;34m\u001b[0m\u001b[0m\n\u001b[1;32m     22\u001b[0m \u001b[0;34m\u001b[0m\u001b[0m\n\u001b[0;32m---> 23\u001b[0;31m \u001b[0;32mimport\u001b[0m \u001b[0msome_third_party_lib\u001b[0m  \u001b[0;31m# 3rd party stuff next\u001b[0m\u001b[0;34m\u001b[0m\u001b[0;34m\u001b[0m\u001b[0m\n\u001b[0m\u001b[1;32m     24\u001b[0m \u001b[0;32mimport\u001b[0m \u001b[0msome_third_party_other_lib\u001b[0m  \u001b[0;31m# alphabetical\u001b[0m\u001b[0;34m\u001b[0m\u001b[0;34m\u001b[0m\u001b[0m\n\u001b[1;32m     25\u001b[0m \u001b[0;34m\u001b[0m\u001b[0m\n",
      "\u001b[0;31mModuleNotFoundError\u001b[0m: No module named 'some_third_party_lib'"
     ]
    }
   ],
   "source": [
    "# %load pep8_example.py\n",
    "#! /usr/bin/env python\n",
    "\"\"\"This module's docstring summary line.\n",
    "\n",
    "This is a multi-line docstring. Paragraphs are separated with blank lines.\n",
    "Lines conform to 79-column limit.\n",
    "\n",
    "Module and packages names should be short, lower_case_with_underscores.\n",
    "Notice that this in not PEP8-cheatsheet.py\n",
    "\n",
    "Seriously, use flake8. Atom.io with https://atom.io/packages/linter-flake8\n",
    "is awesome!\n",
    "\n",
    "See http://www.python.org/dev/peps/pep-0008/ for more PEP-8 details\n",
    "\n",
    "Source - https://gist.github.com/RichardBronosky/454964087739a449da04\n",
    "\"\"\"\n",
    "\n",
    "\n",
    "import os  # STD lib imports first\n",
    "import sys  # alphabetical\n",
    "\n",
    "import some_third_party_lib  # 3rd party stuff next\n",
    "import some_third_party_other_lib  # alphabetical\n",
    "\n",
    "import local_stuff  # local stuff last\n",
    "import more_local_stuff\n",
    "import dont_import_two, modules_in_one_line  # IMPORTANT!\n",
    "from pyflakes_cannot_handle import *  # and there are other reasons it should be avoided # noqa\n",
    "# Using # noqa in the line above avoids flake8 warnings about line length!\n",
    "\n",
    "\n",
    "_a_global_var = 2  # so it won't get imported by 'from foo import *'\n",
    "_b_global_var = 3\n",
    "\n",
    "A_CONSTANT = 'ugh.'\n",
    "\n",
    "\n",
    "# 2 empty lines between top-level funcs + classes\n",
    "def naming_convention():\n",
    "    \"\"\"Write docstrings for ALL public classes, funcs and methods.\n",
    "\n",
    "    Functions use snake_case.\n",
    "    \"\"\"\n",
    "    if x == 4:  # x is blue <== USEFUL 1-liner comment (2 spaces before #)\n",
    "        x, y = y, x  # inverse x and y <== USELESS COMMENT (1 space after #)\n",
    "    c = (a + b) * (a - b)  # operator spacing should improve readability.\n",
    "    dict['key'] = dict[0] = {'x': 2, 'cat': 'not a dog'}\n",
    "\n",
    "\n",
    "class NamingConvention(object):\n",
    "    \"\"\"First line of a docstring is short and next to the quotes.\n",
    "\n",
    "    Class and exception names are CapWords.\n",
    "\n",
    "    Closing quotes are on their own line\n",
    "    \"\"\"\n",
    "\n",
    "    a = 2\n",
    "    b = 4\n",
    "    _internal_variable = 3\n",
    "    class_ = 'foo'  # trailing underscore to avoid conflict with builtin\n",
    "\n",
    "    # this will trigger name mangling to further discourage use from outside\n",
    "    # this is also very useful if you intend your class to be subclassed, and\n",
    "    # the children might also use the same var name for something else; e.g.\n",
    "    # for simple variables like 'a' above. Name mangling will ensure that\n",
    "    # *your* a and the children's a will not collide.\n",
    "    __internal_var = 4\n",
    "\n",
    "    # NEVER use double leading and trailing underscores for your own names\n",
    "    __nooooooodontdoit__ = 0\n",
    "\n",
    "    # don't call anything (because some fonts are hard to distiguish):\n",
    "    l = 1\n",
    "    O = 2\n",
    "    I = 3\n",
    "\n",
    "    # some examples of how to wrap code to conform to 79-columns limit:\n",
    "    def __init__(self, width, height,\n",
    "                 color='black', emphasis=None, highlight=0):\n",
    "        if width == 0 and height == 0 and \\\n",
    "           color == 'red' and emphasis == 'strong' or \\\n",
    "           highlight > 100:\n",
    "            raise ValueError('sorry, you lose')\n",
    "        if width == 0 and height == 0 and (color == 'red' or\n",
    "                                           emphasis is None):\n",
    "            raise ValueError(\"I don't think so -- values are %s, %s\" %\n",
    "                             (width, height))\n",
    "        Blob.__init__(self, width, height,\n",
    "                      color, emphasis, highlight)\n",
    "\n",
    "    # empty lines within method to enhance readability; no set rule\n",
    "    short_foo_dict = {'loooooooooooooooooooong_element_name': 'cat',\n",
    "                      'other_element': 'dog'}\n",
    "\n",
    "    long_foo_dict_with_many_elements = {\n",
    "        'foo': 'cat',\n",
    "        'bar': 'dog'\n",
    "    }\n",
    "\n",
    "    # 1 empty line between in-class def'ns\n",
    "    def foo_method(self, x, y=None):\n",
    "        \"\"\"Method and function names are lower_case_with_underscores.\n",
    "\n",
    "        Always use self as first arg.\n",
    "        \"\"\"\n",
    "        pass\n",
    "\n",
    "    @classmethod\n",
    "    def bar(cls):\n",
    "        \"\"\"Use cls!\"\"\"\n",
    "        pass\n",
    "\n",
    "# a 79-char ruler:\n",
    "# 34567891123456789212345678931234567894123456789512345678961234567897123456789\n",
    "\n",
    "\"\"\"\n",
    "Common naming convention names:\n",
    "snake_case\n",
    "MACRO_CASE\n",
    "camelCase\n",
    "CapWords\n",
    "\"\"\"\n",
    "\n",
    "# Newline at end of file\n"
   ]
  },
  {
   "cell_type": "markdown",
   "metadata": {
    "slideshow": {
     "slide_type": "slide"
    }
   },
   "source": [
    "<center><h2>Student Activity</h2></center>\n",
    "\n",
    "- Pick a partner. \n",
    "- Find your Project #1 code. \n",
    "- Choose someone to go first. \n",
    "- Walk through that person's code.\n",
    "- Highlight where the code is consistent with PEP 8.\n",
    "- Where it is not, reformat code to be consistent with PEP 8.  \n",
    "(Do __not__ comment on or change functionality)"
   ]
  },
  {
   "cell_type": "markdown",
   "metadata": {
    "slideshow": {
     "slide_type": "slide"
    }
   },
   "source": [
    "Summary\n",
    "----\n",
    "\n",
    "- We are Data Scientist, not Software Engineers. \n",
    "    - Thus, we are not going to write as much code. \n",
    "    - However, the code we write should look like other Python code.\n",
    "- Start following PEP 8 style guidelines. It is not difficult, it just takes a little practice.\n"
   ]
  },
  {
   "cell_type": "markdown",
   "metadata": {
    "slideshow": {
     "slide_type": "slide"
    }
   },
   "source": [
    " "
   ]
  },
  {
   "cell_type": "markdown",
   "metadata": {
    "slideshow": {
     "slide_type": "slide"
    }
   },
   "source": [
    "Bonus Material\n",
    "-----"
   ]
  },
  {
   "cell_type": "markdown",
   "metadata": {},
   "source": [
    "Further Study\n",
    "------\n",
    "\n",
    "- [Quick overview](https://stackabuse.com/introduction-to-the-python-coding-style/)\n",
    "- [Real Python’s take on PEP 8](https://realpython.com/python-pep8/)"
   ]
  },
  {
   "cell_type": "markdown",
   "metadata": {},
   "source": [
    "Style tools\n",
    "-----\n",
    "\n",
    "- [Online checker](https://pythonbuddy.com/)\n",
    "- [pylint](https://www.pylint.org/) is a package to help you format in PEP 8 style."
   ]
  },
  {
   "cell_type": "markdown",
   "metadata": {},
   "source": [
    "Other Style Guidelines\n",
    "-----\n",
    "\n",
    "- [Google Python Style Guide](http://google.github.io/styleguide/pyguide.html)"
   ]
  },
  {
   "cell_type": "markdown",
   "metadata": {},
   "source": [
    " "
   ]
  }
 ],
 "metadata": {
  "celltoolbar": "Slideshow",
  "kernelspec": {
   "display_name": "Python 3",
   "language": "python",
   "name": "python3"
  },
  "language_info": {
   "codemirror_mode": {
    "name": "ipython",
    "version": 3
   },
   "file_extension": ".py",
   "mimetype": "text/x-python",
   "name": "python",
   "nbconvert_exporter": "python",
   "pygments_lexer": "ipython3",
   "version": "3.7.3"
  },
  "toc": {
   "base_numbering": 1,
   "nav_menu": {},
   "number_sections": false,
   "sideBar": false,
   "skip_h1_title": false,
   "title_cell": "Table of Contents",
   "title_sidebar": "Contents",
   "toc_cell": true,
   "toc_position": {},
   "toc_section_display": true,
   "toc_window_display": false
  }
 },
 "nbformat": 4,
 "nbformat_minor": 2
}
