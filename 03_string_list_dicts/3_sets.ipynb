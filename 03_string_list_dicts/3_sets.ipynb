{
 "cells": [
  {
   "cell_type": "markdown",
   "metadata": {
    "toc": true
   },
   "source": [
    "<h1>Table of Contents<span class=\"tocSkip\"></span></h1>\n",
    "<div class=\"toc\"><ul class=\"toc-item\"><li><span><a href=\"#Python-Sets\" data-toc-modified-id=\"Python-Sets-1\">Python Sets</a></span></li><li><span><a href=\"#Learning-Outcomes\" data-toc-modified-id=\"Learning-Outcomes-2\">Learning Outcomes</a></span><ul class=\"toc-item\"><li><ul class=\"toc-item\"><li><span><a href=\"#By-the-end-of-this-session,-you-should-be-able-to:\" data-toc-modified-id=\"By-the-end-of-this-session,-you-should-be-able-to:-2.0.1\">By the end of this session, you should be able to:</a></span></li></ul></li></ul></li><li><span><a href=\"#Sets\" data-toc-modified-id=\"Sets-3\">Sets</a></span></li><li><span><a href=\"#Set-methods\" data-toc-modified-id=\"Set-methods-4\">Set methods</a></span></li><li><span><a href=\"#2-best-uses-of-set-\" data-toc-modified-id=\"2-best-uses-of-set--5\">2 best uses of set </a></span></li><li><span><a href=\"#Membership-testings-is-MUCH-FASTER-in-sets-than-lists.\" data-toc-modified-id=\"Membership-testings-is-MUCH-FASTER-in-sets-than-lists.-6\">Membership testings is MUCH FASTER in sets than lists.</a></span></li><li><span><a href=\"#Summary\" data-toc-modified-id=\"Summary-7\">Summary</a></span></li><li><span><a href=\"#Bonus-Material\" data-toc-modified-id=\"Bonus-Material-8\">Bonus Material</a></span></li></ul></div>"
   ]
  },
  {
   "cell_type": "markdown",
   "metadata": {},
   "source": [
    "<center><h2>Python Sets</h2></center>\n",
    "\n",
    "<center><img src=\"images/reals.png\" width=\"75%\"/></center>"
   ]
  },
  {
   "cell_type": "markdown",
   "metadata": {},
   "source": [
    "<center><h2>Learning Outcomes</h2></center>\n",
    "\n",
    "#### By the end of this session, you should be able to:\n",
    "\n",
    "- Explain the relationship between Mathematical sets and Python's set datatype.\n",
    "- Use Python's set attributes to manipulate sets.\n",
    "- Explain the most usecases for sets:\n",
    "    1. Eliminate duplicates\n",
    "    2. Membership testing\n",
    "\n"
   ]
  },
  {
   "cell_type": "markdown",
   "metadata": {},
   "source": [
    "Sets\n",
    "-----\n",
    " \n",
    "A set is an unordered, mutable collection of unique items. \n",
    "\n",
    "Similar to mathematical sets."
   ]
  },
  {
   "cell_type": "code",
   "execution_count": 7,
   "metadata": {},
   "outputs": [
    {
     "name": "stdout",
     "output_type": "stream",
     "text": [
      "{1}\n",
      "{1}\n",
      "{1, 42}\n"
     ]
    }
   ],
   "source": [
    "s = set()\n",
    "s.add(1)\n",
    "print(s)\n",
    "s.add(1)\n",
    "print(s)\n",
    "s.add(42)\n",
    "print(s)"
   ]
  },
  {
   "cell_type": "code",
   "execution_count": 9,
   "metadata": {},
   "outputs": [
    {
     "name": "stdout",
     "output_type": "stream",
     "text": [
      "{1, 42}\n"
     ]
    }
   ],
   "source": [
    "# Unordered\n",
    "s = set()\n",
    "s.add(42)\n",
    "s.add(1)\n",
    "print(s)"
   ]
  },
  {
   "cell_type": "markdown",
   "metadata": {},
   "source": [
    "Set methods\n",
    "-----\n",
    "\n",
    "[Read the docs on sets](https://docs.python.org/3/tutorial/datastructures.html#sets)\n",
    "\n",
    "Two types of porcelain: operators and methods"
   ]
  },
  {
   "cell_type": "markdown",
   "metadata": {},
   "source": [
    "<center><img src=\"images/sets_operration.png\" width=\"75%\"/></center>"
   ]
  },
  {
   "cell_type": "markdown",
   "metadata": {},
   "source": [
    "Source: DataCamp"
   ]
  },
  {
   "cell_type": "markdown",
   "metadata": {},
   "source": [
    "The new CMO (Chief Marketing Office) wants you find the new marketing channels that both new and old marketing channels."
   ]
  },
  {
   "cell_type": "code",
   "execution_count": 20,
   "metadata": {},
   "outputs": [
    {
     "data": {
      "text/plain": [
       "{'adwords', 'organic', 'referral'}"
      ]
     },
     "execution_count": 20,
     "metadata": {},
     "output_type": "execute_result"
    }
   ],
   "source": [
    "old = ['tv', 'referral', 'organic', 'adwords', ]\n",
    "new = ['organic', 'adwords', 'instagram', 'referral', 'tiktok']\n",
    "\n",
    "set(new) & set(old)"
   ]
  },
  {
   "cell_type": "code",
   "execution_count": 21,
   "metadata": {},
   "outputs": [
    {
     "data": {
      "text/plain": [
       "{'adwords', 'organic', 'referral'}"
      ]
     },
     "execution_count": 21,
     "metadata": {},
     "output_type": "execute_result"
    }
   ],
   "source": [
    "set(new).intersection(set(old))"
   ]
  },
  {
   "cell_type": "markdown",
   "metadata": {},
   "source": [
    "The new CMO (Chief Marketing Office) wants you find the new marketing channels that do not overlap with old marketing channels."
   ]
  },
  {
   "cell_type": "code",
   "execution_count": 14,
   "metadata": {},
   "outputs": [
    {
     "data": {
      "text/plain": [
       "{'instagram', 'tiktok'}"
      ]
     },
     "execution_count": 14,
     "metadata": {},
     "output_type": "execute_result"
    }
   ],
   "source": [
    "old = ['tv', 'referral', 'organic', 'adwords', ]\n",
    "new = ['organic', 'adwords', 'instagram', 'referral', 'tiktok']\n",
    "\n",
    "set(new)- set(old)"
   ]
  },
  {
   "cell_type": "code",
   "execution_count": 15,
   "metadata": {},
   "outputs": [
    {
     "data": {
      "text/plain": [
       "{'instagram', 'tiktok'}"
      ]
     },
     "execution_count": 15,
     "metadata": {},
     "output_type": "execute_result"
    }
   ],
   "source": [
    "set(new).difference(set(old))"
   ]
  },
  {
   "cell_type": "markdown",
   "metadata": {},
   "source": [
    "The new CMO (Chief Marketing Office) wants you find the marketing channels that are either new or old, but not both new and old. \n",
    "\n",
    "In other words, items only in a single type (old or new)."
   ]
  },
  {
   "cell_type": "code",
   "execution_count": 22,
   "metadata": {},
   "outputs": [
    {
     "data": {
      "text/plain": [
       "{'instagram', 'tiktok', 'tv'}"
      ]
     },
     "execution_count": 22,
     "metadata": {},
     "output_type": "execute_result"
    }
   ],
   "source": [
    "old = ['tv', 'referral', 'organic', 'adwords', ]\n",
    "new = ['organic', 'adwords', 'instagram', 'referral', 'tiktok']\n",
    "set(new) ^ set(old)\n",
    "\n",
    "# set(new).symmetric_difference(set(old))"
   ]
  },
  {
   "cell_type": "markdown",
   "metadata": {},
   "source": [
    "2 best uses of set \n",
    "-----\n",
    "\n",
    "1. Eliminating duplicate entries\n",
    "\n",
    "1. Membership testing"
   ]
  },
  {
   "cell_type": "code",
   "execution_count": 4,
   "metadata": {},
   "outputs": [],
   "source": [
    "from random import random"
   ]
  },
  {
   "cell_type": "code",
   "execution_count": 5,
   "metadata": {},
   "outputs": [],
   "source": [
    "nums_list = [random() for _ in range(1_000_000)]"
   ]
  },
  {
   "cell_type": "code",
   "execution_count": 7,
   "metadata": {},
   "outputs": [
    {
     "name": "stdout",
     "output_type": "stream",
     "text": [
      "11.5 ms ± 1.34 ms per loop (mean ± std. dev. of 7 runs, 10 loops each)\n"
     ]
    }
   ],
   "source": [
    "# List membership check\n",
    "%timeit -n 10 (.75 in nums_list)"
   ]
  },
  {
   "cell_type": "code",
   "execution_count": 9,
   "metadata": {},
   "outputs": [],
   "source": [
    "nums_set = set(random() for _ in range(1_000_000))"
   ]
  },
  {
   "cell_type": "code",
   "execution_count": 11,
   "metadata": {},
   "outputs": [
    {
     "name": "stdout",
     "output_type": "stream",
     "text": [
      "124 ns ± 33.8 ns per loop (mean ± std. dev. of 7 runs, 10 loops each)\n"
     ]
    }
   ],
   "source": [
    "# Set membership check\n",
    "%timeit -n 10 (.75 in nums_set)"
   ]
  },
  {
   "cell_type": "markdown",
   "metadata": {},
   "source": [
    "<center><h2>Membership testings is MUCH FASTER in sets than lists.</h2></center>\n",
    "<br>\n",
    "<br>\n",
    "<center><img src=\"https://izquotes.com/quotes-pictures/quote-the-difference-between-the-almost-right-word-the-right-word-is-really-a-large-matter-it-s-the-mark-twain-389372.jpg\" width=\"75%\"/></center>"
   ]
  },
  {
   "cell_type": "markdown",
   "metadata": {},
   "source": [
    "Use `set` by default. Only use `list` if you need order or duplicate items.\n",
    "\n",
    "You need order less of the time."
   ]
  },
  {
   "cell_type": "markdown",
   "metadata": {},
   "source": [
    "Summary\n",
    "-----\n",
    "\n",
    "1. Python implements the most important parts of Mathematical sets.\n",
    "1. Sets are unordered, unique collection of items.\n",
    "1. Python's set have the attributes you would except of sets.\n",
    "1. Sets should be preferred over lists.\n",
    "1. Only use lists if you need order and duplicate items.\n"
   ]
  },
  {
   "cell_type": "markdown",
   "metadata": {},
   "source": [
    "Bonus Material\n",
    "-----"
   ]
  },
  {
   "cell_type": "markdown",
   "metadata": {},
   "source": [
    "Learn more about sets:\n",
    "    \n",
    "- [1](https://realpython.com/python-sets/)    \n",
    "- [2](https://stackabuse.com/sets-in-python/)"
   ]
  },
  {
   "cell_type": "markdown",
   "metadata": {},
   "source": [
    " "
   ]
  },
  {
   "cell_type": "markdown",
   "metadata": {},
   "source": [
    " "
   ]
  }
 ],
 "metadata": {
  "kernelspec": {
   "display_name": "Python 3",
   "language": "python",
   "name": "python3"
  },
  "language_info": {
   "codemirror_mode": {
    "name": "ipython",
    "version": 3
   },
   "file_extension": ".py",
   "mimetype": "text/x-python",
   "name": "python",
   "nbconvert_exporter": "python",
   "pygments_lexer": "ipython3",
   "version": "3.7.3"
  },
  "toc": {
   "base_numbering": 1,
   "nav_menu": {},
   "number_sections": false,
   "sideBar": false,
   "skip_h1_title": false,
   "title_cell": "Table of Contents",
   "title_sidebar": "Contents",
   "toc_cell": true,
   "toc_position": {},
   "toc_section_display": true,
   "toc_window_display": false
  }
 },
 "nbformat": 4,
 "nbformat_minor": 2
}
