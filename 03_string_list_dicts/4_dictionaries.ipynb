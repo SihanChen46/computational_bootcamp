{
 "cells": [
  {
   "cell_type": "markdown",
   "metadata": {
    "toc": true
   },
   "source": [
    "<h1>Table of Contents<span class=\"tocSkip\"></span></h1>\n",
    "<div class=\"toc\"><ul class=\"toc-item\"><li><span><a href=\"#Python's-dict\" data-toc-modified-id=\"Python's-dict-1\">Python's dict</a></span></li><li><span><a href=\"#Learning-Outcomes\" data-toc-modified-id=\"Learning-Outcomes-2\">Learning Outcomes</a></span><ul class=\"toc-item\"><li><ul class=\"toc-item\"><li><span><a href=\"#By-the-end-of-this-session,-you-should-be-able-to:\" data-toc-modified-id=\"By-the-end-of-this-session,-you-should-be-able-to:-2.0.1\">By the end of this session, you should be able to:</a></span></li></ul></li></ul></li><li><span><a href=\"#Python's-dict\" data-toc-modified-id=\"Python's-dict-3\">Python's dict</a></span></li><li><span><a href=\"#Finding-values-by-key\" data-toc-modified-id=\"Finding-values-by-key-4\">Finding values by key</a></span></li><li><span><a href=\"#Iterating-through-a-dict\" data-toc-modified-id=\"Iterating-through-a-dict-5\">Iterating through a dict</a></span></li><li><span><a href=\"#dict-keys-must-be-unique\" data-toc-modified-id=\"dict-keys-must-be-unique-6\">dict keys must be unique</a></span></li><li><span><a href=\"#dict-are-mutable\" data-toc-modified-id=\"dict-are-mutable-7\">dict are mutable</a></span></li><li><span><a href=\"#Python-keeps-insertion-order-in-dicts.\" data-toc-modified-id=\"Python-keeps-insertion-order-in-dicts.-8\">Python keeps insertion order in dicts.</a></span></li><li><span><a href=\"#3-ways-to-update-a-dict\" data-toc-modified-id=\"3-ways-to-update-a-dict-9\">3 ways to update a dict</a></span></li><li><span><a href=\"#Summary\" data-toc-modified-id=\"Summary-10\">Summary</a></span></li><li><span><a href=\"#Bonus-Material\" data-toc-modified-id=\"Bonus-Material-11\">Bonus Material</a></span></li></ul></div>"
   ]
  },
  {
   "cell_type": "markdown",
   "metadata": {},
   "source": [
    "<center><h2>Python's dict</h2></center>\n",
    "\n",
    "\n",
    "<center><img src=\"images/coat_check.png\" width=\"75%\"/></center>\n",
    "\n",
    "`dicts` are like a coat check system."
   ]
  },
  {
   "cell_type": "markdown",
   "metadata": {},
   "source": [
    "<center><h2>Learning Outcomes</h2></center>\n",
    "\n",
    "#### By the end of this session, you should be able to:\n",
    "\n",
    "- Explain in your own words what is a Python `dict`\n",
    "- Create and use a `dict`\n",
    "- Leverage the fact that Python's `dict` are always ordered"
   ]
  },
  {
   "cell_type": "markdown",
   "metadata": {},
   "source": [
    "Python's dict\n",
    "------\n",
    "\n",
    "An implementation of a hash-map. \n",
    "\n",
    "`dict` is one of most useful datatypes in Python. \n",
    "\n",
    "When in doubt, use a `dict`.\n",
    "\n",
    "Dictionaries are key-value pairs.\n",
    "\n",
    "Useful for storing things like:\n",
    "\n",
    "- Word dictionaries: word (key) and definition (value)\n",
    "- Login information: username (key) and email (value)"
   ]
  },
  {
   "cell_type": "code",
   "execution_count": 2,
   "metadata": {},
   "outputs": [
    {
     "data": {
      "text/plain": [
       "{'Georgia': 'Atlanta', 'Colorado': 'Denver', 'Indiana': 'Indianapolis'}"
      ]
     },
     "execution_count": 2,
     "metadata": {},
     "output_type": "execute_result"
    }
   ],
   "source": [
    "captials = dict([('Georgia', 'Atlanta'), ('Colorado', 'Denver'), ('Indiana', 'Indianapolis')])\n",
    "captials"
   ]
  },
  {
   "cell_type": "code",
   "execution_count": 3,
   "metadata": {},
   "outputs": [
    {
     "data": {
      "text/plain": [
       "dict_keys(['Georgia', 'Colorado', 'Indiana'])"
      ]
     },
     "execution_count": 3,
     "metadata": {},
     "output_type": "execute_result"
    }
   ],
   "source": [
    "captials.keys()"
   ]
  },
  {
   "cell_type": "code",
   "execution_count": 4,
   "metadata": {},
   "outputs": [
    {
     "data": {
      "text/plain": [
       "dict_values(['Atlanta', 'Denver', 'Indianapolis'])"
      ]
     },
     "execution_count": 4,
     "metadata": {},
     "output_type": "execute_result"
    }
   ],
   "source": [
    "captials.values()"
   ]
  },
  {
   "cell_type": "code",
   "execution_count": 5,
   "metadata": {},
   "outputs": [
    {
     "data": {
      "text/plain": [
       "dict_items([('Georgia', 'Atlanta'), ('Colorado', 'Denver'), ('Indiana', 'Indianapolis')])"
      ]
     },
     "execution_count": 5,
     "metadata": {},
     "output_type": "execute_result"
    }
   ],
   "source": [
    "captials.items()"
   ]
  },
  {
   "cell_type": "markdown",
   "metadata": {},
   "source": [
    "Finding values by key\n",
    "----"
   ]
  },
  {
   "cell_type": "code",
   "execution_count": 6,
   "metadata": {},
   "outputs": [
    {
     "data": {
      "text/plain": [
       "'Denver'"
      ]
     },
     "execution_count": 6,
     "metadata": {},
     "output_type": "execute_result"
    }
   ],
   "source": [
    "captials['Colorado']"
   ]
  },
  {
   "cell_type": "code",
   "execution_count": 7,
   "metadata": {},
   "outputs": [
    {
     "data": {
      "text/plain": [
       "'Denver'"
      ]
     },
     "execution_count": 7,
     "metadata": {},
     "output_type": "execute_result"
    }
   ],
   "source": [
    "captials.get('Colorado')"
   ]
  },
  {
   "cell_type": "code",
   "execution_count": 8,
   "metadata": {},
   "outputs": [],
   "source": [
    "# captials['California']"
   ]
  },
  {
   "cell_type": "code",
   "execution_count": 9,
   "metadata": {},
   "outputs": [
    {
     "data": {
      "text/plain": [
       "\"Can't find that key in this dictionary!\""
      ]
     },
     "execution_count": 9,
     "metadata": {},
     "output_type": "execute_result"
    }
   ],
   "source": [
    "captials.get('California', \"Can't find that key in this dictionary!\")"
   ]
  },
  {
   "cell_type": "markdown",
   "metadata": {},
   "source": [
    "Iterating through a dict\n",
    "----"
   ]
  },
  {
   "cell_type": "code",
   "execution_count": 10,
   "metadata": {},
   "outputs": [
    {
     "name": "stdout",
     "output_type": "stream",
     "text": [
      "Georgia\n",
      "Colorado\n",
      "Indiana\n"
     ]
    }
   ],
   "source": [
    "for k in captials:\n",
    "    print(k)"
   ]
  },
  {
   "cell_type": "code",
   "execution_count": 11,
   "metadata": {},
   "outputs": [
    {
     "name": "stdout",
     "output_type": "stream",
     "text": [
      "Georgia Atlanta\n",
      "Colorado Denver\n",
      "Indiana Indianapolis\n"
     ]
    }
   ],
   "source": [
    "for k, v in captials.items():\n",
    "    print(k, v)"
   ]
  },
  {
   "cell_type": "markdown",
   "metadata": {},
   "source": [
    "dict keys must be unique\n",
    "------\n",
    "\n",
    "`sets` are similar to values-less `dict`"
   ]
  },
  {
   "cell_type": "code",
   "execution_count": 22,
   "metadata": {},
   "outputs": [
    {
     "data": {
      "text/plain": [
       "dict_keys(['California', 'Georgia'])"
      ]
     },
     "execution_count": 22,
     "metadata": {},
     "output_type": "execute_result"
    }
   ],
   "source": [
    "capitals.keys()"
   ]
  },
  {
   "cell_type": "markdown",
   "metadata": {},
   "source": [
    "dict are mutable\n",
    "-----"
   ]
  },
  {
   "cell_type": "code",
   "execution_count": null,
   "metadata": {},
   "outputs": [],
   "source": [
    "capitals = {} # Empty dict\n",
    "capitals.update({'Georgia': 'Atlanta'})\n",
    "capitals.update({'California': 'Sacramento'})\n",
    "capitals"
   ]
  },
  {
   "cell_type": "code",
   "execution_count": null,
   "metadata": {},
   "outputs": [],
   "source": [
    "capitals.update({'California': 'San Francisco'})\n",
    "capitals"
   ]
  },
  {
   "cell_type": "markdown",
   "metadata": {},
   "source": [
    "Python keeps insertion order in dicts.\n",
    "------\n",
    "\n",
    "`dict` are __ordered__ by default in Python 3.6 (and all later versions).\n",
    "\n",
    "[Source](https://docs.python.org/3/whatsnew/3.7.html)"
   ]
  },
  {
   "cell_type": "code",
   "execution_count": 27,
   "metadata": {},
   "outputs": [],
   "source": [
    "capitals = {} # Empty dict\n",
    "capitals.update()"
   ]
  },
  {
   "cell_type": "code",
   "execution_count": 39,
   "metadata": {},
   "outputs": [
    {
     "data": {
      "text/plain": [
       "{'Georgia': 'Atlanta', 'California': 'Sacramento'}"
      ]
     },
     "execution_count": 39,
     "metadata": {},
     "output_type": "execute_result"
    }
   ],
   "source": [
    "capitals = {} # Empty dict\n",
    "capitals.update(Georgia='Atlanta')\n",
    "capitals.update(California='Sacramento') \n",
    "capitals"
   ]
  },
  {
   "cell_type": "code",
   "execution_count": 40,
   "metadata": {},
   "outputs": [
    {
     "name": "stdout",
     "output_type": "stream",
     "text": [
      "Georgia's capital is Atlanta\n",
      "California's capital is Sacramento\n"
     ]
    }
   ],
   "source": [
    "# Iterating then has a strong guantree\n",
    "for k,v in capitals.items():\n",
    "    print(k+\"'s capital is \"+v)"
   ]
  },
  {
   "cell_type": "code",
   "execution_count": 41,
   "metadata": {},
   "outputs": [
    {
     "data": {
      "text/plain": [
       "{'California': 'Sacramento', 'Georgia': 'Atlanta'}"
      ]
     },
     "execution_count": 41,
     "metadata": {},
     "output_type": "execute_result"
    }
   ],
   "source": [
    "capitals = {} # Empty dict\n",
    "capitals.update(California='Sacramento') \n",
    "capitals.update(Georgia='Atlanta')\n",
    "capitals"
   ]
  },
  {
   "cell_type": "code",
   "execution_count": 42,
   "metadata": {},
   "outputs": [
    {
     "name": "stdout",
     "output_type": "stream",
     "text": [
      "California's capital is Sacramento\n",
      "Georgia's capital is Atlanta\n"
     ]
    }
   ],
   "source": [
    "# Iterating then has a strong guantree\n",
    "for k,v in capitals.items():\n",
    "    print(k+\"'s capital is \"+v)"
   ]
  },
  {
   "cell_type": "markdown",
   "metadata": {},
   "source": [
    "3 ways to update a dict\n",
    "-----\n",
    "\n",
    "1. Pass keyword arguments\n",
    "1. Pass another dict\n",
    "1. Pass a sequence with paired data"
   ]
  },
  {
   "cell_type": "code",
   "execution_count": 31,
   "metadata": {},
   "outputs": [
    {
     "data": {
      "text/plain": [
       "{'California': 'Sacramento'}"
      ]
     },
     "execution_count": 31,
     "metadata": {},
     "output_type": "execute_result"
    }
   ],
   "source": [
    "capitals = {} # Empty dict\n",
    "capitals.update(California='Sacramento') # Update with keyword arguments\n",
    "capitals"
   ]
  },
  {
   "cell_type": "code",
   "execution_count": 32,
   "metadata": {},
   "outputs": [
    {
     "data": {
      "text/plain": [
       "{'California': 'Sacramento'}"
      ]
     },
     "execution_count": 32,
     "metadata": {},
     "output_type": "execute_result"
    }
   ],
   "source": [
    "capitals = {} # Empty dict\n",
    "capitals.update({'California': 'Sacramento'}) # Update with another dict\n",
    "capitals"
   ]
  },
  {
   "cell_type": "code",
   "execution_count": 33,
   "metadata": {},
   "outputs": [
    {
     "data": {
      "text/plain": [
       "{'California': 'Sacramento'}"
      ]
     },
     "execution_count": 33,
     "metadata": {},
     "output_type": "execute_result"
    }
   ],
   "source": [
    "capitals = {} # Empty dict\n",
    "capitals.update([['California','Sacramento']]) # Update with a sequence of pairs\n",
    "capitals"
   ]
  },
  {
   "cell_type": "markdown",
   "metadata": {},
   "source": [
    "Summary\n",
    "------\n",
    "\n",
    "- Python's dict stores key-value pairs, that simple idea is very useful.\n",
    "- `dict` should be your first choice data structure.\n",
    "- `dict` has methods to manipulate those keys and values.\n",
    "- Python's `dict` are ordered by insertion.\n"
   ]
  },
  {
   "cell_type": "markdown",
   "metadata": {},
   "source": [
    " "
   ]
  },
  {
   "cell_type": "markdown",
   "metadata": {},
   "source": [
    "Bonus Material\n",
    "------"
   ]
  },
  {
   "cell_type": "code",
   "execution_count": 15,
   "metadata": {},
   "outputs": [
    {
     "data": {
      "text/plain": [
       "{'key 2': 0.99, 'key 1': 0.98, 'key 3': 0.5}"
      ]
     },
     "execution_count": 15,
     "metadata": {},
     "output_type": "execute_result"
    }
   ],
   "source": [
    "# Sort a dictionary by value\n",
    "\n",
    "d = {}\n",
    "d['key 2'] = .99\n",
    "d['key 1'] = .98\n",
    "d['key 3'] = .5\n",
    "\n",
    "d = dict(sorted(d.items(), \n",
    "             key=lambda x: x[1],\n",
    "             reverse=True))# Sort a dictionary by value\n",
    "\n",
    "d = {}\n",
    "d['key 2'] = .99\n",
    "d['key 1'] = .98\n",
    "d['key 3'] = .5\n",
    "\n",
    "d = dict(sorted(d.items(), \n",
    "             key=lambda x: x[1],\n",
    "             reverse=True))\n",
    "d"
   ]
  },
  {
   "cell_type": "code",
   "execution_count": 16,
   "metadata": {},
   "outputs": [
    {
     "data": {
      "text/plain": [
       "['apple', 'pomegranate']"
      ]
     },
     "execution_count": 16,
     "metadata": {},
     "output_type": "execute_result"
    }
   ],
   "source": [
    "# Return k for values in dict that have some property\n",
    "d = {'apple': {\"red\",  'yummy'},\n",
    "    'orange': {\"orange\", 'not yummy'},\n",
    "    'pomegranate': {\"red\": 'yummy'},\n",
    "        }\n",
    "item = 'red'\n",
    "[k for k,v in d.items() if item in v]"
   ]
  },
  {
   "cell_type": "markdown",
   "metadata": {},
   "source": [
    "Learn more about dicts:\n",
    "    \n",
    "- [1](https://realpython.com/python-dicts/)\n",
    "- [2](https://stackabuse.com/python-dictionary-tutorial/)"
   ]
  },
  {
   "cell_type": "markdown",
   "metadata": {},
   "source": [
    "If you curious about why Python's are ordered:\n",
    "\n",
    "[Modern Dictionaries by Raymond Hettinger from PyCon](https://www.youtube.com/watch?v=npw4s1QTmPg)\n"
   ]
  },
  {
   "cell_type": "markdown",
   "metadata": {},
   "source": [
    " "
   ]
  }
 ],
 "metadata": {
  "kernelspec": {
   "display_name": "Python 3",
   "language": "python",
   "name": "python3"
  },
  "language_info": {
   "codemirror_mode": {
    "name": "ipython",
    "version": 3
   },
   "file_extension": ".py",
   "mimetype": "text/x-python",
   "name": "python",
   "nbconvert_exporter": "python",
   "pygments_lexer": "ipython3",
   "version": "3.7.3"
  },
  "toc": {
   "base_numbering": 1,
   "nav_menu": {},
   "number_sections": false,
   "sideBar": false,
   "skip_h1_title": false,
   "title_cell": "Table of Contents",
   "title_sidebar": "Contents",
   "toc_cell": true,
   "toc_position": {},
   "toc_section_display": true,
   "toc_window_display": false
  }
 },
 "nbformat": 4,
 "nbformat_minor": 2
}
