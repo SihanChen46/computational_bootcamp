{
 "cells": [
  {
   "cell_type": "markdown",
   "metadata": {
    "toc": true
   },
   "source": [
    "<h1>Table of Contents<span class=\"tocSkip\"></span></h1>\n",
    "<div class=\"toc\"><ul class=\"toc-item\"><li><span><a href=\"#Python's-list\" data-toc-modified-id=\"Python's-list-1\">Python's list</a></span></li><li><span><a href=\"#Learning-Outcomes\" data-toc-modified-id=\"Learning-Outcomes-2\">Learning Outcomes</a></span><ul class=\"toc-item\"><li><ul class=\"toc-item\"><li><span><a href=\"#By-the-end-of-this-session,-you-should-be-able-to:\" data-toc-modified-id=\"By-the-end-of-this-session,-you-should-be-able-to:-2.0.1\">By the end of this session, you should be able to:</a></span></li></ul></li></ul></li><li><span><a href=\"#Lists\" data-toc-modified-id=\"Lists-3\">Lists</a></span></li><li><span><a href=\"#List-Methods\" data-toc-modified-id=\"List-Methods-4\">List Methods</a></span></li><li><span><a href=\"#Append-vs-extend\" data-toc-modified-id=\"Append-vs-extend-5\">Append vs extend</a></span></li><li><span><a href=\"#List-slicing\" data-toc-modified-id=\"List-slicing-6\">List slicing</a></span></li><li><span><a href=\"#List-copies\" data-toc-modified-id=\"List-copies-7\">List copies</a></span></li><li><span><a href=\"#Accumulator-pattern\" data-toc-modified-id=\"Accumulator-pattern-8\">Accumulator pattern</a></span></li><li><span><a href=\"#List-comprehension\" data-toc-modified-id=\"List-comprehension-9\">List comprehension</a></span></li><li><span><a href=\"#Student-Activity\" data-toc-modified-id=\"Student-Activity-10\">Student Activity</a></span></li><li><span><a href=\"#Summary\" data-toc-modified-id=\"Summary-11\">Summary</a></span></li><li><span><a href=\"#Bonus-Material\" data-toc-modified-id=\"Bonus-Material-12\">Bonus Material</a></span></li></ul></div>"
   ]
  },
  {
   "cell_type": "markdown",
   "metadata": {},
   "source": [
    "<center><h2>Python's list</h2></center>"
   ]
  },
  {
   "cell_type": "markdown",
   "metadata": {},
   "source": [
    "<center><h2>Learning Outcomes</h2></center>\n",
    "\n",
    "#### By the end of this session, you should be able to:\n",
    "\n",
    "- Explain the features and dangers of using lists.\n",
    "- Write with common list methods.\n",
    "- Write list comprehensions to compactly manipulate lists.\n"
   ]
  },
  {
   "cell_type": "markdown",
   "metadata": {},
   "source": [
    "<center><img src=\"images/suitcase.png\" width=\"75%\"/></center>\n",
    "\n",
    "Lists are like a suitcase. It is a nice way to carry things around."
   ]
  },
  {
   "cell_type": "code",
   "execution_count": 1,
   "metadata": {},
   "outputs": [],
   "source": [
    "reset -fs"
   ]
  },
  {
   "cell_type": "code",
   "execution_count": 2,
   "metadata": {},
   "outputs": [],
   "source": [
    "my_list = [42, \"brian\",  \"🐶\"]"
   ]
  },
  {
   "cell_type": "code",
   "execution_count": 3,
   "metadata": {},
   "outputs": [
    {
     "data": {
      "text/plain": [
       "list"
      ]
     },
     "execution_count": 3,
     "metadata": {},
     "output_type": "execute_result"
    }
   ],
   "source": [
    "type(my_list)"
   ]
  },
  {
   "cell_type": "markdown",
   "metadata": {},
   "source": [
    "Lists\n",
    "-----\n",
    "\n",
    "- Collection of ordered items, aka a sequence.\n",
    "- Can hold any kind of data, including lists.\n",
    "- Can contain items of different types (or all the same type)\n",
    "- Lists are mutable"
   ]
  },
  {
   "cell_type": "code",
   "execution_count": 4,
   "metadata": {},
   "outputs": [],
   "source": [
    "my_other_list = [sum, my_list, True, Ellipsis]"
   ]
  },
  {
   "cell_type": "markdown",
   "metadata": {},
   "source": [
    "List Methods\n",
    "-----"
   ]
  },
  {
   "cell_type": "code",
   "execution_count": 5,
   "metadata": {},
   "outputs": [],
   "source": [
    "# my_other_list.<tab>"
   ]
  },
  {
   "cell_type": "code",
   "execution_count": 6,
   "metadata": {},
   "outputs": [
    {
     "data": {
      "text/plain": [
       "2"
      ]
     },
     "execution_count": 6,
     "metadata": {},
     "output_type": "execute_result"
    }
   ],
   "source": [
    "my_list = [42, 'brian', 42]\n",
    "my_list.count(42)"
   ]
  },
  {
   "cell_type": "code",
   "execution_count": 7,
   "metadata": {},
   "outputs": [
    {
     "data": {
      "text/plain": [
       "[-20, 3.14, 42]"
      ]
     },
     "execution_count": 7,
     "metadata": {},
     "output_type": "execute_result"
    }
   ],
   "source": [
    "yet_another_list = [42, 3.14, -20]\n",
    "yet_another_list.sort()\n",
    "yet_another_list"
   ]
  },
  {
   "cell_type": "markdown",
   "metadata": {},
   "source": [
    "Lists are mutable so sorting can happen in-place."
   ]
  },
  {
   "cell_type": "markdown",
   "metadata": {},
   "source": [
    "Append vs extend\n",
    "-----"
   ]
  },
  {
   "cell_type": "code",
   "execution_count": 8,
   "metadata": {},
   "outputs": [
    {
     "data": {
      "text/plain": [
       "[-20, 3.14, 42, [42, 'brian', 42]]"
      ]
     },
     "execution_count": 8,
     "metadata": {},
     "output_type": "execute_result"
    }
   ],
   "source": [
    "# list.append inserts another item to the end of a list\n",
    "yet_another_list.append(my_list) \n",
    "yet_another_list"
   ]
  },
  {
   "cell_type": "code",
   "execution_count": 9,
   "metadata": {},
   "outputs": [
    {
     "data": {
      "text/plain": [
       "[42, 3.14, -20, 42, 'brian', 42]"
      ]
     },
     "execution_count": 9,
     "metadata": {},
     "output_type": "execute_result"
    }
   ],
   "source": [
    "# list.extend concatenates two lists \n",
    "yet_another_list = [42, 3.14, -20]\n",
    "yet_another_list.extend(my_list) \n",
    "yet_another_list"
   ]
  },
  {
   "cell_type": "markdown",
   "metadata": {},
   "source": [
    "List slicing\n",
    "-----"
   ]
  },
  {
   "cell_type": "code",
   "execution_count": 10,
   "metadata": {},
   "outputs": [
    {
     "data": {
      "text/plain": [
       "[42, 'brian', 42, -20, 3.14, 42]"
      ]
     },
     "execution_count": 10,
     "metadata": {},
     "output_type": "execute_result"
    }
   ],
   "source": [
    "# List slicing works the same way as string (or any other sequence data)\n",
    "# [start, stop, step]\n",
    "yet_another_list[-1::-1]"
   ]
  },
  {
   "cell_type": "markdown",
   "metadata": {},
   "source": [
    "List copies\n",
    "----\n",
    "\n",
    "Whenever you need to make a copy of a list (or a dictionary), do not simply use the assignment operator."
   ]
  },
  {
   "cell_type": "code",
   "execution_count": 11,
   "metadata": {},
   "outputs": [],
   "source": [
    "from metakernel import register_ipython_magics\n",
    "register_ipython_magics()"
   ]
  },
  {
   "cell_type": "code",
   "execution_count": 12,
   "metadata": {},
   "outputs": [
    {
     "data": {
      "text/plain": [
       "[42, 42]"
      ]
     },
     "execution_count": 12,
     "metadata": {},
     "output_type": "execute_result"
    }
   ],
   "source": [
    "# %%tutor\n",
    "\n",
    "nums = [1, 42]\n",
    "nums_copy = nums\n",
    "nums_copy[0] = 42\n",
    "\n",
    "# What is the value of nums?\n",
    "nums"
   ]
  },
  {
   "cell_type": "code",
   "execution_count": 13,
   "metadata": {},
   "outputs": [
    {
     "data": {
      "text/plain": [
       "[1, 42]"
      ]
     },
     "execution_count": 13,
     "metadata": {},
     "output_type": "execute_result"
    }
   ],
   "source": [
    "# %%tutor\n",
    "\n",
    "nums = [1, 42]\n",
    "nums_copy = nums.copy()\n",
    "nums_copy = 42\n",
    "\n",
    "# What is the value of nums?\n",
    "nums"
   ]
  },
  {
   "cell_type": "markdown",
   "metadata": {},
   "source": [
    "[Source](https://www.pythoncircle.com/post/602/5-common-mistakes-made-by-beginner-python-programmers/)"
   ]
  },
  {
   "cell_type": "markdown",
   "metadata": {},
   "source": [
    "Accumulator pattern\n",
    "----"
   ]
  },
  {
   "cell_type": "code",
   "execution_count": 14,
   "metadata": {},
   "outputs": [
    {
     "data": {
      "text/plain": [
       "[0.7092901051707198,\n",
       " 0.42547087808524364,\n",
       " 0.28116795126489935,\n",
       " 0.5988333458166802,\n",
       " 0.924615982129698,\n",
       " 0.9190502416777758,\n",
       " 0.6471914592872721,\n",
       " 0.13910700397743303,\n",
       " 0.797236746676128,\n",
       " 0.9505701371401853,\n",
       " 0.2495471599645811,\n",
       " 0.10197747118735967,\n",
       " 0.22720244868350925,\n",
       " 0.3104753893005159,\n",
       " 0.8947616736687606,\n",
       " 0.4274542694495581,\n",
       " 0.45309982287752215,\n",
       " 0.1574362440583399,\n",
       " 0.3202533075750126,\n",
       " 0.7099907778529887]"
      ]
     },
     "execution_count": 14,
     "metadata": {},
     "output_type": "execute_result"
    }
   ],
   "source": [
    "from random import random\n",
    "\n",
    "values = []\n",
    "for _ in range(20):\n",
    "    values.append(random())\n",
    "values"
   ]
  },
  {
   "cell_type": "code",
   "execution_count": 15,
   "metadata": {},
   "outputs": [
    {
     "data": {
      "text/plain": [
       "[0.28116795126489935,\n",
       " 0.13910700397743303,\n",
       " 0.2495471599645811,\n",
       " 0.10197747118735967,\n",
       " 0.22720244868350925,\n",
       " 0.3104753893005159,\n",
       " 0.1574362440583399,\n",
       " 0.3202533075750126]"
      ]
     },
     "execution_count": 15,
     "metadata": {},
     "output_type": "execute_result"
    }
   ],
   "source": [
    "threshold = .35\n",
    "results = []\n",
    "for v in values:\n",
    "    if v < threshold:\n",
    "        results.append(v)\n",
    "        \n",
    "results"
   ]
  },
  {
   "cell_type": "markdown",
   "metadata": {},
   "source": [
    "List comprehension\n",
    "----\n",
    "\n",
    "There must be a better way!\n",
    "\n",
    "If we need to build up a list, we can use list comprehension, aka list comps."
   ]
  },
  {
   "cell_type": "code",
   "execution_count": 16,
   "metadata": {},
   "outputs": [
    {
     "data": {
      "text/plain": [
       "[0.24224154016079158,\n",
       " 0.9070800745522358,\n",
       " 0.6249883842130327,\n",
       " 0.7381286811134337,\n",
       " 0.5084744392408125,\n",
       " 0.14426115997642464,\n",
       " 0.6475840353527809,\n",
       " 0.5737672805742149,\n",
       " 0.5345726892340001,\n",
       " 0.47096618310977556,\n",
       " 0.6317274726674958,\n",
       " 0.7289250445976617,\n",
       " 0.098325634760142,\n",
       " 0.2557480580750249,\n",
       " 0.4208398372001738,\n",
       " 0.2770484329320009,\n",
       " 0.11410264881708054,\n",
       " 0.05791213382334104,\n",
       " 0.8002039013917472,\n",
       " 0.6259212496731886]"
      ]
     },
     "execution_count": 16,
     "metadata": {},
     "output_type": "execute_result"
    }
   ],
   "source": [
    "values = [random() for _ in range(20)]\n",
    "values"
   ]
  },
  {
   "cell_type": "code",
   "execution_count": 17,
   "metadata": {},
   "outputs": [
    {
     "data": {
      "text/plain": [
       "['Mingming', 'Stephanie', 'Lina', 'Matthew', 'Sunny']"
      ]
     },
     "execution_count": 17,
     "metadata": {},
     "output_type": "execute_result"
    }
   ],
   "source": [
    "# If the inputs and outputs are list we can also use a list comprenshion\n",
    "names = 'Mingming Stephanie Lina  Matthew Sunny'.split()\n",
    "names"
   ]
  },
  {
   "cell_type": "code",
   "execution_count": 18,
   "metadata": {},
   "outputs": [
    {
     "data": {
      "text/plain": [
       "['mingming', 'stephanie', 'lina', 'matthew', 'sunny']"
      ]
     },
     "execution_count": 18,
     "metadata": {},
     "output_type": "execute_result"
    }
   ],
   "source": [
    "[name.lower() for name in names]"
   ]
  },
  {
   "cell_type": "code",
   "execution_count": 19,
   "metadata": {},
   "outputs": [],
   "source": [
    "# Python automatically manages namespace for list comps"
   ]
  },
  {
   "cell_type": "code",
   "execution_count": 20,
   "metadata": {},
   "outputs": [],
   "source": [
    "reset -fs"
   ]
  },
  {
   "cell_type": "code",
   "execution_count": 21,
   "metadata": {},
   "outputs": [
    {
     "name": "stdout",
     "output_type": "stream",
     "text": [
      "Interactive namespace is empty.\n"
     ]
    }
   ],
   "source": [
    "whos"
   ]
  },
  {
   "cell_type": "code",
   "execution_count": 22,
   "metadata": {},
   "outputs": [],
   "source": [
    "names = 'Mingming Stephanie Lina  Matthew Sunny'.split()\n",
    "names = [name.lower() for name in names]"
   ]
  },
  {
   "cell_type": "code",
   "execution_count": 23,
   "metadata": {},
   "outputs": [
    {
     "name": "stdout",
     "output_type": "stream",
     "text": [
      "Variable   Type    Data/Info\n",
      "----------------------------\n",
      "names      list    n=5\n"
     ]
    }
   ],
   "source": [
    "whos"
   ]
  },
  {
   "cell_type": "markdown",
   "metadata": {},
   "source": [
    "☝ no `name` variable in the namespace"
   ]
  },
  {
   "cell_type": "markdown",
   "metadata": {},
   "source": [
    "We can also add conditional logic to list comprehensions."
   ]
  },
  {
   "cell_type": "code",
   "execution_count": 24,
   "metadata": {},
   "outputs": [
    {
     "data": {
      "text/plain": [
       "[0.24537087466874774,\n",
       " 0.3193233230651421,\n",
       " 0.012005343299988258,\n",
       " 0.19465931444937912]"
      ]
     },
     "execution_count": 24,
     "metadata": {},
     "output_type": "execute_result"
    }
   ],
   "source": [
    "from random import random\n",
    "\n",
    "values = [random() for _ in range(20)]\n",
    "\n",
    "threshold = .35\n",
    "results = []\n",
    "for v in values:\n",
    "    if v < threshold:\n",
    "        results.append(v)\n",
    "        \n",
    "results"
   ]
  },
  {
   "cell_type": "code",
   "execution_count": 25,
   "metadata": {},
   "outputs": [
    {
     "data": {
      "text/plain": [
       "[0.1781961880762678,\n",
       " 0.05958106081753256,\n",
       " 0.014316394156019596,\n",
       " 0.24634998180880652,\n",
       " 0.3346719709839717]"
      ]
     },
     "execution_count": 25,
     "metadata": {},
     "output_type": "execute_result"
    }
   ],
   "source": [
    "values = [random() for _ in range(20)]\n",
    "results = [value for value in values if value < threshold]\n",
    "results"
   ]
  },
  {
   "cell_type": "markdown",
   "metadata": {},
   "source": [
    "Comprehension are very useful in data science for data cleaning. \n",
    "\n",
    "Comprehensions (list, set, dict, or even generator expressions) are easy ways to make complete passes over the data to improve quality of the data."
   ]
  },
  {
   "cell_type": "code",
   "execution_count": 26,
   "metadata": {},
   "outputs": [
    {
     "data": {
      "text/plain": [
       "[1, 9, 144]"
      ]
     },
     "execution_count": 26,
     "metadata": {},
     "output_type": "execute_result"
    }
   ],
   "source": [
    "# Remove all zeros and square numbers\n",
    "nums = [0, 1, 0, 3, 12, 0] \n",
    "nums = [n**2 for n in nums if n != 0]\n",
    "nums"
   ]
  },
  {
   "cell_type": "markdown",
   "metadata": {},
   "source": [
    "Naming lists\n",
    "-----"
   ]
  },
  {
   "cell_type": "code",
   "execution_count": 34,
   "metadata": {},
   "outputs": [
    {
     "ename": "SyntaxError",
     "evalue": "can't assign to literal (<ipython-input-34-262f173add37>, line 4)",
     "output_type": "error",
     "traceback": [
      "\u001b[0;36m  File \u001b[0;32m\"<ipython-input-34-262f173add37>\"\u001b[0;36m, line \u001b[0;32m4\u001b[0m\n\u001b[0;31m    1 = [] # Number 1 list\u001b[0m\n\u001b[0m                          ^\u001b[0m\n\u001b[0;31mSyntaxError\u001b[0m\u001b[0;31m:\u001b[0m can't assign to literal\n"
     ]
    }
   ],
   "source": [
    "# Don't name a list with just 'l', it looks too much like '1'\n",
    "l = [] #  Letter l list"
   ]
  },
  {
   "cell_type": "code",
   "execution_count": null,
   "metadata": {},
   "outputs": [],
   "source": [
    "# Technically you can't name it 1 but still don't use just l\n",
    "1 = [] # Number 1 list"
   ]
  },
  {
   "cell_type": "markdown",
   "metadata": {},
   "source": [
    "Try to name a list with a specific plural"
   ]
  },
  {
   "cell_type": "code",
   "execution_count": 36,
   "metadata": {},
   "outputs": [],
   "source": [
    "nums = []\n",
    "names = []\n",
    "colors = []\n",
    "fruit = []"
   ]
  },
  {
   "cell_type": "markdown",
   "metadata": {},
   "source": [
    "<center><h2>Student Activity</h2></center>\n",
    "\n",
    "1. Write a list comp to remove all negative numbers:   \n",
    "    `spend = [0, 0, 0, 42, 1, .25, -1, 0, 0]`\n",
    "<br><br>\n",
    "1. Write a list comp to remove all `None`:   \n",
    "    `conversions = [0, 0, 0, 1, 1, 0, 0, None, 0, 0, 0, 1, 1, None]`\n",
    "<br><br>\n",
    "1. Write a list comp to remove all words that start 'a', upper-case remaining words:  \n",
    "    `stop_words = ['a', 'an', 'and', 'in', 'is', 'of', 'or', 'that', 'the', 'to']`\n",
    "<br><br>\n",
    "1. Given a matrix (list-of-lists), transpose it. Transpose can be done many ways:\n",
    "\n",
    "    1. List comprehension\n",
    "    2. Functional sandwich.   \n",
    "   `transpose([[1, 2, 3], [4, 5, 6]]) == [(1, 4), (2, 5), (3, 6)]`"
   ]
  },
  {
   "cell_type": "code",
   "execution_count": 32,
   "metadata": {},
   "outputs": [
    {
     "data": {
      "text/plain": [
       "[0, 0, 0, 42, 1, 0.25, 0, 0]"
      ]
     },
     "execution_count": 32,
     "metadata": {},
     "output_type": "execute_result"
    }
   ],
   "source": [
    "spend = [0, 0, 0, 42, 1, .25, -1, 0, 0]\n",
    "[s for s in spend if s >= 0] \n"
   ]
  },
  {
   "cell_type": "code",
   "execution_count": 33,
   "metadata": {},
   "outputs": [
    {
     "data": {
      "text/plain": [
       "[0, 0, 0, 1, 1, 0, 0, 0, 0, 0, 1, 1]"
      ]
     },
     "execution_count": 33,
     "metadata": {},
     "output_type": "execute_result"
    }
   ],
   "source": [
    "conversions = [0, 0, 0, 1, 1, 0, 0, None, 0, 0, 0, 1, 1, None]\n",
    "[c for c in conversions if c is not None] \n"
   ]
  },
  {
   "cell_type": "code",
   "execution_count": 29,
   "metadata": {},
   "outputs": [
    {
     "data": {
      "text/plain": [
       "['IN', 'IS', 'OF', 'OR', 'THAT', 'THE', 'TO']"
      ]
     },
     "execution_count": 29,
     "metadata": {},
     "output_type": "execute_result"
    }
   ],
   "source": [
    "stop_words = ['a', 'an', 'and', 'in', 'is', 'of', 'or', 'that', 'the', 'to']\n",
    "[word.upper() for word in stop_words if not word.startswith('a')]"
   ]
  },
  {
   "cell_type": "code",
   "execution_count": 53,
   "metadata": {},
   "outputs": [],
   "source": [
    "matrix = [[1, 2, 3], [4, 5, 6]]"
   ]
  },
  {
   "cell_type": "code",
   "execution_count": 55,
   "metadata": {},
   "outputs": [
    {
     "data": {
      "text/plain": [
       "[[1, 4], [2, 5], [3, 6]]"
      ]
     },
     "execution_count": 55,
     "metadata": {},
     "output_type": "execute_result"
    }
   ],
   "source": [
    "[[row[i] for row in matrix] \n",
    "     for i, _ in enumerate(matrix[0])]"
   ]
  },
  {
   "cell_type": "code",
   "execution_count": 48,
   "metadata": {},
   "outputs": [
    {
     "data": {
      "text/plain": [
       "[[1, 4], [2, 5], [3, 6]]"
      ]
     },
     "execution_count": 48,
     "metadata": {},
     "output_type": "execute_result"
    }
   ],
   "source": [
    "[list(row) for row in zip(*matrix)]"
   ]
  },
  {
   "cell_type": "code",
   "execution_count": 49,
   "metadata": {},
   "outputs": [
    {
     "data": {
      "text/plain": [
       "[(1, 4), (2, 5), (3, 6)]"
      ]
     },
     "execution_count": 49,
     "metadata": {},
     "output_type": "execute_result"
    }
   ],
   "source": [
    "list(zip(*matrix))"
   ]
  },
  {
   "cell_type": "markdown",
   "metadata": {},
   "source": [
    "<center><h2>Summary</h2></center>\n",
    "\n",
    "- List are a mutable ordered collection of heterogeneous items.\n",
    "- List have useful methods:\n",
    "    + `list.count`, `list.append`, `list.extend`, `list.sort`, `list.copy`\n",
    "- If the input and outputs are a list, use a list comprehension."
   ]
  },
  {
   "cell_type": "markdown",
   "metadata": {},
   "source": [
    " "
   ]
  },
  {
   "cell_type": "markdown",
   "metadata": {},
   "source": [
    "Bonus Material\n",
    "-----"
   ]
  },
  {
   "cell_type": "code",
   "execution_count": 31,
   "metadata": {},
   "outputs": [
    {
     "data": {
      "text/plain": [
       "[67, 56, 61.5]"
      ]
     },
     "execution_count": 31,
     "metadata": {},
     "output_type": "execute_result"
    }
   ],
   "source": [
    "# Extra commaas don't matter\n",
    "scores = [67, 56, 61.5, ]\n",
    "scores"
   ]
  },
  {
   "cell_type": "markdown",
   "metadata": {},
   "source": [
    " "
   ]
  }
 ],
 "metadata": {
  "kernelspec": {
   "display_name": "Python 3",
   "language": "python",
   "name": "python3"
  },
  "language_info": {
   "codemirror_mode": {
    "name": "ipython",
    "version": 3
   },
   "file_extension": ".py",
   "mimetype": "text/x-python",
   "name": "python",
   "nbconvert_exporter": "python",
   "pygments_lexer": "ipython3",
   "version": "3.7.3"
  },
  "toc": {
   "base_numbering": 1,
   "nav_menu": {},
   "number_sections": false,
   "sideBar": false,
   "skip_h1_title": false,
   "title_cell": "Table of Contents",
   "title_sidebar": "Contents",
   "toc_cell": true,
   "toc_position": {},
   "toc_section_display": true,
   "toc_window_display": false
  }
 },
 "nbformat": 4,
 "nbformat_minor": 2
}
