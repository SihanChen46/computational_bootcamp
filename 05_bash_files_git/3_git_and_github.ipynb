{
 "cells": [
  {
   "cell_type": "markdown",
   "metadata": {
    "toc": true
   },
   "source": [
    "<h1>Table of Contents<span class=\"tocSkip\"></span></h1>\n",
    "<div class=\"toc\"><ul class=\"toc-item\"><li><span><a href=\"#git-&amp;-GitHub\" data-toc-modified-id=\"git-&amp;-GitHub-1\">git &amp; GitHub</a></span></li><li><span><a href=\"#Learning-Outcomes\" data-toc-modified-id=\"Learning-Outcomes-2\">Learning Outcomes</a></span><ul class=\"toc-item\"><li><ul class=\"toc-item\"><li><span><a href=\"#By-the-end-of-this-session,-you-should-be-able-to:\" data-toc-modified-id=\"By-the-end-of-this-session,-you-should-be-able-to:-2.0.1\">By the end of this session, you should be able to:</a></span></li></ul></li></ul></li><li><span><a href=\"#Why-do-we-need-git?\" data-toc-modified-id=\"Why-do-we-need-git?-3\">Why do we need <code>git</code>?</a></span></li><li><span><a href=\"#Introduction-to-revision-control\" data-toc-modified-id=\"Introduction-to-revision-control-4\">Introduction to revision control</a></span></li><li><span><a href=\"#Initializing-a-Git-Repository-Locally-\" data-toc-modified-id=\"Initializing-a-Git-Repository-Locally--5\">Initializing a Git Repository Locally </a></span></li><li><span><a href=\"#Let's-play-around-with-git\" data-toc-modified-id=\"Let's-play-around-with-git-6\">Let's play around with git</a></span></li><li><span><a href=\"#Tracking-changes\" data-toc-modified-id=\"Tracking-changes-7\">Tracking changes</a></span></li><li><span><a href=\"#How-programmers-work\" data-toc-modified-id=\"How-programmers-work-8\">How programmers work</a></span></li><li><span><a href=\"#Why-GitHub?\" data-toc-modified-id=\"Why-GitHub?-9\">Why GitHub?</a></span></li><li><span><a href=\"#Using-other-people's-code-from-GitHub\" data-toc-modified-id=\"Using-other-people's-code-from-GitHub-10\">Using other people's code from GitHub</a></span></li><li><span><a href=\"#Working-with-github.com\" data-toc-modified-id=\"Working-with-github.com-11\">Working with github.com</a></span></li><li><span><a href=\"#Should-I-the-app-or-CLI?\" data-toc-modified-id=\"Should-I-the-app-or-CLI?-12\">Should I the app or CLI?</a></span></li><li><span><a href=\"#Summary\" data-toc-modified-id=\"Summary-13\">Summary</a></span></li><li><span><a href=\"#Make-a-new-repo\" data-toc-modified-id=\"Make-a-new-repo-14\">Make a new repo</a></span></li><li><span><a href=\"#Bonus-Material\" data-toc-modified-id=\"Bonus-Material-15\">Bonus Material</a></span></li><li><span><a href=\"#What-is-the-difference-between-clone-and-fork?\" data-toc-modified-id=\"What-is-the-difference-between-clone-and-fork?-16\">What is the difference between clone and fork?</a></span></li><li><span><a href=\"#Do-not-put-the-following-under-version-control:\" data-toc-modified-id=\"Do-not-put-the-following-under-version-control:-17\">Do not put the following under version control:</a></span></li><li><span><a href=\"#Brian's-Guide-to-Troubleshooting\" data-toc-modified-id=\"Brian's-Guide-to-Troubleshooting-18\">Brian's Guide to Troubleshooting</a></span><ul class=\"toc-item\"><li><span><a href=\"#Setting-Up\" data-toc-modified-id=\"Setting-Up-18.1\">Setting Up</a></span></li><li><span><a href=\"#Other-commands\" data-toc-modified-id=\"Other-commands-18.2\">Other commands</a></span></li><li><span><a href=\"#if-broken\" data-toc-modified-id=\"if-broken-18.3\">if broken</a></span></li><li><span><a href=\"#Other-Tips\" data-toc-modified-id=\"Other-Tips-18.4\">Other Tips</a></span></li></ul></li><li><span><a href=\"#Further-Study\" data-toc-modified-id=\"Further-Study-19\">Further Study</a></span></li></ul></div>"
   ]
  },
  {
   "cell_type": "markdown",
   "metadata": {},
   "source": [
    "<center><h2>git & GitHub</h2></center>\n",
    "\n",
    "<center><img src=\"https://imgs.xkcd.com/comics/git.png\" width=\"35%\"/></center>"
   ]
  },
  {
   "cell_type": "markdown",
   "metadata": {},
   "source": [
    "<center><h2>Learning Outcomes</h2></center>\n",
    "\n",
    "#### By the end of this session, you should be able to:\n",
    "\n",
    "- Explain in your words why we use git and GitHub.\n",
    "- Draw git and GitHub workflow.\n",
    "- Use fundamental git commands to manage a repository."
   ]
  },
  {
   "cell_type": "markdown",
   "metadata": {},
   "source": [
    "Why do we need `git`?\n",
    "------\n",
    "\n",
    "`git` is how groups of people can work on the same code without messing up each others work.\n",
    "\n",
    "For example, Google has most of their code is a single repo (aka, code repository) that most developers have access to. A revision control, like `git`, allow them to work at it at the same time in a distributed locations without fear of losing work or overwriting colleagues work.\n",
    "\n",
    "Even though I do course development on my own I still use `git` so I never loss any work. I could teach from any computer connected to the internet.\n",
    "\n",
    "It is a safety net:\n",
    "\n",
    "- Roll back mistakes\n",
    "- Explore new ideas safely\n",
    "- Backup work!\n",
    "\n",
    "It is the standard tool for reproducible research and sharing results.\n",
    "\n",
    "When you work in industry, you'll be excepted to know and use `git`.\n",
    "\n",
    "Unprofessional not to use git (even though I know Computer Science professor who have lost their work because they did not use git)\n"
   ]
  },
  {
   "cell_type": "markdown",
   "metadata": {},
   "source": [
    "Introduction to revision control\n",
    "----\n",
    "\n",
    "Let me start out with a small detour …\n",
    "\n",
    "Imagine forgetting your laptop on BART. Where will all your work be? Gone if it is not backup externally.\n",
    "\n",
    "Personally, I have a local Timemachine.app on macOS that backups to a hard drive sitting next to my computer that takes a snapshot every hour. It tracks the differences from the previous snapshot, rather than copying the entire hard drive again (slow/wasteful). \n",
    "\n",
    "I also have a off-site cloud-based backup, Google Drive, that gets backed up when I go to sleep at night.  \n",
    "\n",
    "Using this multi-tiered backup strategy is a good way to think about how programmers use revision control. `git` is kind of like Time Machine, a local backup, and github.com is kind of like the off-site cloud-based backup. \n",
    "\n",
    "The difference between a revision control system and a backup system is that we instruct the revision control system **when** to take a snapshot. Each snapshot should be a logical chunk of work done to the files. A backup system automatically takes snapshots.\n",
    "\n",
    "Not only do we tell a revision control system when to take a snapshot, we also tell it **what** to snapshot.  Each project you work on is in a directory and all of the files associated with that project sit somewhere in that subtree. The file set is called a *repository* and at any given time, my computer has lots and lots of these repositories. "
   ]
  },
  {
   "cell_type": "markdown",
   "metadata": {},
   "source": [
    "Initializing a Git Repository Locally \n",
    "-----"
   ]
  },
  {
   "cell_type": "code",
   "execution_count": 1,
   "metadata": {},
   "outputs": [],
   "source": [
    "! open workflow-of-version-control.pdf"
   ]
  },
  {
   "cell_type": "markdown",
   "metadata": {},
   "source": [
    "A `git` repository is a __local__ collection of files.\n",
    "\n",
    "Git keeps track of the state of the files in the  repository's directory on disk. \n",
    "\n",
    "There are two different ways to create a new repository:\n",
    "\n",
    "1. Initializing an empty, new local repository\n",
    "1. Downloading another repository\n",
    "\n",
    "A `git` repository instance is just a directory on your disk but it also has a `.git` (hidden) directory. This directory holds a complete database of everything that's happened to the repository since it was created with `git init` (or since you `clone`'d it from github). \n",
    "\n",
    "Every repository instance is a complete copy so each person has a complete copy of this course (You really have to trust people to use git since they have a complete copy of all your code).\n",
    "\n"
   ]
  },
  {
   "cell_type": "markdown",
   "metadata": {},
   "source": [
    "<center><img src=\"images/git_workflow.png\" width=\"75%\"/></center>"
   ]
  },
  {
   "cell_type": "markdown",
   "metadata": {},
   "source": [
    "Let's play around with git\n",
    "---"
   ]
  },
  {
   "cell_type": "code",
   "execution_count": 2,
   "metadata": {},
   "outputs": [
    {
     "name": "stdout",
     "output_type": "stream",
     "text": [
      "usage: git [--version] [--help] [-C <path>] [-c <name>=<value>]\r\n",
      "           [--exec-path[=<path>]] [--html-path] [--man-path] [--info-path]\r\n",
      "           [-p | --paginate | -P | --no-pager] [--no-replace-objects] [--bare]\r\n",
      "           [--git-dir=<path>] [--work-tree=<path>] [--namespace=<name>]\r\n",
      "           <command> [<args>]\r\n",
      "\r\n",
      "These are common Git commands used in various situations:\r\n",
      "\r\n",
      "start a working area (see also: git help tutorial)\r\n",
      "   clone      Clone a repository into a new directory\r\n",
      "   init       Create an empty Git repository or reinitialize an existing one\r\n",
      "\r\n",
      "work on the current change (see also: git help everyday)\r\n",
      "   add        Add file contents to the index\r\n",
      "   mv         Move or rename a file, a directory, or a symlink\r\n",
      "   reset      Reset current HEAD to the specified state\r\n",
      "   rm         Remove files from the working tree and from the index\r\n",
      "\r\n",
      "examine the history and state (see also: git help revisions)\r\n",
      "   bisect     Use binary search to find the commit that introduced a bug\r\n",
      "   grep       Print lines matching a pattern\r\n",
      "   log        Show commit logs\r\n",
      "   show       Show various types of objects\r\n",
      "   status     Show the working tree status\r\n",
      "\r\n",
      "grow, mark and tweak your common history\r\n",
      "   branch     List, create, or delete branches\r\n",
      "   checkout   Switch branches or restore working tree files\r\n",
      "   commit     Record changes to the repository\r\n",
      "   diff       Show changes between commits, commit and working tree, etc\r\n",
      "   merge      Join two or more development histories together\r\n",
      "   rebase     Reapply commits on top of another base tip\r\n",
      "   tag        Create, list, delete or verify a tag object signed with GPG\r\n",
      "\r\n",
      "collaborate (see also: git help workflows)\r\n",
      "   fetch      Download objects and refs from another repository\r\n",
      "   pull       Fetch from and integrate with another repository or a local branch\r\n",
      "   push       Update remote refs along with associated objects\r\n",
      "\r\n",
      "'git help -a' and 'git help -g' list available subcommands and some\r\n",
      "concept guides. See 'git help <command>' or 'git help <concept>'\r\n",
      "to read about a specific subcommand or concept.\r\n"
     ]
    }
   ],
   "source": [
    "! git"
   ]
  },
  {
   "cell_type": "code",
   "execution_count": 3,
   "metadata": {},
   "outputs": [
    {
     "name": "stdout",
     "output_type": "stream",
     "text": [
      "On branch master\r\n",
      "Changes not staged for commit:\r\n",
      "  (use \"git add/rm <file>...\" to update what will be committed)\r\n",
      "  (use \"git checkout -- <file>...\" to discard changes in working directory)\r\n",
      "\r\n",
      "\t\u001b[31mdeleted:    my_file.txt\u001b[m\r\n",
      "\r\n",
      "Untracked files:\r\n",
      "  (use \"git add <file>...\" to include in what will be committed)\r\n",
      "\r\n",
      "\t\u001b[31m.ipynb_checkpoints/\u001b[m\r\n",
      "\t\u001b[31m1_command_line.ipynb\u001b[m\r\n",
      "\t\u001b[31m2_file_handling_in_python.ipynb\u001b[m\r\n",
      "\t\u001b[31m3_git_and_github.ipynb\u001b[m\r\n",
      "\t\u001b[31mCLI_Cheat_Sheet.pdf alias\u001b[m\r\n",
      "\t\u001b[31mimages/\u001b[m\r\n",
      "\t\u001b[31minstructor/\u001b[m\r\n",
      "\t\u001b[31mprimes.txt\u001b[m\r\n",
      "\t\u001b[31mreadme.md\u001b[m\r\n",
      "\t\u001b[31mstudents.txt\u001b[m\r\n",
      "\t\u001b[31mworkflow-of-version-control.pdf\u001b[m\r\n",
      "\r\n",
      "no changes added to commit (use \"git add\" and/or \"git commit -a\")\r\n"
     ]
    }
   ],
   "source": [
    "! git status"
   ]
  },
  {
   "cell_type": "markdown",
   "metadata": {},
   "source": [
    "Tracking changes\n",
    "----\n",
    "\n",
    "As with the Time Machine backup, git tracks snapshots as the difference from the last time you requested a snapshot.  Each snapshot is called a *commit* (and programmers think of these commits as *transactions*.) You should request a commit to lock in a logical chunk of work, such as the addition of a feature or fixing of a bug. \n",
    "\n",
    "Having a complete list of changes is extremely useful. You can go back and look at changes made to the repository for any commit. I find it very important to look back at recent commits to see what changes have introduced a bug. Sometimes I decide to abandon a small piece of what's going on and flip a file back to an old version. If you go down a wrong path and would like to revert all those changes, git can easily do that. It can even reset the repository to the state of some earlier commit."
   ]
  },
  {
   "cell_type": "markdown",
   "metadata": {},
   "source": [
    "How programmers work\n",
    "-----\n",
    "\n",
    "Stage changes as you work and commit them to the local repo when you are ready:\n",
    "\n",
    "- Implement your great ideas\n",
    "- `$ git status` # Check state of workspace and cache\n",
    "- `$ git add genius.ipynb` # Stage genius.py to commit to repo \n",
    "- `$ git status`  # Check state of workspace and cache\n",
    "- `$ git commit -m 'Implement orbital mind control laser'`"
   ]
  },
  {
   "cell_type": "markdown",
   "metadata": {},
   "source": [
    "Why GitHub?\n",
    "----\n",
    "\n",
    "While `git` is a distributed version control system, Github is a hosting service for Git repositories. Another way of looking at this is that Github is a hosting service for projects that use Git. \n",
    "\n",
    "GitHub makes it easy to share code. Github allows us to share our projects with other people, and to allow other people to collaborate with us on our projects. \n",
    "\n",
    "We interact with `git` locally on our labtops/desktops, whereas we interact with Github through our web browser.\n",
    "\n",
    "`git` is open soucre software. GitHub is a company (owned by Microsoft). \n",
    "\n"
   ]
  },
  {
   "cell_type": "markdown",
   "metadata": {},
   "source": [
    "<center><img src=\"images/local.png\" width=\"35%\"/></center>"
   ]
  },
  {
   "cell_type": "markdown",
   "metadata": {},
   "source": [
    "Using other people's code from GitHub\n",
    "-----\n",
    "\n",
    "<center><img src=\"images/github_workflow_1.png\" width=\"75%\"/></center>"
   ]
  },
  {
   "cell_type": "markdown",
   "metadata": {},
   "source": [
    "Working with github.com\n",
    "-----\n",
    "\n",
    "Continuing with the analogy now, github.com is like the off-site cloud-based backup I use. We will typically keep a complete copy of our local repositories at github.com. As with committing changes, we also have to specifically *push* the local repository to github. Every push ensures that the complete file set and git change database (in .git subdirectory) is mirrored at github.  As a side effect of this, of course, you now have a backup of your work. The loss of your laptop is not catastrophic, at least as far as your coursework is concerned.\n",
    "\n",
    "The reason to use github is that others can also access your repositories without access to your laptop hard drive. You make changes, they can *pull* those in. Someone else might also edit the code and then *push* the copy of the repository back to github and then you can *pull* those changes back to your hard drive. Everything will be in sync and it will not overwrite changes by mistake. This is how multiple programmers communicate.\n",
    "\n",
    "It's also the case that you can use github.com to work on the same software on two different computers, such as a laptop and a desktop.  Having two computers with the same software means they have copies. That introduces the possibility that you will overwrite the correct/latest version of your software. Or, you will forget that you had made changes on your laptop but have now made a bunch of changes on your desktop.  You have changes on two different computers. Resolving things can be tricky and error-prone so we use push/pull to github to keep things in sync."
   ]
  },
  {
   "cell_type": "markdown",
   "metadata": {},
   "source": [
    "Should I the app or CLI?\n",
    "-----\n",
    "\n",
    "You should use the CLI to get comfortable with it (Otherwise the app will be a crutch).\n",
    "\n",
    "Then it is your choice. Personally, I use the app 99.99% of the time because it is faster and easier. I can still drop into the CLI to do something complex."
   ]
  },
  {
   "cell_type": "markdown",
   "metadata": {},
   "source": [
    "Summary\n",
    "-----\n",
    "\n",
    "- Version control is important - backups work and allow you more freedom to experiment.\n",
    "- `git` manages local files in a repo.\n",
    "- `GitHub` manages remote files.\n",
    "- There are handful of important commands (add, commit, fetch).\n",
    "- There are many other commands to learn later."
   ]
  },
  {
   "cell_type": "markdown",
   "metadata": {},
   "source": [
    "Make a new repo\n",
    "----"
   ]
  },
  {
   "cell_type": "markdown",
   "metadata": {},
   "source": [
    "Bonus Material\n",
    "-----"
   ]
  },
  {
   "cell_type": "code",
   "execution_count": 4,
   "metadata": {},
   "outputs": [],
   "source": [
    "# # Run these in Desktop folder (You can't put a git repo inside of another git repo)\n",
    "# %%bash\n",
    "\n",
    "# git init my_new_repo # Initialize a new git repository called my_new_repo. \n",
    "# git init # Initialize the current directory to be a git repository. \n",
    "\n",
    "# git status # Will give you the the status of your repository (i.e. what \n",
    "#            # files have been modified/created/added since your last commit). \n",
    "# touch my_file.txt # Make a new file\n",
    "# git add my_file.txt # Add the file my_file.txt to the staging area. \n",
    "# git commit -m 'Commit first file' # Commit all files in the index staging area with"
   ]
  },
  {
   "cell_type": "markdown",
   "metadata": {},
   "source": [
    "What is the difference between clone and fork?\n",
    "-----\n",
    "\n",
    "\n",
    "A fork is a copy of a repository that allows you to freely experiment with changes without affecting the original project. Forks take a lot more work to update than clones. A fork takes multiple commands. And not surprising, fork are more frequently out-of-date.    \n",
    "\n",
    "You can clone your repository to create a local copy on your computer so that you can sync between both the local and remote locations of the project. Unlike forking, you won't be able to pull down changes from the original repository you cloned from, and if the project is owned by someone else you won't be able to contribute back to it unless you are specifically invited as a collaborator. Cloning is ideal for instances when you need a way to quickly get your own copy of a repository where you may not be contributing to the original project. A clone can be updated with a simple `git fetch`. \n",
    "\n",
    "Sources:\n",
    "\n",
    "- https://github.community/t5/Support-Protips/The-difference-between-forking-and-cloning-a-repository/ba-p/1372\n",
    "- https://stackoverflow.com/questions/7057194/what-is-the-difference-between-forking-and-cloning-on-github\n",
    "- https://opensource.com/article/17/12/fork-clone-difference"
   ]
  },
  {
   "cell_type": "markdown",
   "metadata": {},
   "source": [
    "Do not put the following under version control:\n",
    "-----\n",
    "\n",
    "- Large files: data, images, .pdf (e.g., lecture slides)\n",
    "- Non-text: binaries, .doc, .xls"
   ]
  },
  {
   "cell_type": "markdown",
   "metadata": {},
   "source": [
    "Brian's Guide to Troubleshooting\n",
    "------\n",
    "\n",
    "### Setting Up\n",
    " \n",
    "https://help.github.com/articles/configuring-a-remote-for-a-fork/\n",
    "\n",
    "https://help.github.com/articles/syncing-a-fork/\n",
    "\n",
    "\n",
    "### Other commands\n",
    "\n",
    "```bash\n",
    "# Put items to the side\n",
    "git stash\n",
    "\n",
    "\n",
    "# get all update from remote\n",
    "git reset --hard origin/master\n",
    "```\n",
    "\n",
    "### if broken\n",
    "\n",
    "Honestly that is the best way:\n",
    "https://imgs.xkcd.com/comics/git.png\n",
    "\n",
    "If there are many files:\n",
    "\n",
    "`git fetch upstream`  \n",
    "`git reset --hard upstream/master`  \n",
    "\n",
    "https://github.com/k88hudson/git-flight-rules\n",
    "\n",
    "\n",
    "### Other Tips\n",
    "\n",
    "- https://citizen428.net/10-common-git-problems-and-how-to-fix-them-e8d809299f08\n",
    "- https://help.github.com/articles/fetching-a-remote/\n",
    "- clones vs fork\n",
    "- change names for any files you modifty *_\n",
    "- just pull"
   ]
  },
  {
   "cell_type": "markdown",
   "metadata": {},
   "source": [
    "Further Study\n",
    "------\n",
    "\n",
    "- Interactive [git \"game\"](https://github.com/git-game/git-game) to help you learn. \n",
    "- There are lots of [course materials](https://lab.github.com/courses) on the web\n",
    "- https://swcarpentry.github.io/git-novice/\n",
    "- https://www.dataquest.io/blog/tutorial-introduction-learn-git-github\n",
    "- If things are messed-up [here](https://ohshitgit.com/)"
   ]
  },
  {
   "cell_type": "markdown",
   "metadata": {},
   "source": [
    " "
   ]
  }
 ],
 "metadata": {
  "kernelspec": {
   "display_name": "Python 3",
   "language": "python",
   "name": "python3"
  },
  "language_info": {
   "codemirror_mode": {
    "name": "ipython",
    "version": 3
   },
   "file_extension": ".py",
   "mimetype": "text/x-python",
   "name": "python",
   "nbconvert_exporter": "python",
   "pygments_lexer": "ipython3",
   "version": "3.7.3"
  },
  "toc": {
   "base_numbering": 1,
   "nav_menu": {},
   "number_sections": false,
   "sideBar": false,
   "skip_h1_title": false,
   "title_cell": "Table of Contents",
   "title_sidebar": "Contents",
   "toc_cell": true,
   "toc_position": {},
   "toc_section_display": true,
   "toc_window_display": false
  }
 },
 "nbformat": 4,
 "nbformat_minor": 2
}
