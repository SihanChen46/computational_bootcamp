{
 "cells": [
  {
   "cell_type": "markdown",
   "metadata": {
    "toc": true
   },
   "source": [
    "<h1>Table of Contents<span class=\"tocSkip\"></span></h1>\n",
    "<div class=\"toc\"><ul class=\"toc-item\"><li><span><a href=\"#Learning-Outcomes\" data-toc-modified-id=\"Learning-Outcomes-1\">Learning Outcomes</a></span><ul class=\"toc-item\"><li><ul class=\"toc-item\"><li><span><a href=\"#By-the-end-of-this-session,-you-should-be-able-to:\" data-toc-modified-id=\"By-the-end-of-this-session,-you-should-be-able-to:-1.0.1\">By the end of this session, you should be able to:</a></span></li></ul></li></ul></li><li><span><a href=\"#Why-bash?\" data-toc-modified-id=\"Why-bash?-2\">Why bash?</a></span></li><li><span><a href=\"#Bash-is-hard\" data-toc-modified-id=\"Bash-is-hard-3\">Bash is hard</a></span></li><li><span><a href=\"#terminal.app-vs-iterm2\" data-toc-modified-id=\"terminal.app-vs-iterm2-4\">terminal.app vs iterm2</a></span></li><li><span><a href=\"#Navigating-the-file-system\" data-toc-modified-id=\"Navigating-the-file-system-5\">Navigating the file system</a></span></li><li><span><a href=\"#Absolute-and-relative-paths\" data-toc-modified-id=\"Absolute-and-relative-paths-6\">Absolute and relative paths</a></span></li><li><span><a href=\"#Student-Activity\" data-toc-modified-id=\"Student-Activity-7\">Student Activity</a></span></li><li><span><a href=\"#Starting-Applications\" data-toc-modified-id=\"Starting-Applications-8\">Starting Applications</a></span></li><li><span><a href=\"#Command-Line-arguments\" data-toc-modified-id=\"Command-Line-arguments-9\">Command Line arguments</a></span></li><li><span><a href=\"#Managing-software-with-brew\" data-toc-modified-id=\"Managing-software-with-brew-10\">Managing software with brew</a></span></li><li><span><a href=\"#Command-line-in-the-Jupyter-Notebook\" data-toc-modified-id=\"Command-line-in-the-Jupyter-Notebook-11\">Command line in the Jupyter Notebook</a></span></li><li><span><a href=\"#Summary\" data-toc-modified-id=\"Summary-12\">Summary</a></span></li><li><span><a href=\"#Bonus-Material\" data-toc-modified-id=\"Bonus-Material-13\">Bonus Material</a></span></li><li><span><a href=\"#Running-scripts\" data-toc-modified-id=\"Running-scripts-14\">Running scripts</a></span></li><li><span><a href=\"#Fun-at-the-Command-line\" data-toc-modified-id=\"Fun-at-the-Command-line-15\">Fun at the Command line</a></span></li><li><span><a href=\"#Further-Study\" data-toc-modified-id=\"Further-Study-16\">Further Study</a></span></li><li><span><a href=\"#Brian's-Bash-Profile\" data-toc-modified-id=\"Brian's-Bash-Profile-17\">Brian's Bash Profile</a></span></li><li><span><a href=\"#Creating-your-bash-profile\" data-toc-modified-id=\"Creating-your-bash-profile-18\">Creating your bash profile</a></span></li><li><span><a href=\"#Why-am-I-getting-command-not-found?\" data-toc-modified-id=\"Why-am-I-getting-command-not-found?-19\">Why am I getting <code>command not found</code>?</a></span></li><li><span><a href=\"#Unix-philosophy\" data-toc-modified-id=\"Unix-philosophy-20\">Unix philosophy</a></span></li><li><span><a href=\"#Next-set-of-commands-to-learn\" data-toc-modified-id=\"Next-set-of-commands-to-learn-21\">Next set of commands to learn</a></span></li><li><span><a href=\"#What-about-man-command?\" data-toc-modified-id=\"What-about-man-command?-22\">What about <code>man</code> command?</a></span></li><li><span><a href=\"#Why-aren't-you-teaching-us--x-command?\" data-toc-modified-id=\"Why-aren't-you-teaching-us--x-command?-23\">Why aren't you teaching us  <code>x</code> command?</a></span></li><li><span><a href=\"#bash-vs-zsh\" data-toc-modified-id=\"bash-vs-zsh-24\">bash vs zsh</a></span></li></ul></div>"
   ]
  },
  {
   "cell_type": "markdown",
   "metadata": {},
   "source": [
    "<center><h2>Learning Outcomes</h2></center>\n",
    "\n",
    "#### By the end of this session, you should be able to:\n",
    "\n",
    "- Explain in your own words what the command line interface (CLI) is and why it is useful for Data Science.\n",
    "- Navigate the file system with CLI.\n",
    "- Run programs at the CLI."
   ]
  },
  {
   "cell_type": "markdown",
   "metadata": {},
   "source": [
    "Why bash?\n",
    "-----\n",
    "\n",
    "We have been using GUI (graphic user interface) thus far. For example, GitHub Desktop app.\n",
    "\n",
    "Those work great but are limited in their functionality. Someone maintaining that software has add a button or dropdown menu for each option. \n",
    "\n",
    "The command line interface (CLI) allows us to:\n",
    "\n",
    "1. More directly control behavior of the computer \n",
    "1. Use more options when running applications\n",
    "1. Automate processes\n",
    "\n",
    "CLI is sometimes called:\n",
    "\n",
    "- shell\n",
    "- terminal\n",
    "- sh (Bourne Shell)\n",
    "- ksh (Korn Shell)\n",
    "- bash (Bourne-again shell)\n",
    "- csh (C shell)\n",
    "- tcsh\n",
    "- zsh\n",
    "\n",
    "Those are all subtly different, but those differences are not important to you right now."
   ]
  },
  {
   "cell_type": "markdown",
   "metadata": {},
   "source": [
    "Bash is hard\n",
    "------\n",
    "\n",
    "There are thousands of bash commands. As data scientists, we only really need to use a handful of bash commands.\n",
    "\n",
    "Data Science mostly uses bash for:\n",
    "\n",
    "- Navigating the file system\n",
    "- Starting applications\n",
    "- Working with git / GitHub\n",
    "- Using remote machines, aka the cloud\n",
    "\n",
    "We are going to focus on those uses for now. Learn the other parts as you need them."
   ]
  },
  {
   "cell_type": "markdown",
   "metadata": {},
   "source": [
    "terminal.app vs iterm2\n",
    "------\n",
    "\n",
    "terminal.app is built-in/ defulat terminal interface for MacOS. It is not very good.\n",
    "\n",
    "iterm2 is much better. Let's it.\n",
    "\n",
    "Everyone should open up iterm2 right now."
   ]
  },
  {
   "cell_type": "markdown",
   "metadata": {},
   "source": [
    "Navigating the file system\n",
    "----\n",
    "\n",
    "The 3 most important commands for navigating the file system:\n",
    "\n",
    "1. `pwd` - Stands for `print working directory`; Writes the full pathname of the current working directory to the terminal. It is where you are right now in the file system.\n",
    "2. `cd` - Stands for `change directory`; Changes location in directory structure.\n",
    "3. `ls` - Stands for `list`, aka \"list stuff\"; Displays the items in a directory.\n",
    "  \n",
    "-----\n",
    " \n",
    "1. `pwd` In a Unix-based operating system, files are organized in a tree-like pattern. The top directory in a filesystem is called the _root directory_.\n",
    "\n",
    "2. `cd` changes from one directory to another by simply placing\n",
    "the name of the directory you want to go to after the `cd` command. \n",
    "    - `cd ..` - change directory up one level\n",
    "\n",
    "3. `ls` allows you to list the files in the current directory or any directory placed after the `ls` command. \n",
    "\n",
    "Special directories aliases:\n",
    "\n",
    "- `/` root, the top-level directory\n",
    "- `~` your home directory\n",
    "- `.` the current directory\n",
    "- `..` the parent directory\n",
    "\n",
    "Directories contain files and other directories, with names separated by `/`\n",
    "\n",
    "\n",
    "\n",
    "Let's check out the CLI_Cheat_Sheet.pdf."
   ]
  },
  {
   "cell_type": "markdown",
   "metadata": {},
   "source": [
    "Absolute and relative paths\n",
    "----\n",
    "    \n",
    "- Absolute Paths\n",
    "    - Absolute paths start with `/` or `~`\n",
    "    - Start at the root directory and work your way down the tree.\n",
    "    - Your home directory has an absolute path of /Users/[yourAccountName] `cd /Users/brian`\n",
    "- Relative Paths\n",
    "    - Any path that doesn’t start with `/` or `~` is relative to your current working directory\n",
    "    - If you are in currently in home directory these two commands are equivalent\n",
    "\n",
    "\n",
    "    \n",
    "Absolute paths are easier to work and debug.\n",
    "\n",
    "Relative paths are more likely to have your code to work on other machines (including the cloud). \n",
    "\n",
    "Absolute path:  \n",
    "`$ ls /Users/brian/Desktop`  \n",
    "`$ ls ~/Desktop`\n",
    "\n",
    "Relative path assuming in user home directory:  \n",
    "`$ ls ./Desktop`"
   ]
  },
  {
   "cell_type": "markdown",
   "metadata": {},
   "source": [
    "Student Activity\n",
    "-----\n",
    "\n",
    "1. Find out where you are\n",
    "1. Navigate to your GitHub folder for this class\n",
    "\n",
    "Bonus points if you only use the command line."
   ]
  },
  {
   "cell_type": "code",
   "execution_count": null,
   "metadata": {},
   "outputs": [],
   "source": []
  },
  {
   "cell_type": "markdown",
   "metadata": {},
   "source": [
    "Starting Applications\n",
    "-----\n",
    "\n",
    "You can launch application from the CLI:\n",
    "\n",
    "`$ jupyter notebook $`\n",
    "\n",
    "\n"
   ]
  },
  {
   "cell_type": "markdown",
   "metadata": {},
   "source": [
    "Command Line arguments\n",
    "-----\n",
    "\n",
    "Most often called \"flags\".\n",
    "\n",
    "Can be combined\n",
    "\n",
    "Old school command line arguments are very terse.  \n",
    "Single-character options are preceded by `-`\n",
    "\n",
    "Modern command line arguments are more human readable.\n",
    "Full-word options are preceded by `--`\n",
    "\n",
    "\n",
    "` ls -a` - Means list \"stuff\" all of it.\n",
    " \n",
    "`$ jupyter notebook --browser=Chrome`\n",
    "\n",
    "Default to human readable.\n",
    "\n",
    "When I work on this course, I run the following commands:\n",
    "\n",
    "```bash\n",
    "$ cd ~/github/bootcamp-instructor/ \n",
    "$ jupyter notebook --browser=Chrome \n",
    "```"
   ]
  },
  {
   "cell_type": "markdown",
   "metadata": {},
   "source": [
    "Managing software with brew\n",
    "----\n",
    "\n",
    "`homebrew` is awesome. Install right after class [https://brew.sh/](https://brew.sh/)\n",
    "\n",
    "It allows you install CLI applications (and other applications) from the command line.\n"
   ]
  },
  {
   "cell_type": "code",
   "execution_count": 1,
   "metadata": {},
   "outputs": [],
   "source": [
    "# ! brew uninstall calc"
   ]
  },
  {
   "cell_type": "code",
   "execution_count": null,
   "metadata": {},
   "outputs": [],
   "source": [
    "# ! brew install calc"
   ]
  },
  {
   "cell_type": "code",
   "execution_count": 1,
   "metadata": {},
   "outputs": [
    {
     "name": "stdout",
     "output_type": "stream",
     "text": [
      "Updating Homebrew...\n",
      "\u001b[34m==>\u001b[0m \u001b[1mAuto-updated Homebrew!\u001b[0m\n",
      "Updated 4 taps (homebrew/cask-versions, homebrew/core, homebrew/cask and homebrew/bundle).\n",
      "\u001b[34m==>\u001b[0m \u001b[1mNew Formulae\u001b[0m\n",
      "cpl                                      tflint\n",
      "\u001b[34m==>\u001b[0m \u001b[1mUpdated Formulae\u001b[0m\n",
      "ask-cli                    ffmpeg@2.8                 rex\n",
      "binaryen                   fn                         rpm2cpio\n",
      "cake                       git-absorb                 rsyslog\n",
      "certbot                    glooctl                    rush\n",
      "cfssl                      gpgme                      scamper\n",
      "clojure                    haskell-stack              snakemake\n",
      "cmake                      hidapi                     stella\n",
      "cockroach                  imageoptim-cli             stress-ng\n",
      "contentful-cli             jenkins                    stuntman\n",
      "cpprestsdk                 jenkins-lts                topgrade\n",
      "curl                       libheif                    twine-pypi\n",
      "curl-openssl               libvpx                     txr\n",
      "deno                       liquibase                  vert.x\n",
      "digdag                     media-info                 vfuse\n",
      "direvent                   netlify-cli                vmtouch\n",
      "docker-credential-helper   newt                       webpack\n",
      "exploitdb                  pulumi                     wireshark\n",
      "faas-cli                   qmmp                       x265\n",
      "ffmpeg                     remarshal\n",
      "\n",
      "\u001b[33mWarning:\u001b[0m git 2.22.0_1 is already installed and up-to-date\n",
      "To reinstall 2.22.0_1, run `brew reinstall git`\n",
      "\u001b[33mWarning:\u001b[0m bash-completion 1.3_3 is already installed and up-to-date\n",
      "To reinstall 1.3_3, run `brew reinstall bash-completion`\n"
     ]
    }
   ],
   "source": [
    "# bash-completion is very convenient appp\n",
    "# ! brew install bash-completion "
   ]
  },
  {
   "cell_type": "code",
   "execution_count": 10,
   "metadata": {},
   "outputs": [],
   "source": [
    "# This is how Brian installs __all__ apps, including `postgres`. Nick may suggest something different. \n",
    "# ! brew install postgres"
   ]
  },
  {
   "cell_type": "markdown",
   "metadata": {},
   "source": [
    "Command line in the Jupyter Notebook\n",
    "----"
   ]
  },
  {
   "cell_type": "code",
   "execution_count": 3,
   "metadata": {},
   "outputs": [
    {
     "name": "stdout",
     "output_type": "stream",
     "text": [
      "\u001b[31m git to process.md\u001b[m\u001b[m              \u001b[34minstructor\u001b[m\u001b[m\r\n",
      "1_bash.ipynb                    \u001b[34mmy_new_repo\u001b[m\u001b[m\r\n",
      "2_file_handling_in_python.ipynb \u001b[31mprimes.txt\u001b[m\u001b[m\r\n",
      "3_git_and_github.ipynb          readme.md\r\n",
      "CLI_Cheat_Sheet.pdf alias       students.txt\r\n",
      "\u001b[34mimages\u001b[m\u001b[m                          workflow-of-version-control.pdf\r\n"
     ]
    }
   ],
   "source": [
    "! ls"
   ]
  },
  {
   "cell_type": "code",
   "execution_count": 4,
   "metadata": {},
   "outputs": [
    {
     "name": "stdout",
     "output_type": "stream",
     "text": [
      " git to process.md\n",
      "1_bash.ipynb\n",
      "2_file_handling_in_python.ipynb\n",
      "3_git_and_github.ipynb\n",
      "CLI_Cheat_Sheet.pdf alias\n",
      "images\n",
      "instructor\n",
      "my_new_repo\n",
      "primes.txt\n",
      "readme.md\n",
      "students.txt\n",
      "workflow-of-version-control.pdf\n"
     ]
    }
   ],
   "source": [
    "%%bash\n",
    "\n",
    "ls"
   ]
  },
  {
   "cell_type": "markdown",
   "metadata": {},
   "source": [
    "`! cd` does not work in Jupyter Notebook. \n",
    "\n",
    "`!` directly calls the operating system and does not change the notebook state."
   ]
  },
  {
   "cell_type": "code",
   "execution_count": 13,
   "metadata": {},
   "outputs": [
    {
     "name": "stdout",
     "output_type": "stream",
     "text": [
      "/Users/brian/github/bootcamp-instructor/05_bash_files_git\r\n"
     ]
    }
   ],
   "source": [
    "! pwd"
   ]
  },
  {
   "cell_type": "code",
   "execution_count": 14,
   "metadata": {},
   "outputs": [],
   "source": [
    "! cd .."
   ]
  },
  {
   "cell_type": "code",
   "execution_count": 15,
   "metadata": {},
   "outputs": [
    {
     "name": "stdout",
     "output_type": "stream",
     "text": [
      "/Users/brian/github/bootcamp-instructor/05_bash_files_git\r\n"
     ]
    }
   ],
   "source": [
    "! pwd"
   ]
  },
  {
   "cell_type": "markdown",
   "metadata": {},
   "source": [
    "Just `cd` does work in Jupyter Notebook\n",
    "\n",
    "`cd` calls IPython and changes the state of the notebook."
   ]
  },
  {
   "cell_type": "code",
   "execution_count": null,
   "metadata": {},
   "outputs": [],
   "source": [
    "pwd"
   ]
  },
  {
   "cell_type": "code",
   "execution_count": null,
   "metadata": {},
   "outputs": [],
   "source": [
    "cd .."
   ]
  },
  {
   "cell_type": "code",
   "execution_count": null,
   "metadata": {},
   "outputs": [],
   "source": [
    "pwd"
   ]
  },
  {
   "cell_type": "markdown",
   "metadata": {},
   "source": [
    "Summary\n",
    "-----\n",
    "\n",
    "- The command line use is required in tech. However, the command line is a strange, old language.\n",
    "- If possible, try to use Python. It is more readable and reproducible.\n",
    "- Learn the command bit-by-bit.\n",
    "- Start with navigating the file system.\n",
    "- Then install apps."
   ]
  },
  {
   "cell_type": "markdown",
   "metadata": {},
   "source": [
    "  "
   ]
  },
  {
   "cell_type": "markdown",
   "metadata": {},
   "source": [
    "Bonus Material\n",
    "----"
   ]
  },
  {
   "cell_type": "markdown",
   "metadata": {},
   "source": [
    "Running scripts\n",
    "-----\n",
    "\n",
    "Let's install the `env` for this class.\n",
    "\n",
    "At the command line, navigate to the resources folder.\n",
    "\n",
    "then run the script:\n",
    "\n",
    "`$ sh setup.sh`\n",
    "\n",
    "Do __not__ run random shell scripts. Scripting can be powerful, thus potentially destructive. Please read and understand them completely before running."
   ]
  },
  {
   "cell_type": "markdown",
   "metadata": {},
   "source": [
    "Fun at the Command line\n",
    "----\n",
    "\n",
    "Matrix-movie screen saver. Press 'q' to stop\n",
    "\n",
    "`$ cmatrix`\n",
    "\n",
    "Play Star Wars IV: A New Hope at the command line\n",
    "\n",
    "`$  telnet towel.blinkenlights.nl`"
   ]
  },
  {
   "cell_type": "markdown",
   "metadata": {},
   "source": [
    "Further Study\n",
    "------\n",
    "\n",
    "- https://github.com/jlevy/the-art-of-command-line                                                        "
   ]
  },
  {
   "cell_type": "markdown",
   "metadata": {},
   "source": [
    "Brian's Bash Profile\n",
    "-----\n",
    "\n",
    "[.bash_profile](https://gist.github.com/brianspiering/bf593902d750d8e61fb729cc2d38bdc7)"
   ]
  },
  {
   "cell_type": "markdown",
   "metadata": {},
   "source": [
    "Creating your bash profile\n",
    "------\n",
    "\n",
    "1. Start up Terminal\n",
    "1. Type \"cd ~/\" to go to your home folder\n",
    "1. Type \"touch .bash_profile\" to create your new file.\n",
    "1. Edit .bash_profile with your favorite editor (or you can just type \"open -e .bash_profile\" to open it in TextEdit.)"
   ]
  },
  {
   "cell_type": "markdown",
   "metadata": {},
   "source": [
    "Why am I getting `command not found`?\n",
    "------\n",
    "\n",
    "The application you are calling is not on your `PATH`. PATH is a list of file directories that your computer will look in for applications. Most of the time when you install an application it is automatically put where it can be found. When it is not you get a `command not found` error on the command line.\n",
    "\n",
    "If an app is not the path, it does not exist in the eyes of your computer.\n",
    "\n",
    "Generally, just install the missing app with brew\n",
    "\n",
    "`telnet: command not found`\n",
    "\n",
    "`$ brew install telnet`\n",
    "\n",
    "Anaconda/conda is an exception. Anaconda/conda and brew will conflict. If you can not find Anaconda or conda, you might have to reinstall Anaconda. Do __not__ `$ brew install anaconda`.\n",
    "\n",
    "Do __not__ mess with your path. It is easy to mess up your path and render your computer usable for a little while.  Please ask me (or someone else) that know about paths before you mess with it.\n",
    "\n",
    "Give that, here is how you prepend something to your Path:\n",
    "\n",
    "`$ export PATH=\"$HOME/Users/brianspiering/desktop:$PATH`"
   ]
  },
  {
   "cell_type": "code",
   "execution_count": 5,
   "metadata": {},
   "outputs": [
    {
     "name": "stdout",
     "output_type": "stream",
     "text": [
      "/Users/brian/anaconda3/envs/bootcamp/bin:/Users/brian/anaconda3/condabin:/usr/local/bin:/usr/bin:/bin:/usr/sbin:/sbin:/Library/TeX/texbin\r\n"
     ]
    }
   ],
   "source": [
    "# echo means display\n",
    "# $ is the symbol for a variable\n",
    "# PATH is the name of the variable\n",
    "\n",
    "! echo $PATH"
   ]
  },
  {
   "cell_type": "code",
   "execution_count": 6,
   "metadata": {},
   "outputs": [
    {
     "name": "stdout",
     "output_type": "stream",
     "text": [
      "/Users/brian/anaconda3/envs/bootcamp/bin/python\r\n"
     ]
    }
   ],
   "source": [
    "# Find where all the versions of Python are and the order which they will be tried\n",
    "! which python"
   ]
  },
  {
   "cell_type": "markdown",
   "metadata": {},
   "source": [
    "Unix philosophy\n",
    "-----\n",
    "\n",
    "developing small yet capable software\n",
    "\n",
    "the concepts of modularity and reusability \n",
    "\n",
    "building short, simple, clear, modular, and extensible code \n",
    "that can be easily maintained and repurposed by developers (other than its creators)\n",
    "\n",
    "do one thing and do it well"
   ]
  },
  {
   "cell_type": "markdown",
   "metadata": {},
   "source": [
    "Next set of commands to learn\n",
    "-----\n",
    "\n",
    "__Managing directories and files__\n",
    "\n",
    "- `mkdir - Make a new directory\n",
    "- `rmdir` - Delete directory\n",
    "- `rm` - Delete file\n",
    "- `rm -rf` * - Nuke everything, file or an entire directory (the flags are short for (`recursive`) and `force`). This cannot be undone. It will not give you a warning if you're about to delete something important. Never do this.\n",
    "- `mv` - Move a file or directory. Can also be used to rename a file or directory.\n",
    "- `cp` - Copy files or directories.\n",
    "- `chmod` - Change permissions\n",
    "- `chown` - Change ownership\n",
    "- `find` - Traverse directory tree and execute commands\n",
    "\n",
    "These commands are required when working on remote computers. They are optional for now. "
   ]
  },
  {
   "cell_type": "markdown",
   "metadata": {},
   "source": [
    "What about `man` command?\n",
    "-----\n",
    "\n",
    "`man` is short for manual. It is the documentation for CLI.\n",
    "\n",
    "Personally, I find the Internet more helpful than the built-in document for CLI."
   ]
  },
  {
   "cell_type": "markdown",
   "metadata": {},
   "source": [
    "Why aren't you teaching us  `x` command?\n",
    "------\n",
    "\n",
    "You may have heard about `grep`, `sed`, `awk`, and other commands.\n",
    "\n",
    "Honestly, it is better to use Python than those commands. Python can do the same functions. \n",
    "\n",
    "Compared to shell commands, Python has the advantages:\n",
    "\n",
    "- More readable\n",
    "- More reusable\n",
    "\n",
    "I would suggest learning Python very well (compared to being mediocre at Python and shell scripting)."
   ]
  },
  {
   "cell_type": "markdown",
   "metadata": {},
   "source": [
    "bash vs zsh\n",
    "----\n",
    "\n",
    "I can use bash (heavily modified).\n",
    "\n",
    "Try [zsh](https://ohmyz.sh/), you might like it. You can make it your default [here](https://support.apple.com/en-ca/HT208050)."
   ]
  },
  {
   "cell_type": "markdown",
   "metadata": {},
   "source": [
    "  "
   ]
  },
  {
   "cell_type": "markdown",
   "metadata": {},
   "source": [
    " "
   ]
  }
 ],
 "metadata": {
  "kernelspec": {
   "display_name": "Python 3",
   "language": "python",
   "name": "python3"
  },
  "language_info": {
   "codemirror_mode": {
    "name": "ipython",
    "version": 3
   },
   "file_extension": ".py",
   "mimetype": "text/x-python",
   "name": "python",
   "nbconvert_exporter": "python",
   "pygments_lexer": "ipython3",
   "version": "3.7.3"
  },
  "toc": {
   "base_numbering": 1,
   "nav_menu": {},
   "number_sections": false,
   "sideBar": false,
   "skip_h1_title": false,
   "title_cell": "Table of Contents",
   "title_sidebar": "Contents",
   "toc_cell": true,
   "toc_position": {},
   "toc_section_display": true,
   "toc_window_display": false
  }
 },
 "nbformat": 4,
 "nbformat_minor": 2
}
