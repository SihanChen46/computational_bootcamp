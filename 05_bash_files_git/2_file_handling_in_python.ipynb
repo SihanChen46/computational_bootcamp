{
 "cells": [
  {
   "cell_type": "markdown",
   "metadata": {
    "toc": true
   },
   "source": [
    "<h1>Table of Contents<span class=\"tocSkip\"></span></h1>\n",
    "<div class=\"toc\"><ul class=\"toc-item\"><li><span><a href=\"#Learning-Outcomes\" data-toc-modified-id=\"Learning-Outcomes-1\">Learning Outcomes</a></span><ul class=\"toc-item\"><li><ul class=\"toc-item\"><li><span><a href=\"#By-the-end-of-this-session,-you-should-be-able-to:\" data-toc-modified-id=\"By-the-end-of-this-session,-you-should-be-able-to:-1.0.1\">By the end of this session, you should be able to:</a></span></li></ul></li></ul></li><li><span><a href=\"#File-Handling-in-Python\" data-toc-modified-id=\"File-Handling-in-Python-2\">File Handling in Python</a></span></li><li><span><a href=\"#Let's-break-down-that-command\" data-toc-modified-id=\"Let's-break-down-that-command-3\">Let's break down that command</a></span></li><li><span><a href=\"#Why-use-with?\" data-toc-modified-id=\"Why-use-with?-4\">Why use <code>with</code>?</a></span></li><li><span><a href=\"#3-Aspects-of-Working-with-Files\" data-toc-modified-id=\"3-Aspects-of-Working-with-Files-5\">3 Aspects of Working with Files</a></span></li><li><span><a href=\"#Different-ways-to-read-data\" data-toc-modified-id=\"Different-ways-to-read-data-6\">Different ways to read data</a></span></li><li><span><a href=\"#Remember-navigating-file-system-…\" data-toc-modified-id=\"Remember-navigating-file-system-…-7\">Remember navigating file system …</a></span></li><li><span><a href=\"#pathlib-module\" data-toc-modified-id=\"pathlib-module-8\"><code>pathlib</code> module</a></span></li><li><span><a href=\"#Student-Activities\" data-toc-modified-id=\"Student-Activities-9\">Student Activities</a></span></li><li><span><a href=\"#Summary\" data-toc-modified-id=\"Summary-10\">Summary</a></span></li><li><span><a href=\"#Bonus-Material\" data-toc-modified-id=\"Bonus-Material-11\">Bonus Material</a></span></li><li><span><a href=\"#Why-is--everything-not-in-memory-all-the-time?\" data-toc-modified-id=\"Why-is--everything-not-in-memory-all-the-time?-12\">Why is  everything not in memory all the time?</a></span></li><li><span><a href=\"#Path-components\" data-toc-modified-id=\"Path-components-13\">Path components</a></span></li><li><span><a href=\"#Writing-files\" data-toc-modified-id=\"Writing-files-14\">Writing files</a></span></li><li><span><a href=\"#Further-Study\" data-toc-modified-id=\"Further-Study-15\">Further Study</a></span></li></ul></div>"
   ]
  },
  {
   "cell_type": "markdown",
   "metadata": {},
   "source": [
    "<center><h2>Learning Outcomes</h2></center>\n",
    "\n",
    "#### By the end of this session, you should be able to:\n",
    "\n",
    "- Read a variety of data files into with Python.\n",
    "- Use `with` to manage file handling.\n",
    "- Use `pathlib` to programmatically handle paths.\n"
   ]
  },
  {
   "cell_type": "markdown",
   "metadata": {},
   "source": [
    "File Handling in Python\n",
    "-----\n",
    "\n",
    "Thus far we have only created data in memory and had to recreate it each time we wanted to use it. It is straightfoward in Python to load and save data to persistent it from session to session.\n",
    "\n",
    "In Data Science, files are stored data. \n",
    "\n",
    "Let's grab some data:"
   ]
  },
  {
   "cell_type": "code",
   "execution_count": 2,
   "metadata": {},
   "outputs": [],
   "source": [
    "reset -fs"
   ]
  },
  {
   "cell_type": "code",
   "execution_count": 3,
   "metadata": {},
   "outputs": [
    {
     "name": "stdout",
     "output_type": "stream",
     "text": [
      "Kamron\n",
      "Mourya\n",
      "Nithish\n",
      "Shane \n",
      "Himanshu\n",
      "Min  \n",
      "Jiaqi\n",
      "Sihan\n",
      "Xiao \n",
      "Lisa \n",
      "Ruizhe\n",
      "Wenjie\n",
      "Alan \n",
      "Lea \n",
      "Jacob\n",
      "\n"
     ]
    }
   ],
   "source": [
    "with open('students.txt') as f:\n",
    "    names = f.read()\n",
    "\n",
    "print(names[:99])"
   ]
  },
  {
   "cell_type": "markdown",
   "metadata": {},
   "source": [
    "Let's break down that command\n",
    "-----\n",
    "\n",
    "- `with` automatically handles opening, processing, and closing a file when used with `open`.\n",
    "- `open` is the function to handle files.\n",
    "- \"students.txt\" is the file name.\n",
    "- `as` is alias or nickname.\n",
    "- `f` is the file handler. Technically, a buffered text stream of data.\n",
    "- `f.read()` is the method that reads the entire file at once.\n",
    "\n",
    "In Python, we use context managers to handle files. `with` is the keyword for context managers.\n",
    "\n",
    "You'll see context managers again in TensorFlow."
   ]
  },
  {
   "cell_type": "markdown",
   "metadata": {},
   "source": [
    "Why use `with`?\n",
    "----\n",
    "\n",
    "1. It automatically keeps track of what is happening with the file and does the correct thing.\n",
    "\n",
    "1. Guaranteed to close the file no matter how the block exits."
   ]
  },
  {
   "cell_type": "markdown",
   "metadata": {},
   "source": [
    "3 Aspects of Working with Files\n",
    "-----\n",
    "\n",
    "1. File contents\n",
    "1. File name\n",
    "1. File object \n",
    "\n",
    "`f` is a \"file object\" that is really just a handle or descriptor that the operating system gives us. It's a unique identifier and how the operating system likes to identify a file that we work with. **The file object is not the filename and is also not the file itself on the disk.** It's really just a descriptor and a reference to the file."
   ]
  },
  {
   "cell_type": "code",
   "execution_count": 4,
   "metadata": {},
   "outputs": [
    {
     "name": "stdout",
     "output_type": "stream",
     "text": [
      "Variable   Type             Data/Info\n",
      "-------------------------------------\n",
      "f          TextIOWrapper    <_io.TextIOWrapper name='<...>ode='r' encoding='UTF-8'>\n",
      "names      str              Kamron\\nMourya\\nNithish\\n<...>gwen\\nZiyang \\nYunzheng\\n\n"
     ]
    }
   ],
   "source": [
    "whos"
   ]
  },
  {
   "cell_type": "code",
   "execution_count": 5,
   "metadata": {},
   "outputs": [],
   "source": [
    "# Let's check out the attributes and methods of this file object\n",
    "# f.<tab>"
   ]
  },
  {
   "cell_type": "markdown",
   "metadata": {},
   "source": [
    "Different ways to read data\n",
    "----"
   ]
  },
  {
   "cell_type": "code",
   "execution_count": 6,
   "metadata": {},
   "outputs": [
    {
     "data": {
      "text/plain": [
       "'Kamron\\n'"
      ]
     },
     "execution_count": 6,
     "metadata": {},
     "output_type": "execute_result"
    }
   ],
   "source": [
    "filename = 'students.txt'\n",
    "\n",
    "# Single line\n",
    "with open(filename) as f:    \n",
    "    one_line = f.readline()\n",
    "\n",
    "one_line"
   ]
  },
  {
   "cell_type": "code",
   "execution_count": 7,
   "metadata": {},
   "outputs": [
    {
     "data": {
      "text/plain": [
       "'Kamron'"
      ]
     },
     "execution_count": 7,
     "metadata": {},
     "output_type": "execute_result"
    }
   ],
   "source": [
    "# Get rid of linebreak with fluent interface\n",
    "with open(filename) as f:    \n",
    "    single_line = f.readline().strip() \n",
    "\n",
    "single_line"
   ]
  },
  {
   "cell_type": "code",
   "execution_count": 8,
   "metadata": {},
   "outputs": [
    {
     "data": {
      "text/plain": [
       "['Kamron',\n",
       " 'Mourya',\n",
       " 'Nithish',\n",
       " 'Shane ',\n",
       " 'Himanshu',\n",
       " 'Min  ',\n",
       " 'Jiaqi',\n",
       " 'Sihan',\n",
       " 'Xiao ',\n",
       " 'Lisa ']"
      ]
     },
     "execution_count": 8,
     "metadata": {},
     "output_type": "execute_result"
    }
   ],
   "source": [
    "# Read file and remove \\n from each line\n",
    "with open(filename) as f:\n",
    "    names = f.read().splitlines()\n",
    "names[:10]"
   ]
  },
  {
   "cell_type": "code",
   "execution_count": 9,
   "metadata": {},
   "outputs": [
    {
     "name": "stdout",
     "output_type": "stream",
     "text": [
      "Kamron\n"
     ]
    }
   ],
   "source": [
    "# Read line-by-line\n",
    "with open(filename) as f:    \n",
    "    for line in f:        \n",
    "        print(line.strip())\n",
    "        break"
   ]
  },
  {
   "cell_type": "code",
   "execution_count": 10,
   "metadata": {},
   "outputs": [
    {
     "data": {
      "text/plain": [
       "'2\\n3\\n5\\n7\\n11\\n13\\n17\\n19\\n23\\n29\\n31\\n37\\n41\\n43\\n47\\n53\\n59\\n61\\n67\\n71\\n73\\n79\\n83\\n89\\n97\\n101\\n103\\n107\\n109\\n113\\n127\\n131\\n137\\n139\\n149\\n151\\n157\\n163\\n167\\n173\\n179\\n181\\n191\\n193\\n197\\n199'"
      ]
     },
     "execution_count": 10,
     "metadata": {},
     "output_type": "execute_result"
    }
   ],
   "source": [
    "# Read in numbers\n",
    "filename = 'primes.txt'\n",
    "with open(filename) as f: \n",
    "    primes = f.read()\n",
    "\n",
    "primes"
   ]
  },
  {
   "cell_type": "code",
   "execution_count": 11,
   "metadata": {},
   "outputs": [
    {
     "data": {
      "text/plain": [
       "['2\\n', '3\\n', '5\\n', '7\\n', '11\\n', '13\\n', '17\\n', '19\\n', '23\\n', '29\\n']"
      ]
     },
     "execution_count": 11,
     "metadata": {},
     "output_type": "execute_result"
    }
   ],
   "source": [
    "# Read in numbers\n",
    "with open(filename) as f: \n",
    "    primes = f.readlines()\n",
    "\n",
    "primes[:10]"
   ]
  },
  {
   "cell_type": "code",
   "execution_count": 12,
   "metadata": {},
   "outputs": [
    {
     "data": {
      "text/plain": [
       "['2', '3', '5', '7', '11', '13', '17', '19', '23', '29']"
      ]
     },
     "execution_count": 12,
     "metadata": {},
     "output_type": "execute_result"
    }
   ],
   "source": [
    "with open(filename) as f:\n",
    "    primes = f.read().splitlines()\n",
    "primes[:10]"
   ]
  },
  {
   "cell_type": "code",
   "execution_count": 13,
   "metadata": {},
   "outputs": [
    {
     "data": {
      "text/plain": [
       "{2,\n",
       " 3,\n",
       " 5,\n",
       " 7,\n",
       " 11,\n",
       " 13,\n",
       " 17,\n",
       " 19,\n",
       " 23,\n",
       " 29,\n",
       " 31,\n",
       " 37,\n",
       " 41,\n",
       " 43,\n",
       " 47,\n",
       " 53,\n",
       " 59,\n",
       " 61,\n",
       " 67,\n",
       " 71,\n",
       " 73,\n",
       " 79,\n",
       " 83,\n",
       " 89,\n",
       " 97,\n",
       " 101,\n",
       " 103,\n",
       " 107,\n",
       " 109,\n",
       " 113,\n",
       " 127,\n",
       " 131,\n",
       " 137,\n",
       " 139,\n",
       " 149,\n",
       " 151,\n",
       " 157,\n",
       " 163,\n",
       " 167,\n",
       " 173,\n",
       " 179,\n",
       " 181,\n",
       " 191,\n",
       " 193,\n",
       " 197,\n",
       " 199}"
      ]
     },
     "execution_count": 13,
     "metadata": {},
     "output_type": "execute_result"
    }
   ],
   "source": [
    "with open(filename) as f: \n",
    "    primes = {int(x) for x in f} # Use a comprehension (remeber sets are awesome!)\n",
    "\n",
    "primes"
   ]
  },
  {
   "cell_type": "markdown",
   "metadata": {},
   "source": [
    "Remember navigating file system …\n",
    "-----\n",
    "\n",
    "Python uses the same syntax as the command line:\n",
    "\n",
    "`.` - current directory     \n",
    "`..` - parent directory  \n",
    "`~` - home directory  \n",
    "\n",
    "If possible, let's use relative paths rather than absolute paths.\n",
    "\n",
    "- path =  \"./\"       # Relative path to current directory  \n",
    "- path = \"./data/\"   # Relative path to subfolder  \n",
    "- path = \"../data/\"  # Relative path up a directory to subfolder  "
   ]
  },
  {
   "cell_type": "code",
   "execution_count": 14,
   "metadata": {},
   "outputs": [
    {
     "name": "stdout",
     "output_type": "stream",
     "text": [
      "One Fish, Two Fish, Red Fish, Blue Fish\n",
      "By Dr. Seuss.\n",
      "One fish\n",
      "Two fish\n",
      "Red fish\n",
      "Blue fish\n"
     ]
    }
   ],
   "source": [
    "# Open file in another relative directory\n",
    "with open(\"../data/one_fish.txt\") as f:\n",
    "    one_fish = f.read()\n",
    "\n",
    "print(one_fish[:90])"
   ]
  },
  {
   "cell_type": "markdown",
   "metadata": {},
   "source": [
    "`pathlib` module\n",
    "-----\n",
    "\n",
    "Let's let Python do the work for us for programmatically generating paths."
   ]
  },
  {
   "cell_type": "code",
   "execution_count": 15,
   "metadata": {},
   "outputs": [],
   "source": [
    "from pathlib import Path"
   ]
  },
  {
   "cell_type": "markdown",
   "metadata": {},
   "source": [
    "`Path` will let us write code that works everywhere (Unix and Windows systems)"
   ]
  },
  {
   "cell_type": "code",
   "execution_count": 16,
   "metadata": {},
   "outputs": [],
   "source": [
    "Path?"
   ]
  },
  {
   "cell_type": "code",
   "execution_count": 17,
   "metadata": {},
   "outputs": [],
   "source": [
    "path = Path('../data/')"
   ]
  },
  {
   "cell_type": "code",
   "execution_count": 18,
   "metadata": {},
   "outputs": [
    {
     "data": {
      "text/plain": [
       "pathlib.PosixPath"
      ]
     },
     "execution_count": 18,
     "metadata": {},
     "output_type": "execute_result"
    }
   ],
   "source": [
    "# Kinda like a special str\n",
    "type(path)"
   ]
  },
  {
   "cell_type": "code",
   "execution_count": 19,
   "metadata": {},
   "outputs": [
    {
     "name": "stdout",
     "output_type": "stream",
     "text": [
      "One Fish, Two Fish, Red Fish, Blue Fish\n",
      "By Dr. Seuss.\n",
      "One fish\n",
      "Two fish\n",
      "Red fish\n",
      "Blue fish\n"
     ]
    }
   ],
   "source": [
    "# Concatenate directories programmatically\n",
    "path = Path('../')\n",
    "folder = \"data\"\n",
    "filename = \"one_fish.txt\"\n",
    "q = path / folder / filename\n",
    "\n",
    "with open(q) as f:\n",
    "    one_fish = f.read()\n",
    "print(one_fish[:90])"
   ]
  },
  {
   "cell_type": "markdown",
   "metadata": {},
   "source": [
    "Student Activities\n",
    "------\n",
    "\n",
    "1. Find out what is your current directory.\n",
    "1. Define an instance of `pathlib.Path` that points to the data for this course.\n",
    "1. Load `success_by_emily_dickinson.txt`\n",
    "1. Load `primes.txt` "
   ]
  },
  {
   "cell_type": "code",
   "execution_count": 20,
   "metadata": {},
   "outputs": [
    {
     "data": {
      "text/plain": [
       "['Success is counted sweetest',\n",
       " 'By those who never succeed.',\n",
       " 'To comprehend a nectar',\n",
       " 'Requires sorest need.',\n",
       " '',\n",
       " 'Not one of all the purple host',\n",
       " 'Who took the flag to-day',\n",
       " 'Can tell the definition,',\n",
       " 'So clear, of victory,',\n",
       " '',\n",
       " 'As he, defeated, dying,',\n",
       " 'On whose forbidden ear',\n",
       " 'The distant strains of triumph',\n",
       " 'Break, agonized and clear!']"
      ]
     },
     "execution_count": 20,
     "metadata": {},
     "output_type": "execute_result"
    }
   ],
   "source": [
    "path = Path('../data/')\n",
    "with open( path / \"success_by_emily_dickinson.txt\") as f:\n",
    "    success = f.read().splitlines() \n",
    "success"
   ]
  },
  {
   "cell_type": "code",
   "execution_count": 21,
   "metadata": {},
   "outputs": [
    {
     "data": {
      "text/plain": [
       "{2,\n",
       " 3,\n",
       " 5,\n",
       " 7,\n",
       " 11,\n",
       " 13,\n",
       " 17,\n",
       " 19,\n",
       " 23,\n",
       " 29,\n",
       " 31,\n",
       " 37,\n",
       " 41,\n",
       " 43,\n",
       " 47,\n",
       " 53,\n",
       " 59,\n",
       " 61,\n",
       " 67,\n",
       " 71,\n",
       " 73,\n",
       " 79,\n",
       " 83,\n",
       " 89,\n",
       " 97,\n",
       " 101,\n",
       " 103,\n",
       " 107,\n",
       " 109,\n",
       " 113,\n",
       " 127,\n",
       " 131,\n",
       " 137,\n",
       " 139,\n",
       " 149,\n",
       " 151,\n",
       " 157,\n",
       " 163,\n",
       " 167,\n",
       " 173,\n",
       " 179,\n",
       " 181,\n",
       " 191,\n",
       " 193,\n",
       " 197,\n",
       " 199}"
      ]
     },
     "execution_count": 21,
     "metadata": {},
     "output_type": "execute_result"
    }
   ],
   "source": [
    "with open(path / folder / \"primes.txt\") as f: \n",
    "    primes = {int(x) for x in f} \n",
    "\n",
    "primes"
   ]
  },
  {
   "cell_type": "code",
   "execution_count": 37,
   "metadata": {},
   "outputs": [
    {
     "name": "stdout",
     "output_type": "stream",
     "text": [
      "/.HFS+ Private Directory Data\r\n",
      "/.Spotlight-V100\n",
      "/.DS_Store\n",
      "/.PKInstallSandboxManager-SystemSoftware\n",
      "/installer.failurerequests\n",
      "/.file\n",
      "/.Trashes\n",
      "/.fseventsd\n",
      "/.DocumentRevisions-V100\n",
      "/.vol\n",
      "/.dbfseventsd\n"
     ]
    }
   ],
   "source": [
    "path = Path(\"/\")\n",
    "# All files of certain type in current directory\n",
    "for filename in path.glob('*.*'):\n",
    "    print(filename)"
   ]
  },
  {
   "cell_type": "code",
   "execution_count": 34,
   "metadata": {},
   "outputs": [],
   "source": [
    "# All files of certain type in current directory or all subdirectories\n",
    "for filename in path.glob('**/*.md'):\n",
    "    print(filename)"
   ]
  },
  {
   "cell_type": "code",
   "execution_count": null,
   "metadata": {},
   "outputs": [],
   "source": [
    "# All files in current directory or all subdirectories\n",
    "for filename in path.glob('**/*.*'):\n",
    "    print(filename)"
   ]
  },
  {
   "cell_type": "markdown",
   "metadata": {},
   "source": [
    "Read [pathlib docs](https://docs.python.org/3/library/pathlib.html) for more ideas."
   ]
  },
  {
   "cell_type": "markdown",
   "metadata": {},
   "source": [
    "Summary\n",
    "------\n",
    "\n",
    "- When reading data from plain text files, use `with` to automatically open and close files.\n",
    "- There are handful of file reading commands: `read`, `readline`, `readlines`.\n",
    "- Use `pathlib` to define pathnames that will work across operating systems."
   ]
  },
  {
   "cell_type": "markdown",
   "metadata": {},
   "source": [
    " "
   ]
  },
  {
   "cell_type": "markdown",
   "metadata": {},
   "source": [
    "Bonus Material\n",
    "----"
   ]
  },
  {
   "cell_type": "markdown",
   "metadata": {},
   "source": [
    "Why is  everything not in memory all the time?\n",
    "----\n",
    "\n",
    "Why do we have a separation between memory and storage?\n",
    "\n",
    "There is __no__ a single computing substrate that is fast and nonvolatile and cheap.\n",
    "\n",
    "Local computers can be turned off. Cloud computers can crash. Persisting data is a good idea."
   ]
  },
  {
   "cell_type": "markdown",
   "metadata": {},
   "source": [
    "Path components\n",
    "-----\n",
    "\n",
    "- name: the file name without any directory\n",
    "\n",
    "- parent: the directory if a file or the parent directory if directory\n",
    "\n",
    "- stem: the file name without the suffix\n",
    "\n",
    "- suffix: the file extension\n",
    "\n",
    "- anchor: the part of the path before the directories"
   ]
  },
  {
   "cell_type": "markdown",
   "metadata": {},
   "source": [
    "Writing files\n",
    "-----\n",
    "\n",
    "\n",
    "3 modes:\n",
    "\n",
    "1. `r` - read, default\n",
    "\n",
    "1. `w` - write, delete was already there\n",
    "\n",
    "1. `a` - append, concatenate\n"
   ]
  },
  {
   "cell_type": "code",
   "execution_count": 24,
   "metadata": {},
   "outputs": [],
   "source": [
    "# filename = 'temp.txt'\n",
    "\n",
    "# with open(filename, 'w') as f:\n",
    "#     f.write(\"hi!\")"
   ]
  },
  {
   "cell_type": "code",
   "execution_count": 25,
   "metadata": {},
   "outputs": [],
   "source": [
    "# with open(filename, 's') as f:\n",
    "#     f.write(\"there!\")"
   ]
  },
  {
   "cell_type": "code",
   "execution_count": 26,
   "metadata": {},
   "outputs": [
    {
     "name": "stdout",
     "output_type": "stream",
     "text": [
      "Ziyang \n",
      "\n"
     ]
    }
   ],
   "source": [
    "# One-liner to get random line\n",
    "import random\n",
    "\n",
    "print(random.choice(open(\"students.txt\").readlines()))"
   ]
  },
  {
   "cell_type": "markdown",
   "metadata": {},
   "source": [
    "Further Study\n",
    "------\n",
    "\n",
    "- https://realpython.com/courses/reading-and-writing-files-python/\n",
    "- https://stackabuse.com/read-a-file-line-by-line-in-python/\n",
    "- https://stackabuse.com/file-handling-in-python/\n",
    "- https://stackabuse.com/reading-files-with-python/\n",
    "- https://stackabuse.com/writing-files-using-python/\n",
    "- https://stackabuse.com/reading-and-writing-lists-to-a-file-in-python/\n",
    "- https://stackabuse.com/how-to-create-move-and-delete-files-in-python/\n"
   ]
  },
  {
   "cell_type": "markdown",
   "metadata": {},
   "source": [
    " "
   ]
  }
 ],
 "metadata": {
  "kernelspec": {
   "display_name": "Python 3",
   "language": "python",
   "name": "python3"
  },
  "language_info": {
   "codemirror_mode": {
    "name": "ipython",
    "version": 3
   },
   "file_extension": ".py",
   "mimetype": "text/x-python",
   "name": "python",
   "nbconvert_exporter": "python",
   "pygments_lexer": "ipython3",
   "version": "3.7.3"
  },
  "toc": {
   "base_numbering": 1,
   "nav_menu": {},
   "number_sections": false,
   "sideBar": false,
   "skip_h1_title": false,
   "title_cell": "Table of Contents",
   "title_sidebar": "Contents",
   "toc_cell": true,
   "toc_position": {},
   "toc_section_display": true,
   "toc_window_display": false
  }
 },
 "nbformat": 4,
 "nbformat_minor": 2
}
