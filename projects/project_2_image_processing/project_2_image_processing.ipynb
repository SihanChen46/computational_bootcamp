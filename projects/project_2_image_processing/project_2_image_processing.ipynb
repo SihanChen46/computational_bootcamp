{
 "cells": [
  {
   "cell_type": "markdown",
   "metadata": {
    "deletable": false,
    "editable": false,
    "nbgrader": {
     "checksum": "9060a7fcbcdd0b7cff61f88b52f51e90",
     "grade": false,
     "grade_id": "cell-f49b8ea35a2dabd9",
     "locked": true,
     "schema_version": 1,
     "solution": false
    },
    "toc": true
   },
   "source": [
    "<h1>Table of Contents<span class=\"tocSkip\"></span></h1>\n",
    "<div class=\"toc\"><ul class=\"toc-item\"><li><span><a href=\"#Project-2:-Image-Processing\" data-toc-modified-id=\"Project-2:-Image-Processing-1\">Project 2: Image Processing</a></span></li><li><span><a href=\"#Learning-Outcomes\" data-toc-modified-id=\"Learning-Outcomes-2\">Learning Outcomes</a></span><ul class=\"toc-item\"><li><ul class=\"toc-item\"><li><span><a href=\"#By-the-end-of-this-project,-you-should-be-able-to:\" data-toc-modified-id=\"By-the-end-of-this-project,-you-should-be-able-to:-2.0.1\">By the end of this project, you should be able to:</a></span></li></ul></li></ul></li><li><span><a href=\"#3-different-libraries-to-view-images\" data-toc-modified-id=\"3-different-libraries-to-view-images-3\">3 different libraries to view images</a></span></li><li><span><a href=\"#BYI-(Bring-Your-Images)\" data-toc-modified-id=\"BYI-(Bring-Your-Images)-4\">BYI (Bring Your Images)</a></span></li><li><span><a href=\"#Task-1.-Flipping-an-image-horizontally\" data-toc-modified-id=\"Task-1.-Flipping-an-image-horizontally-5\">Task 1. Flipping an image horizontally</a></span><ul class=\"toc-item\"><li><span><a href=\"#3-Useful-Image-attributes-and-methods\" data-toc-modified-id=\"3-Useful-Image-attributes-and-methods-5.1\">3 Useful Image attributes and methods</a></span></li></ul></li><li><span><a href=\"#Task-2.-Blurring\" data-toc-modified-id=\"Task-2.-Blurring-6\">Task 2. Blurring</a></span><ul class=\"toc-item\"><li><span><a href=\"#Blurring-function\" data-toc-modified-id=\"Blurring-function-6.1\">Blurring function</a></span></li><li><span><a href=\"#Image-regions\" data-toc-modified-id=\"Image-regions-6.2\">Image regions</a></span></li><li><span><a href=\"#Safely-examining-region-pixels\" data-toc-modified-id=\"Safely-examining-region-pixels-6.3\">Safely examining region pixels</a></span></li></ul></li><li><span><a href=\"#Task-3.-Removing-noise\" data-toc-modified-id=\"Task-3.-Removing-noise-7\">Task 3. Removing noise</a></span></li><li><span><a href=\"#Task-4.-Re-factoring-to-improve-code-quality\" data-toc-modified-id=\"Task-4.-Re-factoring-to-improve-code-quality-8\">Task 4. Re-factoring to improve code quality</a></span></li><li><span><a href=\"#Task-5.-Highlighting-image-edges\" data-toc-modified-id=\"Task-5.-Highlighting-image-edges-9\">Task 5. Highlighting image edges</a></span></li></ul></div>"
   ]
  },
  {
   "cell_type": "markdown",
   "metadata": {
    "deletable": false,
    "editable": false,
    "nbgrader": {
     "checksum": "06d10901b57abb98b6791afa5b6ebc0d",
     "grade": false,
     "grade_id": "cell-588eb434a3567ee2",
     "locked": true,
     "schema_version": 1,
     "solution": false
    }
   },
   "source": [
    "Project 2: Image Processing\n",
    "-----"
   ]
  },
  {
   "cell_type": "markdown",
   "metadata": {
    "deletable": false,
    "editable": false,
    "nbgrader": {
     "checksum": "3358ec5ccf570332d3fc0fd744f94493",
     "grade": false,
     "grade_id": "cell-5cc85b93d38670f4",
     "locked": true,
     "schema_version": 1,
     "solution": false
    }
   },
   "source": [
    "Learning Outcomes\n",
    "----\n",
    "\n",
    "#### By the end of this project, you should be able to:\n",
    "\n",
    "- Work with image data in Python.\n",
    "- Apply your knowledge of Python: assignments, expressions, if and loop statements, functions, lists, and libraries. \n",
    "- Write the following image processing functions from scratch:\n",
    "    1. Flipping horizontally\n",
    "    1. Blurring\n",
    "    1. Removing salt-and-pepper image noise\n",
    "    1. Finding edges within images"
   ]
  },
  {
   "cell_type": "code",
   "execution_count": null,
   "metadata": {
    "deletable": false,
    "editable": false,
    "nbgrader": {
     "checksum": "89568de670d8936b162de23fc95062ad",
     "grade": false,
     "grade_id": "cell-b3989d3eb2c9086b",
     "locked": true,
     "schema_version": 1,
     "solution": false
    }
   },
   "outputs": [],
   "source": [
    "reset -fs"
   ]
  },
  {
   "cell_type": "code",
   "execution_count": null,
   "metadata": {
    "deletable": false,
    "editable": false,
    "nbgrader": {
     "checksum": "28a381e4850a7afed823a3f120825be9",
     "grade": false,
     "grade_id": "cell-79d97d20aa8aa188",
     "locked": true,
     "schema_version": 1,
     "solution": false
    }
   },
   "outputs": [],
   "source": [
    "# Define file location\n",
    "\n",
    "from pathlib import Path\n",
    "\n",
    "p = Path('./images') \n",
    "file_location = p / \"lambda_puppy.png\""
   ]
  },
  {
   "cell_type": "markdown",
   "metadata": {
    "deletable": false,
    "editable": false,
    "nbgrader": {
     "checksum": "772160a1644586f90a96f0f6e5692885",
     "grade": false,
     "grade_id": "cell-72b60f31b246258a",
     "locked": true,
     "schema_version": 1,
     "solution": false
    }
   },
   "source": [
    "3 different libraries to view images\n",
    "------\n",
    "\n",
    "1. IPython\n",
    "1. PIL\n",
    "1. matplotlib"
   ]
  },
  {
   "cell_type": "code",
   "execution_count": null,
   "metadata": {
    "deletable": false,
    "editable": false,
    "nbgrader": {
     "checksum": "e8cf3df50761725e479eac9a11a57306",
     "grade": false,
     "grade_id": "cell-bae049a9f6bd8001",
     "locked": true,
     "schema_version": 1,
     "solution": false
    }
   },
   "outputs": [],
   "source": [
    "# IPython is simpliest way to view images in Jupyter Notebook\n",
    "\n",
    "from IPython.display import Image \n",
    "\n",
    "Image(filename=str(file_location)) # Image class doesn't support new fangled path names"
   ]
  },
  {
   "cell_type": "markdown",
   "metadata": {
    "deletable": false,
    "editable": false,
    "nbgrader": {
     "checksum": "76b67ca856a9e4b386eda1129a6cdf11",
     "grade": false,
     "grade_id": "cell-d6f44fc6feb44b44",
     "locked": true,
     "schema_version": 1,
     "solution": false
    }
   },
   "source": [
    "__PIL is an image processing library__\n",
    "\n",
    "PIL is short Python Image-processing Library.\n",
    "\n",
    "We are using a fork (aka, an alternative version based on a parent rep) called `pillow`.\n",
    "\n",
    "It should be second nature to look at and apply package documentation - [pillow docs](https://pillow.readthedocs.io/en/stable/).\n",
    "\n",
    "Note - Pillow docs do not use contemporary Python with `pathlib`. Use `pathlib` for your code. "
   ]
  },
  {
   "cell_type": "code",
   "execution_count": null,
   "metadata": {
    "deletable": false,
    "editable": false,
    "nbgrader": {
     "checksum": "d5edcc54503007a708f49338c6d65d13",
     "grade": false,
     "grade_id": "cell-c6d75522a8715cda",
     "locked": true,
     "schema_version": 1,
     "solution": false
    }
   },
   "outputs": [],
   "source": [
    "from PIL import Image\n",
    "\n",
    "image = Image.open(file_location)\n",
    "image"
   ]
  },
  {
   "cell_type": "code",
   "execution_count": null,
   "metadata": {},
   "outputs": [],
   "source": [
    "# To simplify the lab will convert everything to grayscale \n",
    "\n",
    "image = Image.open(file_location).convert(\"L\") # UsingITU-R 601-2 luma transform: L = R * 299/1000 + G * 587/1000 + B * 114/1000\n",
    "image"
   ]
  },
  {
   "cell_type": "code",
   "execution_count": null,
   "metadata": {
    "deletable": false,
    "editable": false,
    "nbgrader": {
     "checksum": "bab2b857892b6bbadc7d58db888116e1",
     "grade": false,
     "grade_id": "cell-728ec9a8cbf2e274",
     "locked": true,
     "schema_version": 1,
     "solution": false
    }
   },
   "outputs": [],
   "source": [
    "# matplotlib is very common library and uses our friend NumPy\n",
    "from matplotlib.pyplot import imshow\n",
    "import numpy as np\n",
    "\n",
    "%matplotlib inline\n",
    "\n",
    "imshow(np.asarray(image), 'gray');"
   ]
  },
  {
   "cell_type": "markdown",
   "metadata": {
    "deletable": false,
    "editable": false,
    "nbgrader": {
     "checksum": "6d33436e046ab2a1a2aa5131737813dd",
     "grade": false,
     "grade_id": "cell-90ba9231cbfd0ecc",
     "locked": true,
     "schema_version": 1,
     "solution": false
    }
   },
   "source": [
    "BYI (Bring Your Images)\n",
    "-----\n",
    "\n",
    "I have provided a number of images that you can use to play around with this project. Of course, you can use any others you want. \n",
    "\n",
    "(Remember, however, that all images used in this class and those stored on University equipment must be \"safe for work.\" Keep it G-rated please, with no offensive images popping up on your laptops or machines during lab etc.)"
   ]
  },
  {
   "cell_type": "markdown",
   "metadata": {
    "deletable": false,
    "editable": false,
    "nbgrader": {
     "checksum": "1232e988baf48713926db388983a39dd",
     "grade": false,
     "grade_id": "cell-bfc31f625f351b0a",
     "locked": true,
     "schema_version": 1,
     "solution": false
    }
   },
   "source": [
    "Task 1. Flipping an image horizontally\n",
    "----\n",
    "\n",
    "As a first task, create a function called `flip` that flips an image horizontally.\n",
    "\n",
    "Here are the before and after shots for your reference:\n",
    "\n",
    "<img src=\"images/eye.png\" width=\"35%\"> \n",
    "\n",
    "<img src=\"images/eye-flip.png\" width=\"35%\">\n",
    "\n",
    "The steps is to create a copy of this image, flip it, and return a copy so that we do not alter the incoming original image. \n",
    "\n",
    "To create `flip` function, write code that implements the following steps:\n",
    "\n",
    "1. Use `size` to define local variables `width` and `height`\n",
    "1. Use `copy()` to make a copy of the incoming image `image` and save it in a local variable\n",
    "1. Use `load()` to get the two-dimensional pixel matrix out of the incoming image and the copy of the image. Store these results in two new local variables.\n",
    "1. To walk over the two-dimensional image, we've learned we need every combination of `x` and `y`. That means we need a nested `for` loop. Create a nested for loop that iterates over all `x` and all `y` values within the `width` and `height` of the image.\n",
    "1. Within the inner loop, set pixels in the image copy to the appropriate pixel copied from the original image\n",
    "1. At the end of the function, return the flipped image\n",
    "<br>\n",
    "<br>\n",
    "\n",
    "The only remaining issue is determining which pixel from the original image to copy into the (`x`, `y`) position in the image copy. The `y` index will be the same since we are flipping horizontally. The `x` index in the flipped image is index `width-x-1` from the original image. Trying out a few sample indexes shows that this works well. \n",
    "\n",
    "For example, a flipped image with `width=10` has its pixel at `x=0` pulled from index `x=10-0-1=9` in the original image. That's great, because it takes the image from all in the right in the original and copies it to the far left of the copy. Checking the opposite extreme, `x=9` in the flipped image should be `x=10-9-1=0` from the original image.\n",
    "\n",
    "### 3 Useful Image attributes and methods\n",
    "\n",
    "To write your `flip` function, you will need three pieces:\n",
    "\n",
    "1. `image.size` returns a tuple containing the width and height of image `image` so you can write code like this:\n",
    "\n",
    "    ```python\n",
    "    width, height = image.size\n",
    "    ```\n",
    "      You'll need the width and height to iterate over the pixels of the image.\n",
    "<br>\n",
    "<br>\n",
    "2. `image.copy()` duplicates image `image`.  For our `flip` function, it would be hard to modify the image in place because we would be overwriting pixels we would need to flip later. It's easier to create a copy of the image in flipped position. You can write code like this: `image_duplicate = image.copy()`\n",
    "<br>\n",
    "<br>\n",
    "3. `image.load()` is yet another weird name from PIL that actually returns an object that looks like a two-dimensional matrix, which is really just a list of lists such as `m = [[1,2], [3, 4]]`. When printed, the output looks like a matrix:\n",
    "\n",
    "    ```python\n",
    "    m = [[1, 2],\n",
    "         [3, 4]]\n",
    "    ```\n",
    "    To get element `3`, we would use list index expression `m[1][0]` because we want the list at index 1, `m[1]`, and then element 0 within that list. The two-dimensional object returned by `load()` uses similar notation. If we ask for the \"matrix\" with:\n",
    "\n",
    "    ```python\n",
    "    m = image.load()\n",
    "    ```\n",
    "    then we  use notation `m[x,y]` to get the pixel at position (`x`, `y`). As is usual with Cartesian coordinates, the `x` index is the horizontal index.\n",
    "    </ul>\n",
    "\n",
    "You will use these functions for all of the remaining tasks so keep them in mind.\n",
    "\n",
    "As always, do not import anything else.\n",
    "    "
   ]
  },
  {
   "cell_type": "code",
   "execution_count": null,
   "metadata": {
    "deletable": false,
    "nbgrader": {
     "checksum": "2300ed5204b0c5337a7dc7128d0ce740",
     "grade": false,
     "grade_id": "cell-ff8d7bba0eb33f05",
     "locked": false,
     "schema_version": 1,
     "solution": true
    }
   },
   "outputs": [],
   "source": [
    "def flip(image):\n",
    "    \n",
    "    # YOUR CODE HERE\n",
    "    raise NotImplementedError()\n",
    "    \n",
    "    return output"
   ]
  },
  {
   "cell_type": "code",
   "execution_count": null,
   "metadata": {
    "deletable": false,
    "editable": false,
    "nbgrader": {
     "checksum": "ace5a1643bb80155f309231410b8ba4e",
     "grade": false,
     "grade_id": "cell-101698a16e1fd8d6",
     "locked": true,
     "schema_version": 1,
     "solution": false
    }
   },
   "outputs": [],
   "source": [
    "# Visually inspect input\n",
    "image = Image.open(p / \"eye.png\")\n",
    "image"
   ]
  },
  {
   "cell_type": "code",
   "execution_count": null,
   "metadata": {
    "deletable": false,
    "editable": false,
    "nbgrader": {
     "checksum": "c847d805f18b4f3e2a8b31b297f8e75c",
     "grade": false,
     "grade_id": "cell-8281dbe064a5c74b",
     "locked": true,
     "schema_version": 1,
     "solution": false
    }
   },
   "outputs": [],
   "source": [
    "# Visually inspect output\n",
    "flip(image)"
   ]
  },
  {
   "cell_type": "code",
   "execution_count": null,
   "metadata": {
    "deletable": false,
    "editable": false,
    "nbgrader": {
     "checksum": "7be0dd3120cab0a65348a405d14d251d",
     "grade": true,
     "grade_id": "cell-bc8069c5580c1bb4",
     "locked": true,
     "points": 5,
     "schema_version": 1,
     "solution": false
    }
   },
   "outputs": [],
   "source": [
    "\"\"\"\n",
    "Test code for flip function.\n",
    "5 points\n",
    "This cell should NOT give any errors when it is run.\n",
    "\"\"\"\n",
    "\n",
    "flipped_image_excepted = Image.open(p / \"eye-flip.png\").convert(\"L\")\n",
    "image = Image.open(p / \"eye.png\").convert(\"L\")\n",
    "flipped_image_actual = flip(image)\n",
    "\n",
    "# Test against ground truth\n",
    "assert np.allclose(flipped_image_excepted, flipped_image_actual)\n",
    "\n",
    "# Test against Pillow library function\n",
    "assert np.allclose(image.transpose(Image.FLIP_LEFT_RIGHT).convert(\"L\"), flipped_image_actual)"
   ]
  },
  {
   "cell_type": "markdown",
   "metadata": {
    "deletable": false,
    "editable": false,
    "nbgrader": {
     "checksum": "25834e60f962f84a3b25a60212e68d2e",
     "grade": false,
     "grade_id": "cell-d9e375dc97199d0c",
     "locked": true,
     "schema_version": 1,
     "solution": false
    }
   },
   "source": [
    "Task 2. Blurring\n",
    "-----\n",
    "\n",
    "In this task, we want to blur an image by removing detail. For example:\n",
    "\n",
    "<img src=\"images/pcb.png\" width=\"35%\"> \n",
    "\n",
    "<img src=\"images/pcb-blur.png\" width=\"35%\">\n",
    "\n",
    "We will do this by creating a new image whose pixels are the average of the surrounding pixels. The pixel in the center of the region is the region to compute as we slide the region around an image. In other words, `pixel[x,y]` is the sum of `pixel[x,y]` and all surrounding pixels divided by 9, the total number of pixels.\n",
    "\n",
    "Blurring is related to [convolution](https://en.wikipedia.org/wiki/Convolution) which is the heart of a Convolutional Neural Network (CNN), a powerful deep learning (DL) technique. "
   ]
  },
  {
   "cell_type": "markdown",
   "metadata": {
    "deletable": false,
    "editable": false,
    "nbgrader": {
     "checksum": "324ca914df87ef31f073769b0b9359d4",
     "grade": false,
     "grade_id": "cell-5da72a5302160734",
     "locked": true,
     "schema_version": 1,
     "solution": false
    }
   },
   "source": [
    "### Blurring function\n",
    "\n",
    "**Define function** The `blur` function to take an `image` parameter, just like the `flip` function in the previous task.  \n",
    "\n",
    "The `blur` function will accomplish these steps:\n",
    "\n",
    "- Define local variables `width` and `height`.\n",
    "- Make a copy of the incoming image `image` and save it in a local variable.\n",
    "- Get the two-dimensional pixel matrix out of the image copy. Store it in a new local variable called `pixels`.\n",
    "- Create a nested for loop that iterates over all `x` and all `y` values within the `width` and `height` of the image.\n",
    "- Within the inner loop:\n",
    "   - Call to-be-created function `region3x3` with arguments `image`, `x`, and `y` in store into local variable `r`.\n",
    "   - Set `pixels[x,y]` in the image copy to the result of calling to-be-created function `avg` with an argument of `r`.\n",
    "- At the end of the function, return the blurred image.\n",
    "\n",
    "**Define function** `avg` to take an argument called `data` or another of your choice. This will be the list of 9 pixels returned by function `region3x3`. The average of a set of numbers is their total divided by how many numbers there are. Python provides two useful functions here: `sum(data)` and `len(data)`.  (Naturally, `sum` simply walks the list and accumulates values using a pattern we are familiar with.)  Make sure that this function returns an integer using `int(...)`.\n",
    "\n",
    "### Image regions\n",
    "\n",
    "Now we need to **define function** `region3x3`.  Have it take three parameters as described above. This function creates and **return a list of nine pixels**. The list includes the center pixel at `x`, `y` and the 8 adjacent pixels at N, S, E, W, ... as shown in the following figure.\n",
    "\n",
    "<center><img src=\"images/region.png\" width=\"75%\"/></center>\n",
    "\n",
    "Create a series of assignments that look like this:\n",
    " \n",
    "```python\n",
    "me = getpixel(image, x, y)\n",
    "N = getpixel(image, x, y - 1)\n",
    "...\n",
    "```\n",
    "\n",
    "where function `getpixel(image, x, y)` gets the pixel at `x`, `y` in image `image`.  We can't use the more readable expression `pixels[x,y]` in this case, as we'll see in a second. Collect all those pixel values into a list using `[a,b,c,...]` list literal notation and return it. Make sure that this list is a list of integers and exactly 9 elements long and that you keep in mind the order in which you add these pixels to the list. Any function that we create to operate on a region naturally needs to know the order so we can properly extract pixels from the list. For example, my implementation always puts the pixel at `x` and `y` first, then North, etc...\n",
    "\n",
    "### Safely examining region pixels\n",
    "\n",
    "We need to **define a function** `getpixel` instead of directly accessing pixels because some of the pixels in our 3x3 region will be outside of the image as we shift the region around. For example, when we start out at `x=0`, `y=0`, 5 of the pixels will be out of range, as shown in the following figure.\n",
    "\n",
    "<center><img src=\"images/region-edge.png\" width=\"75%\"/></center>\n",
    "\n",
    "Accessing `pixels[-1,-1]` will trigger:\n",
    "  \n",
    "`IndexError: image index out of range`\n",
    "\n",
    "and stop the program. To avoid this error and provide a suitable definition for the ill-defined pixels on the edges, we will use a function that ensures all indices are within range.\n",
    "\n",
    "**Define function** `getpixel` with the appropriate parameters. Its functionality is as follows:\n",
    "\n",
    "* Get the width and height into local variables.\n",
    "* If the `x` value is less than 0, set it to 0.\n",
    "* If the `x` value is greater than or equal to the width, set it to the width minus 1 (the last  valid pixel on the far right).\n",
    "* If the `y` value is less than 0, set it to 0.\n",
    "* If the `y` value is greater than or equal to the height, set it to the  height minus 1 (the last felt pixel on the bottom).\n",
    "* Return the pixel at `x`, `y`. You will need to use the `image.load()` function again to get the 2D `pixels` matrix as you did in function `blur`. Make sure you returning pixel and not the coordinates of the pixel from `getpixel`.\n",
    "\n"
   ]
  },
  {
   "cell_type": "code",
   "execution_count": null,
   "metadata": {
    "deletable": false,
    "nbgrader": {
     "checksum": "52157e9d43a0d910f7971bb986a3a5c4",
     "grade": false,
     "grade_id": "cell-48b033fd6f2f0418",
     "locked": false,
     "schema_version": 1,
     "solution": true
    }
   },
   "outputs": [],
   "source": [
    "from typing import Sequence\n",
    "\n",
    "def avg(data: Sequence[float]) -> int:\n",
    "    \"Special average function that always returns integer to avoid numerical precision errors.\"\n",
    "    # YOUR CODE HERE\n",
    "    raise NotImplementedError()"
   ]
  },
  {
   "cell_type": "code",
   "execution_count": null,
   "metadata": {
    "deletable": false,
    "editable": false,
    "nbgrader": {
     "checksum": "17765426acf8991f4c8dd919f385db19",
     "grade": true,
     "grade_id": "cell-02dd5ef30786712b",
     "locked": true,
     "points": 1,
     "schema_version": 1,
     "solution": false
    }
   },
   "outputs": [],
   "source": [
    "\"\"\"\n",
    "Test code for avg function.\n",
    "1 points\n",
    "This cell should NOT give any errors when it is run.\n",
    "\"\"\"\n",
    "\n",
    "from statistics import mean\n",
    "\n",
    "assert type(avg([1,2,3,4,5])) == int\n",
    "assert avg([1,2,3,4,5]) == 3 == mean([1,2,3,4,5])"
   ]
  },
  {
   "cell_type": "code",
   "execution_count": null,
   "metadata": {
    "deletable": false,
    "nbgrader": {
     "checksum": "a63da09b946a417cec2907df3f0a75e1",
     "grade": false,
     "grade_id": "cell-f94e8e628994503c",
     "locked": false,
     "schema_version": 1,
     "solution": true
    }
   },
   "outputs": [],
   "source": [
    "def get_pixel(image, x: int, y: int) -> int:\n",
    "\n",
    "    # YOUR CODE HERE\n",
    "    raise NotImplementedError()\n",
    "\n",
    "    return pixel"
   ]
  },
  {
   "cell_type": "code",
   "execution_count": null,
   "metadata": {
    "deletable": false,
    "editable": false,
    "nbgrader": {
     "checksum": "a02036703e390692de6551ea636aee37",
     "grade": true,
     "grade_id": "cell-c3e900c5f8242dea",
     "locked": true,
     "points": 5,
     "schema_version": 1,
     "solution": false
    }
   },
   "outputs": [],
   "source": [
    "\"\"\"\n",
    "Test code for get_pixel function.\n",
    "5 points\n",
    "This cell should NOT give any errors when it is run.\n",
    "\"\"\"\n",
    "\n",
    "image = Image.open(p / \"pcb.png\").convert(\"L\")\n",
    "\n",
    "assert get_pixel(image, 0, 0)   == 222\n",
    "assert get_pixel(image, 0, 1)   == 181\n",
    "assert get_pixel(image, 10, 20) == 44"
   ]
  },
  {
   "cell_type": "code",
   "execution_count": null,
   "metadata": {
    "deletable": false,
    "nbgrader": {
     "checksum": "46de919468d3a7881dd06d8e6da9bfbd",
     "grade": false,
     "grade_id": "cell-8e903154497ce04c",
     "locked": false,
     "schema_version": 1,
     "solution": true
    }
   },
   "outputs": [],
   "source": [
    "def region3x3(image, x, y):\n",
    "    \n",
    "    # YOUR CODE HERE\n",
    "    raise NotImplementedError()\n",
    "    \n",
    "    return (me, N, S, E, W, NW, NE, SE, SW)"
   ]
  },
  {
   "cell_type": "code",
   "execution_count": null,
   "metadata": {
    "deletable": false,
    "editable": false,
    "nbgrader": {
     "checksum": "901d7c07d8ffe98b8fd3930ff9ce5f51",
     "grade": true,
     "grade_id": "cell-59c747ce6f3a6f0f",
     "locked": true,
     "points": 3,
     "schema_version": 1,
     "solution": false
    }
   },
   "outputs": [],
   "source": [
    "\"\"\"\n",
    "Test code for region3x3 function.\n",
    "3 points\n",
    "This cell should NOT give any errors when it is run.\n",
    "\"\"\"\n",
    "\n",
    "image = Image.open(p / \"pcb.png\").convert(\"L\")\n",
    "\n",
    "assert region3x3(image, 0, 0)  == (222, 222, 181, 187, 222, 222, 187, 234, 181)\n",
    "assert region3x3(image, 7, 12) == (31, 31, 32, 167, 176, 166, 165, 164, 175)"
   ]
  },
  {
   "cell_type": "code",
   "execution_count": null,
   "metadata": {
    "deletable": false,
    "nbgrader": {
     "checksum": "00018cab0d9dadd74039d458d7f38bae",
     "grade": false,
     "grade_id": "cell-15b0a93c1381ac8b",
     "locked": false,
     "schema_version": 1,
     "solution": true
    }
   },
   "outputs": [],
   "source": [
    "def blur(image):\n",
    "    \n",
    "    # YOUR CODE HERE\n",
    "    raise NotImplementedError()\n",
    "    \n",
    "    return output"
   ]
  },
  {
   "cell_type": "code",
   "execution_count": null,
   "metadata": {
    "deletable": false,
    "editable": false,
    "nbgrader": {
     "checksum": "bf9060c8c0f7e91afd7e347ad6d8784c",
     "grade": false,
     "grade_id": "cell-9e392d3a138a93aa",
     "locked": true,
     "schema_version": 1,
     "solution": false
    }
   },
   "outputs": [],
   "source": [
    "# Visually inspect your results\n",
    "\n",
    "image = Image.open(p / \"pcb.png\").convert(\"L\") \n",
    "blur(image)"
   ]
  },
  {
   "cell_type": "code",
   "execution_count": null,
   "metadata": {
    "deletable": false,
    "editable": false,
    "nbgrader": {
     "checksum": "9324e6d9b5587b0068b5f856299a0ecd",
     "grade": true,
     "grade_id": "cell-be55561e0ebfd940",
     "locked": true,
     "points": 5,
     "schema_version": 1,
     "solution": false
    }
   },
   "outputs": [],
   "source": [
    "\"\"\"\n",
    "Test code for blur function.\n",
    "5 points\n",
    "This cell should NOT give any errors when it is run.\n",
    "\"\"\"\n",
    "\n",
    "blur_image_excepted = Image.open(p / \"pcb-blur.png\").convert(\"L\")\n",
    "image = Image.open(p / \"pcb.png\").convert(\"L\") \n",
    "blur_image_actual = blur(image)\n",
    "\n",
    "# Test against ground truth\n",
    "assert np.allclose(blur_image_excepted, blur_image_actual)"
   ]
  },
  {
   "cell_type": "markdown",
   "metadata": {
    "deletable": false,
    "editable": false,
    "nbgrader": {
     "checksum": "fdff9d2d4827e435bc1a2969f0715f39",
     "grade": false,
     "grade_id": "cell-d7a0494209c0bc85",
     "locked": true,
     "schema_version": 1,
     "solution": false
    }
   },
   "source": [
    "Task 3. Removing noise\n",
    "----\n",
    "\n",
    "\n",
    "For our next task, we are going to de-noise (remove noise) from an image as shown in the following four figures: \n",
    "\n",
    "<table border=\"0\">\n",
    "<tr>\n",
    "<td><img src=\"images/guesswho.png\" width=\"150\"><td><img src=\"images/guesswho-denoise.png\" width=\"150\">\n",
    "<tr>\n",
    "<td><img src=\"images/guesswho-denoise-denoise.png\" width=\"150\"><td><img src=\"images/obama.png\" width=\"150\">\n",
    "</table>\n",
    "\n",
    "Our denoising function will do a shockingly good job considering the simplicity of our approach. \n",
    " \n",
    "To blur, we used the average of all pixels in the region. To denoise, we will use the [median](http://en.wikipedia.org/wiki/Median), which is just the middle value in a list of ordered numbers (or average of two middle if there are an even number of values).\n",
    " \n",
    "Believe it or not, we can implement de-noise by copying our blur code  and then changing a few lines. We have to remove the no-longer-used `avg` function and replace it with a `med` function, our version of median.  Of course, instead of calling `blur`, we'll call function `denoise` with the usual `image` argument. The only difference between `denoise` and `blur` is that you will set the pixel to the `med` not `avg`.  \n",
    "\n",
    "Hint: you need to tweak one statement in the inner loop that moves over all pixel values."
   ]
  },
  {
   "cell_type": "code",
   "execution_count": null,
   "metadata": {
    "deletable": false,
    "nbgrader": {
     "checksum": "c84e5a3ba1d5f38ca3a64f3cbea42285",
     "grade": false,
     "grade_id": "cell-1921f0001f1938fd",
     "locked": false,
     "schema_version": 1,
     "solution": true
    }
   },
   "outputs": [],
   "source": [
    "def med(data): \n",
    "    \"Special median function that always returns integer to avoid numerical precision errors.\"\n",
    "    # YOUR CODE HERE\n",
    "    raise NotImplementedError()"
   ]
  },
  {
   "cell_type": "code",
   "execution_count": null,
   "metadata": {
    "deletable": false,
    "editable": false,
    "nbgrader": {
     "checksum": "efce1298550263837f2dca93757bbb8c",
     "grade": true,
     "grade_id": "cell-c7e9e831764cc020",
     "locked": true,
     "points": 1,
     "schema_version": 1,
     "solution": false
    }
   },
   "outputs": [],
   "source": [
    "\"\"\"\n",
    "Test code for med function.\n",
    "1 points\n",
    "This cell should NOT give any errors when it is run.\n",
    "\"\"\"\n",
    "\n",
    "from statistics import median\n",
    "\n",
    "data = [1, 5, 4, 2, 3]\n",
    "assert type(med(data)) == int\n",
    "assert med(data) == 3 == median(data)"
   ]
  },
  {
   "cell_type": "code",
   "execution_count": null,
   "metadata": {
    "deletable": false,
    "nbgrader": {
     "checksum": "16586ccda0d45f901e3b6a75dd58aff9",
     "grade": false,
     "grade_id": "cell-d8d984300cde71f2",
     "locked": false,
     "schema_version": 1,
     "solution": true
    }
   },
   "outputs": [],
   "source": [
    "def denoise(image):\n",
    "\n",
    "    # YOUR CODE HERE\n",
    "    raise NotImplementedError()"
   ]
  },
  {
   "cell_type": "code",
   "execution_count": null,
   "metadata": {
    "deletable": false,
    "editable": false,
    "nbgrader": {
     "checksum": "f0363b9457765422226d93183367c33c",
     "grade": false,
     "grade_id": "cell-80fb11b91c75a206",
     "locked": true,
     "schema_version": 1,
     "solution": false
    }
   },
   "outputs": [],
   "source": [
    "# Visually inspect your results\n",
    "\n",
    "image = Image.open(p / \"veggies_noisy.png\").convert(\"L\") \n",
    "denoise(image)\n",
    "\n",
    "# # It is clearer (pun intended) if you do it a couple of times\n",
    "# for _ in range(5):\n",
    "#     image = denoise(image)\n",
    "# image"
   ]
  },
  {
   "cell_type": "code",
   "execution_count": null,
   "metadata": {
    "deletable": false,
    "editable": false,
    "nbgrader": {
     "checksum": "091fee74d1cfa3846a91cb23b7303994",
     "grade": true,
     "grade_id": "cell-86b81a1b316e8814",
     "locked": true,
     "points": 5,
     "schema_version": 1,
     "solution": false
    }
   },
   "outputs": [],
   "source": [
    "\"\"\"\n",
    "Test code for denoise function.\n",
    "5 points\n",
    "This cell should NOT give any errors when it is run.\n",
    "\"\"\"\n",
    "\n",
    "denoise_image_excepted = Image.open(p / \"veggies_denoised.png\").convert(\"L\")\n",
    "image = Image.open(p / \"veggies_noisy.png\").convert(\"L\")\n",
    "denoise_image_actual = denoise(image)\n",
    "\n",
    "# Test against ground truth\n",
    "assert np.allclose(denoise_image_excepted, denoise_image_actual)"
   ]
  },
  {
   "cell_type": "markdown",
   "metadata": {
    "deletable": false,
    "editable": false,
    "nbgrader": {
     "checksum": "5e6f6b156ec6c0654665ab0c1e31d9bd",
     "grade": false,
     "grade_id": "cell-e955dfdf4cd7e86d",
     "locked": true,
     "schema_version": 1,
     "solution": false
    }
   },
   "source": [
    "Task 4. Re-factoring to improve code quality\n",
    "----\n",
    "\n",
    "As I mentioned in the last task, blur and denoise are virtually identical, meaning that we have a lot of code in common. \n",
    "\n",
    "One of the most important principles of computer science is to reduce code duplication. We always want exactly one place to change a particular bit of functionality.   In this case, functions `blur` and `denoise` are identical except for the function called to compute a new pixel in the image copy from a 3x3 region in the original (`avg` or `med`).\n",
    "\n",
    "The only tricky part is to create a single generic `filter` function that can reproduce the functionality we have in functions `blur` and `denoise`.\n",
    "\n",
    "* Copy the body of function `blur` into your new `filter` function.\n",
    "* Replace the call to `avg` to the function that is being passed in.\n",
    "\n",
    "As we discussed in class, functions are objects in Python just like any strings, lists, and so on. That means we can pass them around as function arguments. \n",
    "\n",
    "To use our new generic `filter` function, we pass it an image as usual but also the name of a function:\n",
    "\n",
    "```python\n",
    "blurred  = filter(image, function=avg)\n",
    "denoised = filter(image, function=med)\n",
    "```"
   ]
  },
  {
   "cell_type": "code",
   "execution_count": null,
   "metadata": {
    "deletable": false,
    "nbgrader": {
     "checksum": "f2d3f24699621bb1135973fe3674bffe",
     "grade": false,
     "grade_id": "cell-96fe3bf3853a611b",
     "locked": false,
     "schema_version": 1,
     "solution": true
    }
   },
   "outputs": [],
   "source": [
    "def filter(image, function):\n",
    "    \n",
    "    # YOUR CODE HERE\n",
    "    raise NotImplementedError()"
   ]
  },
  {
   "cell_type": "code",
   "execution_count": null,
   "metadata": {
    "deletable": false,
    "editable": false,
    "nbgrader": {
     "checksum": "75d51c4e6190efc59fbc82ce6ce75779",
     "grade": false,
     "grade_id": "cell-845d6297c27b5840",
     "locked": true,
     "schema_version": 1,
     "solution": false
    }
   },
   "outputs": [],
   "source": [
    "# Visually inspect your results\n",
    "\n",
    "image = Image.open(p / \"pcb.png\").convert(\"L\") \n",
    "filter(image, function=avg)"
   ]
  },
  {
   "cell_type": "code",
   "execution_count": null,
   "metadata": {
    "deletable": false,
    "editable": false,
    "nbgrader": {
     "checksum": "25bccd0598ed6681662c0b33cc346611",
     "grade": false,
     "grade_id": "cell-e68a1bec54ca893b",
     "locked": true,
     "schema_version": 1,
     "solution": false
    }
   },
   "outputs": [],
   "source": [
    "# Visually inspect your results\n",
    "\n",
    "image = Image.open(p / \"pcb.png\").convert(\"L\") \n",
    "filter(image, function=med)"
   ]
  },
  {
   "cell_type": "code",
   "execution_count": null,
   "metadata": {
    "deletable": false,
    "editable": false,
    "nbgrader": {
     "checksum": "bbbc5f4922e913f2529f8364ee6f6d70",
     "grade": true,
     "grade_id": "cell-93a771291467e0b3",
     "locked": true,
     "points": 3,
     "schema_version": 1,
     "solution": false
    }
   },
   "outputs": [],
   "source": [
    "\"\"\"\n",
    "Test code for filter function.\n",
    "3 points\n",
    "This cell should NOT give any errors when it is run.\n",
    "\"\"\"\n",
    "\n",
    "# Test that filter can blur\n",
    "blur_image_excepted = Image.open(p / \"pcb-blur.png\").convert(\"L\")\n",
    "image = Image.open(p / \"pcb.png\").convert(\"L\") \n",
    "blur_image_actual = filter(image, function=avg)\n",
    "assert np.allclose(blur_image_excepted, blur_image_actual)\n",
    "\n",
    "# Test that filter can denoise\n",
    "denoise_image_excepted = Image.open(p / \"veggies_denoised.png\").convert(\"L\")\n",
    "image = Image.open(p / \"veggies_noisy.png\").convert(\"L\")\n",
    "denoise_image_actual = filter(image, function=med)\n",
    "assert np.allclose(denoise_image_excepted, denoise_image_actual)"
   ]
  },
  {
   "cell_type": "markdown",
   "metadata": {
    "deletable": false,
    "editable": false,
    "nbgrader": {
     "checksum": "356af76ad9c99d9d9344de1e012a4f76",
     "grade": false,
     "grade_id": "cell-e6635679d825849f",
     "locked": true,
     "schema_version": 1,
     "solution": false
    }
   },
   "source": [
    "## Task 5. Highlighting image edges\n",
    "\n",
    "Now that we have some basic machinery available to us in the form of some common functions, we can easily build new functionality. In this task, we want to highlight edges found within an image.  It is surprisingly easy to capture all of the important edges in an image:\n",
    "\n",
    "<img src=\"images/jeep.png\" width=\"300\"> <img src=\"images/jeep-edges.png\" width=\"300\">\n",
    "\n",
    "The mechanism we're going to use is derived from some serious calculus kung fu called the [Laplacian](https://en.wikipedia.org/wiki/Laplace_operator), but which, in the end, reduces to 4 additions and a subtraction!  \n",
    "\n",
    "The Laplacian is very important for constrained optimization, constrained optimization is the heart of machine learning.\n",
    "\n",
    "The intuition behind the Laplacian is that abrupt changes in brightness indicate edges, such as the transition from the darkness of a uniform to the brightness of a windshield edge.  As we did for blurring and denoising, we are going to slide a 3x3 region around the image to create new pixels at each `x`, `y`. That  means we can reuse our `filter` function---we just need a `laplace` function to pass to `filter`.\n",
    "\n",
    "**Create function** `laplace` that takes region `data` as an argument as usual. Have the function body  return the sum of the North, South, East, and West pixels minus 4 times the middle pixel from our usual region:\n",
    "\n",
    "<center><img src=\"images/3x3-region.png\" width=\"35%\"/></center>\n",
    "\n",
    "That computation effectively compares the strength of the current pixel with those around it. For example, imagine a region centered over a vertical white line. The region might look like:\n",
    "\n",
    "<img src=\"images/vertical-line-region.png\" width=\"35%\">\n",
    "\n",
    "The `laplace` function would return 255+255+0+0 - 4 * 255 = -510. \n",
    "\n",
    "For those familiar with calculus, we are using the second partial derivative (e.g., acceleration) in x and y directions. The first derivative would detect edges even for gradual changes but the second derivative detects only really sharp changes. For a pixel fetching function <i>function</i> operating on a 3x3 region around <i>(x,y)</i>, \"applying the <i>Laplacian</i>\" means computing a filtered image pixel at <i>x,y</i> as:<br><i>f(x + 1,y) + f(x - 1,y) + f(x,y + 1) + f(x,y - 1) - 4f(x, y)</i><br>where <i>f(x,y)</i> is equivalent to our `pixels[x,y]`.\n",
    "\n",
    "Be aware of something that Pillow is doing for us automatically when we store values into an image with `pixels[x,y] = v`.  If `v` is out of range 0..255, Pillow clips `v`. So, for example, `pixels[x,y] = -510` behaves like `pixels[x,y] = 0` and `pixels[x,y] = 510` behaves like `pixels[x,y] = 255`. It doesn't affect edge detection or any of our other operations in future tasks but I wanted to point out that in a more advanced class we would <b>scale</b> these pixel values instead of clipping them. Clipping has the effect of reducing contrast.\n",
    "\n",
    "Compare that to the opposite extreme where values are almost the same:\n",
    "\n",
    "<img src=\"images/flat-region.png\" width=\"35%\">\n",
    "\n",
    "The `laplace` function would return 18+19+15+21 - 4 * 10 = 33.\n",
    "\n",
    "Once you have implemented your `laplace` function, give it a try on images `obama.png`. It actually does a really good job capturing Obama's outline:\n",
    "\n",
    "<center><img src=\"images/obama.png\" width=\"35%\"/></center>\n",
    "\n",
    "<center><img src=\"images/obama-edges.png\" width=\"35%\"/></center>"
   ]
  },
  {
   "cell_type": "code",
   "execution_count": null,
   "metadata": {
    "deletable": false,
    "nbgrader": {
     "checksum": "388c203544f268035cb34f5b9b8cce5c",
     "grade": false,
     "grade_id": "cell-448abf97b6a6df0a",
     "locked": false,
     "schema_version": 1,
     "solution": true
    }
   },
   "outputs": [],
   "source": [
    "def laplace(data):\n",
    "    \n",
    "    # YOUR CODE HERE\n",
    "    raise NotImplementedError()\n",
    "\n",
    "    return new_pixel"
   ]
  },
  {
   "cell_type": "code",
   "execution_count": null,
   "metadata": {
    "deletable": false,
    "editable": false,
    "nbgrader": {
     "checksum": "5e94c0c88ae798655052143754930d00",
     "grade": false,
     "grade_id": "cell-f49637869e090db3",
     "locked": true,
     "schema_version": 1,
     "solution": false
    }
   },
   "outputs": [],
   "source": [
    "# Visually inspect your results\n",
    "\n",
    "image = Image.open(p / \"obama.png\").convert(\"L\") \n",
    "filter(image, function=laplace)"
   ]
  },
  {
   "cell_type": "code",
   "execution_count": null,
   "metadata": {
    "deletable": false,
    "editable": false,
    "nbgrader": {
     "checksum": "52273cc7b293aaf239c8667cfd883984",
     "grade": true,
     "grade_id": "cell-0dcf02737607d294",
     "locked": true,
     "points": 3,
     "schema_version": 1,
     "solution": false
    }
   },
   "outputs": [],
   "source": [
    "\"\"\"\n",
    "Test code for laplace function.\n",
    "3 points\n",
    "This cell should NOT give any errors when it is run.\n",
    "\"\"\"\n",
    "\n",
    "data = [10, 18, 19, 15, 21]\n",
    "assert laplace(data) == 33\n",
    "\n",
    "edges_image_excepted = Image.open(p / \"obama-edges.png\").convert(\"L\")\n",
    "image = Image.open(p / \"obama.png\").convert(\"L\") \n",
    "edges_image_actual = filter(image, function=laplace)\n",
    "\n",
    "# Test against ground truth\n",
    "assert np.allclose(edges_image_excepted, edges_image_actual)"
   ]
  },
  {
   "cell_type": "markdown",
   "metadata": {
    "deletable": false,
    "editable": false,
    "nbgrader": {
     "checksum": "09a2aa8aba527974e6dca328efeb0bce",
     "grade": false,
     "grade_id": "cell-ff2d070e25115ec4",
     "locked": true,
     "schema_version": 1,
     "solution": false
    }
   },
   "source": [
    "<br>\n",
    "<br> \n",
    "<br>\n",
    "\n",
    "----"
   ]
  }
 ],
 "metadata": {
  "anaconda-cloud": {},
  "kernelspec": {
   "display_name": "Python 3",
   "language": "python",
   "name": "python3"
  },
  "language_info": {
   "codemirror_mode": {
    "name": "ipython",
    "version": 3
   },
   "file_extension": ".py",
   "mimetype": "text/x-python",
   "name": "python",
   "nbconvert_exporter": "python",
   "pygments_lexer": "ipython3",
   "version": "3.7.3"
  },
  "toc": {
   "base_numbering": 1,
   "nav_menu": {},
   "number_sections": false,
   "sideBar": true,
   "skip_h1_title": false,
   "title_cell": "Table of Contents",
   "title_sidebar": "Contents",
   "toc_cell": true,
   "toc_position": {},
   "toc_section_display": true,
   "toc_window_display": false
  }
 },
 "nbformat": 4,
 "nbformat_minor": 1
}
