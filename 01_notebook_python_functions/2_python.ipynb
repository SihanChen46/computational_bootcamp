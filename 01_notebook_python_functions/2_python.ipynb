{
 "cells": [
  {
   "cell_type": "markdown",
   "metadata": {
    "slideshow": {
     "slide_type": "skip"
    },
    "toc": true
   },
   "source": [
    "<h1>Table of Contents<span class=\"tocSkip\"></span></h1>\n",
    "<div class=\"toc\"><ul class=\"toc-item\"><li><span><a href=\"#Python\" data-toc-modified-id=\"Python-1\">Python</a></span></li><li><span><a href=\"#By-The-End-Of-This-Session-You-Should-Be-Able-To:\" data-toc-modified-id=\"By-The-End-Of-This-Session-You-Should-Be-Able-To:-2\">By The End Of This Session You Should Be Able To:</a></span></li><li><span><a href=\"#Why-Python?\" data-toc-modified-id=\"Why-Python?-3\">Why Python?</a></span></li><li><span><a href=\"#Course-Theme:-Let-Python-do-the-work!\" data-toc-modified-id=\"Course-Theme:-Let-Python-do-the-work!-4\">Course Theme: Let Python do the work!</a></span></li><li><span><a href=\"#Variables---A-place-to-keep-data-for-later\" data-toc-modified-id=\"Variables---A-place-to-keep-data-for-later-5\">Variables - A place to keep data for later</a></span></li><li><span><a href=\"#Python's-Data-Model\" data-toc-modified-id=\"Python's-Data-Model-6\">Python's Data Model</a></span></li><li><span><a href=\"#Objects-have-methods-&amp;-attributes\" data-toc-modified-id=\"Objects-have-methods-&amp;-attributes-7\">Objects have methods &amp; attributes</a></span></li><li><span><a href=\"#Porcelain-vs-Plumbing\" data-toc-modified-id=\"Porcelain-vs-Plumbing-8\">Porcelain vs Plumbing</a></span></li><li><span><a href=\"#Porcelain-vs-Plumbing\" data-toc-modified-id=\"Porcelain-vs-Plumbing-9\">Porcelain vs Plumbing</a></span></li><li><span><a href=\"#Summary\" data-toc-modified-id=\"Summary-10\">Summary</a></span></li></ul></div>"
   ]
  },
  {
   "cell_type": "code",
   "execution_count": null,
   "metadata": {},
   "outputs": [],
   "source": []
  },
  {
   "cell_type": "markdown",
   "metadata": {
    "slideshow": {
     "slide_type": "slide"
    }
   },
   "source": [
    "<center><h2>Python</h2></center>\n",
    "\n",
    "<center><img src=\"images/python.jpeg\" width=\"100%\"/></center>"
   ]
  },
  {
   "cell_type": "markdown",
   "metadata": {
    "slideshow": {
     "slide_type": "slide"
    }
   },
   "source": [
    "By The End Of This Session You Should Be Able To:\n",
    "----\n",
    "\n",
    "- Explain in your own words why we are using Python for this course.\n",
    "- List the 3 components of Python's data model.\n",
    "- Explain the following notions:\n",
    "    - Nouns & verbs\n",
    "    - Porcelain & plumbing"
   ]
  },
  {
   "cell_type": "markdown",
   "metadata": {
    "slideshow": {
     "slide_type": "slide"
    }
   },
   "source": [
    "<center><h2>Why Python?</h2></center>"
   ]
  },
  {
   "cell_type": "markdown",
   "metadata": {
    "slideshow": {
     "slide_type": "fragment"
    }
   },
   "source": [
    "- Low bar, high ceiling.\n",
    "\n"
   ]
  },
  {
   "cell_type": "markdown",
   "metadata": {
    "slideshow": {
     "slide_type": "fragment"
    }
   },
   "source": [
    "- Come for features; Stay for community.\n"
   ]
  },
  {
   "cell_type": "markdown",
   "metadata": {
    "slideshow": {
     "slide_type": "fragment"
    }
   },
   "source": [
    "- Designed for readability.\n"
   ]
  },
  {
   "cell_type": "markdown",
   "metadata": {
    "slideshow": {
     "slide_type": "fragment"
    }
   },
   "source": [
    "- One of the most common programming languages."
   ]
  },
  {
   "cell_type": "markdown",
   "metadata": {
    "slideshow": {
     "slide_type": "skip"
    }
   },
   "source": [
    "Large and vibrant Data Science ecosystem https://community.ibm.com/community/user/datascience/blogs/paco-nathan/2019/03/12/a-landscape-diagram-for-python-data\n",
    "\n",
    "Lots of questions answered on SO\n",
    "\n",
    "Most interviews will be done in Python.\n",
    "\n",
    "generally - this class will directly help you get a job. there are a lot of jobs for programmers, especially programmers that are data savvy.\n",
    "\n",
    "specially - many job applications require proof of coding abilities, leetcode and technical interviewing"
   ]
  },
  {
   "cell_type": "markdown",
   "metadata": {
    "slideshow": {
     "slide_type": "slide"
    }
   },
   "source": [
    "<center><img src=\"images/lazy.png\" width=\"60%\"/></center>"
   ]
  },
  {
   "cell_type": "markdown",
   "metadata": {
    "slideshow": {
     "slide_type": "slide"
    }
   },
   "source": [
    "<center><h2>Course Theme: Let Python do the work!</h2></center>"
   ]
  },
  {
   "cell_type": "code",
   "execution_count": null,
   "metadata": {
    "slideshow": {
     "slide_type": "skip"
    }
   },
   "outputs": [],
   "source": [
    "reset -fs"
   ]
  },
  {
   "cell_type": "code",
   "execution_count": 6,
   "metadata": {
    "slideshow": {
     "slide_type": "fragment"
    }
   },
   "outputs": [
    {
     "data": {
      "text/plain": [
       "True"
      ]
     },
     "execution_count": 6,
     "metadata": {},
     "output_type": "execute_result"
    }
   ],
   "source": [
    "def is_descending(nums):\n",
    "    \"Check if nums are in descending order.\"\n",
    "    for i in range(len(nums)-1):\n",
    "        for j in range(i+1, len(nums)):\n",
    "            if nums[i] < nums[j]:\n",
    "                return False\n",
    "    return True\n",
    "\n",
    "nums = [3, 2, 1]\n",
    "is_descending(nums)"
   ]
  },
  {
   "cell_type": "code",
   "execution_count": 2,
   "metadata": {
    "slideshow": {
     "slide_type": "fragment"
    }
   },
   "outputs": [
    {
     "data": {
      "text/plain": [
       "True"
      ]
     },
     "execution_count": 2,
     "metadata": {},
     "output_type": "execute_result"
    }
   ],
   "source": [
    "def is_descending_pythonic(nums):\n",
    "    \"Check if nums are in descending order.\"\n",
    "    return nums == sorted(nums, reverse=True)\n",
    "\n",
    "nums = [3, 2, 1]\n",
    "is_descending_pythonic(nums)"
   ]
  },
  {
   "cell_type": "markdown",
   "metadata": {
    "slideshow": {
     "slide_type": "skip"
    }
   },
   "source": [
    "Source: FoPP Section 15.1"
   ]
  },
  {
   "cell_type": "markdown",
   "metadata": {
    "slideshow": {
     "slide_type": "skip"
    }
   },
   "source": [
    "Keep the goal the goal.\n",
    "\n",
    "Do the simplest thing to solve the problem.\n",
    "\n",
    "Fewer lines of code (that are correct and easy to understand)\n",
    "    \n",
    "    - Easier to hold in limited human working memory\n",
    "    - Less chance for typos\n",
    "    - More likely to be updated\n",
    "\n",
    "Sometimes the problem is to implement from scratch, even then let Python do as much as possible."
   ]
  },
  {
   "cell_type": "markdown",
   "metadata": {
    "slideshow": {
     "slide_type": "slide"
    }
   },
   "source": [
    "<center><h2>Variables - A place to keep data for later</h2></center>\n",
    "\n",
    "Variable is a value with a name in the computer’s memory."
   ]
  },
  {
   "cell_type": "code",
   "execution_count": 26,
   "metadata": {
    "slideshow": {
     "slide_type": "fragment"
    }
   },
   "outputs": [
    {
     "data": {
      "text/plain": [
       "False"
      ]
     },
     "execution_count": 26,
     "metadata": {},
     "output_type": "execute_result"
    }
   ],
   "source": [
    "\"42 is a nice number\".isdecimal()"
   ]
  },
  {
   "cell_type": "code",
   "execution_count": 1,
   "metadata": {
    "slideshow": {
     "slide_type": "skip"
    }
   },
   "outputs": [],
   "source": [
    "name = \"Brian\"\n",
    "course_num = 501"
   ]
  },
  {
   "cell_type": "code",
   "execution_count": null,
   "metadata": {
    "slideshow": {
     "slide_type": "skip"
    }
   },
   "outputs": [],
   "source": [
    "# Points to cover\n",
    "\n",
    "# whos\n",
    "# type"
   ]
  },
  {
   "cell_type": "markdown",
   "metadata": {
    "slideshow": {
     "slide_type": "slide"
    }
   },
   "source": [
    "<center><h2>Python's Data Model</h2></center>\n",
    "\n",
    "Every Python object has 3 properties:\n",
    "\n",
    "1. Name (age)\n",
    "1. Value (39)\n",
    "1. Type (int, aka integer)"
   ]
  },
  {
   "cell_type": "markdown",
   "metadata": {
    "slideshow": {
     "slide_type": "slide"
    }
   },
   "source": [
    "<center><h2>Objects have methods & attributes</h2></center>\n",
    "\n",
    "Methods (verbs)\n",
    "\n",
    "Attributes (nouns)"
   ]
  },
  {
   "cell_type": "code",
   "execution_count": 32,
   "metadata": {},
   "outputs": [
    {
     "data": {
      "text/plain": [
       "'Brian'"
      ]
     },
     "execution_count": 32,
     "metadata": {},
     "output_type": "execute_result"
    }
   ],
   "source": []
  },
  {
   "cell_type": "markdown",
   "metadata": {
    "slideshow": {
     "slide_type": "slide"
    }
   },
   "source": [
    "<center><h2>Porcelain vs Plumbing</h2></center>\n",
    "<br>\n",
    "<center><img src=\"http://tecnomania.info/wp-content/uploads/2019/04/plumbing-schematics-for-bathroom-schematic-pipe-diagram.jpg\" width=\"65%\"/></center>"
   ]
  },
  {
   "cell_type": "markdown",
   "metadata": {
    "slideshow": {
     "slide_type": "slide"
    }
   },
   "source": [
    "<center><h2>Porcelain vs Plumbing</h2></center>\n",
    "\n",
    "Porcelain is the interface.\n",
    "\n",
    "Plumbing is the implementation.\n",
    "\n"
   ]
  },
  {
   "cell_type": "markdown",
   "metadata": {
    "slideshow": {
     "slide_type": "fragment"
    }
   },
   "source": [
    "This course will be more porcelain than plumbing."
   ]
  },
  {
   "cell_type": "code",
   "execution_count": 31,
   "metadata": {
    "slideshow": {
     "slide_type": "slide"
    }
   },
   "outputs": [
    {
     "data": {
      "text/plain": [
       "1"
      ]
     },
     "execution_count": 31,
     "metadata": {},
     "output_type": "execute_result"
    }
   ],
   "source": [
    "nums = [ 1, 2, 3]\n",
    "nums.count(2)"
   ]
  },
  {
   "cell_type": "code",
   "execution_count": 12,
   "metadata": {
    "slideshow": {
     "slide_type": "skip"
    }
   },
   "outputs": [],
   "source": [
    "# Topics\n",
    "\n",
    "# n = 42\n",
    "# n.numerator\n",
    "\n",
    "# type(\"42\".isnumeric)\n",
    "# type(\"42\".isnumeric())"
   ]
  },
  {
   "cell_type": "markdown",
   "metadata": {
    "slideshow": {
     "slide_type": "skip"
    }
   },
   "source": [
    "1. Teach you how to use tools.                                      \n",
    "2. Start to explore to explore the underlying ideas."
   ]
  },
  {
   "cell_type": "markdown",
   "metadata": {
    "slideshow": {
     "slide_type": "slide"
    }
   },
   "source": [
    "<center><h2>Summary</h2></center>\n",
    "\n",
    "- Python is a powerful, general-purpose programming language. Shockingly useful for data science.\n",
    "- Programs are made up of nouns (variables) and verbs (functions).\n",
    "- Python objects have:\n",
    "    - A name\n",
    "    - A value\n",
    "    - A type\n",
    "- First, focus on interface (porcelain). Later focus on implementation (plumbing)."
   ]
  },
  {
   "cell_type": "markdown",
   "metadata": {
    "slideshow": {
     "slide_type": "slide"
    }
   },
   "source": [
    " "
   ]
  }
 ],
 "metadata": {
  "celltoolbar": "Slideshow",
  "kernelspec": {
   "display_name": "Python 3",
   "language": "python",
   "name": "python3"
  },
  "language_info": {
   "codemirror_mode": {
    "name": "ipython",
    "version": 3
   },
   "file_extension": ".py",
   "mimetype": "text/x-python",
   "name": "python",
   "nbconvert_exporter": "python",
   "pygments_lexer": "ipython3",
   "version": "3.7.3"
  },
  "toc": {
   "base_numbering": 1,
   "nav_menu": {},
   "number_sections": false,
   "sideBar": false,
   "skip_h1_title": false,
   "title_cell": "Table of Contents",
   "title_sidebar": "Contents",
   "toc_cell": true,
   "toc_position": {},
   "toc_section_display": true,
   "toc_window_display": false
  }
 },
 "nbformat": 4,
 "nbformat_minor": 2
}
