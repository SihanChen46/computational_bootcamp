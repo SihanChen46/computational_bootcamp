{
 "cells": [
  {
   "cell_type": "markdown",
   "metadata": {
    "slideshow": {
     "slide_type": "skip"
    },
    "toc": true
   },
   "source": [
    "<h1>Table of Contents<span class=\"tocSkip\"></span></h1>\n",
    "<div class=\"toc\"><ul class=\"toc-item\"><li><span><a href=\"#Welcome-to-Computational-Bootcamp!\" data-toc-modified-id=\"Welcome-to-Computational-Bootcamp!-1\">Welcome to Computational Bootcamp!</a></span></li><li><span><a href=\"#Who-am-I?\" data-toc-modified-id=\"Who-am-I?-2\">Who am I?</a></span></li><li><span><a href=\"#Lambda-λ-🐶\" data-toc-modified-id=\"Lambda-λ-🐶-3\">Lambda λ 🐶</a></span></li><li><span><a href=\"#Class-Survey-(eyes-closed)\" data-toc-modified-id=\"Class-Survey-(eyes-closed)-4\">Class Survey (eyes closed)</a></span></li><li><span><a href=\"#What-is-Data-Science-/-Who-is-a-Data-Scientist?\" data-toc-modified-id=\"What-is-Data-Science-/-Who-is-a-Data-Scientist?-5\">What is Data Science / Who is a Data Scientist?</a></span></li><li><span><a href=\"#Triage-your-knowledge\" data-toc-modified-id=\"Triage-your-knowledge-6\">Triage your knowledge</a></span></li><li><span><a href=\"#The-program-(and-life)-is-long,-take-care-of-yourself\" data-toc-modified-id=\"The-program-(and-life)-is-long,-take-care-of-yourself-7\">The program (and life) is long, take care of yourself</a></span></li><li><span><a href=\"#There-will-be-difficult-topics\" data-toc-modified-id=\"There-will-be-difficult-topics-8\">There will be difficult topics</a></span></li><li><span><a href=\"#Survival-Tips-for-Bootcamp-/-MSDS-/-Data-Scientist-Career\" data-toc-modified-id=\"Survival-Tips-for-Bootcamp-/-MSDS-/-Data-Scientist-Career-9\">Survival Tips for Bootcamp / MSDS / Data Scientist Career</a></span></li><li><span><a href=\"#Questions?\" data-toc-modified-id=\"Questions?-10\">Questions?</a></span></li><li><span><a href=\"#Roots-of-Data-Science-are-in-Ecommerce-Architecture\" data-toc-modified-id=\"Roots-of-Data-Science-are-in-Ecommerce-Architecture-11\">Roots of Data Science are in Ecommerce Architecture</a></span></li></ul></div>"
   ]
  },
  {
   "cell_type": "markdown",
   "metadata": {
    "slideshow": {
     "slide_type": "slide"
    }
   },
   "source": [
    "<center><h2>Welcome to Computational Bootcamp!</h2></center>\n",
    "\n",
    "<center><img src=\"images/data_scientist_should.png\" width=\"90%\"/></center>"
   ]
  },
  {
   "cell_type": "markdown",
   "metadata": {
    "slideshow": {
     "slide_type": "slide"
    }
   },
   "source": [
    " <center><h2>Who am I?</h2></center>\n",
    " \n",
    " <center><img src=\"images/me.jpg\" width=\"65%\"/></center>"
   ]
  },
  {
   "cell_type": "markdown",
   "metadata": {
    "slideshow": {
     "slide_type": "slide"
    }
   },
   "source": [
    "<center><h2>Lambda λ 🐶</h2></center>\n",
    "\n",
    "<center><img src=\"images/lambda_in_a_field.jpg\" width=\"70%\"/></center> "
   ]
  },
  {
   "cell_type": "markdown",
   "metadata": {
    "slideshow": {
     "slide_type": "skip"
    }
   },
   "source": [
    "- What I do at USF MSDS\n",
    "- My programming background"
   ]
  },
  {
   "cell_type": "markdown",
   "metadata": {
    "slideshow": {
     "slide_type": "slide"
    }
   },
   "source": [
    "<center><h2>Class Survey (eyes closed)</h2></center>\n",
    "\n"
   ]
  },
  {
   "cell_type": "markdown",
   "metadata": {
    "slideshow": {
     "slide_type": "skip"
    }
   },
   "source": [
    "Eyes closed!\n",
    " "
   ]
  },
  {
   "cell_type": "markdown",
   "metadata": {
    "slideshow": {
     "slide_type": "fragment"
    }
   },
   "source": [
    "- Who is excited?\n",
    "- Who is nervous? Who feels they aren't good at programming?\n",
    "- Who is intermediate skill-level in another program language but novice in Python? \n",
    "- Who can make a variable in Python?\n",
    "- Who can make a simple function in Python?\n",
    "- Who can make a class in Python?\n",
    "- Who feels like shouldn't be in the class because they already know enough?"
   ]
  },
  {
   "cell_type": "markdown",
   "metadata": {
    "slideshow": {
     "slide_type": "slide"
    }
   },
   "source": [
    "<center><h2>What is Data Science / Who is a Data Scientist?</h2></center>"
   ]
  },
  {
   "cell_type": "markdown",
   "metadata": {
    "slideshow": {
     "slide_type": "fragment"
    }
   },
   "source": [
    "<center><img src=\"images/willis.png\" width=\"75%\"/></center>"
   ]
  },
  {
   "cell_type": "markdown",
   "metadata": {
    "slideshow": {
     "slide_type": "skip"
    }
   },
   "source": [
    "[Source](https://twitter.com/josh_wills/status/198093512149958656)\n",
    "\n",
    "[Read more here](https://community.ibm.com/community/user/datascience/blogs/paco-nathan/2019/03/04/what-is-data-science)"
   ]
  },
  {
   "cell_type": "markdown",
   "metadata": {
    "slideshow": {
     "slide_type": "slide"
    }
   },
   "source": [
    "<center><img src=\"images/surfing.jpg\" width=\"100%\"/></center>"
   ]
  },
  {
   "cell_type": "markdown",
   "metadata": {
    "slideshow": {
     "slide_type": "skip"
    }
   },
   "source": [
    "[Source](https://cdn.citylab.com/media/img/citylab/2018/05/RTR4IA63/facebook.jpg?1527265490)"
   ]
  },
  {
   "cell_type": "markdown",
   "metadata": {
    "slideshow": {
     "slide_type": "slide"
    }
   },
   "source": [
    "<center><img src=\"images/done-is-better-than-perfect.png\" width=\"50%\"/></center>"
   ]
  },
  {
   "cell_type": "markdown",
   "metadata": {
    "slideshow": {
     "slide_type": "slide"
    }
   },
   "source": [
    "<center><big><big>There is always too much to do for the amount of time.<br><br><br>There is always more learn (both in breadth and depth).</big></big></center>"
   ]
  },
  {
   "cell_type": "markdown",
   "metadata": {
    "slideshow": {
     "slide_type": "slide"
    }
   },
   "source": [
    "<center><img src=\"images/slide_17.jpg\" width=\"100%\"/></center>"
   ]
  },
  {
   "cell_type": "markdown",
   "metadata": {
    "slideshow": {
     "slide_type": "skip"
    }
   },
   "source": [
    "[Source](https://blogs.akamai.com/2013/10/you-must-try-and-then-you-must-ask.html)"
   ]
  },
  {
   "cell_type": "markdown",
   "metadata": {
    "slideshow": {
     "slide_type": "slide"
    }
   },
   "source": [
    "<center><big>I make assumptions and use technical jargon. <br><br><br>If I say something that is confusing, please stop me and ask me to explain.</big></center>"
   ]
  },
  {
   "cell_type": "markdown",
   "metadata": {
    "slideshow": {
     "slide_type": "slide"
    }
   },
   "source": [
    "<center><h2>Triage your knowledge</h2></center>\n",
    "<br>\n",
    "<br>\n",
    "\n"
   ]
  },
  {
   "cell_type": "markdown",
   "metadata": {
    "slideshow": {
     "slide_type": "fragment"
    }
   },
   "source": [
    "1) Things I should memorize such that I can recall them fluently."
   ]
  },
  {
   "cell_type": "markdown",
   "metadata": {
    "slideshow": {
     "slide_type": "fragment"
    }
   },
   "source": [
    "2) Things I should know about so I can look them up more effectively later.\n"
   ]
  },
  {
   "cell_type": "markdown",
   "metadata": {
    "slideshow": {
     "slide_type": "fragment"
    }
   },
   "source": [
    "3) Things I shouldn’t bother with at all until I actually need them.                            "
   ]
  },
  {
   "cell_type": "markdown",
   "metadata": {
    "slideshow": {
     "slide_type": "skip"
    }
   },
   "source": [
    "[Source](https://treyhunner.com/2019/05/python-builtins-worth-learning/) "
   ]
  },
  {
   "cell_type": "markdown",
   "metadata": {
    "slideshow": {
     "slide_type": "slide"
    }
   },
   "source": [
    "<center><h2>The program (and life) is long, take care of yourself</h2></center>\n",
    "<br>\n",
    "<center><img src=\"images/Pie-Chart.png\" width=\"55%\"/></center>"
   ]
  },
  {
   "cell_type": "markdown",
   "metadata": {
    "slideshow": {
     "slide_type": "skip"
    }
   },
   "source": [
    "<center><h2>There will be difficult topics</h2></center>\n",
    "\n",
    "<center><img src=\"images/try try success.png\" width=\"100%\"/></center>"
   ]
  },
  {
   "cell_type": "markdown",
   "metadata": {
    "slideshow": {
     "slide_type": "slide"
    }
   },
   "source": [
    "<center><h2>Survival Tips for Bootcamp / MSDS / Data Scientist Career</h2></center>\n",
    " \n",
    "- There is always too much to do for the amount of time. There is always more learn (both in breadth and depth).\n",
    "- Good enough is good enough. You might not understand everything, that is okay.\n",
    "- You must try; You must ask.\n",
    "- Triage your knowledge. \n",
    "- Takes breaks. Find what recharges you and schedule it."
   ]
  },
  {
   "cell_type": "markdown",
   "metadata": {
    "slideshow": {
     "slide_type": "slide"
    }
   },
   "source": [
    "<center><h2>Questions?</h2></center>"
   ]
  },
  {
   "cell_type": "markdown",
   "metadata": {
    "slideshow": {
     "slide_type": "slide"
    }
   },
   "source": [
    " "
   ]
  },
  {
   "cell_type": "markdown",
   "metadata": {},
   "source": [
    "Bonus Material\n",
    "-----"
   ]
  },
  {
   "cell_type": "markdown",
   "metadata": {
    "slideshow": {
     "slide_type": "slide"
    }
   },
   "source": [
    "<center><h2>Roots of Data Science are in Ecommerce Architecture</h2></center>\n",
    "<br>\n",
    "<center><img src=\"https://higherlogicdownload.s3.amazonaws.com/IMWUC/UploadedImages/0d63eecd-fa76-4440-b4c0-a34a9e757e49/1997.png\" width=\"70%\"/></center>"
   ]
  },
  {
   "cell_type": "code",
   "execution_count": null,
   "metadata": {},
   "outputs": [],
   "source": []
  }
 ],
 "metadata": {
  "celltoolbar": "Slideshow",
  "kernelspec": {
   "display_name": "Python 3",
   "language": "python",
   "name": "python3"
  },
  "language_info": {
   "codemirror_mode": {
    "name": "ipython",
    "version": 3
   },
   "file_extension": ".py",
   "mimetype": "text/x-python",
   "name": "python",
   "nbconvert_exporter": "python",
   "pygments_lexer": "ipython3",
   "version": "3.7.3"
  },
  "toc": {
   "base_numbering": 1,
   "nav_menu": {},
   "number_sections": false,
   "sideBar": false,
   "skip_h1_title": false,
   "title_cell": "Table of Contents",
   "title_sidebar": "Contents",
   "toc_cell": true,
   "toc_position": {},
   "toc_section_display": true,
   "toc_window_display": false
  }
 },
 "nbformat": 4,
 "nbformat_minor": 2
}
