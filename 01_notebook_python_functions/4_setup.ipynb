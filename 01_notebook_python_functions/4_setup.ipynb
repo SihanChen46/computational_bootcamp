{
 "cells": [
  {
   "cell_type": "markdown",
   "metadata": {
    "slideshow": {
     "slide_type": "skip"
    },
    "toc": true
   },
   "source": [
    "<h1>Table of Contents<span class=\"tocSkip\"></span></h1>\n",
    "<div class=\"toc\"><ul class=\"toc-item\"><li><span><a href=\"#Setting-up-Your-Computer\" data-toc-modified-id=\"Setting-up-Your-Computer-1\">Setting-up Your Computer</a></span></li><li><span><a href=\"#By-The-End-Of-This-Session-You-Should-Be-Able-To:\" data-toc-modified-id=\"By-The-End-Of-This-Session-You-Should-Be-Able-To:-2\">By The End Of This Session You Should Be Able To:</a></span></li><li><span><a href=\"#Setting-up-an-Development-Environment-sucks\" data-toc-modified-id=\"Setting-up-an-Development-Environment-sucks-3\">Setting-up an Development Environment sucks</a></span></li><li><span><a href=\"#Install-Anaconda\" data-toc-modified-id=\"Install-Anaconda-4\">Install Anaconda</a></span></li><li><span><a href=\"#Running-Jupyter-Notebook\" data-toc-modified-id=\"Running-Jupyter-Notebook-5\">Running Jupyter Notebook</a></span></li><li><span><a href=\"#Use-GitHub-like-Dropbox-for-now\" data-toc-modified-id=\"Use-GitHub-like-Dropbox-for-now-6\">Use GitHub like Dropbox for now</a></span></li><li><span><a href=\"#Getting-started-with-GitHub\" data-toc-modified-id=\"Getting-started-with-GitHub-7\">Getting started with GitHub</a></span></li><li><span><a href=\"#GitHub-Troubleshooting\" data-toc-modified-id=\"GitHub-Troubleshooting-8\">GitHub Troubleshooting</a></span></li><li><span><a href=\"#-Questions?\" data-toc-modified-id=\"-Questions?-9\"> Questions?</a></span></li></ul></div>"
   ]
  },
  {
   "cell_type": "markdown",
   "metadata": {
    "slideshow": {
     "slide_type": "slide"
    }
   },
   "source": [
    "<center><h2>Setting-up Your Computer</h2></center>\n",
    "\n",
    "<center><img src=\"https://imgs.xkcd.com/comics/success.png\" width=\"30%\"/></center>"
   ]
  },
  {
   "cell_type": "markdown",
   "metadata": {
    "slideshow": {
     "slide_type": "slide"
    }
   },
   "source": [
    "By The End Of This Session You Should Be Able To:\n",
    "----\n",
    "\n",
    "- Install and have a functioning version of:\n",
    "    - Anaconda\n",
    "    - Jupyter Notebook \n",
    "    - Course materials from GitHub"
   ]
  },
  {
   "cell_type": "markdown",
   "metadata": {
    "slideshow": {
     "slide_type": "slide"
    }
   },
   "source": [
    "<center><h2>Setting-up an Development Environment sucks</h2></center>\n",
    " \n",
    "Can take more than a __full__ day to setup a professional environment!\n",
    "    "
   ]
  },
  {
   "cell_type": "markdown",
   "metadata": {
    "slideshow": {
     "slide_type": "skip"
    }
   },
   "source": [
    "I have worked for companies where I as told it wasn't worth for me to setup env, thus could not contribute to the product."
   ]
  },
  {
   "cell_type": "markdown",
   "metadata": {
    "slideshow": {
     "slide_type": "slide"
    }
   },
   "source": [
    "<center>If you can start on the lab, start on the lab.</center>\n",
    "\n",
    "Flags:\n",
    "\n",
    "- Green post-it - Everything is working (or I'm done) 🙂\n",
    "- Red post-it - Something is broken 😡"
   ]
  },
  {
   "cell_type": "markdown",
   "metadata": {
    "slideshow": {
     "slide_type": "slide"
    }
   },
   "source": [
    "<center><h2>Install Anaconda</h2></center>\n",
    "\n",
    "- Follow these directions for macOS graphical install [docs.anaconda.com/anaconda/install/mac-os](https://docs.anaconda.com/anaconda/install/mac-os)\n",
    "- Python 3.7 version\n",
    "- Skip PyCharm installation\n"
   ]
  },
  {
   "cell_type": "markdown",
   "metadata": {
    "slideshow": {
     "slide_type": "slide"
    }
   },
   "source": [
    "<center><h2>Running Jupyter Notebook</h2></center>\n",
    "\n",
    "- Find Anaconda Navigator\n",
    "- Launch Jupyter Notebook"
   ]
  },
  {
   "cell_type": "code",
   "execution_count": 1,
   "metadata": {
    "slideshow": {
     "slide_type": "slide"
    }
   },
   "outputs": [],
   "source": [
    "# Test which version of Python\n",
    "\n",
    "import sys\n",
    "\n",
    "assert sys.version_info >= (3, 7) "
   ]
  },
  {
   "cell_type": "markdown",
   "metadata": {
    "slideshow": {
     "slide_type": "slide"
    }
   },
   "source": [
    "<center><h2>Use GitHub like Dropbox for now</h2></center>\n",
    "\n",
    "You'll just download files that I post.\n",
    "\n",
    "Later we'll use it own professional coder use it.\n",
    "\n",
    "If you don't how to navigate the file system, put everything on desktop."
   ]
  },
  {
   "cell_type": "markdown",
   "metadata": {
    "slideshow": {
     "slide_type": "slide"
    }
   },
   "source": [
    "<center><h2>Getting started with GitHub</h2></center>\n",
    " \n",
    "1. Go to repo - https://github.com/brianspiering/computational_bootcamp\n",
    "1. Click on 'Clone or download'\n",
    "1. Click on 'Open in Desktop\"\n",
    "1. Use GitHub Desktop - https://desktop.github.com/\n",
    "1. Pick file location (e.g., Desktop)\n",
    "1. Select branch\n",
    "1. Fetch origin to get any changes\n",
    "1. Rename any file you modify to avoid problems\n"
   ]
  },
  {
   "cell_type": "markdown",
   "metadata": {
    "slideshow": {
     "slide_type": "skip"
    }
   },
   "source": [
    "Helpful documentation:\n",
    "\n",
    "- https://help.github.com/en/desktop/contributing-to-projects/syncing-your-branch"
   ]
  },
  {
   "cell_type": "markdown",
   "metadata": {
    "slideshow": {
     "slide_type": "slide"
    }
   },
   "source": [
    "Once the lab is cloned from GitHub\n",
    "-----\n",
    "\n",
    "1. Make a copy and rename it. \n",
    "2. Open Jupyter Notebook.\n",
    "3. Navigate to the folder.\n",
    "4. Open your copy.\n",
    "\n",
    "Attempt the problems.\n",
    "\n",
    "I'll cover how to submit assignments on Thursday."
   ]
  },
  {
   "cell_type": "markdown",
   "metadata": {
    "slideshow": {
     "slide_type": "slide"
    }
   },
   "source": [
    "<center><h2>GitHub Troubleshooting</h2></center>\n",
    "\n",
    "If you have troubles:\n",
    "\n",
    "1. Move any files you want to keep to another directory\n",
    "1. Start over"
   ]
  },
  {
   "cell_type": "markdown",
   "metadata": {
    "slideshow": {
     "slide_type": "slide"
    }
   },
   "source": [
    "<center><h2> Questions?</h2></center>"
   ]
  },
  {
   "cell_type": "markdown",
   "metadata": {
    "slideshow": {
     "slide_type": "slide"
    }
   },
   "source": [
    " "
   ]
  },
  {
   "cell_type": "markdown",
   "metadata": {
    "slideshow": {
     "slide_type": "skip"
    }
   },
   "source": [
    "<center><img src=\"https://imgs.xkcd.com/comics/git.png\" width=\"35%\"/></center> "
   ]
  },
  {
   "cell_type": "markdown",
   "metadata": {
    "slideshow": {
     "slide_type": "slide"
    }
   },
   "source": [
    "  "
   ]
  }
 ],
 "metadata": {
  "celltoolbar": "Slideshow",
  "kernelspec": {
   "display_name": "Python 3",
   "language": "python",
   "name": "python3"
  },
  "language_info": {
   "codemirror_mode": {
    "name": "ipython",
    "version": 3
   },
   "file_extension": ".py",
   "mimetype": "text/x-python",
   "name": "python",
   "nbconvert_exporter": "python",
   "pygments_lexer": "ipython3",
   "version": "3.7.3"
  },
  "toc": {
   "base_numbering": 1,
   "nav_menu": {},
   "number_sections": false,
   "sideBar": false,
   "skip_h1_title": false,
   "title_cell": "Table of Contents",
   "title_sidebar": "Contents",
   "toc_cell": true,
   "toc_position": {},
   "toc_section_display": true,
   "toc_window_display": false
  }
 },
 "nbformat": 4,
 "nbformat_minor": 2
}
