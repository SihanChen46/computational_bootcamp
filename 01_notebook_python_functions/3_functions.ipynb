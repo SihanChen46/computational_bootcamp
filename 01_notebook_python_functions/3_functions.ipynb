{
 "cells": [
  {
   "cell_type": "markdown",
   "metadata": {
    "slideshow": {
     "slide_type": "skip"
    },
    "toc": true
   },
   "source": [
    "<h1>Table of Contents<span class=\"tocSkip\"></span></h1>\n",
    "<div class=\"toc\"><ul class=\"toc-item\"><li><span><a href=\"#Fun-with-Functions\" data-toc-modified-id=\"Fun-with-Functions-1\">Fun with Functions</a></span></li><li><span><a href=\"#Learning-Outcomes\" data-toc-modified-id=\"Learning-Outcomes-2\">Learning Outcomes</a></span><ul class=\"toc-item\"><li><ul class=\"toc-item\"><li><span><a href=\"#By-the-end-of-this-session,-you-should-be-able-to:\" data-toc-modified-id=\"By-the-end-of-this-session,-you-should-be-able-to:-2.0.1\">By the end of this session, you should be able to:</a></span></li></ul></li></ul></li><li><span><a href=\"#Basic-Components-of-a-Program\" data-toc-modified-id=\"Basic-Components-of-a-Program-3\">Basic Components of a Program</a></span></li><li><span><a href=\"#Functions-are-just-very-small-programs\" data-toc-modified-id=\"Functions-are-just-very-small-programs-4\">Functions are just very small programs</a></span></li><li><span><a href=\"#Functions-are-the-Paragraphs-of-Programming\" data-toc-modified-id=\"Functions-are-the-Paragraphs-of-Programming-5\">Functions are the Paragraphs of Programming</a></span></li><li><span><a href=\"#What-are-Python's-built-in-functions?\" data-toc-modified-id=\"What-are-Python's-built-in-functions?-6\">What are Python's built-in functions?</a></span></li><li><span><a href=\"#Let's-build-our-own-function!\" data-toc-modified-id=\"Let's-build-our-own-function!-7\">Let's build our own function!</a></span></li><li><span><a href=\"#Function-Checklist\" data-toc-modified-id=\"Function-Checklist-8\">Function Checklist</a></span></li><li><span><a href=\"#All-functions-should-only-do-one-thing\" data-toc-modified-id=\"All-functions-should-only-do-one-thing-9\">All functions should only do one thing</a></span></li><li><span><a href=\"#Most-functions-should-have-tests.\" data-toc-modified-id=\"Most-functions-should-have-tests.-10\">Most functions should have tests.</a></span></li><li><span><a href=\"#Every-function-that-performs-computation-should-have-tests.\" data-toc-modified-id=\"Every-function-that-performs-computation-should-have-tests.-11\">Every function that performs computation should have tests.</a></span></li><li><span><a href=\"#How-many-lines-should-a-function-be?\" data-toc-modified-id=\"How-many-lines-should-a-function-be?-12\">How many lines should a function be?</a></span></li><li><span><a href=\"#Scope\" data-toc-modified-id=\"Scope-13\">Scope</a></span></li><li><span><a href=\"#-Scope-of-Variables\" data-toc-modified-id=\"-Scope-of-Variables-14\"> Scope of Variables</a></span></li><li><span><a href=\"#Python-functions-always-return-something\" data-toc-modified-id=\"Python-functions-always-return-something-15\">Python functions always return something</a></span></li><li><span><a href=\"#What-the-heck-is-NoneType?\" data-toc-modified-id=\"What-the-heck-is-NoneType?-16\">What the heck is NoneType?</a></span></li><li><span><a href=\"#Student-Exercises\" data-toc-modified-id=\"Student-Exercises-17\">Student Exercises</a></span></li><li><span><a href=\"#-Summary\" data-toc-modified-id=\"-Summary-18\"> Summary</a></span></li></ul></div>"
   ]
  },
  {
   "cell_type": "markdown",
   "metadata": {
    "slideshow": {
     "slide_type": "slide"
    }
   },
   "source": [
    "<center><h2>Fun with Functions</h2></center>\n"
   ]
  },
  {
   "cell_type": "markdown",
   "metadata": {
    "slideshow": {
     "slide_type": "slide"
    }
   },
   "source": [
    "<center><img src=\"images/2017-02-27-ChickenTikkaMasala-16-600x840.jpg\" width=\"40%\"/></center>"
   ]
  },
  {
   "cell_type": "markdown",
   "metadata": {
    "slideshow": {
     "slide_type": "skip"
    }
   },
   "source": [
    "[Image Source](https://www.simplyrecipes.com/recipes/chicken_tikka_masala/)"
   ]
  },
  {
   "cell_type": "markdown",
   "metadata": {
    "slideshow": {
     "slide_type": "skip"
    }
   },
   "source": [
    "Just recently I made Chicken Tikka Masala.\n",
    "\n",
    "It was interesting but took a long time and didn't taste that good.\n",
    "\n",
    "I prefer to get someone else to make it.\n",
    "\n",
    "Coding is very similar - parts are made by others, part are made by use.\n",
    "\n",
    "Similarly, most cookbooks provide a number of fundamental recipes, such as making sauces, that are used by other recipes. A cookbook is organized into a series of executable recipes, some of which \"invoke\" other recipes. To make dinner, I open a cookbook, acquire some raw ingredients, then execute one or more recipes, usually in a specific sequence.\n",
    "\n",
    "Writing a program proceeds in the same way. Opening a cookbook is the same as importing libraries. Acquiring raw ingredients could mean loading data into the memory. The main program invokes functions (recipes) to accomplish a particular task. As part of writing a program, we will typically break out logical sections of code into functions specific to our problem, whereas the functions in libraries tend to be broadly-applicable.\n",
    "\n",
    "The way we organize our code is important. Programs quickly become an incomprehensible rats nest if we are not strict about style and organization. Here is the general structure of the Python programs we will write:\n",
    "\n",
    "import any libraries\n",
    "define any constants, simple data values\n",
    "define any functions\n",
    "main program body\n",
    "\n"
   ]
  },
  {
   "cell_type": "markdown",
   "metadata": {
    "slideshow": {
     "slide_type": "slide"
    }
   },
   "source": [
    "<center><h2>Learning Outcomes</h2></center>\n",
    "\n",
    "#### By the end of this session, you should be able to:\n",
    "\n",
    "- Explain in your words how functions will help you to organize your code.\n",
    "- Use common built-in functions.\n",
    "- Write your functions."
   ]
  },
  {
   "cell_type": "markdown",
   "metadata": {
    "slideshow": {
     "slide_type": "slide"
    }
   },
   "source": [
    "<center><h2>Basic Components of a Program</h2></center>\n",
    "\n",
    "In Data Science, programs are a series of commands that process data.\n",
    "\n",
    "Most programs:\n",
    "\n",
    "1. Input: Start with data (nouns)\n",
    "2. Processing: Do stuff with the data (verbs)\n",
    "3. Output: Return new data and/or print results (nouns)"
   ]
  },
  {
   "cell_type": "markdown",
   "metadata": {
    "slideshow": {
     "slide_type": "slide"
    }
   },
   "source": [
    "<center><h2>Functions are just very small programs</h2></center>\n",
    "\n",
    "In Data Science, ~~programs~~ functions are a series of commands that process data.\n",
    "\n",
    "Most ~~programs~~ functions:\n",
    "\n",
    "1. Input: Start with data (nouns)\n",
    "2. Processing: Do stuff with the data (verbs)\n",
    "3. Output: Return new data and/or print results (nouns)"
   ]
  },
  {
   "cell_type": "markdown",
   "metadata": {
    "slideshow": {
     "slide_type": "slide"
    }
   },
   "source": [
    "<center><h2>Functions are the Paragraphs of Programming</h2></center>\n",
    "\n",
    "<center><img src=\"images/functions.png\" width=\"60%\"/></center>"
   ]
  },
  {
   "cell_type": "markdown",
   "metadata": {
    "slideshow": {
     "slide_type": "skip"
    }
   },
   "source": [
    "Divide Program into Small Manageable Parts\n",
    "\n",
    "- Simpler to understand. Look at smaller sections\n",
    "- Allows code to be written once and reused, rather than copied n' pasted in many places\n",
    "- Faster coding. Larger projects can be broken into smaller pieces.\n",
    "- Supports teamwork: team members can work on different functions of the same program\n",
    "- Easier to test. Define inputs and outputs of functions."
   ]
  },
  {
   "cell_type": "markdown",
   "metadata": {
    "slideshow": {
     "slide_type": "skip"
    }
   },
   "source": [
    "A sequence of operations grouped into a single, named entity is called a **function**. Functions are like mini programs or subprograms that we can plan out just like full programs.  \n",
    "\n",
    "Python **programs** consist of zero or more functions and the so-called \"main\" program, consisting of a sequence of operations that gets the ball rolling.\n",
    "\n",
    "Instead of loading data from the disk, functions operate on data given to them from the invoking program. This incoming data is analogous to a recipe's list of ingredients and is specified in the form of one or more named *parameters* (also called *arguments*). Instead of printing a result or displaying a graph, as a program would, functions *return* values. Functions are meant as helper routines that are generically useful.\n",
    "\n",
    "We begin planning a function by identifying:\n",
    " \n",
    "1. a descriptive function name\n",
    "2. the kind of value(s) it operates on (parameter types)\n",
    "3. the kind of value it returns (return type)\n",
    "4. what the function does and the value it returns\n",
    "\n",
    "If we can't specifying exactly what goes in and out of the function, there's no hope of determining the processing steps, let alone Python code, to implement that function.\n",
    "\n",
    "As with a program's work plan, we then manually write out some sample function invocations to show what data goes in and what data comes out. \n",
    "\n",
    "Once we fully understand our goal, we plan out the sequence of operations needed by the function to compute the desired result.  As when designing a whole program, we start with the return value and work our way backwards, identifying operations in reverse order. Note: The operations should be purely a function of the data passed to them as parameters---functions should be completely ignorant of any other data. (More on this when we actually translate function pseudocode to Python.)  "
   ]
  },
  {
   "cell_type": "markdown",
   "metadata": {
    "slideshow": {
     "slide_type": "slide"
    }
   },
   "source": [
    "<center><h2>What are Python's built-in functions?</h2></center>"
   ]
  },
  {
   "cell_type": "code",
   "execution_count": 1,
   "metadata": {
    "slideshow": {
     "slide_type": "skip"
    }
   },
   "outputs": [],
   "source": [
    "reset -fs"
   ]
  },
  {
   "cell_type": "code",
   "execution_count": 2,
   "metadata": {
    "slideshow": {
     "slide_type": "fragment"
    }
   },
   "outputs": [],
   "source": [
    "# Let's brainstorm a list …\n"
   ]
  },
  {
   "cell_type": "code",
   "execution_count": 3,
   "metadata": {
    "slideshow": {
     "slide_type": "skip"
    }
   },
   "outputs": [
    {
     "name": "stdout",
     "output_type": "stream",
     "text": [
      "\n"
     ]
    },
    {
     "data": {
      "text/plain": [
       "2"
      ]
     },
     "execution_count": 3,
     "metadata": {},
     "output_type": "execute_result"
    }
   ],
   "source": [
    "print()\n",
    "sum([1, 1])"
   ]
  },
  {
   "cell_type": "markdown",
   "metadata": {
    "slideshow": {
     "slide_type": "fragment"
    }
   },
   "source": [
    "[Python built-in functions](https://docs.python.org/3/library/functions.html)"
   ]
  },
  {
   "cell_type": "markdown",
   "metadata": {
    "slideshow": {
     "slide_type": "slide"
    }
   },
   "source": [
    "The commonly known built-in functions (which you likely already know about):\n",
    "\n",
    "```python\n",
    "print\n",
    "len\n",
    "str\n",
    "int\n",
    "float\n",
    "list\n",
    "tuple\n",
    "dict\n",
    "set\n",
    "range\n",
    "```"
   ]
  },
  {
   "cell_type": "markdown",
   "metadata": {
    "slideshow": {
     "slide_type": "slide"
    }
   },
   "source": [
    "The built-in functions which are often overlooked by newer Python programmers:\n",
    "\n",
    "```python\n",
    "sorted\n",
    "sum\n",
    "enumerate\n",
    "zip\n",
    "reversed\n",
    "min\n",
    "max\n",
    "```"
   ]
  },
  {
   "cell_type": "markdown",
   "metadata": {
    "slideshow": {
     "slide_type": "skip"
    }
   },
   "source": [
    "[Source](https://treyhunner.com/2019/05/python-builtins-worth-learning/)"
   ]
  },
  {
   "cell_type": "markdown",
   "metadata": {
    "slideshow": {
     "slide_type": "slide"
    }
   },
   "source": [
    "<center><h2>Let's build our own function!</h2></center> \n",
    "\n",
    "<center><img src=\"images/functions_overview.png\" width=\"75%\"/></center>"
   ]
  },
  {
   "cell_type": "code",
   "execution_count": 4,
   "metadata": {
    "slideshow": {
     "slide_type": "fragment"
    }
   },
   "outputs": [],
   "source": [
    "# Let's define pi function"
   ]
  },
  {
   "cell_type": "code",
   "execution_count": 5,
   "metadata": {
    "slideshow": {
     "slide_type": "skip"
    }
   },
   "outputs": [],
   "source": [
    "def my_pi() -> float:\n",
    "    \"Return approximate value of pi\"\n",
    "    return 3.14159"
   ]
  },
  {
   "cell_type": "markdown",
   "metadata": {
    "slideshow": {
     "slide_type": "slide"
    }
   },
   "source": [
    "<center><h2>Function Checklist</h2></center>\n",
    "\n",
    "- Does one thing.\n",
    "- Does that one thing correctly.\n",
    "- Sensibly named.\n",
    "- Documented (type hints and docstring)."
   ]
  },
  {
   "cell_type": "markdown",
   "metadata": {
    "slideshow": {
     "slide_type": "skip"
    }
   },
   "source": [
    "__Best Practices for Functions__\n",
    "\n",
    "1. Idempotent \n",
    "2. Pure (if possible):\n",
    "\n",
    "    - Does not have logging statements or print() calls. \n",
    "\n",
    "    - Does not make use of database or internet connections. \n",
    "\n",
    "    - Does not access or modify non-local variables.\n",
    "\n",
    "    - Does not call any other non-pure functions.\n"
   ]
  },
  {
   "cell_type": "markdown",
   "metadata": {
    "slideshow": {
     "slide_type": "slide"
    }
   },
   "source": [
    "<center><img src=\"https://image.slidesharecdn.com/softwareengineering101-141010072749-conversion-gate01/95/software-engineering-101-the-basics-you-should-hear-about-at-least-once-32-638.jpg?cb=1414068953\" width=\"90%\"/></center>"
   ]
  },
  {
   "cell_type": "markdown",
   "metadata": {
    "slideshow": {
     "slide_type": "slide"
    }
   },
   "source": [
    "<center><h2>All functions should only do one thing</h2></center> \n",
    "<br>\n",
    "<center>Do one thing. Do it well. Do it completely.</center>\n"
   ]
  },
  {
   "cell_type": "markdown",
   "metadata": {
    "slideshow": {
     "slide_type": "fragment"
    }
   },
   "source": [
    "```python\n",
    "def remove_user_from_database_and_send_email(user_id):\n",
    "    pass\n",
    "```"
   ]
  },
  {
   "cell_type": "markdown",
   "metadata": {
    "slideshow": {
     "slide_type": "fragment"
    }
   },
   "source": [
    "```python\n",
    "def off_board_user(user_id):\n",
    "    remove_user_from_database(user_id):\n",
    "    send_emai(user_id):\n",
    "    …\n",
    "``` "
   ]
  },
  {
   "cell_type": "markdown",
   "metadata": {
    "slideshow": {
     "slide_type": "slide"
    }
   },
   "source": [
    "<center><h2>Most functions should have tests.</h2></center> "
   ]
  },
  {
   "cell_type": "markdown",
   "metadata": {
    "slideshow": {
     "slide_type": "fragment"
    }
   },
   "source": [
    "<center><h2>Every function that performs computation should have tests.</h2></center> "
   ]
  },
  {
   "cell_type": "code",
   "execution_count": 6,
   "metadata": {
    "slideshow": {
     "slide_type": "slide"
    }
   },
   "outputs": [],
   "source": [
    "# Let's test my_pi\n",
    "\n"
   ]
  },
  {
   "cell_type": "code",
   "execution_count": 7,
   "metadata": {
    "slideshow": {
     "slide_type": "skip"
    }
   },
   "outputs": [],
   "source": [
    "from math import pi\n",
    "\n",
    "assert my_pi() == round(pi, 5)"
   ]
  },
  {
   "cell_type": "markdown",
   "metadata": {
    "slideshow": {
     "slide_type": "fragment"
    }
   },
   "source": [
    "A unit test is an automated check that a small part of your code works correctly."
   ]
  },
  {
   "cell_type": "markdown",
   "metadata": {
    "slideshow": {
     "slide_type": "skip"
    }
   },
   "source": [
    "Source: [how becoming not a data scientist made me a better data scientist](https://docs.google.com/presentation/d/1jk-qrVKCb0-P9P4BVzH75gcVhp5Dy5n1CP_gKnHMNY0/edit)"
   ]
  },
  {
   "cell_type": "markdown",
   "metadata": {
    "slideshow": {
     "slide_type": "slide"
    }
   },
   "source": [
    "<center><h2>How many lines should a function be?</h2></center>\n"
   ]
  },
  {
   "cell_type": "markdown",
   "metadata": {
    "slideshow": {
     "slide_type": "fragment"
    }
   },
   "source": [
    "Enough lines to solve the problem.\n",
    "\n",
    "There is no fixed number. \n",
    "\n",
    "Generally after 30-50 lines, the function is doing more than 1 thing."
   ]
  },
  {
   "cell_type": "markdown",
   "metadata": {
    "slideshow": {
     "slide_type": "slide"
    }
   },
   "source": [
    "<center><h2>Scope</h2></center>\n",
    "\n",
    "The scope of a variable is the context in which an object exists, aka everywhere it is available in the namespace."
   ]
  },
  {
   "cell_type": "code",
   "execution_count": 8,
   "metadata": {
    "slideshow": {
     "slide_type": "fragment"
    }
   },
   "outputs": [
    {
     "name": "stdout",
     "output_type": "stream",
     "text": [
      "Variable   Type        Data/Info\n",
      "--------------------------------\n",
      "my_pi      function    <function my_pi at 0x105259840>\n",
      "pi         float       3.141592653589793\n"
     ]
    }
   ],
   "source": [
    "whos"
   ]
  },
  {
   "cell_type": "code",
   "execution_count": 9,
   "metadata": {
    "slideshow": {
     "slide_type": "fragment"
    }
   },
   "outputs": [
    {
     "name": "stdout",
     "output_type": "stream",
     "text": [
      "42\n"
     ]
    }
   ],
   "source": [
    "meaning = 42\n",
    "print(meaning)\n",
    "\n",
    "def scope_test():\n",
    "    print(meaning)\n",
    "\n",
    "# What is the output?"
   ]
  },
  {
   "cell_type": "code",
   "execution_count": 10,
   "metadata": {
    "slideshow": {
     "slide_type": "slide"
    }
   },
   "outputs": [
    {
     "name": "stdout",
     "output_type": "stream",
     "text": [
      "42\n"
     ]
    },
    {
     "ename": "NameError",
     "evalue": "name 'name' is not defined",
     "output_type": "error",
     "traceback": [
      "\u001b[0;31m---------------------------------------------------------------------------\u001b[0m",
      "\u001b[0;31mNameError\u001b[0m                                 Traceback (most recent call last)",
      "\u001b[0;32m<ipython-input-10-357c82f261b6>\u001b[0m in \u001b[0;36m<module>\u001b[0;34m\u001b[0m\n\u001b[1;32m      6\u001b[0m \u001b[0;34m\u001b[0m\u001b[0m\n\u001b[1;32m      7\u001b[0m \u001b[0mscope_test\u001b[0m\u001b[0;34m(\u001b[0m\u001b[0;34m)\u001b[0m\u001b[0;34m\u001b[0m\u001b[0;34m\u001b[0m\u001b[0m\n\u001b[0;32m----> 8\u001b[0;31m \u001b[0mprint\u001b[0m\u001b[0;34m(\u001b[0m\u001b[0mname\u001b[0m\u001b[0;34m)\u001b[0m\u001b[0;34m\u001b[0m\u001b[0;34m\u001b[0m\u001b[0m\n\u001b[0m\u001b[1;32m      9\u001b[0m \u001b[0;34m\u001b[0m\u001b[0m\n\u001b[1;32m     10\u001b[0m \u001b[0;31m# What is the output?\u001b[0m\u001b[0;34m\u001b[0m\u001b[0;34m\u001b[0m\u001b[0;34m\u001b[0m\u001b[0m\n",
      "\u001b[0;31mNameError\u001b[0m: name 'name' is not defined"
     ]
    }
   ],
   "source": [
    "meaning = 42\n",
    "\n",
    "def scope_test():\n",
    "    name = 'Brian'\n",
    "    print(meaning)\n",
    "\n",
    "scope_test()\n",
    "print(name)\n",
    "\n",
    "# What is the output?"
   ]
  },
  {
   "cell_type": "code",
   "execution_count": null,
   "metadata": {
    "slideshow": {
     "slide_type": "fragment"
    }
   },
   "outputs": [],
   "source": [
    "# How to fix scope issue?"
   ]
  },
  {
   "cell_type": "code",
   "execution_count": null,
   "metadata": {
    "slideshow": {
     "slide_type": "fragment"
    }
   },
   "outputs": [],
   "source": [
    "def scope_test():\n",
    "    name = 'Brian'\n",
    "    return name\n",
    "\n",
    "name = scope_test()\n",
    "print(name)"
   ]
  },
  {
   "cell_type": "code",
   "execution_count": null,
   "metadata": {
    "slideshow": {
     "slide_type": "slide"
    }
   },
   "outputs": [],
   "source": [
    "from metakernel import register_ipython_magics\n",
    "\n",
    "register_ipython_magics()"
   ]
  },
  {
   "cell_type": "code",
   "execution_count": null,
   "metadata": {
    "slideshow": {
     "slide_type": "slide"
    }
   },
   "outputs": [],
   "source": [
    "%%tutor\n",
    "\n",
    "def scope_test():\n",
    "    name = 'Brian'\n",
    "    return name\n",
    "\n",
    "name = scope_test()\n",
    "print(name)"
   ]
  },
  {
   "cell_type": "markdown",
   "metadata": {
    "slideshow": {
     "slide_type": "slide"
    }
   },
   "source": [
    "<center><h2> Scope of Variables</h2></center>\n",
    "\n",
    "Global: Variable that is defined everywhere\n",
    "\n",
    "\n",
    "Local: Variable defined only inside a function"
   ]
  },
  {
   "cell_type": "code",
   "execution_count": null,
   "metadata": {},
   "outputs": [],
   "source": [
    "%%tutor\n",
    "\n",
    "def f(x):\n",
    "    x = -10\n",
    "    g(x)\n",
    "    print(\"Back from g\")\n",
    "\n",
    "def g(y):\n",
    "    print(y)\n",
    "    print(x)\n",
    "    \n",
    "z = 99\n",
    "f(x=33)\n",
    "print(\"Back from f\")"
   ]
  },
  {
   "cell_type": "markdown",
   "metadata": {
    "slideshow": {
     "slide_type": "skip"
    }
   },
   "source": [
    "Learn more [here](https://stackabuse.com/local-and-global-variables-in-python/)"
   ]
  },
  {
   "cell_type": "markdown",
   "metadata": {
    "slideshow": {
     "slide_type": "slide"
    }
   },
   "source": [
    "<center><h2>Python functions always return something</h2></center>\n",
    "\n"
   ]
  },
  {
   "cell_type": "code",
   "execution_count": null,
   "metadata": {
    "slideshow": {
     "slide_type": "fragment"
    }
   },
   "outputs": [],
   "source": [
    "def print_it(it):\n",
    "    print(it)\n",
    "    \n",
    "λ = print_it(\"🐶\")\n",
    "# What does this function return?"
   ]
  },
  {
   "cell_type": "code",
   "execution_count": null,
   "metadata": {
    "slideshow": {
     "slide_type": "fragment"
    }
   },
   "outputs": [],
   "source": [
    "# What is λ?\n",
    "λ"
   ]
  },
  {
   "cell_type": "code",
   "execution_count": null,
   "metadata": {
    "slideshow": {
     "slide_type": "fragment"
    }
   },
   "outputs": [],
   "source": [
    "type(λ) "
   ]
  },
  {
   "cell_type": "markdown",
   "metadata": {
    "slideshow": {
     "slide_type": "slide"
    }
   },
   "source": [
    "<center><h2>What the heck is NoneType?</h2></center>\n",
    "\n",
    "[Python Built-in Constants](https://docs.python.org/3/library/constants.html)"
   ]
  },
  {
   "cell_type": "markdown",
   "metadata": {
    "slideshow": {
     "slide_type": "slide"
    }
   },
   "source": [
    "<center><h2>Student Exercises</h2></center>\n",
    "\n",
    "- Write a function that returns the negative of number.\n",
    "- Write a function that returns the max of two numbers.\n",
    "- Write a function that calculate the area of a circle for a given the radius ($area = πr^2$).\n",
    "\n"
   ]
  },
  {
   "cell_type": "markdown",
   "metadata": {
    "slideshow": {
     "slide_type": "fragment"
    }
   },
   "source": [
    "If you have a working copy of Jupyter Notebook, then use it.\n",
    "\n",
    "Otherwise:\n",
    "\n",
    "- Google's Colab\n",
    "- repl.it"
   ]
  },
  {
   "cell_type": "code",
   "execution_count": null,
   "metadata": {
    "slideshow": {
     "slide_type": "slide"
    }
   },
   "outputs": [],
   "source": [
    "def neg(num:float) -> float:\n",
    "    \"Return the 'oppoiste' of the number\"\n",
    "    return -num\n",
    "\n",
    "assert neg(num=1) == -1\n",
    "assert neg(num=-1) == 1\n",
    "assert neg(num=0) == 0"
   ]
  },
  {
   "cell_type": "code",
   "execution_count": null,
   "metadata": {
    "slideshow": {
     "slide_type": "slide"
    }
   },
   "outputs": [],
   "source": [
    "def my_max(a:float, b:float) -> float:\n",
    "    \"Return the largest of two arguments.\"\n",
    "    if a > b: \n",
    "        return a\n",
    "    else: \n",
    "        return b\n",
    "    # More elegant:\n",
    "    # return x if x>y else y\n",
    "    \n",
    "assert my_max(1, 2) == max(1, 2)\n",
    "assert my_max(2, 1) == max(1, 2)"
   ]
  },
  {
   "cell_type": "code",
   "execution_count": null,
   "metadata": {
    "slideshow": {
     "slide_type": "slide"
    }
   },
   "outputs": [],
   "source": [
    "from math import pi\n",
    "\n",
    "def area(radius:float) -> float: \n",
    "    \"Given radius, calculate of area of circle\"\n",
    "    return pi * radius**2  # ** is the power operator\n",
    "\n",
    "assert area(radius=1) == 3.141592653589793\n",
    "assert area(radius=2) == 12.566370614359172"
   ]
  },
  {
   "cell_type": "markdown",
   "metadata": {
    "slideshow": {
     "slide_type": "slide"
    }
   },
   "source": [
    "<center><h2> Summary</h2></center>\n",
    "\n",
    "- Functions help us organize our code in to modular sections.\n",
    "- Python has many built-in functions. Use them!\n",
    "- Write your functions:\n",
    "    - Do one thing well.\n",
    "    - Reasonably named.\n",
    "    - Tested for correctness.\n",
    "- Documentation is important - type hints, docstrings, and tests."
   ]
  },
  {
   "cell_type": "markdown",
   "metadata": {
    "slideshow": {
     "slide_type": "slide"
    }
   },
   "source": [
    " "
   ]
  }
 ],
 "metadata": {
  "celltoolbar": "Slideshow",
  "kernelspec": {
   "display_name": "Python 3",
   "language": "python",
   "name": "python3"
  },
  "language_info": {
   "codemirror_mode": {
    "name": "ipython",
    "version": 3
   },
   "file_extension": ".py",
   "mimetype": "text/x-python",
   "name": "python",
   "nbconvert_exporter": "python",
   "pygments_lexer": "ipython3",
   "version": "3.7.3"
  },
  "toc": {
   "base_numbering": 1,
   "nav_menu": {},
   "number_sections": false,
   "sideBar": false,
   "skip_h1_title": false,
   "title_cell": "Table of Contents",
   "title_sidebar": "Contents",
   "toc_cell": true,
   "toc_position": {},
   "toc_section_display": true,
   "toc_window_display": false
  }
 },
 "nbformat": 4,
 "nbformat_minor": 2
}
