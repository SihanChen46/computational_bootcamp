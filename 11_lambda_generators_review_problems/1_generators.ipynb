{
 "cells": [
  {
   "cell_type": "markdown",
   "metadata": {
    "toc": true
   },
   "source": [
    "<h1>Table of Contents<span class=\"tocSkip\"></span></h1>\n",
    "<div class=\"toc\"><ul class=\"toc-item\"><li><span><a href=\"#Python's-Generators\" data-toc-modified-id=\"Python's-Generators-1\">Python's Generators</a></span></li><li><span><a href=\"#Learning-Outcomes\" data-toc-modified-id=\"Learning-Outcomes-2\">Learning Outcomes</a></span><ul class=\"toc-item\"><li><ul class=\"toc-item\"><li><span><a href=\"#By-the-end-of-this-session,-you-should-be-able-to:\" data-toc-modified-id=\"By-the-end-of-this-session,-you-should-be-able-to:-2.0.1\">By the end of this session, you should be able to:</a></span></li></ul></li></ul></li><li><span><a href=\"#Function-Review\" data-toc-modified-id=\"Function-Review-3\">Function Review</a></span></li><li><span><a href=\"#Recipe-for-a-generator\" data-toc-modified-id=\"Recipe-for-a-generator-4\">Recipe for a generator</a></span></li><li><span><a href=\"#yield-statements\" data-toc-modified-id=\"yield-statements-5\">yield statements</a></span></li><li><span><a href=\"#What-happens-if-generator-runs-out?\" data-toc-modified-id=\"What-happens-if-generator-runs-out?-6\">What happens if generator runs out?</a></span></li><li><span><a href=\"#Another-difference-between-yield-and-return\" data-toc-modified-id=\"Another-difference-between-yield-and-return-7\">Another difference between <code>yield</code> and <code>return</code></a></span></li><li><span><a href=\"#Generators-are-one-time-use-only\" data-toc-modified-id=\"Generators-are-one-time-use-only-8\">Generators are one-time use only</a></span></li><li><span><a href=\"#Generators-are-easy-to-make-\" data-toc-modified-id=\"Generators-are-easy-to-make--9\">Generators are easy to make </a></span></li><li><span><a href=\"#A-generator-has-4-states-\" data-toc-modified-id=\"A-generator-has-4-states--10\">A generator has 4 states </a></span></li><li><span><a href=\"#What-generators-do-you-already-know-and-use?\" data-toc-modified-id=\"What-generators-do-you-already-know-and-use?-11\">What generators do you already know and use?</a></span></li><li><span><a href=\"#Generators-are-stateful-(Functions-are-stateless)\" data-toc-modified-id=\"Generators-are-stateful-(Functions-are-stateless)-12\">Generators are stateful (Functions are stateless)</a></span></li><li><span><a href=\"#Generators-are-lazy-(in-a-good-way)\" data-toc-modified-id=\"Generators-are-lazy-(in-a-good-way)-13\">Generators are lazy (in a good way)</a></span></li><li><span><a href=\"#The-primary-differences-between-generators-and-functions\" data-toc-modified-id=\"The-primary-differences-between-generators-and-functions-14\">The primary differences between generators and functions</a></span></li><li><span><a href=\"#2-types-of-generators\" data-toc-modified-id=\"2-types-of-generators-15\">2 types of generators</a></span></li><li><span><a href=\"#Questions-about-generators?\" data-toc-modified-id=\"Questions-about-generators?-16\">Questions about generators?</a></span></li><li><span><a href=\"#Student-Activity\" data-toc-modified-id=\"Student-Activity-17\">Student Activity</a></span></li><li><span><a href=\"#Why-are-generators-important-for-Data-Science-computation?\" data-toc-modified-id=\"Why-are-generators-important-for-Data-Science-computation?-18\">Why are generators important for Data Science computation?</a></span></li><li><span><a href=\"#Summary\" data-toc-modified-id=\"Summary-19\">Summary</a></span></li><li><span><a href=\"#Bonus-Material\" data-toc-modified-id=\"Bonus-Material-20\">Bonus Material</a></span></li></ul></div>"
   ]
  },
  {
   "cell_type": "markdown",
   "metadata": {},
   "source": [
    "Python's Generators\n",
    "----"
   ]
  },
  {
   "cell_type": "markdown",
   "metadata": {},
   "source": [
    "Learning Outcomes\n",
    "----\n",
    "\n",
    "#### By the end of this session, you should be able to:\n",
    "\n",
    "- Explain in your words the similarities and difference between a function and a generator\n",
    "- Write generators and generator expressions\n"
   ]
  },
  {
   "cell_type": "markdown",
   "metadata": {},
   "source": [
    "Function Review\n",
    "-------\n",
    "\n",
    "First, a function is \\_\\_\\_\\_\\_\\_ (insert verb) and after that it can be called. \n",
    "\n",
    "During the call, there is a \\_\\_\\_\\_\\_\\_\\_\\_ (insert noun) created. After the function ends, \\_\\_\\_\\_\\_\\_\\_\\_\\_ (same noun) is gone from memory. \n",
    "\n",
    "Thus, a function returns all its values during each call."
   ]
  },
  {
   "cell_type": "markdown",
   "metadata": {},
   "source": [
    "First, a function is __created__ and after that it can be called. \n",
    "\n",
    "During the call, there is a __frame__ created. After the function ends, __frame__ is gone from memory. \n",
    "\n",
    "Thus, a function returns all its values during each call."
   ]
  },
  {
   "cell_type": "markdown",
   "metadata": {},
   "source": [
    "[What is the difference between a call stack and a frame?](https://stackoverflow.com/questions/23848391/what-is-the-difference-between-a-stack-and-a-frame)"
   ]
  },
  {
   "cell_type": "code",
   "execution_count": 7,
   "metadata": {},
   "outputs": [],
   "source": [
    "reset -fs"
   ]
  },
  {
   "cell_type": "code",
   "execution_count": 8,
   "metadata": {},
   "outputs": [],
   "source": [
    "from metakernel import register_ipython_magics\n",
    "register_ipython_magics()"
   ]
  },
  {
   "cell_type": "code",
   "execution_count": 9,
   "metadata": {},
   "outputs": [
    {
     "data": {
      "text/plain": [
       "[0, 1, 1, 2, 3]"
      ]
     },
     "execution_count": 9,
     "metadata": {},
     "output_type": "execute_result"
    }
   ],
   "source": [
    "# %%tutor\n",
    "\n",
    "def fib_while(n_th):\n",
    "    \"A Fibonacci sequence generator\"\n",
    "    a, b = 0, 1\n",
    "    count = 0\n",
    "    while count < n_th:\n",
    "        a, b = b, a+b\n",
    "        count += 1\n",
    "    else:\n",
    "        return a \n",
    "\n",
    "[fib_while(nth) for nth in range(5)]"
   ]
  },
  {
   "cell_type": "code",
   "execution_count": 10,
   "metadata": {},
   "outputs": [
    {
     "data": {
      "text/plain": [
       "[1, 1, 2, 3, 5]"
      ]
     },
     "execution_count": 10,
     "metadata": {},
     "output_type": "execute_result"
    }
   ],
   "source": [
    "# %%tutor\n",
    "\n",
    "def fib_gen():\n",
    "    \"A Fibonacci sequence generator\"\n",
    "    a, b = 0, 1\n",
    "    while True:\n",
    "        a, b = b, a+b\n",
    "        yield a # Replace return statement\n",
    "        \n",
    "\n",
    "f = fib_gen()\n",
    "[next(f) for _ in range(5)]    "
   ]
  },
  {
   "cell_type": "markdown",
   "metadata": {},
   "source": [
    "A generator is special kind of function that returns one-at-a-time and keeps it state between calls.\n",
    "\n",
    "In contrast, a regular functions that must return all values at the same time and is stateless after a call."
   ]
  },
  {
   "cell_type": "markdown",
   "metadata": {},
   "source": [
    "Recipe for a generator\n",
    "-----\n",
    "\n",
    "1. Write a function with `yield`, instead of return\n",
    "1. Create an iterable, an object that can be iterated over.\n",
    "1. Execute with `next` to manifest next value."
   ]
  },
  {
   "cell_type": "code",
   "execution_count": 11,
   "metadata": {},
   "outputs": [],
   "source": [
    "def gen():\n",
    "    num=1\n",
    "    print('This function call has called the first yield statement')\n",
    "    yield num\n",
    "\n",
    "    num_2=2\n",
    "    print('We have used next() function to call the 2nd yield statement')\n",
    "    yield num_2\n",
    "\n",
    "    num_3 = 3\n",
    "    print(\"This next() call has called the third yield statement\")\n",
    "    yield num_3\n"
   ]
  },
  {
   "cell_type": "code",
   "execution_count": 12,
   "metadata": {},
   "outputs": [
    {
     "name": "stdout",
     "output_type": "stream",
     "text": [
      "This function call has called the first yield statement\n",
      "We have used next() function to call the 2nd yield statement\n",
      "This next() call has called the third yield statement\n"
     ]
    },
    {
     "data": {
      "text/plain": [
       "3"
      ]
     },
     "execution_count": 12,
     "metadata": {},
     "output_type": "execute_result"
    }
   ],
   "source": [
    "g = gen()\n",
    "next(g)\n",
    "next(g)\n",
    "next(g)"
   ]
  },
  {
   "cell_type": "markdown",
   "metadata": {},
   "source": [
    "yield statements\n",
    "-----\n",
    "\n",
    "`yield` statements to return results back to caller.\n",
    "\n",
    "Suspending state between each call.\n",
    "\n",
    "`yield` is different than `return` which ends the called functions state.\n"
   ]
  },
  {
   "cell_type": "markdown",
   "metadata": {},
   "source": [
    "[Source](http://www.techgeekbuzz.com/python-generators/)"
   ]
  },
  {
   "cell_type": "markdown",
   "metadata": {},
   "source": [
    "What happens if generator runs out?\n",
    "-----"
   ]
  },
  {
   "cell_type": "code",
   "execution_count": 13,
   "metadata": {},
   "outputs": [],
   "source": [
    "reset -fs"
   ]
  },
  {
   "cell_type": "code",
   "execution_count": 14,
   "metadata": {},
   "outputs": [],
   "source": [
    "def countdown(num):\n",
    "    while num > 0:\n",
    "        yield num \n",
    "        num -= 1"
   ]
  },
  {
   "cell_type": "markdown",
   "metadata": {},
   "source": [
    "Another difference between `yield` and `return`\n",
    "-----\n",
    "\n",
    "Yield does not need to be at the end of the computation in a function.\n",
    "\n",
    "Unlike return, all computation after a return statement in function is ignored."
   ]
  },
  {
   "cell_type": "code",
   "execution_count": 15,
   "metadata": {},
   "outputs": [],
   "source": [
    "c = countdown(num=3)\n",
    "# next(c)\n",
    "# next(c)\n",
    "# next(c)\n",
    "# next(c)"
   ]
  },
  {
   "cell_type": "markdown",
   "metadata": {},
   "source": [
    "[Source](https://realpython.com/introduction-to-python-generators/)"
   ]
  },
  {
   "cell_type": "markdown",
   "metadata": {},
   "source": [
    "Generators are one-time use only\n",
    "-----\n",
    "\n",
    "Once a generator called to the end of its iterable, it is done."
   ]
  },
  {
   "cell_type": "markdown",
   "metadata": {},
   "source": [
    "Generators are easy to make \n",
    "-----\n",
    "\n",
    "A function with a yield is a factory for generators."
   ]
  },
  {
   "cell_type": "code",
   "execution_count": 16,
   "metadata": {},
   "outputs": [
    {
     "name": "stdout",
     "output_type": "stream",
     "text": [
      "3\n",
      "3\n",
      "2\n"
     ]
    }
   ],
   "source": [
    "c_1 = countdown(num=3)\n",
    "c_2 = countdown(num=3)\n",
    "\n",
    "print(next(c_1))\n",
    "print(next(c_2))\n",
    "print(next(c_1))"
   ]
  },
  {
   "cell_type": "code",
   "execution_count": 17,
   "metadata": {},
   "outputs": [
    {
     "name": "stdout",
     "output_type": "stream",
     "text": [
      "Variable    Type         Data/Info\n",
      "----------------------------------\n",
      "c           generator    <generator object countdown at 0x10547aed0>\n",
      "c_1         generator    <generator object countdown at 0x1054baf48>\n",
      "c_2         generator    <generator object countdown at 0x1054ba7c8>\n",
      "countdown   function     <function countdown at 0x10544ed90>\n"
     ]
    }
   ],
   "source": [
    "whos"
   ]
  },
  {
   "cell_type": "markdown",
   "metadata": {},
   "source": [
    "A generator has 4 states \n",
    "-----\n",
    "\n",
    "1. Created, aka GEN_CREATED\n",
    "1. Running, aka GEN_RUNNING\n",
    "1. Suspended, aka GEN_SUSPENDED\n",
    "1. Done, aka GEN_CLOSED"
   ]
  },
  {
   "cell_type": "code",
   "execution_count": 18,
   "metadata": {},
   "outputs": [
    {
     "data": {
      "text/plain": [
       "'GEN_CREATED'"
      ]
     },
     "execution_count": 18,
     "metadata": {},
     "output_type": "execute_result"
    }
   ],
   "source": [
    "import inspect\n",
    "\n",
    "inspect.getgeneratorstate(c)"
   ]
  },
  {
   "cell_type": "markdown",
   "metadata": {},
   "source": [
    "What generators do you already know and use?\n",
    "-----"
   ]
  },
  {
   "cell_type": "code",
   "execution_count": 19,
   "metadata": {},
   "outputs": [],
   "source": [
    "reset -fs"
   ]
  },
  {
   "cell_type": "code",
   "execution_count": 20,
   "metadata": {},
   "outputs": [
    {
     "data": {
      "text/plain": [
       "range(0, 10)"
      ]
     },
     "execution_count": 20,
     "metadata": {},
     "output_type": "execute_result"
    }
   ],
   "source": [
    "range(10)"
   ]
  },
  {
   "cell_type": "code",
   "execution_count": 21,
   "metadata": {},
   "outputs": [
    {
     "data": {
      "text/plain": [
       "range(10, -10, -2)"
      ]
     },
     "execution_count": 21,
     "metadata": {},
     "output_type": "execute_result"
    }
   ],
   "source": [
    "r = range(10, -10, -2)\n",
    "r"
   ]
  },
  {
   "cell_type": "code",
   "execution_count": 22,
   "metadata": {},
   "outputs": [
    {
     "name": "stdout",
     "output_type": "stream",
     "text": [
      "10\n",
      "8\n"
     ]
    }
   ],
   "source": [
    "for n in r:\n",
    "    print(n)\n",
    "    if n == 8:\n",
    "        break "
   ]
  },
  {
   "cell_type": "markdown",
   "metadata": {},
   "source": [
    "Generators are stateful (Functions are stateless)\n",
    "-----\n",
    "\n",
    "Keep take of two things:\n",
    "    \n",
    "1. Where am I?\n",
    "1. How do I get the next value?"
   ]
  },
  {
   "cell_type": "markdown",
   "metadata": {},
   "source": [
    "Generators are lazy (in a good way)\n",
    "----\n",
    "\n",
    "- Produce only when asked\n",
    "- Produce items one at a time  "
   ]
  },
  {
   "cell_type": "markdown",
   "metadata": {},
   "source": [
    "The primary differences between generators and functions\n",
    "------\n",
    "\n",
    "1. Persistent state\n",
    "1. Thus, create values on-demand"
   ]
  },
  {
   "cell_type": "markdown",
   "metadata": {},
   "source": [
    "2 types of generators\n",
    "-----\n",
    "\n",
    "1. Bounded\n",
    "1. Unbounded"
   ]
  },
  {
   "cell_type": "markdown",
   "metadata": {},
   "source": [
    "Bounded generators will StopIteration at some point\n",
    "\n",
    "Unbound generators will keep generatoring values."
   ]
  },
  {
   "cell_type": "code",
   "execution_count": 33,
   "metadata": {},
   "outputs": [
    {
     "data": {
      "text/plain": [
       "[15, 16, 17, 18, 19, 20]"
      ]
     },
     "execution_count": 33,
     "metadata": {},
     "output_type": "execute_result"
    }
   ],
   "source": [
    "def bounded():\n",
    "    n = 15\n",
    "    while n <= 20:\n",
    "        yield n\n",
    "        n += 1\n",
    "\n",
    "b = bounded()\n",
    "[next(b) for _ in range(6)]"
   ]
  },
  {
   "cell_type": "code",
   "execution_count": 34,
   "metadata": {},
   "outputs": [
    {
     "ename": "StopIteration",
     "evalue": "",
     "output_type": "error",
     "traceback": [
      "\u001b[0;31m---------------------------------------------------------------------------\u001b[0m",
      "\u001b[0;31mStopIteration\u001b[0m                             Traceback (most recent call last)",
      "\u001b[0;32m<ipython-input-34-4e17d0c368ad>\u001b[0m in \u001b[0;36m<module>\u001b[0;34m\u001b[0m\n\u001b[1;32m      1\u001b[0m \u001b[0mb\u001b[0m \u001b[0;34m=\u001b[0m \u001b[0mbounded\u001b[0m\u001b[0;34m(\u001b[0m\u001b[0;34m)\u001b[0m\u001b[0;34m\u001b[0m\u001b[0;34m\u001b[0m\u001b[0m\n\u001b[0;32m----> 2\u001b[0;31m \u001b[0;34m[\u001b[0m\u001b[0mnext\u001b[0m\u001b[0;34m(\u001b[0m\u001b[0mb\u001b[0m\u001b[0;34m)\u001b[0m \u001b[0;32mfor\u001b[0m \u001b[0m_\u001b[0m \u001b[0;32min\u001b[0m \u001b[0mrange\u001b[0m\u001b[0;34m(\u001b[0m\u001b[0;36m7\u001b[0m\u001b[0;34m)\u001b[0m\u001b[0;34m]\u001b[0m\u001b[0;34m\u001b[0m\u001b[0;34m\u001b[0m\u001b[0m\n\u001b[0m",
      "\u001b[0;32m<ipython-input-34-4e17d0c368ad>\u001b[0m in \u001b[0;36m<listcomp>\u001b[0;34m(.0)\u001b[0m\n\u001b[1;32m      1\u001b[0m \u001b[0mb\u001b[0m \u001b[0;34m=\u001b[0m \u001b[0mbounded\u001b[0m\u001b[0;34m(\u001b[0m\u001b[0;34m)\u001b[0m\u001b[0;34m\u001b[0m\u001b[0;34m\u001b[0m\u001b[0m\n\u001b[0;32m----> 2\u001b[0;31m \u001b[0;34m[\u001b[0m\u001b[0mnext\u001b[0m\u001b[0;34m(\u001b[0m\u001b[0mb\u001b[0m\u001b[0;34m)\u001b[0m \u001b[0;32mfor\u001b[0m \u001b[0m_\u001b[0m \u001b[0;32min\u001b[0m \u001b[0mrange\u001b[0m\u001b[0;34m(\u001b[0m\u001b[0;36m7\u001b[0m\u001b[0;34m)\u001b[0m\u001b[0;34m]\u001b[0m\u001b[0;34m\u001b[0m\u001b[0;34m\u001b[0m\u001b[0m\n\u001b[0m",
      "\u001b[0;31mStopIteration\u001b[0m: "
     ]
    }
   ],
   "source": [
    "b = bounded()\n",
    "[next(b) for _ in range(7)]"
   ]
  },
  {
   "cell_type": "code",
   "execution_count": null,
   "metadata": {},
   "outputs": [],
   "source": [
    "def unbounded():\n",
    "    n = 10\n",
    "    while True:\n",
    "        yield n\n",
    "        n += 1\n",
    "\n",
    "b = unbounded()\n",
    "[next(b) for _ in range(20)]"
   ]
  },
  {
   "cell_type": "markdown",
   "metadata": {},
   "source": [
    "It is better to use unbounded generators and control logic outside of the generator.\n",
    "\n",
    "The generator should be a simple data emitter. The \"business logic\" controls the emitter."
   ]
  },
  {
   "cell_type": "markdown",
   "metadata": {},
   "source": [
    "Questions about generators?\n",
    "----"
   ]
  },
  {
   "cell_type": "markdown",
   "metadata": {},
   "source": [
    "<center><h2>Student Activity</h2></center>\n",
    "\n",
    "- Write a generator that increments by 10. Use it to print the count from 0 to 100.   \n",
    "    Try to make the generator unbounded, thus the control logic is external to generator.\n",
    "<br> <br>\n",
    "- Write `running_sum` generator which lazily calculates a running sum.\n",
    "\n",
    "```python\n",
    "nums = [3, 2, 1, 10]\n",
    "…\n",
    "assert result == [3, 5, 6, 16]\n",
    "```\n",
    "\n",
    "- Write a generator that will `yield` the even-valued terms in a Fibonacci sequence. Find the sum of the first 1,000 of those terms. The first 10 digits of that very large number are `5375031733`.\n"
   ]
  },
  {
   "cell_type": "code",
   "execution_count": null,
   "metadata": {},
   "outputs": [],
   "source": [
    "def increment():\n",
    "    c = 0\n",
    "    while True:\n",
    "        yield c\n",
    "        c += 10\n",
    "\n",
    "g = increment()\n",
    "for _ in range(11):\n",
    "     print(next(g))"
   ]
  },
  {
   "cell_type": "code",
   "execution_count": null,
   "metadata": {},
   "outputs": [],
   "source": [
    "def running_sum(seq):\n",
    "    value = 0\n",
    "    for num in seq:\n",
    "        # The local state of 'value' will be retained between iterations\n",
    "        value += num\n",
    "        yield value\n",
    "\n",
    "nums = [3, 2, 1, 10]\n",
    "\n",
    "s = running_sum(nums)\n",
    "result = [next(s) for _ in nums]\n",
    "assert result == [3, 5, 6, 16]"
   ]
  },
  {
   "cell_type": "code",
   "execution_count": null,
   "metadata": {},
   "outputs": [],
   "source": [
    "def fib_gen():\n",
    "    \"A Fibonacci sequence generator\"\n",
    "    a, b = 0, 1\n",
    "    while True:\n",
    "        a, b = b, a+b\n",
    "        if a % 2 == 0:\n",
    "            yield a "
   ]
  },
  {
   "cell_type": "code",
   "execution_count": null,
   "metadata": {},
   "outputs": [],
   "source": [
    "f = fib_gen()\n",
    "sum(next(f) for _ in range(1_000))"
   ]
  },
  {
   "cell_type": "code",
   "execution_count": null,
   "metadata": {},
   "outputs": [],
   "source": [
    "f = fib_gen()\n",
    "str(sum(next(f) for _ in range(1_000)))[:10]"
   ]
  },
  {
   "cell_type": "markdown",
   "metadata": {},
   "source": [
    "HT: https://projecteuler.net/problem=2"
   ]
  },
  {
   "cell_type": "markdown",
   "metadata": {},
   "source": [
    "Why are generators important for Data Science computation?\n",
    "-----\n",
    "\n",
    "1. Computers are often memory bound, especially data and machine learning applications.\n",
    "1. Generators natively handle streaming data.    \n",
    "    For, Internet of Things (IoT) is composed of unbounded streaming sensors.  \n",
    "    Generators can capture, process, and model that data."
   ]
  },
  {
   "cell_type": "markdown",
   "metadata": {},
   "source": [
    "Summary\n",
    "-----\n",
    "\n",
    "- Generators are on-demand data producers.\n",
    "- Steps to use a generator\n",
    "    - Write a generator function with a `yield` statement.\n",
    "    - Create an iterable version of that generator function.\n",
    "    - Generate values with `next()`\n",
    "- Try to generators more often. For Big Data problems, they are very useful."
   ]
  },
  {
   "cell_type": "markdown",
   "metadata": {},
   "source": [
    " "
   ]
  },
  {
   "cell_type": "markdown",
   "metadata": {},
   "source": [
    "Bonus Material\n",
    "-----"
   ]
  },
  {
   "cell_type": "code",
   "execution_count": 35,
   "metadata": {},
   "outputs": [
    {
     "name": "stdout",
     "output_type": "stream",
     "text": [
      "5375031733\n"
     ]
    }
   ],
   "source": [
    "# Take a finite number of elements from an infinite stream\n",
    "def fib_gen():\n",
    "    \"A Fibonacci sequence generator\"\n",
    "    a, b = 0, 1\n",
    "    while True:\n",
    "        a, b = b, a+b\n",
    "        if a % 2 == 0:\n",
    "            yield a \n",
    "            \n",
    "from itertools import islice\n",
    "\n",
    "result = sum(islice(fib_gen(), 1, 1_000))\n",
    "print(str(result)[:10]) # Then take the first 10 digits"
   ]
  },
  {
   "cell_type": "markdown",
   "metadata": {},
   "source": [
    " "
   ]
  }
 ],
 "metadata": {
  "kernelspec": {
   "display_name": "Python 3",
   "language": "python",
   "name": "python3"
  },
  "language_info": {
   "codemirror_mode": {
    "name": "ipython",
    "version": 3
   },
   "file_extension": ".py",
   "mimetype": "text/x-python",
   "name": "python",
   "nbconvert_exporter": "python",
   "pygments_lexer": "ipython3",
   "version": "3.7.3"
  },
  "toc": {
   "base_numbering": 1,
   "nav_menu": {},
   "number_sections": false,
   "sideBar": false,
   "skip_h1_title": false,
   "title_cell": "Table of Contents",
   "title_sidebar": "Contents",
   "toc_cell": true,
   "toc_position": {},
   "toc_section_display": true,
   "toc_window_display": false
  }
 },
 "nbformat": 4,
 "nbformat_minor": 2
}
