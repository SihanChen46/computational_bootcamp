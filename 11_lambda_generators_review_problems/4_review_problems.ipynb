{
 "cells": [
  {
   "cell_type": "markdown",
   "metadata": {
    "toc": true
   },
   "source": [
    "<h1>Table of Contents<span class=\"tocSkip\"></span></h1>\n",
    "<div class=\"toc\"><ul class=\"toc-item\"><li><span><a href=\"#Programming-Review-Problems\" data-toc-modified-id=\"Programming-Review-Problems-1\">Programming Review Problems</a></span></li><li><span><a href=\"#Student-Activity\" data-toc-modified-id=\"Student-Activity-2\">Student Activity</a></span></li><li><span><a href=\"#Brian's-programming-principles\" data-toc-modified-id=\"Brian's-programming-principles-3\">Brian's programming principles</a></span></li><li><span><a href=\"#Programming-indirection\" data-toc-modified-id=\"Programming-indirection-4\">Programming indirection</a></span></li><li><span><a href=\"#Abstraction-is-powerful-version-of-indirection\" data-toc-modified-id=\"Abstraction-is-powerful-version-of-indirection-5\">Abstraction is powerful version of indirection</a></span></li><li><span><a href=\"#Abstraction-is-addictive\" data-toc-modified-id=\"Abstraction-is-addictive-6\">Abstraction is addictive</a></span></li><li><span><a href=\"#Summary\" data-toc-modified-id=\"Summary-7\">Summary</a></span></li></ul></div>"
   ]
  },
  {
   "cell_type": "code",
   "execution_count": 23,
   "metadata": {},
   "outputs": [],
   "source": [
    "reset -fs"
   ]
  },
  {
   "cell_type": "markdown",
   "metadata": {},
   "source": [
    "Programming Review Problems\n",
    "------"
   ]
  },
  {
   "cell_type": "markdown",
   "metadata": {},
   "source": [
    "<center><h2>Student Activity</h2></center>\n",
    "\n",
    "1. Write a function that converts CamelCase to snake_case.\n",
    "\n",
    "```python\n",
    "assert to_underscore('TestController') == 'test_controller'\n",
    "assert to_underscore('MoviesAndBooks') == 'movies_and_books'\n",
    "assert to_underscore('App42Test') == 'app42_test'\n",
    "```\n",
    "\n",
    "1. Write a function that finds the index of a target by looking right-to-left.\n",
    "\n",
    "```python\n",
    "assert right_index(seq=(2, 4, 4, 8, 10, 4, 1), target=4) == 5\n",
    "assert right_index(seq='abracadabra', target='b') == 8\n",
    "\n",
    "```\n",
    "\n"
   ]
  },
  {
   "cell_type": "code",
   "execution_count": 24,
   "metadata": {},
   "outputs": [],
   "source": [
    "def snake_case(string: str) -> str:\n",
    "    underscored = string[0].lower()\n",
    "    for c in string[1:]:\n",
    "        underscored += \"_\" + c.lower() if c.isupper() else c\n",
    "    return underscored\n",
    "\n",
    "assert snake_case('TestController') == 'test_controller'\n",
    "assert snake_case('MoviesAndBooks') == 'movies_and_books'\n",
    "assert snake_case('App42Test') == 'app42_test'"
   ]
  },
  {
   "cell_type": "code",
   "execution_count": 1,
   "metadata": {},
   "outputs": [],
   "source": [
    "# Another example of complexity built out simplicity.\n",
    "def right_index(seq, target):\n",
    "    return (len(seq) - 1) - seq[::-1].index(target)\n",
    "\n",
    "assert right_index(seq='abracadabra', target='b') == 8\n",
    "assert right_index((2, 4, 4, 8, 10, 4, 1), 4) == 5"
   ]
  },
  {
   "cell_type": "code",
   "execution_count": 2,
   "metadata": {},
   "outputs": [
    {
     "data": {
      "text/plain": [
       "5"
      ]
     },
     "execution_count": 2,
     "metadata": {},
     "output_type": "execute_result"
    }
   ],
   "source": [
    "# First, find location of needle right-to-left\n",
    "\n",
    "s = (2, 4, 4, 8, 10, 4, 1)\n",
    "t = 4\n",
    "# Go right-to-left, aka reverse\n",
    "s[::-1]\n",
    "\n",
    "# Get location\n",
    "s[::-1].index(t)\n",
    "\n",
    "# Now reflect the location relative to last index\n",
    "\n",
    "# How long?\n",
    "len(s)\n",
    "\n",
    "# What is the last index?\n",
    "len(s)-1\n",
    "\n",
    "# Put the elements together\n",
    "(len(s) - 1) - s[::-1].index(t) # Last index - reverse index"
   ]
  },
  {
   "cell_type": "markdown",
   "metadata": {},
   "source": [
    "[Source](https://twitter.com/raymondh/status/987735142016864256)"
   ]
  },
  {
   "cell_type": "markdown",
   "metadata": {},
   "source": [
    "Brian's programming principles\n",
    "-----\n",
    "\n",
    "1. Simple code should be simple.\n",
    "1. Let Python do the work.\n",
    "1. Build complex functionality out of simple pieces.\n",
    "1. Model data with right abstraction."
   ]
  },
  {
   "cell_type": "markdown",
   "metadata": {},
   "source": [
    "Programming indirection\n",
    "----\n",
    "\n",
    "Most programming problems are solved by a level of indirection.\n",
    "\n",
    "For example, numerology problems, where numbers are converted to strings."
   ]
  },
  {
   "cell_type": "code",
   "execution_count": 5,
   "metadata": {},
   "outputs": [
    {
     "name": "stdout",
     "output_type": "stream",
     "text": [
      "3\n",
      "141592653589793\n"
     ]
    }
   ],
   "source": [
    "# Split the characteristic and mantissa\n",
    "\n",
    "from math import pi\n",
    "\n",
    "c, m = map(int, str(pi).split(\".\"))\n",
    "print(c)\n",
    "print(m)"
   ]
  },
  {
   "cell_type": "markdown",
   "metadata": {},
   "source": [
    "Abstraction is powerful version of indirection\n",
    "-----\n",
    "\n",
    "A complex problem is solved at a higher level of an abstraction than the original problems.  \n",
    "My favorite example of this is the [kernel trick](https://en.wikipedia.org/wiki/Kernel_method) you'll learn in machine learning. (I'm not going to test you on the kernel trick)\n",
    "\n",
    "Adding an abstraction allows for slight generalization. For example, defining a class, a category abstraction, of your specific problem will allow you model it and solve related instances of the same problem. (I could test you on that).\n",
    "\n",
    "Abstraction allow for simpler solutions but increases cognitive load. You have keep track of the abstraction which is harder to understand then a concrete, specific example."
   ]
  },
  {
   "cell_type": "markdown",
   "metadata": {},
   "source": [
    "Abstraction is addictive\n",
    "------\n",
    "\n",
    "<center><img src=\"https://imgs.xkcd.com/comics/the_general_problem.png\" width=\"75%\"/></center>\n",
    "\n",
    "Programmers love generalized solutions.\n",
    "\n",
    "Slight generalization is useful.\n",
    "\n",
    "Rarely, do you need complete / arbitrary generalization."
   ]
  },
  {
   "cell_type": "markdown",
   "metadata": {},
   "source": [
    "Summary\n",
    "------\n",
    "\n",
    "1. Brainstorm for many possible approaches.\n",
    "1. Think about nouns and verbs.\n",
    "1. Cast to the right nouns. Then you get better verbs.\n",
    "1. Apply the right verbs (Python's built-ins and methods).\n",
    "1. Solve the right problem for right now.\n",
    "1. Be mindful of state."
   ]
  },
  {
   "cell_type": "markdown",
   "metadata": {},
   "source": [
    " "
   ]
  },
  {
   "cell_type": "markdown",
   "metadata": {},
   "source": [
    " "
   ]
  }
 ],
 "metadata": {
  "kernelspec": {
   "display_name": "Python 3",
   "language": "python",
   "name": "python3"
  },
  "language_info": {
   "codemirror_mode": {
    "name": "ipython",
    "version": 3
   },
   "file_extension": ".py",
   "mimetype": "text/x-python",
   "name": "python",
   "nbconvert_exporter": "python",
   "pygments_lexer": "ipython3",
   "version": "3.7.3"
  },
  "toc": {
   "base_numbering": 1,
   "nav_menu": {},
   "number_sections": false,
   "sideBar": false,
   "skip_h1_title": false,
   "title_cell": "Table of Contents",
   "title_sidebar": "Contents",
   "toc_cell": true,
   "toc_position": {},
   "toc_section_display": true,
   "toc_window_display": false
  }
 },
 "nbformat": 4,
 "nbformat_minor": 2
}
