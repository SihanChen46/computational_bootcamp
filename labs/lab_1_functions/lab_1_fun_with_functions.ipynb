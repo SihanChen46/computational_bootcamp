{
 "cells": [
  {
   "cell_type": "markdown",
   "metadata": {
    "deletable": false,
    "editable": false,
    "nbgrader": {
     "checksum": "a4e914955bc3fe125be8c17242608672",
     "grade": false,
     "grade_id": "cell-f49b8ea35a2dabd9",
     "locked": true,
     "schema_version": 1,
     "solution": false
    },
    "toc": true
   },
   "source": [
    "<h1>Table of Contents<span class=\"tocSkip\"></span></h1>\n",
    "<div class=\"toc\"><ul class=\"toc-item\"><li><span><a href=\"#Lab-1:-Fun-With-Functions-\" data-toc-modified-id=\"Lab-1:-Fun-With-Functions--1\">Lab 1: Fun With Functions </a></span></li><li><span><a href=\"#Learning-Outcomes\" data-toc-modified-id=\"Learning-Outcomes-2\">Learning Outcomes</a></span><ul class=\"toc-item\"><li><ul class=\"toc-item\"><li><span><a href=\"#By-the-end-of-this-notebook,-you-should-be-able-to:\" data-toc-modified-id=\"By-the-end-of-this-notebook,-you-should-be-able-to:-2.0.1\">By the end of this notebook, you should be able to:</a></span></li></ul></li></ul></li><li><span><a href=\"#Find-the-Runner-Up-Score!\" data-toc-modified-id=\"Find-the-Runner-Up-Score!-3\">Find the Runner-Up Score!</a></span></li><li><span><a href=\"#Binomial-coefficient-\" data-toc-modified-id=\"Binomial-coefficient--4\">Binomial coefficient </a></span></li><li><span><a href=\"#Funny-sort\" data-toc-modified-id=\"Funny-sort-5\">Funny sort</a></span></li><li><span><a href=\"#Lower-Triangular-Matrix\" data-toc-modified-id=\"Lower-Triangular-Matrix-6\">Lower Triangular Matrix</a></span></li><li><span><a href=\"#Can-I-sleep-in?\" data-toc-modified-id=\"Can-I-sleep-in?-7\">Can I sleep-in?</a></span></li><li><span><a href=\"#Happy-Number\" data-toc-modified-id=\"Happy-Number-8\">Happy Number</a></span></li><li><span><a href=\"#Greatest-Common-Divisor\" data-toc-modified-id=\"Greatest-Common-Divisor-9\">Greatest Common Divisor</a></span></li><li><span><a href=\"#Find-the-largest-sum-for-a-contiguous-sublist\" data-toc-modified-id=\"Find-the-largest-sum-for-a-contiguous-sublist-10\">Find the largest sum for a contiguous sublist</a></span></li></ul></div>"
   ]
  },
  {
   "cell_type": "markdown",
   "metadata": {
    "deletable": false,
    "editable": false,
    "nbgrader": {
     "checksum": "b001b1d54696f6b0e304ec6717586fe2",
     "grade": false,
     "grade_id": "cell-588eb434a3567ee2",
     "locked": true,
     "schema_version": 1,
     "solution": false
    }
   },
   "source": [
    "Lab 1: Fun With Functions \n",
    "-----"
   ]
  },
  {
   "cell_type": "markdown",
   "metadata": {
    "deletable": false,
    "editable": false,
    "nbgrader": {
     "checksum": "41a6d2ac4a8fb9b73bcd09b15ca95f6a",
     "grade": false,
     "grade_id": "cell-5cc85b93d38670f4",
     "locked": true,
     "schema_version": 1,
     "solution": false
    }
   },
   "source": [
    "Learning Outcomes\n",
    "-----\n",
    "\n",
    "#### By the end of this notebook, you should be able to:\n",
    "\n",
    "- Write Python functions to solve data science related problems.\n",
    "- Submit lab for autograding.\n",
    "\n",
    "Do not import anything additionally. Use only built-in Python."
   ]
  },
  {
   "cell_type": "code",
   "execution_count": null,
   "metadata": {
    "deletable": false,
    "editable": false,
    "nbgrader": {
     "checksum": "89568de670d8936b162de23fc95062ad",
     "grade": false,
     "grade_id": "cell-b3989d3eb2c9086b",
     "locked": true,
     "schema_version": 1,
     "solution": false
    }
   },
   "outputs": [],
   "source": [
    "reset -fs"
   ]
  },
  {
   "cell_type": "markdown",
   "metadata": {
    "deletable": false,
    "editable": false,
    "nbgrader": {
     "checksum": "608148f6d7ddf8625dffbfeed1e74f9a",
     "grade": false,
     "grade_id": "cell-4553bf7dd1055fb1",
     "locked": true,
     "schema_version": 1,
     "solution": false
    }
   },
   "source": [
    "Find the Runner-Up Score!\n",
    "-----\n",
    "\n",
    "Tackle [Find the Runner-Up Score!](https://www.hackerrank.com/contests/msds-incoming-student/challenges/find-second-maximum-number-in-a-list) from the HackerRank challenges.\n",
    "\n",
    "Try to do it in one-liner with built-in functions.\n",
    "\n",
    "Hints:\n",
    "\n",
    "- Use two different built-ins functions as a functional sandwich.\n",
    "- Using keyword arguments will make your code easier to read and reason about."
   ]
  },
  {
   "cell_type": "code",
   "execution_count": null,
   "metadata": {
    "deletable": false,
    "nbgrader": {
     "checksum": "996be66eb948e23e32a1ccb8f546fcc5",
     "grade": false,
     "grade_id": "cell-ee8bfea85d58df23",
     "locked": false,
     "schema_version": 1,
     "solution": true
    }
   },
   "outputs": [],
   "source": [
    "from typing import List\n",
    "\n",
    "def find_runner_up(nums: List) -> int:\n",
    "    \n",
    "    # YOUR CODE HERE\n",
    "    raise NotImplementedError()\n"
   ]
  },
  {
   "cell_type": "code",
   "execution_count": null,
   "metadata": {
    "deletable": false,
    "editable": false,
    "nbgrader": {
     "checksum": "69454dc5e2068e863c7b075a421fe809",
     "grade": true,
     "grade_id": "cell-5eaaa9de6e729f4a",
     "locked": true,
     "points": 1,
     "schema_version": 1,
     "solution": false
    }
   },
   "outputs": [],
   "source": [
    "\"\"\"\n",
    "Test code for find_runner_up function.\n",
    "1 points.\n",
    "This cell should NOT give any errors when it is run.\n",
    "\"\"\"\n",
    "\n",
    "assert find_runner_up([1, 2, 3]) == 2\n",
    "assert find_runner_up([2, 3, 6, 6, 5]) == 5\n",
    "assert find_runner_up([1, 3, 3, 3, 2]) == 2"
   ]
  },
  {
   "cell_type": "markdown",
   "metadata": {
    "deletable": false,
    "editable": false,
    "nbgrader": {
     "checksum": "3da48559ab9bcff76927d6a2270c3255",
     "grade": false,
     "grade_id": "cell-5dd1fe7abfb2795a",
     "locked": true,
     "schema_version": 1,
     "solution": false
    }
   },
   "source": [
    "Binomial coefficient \n",
    "-----\n",
    "\n",
    "Write a function that returns the number of ways to choose k items from n items without repetition and without order.\n",
    "\n",
    "[Binomial coefficient](https://en.wikipedia.org/wiki/Binomial_coefficient) is mathematically equal to the expression $ \\frac{n!}{(k! (n - k)!)}$"
   ]
  },
  {
   "cell_type": "code",
   "execution_count": null,
   "metadata": {
    "code_folding": [],
    "deletable": false,
    "nbgrader": {
     "checksum": "7ac3c2202723ccfea04881038a8dafd4",
     "grade": false,
     "grade_id": "cell-d89c48480247256d",
     "locked": false,
     "schema_version": 1,
     "solution": true
    }
   },
   "outputs": [],
   "source": [
    "from math import factorial # Factorial is the product of an integer and all the integers below\n",
    "\n",
    "def n_combinations(n:int, k:int) -> int: \n",
    "    \n",
    "    # YOUR CODE HERE\n",
    "    raise NotImplementedError()\n",
    "    \n",
    "    return result"
   ]
  },
  {
   "cell_type": "code",
   "execution_count": null,
   "metadata": {
    "code_folding": [],
    "deletable": false,
    "editable": false,
    "nbgrader": {
     "checksum": "86e4502ebb040961f69be1d606bfd42a",
     "grade": true,
     "grade_id": "cell-be8a34383a4857ce",
     "locked": true,
     "points": 1,
     "schema_version": 1,
     "solution": false
    }
   },
   "outputs": [],
   "source": [
    "\"\"\"\n",
    "Test code for n_combinations function.\n",
    "1 points.\n",
    "This cell should NOT give any errors when it is run.\n",
    "\"\"\"\n",
    "\n",
    "from scipy.special import binom\n",
    "\n",
    "assert n_combinations(n=8, k=0)  == binom(8, 0)  == 1\n",
    "assert n_combinations(n=8, k=1)  == binom(8, 1)  == 8\n",
    "assert n_combinations(n=8, k=2)  == binom(8, 2)  == 28\n",
    "assert n_combinations(n=8, k=3)  == binom(8, 3)  == 56\n",
    "assert n_combinations(n=8, k=4)  == binom(8, 4)  == 70\n",
    "assert n_combinations(n=8, k=5)  == binom(8, 5)  == 56\n",
    "assert n_combinations(n=8, k=6)  == binom(8, 6)  == 28\n",
    "assert n_combinations(n=8, k=7)  == binom(8, 7)  == 8\n",
    "assert n_combinations(n=8, k=8)  == binom(8, 8)  == 1\n",
    "assert n_combinations(n=39, k=5) == binom(39, 5) == 575_757"
   ]
  },
  {
   "cell_type": "markdown",
   "metadata": {
    "deletable": false,
    "editable": false,
    "nbgrader": {
     "checksum": "c405866500fd163b8f30cf1843f55ea0",
     "grade": false,
     "grade_id": "cell-da5332fb3c381d82",
     "locked": true,
     "schema_version": 1,
     "solution": false
    }
   },
   "source": [
    "Funny sort\n",
    "-----\n",
    "\n",
    "Sort a list of numbers so evens are one side and odds are on the other.\n",
    "\n",
    "Implement it from scratch. That means looping through the data and writing the comparison logic. Do not use the `sorted` or `list.sort`.\n",
    "\n",
    "This is a simplified example of the data science problem of sorting people by acquisition channel. At a previous company, my data team encoded a lot information into user id, including acquisition channel."
   ]
  },
  {
   "cell_type": "code",
   "execution_count": null,
   "metadata": {
    "deletable": false,
    "nbgrader": {
     "checksum": "8b2fa96061c7b8ac595e8e5e201a652a",
     "grade": false,
     "grade_id": "cell-a1f2c31dbab1ae70",
     "locked": false,
     "schema_version": 1,
     "solution": true
    }
   },
   "outputs": [],
   "source": [
    "from typing import List\n",
    "\n",
    "def sort_evens_odds(numbers: List[int]):\n",
    "    \n",
    "    # YOUR CODE HERE\n",
    "    raise NotImplementedError()\n",
    "    \n",
    "    return numbers"
   ]
  },
  {
   "cell_type": "code",
   "execution_count": null,
   "metadata": {
    "deletable": false,
    "editable": false,
    "nbgrader": {
     "checksum": "06ee2b2b04abf9b21febb87889c6cfca",
     "grade": true,
     "grade_id": "cell-da870659a34de14f",
     "locked": true,
     "points": 2,
     "schema_version": 1,
     "solution": false
    }
   },
   "outputs": [],
   "source": [
    "\"\"\"\n",
    "Test code for sort_evens_odds function.\n",
    "2 points.\n",
    "This cell should NOT give any errors when it is run.\n",
    "\"\"\"\n",
    "\n",
    "numbers = [1, 2, 2, 3, 4, 4, 5, 6]\n",
    "assert sort_evens_odds(numbers) == [2, 2, 4, 4, 6, 1, 3, 5]"
   ]
  },
  {
   "cell_type": "markdown",
   "metadata": {
    "deletable": false,
    "editable": false,
    "nbgrader": {
     "checksum": "7b7f2d78db70d9410436a6aba5858b57",
     "grade": false,
     "grade_id": "cell-644d05bd3e3f3a1b",
     "locked": true,
     "schema_version": 1,
     "solution": false
    }
   },
   "source": [
    "Lower Triangular Matrix\n",
    "------\n",
    "\n",
    "Add code to the inner loop so it sets the upper left triangle of the matrix to zero, aka lower triangular matrix form.\n",
    "\n",
    "[Lower triangular matrix](https://en.wikipedia.org/wiki/Triangular_matrix) is very useful for [LU decomposition](https://en.wikipedia.org/wiki/LU_decomposition)."
   ]
  },
  {
   "cell_type": "code",
   "execution_count": null,
   "metadata": {
    "deletable": false,
    "nbgrader": {
     "checksum": "358a3f02ef071930dc2b119743fc2fb0",
     "grade": false,
     "grade_id": "cell-ed82dda441f186f3",
     "locked": false,
     "schema_version": 1,
     "solution": true
    }
   },
   "outputs": [],
   "source": [
    "from typing import List\n",
    "\n",
    "def zero_out_triangle(matrix: List[List[int]]) -> List[List[int]]:\n",
    "    \n",
    "    for i, row in enumerate(matrix):\n",
    "        for j, col in enumerate(row):\n",
    "            \n",
    "            # YOUR CODE HERE\n",
    "            raise NotImplementedError()\n",
    "            \n",
    "    return matrix\n"
   ]
  },
  {
   "cell_type": "code",
   "execution_count": null,
   "metadata": {
    "deletable": false,
    "editable": false,
    "nbgrader": {
     "checksum": "179c80c41999c45369939586451ece02",
     "grade": false,
     "grade_id": "cell-85c6ad5a139f7a3e",
     "locked": true,
     "schema_version": 1,
     "solution": false
    }
   },
   "outputs": [],
   "source": [
    "# Visually inspect your answer\n",
    "print(*zero_out_triangle( [[1, 2, 3], [4, 5, 6], [7, 8, 9]]), sep='\\n')"
   ]
  },
  {
   "cell_type": "code",
   "execution_count": null,
   "metadata": {
    "deletable": false,
    "editable": false,
    "nbgrader": {
     "checksum": "f0b443facd6243474de7fed5b49fdfa9",
     "grade": true,
     "grade_id": "cell-5f7404752ade9fa3",
     "locked": true,
     "points": 2,
     "schema_version": 1,
     "solution": false
    }
   },
   "outputs": [],
   "source": [
    "\"\"\"\n",
    "Test code for zero_out_triangle function.\n",
    "2 points.\n",
    "This cell should NOT give any errors when it is run.\n",
    "\"\"\"\n",
    "\n",
    "assert zero_out_triangle( [[1, 2], [3, 4]]) ==  [[1, 0],\n",
    "                                                 [3, 4]]\n",
    "assert zero_out_triangle( [[1, 2, 3], [4, 5, 6], [7, 8, 9]]) == [[1, 0, 0], \n",
    "                                                                 [4, 5, 0], \n",
    "                                                                 [7, 8, 9]]"
   ]
  },
  {
   "cell_type": "markdown",
   "metadata": {
    "deletable": false,
    "editable": false,
    "nbgrader": {
     "checksum": "de225458f59011737f65a7c28c07e0e8",
     "grade": false,
     "grade_id": "cell-a1486b767f951a22",
     "locked": true,
     "schema_version": 1,
     "solution": false
    }
   },
   "source": [
    "Can I sleep-in?\n",
    "------\n",
    "\n",
    "Write a function that tells you if you can sleep-in.\n",
    "\n",
    "You can sleep-in if it is not a weekday or on vacation.\n",
    "\n",
    "The function will take two parameters:\n",
    "\n",
    "1. `weekday` is True if it is a weekday\n",
    "1. `vacation` is True if you are on vacation\n",
    "\n",
    "The function will return `True` if you can sleep-in or `False` if you can not sleep-in.\n",
    "\n",
    "This is an example of a truth-table logic for whether a user would get a feature that is currently being A/B tested."
   ]
  },
  {
   "cell_type": "code",
   "execution_count": null,
   "metadata": {
    "deletable": false,
    "nbgrader": {
     "checksum": "444408c7421dc58cdfbd29d82490d017",
     "grade": false,
     "grade_id": "cell-245d0953a598a6fe",
     "locked": false,
     "schema_version": 1,
     "solution": true
    }
   },
   "outputs": [],
   "source": [
    "def sleep_in(weekday: bool, vacation: bool) -> bool:\n",
    "\n",
    "    # YOUR CODE HERE\n",
    "    raise NotImplementedError()\n",
    "    "
   ]
  },
  {
   "cell_type": "code",
   "execution_count": null,
   "metadata": {
    "deletable": false,
    "editable": false,
    "nbgrader": {
     "checksum": "6aa4fc3dbfc50bd5d3b0902a3b9ee66c",
     "grade": true,
     "grade_id": "cell-771475a0ff7684b3",
     "locked": true,
     "points": 2,
     "schema_version": 1,
     "solution": false
    }
   },
   "outputs": [],
   "source": [
    "\"\"\"\n",
    "Test code for sleep_in function.\n",
    "2 points.\n",
    "This cell should NOT give any errors when it is run.\n",
    "\"\"\"\n",
    "\n",
    "assert sleep_in(weekday=False, vacation=False)       == True\n",
    "assert sleep_in(weekday=True,  vacation=False)       == False\n",
    "assert sleep_in(weekday=False, vacation=True)        == True\n",
    "assert sleep_in(weekday=True,  vacation=True)        == True"
   ]
  },
  {
   "cell_type": "markdown",
   "metadata": {
    "deletable": false,
    "editable": false,
    "nbgrader": {
     "checksum": "b5bdb04c5d5cdfc1e3a3c30abbded21f",
     "grade": false,
     "grade_id": "cell-3cd94572e269caea",
     "locked": true,
     "schema_version": 1,
     "solution": false
    }
   },
   "source": [
    "Happy Number\n",
    "------\n",
    "\n",
    "This is not a Data Science problem. However, it is interesting numerology!\n",
    "\n",
    "A happy number is a number defined by the following process: Starting with any positive integer, replace the number by the sum of the squares of its digits, and repeat the process until the number equals 1 (where it will stay), or it loops endlessly in a cycle which does not include 1. \n",
    "\n",
    "Those numbers for which this process ends in 1 are happy numbers.\n",
    "\n",
    "19 is a happy number:\n",
    "\n",
    "$1^2 + 9^2 = 82$\n",
    "\n",
    "$8^2 + 2^2 = 68$\n",
    "\n",
    "$6^2 + 8^2 = 100$\n",
    "\n",
    "$1^2 + 0^2 + 0^2 = 1$\n",
    "\n",
    "An unhappy number is a number that is not happy. In other words, all unhappy numbers eventually start repeating a numbers in a cycle:\n",
    "\n",
    "$4 → 16 → 37 → 58 → 89 → 145 → 42 → 20 → 4$\n",
    "\n",
    "You should notice when a number repeats and stop checking. Then, declare the initial number as unhappy.\n",
    "\n",
    "Your solution should be efficient. If your function it times out, you won't get the points."
   ]
  },
  {
   "cell_type": "code",
   "execution_count": null,
   "metadata": {
    "deletable": false,
    "nbgrader": {
     "checksum": "5df64831ee48f54e41916469b319fc79",
     "grade": false,
     "grade_id": "cell-e51c96c5ab7d983e",
     "locked": false,
     "schema_version": 1,
     "solution": true
    }
   },
   "outputs": [],
   "source": [
    "def is_happy(n: int) -> bool:\n",
    "    \n",
    "    # YOUR CODE HERE\n",
    "    raise NotImplementedError()\n"
   ]
  },
  {
   "cell_type": "code",
   "execution_count": null,
   "metadata": {
    "deletable": false,
    "editable": false,
    "nbgrader": {
     "checksum": "1122613f63b394ff6de41d6508161c29",
     "grade": true,
     "grade_id": "cell-7c51783ddf1cd534",
     "locked": true,
     "points": 3,
     "schema_version": 1,
     "solution": false
    }
   },
   "outputs": [],
   "source": [
    "\"\"\"\n",
    "Test code for is_happy function.\n",
    "3 points.\n",
    "This cell should NOT give any errors when it is run.\n",
    "\"\"\"\n",
    "\n",
    "assert is_happy(1)\n",
    "assert is_happy(7)\n",
    "assert is_happy(10)\n",
    "assert is_happy(19)\n",
    "\n",
    "assert not is_happy(2)\n",
    "assert not is_happy(3)\n",
    "assert not is_happy(8)"
   ]
  },
  {
   "cell_type": "markdown",
   "metadata": {
    "deletable": false,
    "editable": false,
    "nbgrader": {
     "checksum": "245a80177e34c7808d304381288f6172",
     "grade": false,
     "grade_id": "cell-6057ae852ab99b58",
     "locked": true,
     "schema_version": 1,
     "solution": false
    }
   },
   "source": [
    "Greatest Common Divisor\n",
    "-----\n",
    "\n",
    "The greatest common divisor (GCD) is the largest natural number $d$ that divides both $a$ number and $b$ number without a remainder. For example, the GCD the fraction 8 and 12 is 4: \n",
    "\n",
    "$$8/4 = 2$$ \n",
    "$$12/4 = 3$$\n",
    "\n",
    "Write the naive, brute-force implementation - Iterate through all integers from 1 to `max(a, b)` to find the largest common divisor of the given numbers."
   ]
  },
  {
   "cell_type": "code",
   "execution_count": null,
   "metadata": {
    "deletable": false,
    "nbgrader": {
     "checksum": "39fcf39f8b462202f8e060f129852fa8",
     "grade": false,
     "grade_id": "cell-a98050a4af0aef8b",
     "locked": false,
     "schema_version": 1,
     "solution": true
    }
   },
   "outputs": [],
   "source": [
    "def gcd(a: int, b: int) -> int:\n",
    "\n",
    "    gcd = 1\n",
    "\n",
    "    # YOUR CODE HERE\n",
    "    raise NotImplementedError()\n",
    "    \n",
    "    return gcd"
   ]
  },
  {
   "cell_type": "code",
   "execution_count": null,
   "metadata": {
    "deletable": false,
    "editable": false,
    "nbgrader": {
     "checksum": "d3b6a253521bdfe949e7a7eb138dd2f4",
     "grade": true,
     "grade_id": "cell-ea9ea7a18818a921",
     "locked": true,
     "points": 3,
     "schema_version": 1,
     "solution": false
    }
   },
   "outputs": [],
   "source": [
    "\"\"\"\n",
    "Test code for gcd function.\n",
    "3 points.\n",
    "This cell should NOT give any errors when it is run.\n",
    "\"\"\"\n",
    "\n",
    "assert gcd(1, 1) == 1\n",
    "assert gcd(1, 1) == 1\n",
    "assert gcd(3, 9) == 3\n",
    "assert gcd(12, 8) == 4\n",
    "assert gcd(12, 24) == 12\n",
    "assert gcd(17, 13) == 1\n",
    "assert gcd(45, -12) == 3"
   ]
  },
  {
   "cell_type": "markdown",
   "metadata": {
    "deletable": false,
    "editable": false,
    "nbgrader": {
     "checksum": "7918634ad055beec8c7229e6dd2cc9de",
     "grade": false,
     "grade_id": "cell-96ba2d3c0f53c3c0",
     "locked": true,
     "schema_version": 1,
     "solution": false
    }
   },
   "source": [
    "Find the largest sum for a contiguous sublist\n",
    "-----\n",
    "\n",
    "Given a list of integers, find the largest sum for a contiguous sublist.\n",
    "\n",
    "For example, you are writing a simple investing bot that can only buy and sell once. You need to find the how good is the best run of a stock. Thus, the function will find the maximum return your simple bot can earn.\n",
    "\n",
    "Your code should be efficient. Minimize the number of passes through the data. If your function times-out during autograding, you'll lose the points. "
   ]
  },
  {
   "cell_type": "code",
   "execution_count": null,
   "metadata": {
    "deletable": false,
    "nbgrader": {
     "checksum": "22f0c9383361caf18ca2c26f69851e7e",
     "grade": false,
     "grade_id": "cell-6b624cbb60497282",
     "locked": false,
     "schema_version": 1,
     "solution": true
    }
   },
   "outputs": [],
   "source": [
    "from typing import List\n",
    "\n",
    "def max_subarrary(nums: List[float]) -> float:\n",
    "\n",
    "    # YOUR CODE HERE\n",
    "    raise NotImplementedError()\n"
   ]
  },
  {
   "cell_type": "code",
   "execution_count": null,
   "metadata": {
    "deletable": false,
    "editable": false,
    "nbgrader": {
     "checksum": "5e42dc187423a940b6a70ba3cde8d60a",
     "grade": true,
     "grade_id": "cell-07d9d80d492e82ec",
     "locked": true,
     "points": 2,
     "schema_version": 1,
     "solution": false
    }
   },
   "outputs": [],
   "source": [
    "\"\"\"\n",
    "Test code for max_subarrary function.\n",
    "2 points.\n",
    "This cell should NOT give any errors when it is run.\n",
    "\"\"\"\n",
    "\n",
    "# Basic test cases\n",
    "assert max_subarrary(nums=[0, 1, 1]) == 2\n",
    "assert max_subarrary(nums=[1, -1, 1, 1, -1]) == 2"
   ]
  },
  {
   "cell_type": "code",
   "execution_count": null,
   "metadata": {
    "deletable": false,
    "editable": false,
    "nbgrader": {
     "checksum": "0e5039a9aac9217a08fbc44ad58269d5",
     "grade": true,
     "grade_id": "cell-e9edcbf6385057f0",
     "locked": true,
     "points": 2,
     "schema_version": 1,
     "solution": false
    }
   },
   "outputs": [],
   "source": [
    "\"\"\"\n",
    "Test code for max_subarrary function.\n",
    "2 points.\n",
    "This cell should NOT give any errors when it is run.\n",
    "\"\"\"\n",
    "\n",
    "# Harder test case for logic\n",
    "assert max_subarrary(nums=[-2, 1, -3, 4, -1, 2, 1, -5, 4]) == 6"
   ]
  },
  {
   "cell_type": "code",
   "execution_count": null,
   "metadata": {
    "deletable": false,
    "editable": false,
    "nbgrader": {
     "checksum": "5811a071c34519a80ddef41c477a6181",
     "grade": true,
     "grade_id": "cell-4eabd17bc0228d19",
     "locked": true,
     "points": 2,
     "schema_version": 1,
     "solution": false
    }
   },
   "outputs": [],
   "source": [
    "\"\"\"\n",
    "Test code for max_subarrary function.\n",
    "2 points.\n",
    "This cell should NOT give any errors when it is run.\n",
    "\"\"\"\n",
    "\n",
    "# Harder test case for scaling\n",
    "n_filler = 2_000_000\n",
    "assert max_subarrary(nums=[-1]*n_filler+[1, 0, 1]+[-1]*n_filler+[1, 0, 1, 1]+[-1]*n_filler) == 3"
   ]
  },
  {
   "cell_type": "markdown",
   "metadata": {
    "deletable": false,
    "editable": false,
    "nbgrader": {
     "checksum": "09a2aa8aba527974e6dca328efeb0bce",
     "grade": false,
     "grade_id": "cell-ff2d070e25115ec4",
     "locked": true,
     "schema_version": 1,
     "solution": false
    }
   },
   "source": [
    "<br>\n",
    "<br> \n",
    "<br>\n",
    "\n",
    "----"
   ]
  }
 ],
 "metadata": {
  "anaconda-cloud": {},
  "kernelspec": {
   "display_name": "Python 3",
   "language": "python",
   "name": "python3"
  },
  "language_info": {
   "codemirror_mode": {
    "name": "ipython",
    "version": 3
   },
   "file_extension": ".py",
   "mimetype": "text/x-python",
   "name": "python",
   "nbconvert_exporter": "python",
   "pygments_lexer": "ipython3",
   "version": "3.7.3"
  },
  "toc": {
   "base_numbering": 1,
   "nav_menu": {},
   "number_sections": false,
   "sideBar": true,
   "skip_h1_title": false,
   "title_cell": "Table of Contents",
   "title_sidebar": "Contents",
   "toc_cell": true,
   "toc_position": {},
   "toc_section_display": true,
   "toc_window_display": false
  }
 },
 "nbformat": 4,
 "nbformat_minor": 1
}
