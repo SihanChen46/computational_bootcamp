{
 "cells": [
  {
   "cell_type": "markdown",
   "metadata": {
    "deletable": false,
    "editable": false,
    "nbgrader": {
     "checksum": "4177a4f8af730f474d4046b4b299d7f4",
     "grade": false,
     "grade_id": "cell-f49b8ea35a2dabd9",
     "locked": true,
     "schema_version": 1,
     "solution": false
    },
    "toc": true
   },
   "source": [
    "<h1>Table of Contents<span class=\"tocSkip\"></span></h1>\n",
    "<div class=\"toc\"><ul class=\"toc-item\"><li><span><a href=\"#Lab-3:-Recursion-and-OOP\" data-toc-modified-id=\"Lab-3:-Recursion-and-OOP-1\">Lab 3: Recursion and OOP</a></span></li><li><span><a href=\"#Learning-Outcomes\" data-toc-modified-id=\"Learning-Outcomes-2\">Learning Outcomes</a></span><ul class=\"toc-item\"><li><ul class=\"toc-item\"><li><span><a href=\"#By-the-end-of-this-notebook,-you-should-be-able-to:\" data-toc-modified-id=\"By-the-end-of-this-notebook,-you-should-be-able-to:-2.0.1\">By the end of this notebook, you should be able to:</a></span></li></ul></li></ul></li><li><span><a href=\"#Exponentiation-with-recursion\" data-toc-modified-id=\"Exponentiation-with-recursion-3\">Exponentiation with recursion</a></span></li><li><span><a href=\"#Create-a-Fibonacci-sequence-with-recursion\" data-toc-modified-id=\"Create-a-Fibonacci-sequence-with-recursion-4\">Create a Fibonacci sequence with recursion</a></span></li><li><span><a href=\"#Greatest-common-divisor-(GCD)-with-recursion\" data-toc-modified-id=\"Greatest-common-divisor-(GCD)-with-recursion-5\">Greatest common divisor (GCD) with recursion</a></span></li><li><span><a href=\"#Len(gth)-of-a-list-with-recursion\" data-toc-modified-id=\"Len(gth)-of-a-list-with-recursion-6\">Len(gth) of a list with recursion</a></span></li><li><span><a href=\"#Reverse-a-string-with-recursion\" data-toc-modified-id=\"Reverse-a-string-with-recursion-7\">Reverse a string with recursion</a></span></li><li><span><a href=\"#Make-a-data-class-for-server-log-data\" data-toc-modified-id=\"Make-a-data-class-for-server-log-data-8\">Make a data class for server log data</a></span></li></ul></div>"
   ]
  },
  {
   "cell_type": "markdown",
   "metadata": {
    "deletable": false,
    "editable": false,
    "nbgrader": {
     "checksum": "9e1d220aa11dc03d551e919c7dcbef34",
     "grade": false,
     "grade_id": "cell-588eb434a3567ee2",
     "locked": true,
     "schema_version": 1,
     "solution": false
    }
   },
   "source": [
    "Lab 3: Recursion and OOP\n",
    "-----"
   ]
  },
  {
   "cell_type": "markdown",
   "metadata": {
    "deletable": false,
    "editable": false,
    "nbgrader": {
     "checksum": "6f74c5810cc3b15e32f09c7e015cb09c",
     "grade": false,
     "grade_id": "cell-5cc85b93d38670f4",
     "locked": true,
     "schema_version": 1,
     "solution": false
    }
   },
   "source": [
    "Learning Outcomes\n",
    "-----\n",
    "\n",
    "#### By the end of this notebook, you should be able to:\n",
    "\n",
    "- Solve a variety of problems with recursion.\n",
    "- Create a data class to model a specific type of data."
   ]
  },
  {
   "cell_type": "code",
   "execution_count": null,
   "metadata": {
    "deletable": false,
    "editable": false,
    "nbgrader": {
     "checksum": "89568de670d8936b162de23fc95062ad",
     "grade": false,
     "grade_id": "cell-b3989d3eb2c9086b",
     "locked": true,
     "schema_version": 1,
     "solution": false
    }
   },
   "outputs": [],
   "source": [
    "reset -fs"
   ]
  },
  {
   "cell_type": "markdown",
   "metadata": {
    "deletable": false,
    "editable": false,
    "nbgrader": {
     "checksum": "7f752f7c01d3e320b4763124de7e0ca5",
     "grade": false,
     "grade_id": "cell-f5072a892e638f26",
     "locked": true,
     "schema_version": 1,
     "solution": false
    }
   },
   "source": [
    "Exponentiation with recursion\n",
    "---\n",
    "\n",
    "Write an [exponentiation](https://en.wikipedia.org/wiki/Exponentiation) function that is recursive."
   ]
  },
  {
   "cell_type": "code",
   "execution_count": null,
   "metadata": {
    "deletable": false,
    "nbgrader": {
     "checksum": "aca00b635d3ab3def8394573e356c293",
     "grade": false,
     "grade_id": "cell-a0410474f2612710",
     "locked": false,
     "schema_version": 1,
     "solution": true
    }
   },
   "outputs": [],
   "source": [
    "def exp(b: int, x: int) -> int:\n",
    "    \n",
    "    # YOUR CODE HERE\n",
    "    raise NotImplementedError()"
   ]
  },
  {
   "cell_type": "code",
   "execution_count": null,
   "metadata": {
    "deletable": false,
    "editable": false,
    "nbgrader": {
     "checksum": "18afd996f274d29deacdbbbf1830db31",
     "grade": true,
     "grade_id": "cell-c552409509d50242",
     "locked": true,
     "points": 1,
     "schema_version": 1,
     "solution": false
    }
   },
   "outputs": [],
   "source": [
    "\"\"\"\n",
    "Test code for exp function.\n",
    "1 points for correctness.\n",
    "This cell should NOT give any errors when it is run.\n",
    "\n",
    "Note: Your `exp` is very in the range of valid inputs. \n",
    "      Do not be concerned about negative or fractional exponents.\n",
    "\"\"\"\n",
    "\n",
    "assert exp(2, 0) == 1\n",
    "assert exp(2, 1) == 2\n",
    "assert exp(2, 2) == 4\n",
    "assert exp(2, 3) == 8\n",
    "assert exp(2, 4) == 16\n",
    "assert exp(2, 5) == 32\n",
    "assert exp(3, 0) == 1\n",
    "assert exp(3, 1) == 3\n",
    "assert exp(3, 2) == 9\n",
    "assert exp(3, 3) == 27"
   ]
  },
  {
   "cell_type": "code",
   "execution_count": null,
   "metadata": {
    "code_folding": [
     9,
     12,
     30
    ],
    "deletable": false,
    "editable": false,
    "nbgrader": {
     "checksum": "5a5dbe50b06486ac6fa3b203f621e67a",
     "grade": true,
     "grade_id": "cell-c79dd3bbf9a254d1",
     "locked": true,
     "points": 3,
     "schema_version": 1,
     "solution": false
    }
   },
   "outputs": [],
   "source": [
    "\"\"\"\n",
    "Test code for exp function.\n",
    "3 points for using recursion.\n",
    "This cell should NOT give any errors when it is run.\n",
    "\"\"\"\n",
    "\n",
    "from bdb import Bdb\n",
    "import sys\n",
    "\n",
    "class RecursionDetected(Exception):\n",
    "    pass\n",
    "\n",
    "class RecursionDetector(Bdb):\n",
    "    \"From: https://stackoverflow.com/questions/36662181/is-there-a-way-to-check-if-function-is-recursive-in-python\"\n",
    "    def do_clear(self, arg):\n",
    "        pass\n",
    "\n",
    "    def __init__(self, *args):\n",
    "        Bdb.__init__(self, *args)\n",
    "        self.stack = set()\n",
    "\n",
    "    def user_call(self, frame, argument_list):\n",
    "        code = frame.f_code\n",
    "        if code in self.stack:\n",
    "            raise RecursionDetected\n",
    "        self.stack.add(code)\n",
    "\n",
    "    def user_return(self, frame, return_value):\n",
    "        self.stack.remove(frame.f_code)\n",
    "\n",
    "def test_recursion(func):\n",
    "    detector = RecursionDetector()\n",
    "    detector.set_trace()\n",
    "    try:\n",
    "        func()\n",
    "    except RecursionDetected:\n",
    "        return True\n",
    "    else:\n",
    "        return False\n",
    "    finally:\n",
    "        sys.settrace(None)\n",
    "        \n",
    "# Test if function is recursive\n",
    "assert test_recursion(lambda: exp(2, 5))"
   ]
  },
  {
   "cell_type": "markdown",
   "metadata": {
    "deletable": false,
    "editable": false,
    "nbgrader": {
     "checksum": "972d77e7160202a4d641d264cd9de359",
     "grade": false,
     "grade_id": "cell-7fb930e14d1bc203",
     "locked": true,
     "schema_version": 1,
     "solution": false
    }
   },
   "source": [
    "Create a Fibonacci sequence with recursion\n",
    "----\n",
    "\n",
    "Parts:\n",
    "\n",
    "1. Load Fibonacci sequence  for tests\n",
    "1. Write Fibonacci sequence that is recursive"
   ]
  },
  {
   "cell_type": "markdown",
   "metadata": {
    "deletable": false,
    "editable": false,
    "nbgrader": {
     "checksum": "68847096ef94aa78689e6c2826d8c323",
     "grade": false,
     "grade_id": "cell-606b3cb2f39f1cf2",
     "locked": true,
     "schema_version": 1,
     "solution": false
    }
   },
   "source": [
    "__Part 1: Load fib numbers__\n",
    "\n",
    "Load `fib_seq.txt` into a variable named `fibs_actual`.\n",
    "\n",
    "Do __not__ write a function. Just write the code in the cell below."
   ]
  },
  {
   "cell_type": "code",
   "execution_count": null,
   "metadata": {
    "deletable": false,
    "nbgrader": {
     "checksum": "f61e89276e56ce2b0b10f61852f97260",
     "grade": false,
     "grade_id": "cell-7664463a45dc6415",
     "locked": false,
     "schema_version": 1,
     "solution": true
    }
   },
   "outputs": [],
   "source": [
    "\n",
    "# YOUR CODE HERE\n",
    "raise NotImplementedError()\n"
   ]
  },
  {
   "cell_type": "code",
   "execution_count": null,
   "metadata": {
    "deletable": false,
    "editable": false,
    "nbgrader": {
     "checksum": "71aa7997c50fd2dc8ee4bd69d141faa7",
     "grade": true,
     "grade_id": "cell-99764163a03433cf",
     "locked": true,
     "points": 0,
     "schema_version": 1,
     "solution": false
    }
   },
   "outputs": [],
   "source": [
    "\"\"\"\n",
    "Test code for loading fib_seq.txt.\n",
    "2 points\n",
    "This cell should NOT give any errors when it is run.\n",
    "\"\"\"\n",
    "\n",
    "assert len(fibs_actual) == 30\n",
    "assert fibs_actual[:3] == [0, 1, 1]\n",
    "assert fibs_actual[-3:] == [196418, 317811, 514229]"
   ]
  },
  {
   "cell_type": "markdown",
   "metadata": {
    "deletable": false,
    "editable": false,
    "nbgrader": {
     "checksum": "8c6e009acb06beadd67cb8a914537275",
     "grade": false,
     "grade_id": "cell-3bc88eca2236c29a",
     "locked": true,
     "schema_version": 1,
     "solution": false
    }
   },
   "source": [
    "__Part 2: Generate Fibonacci sequence with recursion__\n"
   ]
  },
  {
   "cell_type": "code",
   "execution_count": null,
   "metadata": {
    "deletable": false,
    "nbgrader": {
     "checksum": "9ede248540cb6fcf195e4d1af1cb8f14",
     "grade": false,
     "grade_id": "cell-2cea8f1aacb0b678",
     "locked": false,
     "schema_version": 1,
     "solution": true
    }
   },
   "outputs": [],
   "source": [
    "def fib(n: int) -> int:\n",
    "\n",
    "    # YOUR CODE HERE\n",
    "    raise NotImplementedError()\n",
    "    "
   ]
  },
  {
   "cell_type": "code",
   "execution_count": null,
   "metadata": {
    "deletable": false,
    "editable": false,
    "nbgrader": {
     "checksum": "0a4465d05d8a318206a5f37d75fd99ac",
     "grade": true,
     "grade_id": "cell-29b00957b6f83a1d",
     "locked": true,
     "points": 1,
     "schema_version": 1,
     "solution": false
    }
   },
   "outputs": [],
   "source": [
    "\"\"\"\n",
    "Test code for fib function.\n",
    "1 points for correctness.\n",
    "This cell should NOT give any errors when it is run.\n",
    "\"\"\"\n",
    "\n",
    "fib_generated = [fib(n) for n in range(30)] \n",
    "assert fib_generated == fibs_actual"
   ]
  },
  {
   "cell_type": "code",
   "execution_count": null,
   "metadata": {
    "deletable": false,
    "editable": false,
    "nbgrader": {
     "checksum": "d1d0b37291bd5c33102ffa199065742a",
     "grade": true,
     "grade_id": "cell-23ef20ce21b2010f",
     "locked": true,
     "points": 3,
     "schema_version": 1,
     "solution": false
    }
   },
   "outputs": [],
   "source": [
    "\"\"\"\n",
    "Test code for fib function.\n",
    "3 points for using recursion.\n",
    "This cell should NOT give any errors when it is run.\n",
    "\"\"\"\n",
    "\n",
    "assert test_recursion(lambda: fib(10))"
   ]
  },
  {
   "cell_type": "markdown",
   "metadata": {
    "deletable": false,
    "editable": false,
    "nbgrader": {
     "checksum": "07afa746102df9e98e6eee3a5c9aef29",
     "grade": false,
     "grade_id": "cell-ccdd2e9f38f0f90e",
     "locked": true,
     "schema_version": 1,
     "solution": false
    }
   },
   "source": [
    "Greatest common divisor (GCD) with recursion\n",
    "----\n",
    "\n",
    "Write a function to find the the greatest common divisor for two numbers with recursion.\n",
    "\n",
    "This is also called Euclidean Algorithm. The Greek mathematician Euclid described this algorithm approx. 300 BCE and still being used in the field of number theory and cryptography."
   ]
  },
  {
   "cell_type": "code",
   "execution_count": null,
   "metadata": {
    "deletable": false,
    "nbgrader": {
     "checksum": "7a13fe7754741cea6600a71ee7a968f7",
     "grade": false,
     "grade_id": "cell-b3a108fc09a64bcd",
     "locked": false,
     "schema_version": 1,
     "solution": true
    }
   },
   "outputs": [],
   "source": [
    "def gcd(a: int, b: int) -> int:\n",
    "    \n",
    "    # YOUR CODE HERE\n",
    "    raise NotImplementedError()"
   ]
  },
  {
   "cell_type": "code",
   "execution_count": null,
   "metadata": {
    "deletable": false,
    "editable": false,
    "nbgrader": {
     "checksum": "05e87bd38a7df9aff2ff6395867e4792",
     "grade": true,
     "grade_id": "cell-cd5d0a53c67f6a40",
     "locked": true,
     "points": 1,
     "schema_version": 1,
     "solution": false
    }
   },
   "outputs": [],
   "source": [
    "\"\"\"\n",
    "Test code for gcd function.\n",
    "1 point for correctness.\n",
    "This cell should NOT give any errors when it is run.\n",
    "\"\"\"\n",
    "\n",
    "assert gcd(1, 1) == 1\n",
    "assert gcd(1, 1) == 1\n",
    "assert gcd(3, 9) == 3\n",
    "assert gcd(12, 8) == 4\n",
    "assert gcd(12, 24) == 12\n",
    "assert gcd(17, 13) == 1\n",
    "assert gcd(45, -12) == 3"
   ]
  },
  {
   "cell_type": "code",
   "execution_count": null,
   "metadata": {
    "deletable": false,
    "editable": false,
    "nbgrader": {
     "checksum": "36e1d49105391b6ac3178a341e2c9fd5",
     "grade": true,
     "grade_id": "cell-37055e2726fc945f",
     "locked": true,
     "points": 3,
     "schema_version": 1,
     "solution": false
    }
   },
   "outputs": [],
   "source": [
    "\"\"\"\n",
    "Test code for gcd function.\n",
    "3 points for using recursion.\n",
    "This cell should NOT give any errors when it is run.\n",
    "\"\"\"\n",
    "\n",
    "assert test_recursion(lambda: gcd(45, -12))"
   ]
  },
  {
   "cell_type": "markdown",
   "metadata": {
    "deletable": false,
    "editable": false,
    "nbgrader": {
     "checksum": "807fe9840e14e3c68fdffe0055c0f727",
     "grade": false,
     "grade_id": "cell-9b69109eaf058bf8",
     "locked": true,
     "schema_version": 1,
     "solution": false
    }
   },
   "source": [
    "Len(gth) of a list with recursion\n",
    "----\n",
    "\n",
    "Find a recursive function that returns the number of items in a list."
   ]
  },
  {
   "cell_type": "code",
   "execution_count": null,
   "metadata": {
    "deletable": false,
    "nbgrader": {
     "checksum": "cde43074ae65e7f645344f3dd57209c3",
     "grade": false,
     "grade_id": "cell-e50f07139b923d61",
     "locked": false,
     "schema_version": 1,
     "solution": true
    }
   },
   "outputs": [],
   "source": [
    "def len_list(a: list) -> int:\n",
    "    \n",
    "    # YOUR CODE HERE\n",
    "    raise NotImplementedError()"
   ]
  },
  {
   "cell_type": "code",
   "execution_count": null,
   "metadata": {
    "deletable": false,
    "editable": false,
    "nbgrader": {
     "checksum": "6bb8439c28014b836717e1a4ffca23d2",
     "grade": true,
     "grade_id": "cell-ec281ff9e30dab21",
     "locked": true,
     "points": 1,
     "schema_version": 1,
     "solution": false
    }
   },
   "outputs": [],
   "source": [
    "\"\"\"\n",
    "Test code for len_list function.\n",
    "1 point for correctness.\n",
    "This cell should NOT give any errors when it is run.\n",
    "\"\"\"\n",
    "\n",
    "assert len_list([]) == len([]) == 0\n",
    "assert len_list([None]) == len([None]) == 1\n",
    "assert len_list([1, 2, 3]) == len([1, 2, 3]) == 3"
   ]
  },
  {
   "cell_type": "code",
   "execution_count": null,
   "metadata": {
    "deletable": false,
    "editable": false,
    "nbgrader": {
     "checksum": "963045a29f4998b044db3e9f7fb322ce",
     "grade": true,
     "grade_id": "cell-79b6255cc88b4741",
     "locked": true,
     "points": 3,
     "schema_version": 1,
     "solution": false
    }
   },
   "outputs": [],
   "source": [
    "\"\"\"\n",
    "Test code for len_list function.\n",
    "3 points for using recursion.\n",
    "This cell should NOT give any errors when it is run.\n",
    "\"\"\"\n",
    "\n",
    "assert test_recursion(lambda: len_list([1, 2, 3]))"
   ]
  },
  {
   "cell_type": "markdown",
   "metadata": {
    "deletable": false,
    "editable": false,
    "nbgrader": {
     "checksum": "e10e89c07e73f1b0be5bec1ffce84c32",
     "grade": false,
     "grade_id": "cell-b14f4ac15b352373",
     "locked": true,
     "schema_version": 1,
     "solution": false
    }
   },
   "source": [
    "Reverse a string with recursion\n",
    "----\n",
    "\n",
    "Brian once had a technical interview which was solely \"Brainstorm and implement as many ways as possible to reverse a string.\"\n",
    "\n",
    "He got tripped up trying to implement reversing a string with recursion. \n",
    "\n",
    "Be better than Brian."
   ]
  },
  {
   "cell_type": "code",
   "execution_count": null,
   "metadata": {
    "deletable": false,
    "nbgrader": {
     "checksum": "e8a533536740eb644cf25308ad072b5d",
     "grade": false,
     "grade_id": "cell-84f0c22e48d77c38",
     "locked": false,
     "schema_version": 1,
     "solution": true
    }
   },
   "outputs": [],
   "source": [
    "def reverse_string(string: str) -> str:\n",
    "\n",
    "    # YOUR CODE HERE\n",
    "    raise NotImplementedError()"
   ]
  },
  {
   "cell_type": "code",
   "execution_count": null,
   "metadata": {
    "deletable": false,
    "editable": false,
    "nbgrader": {
     "checksum": "0862699c7f059530ef5410b7b975d373",
     "grade": true,
     "grade_id": "cell-e23e8f3c94043460",
     "locked": true,
     "points": 1,
     "schema_version": 1,
     "solution": false
    }
   },
   "outputs": [],
   "source": [
    "\"\"\"\n",
    "Test code for reverse_string function.\n",
    "1 point for correctness.\n",
    "This cell should NOT give any errors when it is run.\n",
    "\"\"\"\n",
    "\n",
    "string = \"redrum\"\n",
    "assert reverse_string(string) == \"murder\" == \"\".join(reversed(string)) == string[::-1]"
   ]
  },
  {
   "cell_type": "code",
   "execution_count": null,
   "metadata": {
    "deletable": false,
    "editable": false,
    "nbgrader": {
     "checksum": "26fbb47dac987629632bb5018deb5a79",
     "grade": true,
     "grade_id": "cell-000f3bf88e1d4533",
     "locked": true,
     "points": 3,
     "schema_version": 1,
     "solution": false
    }
   },
   "outputs": [],
   "source": [
    "\"\"\"\n",
    "Test code for reverse_string function.\n",
    "3 points for using recursion.\n",
    "This cell should NOT give any errors when it is run.\n",
    "\"\"\"\n",
    "\n",
    "assert test_recursion(lambda: reverse_string(\"redrum\"))"
   ]
  },
  {
   "cell_type": "markdown",
   "metadata": {
    "deletable": false,
    "editable": false,
    "nbgrader": {
     "checksum": "5c2b2332bd75ed7f39b97e92b664b09f",
     "grade": false,
     "grade_id": "cell-59bab6291ead48e1",
     "locked": true,
     "schema_version": 1,
     "solution": false
    }
   },
   "source": [
    "Make a data class for server log data\n",
    "------\n",
    "\n",
    "Data class allow us to store data in class. A class is more human readable each field has a name and easier to access because the `.` interface.\n",
    "\n",
    "Server log files are a raw, unfiltered look at the traffic to a website. They are the text files stored on a webserver. Every time anything (mostly browsers) request anything (mostly urls) from your server, the server adds a line in the log. The logs also store the errors and the attacks on a webserver.\n",
    "\n",
    "Define a data class called `ApacheLog` with following attributes:\n",
    "\n",
    "- ip\n",
    "- datestamp\n",
    "- status_code\n",
    "\n",
    "Since ApacheLog is a data class, ApacheLog will have no methods. \n",
    "\n",
    "Examples of real Apache web server logs are [here](http://www.monitorware.com/en/logsamples/apache.php).\n",
    "\n",
    "For this assignment, just use generic built-in types for type hints. In real code, we could be more specific with type hints. "
   ]
  },
  {
   "cell_type": "code",
   "execution_count": null,
   "metadata": {
    "deletable": false,
    "nbgrader": {
     "checksum": "6b2700169fdd3facceec55d3c02aa3c7",
     "grade": false,
     "grade_id": "cell-d20f2c6bd85416c4",
     "locked": false,
     "schema_version": 1,
     "solution": true
    }
   },
   "outputs": [],
   "source": [
    "from dataclasses import dataclass\n",
    "\n",
    "# YOUR CODE HERE\n",
    "raise NotImplementedError()"
   ]
  },
  {
   "cell_type": "code",
   "execution_count": null,
   "metadata": {
    "deletable": false,
    "editable": false,
    "nbgrader": {
     "checksum": "0e0bd49899cb5a06162500af0c8baf73",
     "grade": true,
     "grade_id": "cell-f967452b7b148e5e",
     "locked": true,
     "points": 1,
     "schema_version": 1,
     "solution": false
    }
   },
   "outputs": [],
   "source": [
    "\"\"\"\n",
    "Test code for ApacheLog class.\n",
    "1 point\n",
    "This cell should NOT give any errors when it is run.\n",
    "\"\"\"\n",
    "\n",
    "l = ApacheLog(ip='192.168.0.1',\n",
    "              datestamp='07/Mar/2019:16:05:49 -0800',\n",
    "              status_code=200,\n",
    "              )\n",
    "attributes =[a for a in dir(l) if not a.startswith(\"__\")]\n",
    "\n",
    "assert isinstance(l, ApacheLog)\n",
    "assert set(attributes) == {'datestamp', 'ip', 'status_code'}\n",
    "assert '__dataclass_fields__' in dir(l)"
   ]
  },
  {
   "cell_type": "markdown",
   "metadata": {
    "deletable": false,
    "editable": false,
    "nbgrader": {
     "checksum": "09a2aa8aba527974e6dca328efeb0bce",
     "grade": false,
     "grade_id": "cell-ff2d070e25115ec4",
     "locked": true,
     "schema_version": 1,
     "solution": false
    }
   },
   "source": [
    "<br>\n",
    "<br> \n",
    "<br>\n",
    "\n",
    "----"
   ]
  }
 ],
 "metadata": {
  "anaconda-cloud": {},
  "kernelspec": {
   "display_name": "Python 3",
   "language": "python",
   "name": "python3"
  },
  "language_info": {
   "codemirror_mode": {
    "name": "ipython",
    "version": 3
   },
   "file_extension": ".py",
   "mimetype": "text/x-python",
   "name": "python",
   "nbconvert_exporter": "python",
   "pygments_lexer": "ipython3",
   "version": "3.7.3"
  },
  "toc": {
   "base_numbering": 1,
   "nav_menu": {},
   "number_sections": false,
   "sideBar": true,
   "skip_h1_title": false,
   "title_cell": "Table of Contents",
   "title_sidebar": "Contents",
   "toc_cell": true,
   "toc_position": {},
   "toc_section_display": true,
   "toc_window_display": false
  }
 },
 "nbformat": 4,
 "nbformat_minor": 1
}
