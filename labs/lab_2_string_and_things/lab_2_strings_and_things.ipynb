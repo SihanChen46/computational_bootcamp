{
 "cells": [
  {
   "cell_type": "markdown",
   "metadata": {
    "deletable": false,
    "editable": false,
    "nbgrader": {
     "checksum": "cc74d9c3c3dd043e9517d59da7e814c2",
     "grade": false,
     "grade_id": "cell-f49b8ea35a2dabd9",
     "locked": true,
     "schema_version": 1,
     "solution": false
    },
    "toc": true
   },
   "source": [
    "<h1>Table of Contents<span class=\"tocSkip\"></span></h1>\n",
    "<div class=\"toc\"><ul class=\"toc-item\"><li><span><a href=\"#Lab-2:-Strings-and-Things\" data-toc-modified-id=\"Lab-2:-Strings-and-Things-1\">Lab 2: Strings and Things</a></span></li><li><span><a href=\"#Learning-Outcomes\" data-toc-modified-id=\"Learning-Outcomes-2\">Learning Outcomes</a></span><ul class=\"toc-item\"><li><ul class=\"toc-item\"><li><span><a href=\"#By-the-end-of-this-notebook,-you-should-be-able-to:\" data-toc-modified-id=\"By-the-end-of-this-notebook,-you-should-be-able-to:-2.0.1\">By the end of this notebook, you should be able to:</a></span></li></ul></li></ul></li><li><span><a href=\"#Human-readable-numbers-with-commas-and-significant-digits\" data-toc-modified-id=\"Human-readable-numbers-with-commas-and-significant-digits-3\">Human readable numbers with commas and significant digits</a></span></li><li><span><a href=\"#A-bunch-of-binomial-coefficients\" data-toc-modified-id=\"A-bunch-of-binomial-coefficients-4\">A bunch of binomial coefficients</a></span></li><li><span><a href=\"#Pascal's-triangle,-the-easy-way\" data-toc-modified-id=\"Pascal's-triangle,-the-easy-way-5\">Pascal's triangle, the easy way</a></span></li><li><span><a href=\"#Normalize-numbers\" data-toc-modified-id=\"Normalize-numbers-6\">Normalize numbers</a></span></li><li><span><a href=\"#Create-a-Fibonacci-sequence\" data-toc-modified-id=\"Create-a-Fibonacci-sequence-7\">Create a Fibonacci sequence</a></span></li><li><span><a href=\"#Return-the-even-numbers-in-a-list-of-lists\" data-toc-modified-id=\"Return-the-even-numbers-in-a-list-of-lists-8\">Return the even numbers in a list of lists</a></span></li><li><span><a href=\"#Find-single-item-difference-between-two-lists-(Easier)\" data-toc-modified-id=\"Find-single-item-difference-between-two-lists-(Easier)-9\">Find single item difference between two lists (Easier)</a></span></li><li><span><a href=\"#Find-single-item-difference-between-two-lists-(Harder)\" data-toc-modified-id=\"Find-single-item-difference-between-two-lists-(Harder)-10\">Find single item difference between two lists (Harder)</a></span></li><li><span><a href=\"#Unique-elements-in-order-&amp;-run-length-encoding\" data-toc-modified-id=\"Unique-elements-in-order-&amp;-run-length-encoding-11\">Unique elements in order &amp; run-length encoding</a></span></li><li><span><a href=\"#Validate-Credit-Card-Numbers\" data-toc-modified-id=\"Validate-Credit-Card-Numbers-12\">Validate Credit Card Numbers</a></span></li><li><span><a href=\"#Build-a-count-dictionary-without-any-imports\" data-toc-modified-id=\"Build-a-count-dictionary-without-any-imports-13\">Build a count dictionary without any imports</a></span></li><li><span><a href=\"#Sum-of-clicks-per-day\" data-toc-modified-id=\"Sum-of-clicks-per-day-14\">Sum of clicks per day</a></span></li><li><span><a href=\"#Convert-data-into-a-ontology\" data-toc-modified-id=\"Convert-data-into-a-ontology-15\">Convert data into a ontology</a></span></li></ul></div>"
   ]
  },
  {
   "cell_type": "markdown",
   "metadata": {
    "deletable": false,
    "editable": false,
    "nbgrader": {
     "checksum": "bb84d478fbafadc65e3b621f4aa2abc5",
     "grade": false,
     "grade_id": "cell-588eb434a3567ee2",
     "locked": true,
     "schema_version": 1,
     "solution": false
    }
   },
   "source": [
    "Lab 2: Strings and Things\n",
    "-----"
   ]
  },
  {
   "cell_type": "markdown",
   "metadata": {
    "deletable": false,
    "editable": false,
    "nbgrader": {
     "checksum": "08e6cbbbd126e4a03163243327d1b695",
     "grade": false,
     "grade_id": "cell-5cc85b93d38670f4",
     "locked": true,
     "schema_version": 1,
     "solution": false
    }
   },
   "source": [
    "Learning Outcomes\n",
    "-----\n",
    "\n",
    "#### By the end of this notebook, you should be able to:\n",
    "\n",
    "- Create well-formatted strings.\n",
    "- Process data efficiently with `list` and `set` methods \n",
    "- Write `list` comprehensions.\n",
    "- Organize data with `Counter` and `defaultdict` "
   ]
  },
  {
   "cell_type": "code",
   "execution_count": null,
   "metadata": {
    "deletable": false,
    "editable": false,
    "nbgrader": {
     "checksum": "89568de670d8936b162de23fc95062ad",
     "grade": false,
     "grade_id": "cell-b3989d3eb2c9086b",
     "locked": true,
     "schema_version": 1,
     "solution": false
    }
   },
   "outputs": [],
   "source": [
    "reset -fs"
   ]
  },
  {
   "cell_type": "markdown",
   "metadata": {
    "deletable": false,
    "editable": false,
    "nbgrader": {
     "checksum": "d936173a667d531a94e47044af826b39",
     "grade": false,
     "grade_id": "cell-cd146e6794116e50",
     "locked": true,
     "schema_version": 1,
     "solution": false
    }
   },
   "source": [
    "Human readable numbers with commas and significant digits\n",
    "----\n",
    "\n",
    "Given a long number, return human-centric view with commas and only 2 decimals of precision."
   ]
  },
  {
   "cell_type": "code",
   "execution_count": null,
   "metadata": {
    "deletable": false,
    "nbgrader": {
     "checksum": "a3948b041aba1f94144da2862ecb50d7",
     "grade": false,
     "grade_id": "cell-5a81b04378813924",
     "locked": false,
     "schema_version": 1,
     "solution": true
    }
   },
   "outputs": [],
   "source": [
    "def human_readable(number_raw: float) -> str:\n",
    "    \n",
    "    # YOUR CODE HERE\n",
    "    raise NotImplementedError()"
   ]
  },
  {
   "cell_type": "code",
   "execution_count": null,
   "metadata": {
    "deletable": false,
    "editable": false,
    "nbgrader": {
     "checksum": "df53247b90c8d6b3bfbe135727f26152",
     "grade": true,
     "grade_id": "cell-b9f73eb5bc258ee9",
     "locked": true,
     "points": 2,
     "schema_version": 1,
     "solution": false
    }
   },
   "outputs": [],
   "source": [
    "\"\"\"\n",
    "Test code for human_readable function.\n",
    "2 points.\n",
    "This cell should NOT give any errors when it is run.\n",
    "\"\"\"\n",
    "\n",
    "assert human_readable(-1234.5678) == '-1,234.57'\n",
    "assert human_readable(333222999.3666666) == '333,222,999.37'"
   ]
  },
  {
   "cell_type": "markdown",
   "metadata": {
    "deletable": false,
    "editable": false,
    "nbgrader": {
     "checksum": "43f1ffea730b5a42f70a3c2a9d441ded",
     "grade": false,
     "grade_id": "cell-692b8c219953e080",
     "locked": true,
     "schema_version": 1,
     "solution": false
    }
   },
   "source": [
    "A bunch of binomial coefficients\n",
    "-----\n",
    "\n",
    "In the previous lab, you wrote a function to generate binomial coefficients. The test case was for each value of k. Let's generate binomial coefficients more compactly with a list comprehension."
   ]
  },
  {
   "cell_type": "code",
   "execution_count": null,
   "metadata": {
    "deletable": false,
    "nbgrader": {
     "checksum": "e9aeed55237d0e9eb8d8fba167e71545",
     "grade": false,
     "grade_id": "cell-45f18298b158ae02",
     "locked": false,
     "schema_version": 1,
     "solution": true
    }
   },
   "outputs": [],
   "source": [
    "from math import factorial\n",
    "from typing import List\n",
    "\n",
    "def all_binomial_coefficients(n: int) -> List[int]:\n",
    "\n",
    "    # YOUR CODE HERE\n",
    "    raise NotImplementedError()"
   ]
  },
  {
   "cell_type": "code",
   "execution_count": null,
   "metadata": {
    "code_folding": [
     2
    ],
    "deletable": false,
    "editable": false,
    "nbgrader": {
     "checksum": "d67d4346b39056d22357ff071f0f2eca",
     "grade": true,
     "grade_id": "cell-d0067539ac300ea2",
     "locked": true,
     "points": 2,
     "schema_version": 1,
     "solution": false
    }
   },
   "outputs": [],
   "source": [
    "\"\"\"\n",
    "Test code for all_binomial_coefficients function.\n",
    "2 points.\n",
    "This cell should NOT give any errors when it is run.\n",
    "\"\"\"\n",
    "\n",
    "assert all_binomial_coefficients(4) == [1, 4, 6, 4, 1]\n",
    "assert all_binomial_coefficients(8) == [1, 8, 28, 56, 70, 56, 28, 8, 1]\n",
    "assert all_binomial_coefficients(32) == [1,\n",
    "                                         32,\n",
    "                                         496,\n",
    "                                         4960,\n",
    "                                         35960,\n",
    "                                         201376,\n",
    "                                         906192,\n",
    "                                         3365856,\n",
    "                                         10518300,\n",
    "                                         28048800,\n",
    "                                         64512240,\n",
    "                                         129024480,\n",
    "                                         225792840,\n",
    "                                         347373600,\n",
    "                                         471435600,\n",
    "                                         565722720,\n",
    "                                         601080390,\n",
    "                                         565722720,\n",
    "                                         471435600,\n",
    "                                         347373600,\n",
    "                                         225792840,\n",
    "                                         129024480,\n",
    "                                         64512240,\n",
    "                                         28048800,\n",
    "                                         10518300,\n",
    "                                         3365856,\n",
    "                                         906192,\n",
    "                                         201376,\n",
    "                                         35960,\n",
    "                                         4960,\n",
    "                                         496,\n",
    "                                         32,\n",
    "                                         1,]"
   ]
  },
  {
   "cell_type": "markdown",
   "metadata": {
    "deletable": false,
    "editable": false,
    "nbgrader": {
     "checksum": "4aa4e81276c2559b445a123ce108cc1e",
     "grade": false,
     "grade_id": "cell-fdc1055de183c29a",
     "locked": true,
     "schema_version": 1,
     "solution": false
    }
   },
   "source": [
    "Pascal's triangle, the easy way\n",
    "-----\n",
    "\n",
    "<center><img src=\"https://upload.wikimedia.org/wikipedia/commons/thumb/0/0d/PascalTriangleAnimated2.gif/220px-PascalTriangleAnimated2.gif\" width=\"35%\"/></center>\n",
    "\n",
    "[Pascal's triangle](https://en.wikipedia.org/wiki/Pascal%27s_triangle) is a triangular array of the binomial coefficients.\n",
    "\n",
    "Use the `all_binomial_coefficients` function you wrote above to generate a list-of-lists that is a Pascal's triangle. Given the goal is to programmatically build-up a list, a list comp is appropriate."
   ]
  },
  {
   "cell_type": "code",
   "execution_count": null,
   "metadata": {
    "deletable": false,
    "nbgrader": {
     "checksum": "cf5f62711e0f3fc3a68081ba9bf4d1ab",
     "grade": false,
     "grade_id": "cell-07f5541d6e30adf7",
     "locked": false,
     "schema_version": 1,
     "solution": true
    }
   },
   "outputs": [],
   "source": [
    "from typing import List\n",
    "\n",
    "def pascal_triangle(depth: int) -> List[List[int]]:\n",
    "    \n",
    "    # YOUR CODE HERE\n",
    "    raise NotImplementedError()"
   ]
  },
  {
   "cell_type": "code",
   "execution_count": null,
   "metadata": {
    "code_folding": [
     3
    ],
    "deletable": false,
    "editable": false,
    "nbgrader": {
     "checksum": "eb77a1f967986ccd7c394838f14b538f",
     "grade": true,
     "grade_id": "cell-a7dc148999407314",
     "locked": true,
     "points": 1,
     "schema_version": 1,
     "solution": false
    }
   },
   "outputs": [],
   "source": [
    "\"\"\"\n",
    "Test code for pascal_triangle function.\n",
    "1 points.\n",
    "This cell should NOT give any errors when it is run.\n",
    "\"\"\"\n",
    "\n",
    "assert pascal_triangle(1) == [[1]]\n",
    "assert pascal_triangle(2) == [[1], [1, 1]]\n",
    "assert pascal_triangle(3) == [[1], [1, 1], [1, 2, 1]]\n",
    "assert pascal_triangle(4) == [[1], [1, 1], [1, 2, 1], [1, 3, 3, 1]]\n",
    "assert pascal_triangle(5) == [[1], [1, 1], [1, 2, 1], [1, 3, 3, 1], [1, 4, 6, 4, 1]]"
   ]
  },
  {
   "cell_type": "markdown",
   "metadata": {
    "deletable": false,
    "editable": false,
    "nbgrader": {
     "checksum": "210b81da2ae2e41ae43ee4e327e2fda8",
     "grade": false,
     "grade_id": "cell-d9e1976a3ab567e7",
     "locked": true,
     "schema_version": 1,
     "solution": false
    }
   },
   "source": [
    "Normalize numbers\n",
    "----\n",
    "\n",
    "Write a function that linearly rescales a list of numbers values to be [0,1], one type of [normalization](https://en.wikipedia.org/wiki/Normalization_(statistics)). \n",
    "\n",
    "Use this formula:\n",
    "\n",
    "$$ X′ = \\frac{X - X_{min}}{X_{max} - X_{min}} $$\n",
    "\n",
    "Given that the inputs and outputs are both lists, a list comprehension is appropriate.\n",
    "\n",
    "This is also called Min-Max Feature scaling. Often times in data science, we take raw values and rescale them to be features."
   ]
  },
  {
   "cell_type": "code",
   "execution_count": null,
   "metadata": {
    "deletable": false,
    "nbgrader": {
     "checksum": "09819c8df2041475b9b0a36a06fc1a98",
     "grade": false,
     "grade_id": "cell-58d9aa8093eaa647",
     "locked": false,
     "schema_version": 1,
     "solution": true
    }
   },
   "outputs": [],
   "source": [
    "from typing import Sequence\n",
    "\n",
    "def normalize(nums: Sequence[float]) -> Sequence[float]:\n",
    "    \n",
    "    # YOUR CODE HERE\n",
    "    raise NotImplementedError()\n",
    "    "
   ]
  },
  {
   "cell_type": "code",
   "execution_count": null,
   "metadata": {
    "deletable": false,
    "editable": false,
    "nbgrader": {
     "checksum": "12bb377ba0a70783ce45f34fe29b5887",
     "grade": true,
     "grade_id": "cell-80c0cbd76756d5ff",
     "locked": true,
     "points": 3,
     "schema_version": 1,
     "solution": false
    }
   },
   "outputs": [],
   "source": [
    "\"\"\"\n",
    "Test code for normalize function.\n",
    "3 points.\n",
    "This cell should NOT give any errors when it is run.\n",
    "\"\"\"\n",
    "\n",
    "nums = list(range(-3, 5))\n",
    "assert min(normalize(nums)) == 0 \n",
    "assert max(normalize(nums)) == 1\n",
    "assert normalize(nums) ==   [0.0,\n",
    "                             0.14285714285714285,\n",
    "                             0.2857142857142857,\n",
    "                             0.42857142857142855,\n",
    "                             0.5714285714285714,\n",
    "                             0.7142857142857143,\n",
    "                             0.8571428571428571,\n",
    "                             1.0]\n",
    "\n",
    "nums = list(range(-99, 100))\n",
    "assert min(normalize(nums)) == 0\n",
    "assert normalize(nums)[49]  == 0.2474747474747475\n",
    "assert max(normalize(nums)) == 1"
   ]
  },
  {
   "cell_type": "markdown",
   "metadata": {
    "deletable": false,
    "editable": false,
    "nbgrader": {
     "checksum": "16ff98d9431568288b76bd296e250cb0",
     "grade": false,
     "grade_id": "cell-fd8cf7555d1777eb",
     "locked": true,
     "schema_version": 1,
     "solution": false
    }
   },
   "source": [
    "Create a Fibonacci sequence\n",
    "----\n",
    "\n",
    "[Fibonacci sequence](https://en.wikipedia.org/wiki/Fibonacci_number) is a series in which each number is the sum of the two preceding numbers:   \n",
    "[0, 1, 1, 2, 3, 5, 8] (0+1 = 1, 1+1=2, …).\n",
    "\n",
    "Fibonacci numbers are very common in both science and tech.\n",
    "\n",
    "Write a function that creates a list of Fibonacci numbers up to a given parameter.\n",
    "\n",
    "Do __not__ use recursion."
   ]
  },
  {
   "cell_type": "code",
   "execution_count": null,
   "metadata": {
    "deletable": false,
    "nbgrader": {
     "checksum": "c2befafe705b7569afb3b6f14819a28b",
     "grade": false,
     "grade_id": "cell-cb5166eea9533240",
     "locked": false,
     "schema_version": 1,
     "solution": true
    }
   },
   "outputs": [],
   "source": [
    "from typing import List\n",
    "\n",
    "def fib(n: int) -> List[int]:\n",
    "\n",
    "    fib_seq = [0, 1]\n",
    "    \n",
    "    while len(fib_seq) < n:\n",
    "\n",
    "    # YOUR CODE HERE\n",
    "    raise NotImplementedError()\n",
    "    \n",
    "    return fib_seq"
   ]
  },
  {
   "cell_type": "code",
   "execution_count": null,
   "metadata": {
    "deletable": false,
    "editable": false,
    "nbgrader": {
     "checksum": "0b4343803368c4568386c97d3fbe77f4",
     "grade": true,
     "grade_id": "cell-89ea281d3e25afb3",
     "locked": true,
     "points": 3,
     "schema_version": 1,
     "solution": false
    }
   },
   "outputs": [],
   "source": [
    "\"\"\"\n",
    "Test code for fib function.\n",
    "3 points.\n",
    "This cell should NOT give any errors when it is run.\n",
    "\"\"\"\n",
    "\n",
    "assert fib(5) == [0, 1, 1, 2, 3]\n",
    "assert fib(6) == [0, 1, 1, 2, 3, 5]\n",
    "assert fib(50)[-1] == 7_778_742_049\n",
    "assert fib(5_000)[-1] == 2397334346100631452333336800023778743396400988090212332865227234032387117767626167465060795065595580850691237390963845987165478074085124644348902530685083246709423858342692329718110162972268152200857232686119638781547238020078362945470777668711057069618425746387920931255084621360135655698456629322111614827324455767748623844363426260372374195153577101298837831208580530677289982029527164306876024342838547454228388796380077029917639469963653048076473269452943584037848773158456736367057460079075603072996653089318046279296240100777360367200040226807430924334616931577257195085793060133817911514540227011756335999604550121968663793604830945238116686325506344893928776515696088851468818023735825546502317562957459506612704850760351077006532507519813600498603205937022956740021970327599548184626715032015801445754074519753924901317605013561516613650173445818028242577356369143977719495739428130191089993769093308407443558168431535751910046557480949313497996285124526992631353143367314930548703966553707195171094152730704138121243470432644848607501"
   ]
  },
  {
   "cell_type": "markdown",
   "metadata": {
    "deletable": false,
    "editable": false,
    "nbgrader": {
     "checksum": "0f604b16f4cc3883e1c5c04856153e97",
     "grade": false,
     "grade_id": "cell-c5772a46fcc906f3",
     "locked": true,
     "schema_version": 1,
     "solution": false
    }
   },
   "source": [
    "Return the even numbers in a list of lists\n",
    "----\n",
    "\n",
    "Given a list of lists (lol), return just numbers that are even. Retain row location.\n",
    "\n",
    "Given that the inputs and outputs are both lists, a list comprehension is appropriate."
   ]
  },
  {
   "cell_type": "code",
   "execution_count": null,
   "metadata": {
    "deletable": false,
    "nbgrader": {
     "checksum": "288dcba8823ea63835a2b30d8c608b31",
     "grade": false,
     "grade_id": "cell-79d54856e25f16f8",
     "locked": false,
     "schema_version": 1,
     "solution": true
    }
   },
   "outputs": [],
   "source": [
    "from typing import List\n",
    "\n",
    "def even_numbers(lol: List[List[float]]) -> List[List[float]]:\n",
    "   \n",
    "    # YOUR CODE HERE\n",
    "    raise NotImplementedError()"
   ]
  },
  {
   "cell_type": "code",
   "execution_count": null,
   "metadata": {
    "deletable": false,
    "editable": false,
    "nbgrader": {
     "checksum": "214659ae84855406e5dc2e19bb2c6716",
     "grade": true,
     "grade_id": "cell-1420596926285ad5",
     "locked": true,
     "points": 2,
     "schema_version": 1,
     "solution": false
    }
   },
   "outputs": [],
   "source": [
    "\"\"\"\n",
    "Test code for even_numbers function.\n",
    "2 points.\n",
    "This cell should NOT give any errors when it is run.\n",
    "\"\"\"\n",
    "\n",
    "assert even_numbers([[0, 1, 0], [1, 0, 1]]) == [[0, 0], [0]]\n",
    "assert even_numbers([[1, 2, 3], [4, 5, 6], [7, 8, 9]]) == [[2], [4, 6], [8]]"
   ]
  },
  {
   "cell_type": "markdown",
   "metadata": {
    "deletable": false,
    "editable": false,
    "nbgrader": {
     "checksum": "37e4b38985db1aa0f9b856489b3c8165",
     "grade": false,
     "grade_id": "cell-180097460e03fea4",
     "locked": true,
     "schema_version": 1,
     "solution": false
    }
   },
   "source": [
    "Find single item difference between two lists (Easier)\n",
    "----\n",
    "\n",
    "Given an list of objects A and another list B which is identical to A except that one element is removed, find that removed element.\n",
    "\n",
    "The list items will only be numbers and strings.\n",
    "\n",
    "Be as efficient as possible."
   ]
  },
  {
   "cell_type": "code",
   "execution_count": null,
   "metadata": {
    "deletable": false,
    "nbgrader": {
     "checksum": "e05c0184612bbfd91c916befb6804a20",
     "grade": false,
     "grade_id": "cell-49a7c73e05249898",
     "locked": false,
     "schema_version": 1,
     "solution": true
    }
   },
   "outputs": [],
   "source": [
    "def find_removed_item_1(a, b):\n",
    "\n",
    "    # YOUR CODE HERE\n",
    "    raise NotImplementedError()"
   ]
  },
  {
   "cell_type": "code",
   "execution_count": null,
   "metadata": {
    "deletable": false,
    "editable": false,
    "nbgrader": {
     "checksum": "91fd2ae25817670b8f553cb7c8dd942e",
     "grade": true,
     "grade_id": "cell-e39aa55a4059bf6b",
     "locked": true,
     "points": 0,
     "schema_version": 1,
     "solution": false
    }
   },
   "outputs": [],
   "source": [
    "\"\"\"\n",
    "Test code for find_removed_item function.\n",
    "2 points.\n",
    "This cell should NOT give any errors when it is run.\n",
    "\"\"\"\n",
    "\n",
    "assert find_removed_item_1(a=[1, 2, 3, 4], b=[1, 2, 4]) == 3\n",
    "assert find_removed_item_1(a=[1, \"foo\", 2, 3], b=[1, 2, 3]) == \"foo\""
   ]
  },
  {
   "cell_type": "markdown",
   "metadata": {
    "deletable": false,
    "editable": false,
    "nbgrader": {
     "checksum": "50f94dfa00d8a1218fa1814f82cf5415",
     "grade": false,
     "grade_id": "cell-13ce2d8f90eb95bf",
     "locked": true,
     "schema_version": 1,
     "solution": false
    }
   },
   "source": [
    "Find single item difference between two lists (Harder)\n",
    "----\n",
    "\n",
    "Given an list of objects A and another list B which is identical to A except that one element is removed, find that removed element.\n",
    "\n",
    "Items in list could be anything, including sets and other lists.\n",
    "\n",
    "Be as efficient as possible."
   ]
  },
  {
   "cell_type": "code",
   "execution_count": null,
   "metadata": {
    "deletable": false,
    "nbgrader": {
     "checksum": "6e43e547b251190c03e85b4b46138f2d",
     "grade": false,
     "grade_id": "cell-5387edd6b5d5c5cb",
     "locked": false,
     "schema_version": 1,
     "solution": true
    }
   },
   "outputs": [],
   "source": [
    "def find_removed_item_2(a, b):\n",
    "\n",
    "    # YOUR CODE HERE\n",
    "    raise NotImplementedError()"
   ]
  },
  {
   "cell_type": "code",
   "execution_count": null,
   "metadata": {
    "deletable": false,
    "editable": false,
    "nbgrader": {
     "checksum": "0aa45187577c0948cb61103b0fc87bf0",
     "grade": true,
     "grade_id": "cell-17c2abb4afba8bf6",
     "locked": true,
     "points": 2,
     "schema_version": 1,
     "solution": false
    }
   },
   "outputs": [],
   "source": [
    "\"\"\"\n",
    "Test code for find_removed_item_2 function.\n",
    "2 points.\n",
    "This cell should NOT give any errors when it is run.\n",
    "\"\"\"\n",
    "\n",
    "assert find_removed_item_2(a=[1, 2, {3, 4}, \"foo\"], b=[1, 2, {3, 4}]) == \"foo\"\n",
    "assert find_removed_item_2(a=[1, \"foo\", 2, [3, 4]], b=[1, 2, [3, 4]]) == \"foo\""
   ]
  },
  {
   "cell_type": "markdown",
   "metadata": {
    "deletable": false,
    "editable": false,
    "nbgrader": {
     "checksum": "deb466184761c945916dd38bfc96ec77",
     "grade": false,
     "grade_id": "cell-895a827821209b70",
     "locked": true,
     "schema_version": 1,
     "solution": false
    }
   },
   "source": [
    "Unique elements in order & run-length encoding\n",
    "----\n",
    "\n",
    "Given a list, return a list of items without any elements with the same value next to each other. This is the first step in run-length encoding. Then write a complete run-length encoding function.\n",
    "\n",
    "Given data sequences in which the same value occurs many times in a row, the data into single data value and its count:\n",
    "\n",
    "Input: `WWWWWWWWWWWWBWWWWWWWWWWWWBBB`  \n",
    "Oupput: `12W1B12W3B`\n",
    "\n",
    "Run-length encoding is related to [Kolmogorov complexity](https://en.wikipedia.org/wiki/Kolmogorov_complexity), very useful for compression algorithms. Often times in data science we need to compress information to move big data around.\n",
    "\n",
    "Do __not__ import anything else."
   ]
  },
  {
   "cell_type": "code",
   "execution_count": null,
   "metadata": {
    "deletable": false,
    "nbgrader": {
     "checksum": "b5d38a2976ce1948a31e843fba3d840c",
     "grade": false,
     "grade_id": "cell-08e597ae0bca712a",
     "locked": false,
     "schema_version": 1,
     "solution": true
    }
   },
   "outputs": [],
   "source": [
    "from typing import List\n",
    "\n",
    "def unique_in_order(data: List) -> List:\n",
    "    \n",
    "    # YOUR CODE HERE\n",
    "    raise NotImplementedError()"
   ]
  },
  {
   "cell_type": "code",
   "execution_count": null,
   "metadata": {
    "deletable": false,
    "editable": false,
    "nbgrader": {
     "checksum": "d07216c01731cdd4a66dab945ec309b4",
     "grade": true,
     "grade_id": "cell-24f2875426e9a25d",
     "locked": true,
     "points": 3,
     "schema_version": 1,
     "solution": false
    }
   },
   "outputs": [],
   "source": [
    "\"\"\"\n",
    "Test code for unique_in_order function.\n",
    "3 points.\n",
    "This cell should NOT give any errors when it is run.\n",
    "\"\"\"\n",
    "\n",
    "assert unique_in_order('A A A A B B B C C D A A B B B'.split()) == ['A', 'B', 'C', 'D', 'A', 'B']\n",
    "assert unique_in_order('A B B C c A D'.split())         == ['A', 'B', 'C', 'c', 'A', 'D']\n",
    "assert unique_in_order('🐶 🐱 🐶 🐱 🐱 🐱 🐶 🐶 🦄'.split()) == ['🐶', '🐱', '🐶', '🐱', '🐶', '🦄']\n",
    "assert unique_in_order([1, 2, 2, 3, 3, 1])   == [1, 2, 3, 1]"
   ]
  },
  {
   "cell_type": "code",
   "execution_count": null,
   "metadata": {
    "deletable": false,
    "nbgrader": {
     "checksum": "6bb302881b517dd440ae290f31256e79",
     "grade": false,
     "grade_id": "cell-e3086d9e3cf2ba79",
     "locked": false,
     "schema_version": 1,
     "solution": true
    }
   },
   "outputs": [],
   "source": [
    "def rle_encode(data: List) -> List: \n",
    "    \n",
    "    # YOUR CODE HERE\n",
    "    raise NotImplementedError()\n",
    "    "
   ]
  },
  {
   "cell_type": "code",
   "execution_count": null,
   "metadata": {
    "deletable": false,
    "editable": false,
    "nbgrader": {
     "checksum": "9a662161781bb5d0d33fde9601d9748a",
     "grade": true,
     "grade_id": "cell-5d439d331467df27",
     "locked": true,
     "points": 4,
     "schema_version": 1,
     "solution": false
    }
   },
   "outputs": [],
   "source": [
    "\"\"\"\n",
    "Test code for rle_encode function.\n",
    "4 points.\n",
    "This cell should NOT give any errors when it is run.\n",
    "\"\"\"\n",
    "\n",
    "assert rle_encode('A A A A B B B C C D A A B B B'.split()) == ['4_A', '3_B', '2_C', '1_D', '2_A', '3_B']\n",
    "assert rle_encode('A B B C c A D'.split()) == ['1_A', '2_B', '1_C', '1_c', '1_A', '1_D']\n",
    "assert rle_encode('🐶 🐱 🐶 🐱 🐱 🐱 🐶 🐶 🦄'.split()) == ['1_🐶', '1_🐱', '1_🐶', '3_🐱', '2_🐶', '1_🦄']\n",
    "assert rle_encode([1, 2, 2, 3, 3, 3, 42])   == ['1_1', '2_2', '3_3', '1_42']"
   ]
  },
  {
   "cell_type": "markdown",
   "metadata": {
    "deletable": false,
    "editable": false,
    "nbgrader": {
     "checksum": "472212c64b86d55b547a9242fd3d956a",
     "grade": false,
     "grade_id": "cell-c388e2a7afb0c91a",
     "locked": true,
     "schema_version": 1,
     "solution": false
    }
   },
   "source": [
    "Validate Credit Card Numbers\n",
    "-----\n",
    "\n",
    "Let's revisit [Validating Credit Card Numbers](https://www.hackerrank.com/contests/msds-incoming-student/challenges/validating-credit-card-number) from HackerRank.\n",
    "\n",
    "Do __not__ use regular expressions or import anything.\n",
    "\n",
    "Hints:\n",
    "\n",
    "- Read the documentation for [Built-in Types](https://docs.python.org/3/library/stdtypes.html).\n",
    "- Call a helper function to reuse existing code.\n",
    "\n",
    "Sidebar - I had to write code like this for a Data Science project where I was clustering [Bank identification number (BIN)](https://www.investopedia.com/terms/b/bank-identification-number.asp) to segment users. "
   ]
  },
  {
   "cell_type": "code",
   "execution_count": null,
   "metadata": {
    "deletable": false,
    "nbgrader": {
     "checksum": "6e77e2a463aec25da3c8c1bebf420a90",
     "grade": false,
     "grade_id": "cell-8236c034c85ecfed",
     "locked": false,
     "schema_version": 1,
     "solution": true
    }
   },
   "outputs": [],
   "source": [
    "def is_valid(num: str) -> bool:\n",
    "    \n",
    "    # YOUR CODE HERE\n",
    "    raise NotImplementedError()\n",
    "    "
   ]
  },
  {
   "cell_type": "code",
   "execution_count": null,
   "metadata": {
    "deletable": false,
    "editable": false,
    "nbgrader": {
     "checksum": "4ccb0dd95e48c2585fb0d928a5a10ce9",
     "grade": true,
     "grade_id": "cell-3650842c3a52f29d",
     "locked": true,
     "points": 3,
     "schema_version": 1,
     "solution": false
    }
   },
   "outputs": [],
   "source": [
    "\"\"\"\n",
    "Test code for is_valid function.\n",
    "3 points.\n",
    "This cell should NOT give any errors when it is run.\n",
    "\"\"\"\n",
    "\n",
    "assert is_valid(\"5122-2368-7954-3214\") \n",
    "assert is_valid(\"4253625879615786\")\n",
    "assert is_valid(\"4424424424442444\")\n",
    "\n",
    "assert not is_valid(\"42536258796157867\") \n",
    "assert not is_valid(\"5122-2368\")\n",
    "assert not is_valid(\"5122-2368-7954 - 3214\") \n",
    "assert not is_valid(\"44244x4424442444\") \n",
    "assert not is_valid(\"0525362587961578\") \n",
    "assert not is_valid(\"442442442444244\")\n",
    "assert not is_valid(\"4424555524442444\")\n",
    "assert not is_valid(\"499999499234562344\")\n",
    "assert not is_valid(\"449923456238888894\")"
   ]
  },
  {
   "cell_type": "markdown",
   "metadata": {
    "deletable": false,
    "editable": false,
    "nbgrader": {
     "checksum": "3854600a96eea0acc9449fbafb51fd12",
     "grade": false,
     "grade_id": "cell-84ab47d17785e09a",
     "locked": true,
     "schema_version": 1,
     "solution": false
    }
   },
   "source": [
    "Build a count dictionary without any imports\n",
    "----\n",
    "\n",
    "Given an iterable, group by unique keys and count number of occurrences.\n",
    "\n",
    "Do __not__ import anything. Often in job interviews you'll have to write this code from scratch."
   ]
  },
  {
   "cell_type": "code",
   "execution_count": null,
   "metadata": {
    "deletable": false,
    "nbgrader": {
     "checksum": "a54317d6858e8fe036f4fec48988689f",
     "grade": false,
     "grade_id": "cell-1ccfd20410d84e6e",
     "locked": false,
     "schema_version": 1,
     "solution": true
    }
   },
   "outputs": [],
   "source": [
    "from typing import List\n",
    "\n",
    "def count_by_age(ages: List[int]) -> dict:\n",
    "\n",
    "    # YOUR CODE HERE\n",
    "    raise NotImplementedError()\n",
    "\n",
    "    return counts"
   ]
  },
  {
   "cell_type": "code",
   "execution_count": null,
   "metadata": {
    "deletable": false,
    "editable": false,
    "nbgrader": {
     "checksum": "6183c16696125acb4236a664339e26c9",
     "grade": true,
     "grade_id": "cell-3f1d7422be55ebf0",
     "locked": true,
     "points": 2,
     "schema_version": 1,
     "solution": false
    }
   },
   "outputs": [],
   "source": [
    "\"\"\"\n",
    "Test code for count_by_age function.\n",
    "2 points.\n",
    "This cell should NOT give any errors when it is run.\n",
    "\"\"\"\n",
    "\n",
    "ages = [21, 32, 19, 18, 18, 19, 18, 20, 20, 19]\n",
    "\n",
    "assert count_by_age(ages) == {21: 1, 32: 1, 19: 3, 18: 3, 20: 2}"
   ]
  },
  {
   "cell_type": "markdown",
   "metadata": {
    "deletable": false,
    "editable": false,
    "nbgrader": {
     "checksum": "6205575296ab057c62de7446db288d5e",
     "grade": false,
     "grade_id": "cell-0d0a95a5eebfb8c9",
     "locked": true,
     "schema_version": 1,
     "solution": false
    }
   },
   "source": [
    "Sum of clicks per day\n",
    "-----\n",
    "\n",
    "Given log data with datestamp and number clicks, create aggregate statistic of sum by date.\n",
    "\n",
    "Do __not__ import anything."
   ]
  },
  {
   "cell_type": "code",
   "execution_count": null,
   "metadata": {
    "deletable": false,
    "nbgrader": {
     "checksum": "2cbd791200a0396e275c214892916fd9",
     "grade": false,
     "grade_id": "cell-5de32fc3defb0c76",
     "locked": false,
     "schema_version": 1,
     "solution": true
    }
   },
   "outputs": [],
   "source": [
    "from typing import List, Tuple\n",
    "\n",
    "def sum_clicks_per_day(logs: List[Tuple[str, int]]) -> Tuple[str, int]:\n",
    "    \n",
    "    # YOUR CODE HERE\n",
    "    raise NotImplementedError()"
   ]
  },
  {
   "cell_type": "code",
   "execution_count": null,
   "metadata": {
    "deletable": false,
    "editable": false,
    "nbgrader": {
     "checksum": "d7396dfdaa9b42521a917fc2250e88ef",
     "grade": true,
     "grade_id": "cell-fa7af86c508faf5f",
     "locked": true,
     "points": 3,
     "schema_version": 1,
     "solution": false
    }
   },
   "outputs": [],
   "source": [
    "\"\"\"\n",
    "Test code for sum_clicks_per_day function.\n",
    "3 points.\n",
    "This cell should NOT give any errors when it is run.\n",
    "\"\"\"\n",
    "\n",
    "logs = [  ('2009-09-02', 11),\n",
    "          ('2009-09-02', 3),\n",
    "          ('2009-09-03', 10),\n",
    "          ('2009-09-03', 4),\n",
    "          ('2009-09-03', 22),\n",
    "          ('2009-09-06', 33),\n",
    "          ('2009-09-02', 13), # Logs are not always in order!\n",
    "          ('2009-09-03', 15),\n",
    "       ]\n",
    "\n",
    "assert sum_clicks_per_day(logs) == (('2009-09-02', 27), ('2009-09-03', 51), ('2009-09-06', 33))"
   ]
  },
  {
   "cell_type": "markdown",
   "metadata": {
    "deletable": false,
    "editable": false,
    "nbgrader": {
     "checksum": "e60a646191a289b4bc81c91256c2060b",
     "grade": false,
     "grade_id": "cell-74b438b947b97bf6",
     "locked": true,
     "schema_version": 1,
     "solution": false
    }
   },
   "source": [
    "Convert data into a ontology\n",
    "----\n",
    "\n",
    "Ontology is a collection of various [taxonomies](https://en.wikipedia.org/wiki/Taxonomy) that can be used to describe a domain of knowledge along with the relationships among them. Ontology is organized metadata of associative relationships between entities.\n",
    "\n",
    "Ontologies are common in Natural Language Processing (NLP), see [WordNet](https://wordnet.princeton.edu/), and ecommerce, see Amazon.com search.\n",
    "\n",
    "Given [semantic triple](https://en.wikipedia.org/wiki/Semantic_triple) of subject–predicate–object, group them into a dictionary that captures the categorical relationships. The dictionary should only contain parent(key) and child (value) relationships, ignore all other relationships."
   ]
  },
  {
   "cell_type": "code",
   "execution_count": null,
   "metadata": {
    "deletable": false,
    "nbgrader": {
     "checksum": "eea5b08d27f80ab2937611607a250805",
     "grade": false,
     "grade_id": "cell-2ade1e17d92a2155",
     "locked": false,
     "schema_version": 1,
     "solution": true
    }
   },
   "outputs": [],
   "source": [
    "from collections import defaultdict # 👈 hint\n",
    "from typing import List\n",
    "\n",
    "def make_ontology(relationships: List[List[str]]) -> dict:\n",
    "\n",
    "    # YOUR CODE HERE\n",
    "    raise NotImplementedError()\n",
    "    "
   ]
  },
  {
   "cell_type": "code",
   "execution_count": null,
   "metadata": {
    "deletable": false,
    "editable": false,
    "nbgrader": {
     "checksum": "1f533d4405b1256caa4f8a6cb9b71d99",
     "grade": true,
     "grade_id": "cell-b007d895d9a078c3",
     "locked": true,
     "points": 4,
     "schema_version": 1,
     "solution": false
    }
   },
   "outputs": [],
   "source": [
    "\"\"\"\n",
    "Test code for make_ontology function.\n",
    "4 points.\n",
    "This cell should NOT give any errors when it is run.\n",
    "\"\"\"\n",
    "\n",
    "triples = [  [\"Ulta\", \"hasCategory\", \"Men\"],\n",
    "             [\"Ulta\", \"hasCategory\", \"Skin Care\"],\n",
    "             [\"Ulta\", \"hasCategory\", \"Gifts\"],\n",
    "             [\"Men\", \"hasCategory\", \"Shaving\"],\n",
    "             [\"Men\", \"hasCategory\", \"Cologne\"],\n",
    "             [\"Shaving\", \"hasCategory\", \"Aftershave\"],\n",
    "             [\"Aftershave\", \"Contains\", \"Alcohol\"],\n",
    "             [\"Shaving\", \"hasCategory\", \"Beard Care\"],\n",
    "             [\"Shaving\", \"hasCategory\", \"Shaving Cream & Razors\"],\n",
    "             [\"Gifts\", \"hasCategory\", \"Nail Gifts\"],\n",
    "             [\"Gifts\", \"hasCategory\", \"Skin Gifts\"],\n",
    "             [\"Gifts\", \"hasCategory\", \"ULTA Gifts\"],\n",
    "             [\"Gifts\", \"hasCategory\", \"Makeup Gifts\"],\n",
    "             [\"Makeup Gifts\", \"IsCouponEligible\", \"False\"],\n",
    "             [\"Ulta\", \"hasCategory\", \"Tools & Brushes\"],\n",
    "          ]\n",
    "\n",
    "assert make_ontology(triples) == {   \n",
    "                                     'Ulta':    {'Gifts', 'Men', 'Skin Care', 'Tools & Brushes'},\n",
    "                                     'Men':     {'Cologne', 'Shaving'},\n",
    "                                     'Shaving': {'Aftershave', 'Beard Care', 'Shaving Cream & Razors'},\n",
    "                                     'Gifts':   {'Makeup Gifts', 'Nail Gifts', 'Skin Gifts', 'ULTA Gifts'},\n",
    "                                   }\n"
   ]
  },
  {
   "cell_type": "markdown",
   "metadata": {
    "deletable": false,
    "editable": false,
    "nbgrader": {
     "checksum": "09a2aa8aba527974e6dca328efeb0bce",
     "grade": false,
     "grade_id": "cell-ff2d070e25115ec4",
     "locked": true,
     "schema_version": 1,
     "solution": false
    }
   },
   "source": [
    "<br>\n",
    "<br> \n",
    "<br>\n",
    "\n",
    "----"
   ]
  }
 ],
 "metadata": {
  "anaconda-cloud": {},
  "kernelspec": {
   "display_name": "Python 3",
   "language": "python",
   "name": "python3"
  },
  "language_info": {
   "codemirror_mode": {
    "name": "ipython",
    "version": 3
   },
   "file_extension": ".py",
   "mimetype": "text/x-python",
   "name": "python",
   "nbconvert_exporter": "python",
   "pygments_lexer": "ipython3",
   "version": "3.7.3"
  },
  "toc": {
   "base_numbering": 1,
   "nav_menu": {},
   "number_sections": false,
   "sideBar": true,
   "skip_h1_title": false,
   "title_cell": "Table of Contents",
   "title_sidebar": "Contents",
   "toc_cell": true,
   "toc_position": {},
   "toc_section_display": true,
   "toc_window_display": false
  }
 },
 "nbformat": 4,
 "nbformat_minor": 1
}
