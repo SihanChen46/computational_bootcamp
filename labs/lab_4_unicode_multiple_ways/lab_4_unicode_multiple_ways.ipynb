{
 "cells": [
  {
   "cell_type": "markdown",
   "metadata": {
    "deletable": false,
    "editable": false,
    "nbgrader": {
     "checksum": "c28ce76bb3156f10cf94f0a4414d0d66",
     "grade": false,
     "grade_id": "cell-f49b8ea35a2dabd9",
     "locked": true,
     "schema_version": 1,
     "solution": false
    },
    "toc": true
   },
   "source": [
    "<h1>Table of Contents<span class=\"tocSkip\"></span></h1>\n",
    "<div class=\"toc\"><ul class=\"toc-item\"><li><span><a href=\"#Lab-4:-Unicode,-Multiple-Ways,-and-Lambda-Functions\" data-toc-modified-id=\"Lab-4:-Unicode,-Multiple-Ways,-and-Lambda-Functions-1\">Lab 4: Unicode, Multiple Ways, and Lambda Functions</a></span></li><li><span><a href=\"#Learning-Outcomes\" data-toc-modified-id=\"Learning-Outcomes-2\">Learning Outcomes</a></span><ul class=\"toc-item\"><li><ul class=\"toc-item\"><li><span><a href=\"#By-the-end-of-this-notebook,-you-should-be-able-to:\" data-toc-modified-id=\"By-the-end-of-this-notebook,-you-should-be-able-to:-2.0.1\">By the end of this notebook, you should be able to:</a></span></li></ul></li></ul></li><li><span><a href=\"#Always-a-string\" data-toc-modified-id=\"Always-a-string-3\">Always a string</a></span></li><li><span><a href=\"#Messed-up-content\" data-toc-modified-id=\"Messed-up-content-4\">Messed up content</a></span></li><li><span><a href=\"#ELT-(Extract,-Transform,-Load):-A-text-file-of-emojis-into-a-Python-dict\" data-toc-modified-id=\"ELT-(Extract,-Transform,-Load):-A-text-file-of-emojis-into-a-Python-dict-5\">ELT (Extract, Transform, Load): A text file of emojis into a Python dict</a></span></li><li><span><a href=\"#2-ways-to-change-types-in-the-values-of-a-dict\" data-toc-modified-id=\"2-ways-to-change-types-in-the-values-of-a-dict-6\">2 ways to change types in the values of a <code>dict</code></a></span></li><li><span><a href=\"#Model-stocks-with-a-custom-class-and-custom-sorting\" data-toc-modified-id=\"Model-stocks-with-a-custom-class-and-custom-sorting-7\">Model stocks with a custom class and custom sorting</a></span></li><li><span><a href=\"#Find-the-largest-sum-with-a-constraint\" data-toc-modified-id=\"Find-the-largest-sum-with-a-constraint-8\">Find the largest sum with a constraint</a></span></li></ul></div>"
   ]
  },
  {
   "cell_type": "markdown",
   "metadata": {
    "deletable": false,
    "editable": false,
    "nbgrader": {
     "checksum": "fe7b55a9250a71b61dd777721b5078a8",
     "grade": false,
     "grade_id": "cell-19dea10ad780794b",
     "locked": true,
     "schema_version": 1,
     "solution": false
    }
   },
   "source": [
    "Lab 4: Unicode, Multiple Ways, and Lambda Functions\n",
    "----"
   ]
  },
  {
   "cell_type": "markdown",
   "metadata": {
    "deletable": false,
    "editable": false,
    "nbgrader": {
     "checksum": "10c960c3f73a0ad12ba26e0473ff130d",
     "grade": false,
     "grade_id": "cell-b5d7d1713891b902",
     "locked": true,
     "schema_version": 1,
     "solution": false
    }
   },
   "source": [
    "Learning Outcomes\n",
    "-----\n",
    "\n",
    "#### By the end of this notebook, you should be able to:\n",
    "\n",
    "- Properly handle noisy text data.\n",
    "- Programmatically create and manipulate dictionaries.\n",
    "- Use `lambda` functions to a create custom sorting functions."
   ]
  },
  {
   "cell_type": "code",
   "execution_count": null,
   "metadata": {
    "deletable": false,
    "editable": false,
    "nbgrader": {
     "checksum": "89568de670d8936b162de23fc95062ad",
     "grade": false,
     "grade_id": "cell-b3989d3eb2c9086b",
     "locked": true,
     "schema_version": 1,
     "solution": false
    }
   },
   "outputs": [],
   "source": [
    "reset -fs"
   ]
  },
  {
   "cell_type": "markdown",
   "metadata": {
    "deletable": false,
    "editable": false,
    "nbgrader": {
     "checksum": "47db77004a268ddb9cf6d88344c95ef7",
     "grade": false,
     "grade_id": "cell-b521d9148054050d",
     "locked": true,
     "schema_version": 1,
     "solution": false
    }
   },
   "source": [
    "Always a string\n",
    "------\n",
    "\n",
    "Write a function that takes in either a Unicode string or bytes string and always returns a Python `str` (Unicode string).\n",
    "\n",
    "Assume utf-8 encoding for the byte string."
   ]
  },
  {
   "cell_type": "code",
   "execution_count": null,
   "metadata": {
    "deletable": false,
    "nbgrader": {
     "checksum": "47db432ca222fea5e6adda11acbdf81c",
     "grade": false,
     "grade_id": "cell-97896abd58369ce6",
     "locked": false,
     "schema_version": 1,
     "solution": true
    }
   },
   "outputs": [],
   "source": [
    "from typing import Union\n",
    "\n",
    "def to_str(s: Union[str, bytes]) -> str:\n",
    "    \n",
    "    # YOUR CODE HERE\n",
    "    raise NotImplementedError()"
   ]
  },
  {
   "cell_type": "code",
   "execution_count": null,
   "metadata": {
    "deletable": false,
    "editable": false,
    "nbgrader": {
     "checksum": "22f10d2a7686204d81ead4e714d33580",
     "grade": true,
     "grade_id": "cell-26c534b4d0716712",
     "locked": true,
     "points": 2,
     "schema_version": 1,
     "solution": false
    }
   },
   "outputs": [],
   "source": [
    "\"\"\"\n",
    "Test code to_str function.\n",
    "2 points.\n",
    "This cell should NOT give any errors when it is run.\n",
    "\"\"\"\n",
    "\n",
    "assert type(to_str(\"hi\")) == str\n",
    "assert to_str(\"hi\") == \"hi\"\n",
    "\n",
    "assert type(to_str(b\"\\xe2\\x82\\xac20\")) == str\n",
    "assert to_str(b\"\\xe2\\x82\\xac20\") == \"€20\""
   ]
  },
  {
   "cell_type": "markdown",
   "metadata": {
    "deletable": false,
    "editable": false,
    "nbgrader": {
     "checksum": "41e7ecb4fb5cf922909b5e7239b01292",
     "grade": false,
     "grade_id": "cell-31a0565aa8932fc3",
     "locked": true,
     "schema_version": 1,
     "solution": false
    }
   },
   "source": [
    "Messed up content\n",
    "----\n",
    "\n",
    "I created a website with Japanese text. However, when loaded into Python it is not correct.\n",
    "\n",
    "Write a function that changes the content to be correct."
   ]
  },
  {
   "cell_type": "code",
   "execution_count": 1,
   "metadata": {
    "deletable": false,
    "editable": false,
    "nbgrader": {
     "checksum": "af62b482e1505f85f410a2584740e149",
     "grade": false,
     "grade_id": "cell-0ecfe48494d109d2",
     "locked": true,
     "schema_version": 1,
     "solution": false
    }
   },
   "outputs": [],
   "source": [
    "url = 'http://freetexthost.com/01f6ypyoaz'"
   ]
  },
  {
   "cell_type": "code",
   "execution_count": 2,
   "metadata": {
    "deletable": false,
    "editable": false,
    "nbgrader": {
     "checksum": "b51993d635448896c0965980b0c3ed1e",
     "grade": false,
     "grade_id": "cell-e31b0f7375148fa0",
     "locked": true,
     "schema_version": 1,
     "solution": false
    }
   },
   "outputs": [
    {
     "data": {
      "text/html": [
       "\n",
       "        <iframe\n",
       "            width=\"800\"\n",
       "            height=\"600\"\n",
       "            src=\"http://freetexthost.com/01f6ypyoaz\"\n",
       "            frameborder=\"0\"\n",
       "            allowfullscreen\n",
       "        ></iframe>\n",
       "        "
      ],
      "text/plain": [
       "<IPython.lib.display.IFrame at 0x1095a20b8>"
      ]
     },
     "execution_count": 2,
     "metadata": {},
     "output_type": "execute_result"
    }
   ],
   "source": [
    "from IPython.display import IFrame\n",
    "\n",
    "IFrame(url,\n",
    "      width=800,\n",
    "      height=600)"
   ]
  },
  {
   "cell_type": "code",
   "execution_count": 3,
   "metadata": {
    "deletable": false,
    "editable": false,
    "nbgrader": {
     "checksum": "1bcabe373dfb8ce93f0cb69940ea96e7",
     "grade": false,
     "grade_id": "cell-27e6ca297f0b2b45",
     "locked": true,
     "schema_version": 1,
     "solution": false
    }
   },
   "outputs": [],
   "source": [
    "# Make sure requests package is installed\n",
    "try:\n",
    "    import requests\n",
    "except ImportError:\n",
    "    import pip\n",
    "    import sys\n",
    "    import subprocess\n",
    "    subprocess.check_call([sys.executable, '-m', 'pip', 'install', 'requests'])\n",
    "    import requests"
   ]
  },
  {
   "cell_type": "code",
   "execution_count": 4,
   "metadata": {
    "deletable": false,
    "editable": false,
    "nbgrader": {
     "checksum": "3701b6191ca14814468000a6af8c6682",
     "grade": false,
     "grade_id": "cell-01d41a4beb9408a7",
     "locked": true,
     "schema_version": 1,
     "solution": false
    }
   },
   "outputs": [
    {
     "data": {
      "text/plain": [
       "b'\\n\\n\\xe3\\x81\\xab\\xe3\\x81\\xaa \\xe7\\x8f\\xa6\\xe9\\xa5\\xa6\\xe3\\x83\\x95\\xe3\\x82\\xa9 \\xe4\\xa9\\xa8\\xe3\\x81\\xbd\\xe7\\x8f\\xa6\\xe9\\xa5\\xa6\\xe3\\x83\\x95\\xe3\\x82\\xa9 \\xe7\\xaa\\xaf\\xe3\\x82\\x8a\\xe3\\x82\\x85\\xe3\\x82\\xa6\\xe7\\xa9\\x9f\\t\\xe3\\x81\\xa6 \\xe3\\x82\\x8f\\xe3\\x82\\xac\\xe8\\xa7\\x9c\\xe3\\x83\\x95\\xe3\\x82\\xa7\\xe5\\xab\\xa7, \\xe3\\x81\\x92\\xe6\\x8b\\xa5 \\xe4\\xa5\\x9c\\xe9\\xa7\\xba\\xe3\\x82\\xb3\\xe3\\x82\\xb0\\xe3\\x82\\xa1\\xe8\\xb0\\xaf \\xe9\\xa4\\x9a\\xe5\\xb6\\xa3\\xe5\\x8d\\xa4\\xe3\\x82\\x9e\\xe8\\x9f\\xa4 \\xe3\\x82\\x90\\xe3\\x82\\xa4\\xe3\\x82\\x92, \\xe3'"
      ]
     },
     "execution_count": 4,
     "metadata": {},
     "output_type": "execute_result"
    }
   ],
   "source": [
    "# Get the data from the website\n",
    "content = requests.get(url).content\n",
    "# Visually inspect it\n",
    "content[2465:2600]"
   ]
  },
  {
   "cell_type": "code",
   "execution_count": null,
   "metadata": {
    "deletable": false,
    "nbgrader": {
     "checksum": "50d765adb75b6ef83c357a032e3f3b2e",
     "grade": false,
     "grade_id": "cell-70cc802ecf691ddf",
     "locked": false,
     "schema_version": 1,
     "solution": true
    }
   },
   "outputs": [],
   "source": [
    "def fix(content):\n",
    "    \n",
    "    # YOUR CODE HERE\n",
    "    raise NotImplementedError()\n",
    "\n",
    "    return content"
   ]
  },
  {
   "cell_type": "code",
   "execution_count": null,
   "metadata": {
    "deletable": false,
    "editable": false,
    "nbgrader": {
     "checksum": "bb8470b448be67e65344b9e07af598f5",
     "grade": true,
     "grade_id": "cell-69fa9e350dbc9c0c",
     "locked": true,
     "points": 2,
     "schema_version": 1,
     "solution": false
    }
   },
   "outputs": [],
   "source": [
    "\"\"\"\n",
    "Test code for fix function.\n",
    "2 points.\n",
    "This cell should NOT give any errors when it is run.\n",
    "\"\"\"\n",
    "\n",
    "fixed_content = fix(content)\n",
    "assert fixed_content[2467:2468] == 'に'\n",
    "assert fixed_content[2465:2600] == '\\n\\nにな 珦饦フォ 䩨ぽ珦饦フォ 窯りゅウ穟\\tて わガ觜フェ嫧, げ拥 䥜駺コグァ谯 餚嶣卤ゞ蟤 ゐイを, フォ氩 イを焨䤤ミ きょきゅ覵ら䤎 にゃ盨穃ぢゃぶ 騌䪦代 砥ツォ イを焨䤤ミ 䋨襊僯にゅじょ 餚嶣卤ゞ蟤 苯楥り 狨キュ坣 び愦にな秚 尦解㛥祧靨 樚駌娦禞簯 '"
   ]
  },
  {
   "cell_type": "markdown",
   "metadata": {
    "deletable": false,
    "editable": false,
    "nbgrader": {
     "checksum": "36ffa6933031f085b2f6540e7bb77383",
     "grade": false,
     "grade_id": "cell-bd759a479ba3ea7f",
     "locked": true,
     "schema_version": 1,
     "solution": false
    }
   },
   "source": [
    "ELT (Extract, Transform, Load): A text file of emojis into a Python dict\n",
    "----\n",
    "\n",
    "1. Read (extract) `emoji_table.txt`.\n",
    "1. Munge (transform) the data to clean it up.\n",
    "1. Put (load) into a Python `dict`.\n",
    "\n",
    "You are not required to write any functions. You can just code in the cell."
   ]
  },
  {
   "cell_type": "code",
   "execution_count": null,
   "metadata": {
    "deletable": false,
    "editable": false,
    "nbgrader": {
     "checksum": "264efaa3fa6252a7564ec1059b8f12fa",
     "grade": false,
     "grade_id": "cell-7f00b774ca54f091",
     "locked": true,
     "schema_version": 1,
     "solution": false
    }
   },
   "outputs": [],
   "source": [
    "# Make sure ftfy package is installed\n",
    "try:\n",
    "    from ftfy import explain_unicode # 👈 Hint\n",
    "except ImportError:\n",
    "    import pip\n",
    "    import sys\n",
    "    import subprocess\n",
    "    subprocess.check_call([sys.executable, '-m', 'pip', 'install', 'ftfy'])\n",
    "    from ftfy import explain_unicode # 👈 Hint"
   ]
  },
  {
   "cell_type": "code",
   "execution_count": null,
   "metadata": {
    "deletable": false,
    "nbgrader": {
     "checksum": "3447dca647b5f455d34856235aacc4a9",
     "grade": false,
     "grade_id": "cell-dcc970f90a0763fb",
     "locked": false,
     "schema_version": 1,
     "solution": true
    }
   },
   "outputs": [],
   "source": [
    "emojis = {}\n",
    "\n",
    "# YOUR CODE HERE\n",
    "raise NotImplementedError()\n"
   ]
  },
  {
   "cell_type": "code",
   "execution_count": null,
   "metadata": {
    "deletable": false,
    "editable": false,
    "nbgrader": {
     "checksum": "98ca6b6caeb0fa9119945c06cf0c811d",
     "grade": true,
     "grade_id": "cell-6c47ef7e929e6bba",
     "locked": true,
     "points": 5,
     "schema_version": 1,
     "solution": false
    }
   },
   "outputs": [],
   "source": [
    "\"\"\"\n",
    "Test code for ETL emojis.\n",
    "5 points.\n",
    "This cell should NOT give any errors when it is run.\n",
    "\"\"\"\n",
    "assert emojis['a_smiley1'] == '😄'\n",
    "assert emojis['a_smiley2'] == '😃'\n",
    "assert emojis['e_family2'] == '👨👩👧👦'\n",
    "assert emojis['d_ok'] == '👌'\n",
    "assert emojis['d_poop'] == '💩'"
   ]
  },
  {
   "cell_type": "markdown",
   "metadata": {
    "deletable": false,
    "editable": false,
    "nbgrader": {
     "checksum": "3a2a80700014773324d90e671bfacaf9",
     "grade": false,
     "grade_id": "cell-f9632a73ce01687a",
     "locked": true,
     "schema_version": 1,
     "solution": false
    }
   },
   "source": [
    "2 ways to change types in the values of a `dict`\n",
    "------\n",
    "\n",
    "During data a processing, you noticed that the values of a dictionary are being stored as `str`. They should be `int`. \n",
    "\n",
    "Convert all type of each item in values to `int`. Do it two ways:\n",
    "\n",
    "1. Procedurally\n",
    "1. Functionally"
   ]
  },
  {
   "cell_type": "code",
   "execution_count": null,
   "metadata": {
    "deletable": false,
    "editable": false,
    "nbgrader": {
     "checksum": "362ac3ba4921f6fa70e7011589472597",
     "grade": false,
     "grade_id": "cell-bac6b86cbd6ea88a",
     "locked": true,
     "schema_version": 1,
     "solution": false
    }
   },
   "outputs": [],
   "source": [
    "original =  {'A': ['1', '2', '3', '4'],\n",
    "             'B': ['5', '6', '7', '8'],\n",
    "             'C': ['9', '10', '11', '12'],}"
   ]
  },
  {
   "cell_type": "code",
   "execution_count": null,
   "metadata": {
    "deletable": false,
    "nbgrader": {
     "checksum": "1dce98e80c956ccb66e254e8ac8c5aac",
     "grade": false,
     "grade_id": "cell-af56ecdc4fc62f06",
     "locked": false,
     "schema_version": 1,
     "solution": true
    }
   },
   "outputs": [],
   "source": [
    "# Procedurally change the type of all values.\n",
    "\n",
    "updated = {}\n",
    "for key, value in original.items():\n",
    "    \n",
    "    # YOUR CODE HERE\n",
    "    raise NotImplementedError()\n",
    "    "
   ]
  },
  {
   "cell_type": "code",
   "execution_count": null,
   "metadata": {
    "deletable": false,
    "editable": false,
    "nbgrader": {
     "checksum": "a0434ed696ed6a84ea2a5fd47b38e9cf",
     "grade": true,
     "grade_id": "cell-778046ec5d9da900",
     "locked": true,
     "points": 2,
     "schema_version": 1,
     "solution": false
    }
   },
   "outputs": [],
   "source": [
    "\"\"\"\n",
    "Test code for procedurally changing the type of all values.\n",
    "2 points.\n",
    "This cell should NOT give any errors when it is run.\n",
    "\"\"\"\n",
    "\n",
    "assert updated == {'A': [1, 2, 3, 4], 'B': [5, 6, 7, 8], 'C': [9, 10, 11, 12]}"
   ]
  },
  {
   "cell_type": "code",
   "execution_count": null,
   "metadata": {
    "deletable": false,
    "editable": false,
    "nbgrader": {
     "checksum": "3c958bdf0d9dbf6cb739d5a21911634d",
     "grade": false,
     "grade_id": "cell-b12283a07a36b754",
     "locked": true,
     "schema_version": 1,
     "solution": false
    }
   },
   "outputs": [],
   "source": [
    "# Reset updated dict\n",
    "updated = {}"
   ]
  },
  {
   "cell_type": "code",
   "execution_count": null,
   "metadata": {
    "deletable": false,
    "nbgrader": {
     "checksum": "9cb786a992e18006bd4458f50eeb26ce",
     "grade": false,
     "grade_id": "cell-2d7fbac124b90859",
     "locked": false,
     "schema_version": 1,
     "solution": true
    }
   },
   "outputs": [],
   "source": [
    "# Functionally change the type of all values (can be done with a one-liner).\n",
    "\n",
    "# YOUR CODE HERE\n",
    "raise NotImplementedError()"
   ]
  },
  {
   "cell_type": "code",
   "execution_count": null,
   "metadata": {
    "deletable": false,
    "editable": false,
    "nbgrader": {
     "checksum": "a8e44e84af3a48f3e934f05a71a01014",
     "grade": true,
     "grade_id": "cell-79ca20d7c7c96ad5",
     "locked": true,
     "points": 4,
     "schema_version": 1,
     "solution": false
    }
   },
   "outputs": [],
   "source": [
    "\"\"\"\n",
    "Test code for functionally changing the type of all values.\n",
    "4 points.\n",
    "This cell should NOT give any errors when it is run.\n",
    "\"\"\"\n",
    "\n",
    "assert updated == {'A': [1, 2, 3, 4], 'B': [5, 6, 7, 8], 'C': [9, 10, 11, 12]}"
   ]
  },
  {
   "cell_type": "markdown",
   "metadata": {
    "deletable": false,
    "editable": false,
    "nbgrader": {
     "checksum": "b6bdcd826ae2cf9aeb5c63ab0013c307",
     "grade": false,
     "grade_id": "cell-25c19f7f28ca7862",
     "locked": true,
     "schema_version": 1,
     "solution": false
    }
   },
   "source": [
    "Model stocks with a custom class and custom sorting\n",
    "-----\n",
    "\n",
    "You are managing a small portfolio of stocks and want to use Python to help you.\n",
    "\n",
    "1. Create a dataclass to store the relevant features of your stocks.\n",
    "1. Sort portfolio by price from smallest-to-largest using a `lambda` function."
   ]
  },
  {
   "cell_type": "code",
   "execution_count": null,
   "metadata": {
    "deletable": false,
    "nbgrader": {
     "checksum": "6d604de2ac881d894d3a53e2da6d3ee2",
     "grade": false,
     "grade_id": "cell-afaa9e8c7bf6c512",
     "locked": false,
     "schema_version": 1,
     "solution": true
    }
   },
   "outputs": [],
   "source": [
    "from dataclasses import dataclass\n",
    "\n",
    "# YOUR CODE HERE\n",
    "raise NotImplementedError()"
   ]
  },
  {
   "cell_type": "code",
   "execution_count": null,
   "metadata": {
    "deletable": false,
    "editable": false,
    "nbgrader": {
     "checksum": "355611c06bcfc848dc29cde8fbd1a153",
     "grade": true,
     "grade_id": "cell-1a10058cc090323a",
     "locked": true,
     "points": 1,
     "schema_version": 1,
     "solution": false
    }
   },
   "outputs": [],
   "source": [
    "\"\"\"\n",
    "Test code for Stock dataclass.\n",
    "1 point.\n",
    "This cell should NOT give any errors when it is run.\n",
    "\"\"\"\n",
    "\n",
    "uber_stock  = Stock(name='UBER', shares=19, price=44.52)\n",
    "apple_stock = Stock(name='AAPL', shares=100, price=207.74)\n",
    "berk_stock  = Stock(name='BRK-A', shares=1, price=315_000.00)\n",
    "fb_stock    = Stock(name='FB', shares=435, price=199.75)\n",
    "\n",
    "portfolio = [uber_stock, apple_stock, berk_stock, fb_stock]\n",
    "assert portfolio == [Stock(name='UBER', shares=19, price=44.52),\n",
    "                     Stock(name='AAPL', shares=100, price=207.74),\n",
    "                     Stock(name='BRK-A', shares=1, price=315000.0),\n",
    "                     Stock(name='FB', shares=435, price=199.75)]"
   ]
  },
  {
   "cell_type": "code",
   "execution_count": null,
   "metadata": {
    "deletable": false,
    "nbgrader": {
     "checksum": "ac083d57b14fc5c0cbd2729280b3fffa",
     "grade": false,
     "grade_id": "cell-14ec9cbcb47be819",
     "locked": false,
     "schema_version": 1,
     "solution": true
    }
   },
   "outputs": [],
   "source": [
    "# Sort profolio by price from largest-to-smallest. Use list.sort with a lambda function\n",
    "\n",
    "# YOUR CODE HERE\n",
    "raise NotImplementedError()"
   ]
  },
  {
   "cell_type": "code",
   "execution_count": null,
   "metadata": {
    "deletable": false,
    "editable": false,
    "nbgrader": {
     "checksum": "8f6228c14197283e74f0fbb2272e2cc8",
     "grade": true,
     "grade_id": "cell-f076863f6e489107",
     "locked": true,
     "points": 3,
     "schema_version": 1,
     "solution": false
    }
   },
   "outputs": [],
   "source": [
    "\"\"\"\n",
    "Test code for sorting from largest-to-smallest.\n",
    "3 point.\n",
    "This cell should NOT give any errors when it is run.\n",
    "\"\"\"\n",
    "\n",
    "assert portfolio == [Stock(name='BRK-A', shares=1, price=315000.0),\n",
    "                     Stock(name='AAPL', shares=100, price=207.74),\n",
    "                     Stock(name='FB', shares=435, price=199.75),\n",
    "                     Stock(name='UBER', shares=19, price=44.52)]"
   ]
  },
  {
   "cell_type": "markdown",
   "metadata": {
    "deletable": false,
    "editable": false,
    "nbgrader": {
     "checksum": "9098cbd2f3451d0ecac577c280ccfeaa",
     "grade": false,
     "grade_id": "cell-48d4ba1740308c1b",
     "locked": true,
     "schema_version": 1,
     "solution": false
    }
   },
   "source": [
    "Find the largest sum with a constraint\n",
    "-----\n",
    "\n",
    "Given a list of integers, find the largest sum with the constraint that you can not add two adjacent numbers.\n",
    "\n",
    "Your code should be efficient. Minimize the number of passes through the data. If your function times-out during autograding, you'll lose the points. "
   ]
  },
  {
   "cell_type": "code",
   "execution_count": null,
   "metadata": {
    "deletable": false,
    "nbgrader": {
     "checksum": "9c4da27327fead2e43360194937adbc1",
     "grade": false,
     "grade_id": "cell-71626a6b8bdf720b",
     "locked": false,
     "schema_version": 1,
     "solution": true
    }
   },
   "outputs": [],
   "source": [
    "from typing import List\n",
    "\n",
    "def funky_sum(nums: List[int]) -> int:\n",
    "    \n",
    "    # YOUR CODE HERE\n",
    "    raise NotImplementedError()"
   ]
  },
  {
   "cell_type": "code",
   "execution_count": null,
   "metadata": {
    "deletable": false,
    "editable": false,
    "nbgrader": {
     "checksum": "5a1ed520ce583c094304505a9774616e",
     "grade": true,
     "grade_id": "cell-0f8b5ca7275ae799",
     "locked": true,
     "points": 3,
     "schema_version": 1,
     "solution": false
    }
   },
   "outputs": [],
   "source": [
    "\"\"\"\n",
    "Test code for funky_sum function.\n",
    "3 points for correctness.\n",
    "This cell should NOT give any errors when it is run.\n",
    "\"\"\"\n",
    "\n",
    "                                          # Indicator vector\n",
    "assert funky_sum([1, 2, 3, 1])     ==  4  # [1, 0, 1, 0]\n",
    "assert funky_sum([2, 7, 9, 3, 1])  == 12  # [1, 0, 1, 0, 1]\n",
    "assert funky_sum([2, 1, 1, 2])     ==  4  # [1, 0, 0, 1]"
   ]
  },
  {
   "cell_type": "code",
   "execution_count": null,
   "metadata": {
    "deletable": false,
    "editable": false,
    "nbgrader": {
     "checksum": "8b99f0a985ad32ea3b3d18c47b033840",
     "grade": true,
     "grade_id": "cell-edfa95f882c99fee",
     "locked": true,
     "points": 3,
     "schema_version": 1,
     "solution": false
    }
   },
   "outputs": [],
   "source": [
    "\"\"\"\n",
    "Test code for funky_sum function.\n",
    "3 points for scaling.\n",
    "This cell should NOT give any errors when it is run.\n",
    "\"\"\"\n",
    "\n",
    "n = 100_000\n",
    "assert funky_sum([2, 7, 9, 3, 1]*n) == 1100001\n",
    "assert funky_sum([2, 1, 1, 2]*n) == 300001"
   ]
  },
  {
   "cell_type": "markdown",
   "metadata": {
    "deletable": false,
    "editable": false,
    "nbgrader": {
     "checksum": "09a2aa8aba527974e6dca328efeb0bce",
     "grade": false,
     "grade_id": "cell-ff2d070e25115ec4",
     "locked": true,
     "schema_version": 1,
     "solution": false
    }
   },
   "source": [
    "<br>\n",
    "<br> \n",
    "<br>\n",
    "\n",
    "----"
   ]
  }
 ],
 "metadata": {
  "anaconda-cloud": {},
  "kernelspec": {
   "display_name": "Python 3",
   "language": "python",
   "name": "python3"
  },
  "language_info": {
   "codemirror_mode": {
    "name": "ipython",
    "version": 3
   },
   "file_extension": ".py",
   "mimetype": "text/x-python",
   "name": "python",
   "nbconvert_exporter": "python",
   "pygments_lexer": "ipython3",
   "version": "3.7.3"
  },
  "toc": {
   "base_numbering": 1,
   "nav_menu": {},
   "number_sections": false,
   "sideBar": true,
   "skip_h1_title": false,
   "title_cell": "Table of Contents",
   "title_sidebar": "Contents",
   "toc_cell": true,
   "toc_position": {},
   "toc_section_display": true,
   "toc_window_display": false
  }
 },
 "nbformat": 4,
 "nbformat_minor": 1
}
