{
 "cells": [
  {
   "cell_type": "markdown",
   "metadata": {
    "toc": true
   },
   "source": [
    "<h1>Table of Contents<span class=\"tocSkip\"></span></h1>\n",
    "<div class=\"toc\"><ul class=\"toc-item\"><li><span><a href=\"#What-is-the-difference-between-a-mathematical-and-engineering-solution-to-a-problem?\" data-toc-modified-id=\"What-is-the-difference-between-a-mathematical-and-engineering-solution-to-a-problem?-1\">What is the difference between a mathematical and engineering solution to a problem?</a></span></li><li><span><a href=\"#Using-vs-Building-Software\" data-toc-modified-id=\"Using-vs-Building-Software-2\">Using vs Building Software</a></span></li><li><span><a href=\"#Future-of-Computing\" data-toc-modified-id=\"Future-of-Computing-3\">Future of Computing</a></span></li><li><span><a href=\"#Another-Example-of-AI-/-ML-/-DL-writing-software\" data-toc-modified-id=\"Another-Example-of-AI-/-ML-/-DL-writing-software-4\">Another Example of AI / ML / DL writing software</a></span></li><li><span><a href=\"#The-Next-Generation-of-Software\" data-toc-modified-id=\"The-Next-Generation-of-Software-5\">The Next Generation of Software</a></span></li><li><span><a href=\"#References\" data-toc-modified-id=\"References-6\">References</a></span></li><li><span><a href=\"#10-years-to-be-a-good-programmer-(or-Data-Scientist)\" data-toc-modified-id=\"10-years-to-be-a-good-programmer-(or-Data-Scientist)-7\">10 years to be a good programmer (or Data Scientist)</a></span></li><li><span><a href=\"#Speaking-of-the-Future\" data-toc-modified-id=\"Speaking-of-the-Future-8\">Speaking of the Future</a></span></li></ul></div>"
   ]
  },
  {
   "cell_type": "markdown",
   "metadata": {},
   "source": [
    "What is the difference between a mathematical and engineering solution to a problem?\n",
    "-----\n",
    "\n",
    "A mathematical solution is complete, perfect and provable. \n",
    "\n",
    "An engineering solution works pretty well most of the time. It gets the job done."
   ]
  },
  {
   "cell_type": "markdown",
   "metadata": {},
   "source": [
    "Using vs Building Software\n",
    "------\n",
    "\n",
    "Are making the machine or using the machine?\n",
    "\n",
    "Are driving for Uber or working for Uber HQ?\n",
    "\n",
    "You need to choose when to \"use\" and when to \"build\". Using software is faster and easier. Building software is slower and harder. Building software is where long-term value.\n",
    "\n",
    "Every Data Scientist can use scikit-learn, very few people contribute to scikit-learn. Which do people what to hire?\n"
   ]
  },
  {
   "cell_type": "markdown",
   "metadata": {},
   "source": [
    "> First, I see increasing evidence that there are two kinds of programmers: programmers who build things by connecting other things together, and programmers who create the things that others connect together. \n",
    "\n",
    "> The first is the “blue collar” group of programmers; the second is the “academic” group of programmers–for example, the people doing new work in AI. \n",
    "\n",
    "> Neither group is more valuable or important than the other. Building trades provide a good analogy. If I need to install a new kitchen sink, I call a plumber. He knows how to connect the sink to the rest of the plumbing; he doesn’t know how to design the sink. There’s a sink designer in an office somewhere who probably understands (in a rudimentary way) how to connect the sink to the plumbing, but whose real expertise is designing sinks, not installing them. \n",
    "\n",
    "> You can’t do without either, though the world needs more plumbers than designers. \n",
    "\n",
    "> The same holds true for software: the number of people who build web applications is far greater than the number of people who build web frameworks like React or who design new algorithms and do fundamental research."
   ]
  },
  {
   "cell_type": "markdown",
   "metadata": {},
   "source": [
    "<center><h2>Future of Computing</h2></center>\n",
    "\n",
    "\"Programmers\" will construct AI systems that will learn to write software (programs that write programs)."
   ]
  },
  {
   "cell_type": "markdown",
   "metadata": {},
   "source": [
    "How do I find the index of the largest value in a list?"
   ]
  },
  {
   "cell_type": "code",
   "execution_count": 2,
   "metadata": {},
   "outputs": [],
   "source": [
    "nums = [.39, .21, .53, .25, 39]"
   ]
  },
  {
   "cell_type": "code",
   "execution_count": 2,
   "metadata": {},
   "outputs": [
    {
     "data": {
      "text/plain": [
       "4"
      ]
     },
     "execution_count": 2,
     "metadata": {},
     "output_type": "execute_result"
    }
   ],
   "source": [
    "# Building software\n",
    "nums.index(max(nums))"
   ]
  },
  {
   "cell_type": "code",
   "execution_count": 3,
   "metadata": {},
   "outputs": [
    {
     "data": {
      "text/plain": [
       "4"
      ]
     },
     "execution_count": 3,
     "metadata": {},
     "output_type": "execute_result"
    }
   ],
   "source": [
    "# Using software\n",
    "import numpy as np\n",
    "\n",
    "np.argmax(nums)"
   ]
  },
  {
   "cell_type": "markdown",
   "metadata": {},
   "source": [
    "A group of programmers wrote that.\n",
    "\n",
    "In the future, programs can learn that on their own through input/output pairs"
   ]
  },
  {
   "cell_type": "code",
   "execution_count": 4,
   "metadata": {},
   "outputs": [],
   "source": [
    "# Learning software\n",
    "import numpy as np\n",
    "from sklearn.tree import DecisionTreeClassifier\n",
    "\n",
    "# Create training pairs where the input is a list of numbers and the output is the argmax\n",
    "training_data = np.random.rand(10_000, 5) # Each list is 5 elements; 10K examples\n",
    "training_targets = np.argmax(training_data, axis=1)\n",
    "\n",
    "# Train a descision tree with scikit-learn\n",
    "clf = DecisionTreeClassifier()\n",
    "clf.fit(training_data, training_targets)\n",
    "\n",
    "# Let's see if the trained model can correctly predict the argmax for new data\n",
    "test_data = np.random.rand(1, 5)\n",
    "prediction = clf.predict(test_data)\n",
    "assert prediction == np.argmax(test_data) # The test passes - The model has learned argmax"
   ]
  },
  {
   "cell_type": "markdown",
   "metadata": {},
   "source": [
    "__Machine learning can learn the function to find the index of the maximum of a list of numbers.__\n",
    "\n",
    "We don't need to program simple tasks. Programs can learn them through observing input / output pairs.\n",
    "\n",
    "Computer can learn the correct solutions for excepted situations.\n",
    "\n",
    "As programmers, we should do to less micromanaging and more coaching for building software."
   ]
  },
  {
   "cell_type": "markdown",
   "metadata": {},
   "source": [
    "Another Example of AI / ML / DL writing software\n",
    "------\n",
    "\n",
    "https://tabnine.com"
   ]
  },
  {
   "cell_type": "markdown",
   "metadata": {},
   "source": [
    "We should have system that better the more we use them.\n",
    "\n",
    "AI / ML / DL in everything.\n",
    "\n"
   ]
  },
  {
   "cell_type": "markdown",
   "metadata": {},
   "source": [
    "The Next Generation of Software\n",
    "------\n",
    "\n",
    "The best languages of an era should serve as the \"assembly code\" for the next generation.\n",
    "\n",
    "Bits built into assembly.\n",
    "\n",
    "Assembly built into C.\n",
    "\n",
    "C built into Python.\n",
    "\n",
    "Python might build into a AI language / system."
   ]
  },
  {
   "cell_type": "markdown",
   "metadata": {},
   "source": [
    "References\n",
    "-----\n",
    "\n",
    "- https://blog.acolyer.org/2019/06/05/data-validation-for-machine-learning/\n",
    "- https://blog.dominodatalab.com/themes-and-conferences-per-pacoid-episode-11/\n",
    "- https://medium.com/@karpathy/software-2-0-a64152b37c35\n",
    "- https://www.akimbo.me/blog/s-4-e-24-artificial-intelligence-is-neither"
   ]
  },
  {
   "cell_type": "markdown",
   "metadata": {},
   "source": [
    "10 years to be a good programmer (or Data Scientist)\n",
    "------\n",
    "\n",
    "You already know programming before this course. \n",
    "\n",
    "This course just acted as catalyst to accelerate your learning.\n",
    "\n",
    "You'll continue to learn. Don't be discouraged if it takes a little while to be seasoned programmer."
   ]
  },
  {
   "cell_type": "markdown",
   "metadata": {},
   "source": [
    "Speaking of the Future\n",
    "-----\n",
    "\n",
    "\n",
    "I genuinely like helping students. \n",
    "\n",
    "I genuinely like looking at code. \n",
    "\n",
    "Feel free to bring me code from other classes, practicum, or job interviews.\n",
    "\n"
   ]
  },
  {
   "cell_type": "markdown",
   "metadata": {},
   "source": [
    "<br>\n",
    "<br> \n",
    "<br>\n",
    "\n",
    "----"
   ]
  }
 ],
 "metadata": {
  "kernelspec": {
   "display_name": "Python 3",
   "language": "python",
   "name": "python3"
  },
  "language_info": {
   "codemirror_mode": {
    "name": "ipython",
    "version": 3
   },
   "file_extension": ".py",
   "mimetype": "text/x-python",
   "name": "python",
   "nbconvert_exporter": "python",
   "pygments_lexer": "ipython3",
   "version": "3.7.3"
  },
  "toc": {
   "base_numbering": 1,
   "nav_menu": {},
   "number_sections": false,
   "sideBar": false,
   "skip_h1_title": false,
   "title_cell": "Table of Contents",
   "title_sidebar": "Contents",
   "toc_cell": true,
   "toc_position": {},
   "toc_section_display": true,
   "toc_window_display": false
  }
 },
 "nbformat": 4,
 "nbformat_minor": 2
}
