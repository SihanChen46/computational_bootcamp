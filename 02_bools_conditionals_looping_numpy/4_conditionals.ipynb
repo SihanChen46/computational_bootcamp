{
 "cells": [
  {
   "cell_type": "markdown",
   "metadata": {
    "slideshow": {
     "slide_type": "skip"
    },
    "toc": true
   },
   "source": [
    "<h1>Table of Contents<span class=\"tocSkip\"></span></h1>\n",
    "<div class=\"toc\"><ul class=\"toc-item\"><li><span><a href=\"#Control-Flow-with-Conditionals\" data-toc-modified-id=\"Control-Flow-with-Conditionals-1\">Control Flow with Conditionals</a></span></li><li><span><a href=\"#Learning-Outcomes\" data-toc-modified-id=\"Learning-Outcomes-2\">Learning Outcomes</a></span><ul class=\"toc-item\"><li><ul class=\"toc-item\"><li><span><a href=\"#By-the-end-of-this-session,-you-should-be-able-to:\" data-toc-modified-id=\"By-the-end-of-this-session,-you-should-be-able-to:-2.0.1\">By the end of this session, you should be able to:</a></span></li></ul></li></ul></li><li><span><a href=\"#How-Python-works\" data-toc-modified-id=\"How-Python-works-3\">How Python works</a></span></li><li><span><a href=\"#Conditional-execution\" data-toc-modified-id=\"Conditional-execution-4\">Conditional execution</a></span></li><li><span><a href=\"#HackerRank-problem\" data-toc-modified-id=\"HackerRank-problem-5\">HackerRank problem</a></span></li><li><span><a href=\"#elif\" data-toc-modified-id=\"elif-6\">elif</a></span></li><li><span><a href=\"#From-HackerRank-problem\" data-toc-modified-id=\"From-HackerRank-problem-7\">From HackerRank problem</a></span></li><li><span><a href=\"#else-\" data-toc-modified-id=\"else--8\">else </a></span></li><li><span><a href=\"#From-HackerRank-problem\" data-toc-modified-id=\"From-HackerRank-problem-9\">From HackerRank problem</a></span></li><li><span><a href=\"#From-HackerRank-problem\" data-toc-modified-id=\"From-HackerRank-problem-10\">From HackerRank problem</a></span></li><li><span><a href=\"#Use-Boolean-Function-as-conditional\" data-toc-modified-id=\"Use-Boolean-Function-as-conditional-11\">Use Boolean Function as conditional</a></span></li><li><span><a href=\"#Using-Truthiness-in-Conditionals\" data-toc-modified-id=\"Using-Truthiness-in-Conditionals-12\">Using Truthiness in Conditionals</a></span></li><li><span><a href=\"#Student-Activity\" data-toc-modified-id=\"Student-Activity-13\">Student Activity</a></span></li><li><span><a href=\"#-Summary\" data-toc-modified-id=\"-Summary-14\"> Summary</a></span></li><li><span><a href=\"#Bonus-Material\" data-toc-modified-id=\"Bonus-Material-15\">Bonus Material</a></span></li></ul></div>"
   ]
  },
  {
   "cell_type": "markdown",
   "metadata": {
    "slideshow": {
     "slide_type": "slide"
    }
   },
   "source": [
    "<center><h2>Control Flow with Conditionals</h2></center>\n"
   ]
  },
  {
   "cell_type": "markdown",
   "metadata": {
    "slideshow": {
     "slide_type": "slide"
    }
   },
   "source": [
    "<center><h2>Learning Outcomes</h2></center>\n",
    "\n",
    "#### By the end of this session, you should be able to:\n",
    "\n",
    "- Control the flow of a program with `if`, `elif`, and `else` statements\n",
    "- Explain how boolean logic is used in the control statements\n",
    "- Write control statements with boolean functions and using _truthiness_\n"
   ]
  },
  {
   "cell_type": "markdown",
   "metadata": {
    "slideshow": {
     "slide_type": "slide"
    }
   },
   "source": [
    "<center><h2>How Python works</h2></center>\n",
    "\n",
    "\n",
    "Python is interpreted line-by-line.\n",
    "\n",
    "Unless given instructions to the contrary, the processor keeps executing instructions one after the other."
   ]
  },
  {
   "cell_type": "markdown",
   "metadata": {
    "slideshow": {
     "slide_type": "slide"
    }
   },
   "source": [
    "<center><h2>Conditional execution</h2></center> \n",
    " \n",
    "`if` statement is the simplest way to control the flow of your Python program\n",
    "An `if` statement allows us to check whether or not a certain condition is true. \n",
    "If a condition is true, perform series of commands related to that context.\n",
    "\n",
    "```\n",
    "if <boolean expression>:\n",
    "     <code that executes only if above expression is true>\n",
    "```"
   ]
  },
  {
   "cell_type": "markdown",
   "metadata": {},
   "source": [
    "HackerRank problem\n",
    "------\n",
    "\n",
    "[HackerRank else-if](https://www.hackerrank.com/contests/msds-incoming-student/challenges/py-if-else)\n",
    "\n",
    "\n",
    "If n is odd, print Weird\n"
   ]
  },
  {
   "cell_type": "code",
   "execution_count": 5,
   "metadata": {
    "slideshow": {
     "slide_type": "slide"
    }
   },
   "outputs": [
    {
     "name": "stdout",
     "output_type": "stream",
     "text": [
      "Weird\n"
     ]
    }
   ],
   "source": [
    "n = 3 \n",
    "\n",
    "if n % 2 != 0:\n",
    "    print(\"Weird\")"
   ]
  },
  {
   "cell_type": "markdown",
   "metadata": {
    "slideshow": {
     "slide_type": "slide"
    }
   },
   "source": [
    "elif\n",
    "---\n",
    "\n",
    "- elif is short for elseif\n",
    "- add as many as you want"
   ]
  },
  {
   "cell_type": "markdown",
   "metadata": {},
   "source": [
    "From HackerRank problem\n",
    "------\n",
    "\n",
    "if n is even and in the inclusive range of 2 to 5, print Not Weird"
   ]
  },
  {
   "cell_type": "code",
   "execution_count": 6,
   "metadata": {},
   "outputs": [
    {
     "name": "stdout",
     "output_type": "stream",
     "text": [
      "Not Weird\n"
     ]
    }
   ],
   "source": [
    "n = 4\n",
    "\n",
    "if n % 2 != 0:\n",
    "    print(\"Weird\")\n",
    "elif (n >= 2) and (n <= 5):                                \n",
    "    print(\"Not Weird\")\n"
   ]
  },
  {
   "cell_type": "markdown",
   "metadata": {
    "slideshow": {
     "slide_type": "slide"
    }
   },
   "source": [
    "else \n",
    "-----\n",
    "\n",
    "else is optional \n",
    "\n",
    "Always at end\n",
    "\n"
   ]
  },
  {
   "cell_type": "markdown",
   "metadata": {},
   "source": [
    "From HackerRank problem\n",
    "------\n",
    "\n",
    "if n is even and in the inclusive range of 6 to 20, print Weird"
   ]
  },
  {
   "cell_type": "code",
   "execution_count": 8,
   "metadata": {},
   "outputs": [
    {
     "name": "stdout",
     "output_type": "stream",
     "text": [
      "Not Weird\n"
     ]
    }
   ],
   "source": [
    "n = 22 \n",
    "\n",
    "if n % 2 != 0:\n",
    "    print(\"Weird\")\n",
    "elif ((n >= 2) and (n <= 5)):                                \n",
    "    print(\"Not Weird\")\n",
    "else:\n",
    "    print(\"Not Weird\")"
   ]
  },
  {
   "cell_type": "markdown",
   "metadata": {
    "slideshow": {
     "slide_type": "slide"
    }
   },
   "source": [
    "From HackerRank problem\n",
    "------\n",
    "\n",
    "One more bit of logic:\n",
    "\n",
    "if n is even and greater than 20, Not Weird\n",
    "\n",
    "We can refactor the logic with short-cuircuit and using `and` / `or`"
   ]
  },
  {
   "cell_type": "code",
   "execution_count": null,
   "metadata": {},
   "outputs": [],
   "source": [
    "# There are really only two states. How to divide them:\n",
    "if n % 2 != 0:\n",
    "    print(\"Weird\")\n",
    "elif ((n >= 2) and (n <= 5)) or (n > 20):                                \n",
    "    print(\"Not Weird\")\n",
    "else:\n",
    "    print(\"Weird\")   "
   ]
  },
  {
   "cell_type": "code",
   "execution_count": 12,
   "metadata": {},
   "outputs": [
    {
     "name": "stdout",
     "output_type": "stream",
     "text": [
      "1 is Weird\n",
      "2 is Not Weird\n",
      "3 is Weird\n",
      "4 is Not Weird\n",
      "5 is Weird\n",
      "6 is Weird\n",
      "7 is Weird\n",
      "8 is Weird\n",
      "9 is Weird\n",
      "10 is Weird\n",
      "11 is Weird\n",
      "12 is Weird\n",
      "13 is Weird\n",
      "14 is Weird\n",
      "15 is Weird\n",
      "16 is Weird\n",
      "17 is Weird\n",
      "18 is Weird\n",
      "19 is Weird\n",
      "20 is Weird\n",
      "21 is Weird\n",
      "22 is Not Weird\n",
      "23 is Weird\n",
      "24 is Not Weird\n"
     ]
    }
   ],
   "source": [
    "for n in range(1, 25):\n",
    "    print(n, 'is', end=\" \")\n",
    "    if n % 2 != 0:\n",
    "        print(\"Weird\")\n",
    "    elif ((n >= 2) and (n <= 5)) or (n > 20):                                \n",
    "        print(\"Not Weird\")\n",
    "    else:\n",
    "        print(\"Weird\")   "
   ]
  },
  {
   "cell_type": "markdown",
   "metadata": {},
   "source": [
    "Use Boolean Function as conditional\n",
    "-----"
   ]
  },
  {
   "cell_type": "code",
   "execution_count": 22,
   "metadata": {},
   "outputs": [],
   "source": [
    "def is_even(n:int) -> bool:\n",
    "    return True if n % 2 == 0 else False"
   ]
  },
  {
   "cell_type": "code",
   "execution_count": 23,
   "metadata": {},
   "outputs": [
    {
     "name": "stdout",
     "output_type": "stream",
     "text": [
      "4 is a even number\n"
     ]
    }
   ],
   "source": [
    "n = 4\n",
    "\n",
    "if is_even(n):\n",
    "    print(n, \"is a even number.\")"
   ]
  },
  {
   "cell_type": "markdown",
   "metadata": {},
   "source": [
    "Using Truthiness in Conditionals\n",
    "-----\n",
    "\n",
    "True and non-empty containers are True.\n",
    "\n",
    "None and empty containers are False."
   ]
  },
  {
   "cell_type": "code",
   "execution_count": 15,
   "metadata": {
    "slideshow": {
     "slide_type": "slide"
    }
   },
   "outputs": [
    {
     "name": "stdout",
     "output_type": "stream",
     "text": [
      "This is the Pythonic way.\n"
     ]
    }
   ],
   "source": [
    "flag = True\n",
    "flag = ['a', 'b', 'c']\n",
    "\n",
    "if flag:\n",
    "    print(\"This is the Pythonic way.\")"
   ]
  },
  {
   "cell_type": "code",
   "execution_count": 13,
   "metadata": {
    "slideshow": {
     "slide_type": "slide"
    }
   },
   "outputs": [
    {
     "name": "stdout",
     "output_type": "stream",
     "text": [
      "Statement is false\n"
     ]
    }
   ],
   "source": [
    "s = False\n",
    "s = None\n",
    "s = ''\n",
    "\n",
    "if not s:\n",
    "    print(\"Statement is false\") "
   ]
  },
  {
   "cell_type": "markdown",
   "metadata": {
    "slideshow": {
     "slide_type": "slide"
    }
   },
   "source": [
    "[Source](https://docs.quantifiedcode.com/python-anti-patterns/readability/comparison_to_true.html)"
   ]
  },
  {
   "cell_type": "markdown",
   "metadata": {
    "slideshow": {
     "slide_type": "slide"
    }
   },
   "source": [
    "<center><h2>Student Activity</h2></center>\n",
    "\n",
    "- Refactor Bernoulli trial function to return Heads or Tails\n",
    "\n",
    "    ```\n",
    "    from random import random\n",
    "\n",
    "    def bernoulli_trial(prob_success):\n",
    "        \"https://en.wikipedia.org/wiki/Bernoulli_trial\"\n",
    "        return random() < prob_success \n",
    "    ```\n",
    "\n",
    "-  Fizz Buzz: Write a program that prints the numbers from 1 to 100. But for multiples of three print “Fizz” instead of the number and for the multiples of five print “Buzz”. For numbers which are multiples of both three and five print “FizzBuzz”.\"\n",
    "\n",
    "- Find The Smallest of 3 Numbers Using Conditional Statements\n",
    "\n",
    "    `assert smallest == min([num1, num2, num3])`"
   ]
  },
  {
   "cell_type": "code",
   "execution_count": null,
   "metadata": {
    "slideshow": {
     "slide_type": "slide"
    }
   },
   "outputs": [],
   "source": [
    " def coin_flip(prob_heads):\n",
    "    if random() < prob_heads\n",
    "        return \"Head\"\n",
    "    else \n",
    "        return \"Tail\""
   ]
  },
  {
   "cell_type": "code",
   "execution_count": null,
   "metadata": {
    "slideshow": {
     "slide_type": "fragment"
    }
   },
   "outputs": [],
   "source": [
    " def coin_flip(prob_heads):\n",
    "    return \"Head\" if random() < prob_heads else \"Tail\""
   ]
  },
  {
   "cell_type": "code",
   "execution_count": 17,
   "metadata": {},
   "outputs": [],
   "source": [
    "def fizz_buzz(n: int) -> str:\n",
    "    fizzy = not (n % 3) # or not n % 3\n",
    "    buzzy = not (n % 5) # or not n % 5\n",
    "    print(\"Fizzy =\", fizzy, \"| Buzzy =\", buzzy, end=\"| Results = \")\n",
    "    if fizzy and buzzy:\n",
    "        return 'FizzBuzz'\n",
    "    elif fizzy:\n",
    "        return 'Fizz'\n",
    "    elif buzzy:\n",
    "        return 'Buzz'\n",
    "    else:\n",
    "        return str(n)"
   ]
  },
  {
   "cell_type": "code",
   "execution_count": 18,
   "metadata": {},
   "outputs": [
    {
     "name": "stdout",
     "output_type": "stream",
     "text": [
      "Fizzy = False | Buzzy = False| Results = 1\n",
      "Fizzy = False | Buzzy = False| Results = 2\n",
      "Fizzy = True | Buzzy = False| Results = Fizz\n",
      "Fizzy = False | Buzzy = False| Results = 4\n",
      "Fizzy = False | Buzzy = True| Results = Buzz\n",
      "Fizzy = True | Buzzy = False| Results = Fizz\n",
      "Fizzy = False | Buzzy = False| Results = 7\n",
      "Fizzy = False | Buzzy = False| Results = 8\n",
      "Fizzy = True | Buzzy = False| Results = Fizz\n",
      "Fizzy = False | Buzzy = True| Results = Buzz\n",
      "Fizzy = False | Buzzy = False| Results = 11\n",
      "Fizzy = True | Buzzy = False| Results = Fizz\n",
      "Fizzy = False | Buzzy = False| Results = 13\n",
      "Fizzy = False | Buzzy = False| Results = 14\n",
      "Fizzy = True | Buzzy = True| Results = FizzBuzz\n"
     ]
    }
   ],
   "source": [
    "for n in range(1, 16):        \n",
    "    print(fizz_buzz(n))"
   ]
  },
  {
   "cell_type": "code",
   "execution_count": 19,
   "metadata": {},
   "outputs": [],
   "source": [
    "def fizz_buzz(n: int) -> str:\n",
    "    message = ''\n",
    "\n",
    "    if n % 3 == 0:  \n",
    "        message += 'Fizz'\n",
    "    if n % 5 == 0:  \n",
    "        message += 'Buzz'\n",
    "    if not message: \n",
    "        message = str(n)\n",
    "\n",
    "    return message\n"
   ]
  },
  {
   "cell_type": "code",
   "execution_count": 20,
   "metadata": {},
   "outputs": [
    {
     "name": "stdout",
     "output_type": "stream",
     "text": [
      "1\n",
      "2\n",
      "Fizz\n",
      "4\n",
      "Buzz\n",
      "Fizz\n",
      "7\n",
      "8\n",
      "Fizz\n",
      "Buzz\n",
      "11\n",
      "Fizz\n",
      "13\n",
      "14\n",
      "FizzBuzz\n"
     ]
    }
   ],
   "source": [
    "for n in range(1, 16):        \n",
    "    print(fizz_buzz(n))"
   ]
  },
  {
   "cell_type": "code",
   "execution_count": 14,
   "metadata": {
    "slideshow": {
     "slide_type": "fragment"
    }
   },
   "outputs": [
    {
     "name": "stdout",
     "output_type": "stream",
     "text": [
      "The smallest number is 1\n"
     ]
    }
   ],
   "source": [
    "# Smallest number\n",
    "num1 = 1 \n",
    "num2 = 4\n",
    "num3 = 5\n",
    "\n",
    "smallest = num1\n",
    "if (num2 < num1) and (num2 < num3):\n",
    "    smallest = num2\n",
    "elif (num3 < num1):\n",
    "    smallest = num3\n",
    "\n",
    "assert smallest == min([num1, num2, num3])\n",
    "print(\"The smallest number is\", smallest)"
   ]
  },
  {
   "cell_type": "markdown",
   "metadata": {
    "slideshow": {
     "slide_type": "skip"
    }
   },
   "source": [
    "[Source](https://djangocentral.com/python-program-to-find-the-smallest-among-three-numbers/) "
   ]
  },
  {
   "cell_type": "markdown",
   "metadata": {
    "slideshow": {
     "slide_type": "slide"
    }
   },
   "source": [
    "<center><h2> Summary</h2></center>\n",
    "\n",
    "- `if`, `elif`, and `else` statements can control the flow of a program allowing for branches.\n",
    "- Boolean logic makes the choices at each possible branch.\n",
    "- Python's use of boolean functions and _truthiness_ allows for the writing of elegant code."
   ]
  },
  {
   "cell_type": "markdown",
   "metadata": {
    "slideshow": {
     "slide_type": "slide"
    }
   },
   "source": [
    " "
   ]
  },
  {
   "cell_type": "markdown",
   "metadata": {},
   "source": [
    "Bonus Material\n",
    "----"
   ]
  },
  {
   "cell_type": "markdown",
   "metadata": {
    "slideshow": {
     "slide_type": "slide"
    }
   },
   "source": [
    "<center><img src=\"https://imgs.xkcd.com/comics/flow_charts.png\" width=\"75%\"/></center>"
   ]
  },
  {
   "cell_type": "markdown",
   "metadata": {
    "slideshow": {
     "slide_type": "slide"
    }
   },
   "source": [
    " "
   ]
  }
 ],
 "metadata": {
  "celltoolbar": "Slideshow",
  "kernelspec": {
   "display_name": "Python 3",
   "language": "python",
   "name": "python3"
  },
  "language_info": {
   "codemirror_mode": {
    "name": "ipython",
    "version": 3
   },
   "file_extension": ".py",
   "mimetype": "text/x-python",
   "name": "python",
   "nbconvert_exporter": "python",
   "pygments_lexer": "ipython3",
   "version": "3.7.3"
  },
  "toc": {
   "base_numbering": 1,
   "nav_menu": {},
   "number_sections": false,
   "sideBar": false,
   "skip_h1_title": false,
   "title_cell": "Table of Contents",
   "title_sidebar": "Contents",
   "toc_cell": true,
   "toc_position": {},
   "toc_section_display": true,
   "toc_window_display": false
  }
 },
 "nbformat": 4,
 "nbformat_minor": 2
}
