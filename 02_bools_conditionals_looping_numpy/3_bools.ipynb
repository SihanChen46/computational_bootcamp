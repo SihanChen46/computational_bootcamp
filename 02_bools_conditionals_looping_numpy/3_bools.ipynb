{
 "cells": [
  {
   "cell_type": "markdown",
   "metadata": {
    "slideshow": {
     "slide_type": "skip"
    },
    "toc": true
   },
   "source": [
    "<h1>Table of Contents<span class=\"tocSkip\"></span></h1>\n",
    "<div class=\"toc\"><ul class=\"toc-item\"><li><span><a href=\"#Booleans\" data-toc-modified-id=\"Booleans-1\">Booleans</a></span></li><li><span><a href=\"#Learning-Outcomes\" data-toc-modified-id=\"Learning-Outcomes-2\">Learning Outcomes</a></span><ul class=\"toc-item\"><li><ul class=\"toc-item\"><li><span><a href=\"#By-the-end-of-this-session,-you-should-be-able-to:\" data-toc-modified-id=\"By-the-end-of-this-session,-you-should-be-able-to:-2.0.1\">By the end of this session, you should be able to:</a></span></li></ul></li></ul></li><li><span><a href=\"#Intro-to-Boolean\" data-toc-modified-id=\"Intro-to-Boolean-3\">Intro to Boolean</a></span></li><li><span><a href=\"#Check-for-understanding\" data-toc-modified-id=\"Check-for-understanding-4\">Check for understanding</a></span></li><li><span><a href=\"#Truthiness\" data-toc-modified-id=\"Truthiness-5\">Truthiness</a></span></li><li><span><a href=\"#What-is-False-in-Python\" data-toc-modified-id=\"What-is-False-in-Python-6\">What is False in Python</a></span></li><li><span><a href=\"#What-is-True-in-Python\" data-toc-modified-id=\"What-is-True-in-Python-7\">What is True in Python</a></span></li><li><span><a href=\"#-Logical-Operators:-and--\" data-toc-modified-id=\"-Logical-Operators:-and---8\"> Logical Operators: and  </a></span></li><li><span><a href=\"#Complete-this-Truth-Table\" data-toc-modified-id=\"Complete-this-Truth-Table-9\">Complete this Truth Table</a></span></li><li><span><a href=\"#-Logical-Operators:-or--\" data-toc-modified-id=\"-Logical-Operators:-or---10\"> Logical Operators: or  </a></span></li><li><span><a href=\"#Complete-this-Truth-Table\" data-toc-modified-id=\"Complete-this-Truth-Table-11\">Complete this Truth Table</a></span></li><li><span><a href=\"#Check-for-understanding\" data-toc-modified-id=\"Check-for-understanding-12\">Check for understanding</a></span></li><li><span><a href=\"#Boolean-Functions\" data-toc-modified-id=\"Boolean-Functions-13\">Boolean Functions</a></span></li><li><span><a href=\"#-Summary\" data-toc-modified-id=\"-Summary-14\"> Summary</a></span></li><li><span><a href=\"#Bonus-Material\" data-toc-modified-id=\"Bonus-Material-15\">Bonus Material</a></span></li><li><span><a href=\"#Oh-The-Booleanity!\" data-toc-modified-id=\"Oh-The-Booleanity!-16\">Oh The Booleanity!</a></span></li><li><span><a href=\"#Advanced-Logical-Operators\" data-toc-modified-id=\"Advanced-Logical-Operators-17\">Advanced Logical Operators</a></span></li><li><span><a href=\"#Boolean-short-circuiting\" data-toc-modified-id=\"Boolean-short-circuiting-18\">Boolean short circuiting</a></span></li></ul></div>"
   ]
  },
  {
   "cell_type": "markdown",
   "metadata": {
    "slideshow": {
     "slide_type": "slide"
    }
   },
   "source": [
    "<center><h2>Booleans</h2></center>\n",
    "\n",
    "<center><img src=\"images/boo_booleans.png\" width=\"75%\"/></center>"
   ]
  },
  {
   "cell_type": "markdown",
   "metadata": {
    "slideshow": {
     "slide_type": "slide"
    }
   },
   "source": [
    "<center><h2>Learning Outcomes</h2></center>\n",
    "\n",
    "#### By the end of this session, you should be able to:\n",
    "\n",
    "- Explain the fundamental properties of bool values\n",
    "- Explain in your own words what is \"truthiness\" in Python\n",
    "- Use bool to solve common programming problems:\n",
    "    - Truth tables\n",
    "    - Boolean functions"
   ]
  },
  {
   "cell_type": "markdown",
   "metadata": {},
   "source": [
    "<center><h2>Intro to Boolean</h2></center>"
   ]
  },
  {
   "cell_type": "code",
   "execution_count": 10,
   "metadata": {
    "slideshow": {
     "slide_type": "slide"
    }
   },
   "outputs": [
    {
     "data": {
      "text/plain": [
       "True"
      ]
     },
     "execution_count": 10,
     "metadata": {},
     "output_type": "execute_result"
    }
   ],
   "source": [
    "True "
   ]
  },
  {
   "cell_type": "code",
   "execution_count": 11,
   "metadata": {},
   "outputs": [
    {
     "data": {
      "text/plain": [
       "False"
      ]
     },
     "execution_count": 11,
     "metadata": {},
     "output_type": "execute_result"
    }
   ],
   "source": [
    "False"
   ]
  },
  {
   "cell_type": "code",
   "execution_count": 12,
   "metadata": {},
   "outputs": [
    {
     "data": {
      "text/plain": [
       "False"
      ]
     },
     "execution_count": 12,
     "metadata": {},
     "output_type": "execute_result"
    }
   ],
   "source": [
    "# Flip a boolean\n",
    "not True"
   ]
  },
  {
   "cell_type": "code",
   "execution_count": 13,
   "metadata": {},
   "outputs": [
    {
     "data": {
      "text/plain": [
       "False"
      ]
     },
     "execution_count": 13,
     "metadata": {},
     "output_type": "execute_result"
    }
   ],
   "source": [
    "# Keep on flipping\n",
    "not not False"
   ]
  },
  {
   "cell_type": "code",
   "execution_count": 14,
   "metadata": {
    "slideshow": {
     "slide_type": "slide"
    }
   },
   "outputs": [
    {
     "data": {
      "text/plain": [
       "bool"
      ]
     },
     "execution_count": 14,
     "metadata": {},
     "output_type": "execute_result"
    }
   ],
   "source": [
    "type(True)"
   ]
  },
  {
   "cell_type": "code",
   "execution_count": 15,
   "metadata": {},
   "outputs": [],
   "source": [
    "bool?"
   ]
  },
  {
   "cell_type": "code",
   "execution_count": 16,
   "metadata": {},
   "outputs": [
    {
     "data": {
      "text/plain": [
       "True"
      ]
     },
     "execution_count": 16,
     "metadata": {},
     "output_type": "execute_result"
    }
   ],
   "source": [
    "bool(42)"
   ]
  },
  {
   "cell_type": "code",
   "execution_count": 17,
   "metadata": {},
   "outputs": [
    {
     "data": {
      "text/plain": [
       "False"
      ]
     },
     "execution_count": 17,
     "metadata": {},
     "output_type": "execute_result"
    }
   ],
   "source": [
    "bool(0)"
   ]
  },
  {
   "cell_type": "markdown",
   "metadata": {},
   "source": [
    "Here are most of the built-in objects considered false:\n",
    "\n",
    "- constants defined to be false: None and False.\n",
    "\n",
    "- zero of any numeric type: 0, 0.0, 0j, Decimal(0), Fraction(0, 1)\n",
    "\n",
    "- empty sequences and collections: '', (), [], {}, set(), range(0)"
   ]
  },
  {
   "cell_type": "markdown",
   "metadata": {},
   "source": [
    "[Source](https://docs.python.org/3/library/stdtypes.html)"
   ]
  },
  {
   "cell_type": "code",
   "execution_count": 18,
   "metadata": {},
   "outputs": [
    {
     "data": {
      "text/plain": [
       "False"
      ]
     },
     "execution_count": 18,
     "metadata": {},
     "output_type": "execute_result"
    }
   ],
   "source": [
    "bool(None)"
   ]
  },
  {
   "cell_type": "code",
   "execution_count": 19,
   "metadata": {},
   "outputs": [
    {
     "data": {
      "text/plain": [
       "False"
      ]
     },
     "execution_count": 19,
     "metadata": {},
     "output_type": "execute_result"
    }
   ],
   "source": [
    "bool('')"
   ]
  },
  {
   "cell_type": "code",
   "execution_count": 20,
   "metadata": {},
   "outputs": [
    {
     "data": {
      "text/plain": [
       "True"
      ]
     },
     "execution_count": 20,
     "metadata": {},
     "output_type": "execute_result"
    }
   ],
   "source": [
    "# The result of a comparsion is a boolean \n",
    "1 == 1"
   ]
  },
  {
   "cell_type": "code",
   "execution_count": 21,
   "metadata": {
    "slideshow": {
     "slide_type": "slide"
    }
   },
   "outputs": [
    {
     "data": {
      "text/plain": [
       "True"
      ]
     },
     "execution_count": 21,
     "metadata": {},
     "output_type": "execute_result"
    }
   ],
   "source": [
    " 2 > 1"
   ]
  },
  {
   "cell_type": "code",
   "execution_count": 22,
   "metadata": {
    "slideshow": {
     "slide_type": "slide"
    }
   },
   "outputs": [
    {
     "data": {
      "text/plain": [
       "False"
      ]
     },
     "execution_count": 22,
     "metadata": {},
     "output_type": "execute_result"
    }
   ],
   "source": [
    " 1 > 2"
   ]
  },
  {
   "cell_type": "code",
   "execution_count": 23,
   "metadata": {
    "slideshow": {
     "slide_type": "slide"
    }
   },
   "outputs": [
    {
     "ename": "TypeError",
     "evalue": "'>=' not supported between instances of 'int' and 'str'",
     "output_type": "error",
     "traceback": [
      "\u001b[0;31m---------------------------------------------------------------------------\u001b[0m",
      "\u001b[0;31mTypeError\u001b[0m                                 Traceback (most recent call last)",
      "\u001b[0;32m<ipython-input-23-c576a98b4bba>\u001b[0m in \u001b[0;36m<module>\u001b[0;34m\u001b[0m\n\u001b[0;32m----> 1\u001b[0;31m \u001b[0;36m1\u001b[0m \u001b[0;34m>=\u001b[0m \u001b[0;34m'1'\u001b[0m\u001b[0;34m\u001b[0m\u001b[0;34m\u001b[0m\u001b[0m\n\u001b[0m",
      "\u001b[0;31mTypeError\u001b[0m: '>=' not supported between instances of 'int' and 'str'"
     ]
    }
   ],
   "source": [
    "1 >= '1'"
   ]
  },
  {
   "cell_type": "code",
   "execution_count": null,
   "metadata": {},
   "outputs": [],
   "source": [
    "# How can we fix that?\n",
    "1 >= int('1')"
   ]
  },
  {
   "cell_type": "markdown",
   "metadata": {
    "slideshow": {
     "slide_type": "slide"
    }
   },
   "source": [
    "<center><h2>Check for understanding</h2></center>\n",
    "\n",
    "Write down your guesses. Do not use a computer:\n",
    "\n",
    "```python\n",
    "(42 == 42) == ('a' > 'z')\n",
    "(not True) == (1 >= 2)\n",
    "\n",
    "from math import inf\n",
    "not inf\n",
    "```"
   ]
  },
  {
   "cell_type": "code",
   "execution_count": 24,
   "metadata": {},
   "outputs": [
    {
     "data": {
      "text/plain": [
       "False"
      ]
     },
     "execution_count": 24,
     "metadata": {},
     "output_type": "execute_result"
    }
   ],
   "source": [
    "(42 == 42) == ('a' > 'z')"
   ]
  },
  {
   "cell_type": "code",
   "execution_count": 25,
   "metadata": {},
   "outputs": [
    {
     "data": {
      "text/plain": [
       "True"
      ]
     },
     "execution_count": 25,
     "metadata": {},
     "output_type": "execute_result"
    }
   ],
   "source": [
    "(not True) == (1 >= 2)"
   ]
  },
  {
   "cell_type": "code",
   "execution_count": 26,
   "metadata": {},
   "outputs": [
    {
     "data": {
      "text/plain": [
       "False"
      ]
     },
     "execution_count": 26,
     "metadata": {},
     "output_type": "execute_result"
    }
   ],
   "source": [
    "from math import inf\n",
    "\n",
    "not inf"
   ]
  },
  {
   "cell_type": "markdown",
   "metadata": {},
   "source": [
    "<center><h2>Truthiness</h2></center> \n"
   ]
  },
  {
   "cell_type": "markdown",
   "metadata": {
    "slideshow": {
     "slide_type": "slide"
    }
   },
   "source": [
    "What is False in Python\n",
    "-----\n",
    "\n",
    "\"False\" values include:\n",
    "\n",
    "- False\n",
    "- None\n",
    "- 0 \n",
    "- []\n",
    "- ''"
   ]
  },
  {
   "cell_type": "code",
   "execution_count": 27,
   "metadata": {
    "slideshow": {
     "slide_type": "fragment"
    }
   },
   "outputs": [
    {
     "data": {
      "text/plain": [
       "False"
      ]
     },
     "execution_count": 27,
     "metadata": {},
     "output_type": "execute_result"
    }
   ],
   "source": [
    "bool([])"
   ]
  },
  {
   "cell_type": "markdown",
   "metadata": {
    "slideshow": {
     "slide_type": "slide"
    }
   },
   "source": [
    "What is True in Python\n",
    "-----\n",
    "\n",
    "\"True\" values include:\n",
    "\n",
    "- True\n",
    "- not None\n",
    "- 1  # Any number not 0\n",
    "- `inf` # Any number not 0\n",
    "- [42] # Any non-empty container\n",
    "- '42' # Any non-empty container"
   ]
  },
  {
   "cell_type": "markdown",
   "metadata": {
    "slideshow": {
     "slide_type": "skip"
    }
   },
   "source": [
    "[Source](https://stackoverflow.com/questions/3914667/python-false-or-none-vs-none-or-false)"
   ]
  },
  {
   "cell_type": "markdown",
   "metadata": {
    "slideshow": {
     "slide_type": "slide"
    }
   },
   "source": [
    "<center><h2> Logical Operators: and  </h2></center>\n",
    "\n",
    "```python\n",
    "If (number >= 1) and (number <= 10):\n",
    "    print(\"Number is in range!\")\n",
    "else:\n",
    "    print(\"Number is out of range!\")\n",
    "```\n"
   ]
  },
  {
   "cell_type": "markdown",
   "metadata": {
    "slideshow": {
     "slide_type": "fragment"
    }
   },
   "source": [
    "```python\n",
    "if hungry:\n",
    "    if restaurant_open:\n",
    "          get_food()\n",
    "\n",
    "# Simplify conditional logic\n",
    "If hungry and restaurant_open:\n",
    "     get_food()\n",
    "```"
   ]
  },
  {
   "cell_type": "code",
   "execution_count": 28,
   "metadata": {
    "slideshow": {
     "slide_type": "skip"
    }
   },
   "outputs": [
    {
     "data": {
      "text/html": [
       "\n",
       "<style>\n",
       ".rendered_html table, .rendered_html th, .rendered_html tr, .rendered_html td {\n",
       "     font-size: 150%;\n",
       "}\n",
       "</style>\n"
      ],
      "text/plain": [
       "<IPython.core.display.HTML object>"
      ]
     },
     "metadata": {},
     "output_type": "display_data"
    }
   ],
   "source": [
    "%%HTML\n",
    "\n",
    "<style>\n",
    ".rendered_html table, .rendered_html th, .rendered_html tr, .rendered_html td {\n",
    "     font-size: 150%;\n",
    "}\n",
    "</style>"
   ]
  },
  {
   "cell_type": "markdown",
   "metadata": {
    "slideshow": {
     "slide_type": "slide"
    }
   },
   "source": [
    "<center><h2>Complete this Truth Table</h2></center>\n",
    "\n",
    "\n",
    "| `and` | True | False |  \n",
    "|:-------:|:------:|:------:|\n",
    "| True |  |  |\n",
    "| False | |    |"
   ]
  },
  {
   "cell_type": "markdown",
   "metadata": {
    "slideshow": {
     "slide_type": "slide"
    }
   },
   "source": [
    "| `and` | True | False |  \n",
    "|:-------:|:------:|:------:|\n",
    "| True | True | False |\n",
    "| False | False |  False  |\n",
    "\n",
    "a and b:  True only if both a and b are True\n",
    "\n",
    "A single False makes the entire expression False\n",
    "\n",
    "(True and True) == True"
   ]
  },
  {
   "cell_type": "markdown",
   "metadata": {
    "slideshow": {
     "slide_type": "slide"
    }
   },
   "source": [
    "<center><h2> Logical Operators: or  </h2></center>\n",
    "\n",
    "```python\n",
    "If (age >= 65) or (income < poverty level):\n",
    "    get_muni_discount\n",
    "\n",
    "```\n"
   ]
  },
  {
   "cell_type": "markdown",
   "metadata": {
    "slideshow": {
     "slide_type": "slide"
    }
   },
   "source": [
    " <center><h2>Complete this Truth Table</h2></center>\n",
    "\n",
    "\n",
    "| `or` | True | False |  \n",
    "|:-------:|:------:|:------:|\n",
    "| True |  |  |\n",
    "| False | |    |"
   ]
  },
  {
   "cell_type": "markdown",
   "metadata": {
    "slideshow": {
     "slide_type": "slide"
    }
   },
   "source": [
    " | `or` | True | False |  \n",
    "|:-------:|:------:|:------:|\n",
    "| True | True | True |\n",
    "| False | True |  False  |\n",
    "\n",
    "One (or more) True makes the entire expression True\n",
    "\n",
    "(False or False) == False\n",
    "\n"
   ]
  },
  {
   "cell_type": "markdown",
   "metadata": {
    "slideshow": {
     "slide_type": "slide"
    }
   },
   "source": [
    "<center><h2>Check for understanding</h2></center>\n",
    "\n",
    "For outside of class...\n",
    "\n",
    "Write down your guesses. Use the computer to check your answers\n",
    "    \n",
    "```python\n",
    "(9>7) and (2<4)\n",
    "(-0.2>1.4) and (0.8<3.1)\n",
    "(8==8) or (6!=6)\n",
    "(9.2!=9.2) or (7.5==8.9)\n",
    "not (1<=3)\n",
    "not (-0.2>1.4) and ((0.8<3.1) or (0.1==0.1))\n",
    "None or False\n",
    "False or None\n",
    "```\n"
   ]
  },
  {
   "cell_type": "markdown",
   "metadata": {
    "slideshow": {
     "slide_type": "slide"
    }
   },
   "source": [
    "<center><h2>Boolean Functions</h2></center>\n",
    "\n",
    "A function that returns True or False\n",
    "\n",
    "Can test a value; return True if value meets conditional or False otherwise\n",
    "\n",
    "Can also be a task that returns True if successful or False if unsuccessful\n",
    "\n"
   ]
  },
  {
   "cell_type": "code",
   "execution_count": 29,
   "metadata": {
    "slideshow": {
     "slide_type": "slide"
    }
   },
   "outputs": [],
   "source": [
    "def is_even(n:int) -> bool:\n",
    "    if n % 2 == 0:\n",
    "         return True\n",
    "    else:\n",
    "         return False"
   ]
  },
  {
   "cell_type": "code",
   "execution_count": 30,
   "metadata": {
    "slideshow": {
     "slide_type": "slide"
    }
   },
   "outputs": [],
   "source": [
    "assert is_even(n=2) == True\n",
    "assert is_even(n=2)\n",
    "\n",
    "assert is_even(n=3) == False\n",
    "assert not is_even(n=3)"
   ]
  },
  {
   "cell_type": "code",
   "execution_count": 31,
   "metadata": {
    "slideshow": {
     "slide_type": "slide"
    }
   },
   "outputs": [],
   "source": [
    "def is_even(n:int) -> bool:\n",
    "    return True if n % 2 == 0 else False"
   ]
  },
  {
   "cell_type": "code",
   "execution_count": 32,
   "metadata": {
    "slideshow": {
     "slide_type": "slide"
    }
   },
   "outputs": [],
   "source": [
    "assert is_even(n=2)\n",
    "assert not is_even(n=3)"
   ]
  },
  {
   "cell_type": "code",
   "execution_count": 35,
   "metadata": {},
   "outputs": [
    {
     "data": {
      "text/plain": [
       "True"
      ]
     },
     "execution_count": 35,
     "metadata": {},
     "output_type": "execute_result"
    }
   ],
   "source": [
    "# Write a Bernoulli trial function\n",
    "from random import random\n",
    "\n",
    "def bernoulli_trial(prob_success):\n",
    "    \"https://en.wikipedia.org/wiki/Bernoulli_trial\"\n",
    "    return random() < prob_success \n",
    "\n",
    "bernoulli_trial(prob_success=1)"
   ]
  },
  {
   "cell_type": "markdown",
   "metadata": {
    "slideshow": {
     "slide_type": "slide"
    }
   },
   "source": [
    "<center><h2> Summary</h2></center>\n",
    "\n",
    "- Python has True and False which are bool type.\n",
    "- Flip bool with `not`.\n",
    "- Truthiness is a core concept in Pythonic code.\n",
    "- `and` and `or` allow for more expressive, thus more compact code\n",
    "- Simple boolean functions will help you process data"
   ]
  },
  {
   "cell_type": "markdown",
   "metadata": {
    "slideshow": {
     "slide_type": "slide"
    }
   },
   "source": [
    "<center><h2>Bonus Material</h2></center>"
   ]
  },
  {
   "cell_type": "markdown",
   "metadata": {
    "slideshow": {
     "slide_type": "slide"
    }
   },
   "source": [
    "<center><h2>Oh The Booleanity!</h2></center>\n"
   ]
  },
  {
   "cell_type": "markdown",
   "metadata": {
    "slideshow": {
     "slide_type": "slide"
    }
   },
   "source": [
    "<center><h2>Advanced Logical Operators</h2></center>\n",
    "\n",
    "1. XOR, aka exclusive or\n",
    "1. NAND, aka not and\n",
    "1. NOR, aka not or"
   ]
  },
  {
   "cell_type": "markdown",
   "metadata": {
    "slideshow": {
     "slide_type": "slide"
    }
   },
   "source": [
    "<center><h2>Boolean short circuiting</h2></center>\n",
    "\n",
    "Evaluate the expression “x and y” we first evaluate x. If x evaluates to FALSE, then the entire expression cannot evaluate to TRUE, and so we do not evaluate y. \n",
    "\n",
    "If, on the other hand, x evaluates to TRUE, we must evaluate y to determine the value of the entire expression."
   ]
  },
  {
   "cell_type": "markdown",
   "metadata": {
    "slideshow": {
     "slide_type": "slide"
    }
   },
   "source": [
    "Similarly, in the expression “x or y” we evaluate the expression y only if x evaluates to FALSE. "
   ]
  },
  {
   "cell_type": "markdown",
   "metadata": {
    "slideshow": {
     "slide_type": "notes"
    }
   },
   "source": [
    " The boolean operators “and” and “or” are short circuiting. "
   ]
  },
  {
   "cell_type": "markdown",
   "metadata": {},
   "source": [
    "Short circuiting becomes important with `any` and `all` functions.\n",
    "\n",
    "Refactor your code with [De Morgan's laws](https://en.wikipedia.org/wiki/De_Morgan%27s_laws) to greatly speed it up."
   ]
  },
  {
   "cell_type": "markdown",
   "metadata": {},
   "source": [
    "Learn more here:\n",
    "\n",
    "- https://realpython.com/python-operators-expressions/\n",
    "- https://realpython.com/python-or-operator/"
   ]
  },
  {
   "cell_type": "markdown",
   "metadata": {},
   "source": [
    " "
   ]
  }
 ],
 "metadata": {
  "celltoolbar": "Slideshow",
  "kernelspec": {
   "display_name": "Python 3",
   "language": "python",
   "name": "python3"
  },
  "language_info": {
   "codemirror_mode": {
    "name": "ipython",
    "version": 3
   },
   "file_extension": ".py",
   "mimetype": "text/x-python",
   "name": "python",
   "nbconvert_exporter": "python",
   "pygments_lexer": "ipython3",
   "version": "3.7.3"
  },
  "toc": {
   "base_numbering": 1,
   "nav_menu": {},
   "number_sections": false,
   "sideBar": false,
   "skip_h1_title": false,
   "title_cell": "Table of Contents",
   "title_sidebar": "Contents",
   "toc_cell": true,
   "toc_position": {},
   "toc_section_display": true,
   "toc_window_display": false
  }
 },
 "nbformat": 4,
 "nbformat_minor": 2
}
