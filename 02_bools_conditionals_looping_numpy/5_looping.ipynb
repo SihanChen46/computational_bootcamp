{
 "cells": [
  {
   "cell_type": "markdown",
   "metadata": {
    "slideshow": {
     "slide_type": "skip"
    },
    "toc": true
   },
   "source": [
    "<h1>Table of Contents<span class=\"tocSkip\"></span></h1>\n",
    "<div class=\"toc\"><ul class=\"toc-item\"><li><span><a href=\"#Lorem\" data-toc-modified-id=\"Lorem-1\">Lorem</a></span><ul class=\"toc-item\"><li><ul class=\"toc-item\"><li><span><a href=\"#By-the-end-of-this-session,-you-should-be-able-to:\" data-toc-modified-id=\"By-the-end-of-this-session,-you-should-be-able-to:-1.0.1\">By the end of this session, you should be able to:</a></span></li></ul></li></ul></li><li><span><a href=\"#Repeated-execution\" data-toc-modified-id=\"Repeated-execution-2\">Repeated execution</a></span></li><li><span><a href=\"#Let's-make-a-function-that-sums\" data-toc-modified-id=\"Let's-make-a-function-that-sums-3\">Let's make a function that sums</a></span></li><li><span><a href=\"#for\" data-toc-modified-id=\"for-4\">for</a></span></li><li><span><a href=\"#Looping-over-strings\" data-toc-modified-id=\"Looping-over-strings-5\">Looping over strings</a></span></li><li><span><a href=\"#Looping-over-numbers\" data-toc-modified-id=\"Looping-over-numbers-6\">Looping over numbers</a></span></li><li><span><a href=\"#Looping-over-containers\" data-toc-modified-id=\"Looping-over-containers-7\">Looping over containers</a></span></li><li><span><a href=\"#Student-Activities\" data-toc-modified-id=\"Student-Activities-8\">Student Activities</a></span></li><li><span><a href=\"#while-loops\" data-toc-modified-id=\"while-loops-9\">while loops</a></span></li><li><span><a href=\"#Important-Looping-Rule-#1\" data-toc-modified-id=\"Important-Looping-Rule-#1-10\">Important Looping Rule #1</a></span></li><li><span><a href=\"#Important-Looping-Rule-#2\" data-toc-modified-id=\"Important-Looping-Rule-#2-11\">Important Looping Rule #2</a></span></li><li><span><a href=\"#Summary\" data-toc-modified-id=\"Summary-12\">Summary</a></span></li></ul></div>"
   ]
  },
  {
   "cell_type": "markdown",
   "metadata": {
    "slideshow": {
     "slide_type": "slide"
    }
   },
   "source": [
    "<center><h2>Lorem</h2></center>\n"
   ]
  },
  {
   "cell_type": "markdown",
   "metadata": {
    "slideshow": {
     "slide_type": "slide"
    }
   },
   "source": [
    "#### By the end of this session, you should be able to:\n",
    "\n",
    "- Write for loops over the following items:\n",
    "    - numbers\n",
    "    - strings\n",
    "    - containers\n",
    "- Use `enumerate` to automatically track the indices.\n",
    "- Write code using the Accumulator pattern.\n",
    "- Write while loops.\n",
    "- Explain when to use for loops and while loops."
   ]
  },
  {
   "cell_type": "markdown",
   "metadata": {
    "slideshow": {
     "slide_type": "slide"
    }
   },
   "source": [
    "Programmers should be lazy.\n",
    "\n",
    "Looping allows us to be lazy."
   ]
  },
  {
   "cell_type": "markdown",
   "metadata": {
    "slideshow": {
     "slide_type": "slide"
    }
   },
   "source": [
    "<center><h2>Repeated execution</h2></center>\n",
    "\n",
    "Most of the programming you will do involves applying operations to data, which means operating on data elements one by one. This means we need to be able to repeat instructions,\n",
    "\n"
   ]
  },
  {
   "cell_type": "markdown",
   "metadata": {
    "slideshow": {
     "slide_type": "slide"
    }
   },
   "source": [
    "<center><h2>Let's make a function that sums</h2></center>\n",
    "\n",
    "$$ total = \\sum_{i=1}^n a_i = a_1 + a_2 + a_3 + … + a_n$$"
   ]
  },
  {
   "cell_type": "markdown",
   "metadata": {},
   "source": [
    "for\n",
    "------\n",
    "\n",
    "`for` should be called  \"for each loop\" "
   ]
  },
  {
   "cell_type": "code",
   "execution_count": null,
   "metadata": {
    "slideshow": {
     "slide_type": "slide"
    }
   },
   "outputs": [],
   "source": [
    "# Get working code\n",
    "\n",
    "data = [6, 49, 27, 30, 19, 21, 12, 22, 21]\n",
    "total = 0\n",
    "for d in data:\n",
    "    total = total + d\n",
    "\n",
    "total"
   ]
  },
  {
   "cell_type": "markdown",
   "metadata": {
    "slideshow": {
     "slide_type": "slide"
    }
   },
   "source": [
    "How can we test that? "
   ]
  },
  {
   "cell_type": "code",
   "execution_count": null,
   "metadata": {
    "slideshow": {
     "slide_type": "fragment"
    }
   },
   "outputs": [],
   "source": [
    "assert sum(data) == 207"
   ]
  },
  {
   "cell_type": "code",
   "execution_count": null,
   "metadata": {
    "slideshow": {
     "slide_type": "slide"
    }
   },
   "outputs": [],
   "source": [
    "# Accumulator pattern \n",
    "\n",
    "data = [6, 49, 27, 30, 19, 21, 12, 22, 21]\n",
    "total = 0\n",
    "for d in data:\n",
    "    total += d\n",
    "\n",
    "total"
   ]
  },
  {
   "cell_type": "code",
   "execution_count": null,
   "metadata": {
    "slideshow": {
     "slide_type": "slide"
    }
   },
   "outputs": [],
   "source": [
    "# Wrap it up in a function\n",
    "\n",
    "from typing import List\n",
    "\n",
    "def total(nums: List[float]) -> float:\n",
    "    \"Given a list of numbers, return the sum.\"\n",
    "    total = 0\n",
    "    for n in nums:\n",
    "        total = total + n\n",
    "\n",
    "    return total\n",
    "\n",
    "nums = [6, 49, 27, 30, 19, 21, 12, 22, 21]\n",
    "assert total(nums) == sum(nums)"
   ]
  },
  {
   "cell_type": "code",
   "execution_count": null,
   "metadata": {
    "slideshow": {
     "slide_type": "skip"
    }
   },
   "outputs": [],
   "source": [
    "# Let's test edge case\n",
    "nums = [.1, .1, .1]\n",
    "\n",
    "assert total(nums) == sum(nums)"
   ]
  },
  {
   "cell_type": "code",
   "execution_count": null,
   "metadata": {
    "slideshow": {
     "slide_type": "skip"
    }
   },
   "outputs": [],
   "source": [
    "# Watch out for numerical percision\n",
    "sum(nums)"
   ]
  },
  {
   "cell_type": "code",
   "execution_count": null,
   "metadata": {
    "slideshow": {
     "slide_type": "skip"
    }
   },
   "outputs": [],
   "source": [
    "from fractions import Fraction\n",
    "\n",
    "sum([Fraction(1, 10), Fraction(1, 10), Fraction(1, 10)])   "
   ]
  },
  {
   "cell_type": "code",
   "execution_count": null,
   "metadata": {},
   "outputs": [],
   "source": []
  },
  {
   "cell_type": "code",
   "execution_count": 1,
   "metadata": {
    "slideshow": {
     "slide_type": "fragment"
    }
   },
   "outputs": [
    {
     "name": "stdout",
     "output_type": "stream",
     "text": [
      "0\n"
     ]
    }
   ],
   "source": [
    "data = [42, 3, 1]\n",
    "product = 0\n",
    "\n",
    "for d in data:\n",
    "    product *= d\n",
    "    \n",
    "print(product)"
   ]
  },
  {
   "cell_type": "markdown",
   "metadata": {
    "slideshow": {
     "slide_type": "fragment"
    }
   },
   "source": [
    "There is a semantic error in my code. What is it?"
   ]
  },
  {
   "cell_type": "code",
   "execution_count": null,
   "metadata": {
    "slideshow": {
     "slide_type": "slide"
    }
   },
   "outputs": [],
   "source": [
    "data = [42, 3, 1]\n",
    "product = 1 # Seed accumulator with multiplication identity\n",
    "\n",
    "for d in data:\n",
    "    product *= d\n",
    "    \n",
    "print(product)\n",
    " "
   ]
  },
  {
   "cell_type": "markdown",
   "metadata": {},
   "source": [
    "Looping over strings\n",
    "-----"
   ]
  },
  {
   "cell_type": "code",
   "execution_count": 9,
   "metadata": {},
   "outputs": [
    {
     "name": "stdout",
     "output_type": "stream",
     "text": [
      "L\n",
      "a\n",
      "m\n",
      "b\n",
      "d\n",
      "a\n"
     ]
    }
   ],
   "source": [
    "for c in \"Lambda\":\n",
    "    print(c)"
   ]
  },
  {
   "cell_type": "markdown",
   "metadata": {},
   "source": [
    "Looping over numbers\n",
    "-----"
   ]
  },
  {
   "cell_type": "code",
   "execution_count": null,
   "metadata": {
    "slideshow": {
     "slide_type": "slide"
    }
   },
   "outputs": [],
   "source": [
    " for _ in range(5):\n",
    "    print(\"Hello\")"
   ]
  },
  {
   "cell_type": "markdown",
   "metadata": {
    "slideshow": {
     "slide_type": "slide"
    }
   },
   "source": [
    "(`range(n)` goes from 0 to `n`-1)"
   ]
  },
  {
   "cell_type": "markdown",
   "metadata": {
    "slideshow": {
     "slide_type": "slide"
    }
   },
   "source": [
    "Looping over containers\n",
    "-----"
   ]
  },
  {
   "cell_type": "code",
   "execution_count": 3,
   "metadata": {
    "slideshow": {
     "slide_type": "slide"
    }
   },
   "outputs": [
    {
     "name": "stdout",
     "output_type": "stream",
     "text": [
      "Brian\n",
      "Nithish \n",
      "Wenjie\n"
     ]
    }
   ],
   "source": [
    "for name in ['brian', 'nithish ', 'wenjie']:\n",
    "    print(name.title()) "
   ]
  },
  {
   "cell_type": "code",
   "execution_count": 5,
   "metadata": {
    "slideshow": {
     "slide_type": "slide"
    }
   },
   "outputs": [
    {
     "name": "stdout",
     "output_type": "stream",
     "text": [
      "0 Brian\n",
      "1 Nithish \n",
      "2 Wenjie\n"
     ]
    }
   ],
   "source": [
    "# Track index at the same time with enumerate\n",
    "for i, name in enumerate(['brian', 'nithish ', 'wenjie']):\n",
    "    print(i, name.title()) "
   ]
  },
  {
   "cell_type": "code",
   "execution_count": null,
   "metadata": {
    "slideshow": {
     "slide_type": "slide"
    }
   },
   "outputs": [],
   "source": [
    "# DO NOT DO THIS\n",
    "index = 0\n",
    "for element in ['brian', 'nithish ', 'wenjie']:\n",
    "    print(index, element)\n",
    "    index += 1"
   ]
  },
  {
   "cell_type": "code",
   "execution_count": 6,
   "metadata": {},
   "outputs": [
    {
     "name": "stdout",
     "output_type": "stream",
     "text": [
      "brian 42\n",
      "nithish  999\n",
      "wenjie 888\n"
     ]
    }
   ],
   "source": [
    "# Do this\n",
    "names = ['brian', 'nithish ', 'wenjie']\n",
    "numbers = [42, 999, 888]\n",
    "for name, number in zip(names, numbers):\n",
    "    print(name, number)"
   ]
  },
  {
   "cell_type": "code",
   "execution_count": 7,
   "metadata": {
    "slideshow": {
     "slide_type": "slide"
    }
   },
   "outputs": [
    {
     "name": "stdout",
     "output_type": "stream",
     "text": [
      "brian 42\n",
      "nithish  999\n",
      "wenjie 888\n"
     ]
    }
   ],
   "source": [
    "# DO NOT DO THIS\n",
    "for i in range(len(names)):\n",
    "    name = names[i]\n",
    "    number = numbers[i]\n",
    "    print(name, number)"
   ]
  },
  {
   "cell_type": "code",
   "execution_count": 9,
   "metadata": {
    "slideshow": {
     "slide_type": "slide"
    }
   },
   "outputs": [
    {
     "name": "stdout",
     "output_type": "stream",
     "text": [
      "0 brian 42\n",
      "1 nithish  999\n",
      "2 wenjie 888\n"
     ]
    }
   ],
   "source": [
    "# Yes you put things together (composability) \n",
    "\n",
    "for i, (name, number) in enumerate(zip(names, numbers)):\n",
    "    print(i, name, number)"
   ]
  },
  {
   "cell_type": "markdown",
   "metadata": {
    "slideshow": {
     "slide_type": "slide"
    }
   },
   "source": [
    "<center><h2>Student Activities</h2></center>\n",
    "\n",
    "1. Find `argmax` of `[-1, 8, 3]`. `argmax` is index of the maximum value. The answer is `1`. 8 is the largest value and it's in the second place / computer index of 1."
   ]
  },
  {
   "cell_type": "code",
   "execution_count": 10,
   "metadata": {},
   "outputs": [
    {
     "data": {
      "text/plain": [
       "1"
      ]
     },
     "execution_count": 10,
     "metadata": {},
     "output_type": "execute_result"
    }
   ],
   "source": [
    "import numpy as np\n",
    "\n",
    "np.argmax([-1, 8, 3])"
   ]
  },
  {
   "cell_type": "code",
   "execution_count": 15,
   "metadata": {
    "slideshow": {
     "slide_type": "skip"
    }
   },
   "outputs": [],
   "source": [
    "from metakernel import register_ipython_magics\n",
    "register_ipython_magics()"
   ]
  },
  {
   "cell_type": "code",
   "execution_count": 18,
   "metadata": {
    "slideshow": {
     "slide_type": "slide"
    }
   },
   "outputs": [
    {
     "name": "stdout",
     "output_type": "stream",
     "text": [
      "1\n"
     ]
    }
   ],
   "source": [
    "# %%tutor\n",
    "\n",
    "nums = [-1, 8, 3]\n",
    "\n",
    "max_value = nums[0]\n",
    "argmax = 0\n",
    "\n",
    "for i, v in enumerate(nums):\n",
    "    if v > max_value:\n",
    "        argmax = i\n",
    "        max_value = v\n",
    "print(argmax)\n"
   ]
  },
  {
   "cell_type": "markdown",
   "metadata": {
    "slideshow": {
     "slide_type": "slide"
    }
   },
   "source": [
    "<center><h2>while loops</h2></center>\n",
    "\n",
    "Should be called keep-doing-while-a-condition is True"
   ]
  },
  {
   "cell_type": "code",
   "execution_count": 5,
   "metadata": {
    "slideshow": {
     "slide_type": "slide"
    }
   },
   "outputs": [
    {
     "name": "stdout",
     "output_type": "stream",
     "text": [
      "5\n",
      "4\n",
      "3\n",
      "2\n",
      "1\n",
      "Blastoff 🚀\n"
     ]
    }
   ],
   "source": [
    "count_down = 5\n",
    "\n",
    "while count_down > 0:\n",
    "    print(count_down)\n",
    "    count_down -= 1\n",
    "    \n",
    "print(\"Blastoff 🚀\")"
   ]
  },
  {
   "cell_type": "code",
   "execution_count": 6,
   "metadata": {
    "slideshow": {
     "slide_type": "slide"
    }
   },
   "outputs": [
    {
     "name": "stdout",
     "output_type": "stream",
     "text": [
      "5\n",
      "4\n",
      "3\n",
      "2\n",
      "1\n",
      "Blastoff 🚀\n"
     ]
    }
   ],
   "source": [
    " count_down = 5\n",
    "\n",
    "while count_down > 0:\n",
    "    print(count_down)\n",
    "    count_down -= 1\n",
    "else:\n",
    "    print(\"Blastoff 🚀\")"
   ]
  },
  {
   "cell_type": "markdown",
   "metadata": {
    "slideshow": {
     "slide_type": "slide"
    }
   },
   "source": [
    "Important Looping Rule #1\n",
    "-----\n",
    "\n",
    "Since for-loops are finite, all for loops can be written as while loops.\n",
    "\n",
    "1. Initialize a counter\n",
    "1. Test if counter has reached upper limit\n",
    "1. Increment counter (or loop will be infinite)\n",
    "\n"
   ]
  },
  {
   "cell_type": "code",
   "execution_count": 7,
   "metadata": {
    "slideshow": {
     "slide_type": "slide"
    }
   },
   "outputs": [
    {
     "name": "stdout",
     "output_type": "stream",
     "text": [
      "5\n",
      "4\n",
      "3\n",
      "2\n",
      "1\n",
      "Blastoff 🚀\n"
     ]
    }
   ],
   "source": [
    "for count_down in range(5, 0, -1):\n",
    "    print(count_down)\n",
    "else:\n",
    "    print(\"Blastoff 🚀\")"
   ]
  },
  {
   "cell_type": "markdown",
   "metadata": {
    "slideshow": {
     "slide_type": "slide"
    }
   },
   "source": [
    "Important Looping Rule #2\n",
    "-----\n",
    "\n",
    "Since while loops can be infinite, not all while loops can be written as for loops"
   ]
  },
  {
   "cell_type": "code",
   "execution_count": 11,
   "metadata": {
    "slideshow": {
     "slide_type": "slide"
    }
   },
   "outputs": [],
   "source": [
    "# while True:\n",
    "#     print(\"👋\")"
   ]
  },
  {
   "cell_type": "markdown",
   "metadata": {
    "slideshow": {
     "slide_type": "slide"
    }
   },
   "source": [
    "Summary\n",
    "---\n",
    "\n",
    "- `for` loops are fundamental but powerful.\n",
    "- Let Python do the work by looping over any iterable.\n",
    "- Let Python do the work by letting enumerate track indices.\n",
    "- Accumulator can be apply to any operator {-, +, *, /, //, &, ^, ...}\n",
    "- Generally use for loops; Use `while` loops if you do know finite number."
   ]
  },
  {
   "cell_type": "markdown",
   "metadata": {
    "slideshow": {
     "slide_type": "slide"
    }
   },
   "source": [
    " "
   ]
  }
 ],
 "metadata": {
  "celltoolbar": "Slideshow",
  "kernelspec": {
   "display_name": "Python 3",
   "language": "python",
   "name": "python3"
  },
  "language_info": {
   "codemirror_mode": {
    "name": "ipython",
    "version": 3
   },
   "file_extension": ".py",
   "mimetype": "text/x-python",
   "name": "python",
   "nbconvert_exporter": "python",
   "pygments_lexer": "ipython3",
   "version": "3.7.3"
  },
  "toc": {
   "base_numbering": 1,
   "nav_menu": {},
   "number_sections": false,
   "sideBar": false,
   "skip_h1_title": false,
   "title_cell": "Table of Contents",
   "title_sidebar": "Contents",
   "toc_cell": true,
   "toc_position": {},
   "toc_section_display": true,
   "toc_window_display": false
  }
 },
 "nbformat": 4,
 "nbformat_minor": 2
}
