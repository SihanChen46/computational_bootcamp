{
 "cells": [
  {
   "cell_type": "markdown",
   "metadata": {
    "slideshow": {
     "slide_type": "skip"
    },
    "toc": true
   },
   "source": [
    "<h1>Table of Contents<span class=\"tocSkip\"></span></h1>\n",
    "<div class=\"toc\"><ul class=\"toc-item\"><li><span><a href=\"#Looping-in-Python\" data-toc-modified-id=\"Looping-in-Python-1\">Looping in Python</a></span><ul class=\"toc-item\"><li><ul class=\"toc-item\"><li><span><a href=\"#By-the-end-of-this-session,-you-should-be-able-to:\" data-toc-modified-id=\"By-the-end-of-this-session,-you-should-be-able-to:-1.0.1\">By the end of this session, you should be able to:</a></span></li></ul></li></ul></li><li><span><a href=\"#Why-looping?\" data-toc-modified-id=\"Why-looping?-2\">Why looping?</a></span></li><li><span><a href=\"#Repeated-execution\" data-toc-modified-id=\"Repeated-execution-3\">Repeated execution</a></span></li><li><span><a href=\"#Let's-make-a-function-that-sums\" data-toc-modified-id=\"Let's-make-a-function-that-sums-4\">Let's make a function that sums</a></span></li><li><span><a href=\"#for-loops\" data-toc-modified-id=\"for-loops-5\">for loops</a></span></li><li><span><a href=\"#Looping-over-strings\" data-toc-modified-id=\"Looping-over-strings-6\">Looping over strings</a></span></li><li><span><a href=\"#Looping-over-numbers\" data-toc-modified-id=\"Looping-over-numbers-7\">Looping over numbers</a></span></li><li><span><a href=\"#Looping-over-containers\" data-toc-modified-id=\"Looping-over-containers-8\">Looping over containers</a></span></li><li><span><a href=\"#Student-Activities\" data-toc-modified-id=\"Student-Activities-9\">Student Activities</a></span></li><li><span><a href=\"#while-loops\" data-toc-modified-id=\"while-loops-10\">while loops</a></span></li><li><span><a href=\"#Important-Looping-Rule-#1\" data-toc-modified-id=\"Important-Looping-Rule-#1-11\">Important Looping Rule #1</a></span></li><li><span><a href=\"#Important-Looping-Rule-#2\" data-toc-modified-id=\"Important-Looping-Rule-#2-12\">Important Looping Rule #2</a></span></li><li><span><a href=\"#Summary\" data-toc-modified-id=\"Summary-13\">Summary</a></span></li></ul></div>"
   ]
  },
  {
   "cell_type": "markdown",
   "metadata": {
    "slideshow": {
     "slide_type": "slide"
    }
   },
   "source": [
    "<center><h2>Looping in Python</h2></center>\n",
    "<br>\n",
    "<center><img src=\"images/in_loop.png\" width=\"35%\"/></center>"
   ]
  },
  {
   "cell_type": "markdown",
   "metadata": {
    "slideshow": {
     "slide_type": "slide"
    }
   },
   "source": [
    "#### By the end of this session, you should be able to:\n",
    "\n",
    "- Write for loops over the following items:\n",
    "    - numbers\n",
    "    - strings\n",
    "    - containers\n",
    "- Use `enumerate` to automatically track the indices.\n",
    "- Write code using the Accumulator pattern.\n",
    "- Write while loops.\n",
    "- Explain when to use for loops and while loops."
   ]
  },
  {
   "cell_type": "markdown",
   "metadata": {
    "slideshow": {
     "slide_type": "slide"
    }
   },
   "source": [
    "Why looping?\n",
    "-----\n",
    "\n",
    "Programmers should be lazy.\n",
    "\n",
    "Looping allows us to be lazy."
   ]
  },
  {
   "cell_type": "markdown",
   "metadata": {
    "slideshow": {
     "slide_type": "slide"
    }
   },
   "source": [
    "<center><h2>Repeated execution</h2></center>\n",
    "\n",
    "Most of the programming you will do involves applying operations to data, which means operating on data elements one by one. This means we need to be able to repeat instructions,\n",
    "\n"
   ]
  },
  {
   "cell_type": "markdown",
   "metadata": {
    "slideshow": {
     "slide_type": "slide"
    }
   },
   "source": [
    "<center><h2>Let's make a function that sums</h2></center>\n",
    "\n",
    "$$ total = \\sum_{i=1}^n a_i = a_1 + a_2 + a_3 + … + a_n$$"
   ]
  },
  {
   "cell_type": "markdown",
   "metadata": {},
   "source": [
    "for loops\n",
    "------\n",
    "\n",
    "`for` should be called  \"for each loop\" "
   ]
  },
  {
   "cell_type": "code",
   "execution_count": 72,
   "metadata": {
    "slideshow": {
     "slide_type": "slide"
    }
   },
   "outputs": [
    {
     "data": {
      "text/plain": [
       "207"
      ]
     },
     "execution_count": 72,
     "metadata": {},
     "output_type": "execute_result"
    }
   ],
   "source": [
    "# Start with simple, working code\n",
    "\n",
    "data = [6, 49, 27, 30, 19, 21, 12, 22, 21]\n",
    "total = 0\n",
    "for d in data:\n",
    "    total = total + d\n",
    "\n",
    "total"
   ]
  },
  {
   "cell_type": "markdown",
   "metadata": {
    "slideshow": {
     "slide_type": "slide"
    }
   },
   "source": [
    "How can we test that? "
   ]
  },
  {
   "cell_type": "code",
   "execution_count": 51,
   "metadata": {
    "slideshow": {
     "slide_type": "fragment"
    }
   },
   "outputs": [],
   "source": [
    "assert total == 207 == sum(data)"
   ]
  },
  {
   "cell_type": "code",
   "execution_count": 27,
   "metadata": {
    "slideshow": {
     "slide_type": "slide"
    }
   },
   "outputs": [
    {
     "data": {
      "text/plain": [
       "207"
      ]
     },
     "execution_count": 27,
     "metadata": {},
     "output_type": "execute_result"
    }
   ],
   "source": [
    "# Accumulator pattern \n",
    "# Refactor working and tested code to be more elegant\n",
    "\n",
    "data = [6, 49, 27, 30, 19, 21, 12, 22, 21]\n",
    "total = 0\n",
    "for d in data:\n",
    "    total += d\n",
    "\n",
    "total"
   ]
  },
  {
   "cell_type": "code",
   "execution_count": 73,
   "metadata": {},
   "outputs": [],
   "source": [
    "assert total == sum(data) == 207"
   ]
  },
  {
   "cell_type": "code",
   "execution_count": 75,
   "metadata": {
    "slideshow": {
     "slide_type": "slide"
    }
   },
   "outputs": [],
   "source": [
    "# Wrap it up in a function\n",
    "\n",
    "from typing import List\n",
    "\n",
    "def total(nums: List[float]) -> float:\n",
    "    \"Given a list of numbers, return the sum.\"\n",
    "    total = 0\n",
    "    for n in nums:\n",
    "        total +=  n\n",
    "\n",
    "    return total\n",
    "\n",
    "nums = [6, 49, 27, 30, 19, 21, 12, 22, 21]\n",
    "assert total(nums) == sum(nums) == 207"
   ]
  },
  {
   "cell_type": "code",
   "execution_count": 77,
   "metadata": {
    "slideshow": {
     "slide_type": "skip"
    }
   },
   "outputs": [
    {
     "ename": "AssertionError",
     "evalue": "",
     "output_type": "error",
     "traceback": [
      "\u001b[0;31m---------------------------------------------------------------------------\u001b[0m",
      "\u001b[0;31mAssertionError\u001b[0m                            Traceback (most recent call last)",
      "\u001b[0;32m<ipython-input-77-feb7b8a982b2>\u001b[0m in \u001b[0;36m<module>\u001b[0;34m\u001b[0m\n\u001b[1;32m      2\u001b[0m \u001b[0mnums\u001b[0m \u001b[0;34m=\u001b[0m \u001b[0;34m[\u001b[0m\u001b[0;36m.1\u001b[0m\u001b[0;34m,\u001b[0m \u001b[0;36m.1\u001b[0m\u001b[0;34m,\u001b[0m \u001b[0;36m.1\u001b[0m\u001b[0;34m]\u001b[0m\u001b[0;34m\u001b[0m\u001b[0;34m\u001b[0m\u001b[0m\n\u001b[1;32m      3\u001b[0m \u001b[0;34m\u001b[0m\u001b[0m\n\u001b[0;32m----> 4\u001b[0;31m \u001b[0;32massert\u001b[0m \u001b[0mtotal\u001b[0m\u001b[0;34m(\u001b[0m\u001b[0mnums\u001b[0m\u001b[0;34m)\u001b[0m \u001b[0;34m==\u001b[0m \u001b[0msum\u001b[0m\u001b[0;34m(\u001b[0m\u001b[0mnums\u001b[0m\u001b[0;34m)\u001b[0m \u001b[0;34m==\u001b[0m \u001b[0;36m.3\u001b[0m\u001b[0;34m\u001b[0m\u001b[0;34m\u001b[0m\u001b[0m\n\u001b[0m",
      "\u001b[0;31mAssertionError\u001b[0m: "
     ]
    }
   ],
   "source": [
    "# Let's test edge case\n",
    "nums = [.1, .1, .1]\n",
    "\n",
    "assert total(nums) == sum(nums) == .3"
   ]
  },
  {
   "cell_type": "code",
   "execution_count": 78,
   "metadata": {
    "slideshow": {
     "slide_type": "skip"
    }
   },
   "outputs": [
    {
     "data": {
      "text/plain": [
       "0.30000000000000004"
      ]
     },
     "execution_count": 78,
     "metadata": {},
     "output_type": "execute_result"
    }
   ],
   "source": [
    "# Watch out for numerical percision\n",
    "sum(nums)"
   ]
  },
  {
   "cell_type": "code",
   "execution_count": 54,
   "metadata": {
    "slideshow": {
     "slide_type": "skip"
    }
   },
   "outputs": [
    {
     "data": {
      "text/plain": [
       "Fraction(3, 10)"
      ]
     },
     "execution_count": 54,
     "metadata": {},
     "output_type": "execute_result"
    }
   ],
   "source": [
    "from fractions import Fraction\n",
    "\n",
    "sum([Fraction(1, 10), Fraction(1, 10), Fraction(1, 10)])   "
   ]
  },
  {
   "cell_type": "code",
   "execution_count": 79,
   "metadata": {},
   "outputs": [
    {
     "data": {
      "text/plain": [
       "0.3"
      ]
     },
     "execution_count": 79,
     "metadata": {},
     "output_type": "execute_result"
    }
   ],
   "source": [
    "float(Fraction(3, 10))"
   ]
  },
  {
   "cell_type": "code",
   "execution_count": 55,
   "metadata": {
    "slideshow": {
     "slide_type": "fragment"
    }
   },
   "outputs": [
    {
     "name": "stdout",
     "output_type": "stream",
     "text": [
      "0\n"
     ]
    }
   ],
   "source": [
    "# Accumulator pattern extends to any operator\n",
    "data = [42, 3, 1]\n",
    "product = 0\n",
    "\n",
    "for d in data:\n",
    "    product *= d\n",
    "    \n",
    "print(product)"
   ]
  },
  {
   "cell_type": "markdown",
   "metadata": {
    "slideshow": {
     "slide_type": "fragment"
    }
   },
   "source": [
    "There is a semantic error in my code. What is it?"
   ]
  },
  {
   "cell_type": "code",
   "execution_count": 56,
   "metadata": {
    "slideshow": {
     "slide_type": "slide"
    }
   },
   "outputs": [
    {
     "name": "stdout",
     "output_type": "stream",
     "text": [
      "126\n"
     ]
    }
   ],
   "source": [
    "data = [42, 3, 1]\n",
    "product = 1 # Seed accumulator with multiplication identity\n",
    "\n",
    "for d in data:\n",
    "    product *= d\n",
    "    \n",
    "print(product)\n"
   ]
  },
  {
   "cell_type": "code",
   "execution_count": 57,
   "metadata": {},
   "outputs": [],
   "source": [
    "def my_product(nums):\n",
    "    product = 1 # Seed accumulator with multiplication identity\n",
    "\n",
    "    for d in data:\n",
    "        product *= d\n",
    "    \n",
    "    return product"
   ]
  },
  {
   "cell_type": "code",
   "execution_count": 58,
   "metadata": {},
   "outputs": [],
   "source": [
    "import numpy as np"
   ]
  },
  {
   "cell_type": "code",
   "execution_count": 60,
   "metadata": {},
   "outputs": [],
   "source": [
    "assert my_product([42, 3, 1]) == np.product([42, 3, 1])"
   ]
  },
  {
   "cell_type": "markdown",
   "metadata": {},
   "source": [
    "Looping over strings\n",
    "-----"
   ]
  },
  {
   "cell_type": "code",
   "execution_count": 61,
   "metadata": {},
   "outputs": [
    {
     "name": "stdout",
     "output_type": "stream",
     "text": [
      "L\n",
      "a\n",
      "m\n",
      "b\n",
      "d\n",
      "a\n"
     ]
    }
   ],
   "source": [
    "for c in \"Lambda\":\n",
    "    print(c)"
   ]
  },
  {
   "cell_type": "markdown",
   "metadata": {},
   "source": [
    "Looping over numbers\n",
    "-----"
   ]
  },
  {
   "cell_type": "code",
   "execution_count": 62,
   "metadata": {},
   "outputs": [
    {
     "name": "stdout",
     "output_type": "stream",
     "text": [
      "0\n",
      "1\n",
      "2\n",
      "3\n",
      "4\n"
     ]
    }
   ],
   "source": [
    "for n in range(5):\n",
    "    print(n)"
   ]
  },
  {
   "cell_type": "markdown",
   "metadata": {
    "slideshow": {
     "slide_type": "slide"
    }
   },
   "source": [
    "`range(n)` goes from 0 to `n`-1"
   ]
  },
  {
   "cell_type": "code",
   "execution_count": 80,
   "metadata": {
    "slideshow": {
     "slide_type": "slide"
    }
   },
   "outputs": [
    {
     "name": "stdout",
     "output_type": "stream",
     "text": [
      "Hello\n",
      "Hello\n",
      "Hello\n",
      "Hello\n",
      "Hello\n"
     ]
    }
   ],
   "source": [
    "# Same pattern for repeating operations\n",
    "# Note: fixed, predetermined number of times\n",
    "for _ in range(5):\n",
    "    print(\"Hello\")"
   ]
  },
  {
   "cell_type": "markdown",
   "metadata": {
    "slideshow": {
     "slide_type": "slide"
    }
   },
   "source": [
    "Looping over containers\n",
    "-----"
   ]
  },
  {
   "cell_type": "code",
   "execution_count": 36,
   "metadata": {
    "slideshow": {
     "slide_type": "slide"
    }
   },
   "outputs": [
    {
     "name": "stdout",
     "output_type": "stream",
     "text": [
      "Brian\n",
      "Nithish \n",
      "Wenjie\n"
     ]
    }
   ],
   "source": [
    "for name in ['brian', 'nithish ', 'wenjie']:\n",
    "    print(name.title()) "
   ]
  },
  {
   "cell_type": "code",
   "execution_count": 63,
   "metadata": {
    "slideshow": {
     "slide_type": "slide"
    }
   },
   "outputs": [
    {
     "name": "stdout",
     "output_type": "stream",
     "text": [
      "0 Brian\n",
      "1 Nithish \n",
      "2 Wenjie\n"
     ]
    }
   ],
   "source": [
    "# Track index at the same time with enumerate\n",
    "for i, name in enumerate(['brian', 'nithish ', 'wenjie']):\n",
    "    print(i, name.title()) "
   ]
  },
  {
   "cell_type": "code",
   "execution_count": 38,
   "metadata": {
    "slideshow": {
     "slide_type": "slide"
    }
   },
   "outputs": [
    {
     "name": "stdout",
     "output_type": "stream",
     "text": [
      "0 brian\n",
      "1 nithish \n",
      "2 wenjie\n"
     ]
    }
   ],
   "source": [
    "# DO NOT DO THIS\n",
    "index = 0\n",
    "for element in ['brian', 'nithish ', 'wenjie']:\n",
    "    print(index, element)\n",
    "    index += 1"
   ]
  },
  {
   "cell_type": "code",
   "execution_count": 64,
   "metadata": {},
   "outputs": [
    {
     "name": "stdout",
     "output_type": "stream",
     "text": [
      "brian 42\n",
      "nithish  999\n",
      "wenjie 888\n"
     ]
    }
   ],
   "source": [
    "# Do this\n",
    "names = ['brian', 'nithish ', 'wenjie']\n",
    "numbers = [42, 999, 888]\n",
    "for name, number in zip(names, numbers):\n",
    "    print(name, number)"
   ]
  },
  {
   "cell_type": "code",
   "execution_count": 40,
   "metadata": {
    "slideshow": {
     "slide_type": "slide"
    }
   },
   "outputs": [
    {
     "name": "stdout",
     "output_type": "stream",
     "text": [
      "brian 42\n",
      "nithish  999\n",
      "wenjie 888\n"
     ]
    }
   ],
   "source": [
    "# DO NOT DO THIS\n",
    "for i in range(len(names)):\n",
    "    name = names[i]\n",
    "    number = numbers[i]\n",
    "    print(name, number)"
   ]
  },
  {
   "cell_type": "code",
   "execution_count": 41,
   "metadata": {
    "slideshow": {
     "slide_type": "slide"
    }
   },
   "outputs": [
    {
     "name": "stdout",
     "output_type": "stream",
     "text": [
      "0 brian 42\n",
      "1 nithish  999\n",
      "2 wenjie 888\n"
     ]
    }
   ],
   "source": [
    "# Yes you put things together (composability) \n",
    "\n",
    "for i, (name, number) in enumerate(zip(names, numbers)):\n",
    "    print(i, name, number)"
   ]
  },
  {
   "cell_type": "markdown",
   "metadata": {
    "slideshow": {
     "slide_type": "slide"
    }
   },
   "source": [
    "<center><h2>Student Activities</h2></center>\n",
    "\n",
    "1. Find `argmax` of `[-1, 8, 3]`. `argmax` is index of the maximum value. The answer is `1`. 8 is the largest value and it's in the second place / computer index of 1."
   ]
  },
  {
   "cell_type": "code",
   "execution_count": 42,
   "metadata": {},
   "outputs": [
    {
     "data": {
      "text/plain": [
       "1"
      ]
     },
     "execution_count": 42,
     "metadata": {},
     "output_type": "execute_result"
    }
   ],
   "source": [
    "import numpy as np\n",
    "\n",
    "np.argmax([-1, 8, 3])"
   ]
  },
  {
   "cell_type": "code",
   "execution_count": 67,
   "metadata": {},
   "outputs": [],
   "source": [
    "# ! pip install metakernel"
   ]
  },
  {
   "cell_type": "code",
   "execution_count": 43,
   "metadata": {
    "slideshow": {
     "slide_type": "skip"
    }
   },
   "outputs": [],
   "source": [
    "from metakernel import register_ipython_magics\n",
    "register_ipython_magics()"
   ]
  },
  {
   "cell_type": "code",
   "execution_count": 44,
   "metadata": {
    "slideshow": {
     "slide_type": "slide"
    }
   },
   "outputs": [
    {
     "data": {
      "text/html": [
       "\n",
       "        <iframe\n",
       "            width=\"100%\"\n",
       "            height=\"500\"\n",
       "            src=\"https://pythontutor.com/iframe-embed.html#code=%0Anums%20%3D%20%5B-1%2C%208%2C%203%5D%0A%0Amax_value%20%3D%20nums%5B0%5D%0Aargmax%20%3D%200%0A%0Afor%20i%2C%20n%20in%20enumerate%28nums%29%3A%0A%20%20%20%20if%20n%20%3E%20max_value%3A%0A%20%20%20%20%20%20%20%20argmax%20%3D%20i%0A%20%20%20%20%20%20%20%20max_value%20%3D%20n%0A%0Aprint%28argmax%29%0A&origin=opt-frontend.js&cumulative=false&heapPrimitives=false&textReferences=false&py=3&rawInputLstJSON=%5B%5D&curInstr=0&codeDivWidth=350&codeDivHeight=400\"\n",
       "            frameborder=\"0\"\n",
       "            allowfullscreen\n",
       "        ></iframe>\n",
       "        "
      ],
      "text/plain": [
       "<IPython.lib.display.IFrame at 0x11491c5c0>"
      ]
     },
     "metadata": {},
     "output_type": "display_data"
    }
   ],
   "source": [
    "%%tutor\n",
    "\n",
    "nums = [-1, 8, 3]\n",
    "\n",
    "max_value = nums[0]\n",
    "argmax = 0\n",
    "\n",
    "for i, n in enumerate(nums):\n",
    "    if n > max_value:\n",
    "        argmax = i\n",
    "        max_value = n\n",
    "\n",
    "print(argmax)"
   ]
  },
  {
   "cell_type": "markdown",
   "metadata": {
    "slideshow": {
     "slide_type": "slide"
    }
   },
   "source": [
    "<center><h2>while loops</h2></center>\n",
    "\n",
    "`while` should be called while-a-condition-is-true-keep-doing"
   ]
  },
  {
   "cell_type": "code",
   "execution_count": 68,
   "metadata": {
    "slideshow": {
     "slide_type": "slide"
    }
   },
   "outputs": [
    {
     "name": "stdout",
     "output_type": "stream",
     "text": [
      "5\n",
      "4\n",
      "3\n",
      "2\n",
      "1\n",
      "Blastoff 🚀\n"
     ]
    }
   ],
   "source": [
    "count_down = 5\n",
    "\n",
    "while count_down > 0:\n",
    "    print(count_down)\n",
    "    count_down -= 1\n",
    "    \n",
    "print(\"Blastoff 🚀\")"
   ]
  },
  {
   "cell_type": "code",
   "execution_count": 46,
   "metadata": {
    "slideshow": {
     "slide_type": "slide"
    }
   },
   "outputs": [
    {
     "name": "stdout",
     "output_type": "stream",
     "text": [
      "5\n",
      "4\n",
      "3\n",
      "2\n",
      "1\n",
      "Blastoff 🚀\n"
     ]
    }
   ],
   "source": [
    "count_down = 5\n",
    "\n",
    "while count_down > 0:\n",
    "    print(count_down)\n",
    "    count_down -= 1\n",
    "else:\n",
    "    print(\"Blastoff 🚀\")"
   ]
  },
  {
   "cell_type": "markdown",
   "metadata": {},
   "source": [
    "`while` loops can be used in data science for machine learning training.\n",
    "\n",
    "```python\n",
    "model_not_good_enough = True\n",
    "\n",
    "while model_not_good_enough:\n",
    "    results = train_model()\n",
    "    if results >= threshold:\n",
    "           model_not_good_enough = False\n",
    "```"
   ]
  },
  {
   "cell_type": "markdown",
   "metadata": {
    "slideshow": {
     "slide_type": "slide"
    }
   },
   "source": [
    "Important Looping Rule #1\n",
    "-----\n",
    "\n",
    "Since for-loops are finite, all for loops can be written as while loops.\n",
    "\n",
    "Steps to change a `for` loop to a `while` loop:\n",
    "\n",
    "1. Initialize a counter\n",
    "1. Test if counter has reached limit\n",
    "1. Change counter to go towards limit (or loop will be infinite)\n",
    "\n"
   ]
  },
  {
   "cell_type": "code",
   "execution_count": 81,
   "metadata": {
    "slideshow": {
     "slide_type": "slide"
    }
   },
   "outputs": [
    {
     "name": "stdout",
     "output_type": "stream",
     "text": [
      "5\n",
      "4\n",
      "3\n",
      "2\n",
      "1\n",
      "Blastoff 🚀\n"
     ]
    }
   ],
   "source": [
    "for count_down in range(5, 0, -1):\n",
    "    print(count_down)\n",
    "else:\n",
    "    print(\"Blastoff 🚀\")"
   ]
  },
  {
   "cell_type": "code",
   "execution_count": 83,
   "metadata": {},
   "outputs": [
    {
     "name": "stdout",
     "output_type": "stream",
     "text": [
      "5\n",
      "4\n",
      "3\n",
      "2\n",
      "1\n",
      "Blastoff 🚀\n"
     ]
    }
   ],
   "source": [
    "count_down = 5\n",
    "while count_down > 0:\n",
    "    print(count_down)\n",
    "    count_down -= 1\n",
    "else:\n",
    "    print(\"Blastoff 🚀\")"
   ]
  },
  {
   "cell_type": "markdown",
   "metadata": {
    "slideshow": {
     "slide_type": "slide"
    }
   },
   "source": [
    "Important Looping Rule #2\n",
    "-----\n",
    "\n",
    "Since while loops can be infinite, __not__ all `while` loops can be written as `for` loops"
   ]
  },
  {
   "cell_type": "code",
   "execution_count": 84,
   "metadata": {
    "slideshow": {
     "slide_type": "slide"
    }
   },
   "outputs": [],
   "source": [
    "# This can't not be written as a for loop\n",
    "\n",
    "# while True:\n",
    "#     print(\"👋\")"
   ]
  },
  {
   "cell_type": "markdown",
   "metadata": {
    "slideshow": {
     "slide_type": "slide"
    }
   },
   "source": [
    "Summary\n",
    "----\n",
    "\n",
    "- `for` loops are fundamental but powerful.\n",
    "- Let Python do the work by:\n",
    "    - Automatic looping over any iterable.\n",
    "    - `enumerate` tracks indices.\n",
    "    - `zip` pairs iterables.\n",
    "- Accumulator can be apply to any operator {-, +, *, /, //, &, ^, ...}\n",
    "- Generally use for loops; Use `while` loops do not know the finite number of passes at the start of the loop or if you want an potentially infinite loop."
   ]
  },
  {
   "cell_type": "markdown",
   "metadata": {
    "slideshow": {
     "slide_type": "slide"
    }
   },
   "source": [
    " "
   ]
  }
 ],
 "metadata": {
  "kernelspec": {
   "display_name": "Python 3",
   "language": "python",
   "name": "python3"
  },
  "language_info": {
   "codemirror_mode": {
    "name": "ipython",
    "version": 3
   },
   "file_extension": ".py",
   "mimetype": "text/x-python",
   "name": "python",
   "nbconvert_exporter": "python",
   "pygments_lexer": "ipython3",
   "version": "3.7.3"
  },
  "toc": {
   "base_numbering": 1,
   "nav_menu": {},
   "number_sections": false,
   "sideBar": false,
   "skip_h1_title": false,
   "title_cell": "Table of Contents",
   "title_sidebar": "Contents",
   "toc_cell": true,
   "toc_position": {},
   "toc_section_display": true,
   "toc_window_display": false
  }
 },
 "nbformat": 4,
 "nbformat_minor": 2
}
