{
 "cells": [
  {
   "cell_type": "markdown",
   "metadata": {
    "slideshow": {
     "slide_type": "skip"
    },
    "toc": true
   },
   "source": [
    "<h1>Table of Contents<span class=\"tocSkip\"></span></h1>\n",
    "<div class=\"toc\"><ul class=\"toc-item\"><li><span><a href=\"#Review-of-Python-Functions\" data-toc-modified-id=\"Review-of-Python-Functions-1\">Review of Python Functions</a></span></li><li><span><a href=\"#Python-functions-can-have-2-types-of-arguments\" data-toc-modified-id=\"Python-functions-can-have-2-types-of-arguments-2\">Python functions can have 2 types of arguments</a></span></li><li><span><a href=\"#Complex-number-numbers-in-Python\" data-toc-modified-id=\"Complex-number-numbers-in-Python-3\">Complex number numbers in Python</a></span></li><li><span><a href=\"#Positional-argument\" data-toc-modified-id=\"Positional-argument-4\">Positional argument</a></span></li><li><span><a href=\"#Keyword-argument\" data-toc-modified-id=\"Keyword-argument-5\">Keyword argument</a></span></li><li><span><a href=\"#Keywords-Arguments->-Positional-Arguments\" data-toc-modified-id=\"Keywords-Arguments->-Positional-Arguments-6\">Keywords Arguments &gt; Positional Arguments</a></span></li><li><span><a href=\"#Argument-Unpacking\" data-toc-modified-id=\"Argument-Unpacking-7\">Argument Unpacking</a></span></li><li><span><a href=\"#Argument-Defaults\" data-toc-modified-id=\"Argument-Defaults-8\">Argument Defaults</a></span></li><li><span><a href=\"#Functional-Sandwich\" data-toc-modified-id=\"Functional-Sandwich-9\">Functional Sandwich</a></span></li><li><span><a href=\"#-Summary\" data-toc-modified-id=\"-Summary-10\"> Summary</a></span></li></ul></div>"
   ]
  },
  {
   "cell_type": "markdown",
   "metadata": {
    "slideshow": {
     "slide_type": "slide"
    }
   },
   "source": [
    "Review of Python Functions\n",
    "-----\n",
    "\n",
    "If you need to do something more than once, write a function.\n",
    "\n",
    "Functions are a self-contain group of code.\n",
    "\n",
    "Function take in parameters (nouns) do something (verbs) and return something (noun)."
   ]
  },
  {
   "cell_type": "markdown",
   "metadata": {
    "slideshow": {
     "slide_type": "slide"
    }
   },
   "source": [
    "<center><h2>Python functions can have 2 types of arguments</h2></center>\n",
    "\n",
    "- Keyword argument\n",
    "- Positional argument"
   ]
  },
  {
   "cell_type": "markdown",
   "metadata": {},
   "source": [
    "[ Read more in Python docs](https://docs.python.org/3/glossary.html)"
   ]
  },
  {
   "cell_type": "markdown",
   "metadata": {
    "slideshow": {
     "slide_type": "fragment"
    }
   },
   "source": [
    "<center>\"Smart data structures and dumb code works a lot better than the other way around.\"</center>"
   ]
  },
  {
   "cell_type": "markdown",
   "metadata": {
    "slideshow": {
     "slide_type": "slide"
    }
   },
   "source": [
    "<center><h2>Complex number numbers in Python</h2></center>\n",
    "\n",
    "<center><img src=\"https://upload.wikimedia.org/wikipedia/commons/thumb/a/af/Complex_number_illustration.svg/220px-Complex_number_illustration.svg.png\" width=\"35%\"/></center>\n",
    "\n"
   ]
  },
  {
   "cell_type": "markdown",
   "metadata": {
    "slideshow": {
     "slide_type": "fragment"
    }
   },
   "source": [
    "[Create complex number in Python](https://docs.python.org/3/library/functions.html#complex)"
   ]
  },
  {
   "cell_type": "markdown",
   "metadata": {
    "slideshow": {
     "slide_type": "skip"
    }
   },
   "source": [
    "A quick way to represent Cartesian points and calculate elucidation distance in Python."
   ]
  },
  {
   "cell_type": "code",
   "execution_count": null,
   "metadata": {
    "slideshow": {
     "slide_type": "slide"
    }
   },
   "outputs": [],
   "source": [
    " complex(9, 8)"
   ]
  },
  {
   "cell_type": "markdown",
   "metadata": {},
   "source": [
    "Positional argument\n",
    "----\n",
    "\n",
    "A series of items given to a function in a specific order.\n",
    "\n",
    "Not great because ambiguous. It is implicit what each argument means."
   ]
  },
  {
   "cell_type": "code",
   "execution_count": null,
   "metadata": {
    "slideshow": {
     "slide_type": "fragment"
    }
   },
   "outputs": [],
   "source": [
    " complex(real=9, imag=8)"
   ]
  },
  {
   "cell_type": "markdown",
   "metadata": {},
   "source": [
    "Keyword argument\n",
    "-----\n",
    "\n",
    "An argument preceded by an identifier (e.g. name=) in a function call.\n",
    "\n",
    "Much better. Is more explicit and clear about what is going. It communicates the intention of the code.\n",
    "\n",
    "Keyword argument should be your standard way of writing code."
   ]
  },
  {
   "cell_type": "code",
   "execution_count": null,
   "metadata": {
    "slideshow": {
     "slide_type": "fragment"
    }
   },
   "outputs": [],
   "source": [
    "complex(8, 9)"
   ]
  },
  {
   "cell_type": "code",
   "execution_count": null,
   "metadata": {
    "slideshow": {
     "slide_type": "fragment"
    }
   },
   "outputs": [],
   "source": [
    "complex(imag=8, real=9)"
   ]
  },
  {
   "cell_type": "code",
   "execution_count": 19,
   "metadata": {
    "slideshow": {
     "slide_type": "slide"
    }
   },
   "outputs": [
    {
     "name": "stdout",
     "output_type": "stream",
     "text": [
      "🐶 owns Brian.\n",
      "Brian owns 🐶.\n"
     ]
    }
   ],
   "source": [
    "# Write our own pretty print owner and pet.\n",
    "\n",
    "owner = \"Brian\"\n",
    "pet = \"🐶\"\n",
    "\n",
    "def pprint(owner, pet):\n",
    "    print(owner, ' owns ', pet, '.', \n",
    "          sep='')\n",
    "    \n",
    "pprint(\"🐶\", 'Brian')    \n",
    "# pprint(pet=\"🐶\", owner='Brian')"
   ]
  },
  {
   "cell_type": "markdown",
   "metadata": {
    "slideshow": {
     "slide_type": "slide"
    }
   },
   "source": [
    "<center><h2>Keywords Arguments > Positional Arguments</h2></center>\n"
   ]
  },
  {
   "cell_type": "markdown",
   "metadata": {},
   "source": [
    "Argument Unpacking\n",
    "-------\n"
   ]
  },
  {
   "cell_type": "code",
   "execution_count": 3,
   "metadata": {},
   "outputs": [
    {
     "data": {
      "text/plain": [
       "(3+5j)"
      ]
     },
     "execution_count": 3,
     "metadata": {},
     "output_type": "execute_result"
    }
   ],
   "source": [
    "# Postional arguments are typically lists or tuples\n",
    "args = [3, 5]\n",
    "\n",
    "complex(*args)"
   ]
  },
  {
   "cell_type": "code",
   "execution_count": 4,
   "metadata": {},
   "outputs": [
    {
     "data": {
      "text/plain": [
       "(3+5j)"
      ]
     },
     "execution_count": 4,
     "metadata": {},
     "output_type": "execute_result"
    }
   ],
   "source": [
    "# Keyword arguments are unpacked from dictionary\n",
    "kwargs = {'real': 3, 'imag': 5}\n",
    "\n",
    "complex(**kwargs)"
   ]
  },
  {
   "cell_type": "markdown",
   "metadata": {},
   "source": [
    "Argument Defaults\n",
    "-----"
   ]
  },
  {
   "cell_type": "code",
   "execution_count": 10,
   "metadata": {},
   "outputs": [],
   "source": [
    "print?"
   ]
  },
  {
   "cell_type": "code",
   "execution_count": 11,
   "metadata": {},
   "outputs": [
    {
     "name": "stdout",
     "output_type": "stream",
     "text": [
      "1 2 3\n"
     ]
    }
   ],
   "source": [
    "# print(value, ..., sep=' ', end='\\n',\n",
    "\n",
    "print(*[1, 2, 3], sep=' ')"
   ]
  },
  {
   "cell_type": "code",
   "execution_count": 12,
   "metadata": {},
   "outputs": [
    {
     "name": "stdout",
     "output_type": "stream",
     "text": [
      "1\n",
      "2\n",
      "3\n"
     ]
    }
   ],
   "source": [
    "print(*[1, 2, 3], sep='\\n')"
   ]
  },
  {
   "cell_type": "code",
   "execution_count": 13,
   "metadata": {},
   "outputs": [
    {
     "name": "stdout",
     "output_type": "stream",
     "text": [
      "1;2;2;"
     ]
    }
   ],
   "source": [
    "print(1, end=';')\n",
    "print(2, end=';')\n",
    "print(3, end=';')"
   ]
  },
  {
   "cell_type": "code",
   "execution_count": 17,
   "metadata": {},
   "outputs": [],
   "source": [
    "def pprint(owner, pet=\"🐶\"):\n",
    "    print(owner, ' owns ', pet, '.', \n",
    "          sep='')"
   ]
  },
  {
   "cell_type": "code",
   "execution_count": 19,
   "metadata": {},
   "outputs": [
    {
     "name": "stdout",
     "output_type": "stream",
     "text": [
      "Brian owns 🐶.\n"
     ]
    }
   ],
   "source": [
    "pprint(owner='Brian')"
   ]
  },
  {
   "cell_type": "markdown",
   "metadata": {
    "slideshow": {
     "slide_type": "slide"
    }
   },
   "source": [
    "<center><h2>Functional Sandwich</h2></center>\n",
    "\n",
    "Assemble complex behavior by aggregating simpler behavior.\n",
    "\n",
    "$$h(g(f(x)))$$"
   ]
  },
  {
   "cell_type": "code",
   "execution_count": 6,
   "metadata": {
    "slideshow": {
     "slide_type": "slide"
    }
   },
   "outputs": [
    {
     "data": {
      "text/plain": [
       "{nan, 2.718281828459045, 3.141592653589793, 6.283185307179586, 42, inf}"
      ]
     },
     "execution_count": 6,
     "metadata": {},
     "output_type": "execute_result"
    }
   ],
   "source": [
    "from math import e, inf, nan, pi, tau\n",
    "\n",
    "nums = [42, e, inf, nan, pi, tau, e, inf, nan, pi, tau, e, inf, nan, pi, tau, 42]\n",
    "\n",
    "set(nums)"
   ]
  },
  {
   "cell_type": "code",
   "execution_count": 7,
   "metadata": {
    "slideshow": {
     "slide_type": "fragment"
    }
   },
   "outputs": [
    {
     "data": {
      "text/plain": [
       "[nan, 2.718281828459045, 3.141592653589793, 6.283185307179586, 42, inf]"
      ]
     },
     "execution_count": 7,
     "metadata": {},
     "output_type": "execute_result"
    }
   ],
   "source": [
    "sorted(set(nums))"
   ]
  },
  {
   "cell_type": "code",
   "execution_count": 9,
   "metadata": {},
   "outputs": [
    {
     "name": "stdout",
     "output_type": "stream",
     "text": [
      "[nan, 2.718281828459045, 3.141592653589793, 6.283185307179586, 42, inf]\n"
     ]
    },
    {
     "data": {
      "text/plain": [
       "NoneType"
      ]
     },
     "execution_count": 9,
     "metadata": {},
     "output_type": "execute_result"
    }
   ],
   "source": [
    "# Don't make Dagwood sandwich\n",
    "type(print(sorted(set(nums))))"
   ]
  },
  {
   "cell_type": "markdown",
   "metadata": {},
   "source": [
    "[Dagwood sandwich](https://en.wikipedia.org/wiki/Dagwood_sandwich)"
   ]
  },
  {
   "cell_type": "markdown",
   "metadata": {
    "slideshow": {
     "slide_type": "slide"
    }
   },
   "source": [
    "<center><h2> Summary</h2></center>\n",
    "\n",
    "- Keywords arguments for functions are simple and will help readability and correctness.\n",
    "- Sandwich simple functions to create complex behavior.\n",
    "- It is hard to ~~eat~~ understand big sandwiches."
   ]
  },
  {
   "cell_type": "markdown",
   "metadata": {
    "slideshow": {
     "slide_type": "slide"
    }
   },
   "source": [
    " "
   ]
  }
 ],
 "metadata": {
  "celltoolbar": "Slideshow",
  "kernelspec": {
   "display_name": "Python 3",
   "language": "python",
   "name": "python3"
  },
  "language_info": {
   "codemirror_mode": {
    "name": "ipython",
    "version": 3
   },
   "file_extension": ".py",
   "mimetype": "text/x-python",
   "name": "python",
   "nbconvert_exporter": "python",
   "pygments_lexer": "ipython3",
   "version": "3.7.3"
  },
  "toc": {
   "base_numbering": 1,
   "nav_menu": {},
   "number_sections": false,
   "sideBar": false,
   "skip_h1_title": false,
   "title_cell": "Table of Contents",
   "title_sidebar": "Contents",
   "toc_cell": true,
   "toc_position": {},
   "toc_section_display": true,
   "toc_window_display": false
  }
 },
 "nbformat": 4,
 "nbformat_minor": 2
}
